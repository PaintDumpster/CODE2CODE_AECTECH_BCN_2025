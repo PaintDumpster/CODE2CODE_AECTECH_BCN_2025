{
  "cells": [
    {
      "cell_type": "markdown",
      "metadata": {
        "id": "Bagde-TPsx8h"
      },
      "source": [
        "# AEC Tech - IFC to Graph\n",
        "\n",
        "This notebook was developed by David Andres Leon and Olga Poletkina based on the GraphML course of the Masters in Advanced Computation for Architecture and Design of IAAC\n",
        "Macad 2025"
      ]
    },
    {
      "cell_type": "markdown",
      "metadata": {
        "id": "V5eLGiVPERFb"
      },
      "source": [
        "# 1.Connect to google drive and install libraries"
      ]
    },
    {
      "cell_type": "code",
      "execution_count": null,
      "metadata": {
        "id": "rYyHNsT_RY5B"
      },
      "outputs": [],
      "source": [
        "# in case you need to unmount drive...\n",
        "# drive.flush_and_unmount()\n"
      ]
    },
    {
      "cell_type": "code",
      "execution_count": null,
      "metadata": {
        "id": "skO6a80-agga"
      },
      "outputs": [],
      "source": [
        "# in case you need to access your drive...\n",
        "# from google.colab import drive\n",
        "# drive.mount(\"/content/drive\", force_remount=True)"
      ]
    },
    {
      "cell_type": "code",
      "execution_count": null,
      "metadata": {
        "colab": {
          "base_uri": "https://localhost:8080/"
        },
        "id": "ePBystwfxDcr",
        "outputId": "addcecd8-24f4-4484-a080-fa1912f95c89"
      },
      "outputs": [
        {
          "name": "stdout",
          "output_type": "stream",
          "text": [
            "Requirement already satisfied: ifcopenshell in /usr/local/lib/python3.11/dist-packages (0.8.2)\n",
            "Requirement already satisfied: shapely in /usr/local/lib/python3.11/dist-packages (from ifcopenshell) (2.1.1)\n",
            "Requirement already satisfied: numpy in /usr/local/lib/python3.11/dist-packages (from ifcopenshell) (2.0.2)\n",
            "Requirement already satisfied: isodate in /usr/local/lib/python3.11/dist-packages (from ifcopenshell) (0.7.2)\n",
            "Requirement already satisfied: python-dateutil in /usr/local/lib/python3.11/dist-packages (from ifcopenshell) (2.9.0.post0)\n",
            "Requirement already satisfied: lark in /usr/local/lib/python3.11/dist-packages (from ifcopenshell) (1.2.2)\n",
            "Requirement already satisfied: typing-extensions in /usr/local/lib/python3.11/dist-packages (from ifcopenshell) (4.14.0)\n",
            "Requirement already satisfied: six>=1.5 in /usr/local/lib/python3.11/dist-packages (from python-dateutil->ifcopenshell) (1.17.0)\n",
            "Requirement already satisfied: networkx in /usr/local/lib/python3.11/dist-packages (3.5)\n",
            "Requirement already satisfied: plotly in /usr/local/lib/python3.11/dist-packages (5.24.1)\n",
            "Requirement already satisfied: tenacity>=6.2.0 in /usr/local/lib/python3.11/dist-packages (from plotly) (9.1.2)\n",
            "Requirement already satisfied: packaging in /usr/local/lib/python3.11/dist-packages (from plotly) (24.2)\n",
            "Requirement already satisfied: seaborn in /usr/local/lib/python3.11/dist-packages (0.13.2)\n",
            "Requirement already satisfied: numpy!=1.24.0,>=1.20 in /usr/local/lib/python3.11/dist-packages (from seaborn) (2.0.2)\n",
            "Requirement already satisfied: pandas>=1.2 in /usr/local/lib/python3.11/dist-packages (from seaborn) (2.2.2)\n",
            "Requirement already satisfied: matplotlib!=3.6.1,>=3.4 in /usr/local/lib/python3.11/dist-packages (from seaborn) (3.10.0)\n",
            "Requirement already satisfied: contourpy>=1.0.1 in /usr/local/lib/python3.11/dist-packages (from matplotlib!=3.6.1,>=3.4->seaborn) (1.3.2)\n",
            "Requirement already satisfied: cycler>=0.10 in /usr/local/lib/python3.11/dist-packages (from matplotlib!=3.6.1,>=3.4->seaborn) (0.12.1)\n",
            "Requirement already satisfied: fonttools>=4.22.0 in /usr/local/lib/python3.11/dist-packages (from matplotlib!=3.6.1,>=3.4->seaborn) (4.58.1)\n",
            "Requirement already satisfied: kiwisolver>=1.3.1 in /usr/local/lib/python3.11/dist-packages (from matplotlib!=3.6.1,>=3.4->seaborn) (1.4.8)\n",
            "Requirement already satisfied: packaging>=20.0 in /usr/local/lib/python3.11/dist-packages (from matplotlib!=3.6.1,>=3.4->seaborn) (24.2)\n",
            "Requirement already satisfied: pillow>=8 in /usr/local/lib/python3.11/dist-packages (from matplotlib!=3.6.1,>=3.4->seaborn) (11.2.1)\n",
            "Requirement already satisfied: pyparsing>=2.3.1 in /usr/local/lib/python3.11/dist-packages (from matplotlib!=3.6.1,>=3.4->seaborn) (3.2.3)\n",
            "Requirement already satisfied: python-dateutil>=2.7 in /usr/local/lib/python3.11/dist-packages (from matplotlib!=3.6.1,>=3.4->seaborn) (2.9.0.post0)\n",
            "Requirement already satisfied: pytz>=2020.1 in /usr/local/lib/python3.11/dist-packages (from pandas>=1.2->seaborn) (2025.2)\n",
            "Requirement already satisfied: tzdata>=2022.7 in /usr/local/lib/python3.11/dist-packages (from pandas>=1.2->seaborn) (2025.2)\n",
            "Requirement already satisfied: six>=1.5 in /usr/local/lib/python3.11/dist-packages (from python-dateutil>=2.7->matplotlib!=3.6.1,>=3.4->seaborn) (1.17.0)\n"
          ]
        }
      ],
      "source": [
        "%pip install ifcopenshell\n",
        "%pip install networkx\n",
        "%pip install plotly\n",
        "%pip install seaborn"
      ]
    },
    {
      "cell_type": "code",
      "execution_count": null,
      "metadata": {
        "id": "PhuZAh7Jwg5T"
      },
      "outputs": [
        {
          "ename": "",
          "evalue": "",
          "output_type": "error",
          "traceback": [
            "\u001b[1;31mRunning cells with '.svenv (Python 3.10.9)' requires the ipykernel package.\n",
            "\u001b[1;31mRun the following command to install 'ipykernel' into the Python environment. \n",
            "\u001b[1;31mCommand: 'c:/Users/User/Desktop/IAAC/04_AECTECH/CODE2CODE_AECTECH_BCN_2025/.svenv/Scripts/python.exe -m pip install ipykernel -U --force-reinstall'"
          ]
        }
      ],
      "source": [
        "import ifcopenshell\n",
        "import networkx as nx\n",
        "import plotly.graph_objects as go\n",
        "import pandas as pd"
      ]
    },
    {
      "cell_type": "markdown",
      "metadata": {
        "id": "BVZbVcfpxLYL"
      },
      "source": [
        "# 2. Extract data from IFC\n",
        "## 2.1. Utility Function"
      ]
    },
    {
      "cell_type": "markdown",
      "metadata": {
        "id": "Jx8kZS1DkBiY"
      },
      "source": [
        "### Introduction to IFC Structure (Industry Foundation Classes)\n",
        "\n",
        "**IFC (Industry Foundation Classes)** is a standardized data model used to describe building and construction industry data. It enables interoperability between different software applications in Building Information Modeling (BIM).\n",
        "\n",
        "At its core, an IFC file is made up of a large hierarchy of **entities**—objects like walls, doors, beams, or more abstract things like relationships and property sets. Each entity belongs to a specific **type**, e.g., `IfcWall`, `IfcDoor`, `IfcPropertySet`, and so on.\n",
        "\n",
        "Key concepts relevant to the function:\n",
        "\n",
        "- **IfcEntity:** A generic object in the IFC model. Each entity has basic properties such as GlobalId, Name, and Description.\n",
        "\n",
        "- **IfcRelDefinesByProperties:** A relationship that links an entity to a set of properties or quantities.\n",
        "\n",
        "- **IfcPropertySet:** A collection of properties (e.g., material, fire rating), where each property can be a single value (IfcPropertySingleValue).\n",
        "\n",
        "- **IfcElementQuantity:** Stores measurable quantities (e.g., length, area, volume) associated with the entity.\n",
        "\n",
        "- **wrappedValue:** A helper attribute used to access the actual value inside some IFC data types."
      ]
    },
    {
      "cell_type": "markdown",
      "metadata": {
        "id": "vcOzDTVcGGAP"
      },
      "source": [
        "```\n",
        "IFC Structure Overview (as used in extract_properties function)\n",
        "\n",
        "            +------------------------+\n",
        "            |      IfcEntity        |         (e.g., IfcWall, IfcDoor)\n",
        "            +------------------------+\n",
        "            | - GlobalId             |\n",
        "            | - Name                 |\n",
        "            | - Description          |\n",
        "            | - ObjectType           |\n",
        "            +------------------------+\n",
        "                      |\n",
        "                      | IsDefinedBy\n",
        "                      v\n",
        "        +-----------------------------+\n",
        "        |  IfcRelDefinesByProperties |\n",
        "        +-----------------------------+\n",
        "                      |\n",
        "                      | RelatingPropertyDefinition\n",
        "        +-----------------------------+\n",
        "        |       /             \\       |\n",
        "        v                             v\n",
        "+------------------+      +------------------------+\n",
        "|  IfcPropertySet  |      |  IfcElementQuantity    |\n",
        "+------------------+      +------------------------+\n",
        "| - HasProperties  |      | - Quantities           |\n",
        "+------------------+      +------------------------+\n",
        "        |                            |\n",
        "        v                            v\n",
        "\n",
        "+-------------------------+    +------------------------+\n",
        "| IfcPropertySingleValue  |    |   Quantity (Length,    |\n",
        "+-------------------------+    |    Area, Volume, ...)  |\n",
        "| - Name                  |    +------------------------+\n",
        "| - NominalValue          |    | - Name                 |\n",
        "|   - wrappedValue        |    | - Value (wrappedValue) |\n",
        "+-------------------------+    +------------------------+\n",
        "\n",
        "```\n"
      ]
    },
    {
      "cell_type": "code",
      "execution_count": null,
      "metadata": {
        "id": "dut5QXaWgfYR"
      },
      "outputs": [],
      "source": [
        "def extract_properties(entity):\n",
        "    \"\"\"Extracts general properties and quantities from an IFC entity.\"\"\"\n",
        "    data = {\n",
        "        \"GlobalId\": entity.GlobalId,\n",
        "        \"Name\": entity.Name,  # Initialize with entity.Name\n",
        "        \"Description\": getattr(entity, \"Description\", None),\n",
        "        \"ObjectType\": getattr(entity, \"ObjectType\", None),\n",
        "        \"IfcType\": entity.is_a()\n",
        "    }\n",
        "\n",
        "    if data[\"Name\"] is None and hasattr(entity, \"IsDefinedBy\"):\n",
        "        for rel in entity.IsDefinedBy:\n",
        "            if rel.is_a(\"IfcRelDefinesByProperties\") and hasattr(rel, \"RelatingPropertyDefinition\"):\n",
        "                prop_def = rel.RelatingPropertyDefinition\n",
        "                if prop_def.is_a(\"IfcPropertySet\"):\n",
        "                    # Check if it's Pset_SpaceCommon\n",
        "                    if prop_def.Name == \"Pset_SpaceCommon\":\n",
        "                        for prop in prop_def.HasProperties:\n",
        "                            if prop.is_a(\"IfcPropertySingleValue\") and prop.Name == \"Name\":\n",
        "                                data[\"Name\"] = getattr(prop.NominalValue, \"wrappedValue\", None)\n",
        "                                break  # Stop searching if found\n",
        "                    else:  # Otherwise, try to find the name in other property sets\n",
        "                        for prop in prop_def.HasProperties:\n",
        "                            if prop.is_a(\"IfcPropertySingleValue\"):\n",
        "                                if prop.Name in [\"Name\", \"name\", \"LongName\", \"longname\"]:\n",
        "                                    data[\"Name\"] = getattr(prop.NominalValue, \"wrappedValue\", None)\n",
        "                                    break  # Stop searching if found\n",
        "                                property_value = getattr(prop.NominalValue, \"wrappedValue\", None)\n",
        "                                if property_value in [\"Name\", \"LongName\"]:\n",
        "                                    for inner_prop in prop_def.HasProperties:\n",
        "                                        if inner_prop.is_a(\"IfcPropertySingleValue\") and inner_prop.Name == property_value:\n",
        "                                            data[\"Name\"] = getattr(inner_prop.NominalValue, \"wrappedValue\", None)\n",
        "                                            break\n",
        "                                    break  # Stop searching if found\n",
        "    # Check if Name is still None and LongName is available\n",
        "    if data[\"Name\"] is None and hasattr(entity, 'LongName'):\n",
        "        data[\"Name\"] = entity.LongName  # Assign LongName to Name if Name is None\n",
        "\n",
        "    return data"
      ]
    },
    {
      "cell_type": "markdown",
      "metadata": {
        "id": "pfHmRC1Jnvb0"
      },
      "source": [
        "todo -> Location parameter!\n",
        "\n"
      ]
    },
    {
      "cell_type": "markdown",
      "metadata": {
        "id": "q0bw9O05xTG0"
      },
      "source": [
        "## 2.2. Load IFC File and Extract Data"
      ]
    },
    {
      "cell_type": "code",
      "execution_count": null,
      "metadata": {
        "id": "bjpGx3SOxTxX"
      },
      "outputs": [],
      "source": [
        "ifc_file = ifcopenshell.open('/content/racadvancedsampleproject.ifc')\n",
        "\n",
        "rooms = ifc_file.by_type(\"IfcSpace\")\n",
        "space_boundaries = ifc_file.by_type(\"IfcRelSpaceBoundary\")\n",
        "# space_boundaries = ifc_file.by_type(\"IfcSpace\")"
      ]
    },
    {
      "cell_type": "code",
      "execution_count": null,
      "metadata": {
        "colab": {
          "base_uri": "https://localhost:8080/"
        },
        "id": "QDTb6KgexvLx",
        "outputId": "dc96eea2-59f5-4cfd-eebf-20314dbd8358"
      },
      "outputs": [
        {
          "name": "stdout",
          "output_type": "stream",
          "text": [
            "Unique element types in space boundaries:\n",
            "- IfcColumn\n",
            "- IfcCurtainWall\n",
            "- IfcDoor\n",
            "- IfcSlab\n",
            "- IfcWall\n",
            "- IfcWallStandardCase\n",
            "- IfcWindow\n"
          ]
        }
      ],
      "source": [
        "# Identify element types in space boundaries\n",
        "element_types = set()\n",
        "for rel in space_boundaries:\n",
        "    if rel.RelatedBuildingElement:\n",
        "        element_types.add(rel.RelatedBuildingElement.is_a())\n",
        "\n",
        "print(\"Unique element types in space boundaries:\")\n",
        "for element_type in sorted(element_types):\n",
        "    print(\"-\", element_type)"
      ]
    },
    {
      "cell_type": "code",
      "execution_count": null,
      "metadata": {
        "id": "HCl8SZImyiO8"
      },
      "outputs": [],
      "source": [
        "# Define categories and colors\n",
        "categories = {room.is_a(): \"red\" for room in rooms}\n",
        "\n",
        "for rel in space_boundaries:\n",
        "    if rel.RelatedBuildingElement:\n",
        "        categories.setdefault(\n",
        "            rel.RelatedBuildingElement.is_a(),\n",
        "            f\"#{hash(rel.RelatedBuildingElement.is_a()) & 0xFFFFFF:06x}\"\n",
        "        )\n",
        "\n",
        "def get_node_color(ifc_type):\n",
        "    \"\"\"Return a color based on the IFC type or default to gray.\"\"\"\n",
        "    return categories.get(ifc_type, \"gray\")"
      ]
    },
    {
      "cell_type": "code",
      "execution_count": null,
      "metadata": {
        "colab": {
          "base_uri": "https://localhost:8080/"
        },
        "id": "L4aFZIbEblAJ",
        "outputId": "a26f34a9-299c-46d4-e846-47d566377879"
      },
      "outputs": [
        {
          "name": "stdout",
          "output_type": "stream",
          "text": [
            "Room: 101\n",
            "Properties:\n",
            "  GlobalId: 1GE3M13VHAWxhxwcp39Emh\n",
            "  Name: 101\n",
            "  Description: None\n",
            "  ObjectType: None\n",
            "  IfcType: IfcSpace\n",
            "--------------------\n",
            "Room: 102\n",
            "Properties:\n",
            "  GlobalId: 1GE3M13VHAWxhxwcp39EiJ\n",
            "  Name: 102\n",
            "  Description: None\n",
            "  ObjectType: None\n",
            "  IfcType: IfcSpace\n",
            "--------------------\n",
            "Room: 103\n",
            "Properties:\n",
            "  GlobalId: 1GE3M13VHAWxhxwcp39Eiz\n",
            "  Name: 103\n",
            "  Description: None\n",
            "  ObjectType: None\n",
            "  IfcType: IfcSpace\n",
            "--------------------\n"
          ]
        }
      ],
      "source": [
        "for i, room in enumerate(rooms):\n",
        "    if i < 3:  # Only process the first three rooms\n",
        "        room_properties = extract_properties(room)\n",
        "        print(f\"Room: {room_properties.get('Name', 'N/A')}\")\n",
        "        print(\"Properties:\")\n",
        "        for key, value in room_properties.items():\n",
        "            print(f\"  {key}: {value}\")\n",
        "        print(\"-\" * 20)\n",
        "    else:\n",
        "        break  # Exit the loop after processing three rooms"
      ]
    },
    {
      "cell_type": "code",
      "execution_count": null,
      "metadata": {
        "id": "Q853PVm6PZHq"
      },
      "outputs": [],
      "source": [
        "# Find and extract properties of a specific wall\n",
        "wall_name_to_find = \"LVL_2_1B_Wall_S48\"\n",
        "for wall in ifc_file.by_type(\"IfcWall\"):\n",
        "    wall_properties = extract_properties(wall)\n",
        "    if wall_properties.get(\"Name\") == wall_name_to_find:\n",
        "        print(f\"Wall: {wall_name_to_find}\")\n",
        "\n",
        "        # Print basic properties\n",
        "        print(\"Properties:\")\n",
        "        for key, value in wall_properties.items():\n",
        "            print(f\"  {key}: {value}\")\n",
        "\n",
        "        # Extract and print custom properties from myPset\n",
        "        print(\"\\nCustom Properties (myPset):\")\n",
        "        custom_properties = {}  # Initialize an empty dict\n",
        "\n",
        "        def get_custom_properties(entity):\n",
        "            if hasattr(entity, \"IsDefinedBy\"):\n",
        "                for definition in entity.IsDefinedBy:\n",
        "                    if definition.is_a('IfcRelDefinesByProperties'):\n",
        "                        property_set = definition.RelatingPropertyDefinition\n",
        "                        if property_set.is_a('IfcPropertySet') and property_set.Name == \"myPset\":\n",
        "                            for property in property_set.HasProperties:\n",
        "                                if property.is_a('IfcPropertySingleValue'):\n",
        "                                    # Automatically extract property name and value\n",
        "                                    if property.NominalValue:\n",
        "                                        if isinstance(property.NominalValue.wrappedValue, (list, tuple)):\n",
        "                                            custom_properties[property.Name] = property.NominalValue.wrappedValue[0]\n",
        "                                        else:\n",
        "                                            custom_properties[property.Name] = property.NominalValue.wrappedValue\n",
        "                                    else:\n",
        "                                        custom_properties[property.Name] = None\n",
        "            return custom_properties  # Return the dictionary\n",
        "\n",
        "        custom_properties = get_custom_properties(wall)\n",
        "\n",
        "        # Print all extracted custom properties\n",
        "        for property_name, property_value in custom_properties.items():\n",
        "            print(f\"  {property_name}: {property_value}\")\n",
        "\n",
        "        break  # Stop searching once found"
      ]
    },
    {
      "cell_type": "code",
      "execution_count": null,
      "metadata": {
        "colab": {
          "base_uri": "https://localhost:8080/"
        },
        "id": "DEJF7_N5h5Tr",
        "outputId": "1338d2d2-4701-49ac-b8cf-610adf2eb03f"
      },
      "outputs": [
        {
          "name": "stdout",
          "output_type": "stream",
          "text": [
            "Number of Rooms: 116\n"
          ]
        }
      ],
      "source": [
        "rooms = ifc_file.by_type(\"IfcSpace\")\n",
        "print(f\"Number of Rooms: {len(rooms)}\")  # Added line"
      ]
    },
    {
      "cell_type": "code",
      "execution_count": null,
      "metadata": {
        "colab": {
          "base_uri": "https://localhost:8080/"
        },
        "collapsed": true,
        "id": "TnYbteZsiBim",
        "outputId": "92b2030a-6dc0-4a4e-f3f1-49d929c48b8c"
      },
      "outputs": [
        {
          "name": "stdout",
          "output_type": "stream",
          "text": [
            "Room: #40710=IfcSpace('1GE3M13VHAWxhxwcp39Emh',#18,'101',$,$,#40664,#40709,'Vest.',.ELEMENT.,.INTERNAL.,$)\n",
            "  BoundedBy: (#40744=IfcRelSpaceBoundary('1BlLKI1aU1Nh7m95veTSfz',#18,'2ndLevel',$,#40710,$,#40743,.VIRTUAL.,.INTERNAL.), #40755=IfcRelSpaceBoundary('0SuDgUeKTNJoQVzOIKy1GX',#18,'2ndLevel',$,#40710,$,#40754,.VIRTUAL.,.INTERNAL.), #40766=IfcRelSpaceBoundary('0yA0i411iHsCgcplgwOSGb',#18,'2ndLevel',$,#40710,$,#40765,.VIRTUAL.,.INTERNAL.), #40778=IfcRelSpaceBoundary('0ODNLoMsgheb15v30BerEW',#18,'2ndLevel',$,#40710,$,#40777,.VIRTUAL.,.INTERNAL.), #40791=IfcRelSpaceBoundary('0PH1Nt79QQEUa4oMlMVpey',#18,'2ndLevel',$,#40710,$,#40790,.VIRTUAL.,.INTERNAL.), #40810=IfcRelSpaceBoundary('2X9H9YvK6Uf7PiL7vHZLLY',#18,'2ndLevel',$,#40710,$,#40809,.VIRTUAL.,.INTERNAL.), #40883=IfcRelSpaceBoundary('2htvlj_19i7gXRGoW24gEa',#18,'2ndLevel',$,#40710,$,#40882,.VIRTUAL.,.INTERNAL.), #40894=IfcRelSpaceBoundary('28E4WFbEUrB6hfO$KgpwvV',#18,'2ndLevel',$,#40710,$,#40893,.VIRTUAL.,.INTERNAL.), #40904=IfcRelSpaceBoundary('07IwEXR828KuXgmonjv5Sm',#18,'2ndLevel',$,#40710,$,#40903,.VIRTUAL.,.INTERNAL.), #959212=IfcRelSpaceBoundary('3_LnimEK8bIDIHvMXrIgx9',#18,'2ndLevel',$,#40710,#761118,#40725,.PHYSICAL.,.EXTERNAL.), #959213=IfcRelSpaceBoundary('29B4ca0omtbg0CsFUYqFvI',#18,'2ndLevel',$,#40710,#849085,#40819,.PHYSICAL.,.INTERNAL.), #959214=IfcRelSpaceBoundary('0jT4Ro28jfYupqEGyBg7oz',#18,'2ndLevel',$,#40710,#849085,#40829,.PHYSICAL.,.INTERNAL.), #959215=IfcRelSpaceBoundary('0Fbqr3__2HK6k$Wm2_KrmM',#18,'2ndLevel',$,#40710,#849085,#40840,.PHYSICAL.,.INTERNAL.), #959216=IfcRelSpaceBoundary('0pY50OCxF$Liewhw1AVjDL',#18,'2ndLevel',$,#40710,#849085,#40852,.PHYSICAL.,.INTERNAL.), #959217=IfcRelSpaceBoundary('1wW3o1I9X$OP8PFi8MA35K',#18,'2ndLevel',$,#40710,#849085,#40873,.PHYSICAL.,.INTERNAL.), #959218=IfcRelSpaceBoundary('06fD9ss1V8RmXKCej3QQDH',#18,'2ndLevel',$,#40710,#167846,#40913,.PHYSICAL.,.EXTERNAL.), #959219=IfcRelSpaceBoundary('1cFBffKUpDKi1S66Q3qo1w',#18,'2ndLevel',$,#40710,#255154,#40922,.PHYSICAL.,.EXTERNAL.))\n",
            "  CompositionType: ELEMENT\n",
            "  ContainsElements: ()\n",
            "  Decomposes: (#933664=IfcRelAggregates('3Zu5Bv0LOHrPC100A6FoQQ',#18,$,$,#112,(#40710,#41169,#42925,#43252,#43549,#44134,#44406,#45710,#47157,#47442,#47708,#48086,#48365,#48601,#49095,#49323,#49677,#49939,#50142,#50456,#51178,#51508,#51850,#52117,#52316,#52577,#52799,#52976,#53221,#53440,#53731,#75098,#75146,#75212,#75260,#75301,#75342,#75390,#75437,#75485)),)\n",
            "  Description: None\n",
            "  ElevationWithFlooring: None\n",
            "  GlobalId: 1GE3M13VHAWxhxwcp39Emh\n",
            "  HasAssignments: ()\n",
            "  HasAssociations: ()\n",
            "  HasCoverings: ()\n",
            "  InteriorOrExteriorSpace: INTERNAL\n",
            "  IsDecomposedBy: ()\n",
            "  IsDefinedBy: (#40929=IfcRelDefinesByProperties('1Jb1k5aNnaL3zjiJeVbiwh',#18,$,$,(#40710),#40924), #40930=IfcRelDefinesByProperties('0_aDx294ho7gfy04UBIsVm',#18,$,$,(#40710),#40926), #40931=IfcRelDefinesByProperties('3wEoudrygo92AwExX0POJX',#18,$,$,(#40710),#40928), #40938=IfcRelDefinesByProperties('0U_40iViBlqnpxSC_BqRi2',#18,$,$,(#40710),#40937), #939713=IfcRelDefinesByProperties('2aUjz3XIbv87wU0eeAszoU',#18,$,$,(#40710),#40974), #939714=IfcRelDefinesByProperties('2NszDKgNEZknSeVUP6HeoL',#18,$,$,(#40710),#40975), #939715=IfcRelDefinesByProperties('2kiyDYrMRv$B4x3J_97pPT',#18,$,$,(#40710),#40976), #939716=IfcRelDefinesByProperties('3UX$BaxowbNUaf5AEMCnBX',#18,$,$,(#40710),#40977), #939717=IfcRelDefinesByProperties('0CCQFeNaybokNhkTZ$7Zm9',#18,$,$,(#40710),#40978), #939718=IfcRelDefinesByProperties('1xPGCiD5fuN8eL2PtzSXnh',#18,$,$,(#40710),#40979), #939719=IfcRelDefinesByProperties('39rzTQ43g64G854PhWstQ5',#18,$,$,(#40710),#40980), #933742=IfcRelDefinesByType('30pUwuFAvnm13NrxuzZlVx',#18,$,$,(#40710),#40711))\n",
            "  LongName: Vest.\n",
            "  Name: 101\n",
            "  ObjectPlacement: #40664=IfcLocalPlacement(#111,#40663)\n",
            "  ObjectType: None\n",
            "  OwnerHistory: #18=IfcOwnerHistory(#17,#2,$,.NOCHANGE.,$,$,$,1739537906)\n",
            "  ReferencedBy: ()\n",
            "  ReferencesElements: ()\n",
            "  Representation: #40709=IfcProductDefinitionShape($,$,(#40708))\n",
            "  ServicedBySystems: ()\n",
            "  attribute_name: <bound method entity_instance.attribute_name of #40710=IfcSpace('1GE3M13VHAWxhxwcp39Emh',#18,'101',$,$,#40664,#40709,'Vest.',.ELEMENT.,.INTERNAL.,$)>\n",
            "  attribute_type: <bound method entity_instance.attribute_type of #40710=IfcSpace('1GE3M13VHAWxhxwcp39Emh',#18,'101',$,$,#40664,#40709,'Vest.',.ELEMENT.,.INTERNAL.,$)>\n",
            "  compare: <bound method entity_instance.compare of #40710=IfcSpace('1GE3M13VHAWxhxwcp39Emh',#18,'101',$,$,#40664,#40709,'Vest.',.ELEMENT.,.INTERNAL.,$)>\n",
            "  file: <ifcopenshell.file.file object at 0x78f26c73b510>\n",
            "  get_info: <bound method entity_instance.get_info of #40710=IfcSpace('1GE3M13VHAWxhxwcp39Emh',#18,'101',$,$,#40664,#40709,'Vest.',.ELEMENT.,.INTERNAL.,$)>\n",
            "  get_info_2: <bound method entity_instance.get_info_2 of #40710=IfcSpace('1GE3M13VHAWxhxwcp39Emh',#18,'101',$,$,#40664,#40709,'Vest.',.ELEMENT.,.INTERNAL.,$)>\n",
            "  id: <bound method entity_instance.id of #40710=IfcSpace('1GE3M13VHAWxhxwcp39Emh',#18,'101',$,$,#40664,#40709,'Vest.',.ELEMENT.,.INTERNAL.,$)>\n",
            "  is_a: <bound method entity_instance.is_a of #40710=IfcSpace('1GE3M13VHAWxhxwcp39Emh',#18,'101',$,$,#40664,#40709,'Vest.',.ELEMENT.,.INTERNAL.,$)>\n",
            "  is_entity: <bound method entity_instance.is_entity of #40710=IfcSpace('1GE3M13VHAWxhxwcp39Emh',#18,'101',$,$,#40664,#40709,'Vest.',.ELEMENT.,.INTERNAL.,$)>\n",
            "  to_string: <bound method entity_instance.to_string of #40710=IfcSpace('1GE3M13VHAWxhxwcp39Emh',#18,'101',$,$,#40664,#40709,'Vest.',.ELEMENT.,.INTERNAL.,$)>\n",
            "  unwrap_value: <function entity_instance.unwrap_value at 0x78f2804cf7e0>\n",
            "  walk: <function entity_instance.walk at 0x78f2804cf6a0>\n",
            "  wrap_value: <function entity_instance.wrap_value at 0x78f2804cf740>\n",
            "Room: #41169=IfcSpace('1GE3M13VHAWxhxwcp39EiJ',#18,'102',$,$,#40982,#41168,'Lobby',.ELEMENT.,.INTERNAL.,$)\n",
            "  BoundedBy: (#41180=IfcRelSpaceBoundary('1C3Nr3dSuwVZ0kvUYPWOrz',#18,'2ndLevel',$,#41169,$,#41179,.VIRTUAL.,.INTERNAL.), #41242=IfcRelSpaceBoundary('04y8iU4xFqpAMwSxBvyVdw',#18,'2ndLevel',$,#41169,$,#41241,.VIRTUAL.,.INTERNAL.), #41252=IfcRelSpaceBoundary('0OLqlNFWpx6XrlviyOVz9Q',#18,'2ndLevel',$,#41169,$,#41251,.VIRTUAL.,.INTERNAL.), #41262=IfcRelSpaceBoundary('1KDyjnFng6c9dtsyLuD4wd',#18,'2ndLevel',$,#41169,$,#41261,.VIRTUAL.,.INTERNAL.), #41272=IfcRelSpaceBoundary('3zgjiFdkMZGEM9ScfxHoJI',#18,'2ndLevel',$,#41169,$,#41271,.VIRTUAL.,.INTERNAL.), #41282=IfcRelSpaceBoundary('0Bf2MI_BGL0NnURU8n9zXH',#18,'2ndLevel',$,#41169,$,#41281,.VIRTUAL.,.INTERNAL.), #41292=IfcRelSpaceBoundary('0MtYXznnSfOpkEpNfVpyPY',#18,'2ndLevel',$,#41169,$,#41291,.VIRTUAL.,.INTERNAL.), #41303=IfcRelSpaceBoundary('14AF3em7aA$KUAA4QBCqhB',#18,'2ndLevel',$,#41169,$,#41302,.VIRTUAL.,.INTERNAL.), #41313=IfcRelSpaceBoundary('1myo4I_kFowmAJgPtTSZCn',#18,'2ndLevel',$,#41169,$,#41312,.VIRTUAL.,.INTERNAL.), #41324=IfcRelSpaceBoundary('3LllLj4mdH2474ZCuKfWXv',#18,'2ndLevel',$,#41169,$,#41323,.VIRTUAL.,.INTERNAL.), #41335=IfcRelSpaceBoundary('2e_7aeyXt_w93663s8GUdf',#18,'2ndLevel',$,#41169,$,#41334,.VIRTUAL.,.INTERNAL.), #41346=IfcRelSpaceBoundary('0BovGaaA$nhs4B5LMrgFti',#18,'2ndLevel',$,#41169,$,#41345,.VIRTUAL.,.INTERNAL.), #41357=IfcRelSpaceBoundary('2NeNyJM6FWUnqpLGbKicOy',#18,'2ndLevel',$,#41169,$,#41356,.VIRTUAL.,.INTERNAL.), #41369=IfcRelSpaceBoundary('2bYxQ1Bh4ct_I9bwuNzEU3',#18,'2ndLevel',$,#41169,$,#41368,.VIRTUAL.,.INTERNAL.), #41380=IfcRelSpaceBoundary('1EB$3uD_6GeSTGcbzG_CSL',#18,'2ndLevel',$,#41169,$,#41379,.VIRTUAL.,.INTERNAL.), #41392=IfcRelSpaceBoundary('2UcJIIAE8ExegrqQr1uXx2',#18,'2ndLevel',$,#41169,$,#41391,.VIRTUAL.,.INTERNAL.), #41404=IfcRelSpaceBoundary('2Sb2G3QFxAkXNuneyRS2Pz',#18,'2ndLevel',$,#41169,$,#41403,.VIRTUAL.,.INTERNAL.), #41416=IfcRelSpaceBoundary('0e96NSWb1kxjSb79IpU$s6',#18,'2ndLevel',$,#41169,$,#41415,.VIRTUAL.,.INTERNAL.), #41428=IfcRelSpaceBoundary('2Qi4z2xZCGstAXXEf2K7q0',#18,'2ndLevel',$,#41169,$,#41427,.VIRTUAL.,.INTERNAL.), #41441=IfcRelSpaceBoundary('0D5KcAxH8tiAww$eff1D5y',#18,'2ndLevel',$,#41169,$,#41440,.VIRTUAL.,.INTERNAL.), #41453=IfcRelSpaceBoundary('1incB3wJax9inzkrmn2MmG',#18,'2ndLevel',$,#41169,$,#41452,.VIRTUAL.,.INTERNAL.), #41551=IfcRelSpaceBoundary('3Wf4n6kzR2Bm5oOLmjoZ94',#18,'2ndLevel',$,#41169,$,#41550,.VIRTUAL.,.INTERNAL.), #41561=IfcRelSpaceBoundary('28cOE0wwGZONRCzfhITvz4',#18,'2ndLevel',$,#41169,$,#41560,.VIRTUAL.,.INTERNAL.), #41571=IfcRelSpaceBoundary('2XNi_EIQnN3FXoIHqmuqCt',#18,'2ndLevel',$,#41169,$,#41570,.VIRTUAL.,.INTERNAL.), #41581=IfcRelSpaceBoundary('1jlszGK0TjG8UoGInFMRK1',#18,'2ndLevel',$,#41169,$,#41580,.VIRTUAL.,.INTERNAL.), #41591=IfcRelSpaceBoundary('1sy5FVIn1C29WwC5ysWCAX',#18,'2ndLevel',$,#41169,$,#41590,.VIRTUAL.,.INTERNAL.), #41649=IfcRelSpaceBoundary('0O60SlEi6c0TlRM$Xj5qqa',#18,'2ndLevel',$,#41169,$,#41648,.VIRTUAL.,.INTERNAL.), #41659=IfcRelSpaceBoundary('1wAVtMNiUjTXBRveZNIyuK',#18,'2ndLevel',$,#41169,$,#41658,.VIRTUAL.,.INTERNAL.), #41922=IfcRelSpaceBoundary('1T0vPua9Kk4W83r3eedsCJ',#18,'2ndLevel',$,#41169,$,#41921,.VIRTUAL.,.INTERNAL.), #41932=IfcRelSpaceBoundary('28oXjgAzmDKQ90d7iC4RMu',#18,'2ndLevel',$,#41169,$,#41931,.VIRTUAL.,.INTERNAL.), #41942=IfcRelSpaceBoundary('1QVobE5pgP82tACIgxrLBC',#18,'2ndLevel',$,#41169,$,#41941,.VIRTUAL.,.INTERNAL.), #41953=IfcRelSpaceBoundary('0IiTIpXxoHxcbubRdxDwZV',#18,'2ndLevel',$,#41169,$,#41952,.VIRTUAL.,.INTERNAL.), #41963=IfcRelSpaceBoundary('1tUSXwQ0_syEpMkYo8qoed',#18,'2ndLevel',$,#41169,$,#41962,.VIRTUAL.,.INTERNAL.), #41982=IfcRelSpaceBoundary('2M6ViQQ_BN3Xu9CFx$DRVB',#18,'2ndLevel',$,#41169,$,#41981,.VIRTUAL.,.INTERNAL.), #42095=IfcRelSpaceBoundary('07_mhP4LV1xshyR958_W9_',#18,'2ndLevel',$,#41169,$,#42094,.VIRTUAL.,.INTERNAL.), #42105=IfcRelSpaceBoundary('3LLVqx24KykKpWNMl0TnA8',#18,'2ndLevel',$,#41169,$,#42104,.VIRTUAL.,.INTERNAL.), #42341=IfcRelSpaceBoundary('0DNNv3ezXEY6HCe$9q5Ff1',#18,'2ndLevel',$,#41169,$,#42340,.VIRTUAL.,.INTERNAL.), #42351=IfcRelSpaceBoundary('2WC$Hp5jGlOeWY30RZReWX',#18,'2ndLevel',$,#41169,$,#42350,.VIRTUAL.,.INTERNAL.), #42361=IfcRelSpaceBoundary('0qo6VFAOFLK1BXsLUD$orF',#18,'2ndLevel',$,#41169,$,#42360,.VIRTUAL.,.INTERNAL.), #42371=IfcRelSpaceBoundary('1maAFlQ4$5XKb0efK_Z9LL',#18,'2ndLevel',$,#41169,$,#42370,.VIRTUAL.,.INTERNAL.), #42403=IfcRelSpaceBoundary('0poarhWOJOI4oSNKTEyOxM',#18,'2ndLevel',$,#41169,$,#42402,.VIRTUAL.,.INTERNAL.), #42413=IfcRelSpaceBoundary('0IDNHPlaMGh5e8sOgGRPi1',#18,'2ndLevel',$,#41169,$,#42412,.VIRTUAL.,.INTERNAL.), #42479=IfcRelSpaceBoundary('1agVxK5l_xc7om7HSQpgFz',#18,'2ndLevel',$,#41169,$,#42478,.VIRTUAL.,.INTERNAL.), #42639=IfcRelSpaceBoundary('11OW8M5t1Xq8eXeGjW2ikF',#18,'2ndLevel',$,#41169,$,#42638,.VIRTUAL.,.INTERNAL.), #42649=IfcRelSpaceBoundary('1c$hDifVwW7sCWvAOVaSC9',#18,'2ndLevel',$,#41169,$,#42648,.VIRTUAL.,.INTERNAL.), #42659=IfcRelSpaceBoundary('11hunglMMA63Z2AosI3tCb',#18,'2ndLevel',$,#41169,$,#42658,.VIRTUAL.,.INTERNAL.), #42669=IfcRelSpaceBoundary('2$PSUtzIJrYiA1UaCL$qNW',#18,'2ndLevel',$,#41169,$,#42668,.VIRTUAL.,.INTERNAL.), #42816=IfcRelSpaceBoundary('2VJUGMVNHqJxLWZrgKrCBB',#18,'2ndLevel',$,#41169,$,#42815,.VIRTUAL.,.INTERNAL.), #42826=IfcRelSpaceBoundary('01KUgQOG7AoyijdgLadxmd',#18,'2ndLevel',$,#41169,$,#42825,.VIRTUAL.,.INTERNAL.), #959220=IfcRelSpaceBoundary('2D4GQWx24wd2thO7AAj_dW',#18,'2ndLevel',$,#41169,#167846,#41189,.PHYSICAL.,.EXTERNAL.), #959221=IfcRelSpaceBoundary('2zRDZOIK0lEkbhVEpBzQjc',#18,'2ndLevel',$,#41169,#181647,#41203,.PHYSICAL.,.EXTERNAL.), #959222=IfcRelSpaceBoundary('1Jr$S$1BbdJAK1kXXe4ouj',#18,'2ndLevel',$,#41169,#181804,#41212,.PHYSICAL.,.EXTERNAL.), #959223=IfcRelSpaceBoundary('3e3Ot4k1T5Y3_d2fkSJTup',#18,'2ndLevel',$,#41169,#216846,#41222,.PHYSICAL.,.EXTERNAL.), #959224=IfcRelSpaceBoundary('3UNKc3di_hPxMBUduBMoEu',#18,'2ndLevel',$,#41169,#216908,#41232,.PHYSICAL.,.EXTERNAL.), #959225=IfcRelSpaceBoundary('3wNvdM7eirzhHWdPW0fTTV',#18,'2ndLevel',$,#41169,#104508,#41600,.PHYSICAL.,.INTERNAL.), #959226=IfcRelSpaceBoundary('17gFMBgSxOP6Sv8fXo12$p',#18,'2ndLevel',$,#41169,#104508,#41610,.PHYSICAL.,.INTERNAL.), #959227=IfcRelSpaceBoundary('3L5VIx2cWDfr5aL1rl9_yj',#18,'2ndLevel',$,#41169,#184274,#41619,.PHYSICAL.,.INTERNAL.), #959228=IfcRelSpaceBoundary('0c$4wOCHkVtaBDyMifGz4Z',#18,'2ndLevel',$,#41169,#184327,#41628,.PHYSICAL.,.INTERNAL.), #959229=IfcRelSpaceBoundary('0BqPr$Q$iV8VaJvWwXkcH3',#18,'2ndLevel',$,#41169,#239187,#41637,.PHYSICAL.,.INTERNAL.), #959230=IfcRelSpaceBoundary('3L0dfu_noNIqlLuUIOuW2J',#18,'2ndLevel',$,#41169,#849085,#41668,.PHYSICAL.,.INTERNAL.), #959231=IfcRelSpaceBoundary('3e3mm9P2oIOH$1xyreJE5V',#18,'2ndLevel',$,#41169,#849085,#41677,.PHYSICAL.,.INTERNAL.), #959232=IfcRelSpaceBoundary('2mbGwl6IFkb3D9KIvBOa0K',#18,'2ndLevel',$,#41169,#849085,#41686,.PHYSICAL.,.INTERNAL.), #959233=IfcRelSpaceBoundary('2lQlXxdSie_ivVJK63m4a9',#18,'2ndLevel',$,#41169,#849085,#41695,.PHYSICAL.,.INTERNAL.), #959234=IfcRelSpaceBoundary('0MgjBIrjrlIKEH1cEnMAil',#18,'2ndLevel',$,#41169,#849085,#41704,.PHYSICAL.,.INTERNAL.), #959235=IfcRelSpaceBoundary('18r8vN_GYNVByjp2dFiVQB',#18,'2ndLevel',$,#41169,#849085,#41713,.PHYSICAL.,.INTERNAL.), #959236=IfcRelSpaceBoundary('29IcdSPsm$ojYacN525_TR',#18,'2ndLevel',$,#41169,#849085,#41722,.PHYSICAL.,.INTERNAL.), #959237=IfcRelSpaceBoundary('3$1mdlitwxXlR9B$LK8aav',#18,'2ndLevel',$,#41169,#849085,#41732,.PHYSICAL.,.INTERNAL.), #959238=IfcRelSpaceBoundary('3ijF35Eq2gFVZemf3bzH_q',#18,'2ndLevel',$,#41169,#849085,#41741,.PHYSICAL.,.INTERNAL.), #959239=IfcRelSpaceBoundary('2$V_8Jd5BWroLZXKI0tuf1',#18,'2ndLevel',$,#41169,#849085,#41751,.PHYSICAL.,.INTERNAL.), #959240=IfcRelSpaceBoundary('21FjZKs$RS82olq5kD0fV9',#18,'2ndLevel',$,#41169,#849085,#41761,.PHYSICAL.,.INTERNAL.), #959241=IfcRelSpaceBoundary('3kTKAAqAxR2ClQ7UGEiZiS',#18,'2ndLevel',$,#41169,#849085,#41772,.PHYSICAL.,.INTERNAL.), #959242=IfcRelSpaceBoundary('0ZXtrnLGIDvDx5K21lSMpv',#18,'2ndLevel',$,#41169,#849085,#41782,.PHYSICAL.,.INTERNAL.), #959243=IfcRelSpaceBoundary('0t9Qrclmm5ufyz4yFTvg22',#18,'2ndLevel',$,#41169,#849085,#41793,.PHYSICAL.,.INTERNAL.), #959244=IfcRelSpaceBoundary('33LU851uWyHLNcNTNqNKeZ',#18,'2ndLevel',$,#41169,#849085,#41805,.PHYSICAL.,.INTERNAL.), #959245=IfcRelSpaceBoundary('1z$h8pupNiB5uFFnACUiYs',#18,'2ndLevel',$,#41169,#849085,#41819,.PHYSICAL.,.INTERNAL.), #959246=IfcRelSpaceBoundary('2$uAtmuZMYyEr_ZvRaxuAz',#18,'2ndLevel',$,#41169,#849085,#41906,.PHYSICAL.,.INTERNAL.), #959247=IfcRelSpaceBoundary('3Fig2ipo$_ICW_Bm59NE8e',#18,'2ndLevel',$,#41169,#167529,#41972,.PHYSICAL.,.INTERNAL.), #959248=IfcRelSpaceBoundary('2zO7wQz8OBHlMuieHmRo2R',#18,'2ndLevel',$,#41169,#167529,#41998,.PHYSICAL.,.INTERNAL.), #959249=IfcRelSpaceBoundary('0RmRyP1vqIYjfbOkUucfZD',#18,'2ndLevel',$,#41169,#196386,#42007,.PHYSICAL.,.INTERNAL.), #959250=IfcRelSpaceBoundary('0IUpW1XfvMDdRSUZW2h5k4',#18,'2ndLevel',$,#41169,#195231,#42016,.PHYSICAL.,.EXTERNAL.), #959251=IfcRelSpaceBoundary('01nH096KJNCU8yY0wuA2NK',#18,'2ndLevel',$,#41169,#227894,#42030,.PHYSICAL.,.INTERNAL.), #959252=IfcRelSpaceBoundary('2ivKrUFRO2MZE$oZmjLc8y',#18,'2ndLevel',$,#41169,#231623,#42039,.PHYSICAL.,.INTERNAL.), #959253=IfcRelSpaceBoundary('2Rse7tOlSg2XMyiMCYqqXa',#18,'2ndLevel',$,#41169,#167529,#42053,.PHYSICAL.,.INTERNAL.), #959254=IfcRelSpaceBoundary('2WgsGkeHA89dnJkD33Mc8o',#18,'2ndLevel',$,#41169,#196418,#42062,.PHYSICAL.,.INTERNAL.), #959255=IfcRelSpaceBoundary('3TRYaUBuoyYoQkVrF6YHR6',#18,'2ndLevel',$,#41169,#227894,#42076,.PHYSICAL.,.INTERNAL.), #959256=IfcRelSpaceBoundary('3zQBxTEhw6Ck$7TXNKMFOB',#18,'2ndLevel',$,#41169,#231655,#42085,.PHYSICAL.,.INTERNAL.), #959257=IfcRelSpaceBoundary('199nfs3R1q6VQ8bVbZr1F6',#18,'2ndLevel',$,#41169,#194848,#42119,.PHYSICAL.,.INTERNAL.), #959258=IfcRelSpaceBoundary('00LV1oooA8mwFyILFchCtt',#18,'2ndLevel',$,#41169,#194993,#42128,.PHYSICAL.,.INTERNAL.), #959259=IfcRelSpaceBoundary('1uq66mzuvaoDbx_PoEKlli',#18,'2ndLevel',$,#41169,#195045,#42137,.PHYSICAL.,.EXTERNAL.), #959260=IfcRelSpaceBoundary('3v$80qsu_OpJFqo9yDKKJ8',#18,'2ndLevel',$,#41169,#241165,#42156,.PHYSICAL.,.INTERNAL.), #959261=IfcRelSpaceBoundary('2WpBiF6G6QpVxj1k72ZNC1',#18,'2ndLevel',$,#41169,#237985,#42165,.PHYSICAL.,.INTERNAL.), #959262=IfcRelSpaceBoundary('2tZ3rfYtfzyjr6Khfc7Z3U',#18,'2ndLevel',$,#41169,#238017,#42174,.PHYSICAL.,.INTERNAL.), #959263=IfcRelSpaceBoundary('1rLSbWb70bznuR86jFnZSr',#18,'2ndLevel',$,#41169,#194848,#42188,.PHYSICAL.,.INTERNAL.), #959264=IfcRelSpaceBoundary('2BUPbZjHhP18FzxkH0IXCg',#18,'2ndLevel',$,#41169,#194914,#42197,.PHYSICAL.,.INTERNAL.), #959265=IfcRelSpaceBoundary('3YzOJknSPj6EmH7zTxn4j0',#18,'2ndLevel',$,#41169,#241165,#42206,.PHYSICAL.,.INTERNAL.), #959266=IfcRelSpaceBoundary('2OSMogkU_ZnR6nP5Ljsntb',#18,'2ndLevel',$,#41169,#184061,#42217,.PHYSICAL.,.INTERNAL.), #959267=IfcRelSpaceBoundary('21r0CO6TKdpJZl8ke09kuq',#18,'2ndLevel',$,#41169,#194848,#42231,.PHYSICAL.,.INTERNAL.), #959268=IfcRelSpaceBoundary('2QNeft_295$piJ6mr6t9Tx',#18,'2ndLevel',$,#41169,#194882,#42240,.PHYSICAL.,.INTERNAL.), #959269=IfcRelSpaceBoundary('35wGmWSzMTUrH7vd4Aq4EA',#18,'2ndLevel',$,#41169,#237683,#42249,.PHYSICAL.,.INTERNAL.), #959270=IfcRelSpaceBoundary('0e9_6GD$S2aCDcJY472omR',#18,'2ndLevel',$,#41169,#241165,#42263,.PHYSICAL.,.INTERNAL.), #959271=IfcRelSpaceBoundary('1IXyKpFhN8wpvIxfKOrFz6',#18,'2ndLevel',$,#41169,#238048,#42272,.PHYSICAL.,.INTERNAL.), #959272=IfcRelSpaceBoundary('1joWM7emKVQUJjjBEhdfPZ',#18,'2ndLevel',$,#41169,#167846,#42281,.PHYSICAL.,.EXTERNAL.), #959273=IfcRelSpaceBoundary('3FUpniL6IRCsXhANT0uC0j',#18,'2ndLevel',$,#41169,#184274,#42295,.PHYSICAL.,.INTERNAL.), #959274=IfcRelSpaceBoundary('1c1yVZW$J8bTpmpKiB7CQd',#18,'2ndLevel',$,#41169,#194784,#42304,.PHYSICAL.,.INTERNAL.), #959275=IfcRelSpaceBoundary('07xoji0VgaeXwLKw$SCOPF',#18,'2ndLevel',$,#41169,#184327,#42313,.PHYSICAL.,.INTERNAL.), #959276=IfcRelSpaceBoundary('3ffQTMBQlFk1K6jz3$i3Eh',#18,'2ndLevel',$,#41169,#241165,#42322,.PHYSICAL.,.INTERNAL.), #959277=IfcRelSpaceBoundary('3lwL6RKE1DBfF6IJLTvat_',#18,'2ndLevel',$,#41169,#263979,#42331,.PHYSICAL.,.INTERNAL.), #959278=IfcRelSpaceBoundary('0jRbKMPKAuJXlI_xWCuh02',#18,'2ndLevel',$,#41169,#239187,#42384,.PHYSICAL.,.INTERNAL.), #959279=IfcRelSpaceBoundary('1Bw7y5$E3M1qW1$sl9EA6u',#18,'2ndLevel',$,#41169,#255154,#42393,.PHYSICAL.,.EXTERNAL.), #959280=IfcRelSpaceBoundary('2GmWE9sr6l8N84HrFQJ_Wr',#18,'2ndLevel',$,#41169,#195231,#42423,.PHYSICAL.,.EXTERNAL.), #959281=IfcRelSpaceBoundary('1fE7dnKKcMcxQbT0RJQEyr',#18,'2ndLevel',$,#41169,#227894,#42437,.PHYSICAL.,.INTERNAL.), #959282=IfcRelSpaceBoundary('3COwoXZKMEzYbmCMtwcbFT',#18,'2ndLevel',$,#41169,#231623,#42446,.PHYSICAL.,.INTERNAL.), #959283=IfcRelSpaceBoundary('2JVXDu8tyoTwyAATu7iNEY',#18,'2ndLevel',$,#41169,#227894,#42460,.PHYSICAL.,.INTERNAL.), #959284=IfcRelSpaceBoundary('2SUOWfdE9u3acXXQJJ_U10',#18,'2ndLevel',$,#41169,#231655,#42469,.PHYSICAL.,.INTERNAL.), #959285=IfcRelSpaceBoundary('1sxgt$8kk4WxRLvKGE1z0c',#18,'2ndLevel',$,#41169,#104508,#42488,.PHYSICAL.,.INTERNAL.), #959286=IfcRelSpaceBoundary('16bJXaL8M97OCYQOLpmXB0',#18,'2ndLevel',$,#41169,#195045,#42497,.PHYSICAL.,.EXTERNAL.), #959287=IfcRelSpaceBoundary('0vSyVzEqspJ6m9rBEQ15F8',#18,'2ndLevel',$,#41169,#195231,#42507,.PHYSICAL.,.EXTERNAL.), #959288=IfcRelSpaceBoundary('3wbjtVHteyVP6HYHaiRslm',#18,'2ndLevel',$,#41169,#227894,#42528,.PHYSICAL.,.INTERNAL.), #959289=IfcRelSpaceBoundary('3hAkUcQIyhqVrLUujouIb7',#18,'2ndLevel',$,#41169,#231623,#42537,.PHYSICAL.,.INTERNAL.), #959290=IfcRelSpaceBoundary('2dAMntdcC6_qUkABhhr5fs',#18,'2ndLevel',$,#41169,#231655,#42546,.PHYSICAL.,.INTERNAL.), #959291=IfcRelSpaceBoundary('2XyUT_8XDCcuzUXNlxp2C9',#18,'2ndLevel',$,#41169,#241165,#42570,.PHYSICAL.,.INTERNAL.), #959292=IfcRelSpaceBoundary('1cRehFHZFVTRVZoLPCYzDa',#18,'2ndLevel',$,#41169,#237985,#42579,.PHYSICAL.,.INTERNAL.), #959293=IfcRelSpaceBoundary('2RuyJdUZMbfxrNKfGDZWPB',#18,'2ndLevel',$,#41169,#238017,#42588,.PHYSICAL.,.INTERNAL.), #959294=IfcRelSpaceBoundary('1yHQYyVHj$pvNhx5EGI2CM',#18,'2ndLevel',$,#41169,#238048,#42597,.PHYSICAL.,.INTERNAL.), #959295=IfcRelSpaceBoundary('2YtXkXWq5H4beah32mIJWS',#18,'2ndLevel',$,#41169,#241165,#42606,.PHYSICAL.,.INTERNAL.), #959296=IfcRelSpaceBoundary('1VR3o7IogEdI_YlWqz9mlQ',#18,'2ndLevel',$,#41169,#241165,#42620,.PHYSICAL.,.INTERNAL.), #959297=IfcRelSpaceBoundary('0uwDjV7mvMOZNTRDD7Glpr',#18,'2ndLevel',$,#41169,#238160,#42629,.PHYSICAL.,.INTERNAL.), #959298=IfcRelSpaceBoundary('1VlnSP5_4amQVik7SHVwWb',#18,'2ndLevel',$,#41169,#195045,#42678,.PHYSICAL.,.EXTERNAL.), #959299=IfcRelSpaceBoundary('2NErCmQ9uLEdUNeyAnR43O',#18,'2ndLevel',$,#41169,#241165,#42692,.PHYSICAL.,.INTERNAL.), #959300=IfcRelSpaceBoundary('2dgJo7eBGab4xWNZiBQp6h',#18,'2ndLevel',$,#41169,#237985,#42701,.PHYSICAL.,.INTERNAL.), #959301=IfcRelSpaceBoundary('30JKhZ19gwmgnFJZ2Dfsop',#18,'2ndLevel',$,#41169,#237683,#42710,.PHYSICAL.,.INTERNAL.), #959302=IfcRelSpaceBoundary('0vd3ZPWGyjpOZj_VeNOdXF',#18,'2ndLevel',$,#41169,#241165,#42729,.PHYSICAL.,.INTERNAL.), #959303=IfcRelSpaceBoundary('0AcjchHqpjR8Pv0LrIgTP_',#18,'2ndLevel',$,#41169,#238017,#42738,.PHYSICAL.,.INTERNAL.), #959304=IfcRelSpaceBoundary('1LnUI5AuSvvtXY0O2SWBpo',#18,'2ndLevel',$,#41169,#238048,#42747,.PHYSICAL.,.INTERNAL.), #959305=IfcRelSpaceBoundary('3Gu7_Yb$sEl_wKUV6wSOGH',#18,'2ndLevel',$,#41169,#237683,#42756,.PHYSICAL.,.INTERNAL.), #959306=IfcRelSpaceBoundary('0cLV8Nel_7PJh0sZidynyT',#18,'2ndLevel',$,#41169,#241165,#42765,.PHYSICAL.,.INTERNAL.), #959307=IfcRelSpaceBoundary('3zgX0ylTe7b3pFiPDEgXVg',#18,'2ndLevel',$,#41169,#241165,#42774,.PHYSICAL.,.INTERNAL.), #959308=IfcRelSpaceBoundary('3beF4laHlpnnccDoJPYIQ_',#18,'2ndLevel',$,#41169,#241165,#42788,.PHYSICAL.,.INTERNAL.), #959309=IfcRelSpaceBoundary('1oZYWp6TnwZBYZWOekD9S1',#18,'2ndLevel',$,#41169,#238160,#42797,.PHYSICAL.,.INTERNAL.), #959310=IfcRelSpaceBoundary('3uWQPbK7Wa9b340xbzNBRV',#18,'2ndLevel',$,#41169,#241165,#42806,.PHYSICAL.,.INTERNAL.), #959311=IfcRelSpaceBoundary('0Eo38gqyRZ5u$wZF93v0xK',#18,'2ndLevel',$,#41169,#239187,#42835,.PHYSICAL.,.INTERNAL.), #959312=IfcRelSpaceBoundary('0XKRXd4UmMeCLKFw5wiXi3',#18,'2ndLevel',$,#41169,#239240,#42844,.PHYSICAL.,.INTERNAL.), #959313=IfcRelSpaceBoundary('3VbhggbgI1sGw_183Lo1oa',#18,'2ndLevel',$,#41169,#104508,#42854,.PHYSICAL.,.INTERNAL.), #959314=IfcRelSpaceBoundary('1BtwpnMzJ6YOMfLekSPN6o',#18,'2ndLevel',$,#41169,#239187,#42863,.PHYSICAL.,.INTERNAL.), #959315=IfcRelSpaceBoundary('2CxGIyIwk2IBDRCqz5pNsm',#18,'2ndLevel',$,#41169,#239240,#42872,.PHYSICAL.,.INTERNAL.))\n",
            "  CompositionType: ELEMENT\n",
            "  ContainsElements: ()\n",
            "  Decomposes: (#933664=IfcRelAggregates('3Zu5Bv0LOHrPC100A6FoQQ',#18,$,$,#112,(#40710,#41169,#42925,#43252,#43549,#44134,#44406,#45710,#47157,#47442,#47708,#48086,#48365,#48601,#49095,#49323,#49677,#49939,#50142,#50456,#51178,#51508,#51850,#52117,#52316,#52577,#52799,#52976,#53221,#53440,#53731,#75098,#75146,#75212,#75260,#75301,#75342,#75390,#75437,#75485)),)\n",
            "  Description: None\n",
            "  ElevationWithFlooring: None\n",
            "  GlobalId: 1GE3M13VHAWxhxwcp39EiJ\n",
            "  HasAssignments: ()\n",
            "  HasAssociations: ()\n",
            "  HasCoverings: ()\n",
            "  InteriorOrExteriorSpace: INTERNAL\n",
            "  IsDecomposedBy: ()\n",
            "  IsDefinedBy: (#42879=IfcRelDefinesByProperties('28UyNVtvNFz0eXTLidP97B',#18,$,$,(#41169),#42874), #42880=IfcRelDefinesByProperties('3Sos_XmcjtQsMhZQGRuUp4',#18,$,$,(#41169),#42876), #42881=IfcRelDefinesByProperties('2UnppQ6zJIJu5BOzyvz8Ki',#18,$,$,(#41169),#42878), #42888=IfcRelDefinesByProperties('0ZtQrM6vMm_XWc4OlDjPF3',#18,$,$,(#41169),#42887), #939720=IfcRelDefinesByProperties('0eZoGT9Fp1QnIB2fP0cRZa',#18,$,$,(#41169),#42908), #939721=IfcRelDefinesByProperties('001_y2sJXra9ZudN146nRk',#18,$,$,(#41169),#42909), #939722=IfcRelDefinesByProperties('2bVfAxcJ6UZPaKvcdJup0u',#18,$,$,(#41169),#42910), #939723=IfcRelDefinesByProperties('18WXj_SRczVZsm1l8nJ$g1',#18,$,$,(#41169),#42911), #939724=IfcRelDefinesByProperties('1Bf_a218Qpz6zcdaeQBbpI',#18,$,$,(#41169),#42912), #939725=IfcRelDefinesByProperties('18tPbwTRKgJxDSqpsUXMP5',#18,$,$,(#41169),#42913), #939726=IfcRelDefinesByProperties('3Z0U650UARMqjVeQ2yeVtG',#18,$,$,(#41169),#42914), #933743=IfcRelDefinesByType('35wFblqLOQkZ$rqNpXqXpD',#18,$,$,(#41169),#41170))\n",
            "  LongName: Lobby\n",
            "  Name: 102\n",
            "  ObjectPlacement: #40982=IfcLocalPlacement(#111,#40981)\n",
            "  ObjectType: None\n",
            "  OwnerHistory: #18=IfcOwnerHistory(#17,#2,$,.NOCHANGE.,$,$,$,1739537906)\n",
            "  ReferencedBy: ()\n",
            "  ReferencesElements: ()\n",
            "  Representation: #41168=IfcProductDefinitionShape($,$,(#41167))\n",
            "  ServicedBySystems: ()\n",
            "  attribute_name: <bound method entity_instance.attribute_name of #41169=IfcSpace('1GE3M13VHAWxhxwcp39EiJ',#18,'102',$,$,#40982,#41168,'Lobby',.ELEMENT.,.INTERNAL.,$)>\n",
            "  attribute_type: <bound method entity_instance.attribute_type of #41169=IfcSpace('1GE3M13VHAWxhxwcp39EiJ',#18,'102',$,$,#40982,#41168,'Lobby',.ELEMENT.,.INTERNAL.,$)>\n",
            "  compare: <bound method entity_instance.compare of #41169=IfcSpace('1GE3M13VHAWxhxwcp39EiJ',#18,'102',$,$,#40982,#41168,'Lobby',.ELEMENT.,.INTERNAL.,$)>\n",
            "  file: <ifcopenshell.file.file object at 0x78f26c73b510>\n",
            "  get_info: <bound method entity_instance.get_info of #41169=IfcSpace('1GE3M13VHAWxhxwcp39EiJ',#18,'102',$,$,#40982,#41168,'Lobby',.ELEMENT.,.INTERNAL.,$)>\n",
            "  get_info_2: <bound method entity_instance.get_info_2 of #41169=IfcSpace('1GE3M13VHAWxhxwcp39EiJ',#18,'102',$,$,#40982,#41168,'Lobby',.ELEMENT.,.INTERNAL.,$)>\n",
            "  id: <bound method entity_instance.id of #41169=IfcSpace('1GE3M13VHAWxhxwcp39EiJ',#18,'102',$,$,#40982,#41168,'Lobby',.ELEMENT.,.INTERNAL.,$)>\n",
            "  is_a: <bound method entity_instance.is_a of #41169=IfcSpace('1GE3M13VHAWxhxwcp39EiJ',#18,'102',$,$,#40982,#41168,'Lobby',.ELEMENT.,.INTERNAL.,$)>\n",
            "  is_entity: <bound method entity_instance.is_entity of #41169=IfcSpace('1GE3M13VHAWxhxwcp39EiJ',#18,'102',$,$,#40982,#41168,'Lobby',.ELEMENT.,.INTERNAL.,$)>\n",
            "  to_string: <bound method entity_instance.to_string of #41169=IfcSpace('1GE3M13VHAWxhxwcp39EiJ',#18,'102',$,$,#40982,#41168,'Lobby',.ELEMENT.,.INTERNAL.,$)>\n",
            "  unwrap_value: <function entity_instance.unwrap_value at 0x78f2804cf7e0>\n",
            "  walk: <function entity_instance.walk at 0x78f2804cf6a0>\n",
            "  wrap_value: <function entity_instance.wrap_value at 0x78f2804cf740>\n",
            "Room: #42925=IfcSpace('1GE3M13VHAWxhxwcp39Eiz',#18,'103',$,$,#42916,#42924,'Conference',.ELEMENT.,.INTERNAL.,$)\n",
            "  BoundedBy: (#42936=IfcRelSpaceBoundary('2RUAUcI0Gq2otkegaquq0O',#18,'2ndLevel',$,#42925,$,#42935,.VIRTUAL.,.INTERNAL.), #42955=IfcRelSpaceBoundary('0ca1ucawvZj9FzrxBDiOQ1',#18,'2ndLevel',$,#42925,$,#42954,.VIRTUAL.,.INTERNAL.), #43095=IfcRelSpaceBoundary('2h1qLktwvrHL$fk3VVioTA',#18,'2ndLevel',$,#42925,$,#43094,.VIRTUAL.,.INTERNAL.), #43128=IfcRelSpaceBoundary('1dIT4VfoWG1EHehaftlWq9',#18,'2ndLevel',$,#42925,$,#43127,.VIRTUAL.,.INTERNAL.), #959316=IfcRelSpaceBoundary('1M6y6NOzFBk$80T4kBGqiP',#18,'2ndLevel',$,#42925,#849085,#42945,.PHYSICAL.,.INTERNAL.), #959317=IfcRelSpaceBoundary('3D3cIDkrocTbRv2FFWJ80l',#18,'2ndLevel',$,#42925,#213434,#42964,.PHYSICAL.,.INTERNAL.), #959318=IfcRelSpaceBoundary('3e$tuevXlILPTyuP7gwulL',#18,'2ndLevel',$,#42925,#196765,#42980,.PHYSICAL.,.INTERNAL.), #959319=IfcRelSpaceBoundary('0gvC6DaFe4I1sekqQ4x6JA',#18,'2ndLevel',$,#42925,#213587,#42989,.PHYSICAL.,.INTERNAL.), #959320=IfcRelSpaceBoundary('2kaPGSkeUBBR7iiqaYnILr',#18,'2ndLevel',$,#42925,#213488,#42998,.PHYSICAL.,.EXTERNAL.), #959321=IfcRelSpaceBoundary('0OdmCi0wO0CICS_Wxmms4w',#18,'2ndLevel',$,#42925,#232054,#43017,.PHYSICAL.,.INTERNAL.), #959322=IfcRelSpaceBoundary('1yeZjXmC3BjuP_ztge51W0',#18,'2ndLevel',$,#42925,#237361,#43026,.PHYSICAL.,.INTERNAL.), #959323=IfcRelSpaceBoundary('2YawaqSQ_ZtkDUykHO60YY',#18,'2ndLevel',$,#42925,#237393,#43035,.PHYSICAL.,.INTERNAL.), #959324=IfcRelSpaceBoundary('1lbHf8wSmCueThgBw6a_n2',#18,'2ndLevel',$,#42925,#213488,#43044,.PHYSICAL.,.EXTERNAL.), #959325=IfcRelSpaceBoundary('3OBayBH_1egrDNZtPY_EjA',#18,'2ndLevel',$,#42925,#213488,#43053,.PHYSICAL.,.EXTERNAL.), #959326=IfcRelSpaceBoundary('2PvRV5TNulLam6t7fTeNiH',#18,'2ndLevel',$,#42925,#213488,#43062,.PHYSICAL.,.EXTERNAL.), #959327=IfcRelSpaceBoundary('3BD3EAnCgkU2A3soxiHc4i',#18,'2ndLevel',$,#42925,#232054,#43076,.PHYSICAL.,.INTERNAL.), #959328=IfcRelSpaceBoundary('3qug8n2MsJPENouqwtqzlR',#18,'2ndLevel',$,#42925,#237361,#43085,.PHYSICAL.,.INTERNAL.), #959329=IfcRelSpaceBoundary('3tVeJWqlVnDaZ3nAd3A1$u',#18,'2ndLevel',$,#42925,#232054,#43109,.PHYSICAL.,.INTERNAL.), #959330=IfcRelSpaceBoundary('0tnWfCF5rJD11KfpvYCWxD',#18,'2ndLevel',$,#42925,#237393,#43118,.PHYSICAL.,.INTERNAL.), #959331=IfcRelSpaceBoundary('3zZ1dSttPAB8ZnSDzd_GGw',#18,'2ndLevel',$,#42925,#213488,#43137,.PHYSICAL.,.EXTERNAL.), #959332=IfcRelSpaceBoundary('1MO971n4SYDx1qRP23drpn',#18,'2ndLevel',$,#42925,#232054,#43156,.PHYSICAL.,.INTERNAL.), #959333=IfcRelSpaceBoundary('1yZMcmBPMRyg43Z6xiosHs',#18,'2ndLevel',$,#42925,#237361,#43165,.PHYSICAL.,.INTERNAL.), #959334=IfcRelSpaceBoundary('359HfYMCP2XU9uCLOEJkXE',#18,'2ndLevel',$,#42925,#237393,#43174,.PHYSICAL.,.INTERNAL.))\n",
            "  CompositionType: ELEMENT\n",
            "  ContainsElements: ()\n",
            "  Decomposes: (#933664=IfcRelAggregates('3Zu5Bv0LOHrPC100A6FoQQ',#18,$,$,#112,(#40710,#41169,#42925,#43252,#43549,#44134,#44406,#45710,#47157,#47442,#47708,#48086,#48365,#48601,#49095,#49323,#49677,#49939,#50142,#50456,#51178,#51508,#51850,#52117,#52316,#52577,#52799,#52976,#53221,#53440,#53731,#75098,#75146,#75212,#75260,#75301,#75342,#75390,#75437,#75485)),)\n",
            "  Description: None\n",
            "  ElevationWithFlooring: None\n",
            "  GlobalId: 1GE3M13VHAWxhxwcp39Eiz\n",
            "  HasAssignments: ()\n",
            "  HasAssociations: ()\n",
            "  HasCoverings: ()\n",
            "  InteriorOrExteriorSpace: INTERNAL\n",
            "  IsDecomposedBy: ()\n",
            "  IsDefinedBy: (#43181=IfcRelDefinesByProperties('2B8wg_igXlXAXeMQ58eShO',#18,$,$,(#42925),#43176), #43182=IfcRelDefinesByProperties('05z43JIyEK4bb413yeB0H3',#18,$,$,(#42925),#43178), #43183=IfcRelDefinesByProperties('0iIdvYRU8512GoUVNF0mP7',#18,$,$,(#42925),#43180), #43190=IfcRelDefinesByProperties('2OGClGMm24aAjggHl_VFp8',#18,$,$,(#42925),#43189), #939916=IfcRelDefinesByProperties('15zLMwF28o4TdZAglg_hem',#18,$,$,(#42925),#43210), #939917=IfcRelDefinesByProperties('08Bf$x9DahqCQm7HCjHf$4',#18,$,$,(#42925),#43211), #939918=IfcRelDefinesByProperties('0TU2dPgBkAtBxOTLVfevmI',#18,$,$,(#42925),#43212), #939919=IfcRelDefinesByProperties('1l13giDRas$oP31c95wn11',#18,$,$,(#42925),#43213), #939920=IfcRelDefinesByProperties('1UDwIqR2jqFV0ZMwsse6be',#18,$,$,(#42925),#43214), #939921=IfcRelDefinesByProperties('3w$qsNGS6qCXsqL3GAVqF4',#18,$,$,(#42925),#43215), #939922=IfcRelDefinesByProperties('1CPjIBdd5qjztiatcxf75K',#18,$,$,(#42925),#43216), #933744=IfcRelDefinesByType('31qdTGBUsXAY_wUI77tQ7t',#18,$,$,(#42925),#42926))\n",
            "  LongName: Conference\n",
            "  Name: 103\n",
            "  ObjectPlacement: #42916=IfcLocalPlacement(#111,#42915)\n",
            "  ObjectType: None\n",
            "  OwnerHistory: #18=IfcOwnerHistory(#17,#2,$,.NOCHANGE.,$,$,$,1739537906)\n",
            "  ReferencedBy: ()\n",
            "  ReferencesElements: ()\n",
            "  Representation: #42924=IfcProductDefinitionShape($,$,(#42923))\n",
            "  ServicedBySystems: ()\n",
            "  attribute_name: <bound method entity_instance.attribute_name of #42925=IfcSpace('1GE3M13VHAWxhxwcp39Eiz',#18,'103',$,$,#42916,#42924,'Conference',.ELEMENT.,.INTERNAL.,$)>\n",
            "  attribute_type: <bound method entity_instance.attribute_type of #42925=IfcSpace('1GE3M13VHAWxhxwcp39Eiz',#18,'103',$,$,#42916,#42924,'Conference',.ELEMENT.,.INTERNAL.,$)>\n",
            "  compare: <bound method entity_instance.compare of #42925=IfcSpace('1GE3M13VHAWxhxwcp39Eiz',#18,'103',$,$,#42916,#42924,'Conference',.ELEMENT.,.INTERNAL.,$)>\n",
            "  file: <ifcopenshell.file.file object at 0x78f26c73b510>\n",
            "  get_info: <bound method entity_instance.get_info of #42925=IfcSpace('1GE3M13VHAWxhxwcp39Eiz',#18,'103',$,$,#42916,#42924,'Conference',.ELEMENT.,.INTERNAL.,$)>\n",
            "  get_info_2: <bound method entity_instance.get_info_2 of #42925=IfcSpace('1GE3M13VHAWxhxwcp39Eiz',#18,'103',$,$,#42916,#42924,'Conference',.ELEMENT.,.INTERNAL.,$)>\n",
            "  id: <bound method entity_instance.id of #42925=IfcSpace('1GE3M13VHAWxhxwcp39Eiz',#18,'103',$,$,#42916,#42924,'Conference',.ELEMENT.,.INTERNAL.,$)>\n",
            "  is_a: <bound method entity_instance.is_a of #42925=IfcSpace('1GE3M13VHAWxhxwcp39Eiz',#18,'103',$,$,#42916,#42924,'Conference',.ELEMENT.,.INTERNAL.,$)>\n",
            "  is_entity: <bound method entity_instance.is_entity of #42925=IfcSpace('1GE3M13VHAWxhxwcp39Eiz',#18,'103',$,$,#42916,#42924,'Conference',.ELEMENT.,.INTERNAL.,$)>\n",
            "  to_string: <bound method entity_instance.to_string of #42925=IfcSpace('1GE3M13VHAWxhxwcp39Eiz',#18,'103',$,$,#42916,#42924,'Conference',.ELEMENT.,.INTERNAL.,$)>\n",
            "  unwrap_value: <function entity_instance.unwrap_value at 0x78f2804cf7e0>\n",
            "  walk: <function entity_instance.walk at 0x78f2804cf6a0>\n",
            "  wrap_value: <function entity_instance.wrap_value at 0x78f2804cf740>\n"
          ]
        }
      ],
      "source": [
        "for room in rooms[:3]:  # Check the first 3 rooms\n",
        "    print(f\"Room: {room}\")\n",
        "    for attr in dir(room):  # Iterate through all attributes of the room object\n",
        "        if not attr.startswith(\"_\"):  # Exclude private attributes\n",
        "            value = getattr(room, attr)\n",
        "            print(f\"  {attr}: {value}\")"
      ]
    },
    {
      "cell_type": "markdown",
      "metadata": {
        "id": "zIOzB2IrxfGD"
      },
      "source": [
        "## 2.3. Build graph"
      ]
    },
    {
      "cell_type": "markdown",
      "metadata": {
        "id": "OFWFBCSzkqwU"
      },
      "source": [
        "**RDF (Resource Description Framework)** represents data as triples: subject, predicate, and object. It’s commonly used in the Semantic Web to maintain a universal, flexible model of linked data. Relationships are defined via standardized vocabularies (e.g., RDF Schema, OWL), enabling robust data integration and inference across different domains.\n",
        "\n",
        "**LPG (Labeled Property Graph)** organizes data into nodes (entities) and edges (relationships), both of which can have labels and properties. This approach is popular in many graph databases for direct, application-focused queries (often using query languages like Cypher). It’s simpler to model certain graph use cases without the semantic overhead of RDF vocabularies.\n",
        "\n",
        "Our workflow is based on **Labeled Property Graph**"
      ]
    },
    {
      "cell_type": "code",
      "execution_count": null,
      "metadata": {
        "id": "tcaBiQrrxV5g"
      },
      "outputs": [],
      "source": [
        "G = nx.Graph()\n",
        "\n",
        "# Add Rooms\n",
        "for room in rooms:\n",
        "    room_id = room.GlobalId\n",
        "    G.add_node(room_id, **extract_properties(room), category=\"IfcSpace\")\n",
        "\n",
        "# Add Room-Element Connections\n",
        "#    (Any building element bounding a room goes here with 'SURROUNDS'.)\n",
        "for rel in space_boundaries:\n",
        "    room = rel.RelatingSpace\n",
        "    element = rel.RelatedBuildingElement\n",
        "    if room and element:\n",
        "        if element.GlobalId not in G.nodes:\n",
        "            G.add_node(element.GlobalId, **extract_properties(element), category=element.is_a())\n",
        "        # Connect the room to this element\n",
        "        G.add_edge(room.GlobalId, element.GlobalId, relation=\"SURROUNDS\")\n",
        "\n",
        "# Add Wall-Window/Door Connections\n",
        "#    (Direct 'VOIDS' edge from IfcWall* types to IfcDoor or IfcWindow.)\n",
        "for rel in ifc_file.by_type(\"IfcRelVoidsElement\"):\n",
        "    wall = rel.RelatingBuildingElement\n",
        "    opening = rel.RelatedOpeningElement\n",
        "\n",
        "    for fill_rel in ifc_file.by_type(\"IfcRelFillsElement\"):\n",
        "        if fill_rel.RelatingOpeningElement == opening:\n",
        "            filled_element = fill_rel.RelatedBuildingElement\n",
        "            # Strict check: IfcWall*, IfcWallStandardCase, IfcCurtainWall --> [IfcDoor | IfcWindow]\n",
        "            if (\n",
        "                wall\n",
        "                and filled_element\n",
        "                and \"Wall\" in wall.is_a()\n",
        "                and filled_element.is_a() in [\"IfcDoor\", \"IfcWindow\"]\n",
        "            ):\n",
        "                # Ensure both nodes (Wall + Door/Window) exist in the graph\n",
        "                if wall.GlobalId not in G.nodes:\n",
        "                    G.add_node(wall.GlobalId, **extract_properties(wall), category=wall.is_a())\n",
        "                if filled_element.GlobalId not in G.nodes:\n",
        "                    G.add_node(filled_element.GlobalId, **extract_properties(filled_element), category=filled_element.is_a())\n",
        "\n",
        "                # Create a direct connection for the wall-door/window\n",
        "                # print(f\"VOIDS edge found: {wall.GlobalId} -> {filled_element.GlobalId}\")\n",
        "                G.add_edge(wall.GlobalId, filled_element.GlobalId, relation=\"VOIDS\")\n"
      ]
    },
    {
      "cell_type": "markdown",
      "metadata": {
        "id": "qgoKKqKsxi8j"
      },
      "source": [
        "## 2.4. Generate 3D Layout and Visualization"
      ]
    },
    {
      "cell_type": "code",
      "execution_count": null,
      "metadata": {
        "colab": {
          "base_uri": "https://localhost:8080/",
          "height": 817
        },
        "id": "GXGYF59_Zy60",
        "outputId": "f483c57c-966f-44d7-890a-dc7762853b29"
      },
      "outputs": [
        {
          "data": {
            "text/html": [
              "<html>\n",
              "<head><meta charset=\"utf-8\" /></head>\n",
              "<body>\n",
              "    <div>            <script src=\"https://cdnjs.cloudflare.com/ajax/libs/mathjax/2.7.5/MathJax.js?config=TeX-AMS-MML_SVG\"></script><script type=\"text/javascript\">if (window.MathJax && window.MathJax.Hub && window.MathJax.Hub.Config) {window.MathJax.Hub.Config({SVG: {font: \"STIX-Web\"}});}</script>                <script type=\"text/javascript\">window.PlotlyConfig = {MathJaxConfig: 'local'};</script>\n",
              "        <script charset=\"utf-8\" src=\"https://cdn.plot.ly/plotly-2.35.2.min.js\"></script>                <div id=\"86164d04-18d9-430d-8312-9e0438c57c7e\" class=\"plotly-graph-div\" style=\"height:800px; width:1200px;\"></div>            <script type=\"text/javascript\">                                    window.PLOTLYENV=window.PLOTLYENV || {};                                    if (document.getElementById(\"86164d04-18d9-430d-8312-9e0438c57c7e\")) {                    Plotly.newPlot(                        \"86164d04-18d9-430d-8312-9e0438c57c7e\",                        [{\"hoverinfo\":\"none\",\"line\":{\"color\":\"red\",\"width\":2},\"mode\":\"lines\",\"x\":[-0.31623213351281876,-0.3318461467742298,null,-0.45118105444956175,-0.41900384264386875,null,-0.12576553062343493,-0.179300872673084,null,-0.12576553062343493,-0.21742723298615457,null,-0.14942459893872645,-0.16021921292471292,null,-0.14942459893872645,-0.20169322854430857,null,-0.4438785196710063,-0.4896687833382923,null,-0.4438785196710063,-0.48956459223493914,null,-0.4438785196710063,-0.44522286357019497,null,-0.36138099331214574,-0.32377309970684853,null,-0.36138099331214574,-0.37138413894357064,null,-0.36138099331214574,-0.40325098864246395,null,-0.36138099331214574,-0.4635690779691405,null,-0.36138099331214574,-0.35842484076696046,null,-0.364607249135075,-0.4095402492056586,null,0.07537462887322406,0.17111250528142827,null,0.07537462887322406,0.1403890169804388,null,0.07537462887322406,0.11176900104492794,null,0.07537462887322406,0.041325478042031114,null,0.07537462887322406,0.06985727674546789,null,0.07537462887322406,0.13331226337411559,null,0.07537462887322406,0.10871181400492377,null,0.07537462887322406,0.07799148588470152,null,0.07537462887322406,0.04674747181007081,null,-0.07732457540658537,0.055990379439703745,null,-0.07732457540658537,0.0018110720250255267,null,-0.07732457540658537,-0.06183955972837794,null,-0.07732457540658537,-0.0553630377241002,null,-0.07732457540658537,-0.05830129634019835,null,-0.07732457540658537,-0.07736745808418508,null,-0.07732457540658537,-0.08023801989931972,null,-0.07732457540658537,-0.0690439573929401,null,0.2191680759156693,0.34902842063872797,null,0.06370423889039584,0.15514671869566082,null,0.06370423889039584,0.11804156277055089,null,0.028188163273554105,0.10605983962206421,null,0.028188163273554105,0.07634797757986397,null,-0.41930164614254717,-0.3878476042808264,null,-0.04683413978718365,-0.20345015757842128,null,-0.04683413978718365,-0.19669218982369138,null,-0.04683413978718365,-0.0622451106057972,null,-0.04683413978718365,-0.10696865088873365,null,-0.04683413978718365,-0.11454089291477412,null,-0.04683413978718365,-0.07149548374994238,null,-0.04683413978718365,-0.19419201571455635,null,-0.04683413978718365,-0.1800455523626186,null,-0.04683413978718365,-0.2027744164734425,null,-0.04683413978718365,-0.17020194517238058,null,-0.04683413978718365,-0.1856215471016765,null,-0.04683413978718365,-0.13331804187736812,null,-0.04683413978718365,-0.009064644642546924,null,-0.04683413978718365,-0.05355644733683125,null,-0.04683413978718365,-0.040918698500546774,null,-0.04683413978718365,0.07308209713729541,null,-0.04683413978718365,0.05496295788125926,null,-0.04683413978718365,0.08692403226667314,null,-0.04683413978718365,0.05098158573462091,null,-0.04683413978718365,0.12236202959199156,null,-0.04683413978718365,0.11266574038322291,null,-0.04683413978718365,0.13936358744703267,null,-0.04683413978718365,0.1297568843444161,null,-0.04683413978718365,0.09490224639278136,null,-0.35232050034584006,-0.37132092452398685,null,-0.18043990396298137,-0.1601193306298695,null,-0.18043990396298137,-0.12485892727437332,null,-0.18043990396298137,-0.09912743210599996,null,-0.18043990396298137,-0.17333271470751607,null,-0.29017620225896373,-0.3710475052732388,null,-0.42201790189028887,-0.4098194042223058,null,-0.42201790189028887,-0.5088792598322058,null,-0.3181488559330481,-0.27067232932636803,null,0.002326765935351123,0.01983593057979517,null,-0.10934596990989609,-0.045309881001980704,null,-0.2196950038653045,-0.24599518674059162,null,-0.2196950038653045,-0.3023081400020276,null,-0.36131330507759635,-0.3701660071837865,null,0.01698455985455612,0.10390432979860521,null,-0.35665154730475795,-0.41699103754988764,null,-0.40894145595666437,-0.40168758977637786,null,0.8476541328046844,0.9733127543109936,null,0.8476541328046844,0.9381132817489833,null,0.8476541328046844,0.9330147912662236,null,0.8476541328046844,0.9551930883369856,null,0.8476541328046844,0.9425575823814565,null,0.8476541328046844,0.9498828067957383,null,0.8476541328046844,0.9465286588671532,null,0.8476541328046844,0.8145463845255957,null,0.7776497573822431,0.7728654646827213,null,0.4886210803008048,0.5420856607617637,null,0.4886210803008048,0.6046666102020072,null,0.3530724155019121,0.3067062167150928,null,0.3530724155019121,0.3755341574286127,null,0.3785803601804319,0.4027734624762913,null,0.28459697583497806,0.2159882180893741,null,0.28459697583497806,0.2257683628729685,null,0.28459697583497806,0.30314480658340237,null,0.28459697583497806,0.3521398981240722,null,0.28459697583497806,0.3494231623233391,null,0.28459697583497806,0.2727140929180781,null,0.2290672053722911,0.17098607832980156,null,0.29021526389588637,0.3912954740694195,null,0.29021526389588637,0.284546478906286,null,0.29021526389588637,0.357764278163943,null,0.29021526389588637,0.2818104997341645,null,0.29021526389588637,0.2878322743323448,null,0.29021526389588637,0.31818748663224905,null,0.14416820102810224,0.17541540341001066,null],\"y\":[0.20325781870243645,0.34084117324950197,null,0.11511328688626149,0.10256026578310612,null,-0.04256403191947222,0.06994761784649452,null,-0.04256403191947222,0.033158619528507426,null,0.06472916455345057,0.11257634549905426,null,0.06472916455345057,0.0655451568937087,null,0.03341072432969005,0.04175264456534318,null,0.03341072432969005,-0.006437070991876386,null,0.03341072432969005,0.10684404725488655,null,0.1169102884914761,0.17471514920749712,null,0.1169102884914761,0.16546180900415414,null,0.1169102884914761,0.12093073440259604,null,0.1169102884914761,0.1871953812203224,null,0.1169102884914761,0.20303608342826465,null,-0.10464276024718189,-0.16925045856490203,null,-0.400465501023681,-0.384329750163818,null,-0.400465501023681,-0.4447615960708613,null,-0.400465501023681,-0.4622340100202637,null,-0.400465501023681,-0.4462787456742598,null,-0.400465501023681,-0.43760173093496824,null,-0.400465501023681,-0.4128033889763223,null,-0.400465501023681,-0.4314460812098078,null,-0.400465501023681,-0.372935513644862,null,-0.400465501023681,-0.38030255538521,null,-0.34712216868484136,-0.34092473604778833,null,-0.34712216868484136,-0.36287283018224575,null,-0.34712216868484136,-0.4043126861101037,null,-0.34712216868484136,-0.3782302577299946,null,-0.34712216868484136,-0.36109366978836555,null,-0.34712216868484136,-0.3395054246677973,null,-0.34712216868484136,-0.3111646014602402,null,-0.34712216868484136,-0.299244265683661,null,-0.19108389122506506,-0.3030520405252699,null,-0.07457284912370388,-0.1253254367334451,null,-0.07457284912370388,-0.1265229842824183,null,-0.08414507513076,-0.14402485957465164,null,-0.08414507513076,-0.14431863607490744,null,0.2093258526117006,0.24945663061851608,null,-0.045057469527083546,-0.10244138786356467,null,-0.045057469527083546,-0.13919047419405742,null,-0.045057469527083546,-0.2164606279325722,null,-0.045057469527083546,-0.2060349543874208,null,-0.045057469527083546,-0.16784270626836406,null,-0.045057469527083546,-0.18143497714993784,null,-0.045057469527083546,-0.006450909511429738,null,-0.045057469527083546,0.019159317114474765,null,-0.045057469527083546,-0.04889619823574359,null,-0.045057469527083546,-0.062226738590315835,null,-0.045057469527083546,-0.09418345424814008,null,-0.045057469527083546,-0.16131292364750446,null,-0.045057469527083546,-0.16837424122518413,null,-0.045057469527083546,-0.14569941480803134,null,-0.045057469527083546,-0.1842106077376507,null,-0.045057469527083546,0.08663944001740426,null,-0.045057469527083546,0.11962788412804318,null,-0.045057469527083546,0.08980312784022368,null,-0.045057469527083546,0.10022406326166297,null,-0.045057469527083546,0.039104995878828236,null,-0.045057469527083546,0.030720885275945464,null,-0.045057469527083546,-0.0026914817451732303,null,-0.045057469527083546,-0.004244632836199523,null,-0.045057469527083546,0.023122589154891227,null,-0.22962025673132988,-0.17905512141420132,null,-0.3494725983939492,-0.427289633318164,null,-0.3494725983939492,-0.3650780874076365,null,-0.3494725983939492,-0.44862661840507834,null,-0.3494725983939492,-0.4673134359147566,null,-0.28912775868693164,-0.32533188902698856,null,-0.21946649091787748,-0.23900820159528996,null,-0.21946649091787748,-0.2044130545845644,null,-0.14938477167070868,-0.1604977866631172,null,-0.4279814479692936,-0.44908668853251665,null,-0.525278507266907,-0.5404281145335448,null,-0.312301125574439,-0.27570503245043415,null,-0.312301125574439,-0.2914156120316533,null,-0.39649148593873,-0.3957569717594388,null,-0.06579474841140363,-0.15446952380615117,null,0.07985386532635687,0.220765273873051,null,-0.14730739199627552,-0.18026793086884693,null,0.31051387657007784,0.34545367822087475,null,0.31051387657007784,0.39666776777551105,null,0.31051387657007784,0.35705445714673195,null,0.31051387657007784,0.38677753720770586,null,0.31051387657007784,0.4229959127271377,null,0.31051387657007784,0.29058014940814064,null,0.31051387657007784,0.3223784745653776,null,0.31051387657007784,0.1906751450014839,null,0.212567631792597,0.1932927929671806,null,0.4569607985630378,0.510296417316149,null,0.4569607985630378,0.46816503712252017,null,0.5199902693779456,0.5276959558329463,null,0.5199902693779456,0.5823337548247374,null,0.6625013865393955,0.6347152152394108,null,0.577103676333684,0.6225481026938754,null,0.577103676333684,0.6405876046444299,null,0.577103676333684,0.6516460607628983,null,0.577103676333684,0.6283513532801887,null,0.577103676333684,0.6335046986555173,null,0.577103676333684,0.6058006195010691,null,0.6809203042478824,0.704839194219405,null,0.31599261352300606,0.2569234526750079,null,0.31599261352300606,0.46261038739506033,null,0.31599261352300606,0.2864702164657483,null,0.31599261352300606,0.4144849516112059,null,0.31599261352300606,0.24236183561108177,null,0.31599261352300606,0.20059430283948984,null,0.613562929940228,0.6149678422535939,null],\"z\":[0.2852862422631666,0.2942855809786985,null,0.3589794765394489,0.38678786972685075,null,0.39822640174023466,0.38810570350418044,null,0.39822640174023466,0.41217348327378583,null,0.2831044037381123,0.2648925416033834,null,0.2831044037381123,0.30288215508369964,null,0.2521013116931456,0.29853334408691334,null,0.2521013116931456,0.2881895775763782,null,0.2521013116931456,0.26352559331302766,null,0.13754470624748572,0.17538156803216684,null,0.13754470624748572,0.1714425931265763,null,0.13754470624748572,0.1721033182195973,null,0.13754470624748572,0.15270714932715848,null,0.13754470624748572,0.13822327787341948,null,-0.03869581883676084,-0.13436229730425772,null,0.4972360197616839,0.4676168472955775,null,0.4972360197616839,0.4862716048602116,null,0.4972360197616839,0.49631845184681517,null,0.4972360197616839,0.5514079501008347,null,0.4972360197616839,0.5533863984952627,null,0.4972360197616839,0.5456366548673062,null,0.4972360197616839,0.5591014826992032,null,0.4972360197616839,0.615922209522808,null,0.4972360197616839,0.6201465401875724,null,0.37727734076684616,0.37336666886503306,null,0.37727734076684616,0.36236990289335325,null,0.37727734076684616,0.43373256973560714,null,0.37727734076684616,0.408162613228216,null,0.37727734076684616,0.4367926591062531,null,0.37727734076684616,0.4406342520149721,null,0.37727734076684616,0.4719968183073407,null,0.37727734076684616,0.5058559137544654,null,0.26816719783865656,0.27633884564888017,null,0.46994547093036726,0.522341713634864,null,0.46994547093036726,0.5613260294640571,null,0.3677664504552191,0.4019768022568635,null,0.3677664504552191,0.4386777596613303,null,0.24243525125635537,0.30293155640641783,null,-0.4511313862751999,-0.4739206357499666,null,-0.4511313862751999,-0.48425293932021246,null,-0.4511313862751999,-0.46867421233929807,null,-0.4511313862751999,-0.4879857755969928,null,-0.4511313862751999,-0.4780899668339029,null,-0.4511313862751999,-0.4636286799171384,null,-0.4511313862751999,-0.5289257452302787,null,-0.4511313862751999,-0.5148651677521149,null,-0.4511313862751999,-0.5813360618434422,null,-0.4511313862751999,-0.588339280829903,null,-0.4511313862751999,-0.5903657334613808,null,-0.4511313862751999,-0.5413830603725427,null,-0.4511313862751999,-0.5312841234753545,null,-0.4511313862751999,-0.5564445797379484,null,-0.4511313862751999,-0.5496043607107073,null,-0.4511313862751999,-0.6040279095621883,null,-0.4511313862751999,-0.5896002264380188,null,-0.4511313862751999,-0.5694013736859653,null,-0.4511313862751999,-0.570338729570096,null,-0.4511313862751999,-0.5985738094370101,null,-0.4511313862751999,-0.5619231677298162,null,-0.4511313862751999,-0.5589329402616332,null,-0.4511313862751999,-0.5916412297529423,null,-0.4511313862751999,-0.6020382963864512,null,-0.24182438031039058,-0.2857129436357701,null,-0.1973179353525699,-0.2165413114933085,null,-0.1973179353525699,-0.2907227807766849,null,-0.1973179353525699,-0.22273073656708148,null,-0.1973179353525699,-0.20202983544039563,null,-0.26139117146018087,-0.3011578930387322,null,-0.22040634203616874,-0.26210648504132056,null,-0.22040634203616874,-0.272459709538133,null,-0.34260223523531413,-0.4251464745353465,null,-0.21687005105150398,-0.25326301499427256,null,-0.16670142723382844,-0.18869009920517066,null,-0.2664859084814702,-0.3746543104618644,null,-0.2664859084814702,-0.36610807402643075,null,-0.21569928383804,-0.18959440993604443,null,-0.2639623504293571,-0.3216285184924235,null,-0.08950935130618258,-0.11650289549526024,null,-0.42885964465677023,-0.43437305848183927,null,-0.13950226372118762,-0.2162299083922518,null,-0.13950226372118762,-0.21824823418224878,null,-0.13950226372118762,-0.24210514548609455,null,-0.13950226372118762,-0.15264224355241077,null,-0.13950226372118762,-0.14493869555945005,null,-0.13950226372118762,-0.12215175411251401,null,-0.13950226372118762,-0.0904416637707479,null,-0.13950226372118762,-0.05651816653705894,null,-0.018063313798989736,-0.04689495853850796,null,0.11949722796905488,0.1968459906243195,null,0.11949722796905488,0.14743497593018004,null,0.007271957142999552,0.027919263590714432,null,0.007271957142999552,-0.02656416151712261,null,-0.07822681144395688,-0.0782720225559031,null,-0.1765813432195058,-0.1373654159047452,null,-0.1765813432195058,-0.16195866350102153,null,-0.1765813432195058,-0.18606725711529545,null,-0.1765813432195058,-0.18715652622084974,null,-0.1765813432195058,-0.14210667231485533,null,-0.1765813432195058,-0.08388342817125162,null,-0.2603150004141208,-0.2529263523191057,null,-0.3864363795658885,-0.4581555503379588,null,-0.3864363795658885,-0.29716193453055634,null,-0.3864363795658885,-0.46920787109721673,null,-0.3864363795658885,-0.3355019300213443,null,-0.3864363795658885,-0.4945312316706316,null,-0.3864363795658885,-0.48216880828090036,null,-0.31199214781379053,-0.3002945118479418,null],\"type\":\"scatter3d\"},{\"hoverinfo\":\"none\",\"line\":{\"color\":\"gray\",\"width\":2},\"mode\":\"lines\",\"opacity\":0.5,\"x\":[-0.252696253692492,-0.3165008756849425,null,-0.252696253692492,-0.11955903852010503,null,-0.252696253692492,-0.31623213351281876,null,-0.252696253692492,-0.2905589144455153,null,-0.2937217594199676,-0.31623213351281876,null,-0.2937217594199676,-0.23157816648038096,null,-0.2937217594199676,-0.48772112303640824,null,-0.2937217594199676,-0.34802478427023903,null,-0.2937217594199676,-0.37033242619632606,null,-0.2937217594199676,-0.19590418890106762,null,-0.2937217594199676,-0.45118105444956175,null,-0.2937217594199676,-0.4499125847669834,null,-0.2937217594199676,-0.31781892311816645,null,-0.2937217594199676,-0.11955903852010503,null,-0.2937217594199676,-0.12576553062343493,null,-0.2937217594199676,-0.179300872673084,null,-0.2937217594199676,0.0168243537751598,null,-0.2937217594199676,-0.14942459893872645,null,-0.2937217594199676,-0.16021921292471292,null,-0.2937217594199676,-0.21742723298615457,null,-0.2937217594199676,-0.20169322854430857,null,-0.2937217594199676,-0.4438785196710063,null,-0.2937217594199676,-0.44522286357019497,null,-0.2937217594199676,-0.0394844437302948,null,-0.2937217594199676,-0.36138099331214574,null,-0.2937217594199676,-0.32377309970684853,null,-0.2937217594199676,-0.37138413894357064,null,-0.2937217594199676,-0.48956459223493914,null,-0.2937217594199676,-0.3745176681403894,null,-0.2937217594199676,-0.4896687833382923,null,-0.2937217594199676,-0.4370481655642643,null,-0.2937217594199676,-0.40325098864246395,null,-0.2937217594199676,-0.41900384264386875,null,-0.2937217594199676,-0.41323603694247957,null,-0.2937217594199676,-0.2905589144455153,null,-0.2937217594199676,-0.35842484076696046,null,-0.2937217594199676,-0.364607249135075,null,0.08322819401565806,-0.11955903852010503,null,0.08322819401565806,0.15105666255628383,null,0.08322819401565806,0.07537462887322406,null,0.08322819401565806,0.17111250528142827,null,0.08322819401565806,0.24094836716978058,null,0.08322819401565806,-0.07732457540658537,null,0.08322819401565806,0.055990379439703745,null,0.08322819401565806,0.0018110720250255267,null,0.03644098186986586,0.15105666255628383,null,0.03644098186986586,-0.11955903852010503,null,0.03644098186986586,0.04271868358642578,null,0.03644098186986586,0.07537462887322406,null,0.03644098186986586,0.1403890169804388,null,0.03644098186986586,0.11176900104492794,null,0.03644098186986586,-0.07732457540658537,null,-0.016325922657401497,0.04271868358642578,null,-0.016325922657401497,-0.11955903852010503,null,-0.016325922657401497,0.011401515201596659,null,-0.016325922657401497,0.07537462887322406,null,-0.016325922657401497,0.041325478042031114,null,-0.016325922657401497,0.06985727674546789,null,-0.016325922657401497,-0.07732457540658537,null,-0.016325922657401497,-0.06183955972837794,null,-0.016325922657401497,-0.0553630377241002,null,-0.016325922657401497,-0.05830129634019835,null,-0.016325922657401497,-0.07736745808418508,null,0.008683175667681994,0.011401515201596659,null,0.008683175667681994,-0.11955903852010503,null,0.008683175667681994,0.07537462887322406,null,0.008683175667681994,0.13331226337411559,null,0.008683175667681994,0.10871181400492377,null,0.008683175667681994,-0.07732457540658537,null,0.008683175667681994,-0.017654748270626842,null,0.06421245838691696,-0.12576553062343493,null,0.06421245838691696,0.07537462887322406,null,0.06421245838691696,0.17111250528142827,null,0.06421245838691696,0.24094836716978058,null,0.06421245838691696,-0.07732457540658537,null,0.06421245838691696,0.055990379439703745,null,0.06421245838691696,0.0018110720250255267,null,0.06421245838691696,0.1403890169804388,null,0.06421245838691696,0.11176900104492794,null,0.06421245838691696,0.041325478042031114,null,0.06421245838691696,0.06985727674546789,null,0.06421245838691696,-0.06183955972837794,null,0.06421245838691696,-0.0553630377241002,null,0.06421245838691696,-0.05830129634019835,null,0.06421245838691696,-0.07736745808418508,null,0.06421245838691696,0.13331226337411559,null,0.06421245838691696,0.10871181400492377,null,0.06421245838691696,0.2191680759156693,null,0.06421245838691696,0.06326950990834765,null,0.06421245838691696,0.1640808062511854,null,0.06421245838691696,0.15912400306307434,null,0.06421245838691696,0.2126525725232783,null,0.06421245838691696,-0.11955903852010503,null,0.06421245838691696,0.07799148588470152,null,0.06421245838691696,0.04674747181007081,null,0.06421245838691696,-0.02246146051073296,null,0.06421245838691696,-0.08023801989931972,null,0.06421245838691696,-0.0690439573929401,null,0.06421245838691696,0.06370423889039584,null,0.06421245838691696,0.11804156277055089,null,0.06421245838691696,0.028188163273554105,null,0.06421245838691696,0.07634797757986397,null,0.06421245838691696,0.15514671869566082,null,0.06421245838691696,0.10605983962206421,null,0.06421245838691696,0.02608215977374414,null,0.06421245838691696,0.0054466227027594105,null,0.06421245838691696,0.078869055474084,null,0.06421245838691696,0.15791843635674624,null,0.06421245838691696,0.12054706683352885,null,-0.027893110824216527,-0.017654748270626842,null,-0.027893110824216527,0.06326950990834765,null,-0.027893110824216527,0.07537462887322406,null,-0.027893110824216527,0.07799148588470152,null,-0.027893110824216527,0.04674747181007081,null,-0.027893110824216527,-0.02246146051073296,null,-0.027893110824216527,-0.07732457540658537,null,-0.027893110824216527,-0.08023801989931972,null,-0.027893110824216527,-0.0690439573929401,null,-0.027893110824216527,-0.04734517349981599,null,-0.027893110824216527,-0.033830329999355285,null,-0.027893110824216527,-0.11955903852010503,null,0.0761927163121575,0.06370423889039584,null,0.0761927163121575,0.11804156277055089,null,0.0761927163121575,0.028188163273554105,null,0.0761927163121575,0.07634797757986397,null,0.0761927163121575,0.06326950990834765,null,0.0761927163121575,-0.02246146051073296,null,0.0761927163121575,0.16978988333857564,null,0.0761927163121575,0.17393637676219673,null,0.0761927163121575,-0.11955903852010503,null,0.0761927163121575,0.12331232467490502,null,0.10688766311995553,0.06370423889039584,null,0.10688766311995553,0.15514671869566082,null,0.10688766311995553,0.028188163273554105,null,0.10688766311995553,0.10605983962206421,null,0.10688766311995553,0.16978988333857564,null,0.10688766311995553,0.26101932019359897,null,0.10688766311995553,-0.11955903852010503,null,0.10688766311995553,0.02608215977374414,null,0.10688766311995553,0.0054466227027594105,null,0.10688766311995553,0.2004186759658009,null,-0.024788604726295828,-0.12576553062343493,null,-0.024788604726295828,-0.179300872673084,null,-0.024788604726295828,0.0168243537751598,null,-0.024788604726295828,-0.14942459893872645,null,-0.024788604726295828,-0.16021921292471292,null,-0.024788604726295828,0.02608215977374414,null,-0.024788604726295828,0.0054466227027594105,null,-0.024788604726295828,0.16978988333857564,null,-0.024788604726295828,-0.11955903852010503,null,-0.024788604726295828,-0.03917260390617428,null,-0.024788604726295828,0.06370423889039584,null,-0.024788604726295828,-0.045418885721114695,null,-0.024788604726295828,0.028188163273554105,null,-0.07355328418399111,-0.12576553062343493,null,-0.07355328418399111,-0.21742723298615457,null,-0.07355328418399111,-0.14942459893872645,null,-0.07355328418399111,-0.20169322854430857,null,-0.07355328418399111,0.02608215977374414,null,-0.07355328418399111,0.0054466227027594105,null,-0.07355328418399111,-0.03917260390617428,null,-0.07355328418399111,0.06370423889039584,null,-0.07355328418399111,-0.045418885721114695,null,-0.07355328418399111,0.028188163273554105,null,-0.07355328418399111,-0.11955903852010503,null,0.018781396920057338,0.0168243537751598,null,0.018781396920057338,0.16978988333857564,null,0.018781396920057338,-0.11955903852010503,null,0.018781396920057338,-0.0394844437302948,null,-0.2955343564898704,-0.4438785196710063,null,-0.2955343564898704,-0.44522286357019497,null,-0.2955343564898704,-0.0394844437302948,null,-0.2955343564898704,-0.36138099331214574,null,-0.2955343564898704,-0.32377309970684853,null,-0.2955343564898704,-0.37138413894357064,null,-0.2955343564898704,-0.11955903852010503,null,-0.2955343564898704,-0.5146478719183804,null,-0.4021666191424576,-0.4438785196710063,null,-0.4021666191424576,-0.48956459223493914,null,-0.4021666191424576,-0.36138099331214574,null,-0.4021666191424576,-0.5146478719183804,null,-0.4021666191424576,-0.11955903852010503,null,-0.4021666191424576,-0.5619279212809287,null,-0.3897552357031138,-0.3745176681403894,null,-0.3897552357031138,-0.4438785196710063,null,-0.3897552357031138,-0.4896687833382923,null,-0.3897552357031138,-0.4370481655642643,null,-0.3897552357031138,-0.36138099331214574,null,-0.3897552357031138,-0.40325098864246395,null,-0.3897552357031138,-0.5619279212809287,null,-0.3897552357031138,-0.11955903852010503,null,-0.35395744387891626,-0.31623213351281876,null,-0.35395744387891626,-0.45118105444956175,null,-0.35395744387891626,-0.41900384264386875,null,-0.35395744387891626,-0.4499125847669834,null,-0.35395744387891626,-0.36138099331214574,null,-0.35395744387891626,-0.41323603694247957,null,-0.35395744387891626,-0.3745176681403894,null,-0.35395744387891626,-0.4370481655642643,null,-0.35395744387891626,-0.11955903852010503,null,-0.35395744387891626,-0.41930164614254717,null,-0.35395744387891626,-0.3878476042808264,null,-0.2488861872309047,-0.3745176681403894,null,-0.2488861872309047,-0.41930164614254717,null,-0.2488861872309047,-0.3878476042808264,null,-0.2488861872309047,-0.31623213351281876,null,-0.2488861872309047,-0.3318461467742298,null,-0.2488861872309047,-0.07966249592768988,null,-0.2488861872309047,-0.11955903852010503,null,-0.3023016755600013,-0.34802478427023903,null,-0.3023016755600013,-0.37033242619632606,null,-0.3023016755600013,-0.11955903852010503,null,-0.24035541536617694,-0.2905589144455153,null,-0.24035541536617694,-0.31781892311816645,null,-0.24035541536617694,-0.04683413978718365,null,-0.24035541536617694,-0.35232050034584006,null,-0.24035541536617694,-0.364607249135075,null,-0.24035541536617694,-0.4095402492056586,null,-0.24035541536617694,-0.11955903852010503,null,-0.24035541536617694,-0.37132092452398685,null,-0.24035541536617694,-0.18043990396298137,null,-0.24035541536617694,-0.23157816648038096,null,-0.25961659014503896,-0.35232050034584006,null,-0.25961659014503896,-0.37132092452398685,null,-0.25961659014503896,-0.04683413978718365,null,-0.25961659014503896,-0.20345015757842128,null,-0.25961659014503896,-0.19669218982369138,null,-0.25961659014503896,-0.26602348522757646,null,-0.25961659014503896,-0.11955903852010503,null,-0.25961659014503896,-0.29017620225896373,null,-0.25961659014503896,-0.3710475052732388,null,-0.25961659014503896,-0.42201790189028887,null,-0.25961659014503896,-0.4098194042223058,null,-0.25961659014503896,-0.4680070702976923,null,-0.15149408218671714,-0.26602348522757646,null,-0.15149408218671714,-0.04683413978718365,null,-0.15149408218671714,-0.0622451106057972,null,-0.15149408218671714,-0.10696865088873365,null,-0.15149408218671714,-0.11454089291477412,null,-0.15149408218671714,-0.07149548374994238,null,-0.15149408218671714,-0.18043990396298137,null,-0.15149408218671714,-0.11955903852010503,null,-0.15149408218671714,-0.29017620225896373,null,-0.15149408218671714,-0.20601040968443146,null,-0.15149408218671714,-0.05337087465255424,null,-0.15149408218671714,-0.12485892727437332,null,-0.15149408218671714,-0.3181488559330481,null,-0.15149408218671714,-0.27067232932636803,null,-0.15149408218671714,-0.19590418890106762,null,-0.29700807919501926,-0.35232050034584006,null,-0.29700807919501926,-0.29017620225896373,null,-0.29700807919501926,-0.3710475052732388,null,-0.29700807919501926,-0.42201790189028887,null,-0.29700807919501926,-0.4098194042223058,null,-0.29700807919501926,-0.18043990396298137,null,-0.29700807919501926,-0.11955903852010503,null,-0.29700807919501926,-0.26602348522757646,null,-0.19840041590414698,-0.29017620225896373,null,-0.19840041590414698,-0.20601040968443146,null,-0.19840041590414698,-0.26602348522757646,null,-0.19840041590414698,-0.18043990396298137,null,-0.19840041590414698,-0.11955903852010503,null,-0.19840041590414698,-0.1601193306298695,null,-0.090655297627038,-0.05337087465255424,null,-0.090655297627038,-0.18043990396298137,null,-0.090655297627038,-0.11955903852010503,null,-0.090655297627038,0.002326765935351123,null,-0.090655297627038,0.01983593057979517,null,-0.090655297627038,-0.10934596990989609,null,-0.090655297627038,-0.045309881001980704,null,-0.090655297627038,-0.2691898894938105,null,-0.090655297627038,-0.09912743210599996,null,-0.022426066880715464,-0.05337087465255424,null,-0.022426066880715464,0.002326765935351123,null,-0.022426066880715464,0.01983593057979517,null,-0.022426066880715464,-0.04683413978718365,null,-0.022426066880715464,-0.11955903852010503,null,-0.022426066880715464,0.021568315887034322,null,-0.07530188647198609,-0.10934596990989609,null,-0.07530188647198609,-0.045309881001980704,null,-0.07530188647198609,0.002326765935351123,null,-0.07530188647198609,-0.1468722621022113,null,-0.07530188647198609,-0.11955903852010503,null,-0.07530188647198609,-0.2196950038653045,null,-0.07530188647198609,0.021568315887034322,null,-0.23396986008052195,-0.10934596990989609,null,-0.23396986008052195,-0.2691898894938105,null,-0.23396986008052195,-0.1468722621022113,null,-0.23396986008052195,-0.2196950038653045,null,-0.23396986008052195,-0.18043990396298137,null,-0.23396986008052195,-0.3077493976518395,null,-0.23396986008052195,-0.11955903852010503,null,-0.23396986008052195,-0.17333271470751607,null,-0.23396986008052195,-0.36131330507759635,null,-0.23396986008052195,-0.3701660071837865,null,-0.23396986008052195,-0.35243316459549584,null,-0.013697655832604513,0.021568315887034322,null,-0.013697655832604513,-0.04683413978718365,null,-0.013697655832604513,0.01698455985455612,null,-0.013697655832604513,0.10390432979860521,null,-0.013697655832604513,-0.11955903852010503,null,-0.10544991086600419,-0.18043990396298137,null,-0.10544991086600419,-0.23157816648038096,null,-0.10544991086600419,-0.12485892727437332,null,-0.10544991086600419,-0.1601193306298695,null,-0.10544991086600419,-0.09912743210599996,null,-0.10544991086600419,-0.17333271470751607,null,-0.10544991086600419,0.021568315887034322,null,-0.10544991086600419,0.01698455985455612,null,-0.10544991086600419,-0.11955903852010503,null,0.20411075787383134,0.24094836716978058,null,0.20411075787383134,0.2191680759156693,null,0.20411075787383134,0.34902842063872797,null,0.20411075787383134,0.38132871466655993,null,0.20411075787383134,-0.11955903852010503,null,0.12408686995936018,0.24094836716978058,null,0.12408686995936018,0.2191680759156693,null,0.12408686995936018,0.33766102599536635,null,0.12408686995936018,-0.19590418890106762,null,0.0066758100223640714,0.24094836716978058,null,0.0066758100223640714,-0.07732457540658537,null,0.0066758100223640714,0.055990379439703745,null,0.0066758100223640714,-0.19590418890106762,null,0.0066758100223640714,-0.023210062012207308,null,-0.1258004182794968,-0.07732457540658537,null,-0.1258004182794968,0.0018110720250255267,null,-0.1258004182794968,-0.023210062012207308,null,-0.1258004182794968,-0.19590418890106762,null,-0.1258004182794968,-0.19614713829101846,null,-0.2127692499736318,-0.07732457540658537,null,-0.2127692499736318,-0.06183955972837794,null,-0.2127692499736318,-0.19614713829101846,null,-0.2127692499736318,-0.2814443198936445,null,-0.2127692499736318,-0.302502322820326,null,-0.2127692499736318,-0.19590418890106762,null,-0.2127692499736318,-0.2699215296325591,null,-0.19837490271779418,-0.07732457540658537,null,-0.19837490271779418,-0.0553630377241002,null,-0.19837490271779418,-0.2699215296325591,null,-0.19837490271779418,-0.19590418890106762,null,-0.19837490271779418,-0.28671165295249207,null,-0.20454907709773343,-0.07732457540658537,null,-0.20454907709773343,-0.05830129634019835,null,-0.20454907709773343,-0.28671165295249207,null,-0.20454907709773343,-0.19590418890106762,null,-0.20454907709773343,-0.30562730252677245,null,-0.22061240217662556,-0.07732457540658537,null,-0.22061240217662556,-0.07736745808418508,null,-0.22061240217662556,-0.30562730252677245,null,-0.22061240217662556,-0.19590418890106762,null,-0.22061240217662556,-0.3226470757864052,null,-0.22430542797413877,-0.07732457540658537,null,-0.22430542797413877,-0.08023801989931972,null,-0.22430542797413877,-0.3226470757864052,null,-0.22430542797413877,-0.19590418890106762,null,-0.22430542797413877,-0.3115850143201516,null,-0.2146919255997077,-0.02246146051073296,null,-0.2146919255997077,-0.07732457540658537,null,-0.2146919255997077,-0.0690439573929401,null,-0.2146919255997077,-0.3115850143201516,null,-0.2146919255997077,-0.31018646078256357,null,-0.2146919255997077,-0.3485826708962938,null,-0.2146919255997077,-0.19590418890106762,null,0.02514710540745687,0.028188163273554105,null,0.02514710540745687,0.07634797757986397,null,0.02514710540745687,-0.02246146051073296,null,0.02514710540745687,0.16978988333857564,null,0.02514710540745687,0.12331232467490502,null,0.02514710540745687,-0.19590418890106762,null,0.0521888806130899,0.028188163273554105,null,0.0521888806130899,0.10605983962206421,null,0.0521888806130899,0.16978988333857564,null,0.0521888806130899,0.0054466227027594105,null,0.0521888806130899,0.2004186759658009,null,0.0521888806130899,-0.19590418890106762,null,-0.028332714737084437,0.0168243537751598,null,-0.028332714737084437,-0.14942459893872645,null,-0.028332714737084437,-0.16021921292471292,null,-0.028332714737084437,0.0054466227027594105,null,-0.028332714737084437,0.16978988333857564,null,-0.028332714737084437,-0.045418885721114695,null,-0.028332714737084437,0.028188163273554105,null,-0.028332714737084437,-0.19590418890106762,null,-0.10019731044111237,-0.14942459893872645,null,-0.10019731044111237,-0.20169322854430857,null,-0.10019731044111237,0.0054466227027594105,null,-0.10019731044111237,-0.045418885721114695,null,-0.10019731044111237,0.028188163273554105,null,-0.10019731044111237,-0.19590418890106762,null,-0.270435096733959,-0.19590418890106762,null,-0.270435096733959,-0.0394844437302948,null,-0.270435096733959,0.0168243537751598,null,-0.270435096733959,-0.14942459893872645,null,-0.270435096733959,-0.16021921292471292,null,-0.270435096733959,-0.20169322854430857,null,-0.270435096733959,-0.36138099331214574,null,-0.270435096733959,-0.32377309970684853,null,-0.270435096733959,-0.37138413894357064,null,-0.270435096733959,-0.40325098864246395,null,-0.270435096733959,-0.35842484076696046,null,-0.270435096733959,-0.34802478427023903,null,-0.270435096733959,-0.37033242619632606,null,-0.270435096733959,-0.42796659017134325,null,-0.270435096733959,-0.4635690779691405,null,-0.270435096733959,-0.35665154730475795,null,-0.270435096733959,-0.37663889835060615,null,-0.013088505568718456,0.0168243537751598,null,-0.013088505568718456,-0.0394844437302948,null,-0.013088505568718456,0.16978988333857564,null,-0.013088505568718456,-0.19590418890106762,null,-0.24619335146975607,-0.0394844437302948,null,-0.24619335146975607,-0.36138099331214574,null,-0.24619335146975607,-0.32377309970684853,null,-0.24619335146975607,-0.19590418890106762,null,-0.24619335146975607,-0.39717218435814516,null,-0.33646869336632496,-0.4370481655642643,null,-0.33646869336632496,-0.36138099331214574,null,-0.33646869336632496,-0.37138413894357064,null,-0.33646869336632496,-0.40325098864246395,null,-0.33646869336632496,-0.07966249592768988,null,-0.33646869336632496,-0.39717218435814516,null,-0.33646869336632496,-0.19590418890106762,null,-0.33646869336632496,-0.550223861943006,null,-0.33646869336632496,-0.46311610164752876,null,-0.4271266510910736,-0.4370481655642643,null,-0.4271266510910736,-0.36138099331214574,null,-0.4271266510910736,-0.41930164614254717,null,-0.4271266510910736,-0.4635690779691405,null,-0.4271266510910736,-0.19590418890106762,null,-0.4271266510910736,-0.550223861943006,null,-0.4271266510910736,-0.46311610164752876,null,-0.28669627955046695,-0.36138099331214574,null,-0.28669627955046695,-0.35842484076696046,null,-0.28669627955046695,-0.07966249592768988,null,-0.28669627955046695,-0.46311610164752876,null,-0.28669627955046695,-0.19590418890106762,null,-0.28669627955046695,-0.3900798641846603,null,-0.28317621005990085,-0.36138099331214574,null,-0.28317621005990085,-0.3900798641846603,null,-0.28317621005990085,-0.07966249592768988,null,-0.28317621005990085,-0.19590418890106762,null,-0.28317621005990085,-0.35665154730475795,null,-0.28317621005990085,-0.41699103754988764,null,-0.33378805994332694,-0.35665154730475795,null,-0.33378805994332694,-0.41699103754988764,null,-0.33378805994332694,-0.5145208159702055,null,-0.33378805994332694,-0.49084894377583776,null,-0.33378805994332694,-0.07966249592768988,null,-0.33378805994332694,-0.19590418890106762,null,-0.33378805994332694,-0.38755176721370105,null,-0.28134836177306305,-0.31781892311816645,null,-0.28134836177306305,-0.04683413978718365,null,-0.28134836177306305,-0.38755176721370105,null,-0.28134836177306305,-0.19590418890106762,null,-0.28134836177306305,-0.4064490371797907,null,-0.28134836177306305,-0.4448380351722179,null,-0.28134836177306305,-0.3605877815108017,null,-0.41319022100411373,-0.4680070702976923,null,-0.41319022100411373,-0.4064490371797907,null,-0.41319022100411373,-0.4448380351722179,null,-0.41319022100411373,-0.19590418890106762,null,-0.41319022100411373,-0.42201790189028887,null,-0.41319022100411373,-0.5088792598322058,null,-0.44132713472062884,-0.42201790189028887,null,-0.44132713472062884,-0.4098194042223058,null,-0.44132713472062884,-0.3181488559330481,null,-0.44132713472062884,-0.19590418890106762,null,-0.44132713472062884,-0.6778507335372181,null,-0.44132713472062884,-0.4064490371797907,null,-0.4262084344378993,-0.364607249135075,null,-0.4262084344378993,-0.42201790189028887,null,-0.4262084344378993,-0.19590418890106762,null,-0.4262084344378993,-0.5275973270182022,null,-0.4262084344378993,-0.512927735477126,null,-0.4262084344378993,-0.4095402492056586,null,-0.235610608327356,-0.04683413978718365,null,-0.235610608327356,-0.3181488559330481,null,-0.235610608327356,-0.27067232932636803,null,-0.235610608327356,-0.3605877815108017,null,-0.235610608327356,-0.4064490371797907,null,-0.235610608327356,-0.19419201571455635,null,-0.235610608327356,-0.1800455523626186,null,-0.235610608327356,-0.19590418890106762,null,-0.25728683987645684,-0.19590418890106762,null,-0.25728683987645684,-0.04683413978718365,null,-0.25728683987645684,-0.3181488559330481,null,-0.25728683987645684,-0.27067232932636803,null,-0.25728683987645684,-0.2027744164734425,null,-0.25728683987645684,-0.17020194517238058,null,-0.25728683987645684,-0.1856215471016765,null,-0.25728683987645684,-0.38656896839466454,null,-0.25728683987645684,-0.32182392200969373,null,-0.25728683987645684,-0.40894145595666437,null,-0.25728683987645684,-0.40168758977637786,null,-0.18443607952200292,-0.04683413978718365,null,-0.18443607952200292,-0.32182392200969373,null,-0.18443607952200292,-0.13331804187736812,null,-0.18443607952200292,-0.19590418890106762,null,-0.18443607952200292,-0.1520709688810966,null,-0.18443607952200292,-0.2196950038653045,null,-0.18443607952200292,-0.3023081400020276,null,-0.10754542001164714,-0.04683413978718365,null,-0.10754542001164714,0.021568315887034322,null,-0.10754542001164714,-0.2196950038653045,null,-0.10754542001164714,-0.1520709688810966,null,-0.10754542001164714,-0.009064644642546924,null,-0.10754542001164714,-0.05355644733683125,null,-0.10754542001164714,-0.040918698500546774,null,-0.10754542001164714,-0.19590418890106762,null,-0.10754542001164714,-0.24599518674059162,null,-0.30203145628281286,-0.2691898894938105,null,-0.30203145628281286,-0.2196950038653045,null,-0.30203145628281286,-0.36131330507759635,null,-0.30203145628281286,-0.3701660071837865,null,-0.30203145628281286,-0.35243316459549584,null,-0.30203145628281286,-0.19590418890106762,null,0.009245802723947195,0.021568315887034322,null,0.009245802723947195,0.01698455985455612,null,0.009245802723947195,0.18868769234530416,null,0.009245802723947195,-0.19590418890106762,null,-0.3165851443791122,-0.19590418890106762,null,-0.3165851443791122,-0.31781892311816645,null,-0.3165851443791122,-0.364607249135075,null,-0.3165851443791122,-0.29017620225896373,null,-0.3165851443791122,-0.42201790189028887,null,-0.3165851443791122,-0.4098194042223058,null,-0.3165851443791122,-0.26602348522757646,null,-0.3165851443791122,-0.2691898894938105,null,-0.3165851443791122,-0.36131330507759635,null,-0.3165851443791122,-0.3701660071837865,null,-0.3165851443791122,-0.35665154730475795,null,-0.3165851443791122,-0.37663889835060615,null,-0.3165851443791122,-0.4448380351722179,null,-0.3165851443791122,-0.5088792598322058,null,-0.3165851443791122,-0.5275973270182022,null,-0.3165851443791122,-0.512927735477126,null,-0.3165851443791122,-0.4095402492056586,null,-0.3165851443791122,-0.32182392200969373,null,-0.3165851443791122,-0.3181488559330481,null,-0.3165851443791122,-0.40894145595666437,null,-0.3165851443791122,-0.40168758977637786,null,-0.3165851443791122,-0.2196950038653045,null,-0.3165851443791122,-0.3023081400020276,null,-0.3165851443791122,-0.24599518674059162,null,-0.3165851443791122,0.021568315887034322,null,-0.3165851443791122,0.01698455985455612,null,-0.3165851443791122,-0.38755176721370105,null,0.024292980496139177,0.24094836716978058,null,0.024292980496139177,-0.07732457540658537,null,0.024292980496139177,0.055990379439703745,null,0.024292980496139177,0.0018110720250255267,null,0.024292980496139177,-0.06183955972837794,null,0.024292980496139177,-0.0553630377241002,null,0.024292980496139177,-0.05830129634019835,null,0.024292980496139177,-0.07736745808418508,null,0.024292980496139177,0.2191680759156693,null,0.024292980496139177,0.0054466227027594105,null,0.024292980496139177,-0.02246146051073296,null,0.024292980496139177,0.028188163273554105,null,0.024292980496139177,0.10605983962206421,null,0.024292980496139177,0.07634797757986397,null,0.024292980496139177,0.078869055474084,null,0.024292980496139177,0.15791843635674624,null,0.024292980496139177,0.12054706683352885,null,0.024292980496139177,-0.08023801989931972,null,0.024292980496139177,-0.0690439573929401,null,0.024292980496139177,-0.19590418890106762,null,0.3376201163210891,0.2191680759156693,null,0.3376201163210891,0.24094836716978058,null,0.3376201163210891,0.33766102599536635,null,0.3376201163210891,0.39264408633563297,null,0.592148254332471,0.24094836716978058,null,0.592148254332471,0.39264408633563297,null,0.592148254332471,0.8476541328046844,null,0.592148254332471,0.8145463845255957,null,0.592148254332471,0.7776497573822431,null,0.592148254332471,0.7728654646827213,null,0.7578063271575693,0.7776497573822431,null,0.7578063271575693,0.7728654646827213,null,0.7578063271575693,0.39264408633563297,null,0.7578063271575693,0.8476541328046844,null,0.7578063271575693,0.9498828067957383,null,0.7578063271575693,0.9465286588671532,null,0.7578063271575693,0.890340616022725,null,0.7663052220361436,0.890340616022725,null,0.7663052220361436,0.39264408633563297,null,0.7663052220361436,0.8476541328046844,null,0.7663052220361436,0.9551930883369856,null,0.7663052220361436,0.9425575823814565,null,0.7663052220361436,0.8857536344608843,null,0.7629986487679815,0.8857536344608843,null,0.7629986487679815,0.39264408633563297,null,0.7629986487679815,0.8476541328046844,null,0.7629986487679815,0.9381132817489833,null,0.7629986487679815,0.9330147912662236,null,0.7629986487679815,0.9008243448663431,null,0.7948412788160474,0.9008243448663431,null,0.7948412788160474,0.9935694221313939,null,0.7948412788160474,1.0,null,0.7948412788160474,0.39264408633563297,null,0.7948412788160474,0.7006069318449971,null,0.7948412788160474,0.8476541328046844,null,0.7948412788160474,0.9733127543109936,null,0.4853563181832835,0.7006069318449971,null,0.4853563181832835,0.16978988333857564,null,0.4853563181832835,0.39264408633563297,null,0.4853563181832835,0.4886210803008048,null,0.4853563181832835,0.6046666102020072,null,0.4853563181832835,0.6696517278627137,null,0.4084789857666457,0.16978988333857564,null,0.4084789857666457,0.39264408633563297,null,0.4084789857666457,0.4886210803008048,null,0.4084789857666457,0.5420856607617637,null,0.4084789857666457,0.526880073484041,null,0.4084789857666457,0.4337076706653847,null,0.3051056196213036,0.4337076706653847,null,0.3051056196213036,0.16978988333857564,null,0.3051056196213036,0.39264408633563297,null,0.3051056196213036,0.42460402043196016,null,0.3051056196213036,0.4886210803008048,null,0.3051056196213036,0.0168243537751598,null,0.3051056196213036,0.3530724155019121,null,0.3051056196213036,0.3067062167150928,null,0.4461870432227187,0.42460402043196016,null,0.4461870432227187,0.4886210803008048,null,0.4461870432227187,0.39264408633563297,null,0.4461870432227187,0.3530724155019121,null,0.4461870432227187,0.4337076706653847,null,0.4461870432227187,0.3755341574286127,null,0.18189537781882606,0.0168243537751598,null,0.18189537781882606,0.16978988333857564,null,0.18189537781882606,0.39264408633563297,null,0.18189537781882606,-0.0394844437302948,null,0.24764952761925482,-0.0394844437302948,null,0.24764952761925482,0.39264408633563297,null,0.24764952761925482,0.3785803601804319,null,0.24764952761925482,0.4027734624762913,null,0.24764952761925482,0.28459697583497806,null,0.24764952761925482,0.2727140929180781,null,0.42985772296696395,0.3785803601804319,null,0.42985772296696395,0.4027734624762913,null,0.42985772296696395,0.39264408633563297,null,0.42985772296696395,0.51097390158184,null,0.42985772296696395,0.28459697583497806,null,0.42985772296696395,0.3494231623233391,null,0.4200983551036515,0.51097390158184,null,0.4200983551036515,0.39264408633563297,null,0.4200983551036515,0.34007825777864736,null,0.4200983551036515,0.28459697583497806,null,0.4200983551036515,0.3521398981240722,null,0.19599113283615952,0.34007825777864736,null,0.19599113283615952,-0.07966249592768988,null,0.19599113283615952,0.39264408633563297,null,0.19599113283615952,0.2817282591630841,null,0.19599113283615952,0.2290672053722911,null,0.19599113283615952,0.17098607832980156,null,0.339678955048626,0.34007825777864736,null,0.339678955048626,0.2817282591630841,null,0.339678955048626,0.39264408633563297,null,0.339678955048626,0.28459697583497806,null,0.339678955048626,0.30314480658340237,null,0.339678955048626,0.2290672053722911,null,0.23788912563289866,0.0168243537751598,null,0.23788912563289866,0.3530724155019121,null,0.23788912563289866,0.3067062167150928,null,0.23788912563289866,0.3755341574286127,null,0.23788912563289866,-0.0394844437302948,null,0.23788912563289866,0.28459697583497806,null,0.23788912563289866,0.2727140929180781,null,0.23788912563289866,0.3494231623233391,null,0.23788912563289866,0.3521398981240722,null,0.23788912563289866,0.30314480658340237,null,0.23788912563289866,0.39264408633563297,null,0.23788912563289866,0.2257683628729685,null,0.23788912563289866,0.2159882180893741,null,0.23788912563289866,0.29021526389588637,null,0.23788912563289866,0.284546478906286,null,0.23788912563289866,0.2818104997341645,null,0.16859416075770534,0.2290672053722911,null,0.16859416075770534,0.17098607832980156,null,0.16859416075770534,0.28459697583497806,null,0.16859416075770534,0.2257683628729685,null,0.16859416075770534,-0.07966249592768988,null,0.16859416075770534,0.39264408633563297,null,0.16859416075770534,0.1278736267269784,null,0.16064785522105274,0.28459697583497806,null,0.16064785522105274,0.2159882180893741,null,0.16064785522105274,0.1278736267269784,null,0.16064785522105274,-0.07966249592768988,null,0.16064785522105274,0.39264408633563297,null,0.16064785522105274,0.14416820102810224,null,0.16064785522105274,0.17541540341001066,null,0.19122052599824063,0.29021526389588637,null,0.19122052599824063,0.284546478906286,null,0.19122052599824063,0.28459697583497806,null,0.19122052599824063,0.14416820102810224,null,0.19122052599824063,0.17541540341001066,null,0.19122052599824063,-0.07966249592768988,null,0.19122052599824063,0.39264408633563297,null,0.19122052599824063,0.23297558918712397,null,0.23864836586683005,0.29021526389588637,null,0.23864836586683005,0.2818104997341645,null,0.23864836586683005,0.23297558918712397,null,0.23864836586683005,-0.04683413978718365,null,0.23864836586683005,0.39264408633563297,null,0.23864836586683005,0.3381555087128682,null,0.23864836586683005,0.3693601482932285,null,0.23864836586683005,0.2948145203061778,null,0.37676612337277876,0.29021526389588637,null,0.37676612337277876,0.3381555087128682,null,0.37676612337277876,0.3693601482932285,null,0.37676612337277876,0.39264408633563297,null,0.37676612337277876,0.2948145203061778,null,0.37676612337277876,0.357764278163943,null,0.1857289283092156,0.2948145203061778,null,0.1857289283092156,-0.04683413978718365,null,0.1857289283092156,0.07308209713729541,null,0.1857289283092156,0.05496295788125926,null,0.1857289283092156,0.08692403226667314,null,0.1857289283092156,0.05098158573462091,null,0.1857289283092156,0.39264408633563297,null,0.1857289283092156,0.26028746609944997,null,0.1857289283092156,0.29021526389588637,null,0.1857289283092156,0.2878322743323448,null,0.21167352061547523,0.26028746609944997,null,0.21167352061547523,-0.04683413978718365,null,0.21167352061547523,0.12236202959199156,null,0.21167352061547523,0.11266574038322291,null,0.21167352061547523,0.13936358744703267,null,0.21167352061547523,0.1297568843444161,null,0.21167352061547523,0.09490224639278136,null,0.21167352061547523,0.39264408633563297,null,0.21167352061547523,0.38553666822235944,null,0.21167352061547523,0.40526142641285007,null,0.21167352061547523,0.021568315887034322,null,0.21167352061547523,0.29021526389588637,null,0.21167352061547523,0.31818748663224905,null,0.4575742449289846,0.40526142641285007,null,0.4575742449289846,0.38553666822235944,null,0.4575742449289846,0.39264408633563297,null,0.4575742449289846,0.6019732634987939,null,0.4575742449289846,0.29021526389588637,null,0.4575742449289846,0.3912954740694195,null,0.20178885188775764,0.021568315887034322,null,0.20178885188775764,0.18868769234530416,null,0.20178885188775764,0.01698455985455612,null,0.20178885188775764,0.39264408633563297,null,0.24355716295890692,0.29021526389588637,null,0.24355716295890692,0.357764278163943,null,0.24355716295890692,0.2878322743323448,null,0.24355716295890692,0.31818748663224905,null,0.24355716295890692,0.3912954740694195,null,0.24355716295890692,0.021568315887034322,null,0.24355716295890692,0.01698455985455612,null,0.24355716295890692,0.39264408633563297,null],\"y\":[0.06831273766575827,0.25647757479694516,null,0.06831273766575827,-0.17405262889842132,null,0.06831273766575827,0.20325781870243645,null,0.06831273766575827,-0.015841500507689572,null,0.05942666221704571,0.20325781870243645,null,0.05942666221704571,-0.11881462922543878,null,0.05942666221704571,0.16667600855785938,null,0.05942666221704571,0.023952323176357475,null,0.05942666221704571,0.012738164172345273,null,0.05942666221704571,-0.12347538788796517,null,0.05942666221704571,0.11511328688626149,null,0.05942666221704571,0.06959503462540752,null,0.05942666221704571,-0.048566278894910116,null,0.05942666221704571,-0.17405262889842132,null,0.05942666221704571,-0.04256403191947222,null,0.05942666221704571,0.06994761784649452,null,0.05942666221704571,0.21089319755664834,null,0.05942666221704571,0.06472916455345057,null,0.05942666221704571,0.11257634549905426,null,0.05942666221704571,0.033158619528507426,null,0.05942666221704571,0.0655451568937087,null,0.05942666221704571,0.03341072432969005,null,0.05942666221704571,0.10684404725488655,null,0.05942666221704571,0.2392560887574125,null,0.05942666221704571,0.1169102884914761,null,0.05942666221704571,0.17471514920749712,null,0.05942666221704571,0.16546180900415414,null,0.05942666221704571,-0.006437070991876386,null,0.05942666221704571,0.13973343815851758,null,0.05942666221704571,0.04175264456534318,null,0.05942666221704571,0.10446908914945444,null,0.05942666221704571,0.12093073440259604,null,0.05942666221704571,0.10256026578310612,null,0.05942666221704571,0.14806812295496757,null,0.05942666221704571,-0.015841500507689572,null,0.05942666221704571,0.20303608342826465,null,0.05942666221704571,-0.10464276024718189,null,-0.3231040457167347,-0.17405262889842132,null,-0.3231040457167347,-0.5009207688967651,null,-0.3231040457167347,-0.400465501023681,null,-0.3231040457167347,-0.384329750163818,null,-0.3231040457167347,-0.1391251515936017,null,-0.3231040457167347,-0.34712216868484136,null,-0.3231040457167347,-0.34092473604778833,null,-0.3231040457167347,-0.36287283018224575,null,-0.412583319331541,-0.5009207688967651,null,-0.412583319331541,-0.17405262889842132,null,-0.412583319331541,-0.5724102082691529,null,-0.412583319331541,-0.400465501023681,null,-0.412583319331541,-0.4447615960708613,null,-0.412583319331541,-0.4622340100202637,null,-0.412583319331541,-0.34712216868484136,null,-0.4122653061604301,-0.5724102082691529,null,-0.4122653061604301,-0.17405262889842132,null,-0.4122653061604301,-0.5577506122508701,null,-0.4122653061604301,-0.400465501023681,null,-0.4122653061604301,-0.4462787456742598,null,-0.4122653061604301,-0.43760173093496824,null,-0.4122653061604301,-0.34712216868484136,null,-0.4122653061604301,-0.4043126861101037,null,-0.4122653061604301,-0.3782302577299946,null,-0.4122653061604301,-0.36109366978836555,null,-0.4122653061604301,-0.3395054246677973,null,-0.3956787289937557,-0.5577506122508701,null,-0.3956787289937557,-0.17405262889842132,null,-0.3956787289937557,-0.400465501023681,null,-0.3956787289937557,-0.4128033889763223,null,-0.3956787289937557,-0.4314460812098078,null,-0.3956787289937557,-0.34712216868484136,null,-0.3956787289937557,-0.4844019383145751,null,-0.268729960637099,-0.04256403191947222,null,-0.268729960637099,-0.400465501023681,null,-0.268729960637099,-0.384329750163818,null,-0.268729960637099,-0.1391251515936017,null,-0.268729960637099,-0.34712216868484136,null,-0.268729960637099,-0.34092473604778833,null,-0.268729960637099,-0.36287283018224575,null,-0.268729960637099,-0.4447615960708613,null,-0.268729960637099,-0.4622340100202637,null,-0.268729960637099,-0.4462787456742598,null,-0.268729960637099,-0.43760173093496824,null,-0.268729960637099,-0.4043126861101037,null,-0.268729960637099,-0.3782302577299946,null,-0.268729960637099,-0.36109366978836555,null,-0.268729960637099,-0.3395054246677973,null,-0.268729960637099,-0.4128033889763223,null,-0.268729960637099,-0.4314460812098078,null,-0.268729960637099,-0.19108389122506506,null,-0.268729960637099,-0.1975691642562972,null,-0.268729960637099,-0.3491190921641673,null,-0.268729960637099,-0.29674987547568527,null,-0.268729960637099,-0.3396565179285819,null,-0.268729960637099,-0.17405262889842132,null,-0.268729960637099,-0.372935513644862,null,-0.268729960637099,-0.38030255538521,null,-0.268729960637099,-0.1904656230809716,null,-0.268729960637099,-0.3111646014602402,null,-0.268729960637099,-0.299244265683661,null,-0.268729960637099,-0.07457284912370388,null,-0.268729960637099,-0.1265229842824183,null,-0.268729960637099,-0.08414507513076,null,-0.268729960637099,-0.14431863607490744,null,-0.268729960637099,-0.1253254367334451,null,-0.268729960637099,-0.14402485957465164,null,-0.268729960637099,-0.0650855632345186,null,-0.268729960637099,-0.08283854976657264,null,-0.268729960637099,-0.27139631759013244,null,-0.268729960637099,-0.28592534384212,null,-0.268729960637099,-0.2888508209632631,null,-0.33123342336432027,-0.4844019383145751,null,-0.33123342336432027,-0.1975691642562972,null,-0.33123342336432027,-0.400465501023681,null,-0.33123342336432027,-0.372935513644862,null,-0.33123342336432027,-0.38030255538521,null,-0.33123342336432027,-0.1904656230809716,null,-0.33123342336432027,-0.34712216868484136,null,-0.33123342336432027,-0.3111646014602402,null,-0.33123342336432027,-0.299244265683661,null,-0.33123342336432027,-0.4139039231722675,null,-0.33123342336432027,-0.45738093577720507,null,-0.33123342336432027,-0.17405262889842132,null,-0.06125105073473976,-0.07457284912370388,null,-0.06125105073473976,-0.1265229842824183,null,-0.06125105073473976,-0.08414507513076,null,-0.06125105073473976,-0.14431863607490744,null,-0.06125105073473976,-0.1975691642562972,null,-0.06125105073473976,-0.1904656230809716,null,-0.06125105073473976,0.1466122806543426,null,-0.06125105073473976,0.014364761098953861,null,-0.06125105073473976,-0.17405262889842132,null,-0.06125105073473976,0.025458280194222555,null,-0.043820136356690464,-0.07457284912370388,null,-0.043820136356690464,-0.1253254367334451,null,-0.043820136356690464,-0.08414507513076,null,-0.043820136356690464,-0.14402485957465164,null,-0.043820136356690464,0.1466122806543426,null,-0.043820136356690464,0.009879541235724433,null,-0.043820136356690464,-0.17405262889842132,null,-0.043820136356690464,-0.0650855632345186,null,-0.043820136356690464,-0.08283854976657264,null,-0.043820136356690464,0.010061980965961751,null,0.03247261839756411,-0.04256403191947222,null,0.03247261839756411,0.06994761784649452,null,0.03247261839756411,0.21089319755664834,null,0.03247261839756411,0.06472916455345057,null,0.03247261839756411,0.11257634549905426,null,0.03247261839756411,-0.0650855632345186,null,0.03247261839756411,-0.08283854976657264,null,0.03247261839756411,0.1466122806543426,null,0.03247261839756411,-0.17405262889842132,null,0.03247261839756411,0.09333978435606373,null,0.03247261839756411,-0.07457284912370388,null,0.03247261839756411,0.07116286641100221,null,0.03247261839756411,-0.08414507513076,null,-0.018679241637976657,-0.04256403191947222,null,-0.018679241637976657,0.033158619528507426,null,-0.018679241637976657,0.06472916455345057,null,-0.018679241637976657,0.0655451568937087,null,-0.018679241637976657,-0.0650855632345186,null,-0.018679241637976657,-0.08283854976657264,null,-0.018679241637976657,0.09333978435606373,null,-0.018679241637976657,-0.07457284912370388,null,-0.018679241637976657,0.07116286641100221,null,-0.018679241637976657,-0.08414507513076,null,-0.018679241637976657,-0.17405262889842132,null,0.08346196855753019,0.21089319755664834,null,0.08346196855753019,0.1466122806543426,null,0.08346196855753019,-0.17405262889842132,null,0.08346196855753019,0.2392560887574125,null,0.07077173659419517,0.03341072432969005,null,0.07077173659419517,0.10684404725488655,null,0.07077173659419517,0.2392560887574125,null,0.07077173659419517,0.1169102884914761,null,0.07077173659419517,0.17471514920749712,null,0.07077173659419517,0.16546180900415414,null,0.07077173659419517,-0.17405262889842132,null,0.07077173659419517,0.01934214861206993,null,-0.05700350526703259,0.03341072432969005,null,-0.05700350526703259,-0.006437070991876386,null,-0.05700350526703259,0.1169102884914761,null,-0.05700350526703259,0.01934214861206993,null,-0.05700350526703259,-0.17405262889842132,null,-0.05700350526703259,-0.06803000164663728,null,-0.0054177206035935285,0.13973343815851758,null,-0.0054177206035935285,0.03341072432969005,null,-0.0054177206035935285,0.04175264456534318,null,-0.0054177206035935285,0.10446908914945444,null,-0.0054177206035935285,0.1169102884914761,null,-0.0054177206035935285,0.12093073440259604,null,-0.0054177206035935285,-0.06803000164663728,null,-0.0054177206035935285,-0.17405262889842132,null,0.08254025300433632,0.20325781870243645,null,0.08254025300433632,0.11511328688626149,null,0.08254025300433632,0.10256026578310612,null,0.08254025300433632,0.06959503462540752,null,0.08254025300433632,0.1169102884914761,null,0.08254025300433632,0.14806812295496757,null,0.08254025300433632,0.13973343815851758,null,0.08254025300433632,0.10446908914945444,null,0.08254025300433632,-0.17405262889842132,null,0.08254025300433632,0.2093258526117006,null,0.08254025300433632,0.24945663061851608,null,0.1873989314803955,0.13973343815851758,null,0.1873989314803955,0.2093258526117006,null,0.1873989314803955,0.24945663061851608,null,0.1873989314803955,0.20325781870243645,null,0.1873989314803955,0.34084117324950197,null,0.1873989314803955,0.3458901734799121,null,0.1873989314803955,-0.17405262889842132,null,-0.1051677369861396,0.023952323176357475,null,-0.1051677369861396,0.012738164172345273,null,-0.1051677369861396,-0.17405262889842132,null,-0.138224567802746,-0.015841500507689572,null,-0.138224567802746,-0.048566278894910116,null,-0.138224567802746,-0.045057469527083546,null,-0.138224567802746,-0.22962025673132988,null,-0.138224567802746,-0.10464276024718189,null,-0.138224567802746,-0.16925045856490203,null,-0.138224567802746,-0.17405262889842132,null,-0.138224567802746,-0.17905512141420132,null,-0.138224567802746,-0.3494725983939492,null,-0.138224567802746,-0.11881462922543878,null,-0.18069424820764401,-0.22962025673132988,null,-0.18069424820764401,-0.17905512141420132,null,-0.18069424820764401,-0.045057469527083546,null,-0.18069424820764401,-0.10244138786356467,null,-0.18069424820764401,-0.13919047419405742,null,-0.18069424820764401,-0.2804141807316009,null,-0.18069424820764401,-0.17405262889842132,null,-0.18069424820764401,-0.28912775868693164,null,-0.18069424820764401,-0.32533188902698856,null,-0.18069424820764401,-0.21946649091787748,null,-0.18069424820764401,-0.23900820159528996,null,-0.18069424820764401,-0.19133181545636682,null,-0.21585059749307486,-0.2804141807316009,null,-0.21585059749307486,-0.045057469527083546,null,-0.21585059749307486,-0.2164606279325722,null,-0.21585059749307486,-0.2060349543874208,null,-0.21585059749307486,-0.16784270626836406,null,-0.21585059749307486,-0.18143497714993784,null,-0.21585059749307486,-0.3494725983939492,null,-0.21585059749307486,-0.17405262889842132,null,-0.21585059749307486,-0.28912775868693164,null,-0.21585059749307486,-0.3988195558985756,null,-0.21585059749307486,-0.36833104765087094,null,-0.21585059749307486,-0.3650780874076365,null,-0.21585059749307486,-0.14938477167070868,null,-0.21585059749307486,-0.1604977866631172,null,-0.21585059749307486,-0.12347538788796517,null,-0.2690698181191182,-0.22962025673132988,null,-0.2690698181191182,-0.28912775868693164,null,-0.2690698181191182,-0.32533188902698856,null,-0.2690698181191182,-0.21946649091787748,null,-0.2690698181191182,-0.23900820159528996,null,-0.2690698181191182,-0.3494725983939492,null,-0.2690698181191182,-0.17405262889842132,null,-0.2690698181191182,-0.2804141807316009,null,-0.3272708597364555,-0.28912775868693164,null,-0.3272708597364555,-0.3988195558985756,null,-0.3272708597364555,-0.2804141807316009,null,-0.3272708597364555,-0.3494725983939492,null,-0.3272708597364555,-0.17405262889842132,null,-0.3272708597364555,-0.427289633318164,null,-0.4067371977430232,-0.36833104765087094,null,-0.4067371977430232,-0.3494725983939492,null,-0.4067371977430232,-0.17405262889842132,null,-0.4067371977430232,-0.4279814479692936,null,-0.4067371977430232,-0.44908668853251665,null,-0.4067371977430232,-0.525278507266907,null,-0.4067371977430232,-0.5404281145335448,null,-0.4067371977430232,-0.3970981707170666,null,-0.4067371977430232,-0.44862661840507834,null,-0.2494617441858991,-0.36833104765087094,null,-0.2494617441858991,-0.4279814479692936,null,-0.2494617441858991,-0.44908668853251665,null,-0.2494617441858991,-0.045057469527083546,null,-0.2494617441858991,-0.17405262889842132,null,-0.2494617441858991,-0.09393423873723,null,-0.35698702835823154,-0.525278507266907,null,-0.35698702835823154,-0.5404281145335448,null,-0.35698702835823154,-0.4279814479692936,null,-0.35698702835823154,-0.5581321940999865,null,-0.35698702835823154,-0.17405262889842132,null,-0.35698702835823154,-0.312301125574439,null,-0.35698702835823154,-0.09393423873723,null,-0.44141693706192364,-0.525278507266907,null,-0.44141693706192364,-0.3970981707170666,null,-0.44141693706192364,-0.5581321940999865,null,-0.44141693706192364,-0.312301125574439,null,-0.44141693706192364,-0.3494725983939492,null,-0.44141693706192364,-0.6670924952173463,null,-0.44141693706192364,-0.17405262889842132,null,-0.44141693706192364,-0.4673134359147566,null,-0.44141693706192364,-0.39649148593873,null,-0.44141693706192364,-0.3957569717594388,null,-0.44141693706192364,-0.5518979703616873,null,-0.12380819999982927,-0.09393423873723,null,-0.12380819999982927,-0.045057469527083546,null,-0.12380819999982927,-0.06579474841140363,null,-0.12380819999982927,-0.15446952380615117,null,-0.12380819999982927,-0.17405262889842132,null,-0.26956689971389164,-0.3494725983939492,null,-0.26956689971389164,-0.11881462922543878,null,-0.26956689971389164,-0.3650780874076365,null,-0.26956689971389164,-0.427289633318164,null,-0.26956689971389164,-0.44862661840507834,null,-0.26956689971389164,-0.4673134359147566,null,-0.26956689971389164,-0.09393423873723,null,-0.26956689971389164,-0.06579474841140363,null,-0.26956689971389164,-0.17405262889842132,null,-0.2806364349843153,-0.1391251515936017,null,-0.2806364349843153,-0.19108389122506506,null,-0.2806364349843153,-0.3030520405252699,null,-0.2806364349843153,-0.42885744679758453,null,-0.2806364349843153,-0.17405262889842132,null,-0.15201251124890477,-0.1391251515936017,null,-0.15201251124890477,-0.19108389122506506,null,-0.15201251124890477,-0.11017348078879105,null,-0.15201251124890477,-0.12347538788796517,null,-0.28147044086147605,-0.1391251515936017,null,-0.28147044086147605,-0.34712216868484136,null,-0.28147044086147605,-0.34092473604778833,null,-0.28147044086147605,-0.12347538788796517,null,-0.28147044086147605,-0.47739793502456573,null,-0.3824626797236349,-0.34712216868484136,null,-0.3824626797236349,-0.36287283018224575,null,-0.3824626797236349,-0.47739793502456573,null,-0.3824626797236349,-0.12347538788796517,null,-0.3824626797236349,-0.5749016868117022,null,-0.4606094285790759,-0.34712216868484136,null,-0.4606094285790759,-0.4043126861101037,null,-0.4606094285790759,-0.5749016868117022,null,-0.4606094285790759,-0.6777566096239537,null,-0.4606094285790759,-0.6535722390494908,null,-0.4606094285790759,-0.12347538788796517,null,-0.4606094285790759,-0.5655812722117448,null,-0.3858422193813191,-0.34712216868484136,null,-0.3858422193813191,-0.3782302577299946,null,-0.3858422193813191,-0.5655812722117448,null,-0.3858422193813191,-0.12347538788796517,null,-0.3858422193813191,-0.500934845082236,null,-0.35306212785292174,-0.34712216868484136,null,-0.35306212785292174,-0.36109366978836555,null,-0.35306212785292174,-0.500934845082236,null,-0.35306212785292174,-0.12347538788796517,null,-0.35306212785292174,-0.4521706559817612,null,-0.3251598278717705,-0.34712216868484136,null,-0.3251598278717705,-0.3395054246677973,null,-0.3251598278717705,-0.4521706559817612,null,-0.3251598278717705,-0.12347538788796517,null,-0.3251598278717705,-0.40008716709249353,null,-0.29459583238513537,-0.34712216868484136,null,-0.29459583238513537,-0.3111646014602402,null,-0.29459583238513537,-0.40008716709249353,null,-0.29459583238513537,-0.12347538788796517,null,-0.29459583238513537,-0.34912381810743204,null,-0.26839207654246044,-0.1904656230809716,null,-0.26839207654246044,-0.34712216868484136,null,-0.26839207654246044,-0.299244265683661,null,-0.26839207654246044,-0.34912381810743204,null,-0.26839207654246044,-0.3369763579112201,null,-0.26839207654246044,-0.33626991815912305,null,-0.26839207654246044,-0.12347538788796517,null,-0.04832999486319207,-0.08414507513076,null,-0.04832999486319207,-0.14431863607490744,null,-0.04832999486319207,-0.1904656230809716,null,-0.04832999486319207,0.1466122806543426,null,-0.04832999486319207,0.025458280194222555,null,-0.04832999486319207,-0.12347538788796517,null,-0.037137751882693006,-0.08414507513076,null,-0.037137751882693006,-0.14402485957465164,null,-0.037137751882693006,0.1466122806543426,null,-0.037137751882693006,-0.08283854976657264,null,-0.037137751882693006,0.010061980965961751,null,-0.037137751882693006,-0.12347538788796517,null,0.04121586428754785,0.21089319755664834,null,0.04121586428754785,0.06472916455345057,null,0.04121586428754785,0.11257634549905426,null,0.04121586428754785,-0.08283854976657264,null,0.04121586428754785,0.1466122806543426,null,0.04121586428754785,0.07116286641100221,null,0.04121586428754785,-0.08414507513076,null,0.04121586428754785,-0.12347538788796517,null,-0.0303438168904986,0.06472916455345057,null,-0.0303438168904986,0.0655451568937087,null,-0.0303438168904986,-0.08283854976657264,null,-0.0303438168904986,0.07116286641100221,null,-0.0303438168904986,-0.08414507513076,null,-0.0303438168904986,-0.12347538788796517,null,0.11758276306101184,-0.12347538788796517,null,0.11758276306101184,0.2392560887574125,null,0.11758276306101184,0.21089319755664834,null,0.11758276306101184,0.06472916455345057,null,0.11758276306101184,0.11257634549905426,null,0.11758276306101184,0.0655451568937087,null,0.11758276306101184,0.1169102884914761,null,0.11758276306101184,0.17471514920749712,null,0.11758276306101184,0.16546180900415414,null,0.11758276306101184,0.12093073440259604,null,0.11758276306101184,0.20303608342826465,null,0.11758276306101184,0.023952323176357475,null,0.11758276306101184,0.012738164172345273,null,0.11758276306101184,0.30990857196092303,null,0.11758276306101184,0.1871953812203224,null,0.11758276306101184,0.07985386532635687,null,0.11758276306101184,-0.005812165577938957,null,0.09980583419994335,0.21089319755664834,null,0.09980583419994335,0.2392560887574125,null,0.09980583419994335,0.1466122806543426,null,0.09980583419994335,-0.12347538788796517,null,0.14792342081723178,0.2392560887574125,null,0.14792342081723178,0.1169102884914761,null,0.14792342081723178,0.17471514920749712,null,0.14792342081723178,-0.12347538788796517,null,0.14792342081723178,0.2866999604594031,null,0.16680593506378788,0.10446908914945444,null,0.16680593506378788,0.1169102884914761,null,0.16680593506378788,0.16546180900415414,null,0.16680593506378788,0.12093073440259604,null,0.16680593506378788,0.3458901734799121,null,0.16680593506378788,0.2866999604594031,null,0.16680593506378788,-0.12347538788796517,null,0.16680593506378788,0.18280075075420654,null,0.16680593506378788,0.21453753983819218,null,0.0930357606750066,0.10446908914945444,null,0.0930357606750066,0.1169102884914761,null,0.0930357606750066,0.2093258526117006,null,0.0930357606750066,0.1871953812203224,null,0.0930357606750066,-0.12347538788796517,null,0.0930357606750066,0.18280075075420654,null,0.0930357606750066,0.21453753983819218,null,0.18335485278584698,0.1169102884914761,null,0.18335485278584698,0.20303608342826465,null,0.18335485278584698,0.3458901734799121,null,0.18335485278584698,0.21453753983819218,null,0.18335485278584698,-0.12347538788796517,null,0.18335485278584698,0.3028566734979042,null,0.16782292392533515,0.1169102884914761,null,0.16782292392533515,0.3028566734979042,null,0.16782292392533515,0.3458901734799121,null,0.16782292392533515,-0.12347538788796517,null,0.16782292392533515,0.07985386532635687,null,0.16782292392533515,0.220765273873051,null,0.18322243924785395,0.07985386532635687,null,0.18322243924785395,0.220765273873051,null,0.18322243924785395,0.33301231621452115,null,0.18322243924785395,0.33466019551363435,null,0.18322243924785395,0.3458901734799121,null,0.18322243924785395,-0.12347538788796517,null,0.18322243924785395,0.03408002189154647,null,-0.04346819278318063,-0.048566278894910116,null,-0.04346819278318063,-0.045057469527083546,null,-0.04346819278318063,0.03408002189154647,null,-0.04346819278318063,-0.12347538788796517,null,-0.04346819278318063,-0.06670348805615389,null,-0.04346819278318063,-0.09555883955974329,null,-0.04346819278318063,0.01451097388938063,null,-0.14273798729166856,-0.19133181545636682,null,-0.14273798729166856,-0.06670348805615389,null,-0.14273798729166856,-0.09555883955974329,null,-0.14273798729166856,-0.12347538788796517,null,-0.14273798729166856,-0.21946649091787748,null,-0.14273798729166856,-0.2044130545845644,null,-0.14962613694624075,-0.21946649091787748,null,-0.14962613694624075,-0.23900820159528996,null,-0.14962613694624075,-0.14938477167070868,null,-0.14962613694624075,-0.12347538788796517,null,-0.14962613694624075,-0.16801601520942022,null,-0.14962613694624075,-0.06670348805615389,null,-0.20445776581958058,-0.10464276024718189,null,-0.20445776581958058,-0.21946649091787748,null,-0.20445776581958058,-0.12347538788796517,null,-0.20445776581958058,-0.23475596450014458,null,-0.20445776581958058,-0.270920511175934,null,-0.20445776581958058,-0.16925045856490203,null,-0.05542426226517757,-0.045057469527083546,null,-0.05542426226517757,-0.14938477167070868,null,-0.05542426226517757,-0.1604977866631172,null,-0.05542426226517757,0.01451097388938063,null,-0.05542426226517757,-0.06670348805615389,null,-0.05542426226517757,-0.006450909511429738,null,-0.05542426226517757,0.019159317114474765,null,-0.05542426226517757,-0.12347538788796517,null,-0.1087657222851832,-0.12347538788796517,null,-0.1087657222851832,-0.045057469527083546,null,-0.1087657222851832,-0.14938477167070868,null,-0.1087657222851832,-0.1604977866631172,null,-0.1087657222851832,-0.04889619823574359,null,-0.1087657222851832,-0.062226738590315835,null,-0.1087657222851832,-0.09418345424814008,null,-0.1087657222851832,-0.12172595549560761,null,-0.1087657222851832,-0.20303059795118075,null,-0.1087657222851832,-0.14730739199627552,null,-0.1087657222851832,-0.18026793086884693,null,-0.18867491719063378,-0.045057469527083546,null,-0.18867491719063378,-0.20303059795118075,null,-0.18867491719063378,-0.16131292364750446,null,-0.18867491719063378,-0.12347538788796517,null,-0.18867491719063378,-0.2885979436059596,null,-0.18867491719063378,-0.312301125574439,null,-0.18867491719063378,-0.2914156120316533,null,-0.18069713731421364,-0.045057469527083546,null,-0.18069713731421364,-0.09393423873723,null,-0.18069713731421364,-0.312301125574439,null,-0.18069713731421364,-0.2885979436059596,null,-0.18069713731421364,-0.16837424122518413,null,-0.18069713731421364,-0.14569941480803134,null,-0.18069713731421364,-0.1842106077376507,null,-0.18069713731421364,-0.12347538788796517,null,-0.18069713731421364,-0.27570503245043415,null,-0.3678595934183686,-0.3970981707170666,null,-0.3678595934183686,-0.312301125574439,null,-0.3678595934183686,-0.39649148593873,null,-0.3678595934183686,-0.3957569717594388,null,-0.3678595934183686,-0.5518979703616873,null,-0.3678595934183686,-0.12347538788796517,null,-0.10162313608046596,-0.09393423873723,null,-0.10162313608046596,-0.06579474841140363,null,-0.10162313608046596,-0.06646577762849704,null,-0.10162313608046596,-0.12347538788796517,null,-0.17306444895555473,-0.12347538788796517,null,-0.17306444895555473,-0.048566278894910116,null,-0.17306444895555473,-0.10464276024718189,null,-0.17306444895555473,-0.28912775868693164,null,-0.17306444895555473,-0.21946649091787748,null,-0.17306444895555473,-0.23900820159528996,null,-0.17306444895555473,-0.2804141807316009,null,-0.17306444895555473,-0.3970981707170666,null,-0.17306444895555473,-0.39649148593873,null,-0.17306444895555473,-0.3957569717594388,null,-0.17306444895555473,0.07985386532635687,null,-0.17306444895555473,-0.005812165577938957,null,-0.17306444895555473,-0.09555883955974329,null,-0.17306444895555473,-0.2044130545845644,null,-0.17306444895555473,-0.23475596450014458,null,-0.17306444895555473,-0.270920511175934,null,-0.17306444895555473,-0.16925045856490203,null,-0.17306444895555473,-0.20303059795118075,null,-0.17306444895555473,-0.14938477167070868,null,-0.17306444895555473,-0.14730739199627552,null,-0.17306444895555473,-0.18026793086884693,null,-0.17306444895555473,-0.312301125574439,null,-0.17306444895555473,-0.2914156120316533,null,-0.17306444895555473,-0.27570503245043415,null,-0.17306444895555473,-0.09393423873723,null,-0.17306444895555473,-0.06579474841140363,null,-0.17306444895555473,0.03408002189154647,null,-0.2435900398507989,-0.1391251515936017,null,-0.2435900398507989,-0.34712216868484136,null,-0.2435900398507989,-0.34092473604778833,null,-0.2435900398507989,-0.36287283018224575,null,-0.2435900398507989,-0.4043126861101037,null,-0.2435900398507989,-0.3782302577299946,null,-0.2435900398507989,-0.36109366978836555,null,-0.2435900398507989,-0.3395054246677973,null,-0.2435900398507989,-0.19108389122506506,null,-0.2435900398507989,-0.08283854976657264,null,-0.2435900398507989,-0.1904656230809716,null,-0.2435900398507989,-0.08414507513076,null,-0.2435900398507989,-0.14402485957465164,null,-0.2435900398507989,-0.14431863607490744,null,-0.2435900398507989,-0.27139631759013244,null,-0.2435900398507989,-0.28592534384212,null,-0.2435900398507989,-0.2888508209632631,null,-0.2435900398507989,-0.3111646014602402,null,-0.2435900398507989,-0.299244265683661,null,-0.2435900398507989,-0.12347538788796517,null,0.02789177058174185,-0.19108389122506506,null,0.02789177058174185,-0.1391251515936017,null,0.02789177058174185,-0.11017348078879105,null,0.02789177058174185,0.34537057372956675,null,0.14883918176701527,-0.1391251515936017,null,0.14883918176701527,0.34537057372956675,null,0.14883918176701527,0.31051387657007784,null,0.14883918176701527,0.1906751450014839,null,0.14883918176701527,0.212567631792597,null,0.14883918176701527,0.1932927929671806,null,0.30646052765674126,0.212567631792597,null,0.30646052765674126,0.1932927929671806,null,0.30646052765674126,0.34537057372956675,null,0.30646052765674126,0.31051387657007784,null,0.30646052765674126,0.29058014940814064,null,0.30646052765674126,0.3223784745653776,null,0.30646052765674126,0.40044258189254917,null,0.39087544825792203,0.40044258189254917,null,0.39087544825792203,0.34537057372956675,null,0.39087544825792203,0.31051387657007784,null,0.39087544825792203,0.38677753720770586,null,0.39087544825792203,0.4229959127271377,null,0.39087544825792203,0.4696292382560312,null,0.3841063898525385,0.4696292382560312,null,0.3841063898525385,0.34537057372956675,null,0.3841063898525385,0.31051387657007784,null,0.3841063898525385,0.39666776777551105,null,0.3841063898525385,0.35705445714673195,null,0.3841063898525385,0.4439108912263765,null,0.3907574019144891,0.4439108912263765,null,0.3907574019144891,0.4630365014039764,null,0.3907574019144891,0.4087892245540139,null,0.3907574019144891,0.34537057372956675,null,0.3907574019144891,0.40562681776829224,null,0.3907574019144891,0.31051387657007784,null,0.3907574019144891,0.34545367822087475,null,0.3476558399117792,0.40562681776829224,null,0.3476558399117792,0.1466122806543426,null,0.3476558399117792,0.34537057372956675,null,0.3476558399117792,0.4569607985630378,null,0.3476558399117792,0.46816503712252017,null,0.3476558399117792,0.4310350565212626,null,0.38863505803310383,0.1466122806543426,null,0.38863505803310383,0.34537057372956675,null,0.38863505803310383,0.4569607985630378,null,0.38863505803310383,0.510296417316149,null,0.38863505803310383,0.5495640460088367,null,0.38863505803310383,0.49104287545625336,null,0.3800585691411428,0.49104287545625336,null,0.3800585691411428,0.1466122806543426,null,0.3800585691411428,0.34537057372956675,null,0.3800585691411428,0.5432345877247137,null,0.3800585691411428,0.4569607985630378,null,0.3800585691411428,0.21089319755664834,null,0.3800585691411428,0.5199902693779456,null,0.3800585691411428,0.5276959558329463,null,0.49656777167038546,0.5432345877247137,null,0.49656777167038546,0.4569607985630378,null,0.49656777167038546,0.34537057372956675,null,0.49656777167038546,0.5199902693779456,null,0.49656777167038546,0.49104287545625336,null,0.49656777167038546,0.5823337548247374,null,0.26995031194345953,0.21089319755664834,null,0.26995031194345953,0.1466122806543426,null,0.26995031194345953,0.34537057372956675,null,0.26995031194345953,0.2392560887574125,null,0.4805621325058513,0.2392560887574125,null,0.4805621325058513,0.34537057372956675,null,0.4805621325058513,0.6625013865393955,null,0.4805621325058513,0.6347152152394108,null,0.4805621325058513,0.577103676333684,null,0.4805621325058513,0.6058006195010691,null,0.5974463177254818,0.6625013865393955,null,0.5974463177254818,0.6347152152394108,null,0.5974463177254818,0.34537057372956675,null,0.5974463177254818,0.7227489821412192,null,0.5974463177254818,0.577103676333684,null,0.5974463177254818,0.6335046986555173,null,0.5954677669190508,0.7227489821412192,null,0.5954677669190508,0.34537057372956675,null,0.5954677669190508,0.6871318632857099,null,0.5954677669190508,0.577103676333684,null,0.5954677669190508,0.6283513532801887,null,0.5528266406175105,0.6871318632857099,null,0.5528266406175105,0.3458901734799121,null,0.5528266406175105,0.34537057372956675,null,0.5528266406175105,0.7218381446266022,null,0.5528266406175105,0.6809203042478824,null,0.5528266406175105,0.704839194219405,null,0.6032687832440898,0.6871318632857099,null,0.6032687832440898,0.7218381446266022,null,0.6032687832440898,0.34537057372956675,null,0.6032687832440898,0.577103676333684,null,0.6032687832440898,0.6516460607628983,null,0.6032687832440898,0.6809203042478824,null,0.46076837896352013,0.21089319755664834,null,0.46076837896352013,0.5199902693779456,null,0.46076837896352013,0.5276959558329463,null,0.46076837896352013,0.5823337548247374,null,0.46076837896352013,0.2392560887574125,null,0.46076837896352013,0.577103676333684,null,0.46076837896352013,0.6058006195010691,null,0.46076837896352013,0.6335046986555173,null,0.46076837896352013,0.6283513532801887,null,0.46076837896352013,0.6516460607628983,null,0.46076837896352013,0.34537057372956675,null,0.46076837896352013,0.6405876046444299,null,0.46076837896352013,0.6225481026938754,null,0.46076837896352013,0.31599261352300606,null,0.46076837896352013,0.46261038739506033,null,0.46076837896352013,0.4144849516112059,null,0.5433625300770211,0.6809203042478824,null,0.5433625300770211,0.704839194219405,null,0.5433625300770211,0.577103676333684,null,0.5433625300770211,0.6405876046444299,null,0.5433625300770211,0.3458901734799121,null,0.5433625300770211,0.34537057372956675,null,0.5433625300770211,0.6874935845795493,null,0.5166393100206508,0.577103676333684,null,0.5166393100206508,0.6225481026938754,null,0.5166393100206508,0.6874935845795493,null,0.5166393100206508,0.3458901734799121,null,0.5166393100206508,0.34537057372956675,null,0.5166393100206508,0.613562929940228,null,0.5166393100206508,0.6149678422535939,null,0.4572876477935486,0.31599261352300606,null,0.4572876477935486,0.46261038739506033,null,0.4572876477935486,0.577103676333684,null,0.4572876477935486,0.613562929940228,null,0.4572876477935486,0.6149678422535939,null,0.4572876477935486,0.3458901734799121,null,0.4572876477935486,0.34537057372956675,null,0.4572876477935486,0.4668861462856363,null,0.2873678361870985,0.31599261352300606,null,0.2873678361870985,0.4144849516112059,null,0.2873678361870985,0.4668861462856363,null,0.2873678361870985,-0.045057469527083546,null,0.2873678361870985,0.34537057372956675,null,0.2873678361870985,0.4112861028390984,null,0.2873678361870985,0.3903482679988309,null,0.2873678361870985,0.31943626108160483,null,0.37348343098559994,0.31599261352300606,null,0.37348343098559994,0.4112861028390984,null,0.37348343098559994,0.3903482679988309,null,0.37348343098559994,0.34537057372956675,null,0.37348343098559994,0.31943626108160483,null,0.37348343098559994,0.2864702164657483,null,0.18415771669170994,0.31943626108160483,null,0.18415771669170994,-0.045057469527083546,null,0.18415771669170994,0.08663944001740426,null,0.18415771669170994,0.11962788412804318,null,0.18415771669170994,0.08980312784022368,null,0.18415771669170994,0.10022406326166297,null,0.18415771669170994,0.34537057372956675,null,0.18415771669170994,0.17454697226965138,null,0.18415771669170994,0.31599261352300606,null,0.18415771669170994,0.24236183561108177,null,0.11481956097330712,0.17454697226965138,null,0.11481956097330712,-0.045057469527083546,null,0.11481956097330712,0.039104995878828236,null,0.11481956097330712,0.030720885275945464,null,0.11481956097330712,-0.0026914817451732303,null,0.11481956097330712,-0.004244632836199523,null,0.11481956097330712,0.023122589154891227,null,0.11481956097330712,0.34537057372956675,null,0.11481956097330712,0.22920977295568065,null,0.11481956097330712,0.20505723055598393,null,0.11481956097330712,-0.09393423873723,null,0.11481956097330712,0.31599261352300606,null,0.11481956097330712,0.20059430283948984,null,0.32519094291423434,0.20505723055598393,null,0.32519094291423434,0.22920977295568065,null,0.32519094291423434,0.34537057372956675,null,0.32519094291423434,0.40138836928278926,null,0.32519094291423434,0.31599261352300606,null,0.32519094291423434,0.2569234526750079,null,0.07147207237796954,-0.09393423873723,null,0.07147207237796954,-0.06646577762849704,null,0.07147207237796954,-0.06579474841140363,null,0.07147207237796954,0.34537057372956675,null,0.15329040813732947,0.31599261352300606,null,0.15329040813732947,0.2864702164657483,null,0.15329040813732947,0.24236183561108177,null,0.15329040813732947,0.20059430283948984,null,0.15329040813732947,0.2569234526750079,null,0.15329040813732947,-0.09393423873723,null,0.15329040813732947,-0.06579474841140363,null,0.15329040813732947,0.34537057372956675,null],\"z\":[0.24791440442420076,0.41170991367845594,null,0.24791440442420076,0.12962902054808137,null,0.24791440442420076,0.2852862422631666,null,0.24791440442420076,0.07272814348459401,null,0.21355264466260535,0.2852862422631666,null,0.21355264466260535,-0.001776165785876518,null,0.21355264466260535,0.3608312273315808,null,0.21355264466260535,0.2866827314698765,null,0.21355264466260535,0.261666349293297,null,0.21355264466260535,0.046723478439934844,null,0.21355264466260535,0.3589794765394489,null,0.21355264466260535,0.36807494046685824,null,0.21355264466260535,-0.07006506755362872,null,0.21355264466260535,0.12962902054808137,null,0.21355264466260535,0.39822640174023466,null,0.21355264466260535,0.38810570350418044,null,0.21355264466260535,0.12143443111435766,null,0.21355264466260535,0.2831044037381123,null,0.21355264466260535,0.2648925416033834,null,0.21355264466260535,0.41217348327378583,null,0.21355264466260535,0.30288215508369964,null,0.21355264466260535,0.2521013116931456,null,0.21355264466260535,0.26352559331302766,null,0.21355264466260535,0.06639344277096669,null,0.21355264466260535,0.13754470624748572,null,0.21355264466260535,0.17538156803216684,null,0.21355264466260535,0.1714425931265763,null,0.21355264466260535,0.2881895775763782,null,0.21355264466260535,0.2718593470895556,null,0.21355264466260535,0.29853334408691334,null,0.21355264466260535,0.19372920406508906,null,0.21355264466260535,0.1721033182195973,null,0.21355264466260535,0.38678786972685075,null,0.21355264466260535,0.37382816396313956,null,0.21355264466260535,0.07272814348459401,null,0.21355264466260535,0.13822327787341948,null,0.21355264466260535,-0.03869581883676084,null,0.3223961736712837,0.12962902054808137,null,0.3223961736712837,0.36523271788953754,null,0.3223961736712837,0.4972360197616839,null,0.3223961736712837,0.4676168472955775,null,0.3223961736712837,0.2158921861434287,null,0.3223961736712837,0.37727734076684616,null,0.3223961736712837,0.37336666886503306,null,0.3223961736712837,0.36236990289335325,null,0.36006314587644844,0.36523271788953754,null,0.36006314587644844,0.12962902054808137,null,0.36006314587644844,0.43656653915366245,null,0.36006314587644844,0.4972360197616839,null,0.36006314587644844,0.4862716048602116,null,0.36006314587644844,0.49631845184681517,null,0.36006314587644844,0.37727734076684616,null,0.4067375341036129,0.43656653915366245,null,0.4067375341036129,0.12962902054808137,null,0.4067375341036129,0.5044207651191218,null,0.4067375341036129,0.4972360197616839,null,0.4067375341036129,0.5514079501008347,null,0.4067375341036129,0.5533863984952627,null,0.4067375341036129,0.37727734076684616,null,0.4067375341036129,0.43373256973560714,null,0.4067375341036129,0.408162613228216,null,0.4067375341036129,0.4367926591062531,null,0.4067375341036129,0.4406342520149721,null,0.42634866687513856,0.5044207651191218,null,0.42634866687513856,0.12962902054808137,null,0.42634866687513856,0.4972360197616839,null,0.42634866687513856,0.5456366548673062,null,0.42634866687513856,0.5591014826992032,null,0.42634866687513856,0.37727734076684616,null,0.42634866687513856,0.6011560076952294,null,0.4658100795983469,0.39822640174023466,null,0.4658100795983469,0.4972360197616839,null,0.4658100795983469,0.4676168472955775,null,0.4658100795983469,0.2158921861434287,null,0.4658100795983469,0.37727734076684616,null,0.4658100795983469,0.37336666886503306,null,0.4658100795983469,0.36236990289335325,null,0.4658100795983469,0.4862716048602116,null,0.4658100795983469,0.49631845184681517,null,0.4658100795983469,0.5514079501008347,null,0.4658100795983469,0.5533863984952627,null,0.4658100795983469,0.43373256973560714,null,0.4658100795983469,0.408162613228216,null,0.4658100795983469,0.4367926591062531,null,0.4658100795983469,0.4406342520149721,null,0.4658100795983469,0.5456366548673062,null,0.4658100795983469,0.5591014826992032,null,0.4658100795983469,0.26816719783865656,null,0.4658100795983469,0.5678024375405091,null,0.4658100795983469,0.6865582772257731,null,0.4658100795983469,0.697619679847315,null,0.4658100795983469,0.6565560323815058,null,0.4658100795983469,0.12962902054808137,null,0.4658100795983469,0.615922209522808,null,0.4658100795983469,0.6201465401875724,null,0.4658100795983469,0.455406359447109,null,0.4658100795983469,0.4719968183073407,null,0.4658100795983469,0.5058559137544654,null,0.4658100795983469,0.46994547093036726,null,0.4658100795983469,0.5613260294640571,null,0.4658100795983469,0.3677664504552191,null,0.4658100795983469,0.4386777596613303,null,0.4658100795983469,0.522341713634864,null,0.4658100795983469,0.4019768022568635,null,0.4658100795983469,0.4586303488041942,null,0.4658100795983469,0.36305930548217313,null,0.4658100795983469,0.5816915481379984,null,0.4658100795983469,0.5343509319677714,null,0.4658100795983469,0.559968256515462,null,0.5211003785949408,0.6011560076952294,null,0.5211003785949408,0.5678024375405091,null,0.5211003785949408,0.4972360197616839,null,0.5211003785949408,0.615922209522808,null,0.5211003785949408,0.6201465401875724,null,0.5211003785949408,0.455406359447109,null,0.5211003785949408,0.37727734076684616,null,0.5211003785949408,0.4719968183073407,null,0.5211003785949408,0.5058559137544654,null,0.5211003785949408,0.7548055451238672,null,0.5211003785949408,0.7370259876620342,null,0.5211003785949408,0.12962902054808137,null,0.40854342496201146,0.46994547093036726,null,0.40854342496201146,0.5613260294640571,null,0.40854342496201146,0.3677664504552191,null,0.40854342496201146,0.4386777596613303,null,0.40854342496201146,0.5678024375405091,null,0.40854342496201146,0.455406359447109,null,0.40854342496201146,0.20558776589505123,null,0.40854342496201146,0.6177659646872077,null,0.40854342496201146,0.12962902054808137,null,0.40854342496201146,0.4721442169428595,null,0.36716287718713364,0.46994547093036726,null,0.36716287718713364,0.522341713634864,null,0.36716287718713364,0.3677664504552191,null,0.36716287718713364,0.4019768022568635,null,0.36716287718713364,0.20558776589505123,null,0.36716287718713364,0.5442209704491924,null,0.36716287718713364,0.12962902054808137,null,0.36716287718713364,0.4586303488041942,null,0.36716287718713364,0.36305930548217313,null,0.36716287718713364,0.4016412739784234,null,0.3188928561316,0.39822640174023466,null,0.3188928561316,0.38810570350418044,null,0.3188928561316,0.12143443111435766,null,0.3188928561316,0.2831044037381123,null,0.3188928561316,0.2648925416033834,null,0.3188928561316,0.4586303488041942,null,0.3188928561316,0.36305930548217313,null,0.3188928561316,0.20558776589505123,null,0.3188928561316,0.12962902054808137,null,0.3188928561316,0.489971119677522,null,0.3188928561316,0.46994547093036726,null,0.3188928561316,0.37891707433287725,null,0.3188928561316,0.3677664504552191,null,0.37044964128838115,0.39822640174023466,null,0.37044964128838115,0.41217348327378583,null,0.37044964128838115,0.2831044037381123,null,0.37044964128838115,0.30288215508369964,null,0.37044964128838115,0.4586303488041942,null,0.37044964128838115,0.36305930548217313,null,0.37044964128838115,0.489971119677522,null,0.37044964128838115,0.46994547093036726,null,0.37044964128838115,0.37891707433287725,null,0.37044964128838115,0.3677664504552191,null,0.37044964128838115,0.12962902054808137,null,0.1382330594241667,0.12143443111435766,null,0.1382330594241667,0.20558776589505123,null,0.1382330594241667,0.12962902054808137,null,0.1382330594241667,0.06639344277096669,null,0.16607415776691375,0.2521013116931456,null,0.16607415776691375,0.26352559331302766,null,0.16607415776691375,0.06639344277096669,null,0.16607415776691375,0.13754470624748572,null,0.16607415776691375,0.17538156803216684,null,0.16607415776691375,0.1714425931265763,null,0.16607415776691375,0.12962902054808137,null,0.16607415776691375,0.20918075775663075,null,0.21009365937794652,0.2521013116931456,null,0.21009365937794652,0.2881895775763782,null,0.21009365937794652,0.13754470624748572,null,0.21009365937794652,0.20918075775663075,null,0.21009365937794652,0.12962902054808137,null,0.21009365937794652,0.27125532597111424,null,0.21368854378621616,0.2718593470895556,null,0.21368854378621616,0.2521013116931456,null,0.21368854378621616,0.29853334408691334,null,0.21368854378621616,0.19372920406508906,null,0.21368854378621616,0.13754470624748572,null,0.21368854378621616,0.1721033182195973,null,0.21368854378621616,0.27125532597111424,null,0.21368854378621616,0.12962902054808137,null,0.27558482774625753,0.2852862422631666,null,0.27558482774625753,0.3589794765394489,null,0.27558482774625753,0.38678786972685075,null,0.27558482774625753,0.36807494046685824,null,0.27558482774625753,0.13754470624748572,null,0.27558482774625753,0.37382816396313956,null,0.27558482774625753,0.2718593470895556,null,0.27558482774625753,0.19372920406508906,null,0.27558482774625753,0.12962902054808137,null,0.27558482774625753,0.24243525125635537,null,0.27558482774625753,0.30293155640641783,null,0.17308455766170483,0.2718593470895556,null,0.17308455766170483,0.24243525125635537,null,0.17308455766170483,0.30293155640641783,null,0.17308455766170483,0.2852862422631666,null,0.17308455766170483,0.2942855809786985,null,0.17308455766170483,-0.08752056949996656,null,0.17308455766170483,0.12962902054808137,null,0.25344555110743594,0.2866827314698765,null,0.25344555110743594,0.261666349293297,null,0.25344555110743594,0.12962902054808137,null,-0.14315198344946123,0.07272814348459401,null,-0.14315198344946123,-0.07006506755362872,null,-0.14315198344946123,-0.4511313862751999,null,-0.14315198344946123,-0.24182438031039058,null,-0.14315198344946123,-0.03869581883676084,null,-0.14315198344946123,-0.13436229730425772,null,-0.14315198344946123,0.12962902054808137,null,-0.14315198344946123,-0.2857129436357701,null,-0.14315198344946123,-0.1973179353525699,null,-0.14315198344946123,-0.001776165785876518,null,-0.2743657420269262,-0.24182438031039058,null,-0.2743657420269262,-0.2857129436357701,null,-0.2743657420269262,-0.4511313862751999,null,-0.2743657420269262,-0.4739206357499666,null,-0.2743657420269262,-0.48425293932021246,null,-0.2743657420269262,-0.24591778094457617,null,-0.2743657420269262,0.12962902054808137,null,-0.2743657420269262,-0.26139117146018087,null,-0.2743657420269262,-0.3011578930387322,null,-0.2743657420269262,-0.22040634203616874,null,-0.2743657420269262,-0.26210648504132056,null,-0.2743657420269262,-0.3373645062201453,null,-0.2776620033951626,-0.24591778094457617,null,-0.2776620033951626,-0.4511313862751999,null,-0.2776620033951626,-0.46867421233929807,null,-0.2776620033951626,-0.4879857755969928,null,-0.2776620033951626,-0.4780899668339029,null,-0.2776620033951626,-0.4636286799171384,null,-0.2776620033951626,-0.1973179353525699,null,-0.2776620033951626,0.12962902054808137,null,-0.2776620033951626,-0.26139117146018087,null,-0.2776620033951626,-0.3100062374492585,null,-0.2776620033951626,-0.27980843801907784,null,-0.2776620033951626,-0.2907227807766849,null,-0.2776620033951626,-0.34260223523531413,null,-0.2776620033951626,-0.4251464745353465,null,-0.2776620033951626,0.046723478439934844,null,-0.1518237037691918,-0.24182438031039058,null,-0.1518237037691918,-0.26139117146018087,null,-0.1518237037691918,-0.3011578930387322,null,-0.1518237037691918,-0.22040634203616874,null,-0.1518237037691918,-0.26210648504132056,null,-0.1518237037691918,-0.1973179353525699,null,-0.1518237037691918,0.12962902054808137,null,-0.1518237037691918,-0.24591778094457617,null,-0.1367248395522977,-0.26139117146018087,null,-0.1367248395522977,-0.3100062374492585,null,-0.1367248395522977,-0.24591778094457617,null,-0.1367248395522977,-0.1973179353525699,null,-0.1367248395522977,0.12962902054808137,null,-0.1367248395522977,-0.2165413114933085,null,-0.13622901117483438,-0.27980843801907784,null,-0.13622901117483438,-0.1973179353525699,null,-0.13622901117483438,0.12962902054808137,null,-0.13622901117483438,-0.21687005105150398,null,-0.13622901117483438,-0.25326301499427256,null,-0.13622901117483438,-0.16670142723382844,null,-0.13622901117483438,-0.18869009920517066,null,-0.13622901117483438,-0.19622308148843753,null,-0.13622901117483438,-0.22273073656708148,null,-0.21142974530363898,-0.27980843801907784,null,-0.21142974530363898,-0.21687005105150398,null,-0.21142974530363898,-0.25326301499427256,null,-0.21142974530363898,-0.4511313862751999,null,-0.21142974530363898,0.12962902054808137,null,-0.21142974530363898,-0.28175351024253825,null,-0.15082777205196712,-0.16670142723382844,null,-0.15082777205196712,-0.18869009920517066,null,-0.15082777205196712,-0.21687005105150398,null,-0.15082777205196712,-0.18226984445953212,null,-0.15082777205196712,0.12962902054808137,null,-0.15082777205196712,-0.2664859084814702,null,-0.15082777205196712,-0.28175351024253825,null,-0.13097635827407514,-0.16670142723382844,null,-0.13097635827407514,-0.19622308148843753,null,-0.13097635827407514,-0.18226984445953212,null,-0.13097635827407514,-0.2664859084814702,null,-0.13097635827407514,-0.1973179353525699,null,-0.13097635827407514,-0.1870366892474832,null,-0.13097635827407514,0.12962902054808137,null,-0.13097635827407514,-0.20202983544039563,null,-0.13097635827407514,-0.21569928383804,null,-0.13097635827407514,-0.18959440993604443,null,-0.13097635827407514,-0.15253233841309016,null,-0.2027988124549526,-0.28175351024253825,null,-0.2027988124549526,-0.4511313862751999,null,-0.2027988124549526,-0.2639623504293571,null,-0.2027988124549526,-0.3216285184924235,null,-0.2027988124549526,0.12962902054808137,null,-0.15886679142322813,-0.1973179353525699,null,-0.15886679142322813,-0.001776165785876518,null,-0.15886679142322813,-0.2907227807766849,null,-0.15886679142322813,-0.2165413114933085,null,-0.15886679142322813,-0.22273073656708148,null,-0.15886679142322813,-0.20202983544039563,null,-0.15886679142322813,-0.28175351024253825,null,-0.15886679142322813,-0.2639623504293571,null,-0.15886679142322813,0.12962902054808137,null,0.2097713370534253,0.2158921861434287,null,0.2097713370534253,0.26816719783865656,null,0.2097713370534253,0.27633884564888017,null,0.2097713370534253,0.2408231751641978,null,0.2097713370534253,0.12962902054808137,null,0.1383137584594081,0.2158921861434287,null,0.1383137584594081,0.26816719783865656,null,0.1383137584594081,0.12420764647185602,null,0.1383137584594081,0.046723478439934844,null,0.225501033169774,0.2158921861434287,null,0.225501033169774,0.37727734076684616,null,0.225501033169774,0.37336666886503306,null,0.225501033169774,0.046723478439934844,null,0.225501033169774,0.2354074660520998,null,0.23630134740895425,0.37727734076684616,null,0.23630134740895425,0.36236990289335325,null,0.23630134740895425,0.2354074660520998,null,0.23630134740895425,0.046723478439934844,null,0.23630134740895425,0.2961678506320794,null,0.31408984387496386,0.37727734076684616,null,0.31408984387496386,0.43373256973560714,null,0.31408984387496386,0.2961678506320794,null,0.31408984387496386,0.4014185778131704,null,0.31408984387496386,0.4370980279804165,null,0.31408984387496386,0.046723478439934844,null,0.31408984387496386,0.36206143966627485,null,0.2822381569945245,0.37727734076684616,null,0.2822381569945245,0.408162613228216,null,0.2822381569945245,0.36206143966627485,null,0.2822381569945245,0.046723478439934844,null,0.2822381569945245,0.3549146708944397,null,0.299661029482285,0.37727734076684616,null,0.299661029482285,0.4367926591062531,null,0.299661029482285,0.3549146708944397,null,0.299661029482285,0.046723478439934844,null,0.299661029482285,0.39778451105623763,null,0.3190643838887153,0.37727734076684616,null,0.3190643838887153,0.4406342520149721,null,0.3190643838887153,0.39778451105623763,null,0.3190643838887153,0.046723478439934844,null,0.3190643838887153,0.44087363055813383,null,0.35243590225485305,0.37727734076684616,null,0.35243590225485305,0.4719968183073407,null,0.35243590225485305,0.44087363055813383,null,0.35243590225485305,0.046723478439934844,null,0.35243590225485305,0.5195886442039787,null,0.4378984548080046,0.455406359447109,null,0.4378984548080046,0.37727734076684616,null,0.4378984548080046,0.5058559137544654,null,0.4378984548080046,0.5195886442039787,null,0.4378984548080046,0.6566135255150605,null,0.4378984548080046,0.6350084285347012,null,0.4378984548080046,0.046723478439934844,null,0.3038980601141956,0.3677664504552191,null,0.3038980601141956,0.4386777596613303,null,0.3038980601141956,0.455406359447109,null,0.3038980601141956,0.20558776589505123,null,0.3038980601141956,0.4721442169428595,null,0.3038980601141956,0.046723478439934844,null,0.2663305624761243,0.3677664504552191,null,0.2663305624761243,0.4019768022568635,null,0.2663305624761243,0.20558776589505123,null,0.2663305624761243,0.36305930548217313,null,0.2663305624761243,0.4016412739784234,null,0.2663305624761243,0.046723478439934844,null,0.2398426865503463,0.12143443111435766,null,0.2398426865503463,0.2831044037381123,null,0.2398426865503463,0.2648925416033834,null,0.2398426865503463,0.36305930548217313,null,0.2398426865503463,0.20558776589505123,null,0.2398426865503463,0.37891707433287725,null,0.2398426865503463,0.3677664504552191,null,0.2398426865503463,0.046723478439934844,null,0.284349781233551,0.2831044037381123,null,0.284349781233551,0.30288215508369964,null,0.284349781233551,0.36305930548217313,null,0.284349781233551,0.37891707433287725,null,0.284349781233551,0.3677664504552191,null,0.284349781233551,0.046723478439934844,null,0.14309632747838538,0.046723478439934844,null,0.14309632747838538,0.06639344277096669,null,0.14309632747838538,0.12143443111435766,null,0.14309632747838538,0.2831044037381123,null,0.14309632747838538,0.2648925416033834,null,0.14309632747838538,0.30288215508369964,null,0.14309632747838538,0.13754470624748572,null,0.14309632747838538,0.17538156803216684,null,0.14309632747838538,0.1714425931265763,null,0.14309632747838538,0.1721033182195973,null,0.14309632747838538,0.13822327787341948,null,0.14309632747838538,0.2866827314698765,null,0.14309632747838538,0.261666349293297,null,0.14309632747838538,0.2188142988054738,null,0.14309632747838538,0.15270714932715848,null,0.14309632747838538,-0.08950935130618258,null,0.14309632747838538,-0.058138422323830256,null,0.1075401766117953,0.12143443111435766,null,0.1075401766117953,0.06639344277096669,null,0.1075401766117953,0.20558776589505123,null,0.1075401766117953,0.046723478439934844,null,0.0811483944738237,0.06639344277096669,null,0.0811483944738237,0.13754470624748572,null,0.0811483944738237,0.17538156803216684,null,0.0811483944738237,0.046723478439934844,null,0.0811483944738237,0.07209767580784522,null,0.06299332837444274,0.19372920406508906,null,0.06299332837444274,0.13754470624748572,null,0.06299332837444274,0.1714425931265763,null,0.06299332837444274,0.1721033182195973,null,0.06299332837444274,-0.08752056949996656,null,0.06299332837444274,0.07209767580784522,null,0.06299332837444274,0.046723478439934844,null,0.06299332837444274,0.1032482744278373,null,0.06299332837444274,0.053432493664176225,null,0.11497783843888636,0.19372920406508906,null,0.11497783843888636,0.13754470624748572,null,0.11497783843888636,0.24243525125635537,null,0.11497783843888636,0.15270714932715848,null,0.11497783843888636,0.046723478439934844,null,0.11497783843888636,0.1032482744278373,null,0.11497783843888636,0.053432493664176225,null,0.01989381873853527,0.13754470624748572,null,0.01989381873853527,0.13822327787341948,null,0.01989381873853527,-0.08752056949996656,null,0.01989381873853527,0.053432493664176225,null,0.01989381873853527,0.046723478439934844,null,0.01989381873853527,-0.03333950473428748,null,-0.029290593172574292,0.13754470624748572,null,-0.029290593172574292,-0.03333950473428748,null,-0.029290593172574292,-0.08752056949996656,null,-0.029290593172574292,0.046723478439934844,null,-0.029290593172574292,-0.08950935130618258,null,-0.029290593172574292,-0.11650289549526024,null,-0.12196298988074611,-0.08950935130618258,null,-0.12196298988074611,-0.11650289549526024,null,-0.12196298988074611,-0.17754515019450362,null,-0.12196298988074611,-0.21524896045993516,null,-0.12196298988074611,-0.08752056949996656,null,-0.12196298988074611,0.046723478439934844,null,-0.12196298988074611,-0.24025996560651558,null,-0.24689925179108513,-0.07006506755362872,null,-0.24689925179108513,-0.4511313862751999,null,-0.24689925179108513,-0.24025996560651558,null,-0.24689925179108513,0.046723478439934844,null,-0.24689925179108513,-0.304471976358777,null,-0.24689925179108513,-0.28833952614787794,null,-0.24689925179108513,-0.40911754322479577,null,-0.18889587302667685,-0.3373645062201453,null,-0.18889587302667685,-0.304471976358777,null,-0.18889587302667685,-0.28833952614787794,null,-0.18889587302667685,0.046723478439934844,null,-0.18889587302667685,-0.22040634203616874,null,-0.18889587302667685,-0.272459709538133,null,-0.19723156357039667,-0.22040634203616874,null,-0.19723156357039667,-0.26210648504132056,null,-0.19723156357039667,-0.34260223523531413,null,-0.19723156357039667,0.046723478439934844,null,-0.19723156357039667,-0.28088200432685567,null,-0.19723156357039667,-0.304471976358777,null,-0.0919939691819923,-0.03869581883676084,null,-0.0919939691819923,-0.22040634203616874,null,-0.0919939691819923,0.046723478439934844,null,-0.0919939691819923,-0.20400599106501613,null,-0.0919939691819923,-0.20510735406000308,null,-0.0919939691819923,-0.13436229730425772,null,-0.3359385004388797,-0.4511313862751999,null,-0.3359385004388797,-0.34260223523531413,null,-0.3359385004388797,-0.4251464745353465,null,-0.3359385004388797,-0.40911754322479577,null,-0.3359385004388797,-0.304471976358777,null,-0.3359385004388797,-0.5289257452302787,null,-0.3359385004388797,-0.5148651677521149,null,-0.3359385004388797,0.046723478439934844,null,-0.4082613603947704,0.046723478439934844,null,-0.4082613603947704,-0.4511313862751999,null,-0.4082613603947704,-0.34260223523531413,null,-0.4082613603947704,-0.4251464745353465,null,-0.4082613603947704,-0.5813360618434422,null,-0.4082613603947704,-0.588339280829903,null,-0.4082613603947704,-0.5903657334613808,null,-0.4082613603947704,-0.6216227615281048,null,-0.4082613603947704,-0.41070339770919667,null,-0.4082613603947704,-0.42885964465677023,null,-0.4082613603947704,-0.43437305848183927,null,-0.32809515695196056,-0.4511313862751999,null,-0.32809515695196056,-0.41070339770919667,null,-0.32809515695196056,-0.5413830603725427,null,-0.32809515695196056,0.046723478439934844,null,-0.32809515695196056,-0.48129699716039764,null,-0.32809515695196056,-0.2664859084814702,null,-0.32809515695196056,-0.36610807402643075,null,-0.3504256133149971,-0.4511313862751999,null,-0.3504256133149971,-0.28175351024253825,null,-0.3504256133149971,-0.2664859084814702,null,-0.3504256133149971,-0.48129699716039764,null,-0.3504256133149971,-0.5312841234753545,null,-0.3504256133149971,-0.5564445797379484,null,-0.3504256133149971,-0.5496043607107073,null,-0.3504256133149971,0.046723478439934844,null,-0.3504256133149971,-0.3746543104618644,null,-0.11926715416408473,-0.19622308148843753,null,-0.11926715416408473,-0.2664859084814702,null,-0.11926715416408473,-0.21569928383804,null,-0.11926715416408473,-0.18959440993604443,null,-0.11926715416408473,-0.15253233841309016,null,-0.11926715416408473,0.046723478439934844,null,-0.14775238182640232,-0.28175351024253825,null,-0.14775238182640232,-0.2639623504293571,null,-0.14775238182640232,-0.23955928990633069,null,-0.14775238182640232,0.046723478439934844,null,-0.22507887926998815,0.046723478439934844,null,-0.22507887926998815,-0.07006506755362872,null,-0.22507887926998815,-0.03869581883676084,null,-0.22507887926998815,-0.26139117146018087,null,-0.22507887926998815,-0.22040634203616874,null,-0.22507887926998815,-0.26210648504132056,null,-0.22507887926998815,-0.24591778094457617,null,-0.22507887926998815,-0.19622308148843753,null,-0.22507887926998815,-0.21569928383804,null,-0.22507887926998815,-0.18959440993604443,null,-0.22507887926998815,-0.08950935130618258,null,-0.22507887926998815,-0.058138422323830256,null,-0.22507887926998815,-0.28833952614787794,null,-0.22507887926998815,-0.272459709538133,null,-0.22507887926998815,-0.20400599106501613,null,-0.22507887926998815,-0.20510735406000308,null,-0.22507887926998815,-0.13436229730425772,null,-0.22507887926998815,-0.41070339770919667,null,-0.22507887926998815,-0.34260223523531413,null,-0.22507887926998815,-0.42885964465677023,null,-0.22507887926998815,-0.43437305848183927,null,-0.22507887926998815,-0.2664859084814702,null,-0.22507887926998815,-0.36610807402643075,null,-0.22507887926998815,-0.3746543104618644,null,-0.22507887926998815,-0.28175351024253825,null,-0.22507887926998815,-0.2639623504293571,null,-0.22507887926998815,-0.24025996560651558,null,0.38175177586439246,0.2158921861434287,null,0.38175177586439246,0.37727734076684616,null,0.38175177586439246,0.37336666886503306,null,0.38175177586439246,0.36236990289335325,null,0.38175177586439246,0.43373256973560714,null,0.38175177586439246,0.408162613228216,null,0.38175177586439246,0.4367926591062531,null,0.38175177586439246,0.4406342520149721,null,0.38175177586439246,0.26816719783865656,null,0.38175177586439246,0.36305930548217313,null,0.38175177586439246,0.455406359447109,null,0.38175177586439246,0.3677664504552191,null,0.38175177586439246,0.4019768022568635,null,0.38175177586439246,0.4386777596613303,null,0.38175177586439246,0.5816915481379984,null,0.38175177586439246,0.5343509319677714,null,0.38175177586439246,0.559968256515462,null,0.38175177586439246,0.4719968183073407,null,0.38175177586439246,0.5058559137544654,null,0.38175177586439246,0.046723478439934844,null,0.0732645465591756,0.26816719783865656,null,0.0732645465591756,0.2158921861434287,null,0.0732645465591756,0.12420764647185602,null,0.0732645465591756,-0.1907245574496667,null,-0.010156882537197386,0.2158921861434287,null,-0.010156882537197386,-0.1907245574496667,null,-0.010156882537197386,-0.13950226372118762,null,-0.010156882537197386,-0.05651816653705894,null,-0.010156882537197386,-0.018063313798989736,null,-0.010156882537197386,-0.04689495853850796,null,-0.11749506949229092,-0.018063313798989736,null,-0.11749506949229092,-0.04689495853850796,null,-0.11749506949229092,-0.1907245574496667,null,-0.11749506949229092,-0.13950226372118762,null,-0.11749506949229092,-0.12215175411251401,null,-0.11749506949229092,-0.0904416637707479,null,-0.11749506949229092,-0.11885956705583883,null,-0.16913002528776228,-0.11885956705583883,null,-0.16913002528776228,-0.1907245574496667,null,-0.16913002528776228,-0.13950226372118762,null,-0.16913002528776228,-0.15264224355241077,null,-0.16913002528776228,-0.14493869555945005,null,-0.16913002528776228,-0.2284190384990211,null,-0.22672071142886543,-0.2284190384990211,null,-0.22672071142886543,-0.1907245574496667,null,-0.22672071142886543,-0.13950226372118762,null,-0.22672071142886543,-0.21824823418224878,null,-0.22672071142886543,-0.24210514548609455,null,-0.22672071142886543,-0.2961132122948333,null,-0.22584916675040342,-0.2961132122948333,null,-0.22584916675040342,-0.3018558030279828,null,-0.22584916675040342,-0.31475324935006416,null,-0.22584916675040342,-0.1907245574496667,null,-0.22584916675040342,-0.04812986678104381,null,-0.22584916675040342,-0.13950226372118762,null,-0.22584916675040342,-0.2162299083922518,null,0.06894149784835486,-0.04812986678104381,null,0.06894149784835486,0.20558776589505123,null,0.06894149784835486,-0.1907245574496667,null,0.06894149784835486,0.11949722796905488,null,0.06894149784835486,0.14743497593018004,null,0.06894149784835486,0.1538966852123102,null,0.11398641193140348,0.20558776589505123,null,0.11398641193140348,-0.1907245574496667,null,0.11398641193140348,0.11949722796905488,null,0.11398641193140348,0.1968459906243195,null,0.11398641193140348,0.23452183466942045,null,0.11398641193140348,0.12068132309582355,null,0.07339628397057098,0.12068132309582355,null,0.07339628397057098,0.20558776589505123,null,0.07339628397057098,-0.1907245574496667,null,0.07339628397057098,0.11460092284307608,null,0.07339628397057098,0.11949722796905488,null,0.07339628397057098,0.12143443111435766,null,0.07339628397057098,0.007271957142999552,null,0.07339628397057098,0.027919263590714432,null,0.0005794973889099493,0.11460092284307608,null,0.0005794973889099493,0.11949722796905488,null,0.0005794973889099493,-0.1907245574496667,null,0.0005794973889099493,0.007271957142999552,null,0.0005794973889099493,0.12068132309582355,null,0.0005794973889099493,-0.02656416151712261,null,0.028179722705036898,0.12143443111435766,null,0.028179722705036898,0.20558776589505123,null,0.028179722705036898,-0.1907245574496667,null,0.028179722705036898,0.06639344277096669,null,-0.06106640214814755,0.06639344277096669,null,-0.06106640214814755,-0.1907245574496667,null,-0.06106640214814755,-0.07822681144395688,null,-0.06106640214814755,-0.0782720225559031,null,-0.06106640214814755,-0.1765813432195058,null,-0.06106640214814755,-0.08388342817125162,null,-0.17305456763727609,-0.07822681144395688,null,-0.17305456763727609,-0.0782720225559031,null,-0.17305456763727609,-0.1907245574496667,null,-0.17305456763727609,-0.24470315210376792,null,-0.17305456763727609,-0.1765813432195058,null,-0.17305456763727609,-0.14210667231485533,null,-0.23995337727460173,-0.24470315210376792,null,-0.23995337727460173,-0.1907245574496667,null,-0.23995337727460173,-0.29017657601610036,null,-0.23995337727460173,-0.1765813432195058,null,-0.23995337727460173,-0.18715652622084974,null,-0.22338486445643765,-0.29017657601610036,null,-0.22338486445643765,-0.08752056949996656,null,-0.22338486445643765,-0.1907245574496667,null,-0.22338486445643765,-0.30939512212460774,null,-0.22338486445643765,-0.2603150004141208,null,-0.22338486445643765,-0.2529263523191057,null,-0.2589843005314229,-0.29017657601610036,null,-0.2589843005314229,-0.30939512212460774,null,-0.2589843005314229,-0.1907245574496667,null,-0.2589843005314229,-0.1765813432195058,null,-0.2589843005314229,-0.18606725711529545,null,-0.2589843005314229,-0.2603150004141208,null,-0.11730276350132256,0.12143443111435766,null,-0.11730276350132256,0.007271957142999552,null,-0.11730276350132256,0.027919263590714432,null,-0.11730276350132256,-0.02656416151712261,null,-0.11730276350132256,0.06639344277096669,null,-0.11730276350132256,-0.1765813432195058,null,-0.11730276350132256,-0.08388342817125162,null,-0.11730276350132256,-0.14210667231485533,null,-0.11730276350132256,-0.18715652622084974,null,-0.11730276350132256,-0.18606725711529545,null,-0.11730276350132256,-0.1907245574496667,null,-0.11730276350132256,-0.16195866350102153,null,-0.11730276350132256,-0.1373654159047452,null,-0.11730276350132256,-0.3864363795658885,null,-0.11730276350132256,-0.29716193453055634,null,-0.11730276350132256,-0.3355019300213443,null,-0.18334053135005773,-0.2603150004141208,null,-0.18334053135005773,-0.2529263523191057,null,-0.18334053135005773,-0.1765813432195058,null,-0.18334053135005773,-0.16195866350102153,null,-0.18334053135005773,-0.08752056949996656,null,-0.18334053135005773,-0.1907245574496667,null,-0.18334053135005773,-0.204911550330379,null,-0.19079150190679864,-0.1765813432195058,null,-0.19079150190679864,-0.1373654159047452,null,-0.19079150190679864,-0.204911550330379,null,-0.19079150190679864,-0.08752056949996656,null,-0.19079150190679864,-0.1907245574496667,null,-0.19079150190679864,-0.31199214781379053,null,-0.19079150190679864,-0.3002945118479418,null,-0.26673284568027356,-0.3864363795658885,null,-0.26673284568027356,-0.29716193453055634,null,-0.26673284568027356,-0.1765813432195058,null,-0.26673284568027356,-0.31199214781379053,null,-0.26673284568027356,-0.3002945118479418,null,-0.26673284568027356,-0.08752056949996656,null,-0.26673284568027356,-0.1907245574496667,null,-0.26673284568027356,-0.44985705725559166,null,-0.448423720833088,-0.3864363795658885,null,-0.448423720833088,-0.3355019300213443,null,-0.448423720833088,-0.44985705725559166,null,-0.448423720833088,-0.4511313862751999,null,-0.448423720833088,-0.1907245574496667,null,-0.448423720833088,-0.5795787756863582,null,-0.448423720833088,-0.5797101106134682,null,-0.448423720833088,-0.5607269788063001,null,-0.4569270944573567,-0.3864363795658885,null,-0.4569270944573567,-0.5795787756863582,null,-0.4569270944573567,-0.5797101106134682,null,-0.4569270944573567,-0.1907245574496667,null,-0.4569270944573567,-0.5607269788063001,null,-0.4569270944573567,-0.46920787109721673,null,-0.4837092246018835,-0.5607269788063001,null,-0.4837092246018835,-0.4511313862751999,null,-0.4837092246018835,-0.6040279095621883,null,-0.4837092246018835,-0.5896002264380188,null,-0.4837092246018835,-0.5694013736859653,null,-0.4837092246018835,-0.570338729570096,null,-0.4837092246018835,-0.1907245574496667,null,-0.4837092246018835,-0.6273515819735049,null,-0.4837092246018835,-0.3864363795658885,null,-0.4837092246018835,-0.4945312316706316,null,-0.47634470208652085,-0.6273515819735049,null,-0.47634470208652085,-0.4511313862751999,null,-0.47634470208652085,-0.5985738094370101,null,-0.47634470208652085,-0.5619231677298162,null,-0.47634470208652085,-0.5589329402616332,null,-0.47634470208652085,-0.5916412297529423,null,-0.47634470208652085,-0.6020382963864512,null,-0.47634470208652085,-0.1907245574496667,null,-0.47634470208652085,-0.5882532926565409,null,-0.47634470208652085,-0.5740609441542002,null,-0.47634470208652085,-0.28175351024253825,null,-0.47634470208652085,-0.3864363795658885,null,-0.47634470208652085,-0.48216880828090036,null,-0.4734558386634959,-0.5740609441542002,null,-0.4734558386634959,-0.5882532926565409,null,-0.4734558386634959,-0.1907245574496667,null,-0.4734558386634959,-0.629103579416149,null,-0.4734558386634959,-0.3864363795658885,null,-0.4734558386634959,-0.4581555503379588,null,-0.25567438841585366,-0.28175351024253825,null,-0.25567438841585366,-0.23955928990633069,null,-0.25567438841585366,-0.2639623504293571,null,-0.25567438841585366,-0.1907245574496667,null,-0.36071109697263376,-0.3864363795658885,null,-0.36071109697263376,-0.46920787109721673,null,-0.36071109697263376,-0.4945312316706316,null,-0.36071109697263376,-0.48216880828090036,null,-0.36071109697263376,-0.4581555503379588,null,-0.36071109697263376,-0.28175351024253825,null,-0.36071109697263376,-0.2639623504293571,null,-0.36071109697263376,-0.1907245574496667,null],\"type\":\"scatter3d\"},{\"hoverinfo\":\"none\",\"line\":{\"color\":\"lightgray\",\"width\":2},\"mode\":\"lines\",\"x\":[],\"y\":[],\"z\":[],\"type\":\"scatter3d\"},{\"hoverinfo\":\"text\",\"marker\":{\"color\":[\"red\",\"red\",\"red\",\"red\",\"red\",\"red\",\"red\",\"red\",\"red\",\"red\",\"red\",\"red\",\"red\",\"red\",\"red\",\"red\",\"red\",\"red\",\"red\",\"red\",\"red\",\"red\",\"red\",\"red\",\"red\",\"red\",\"red\",\"red\",\"red\",\"red\",\"red\",\"red\",\"red\",\"red\",\"red\",\"red\",\"red\",\"red\",\"red\",\"red\",\"red\",\"red\",\"red\",\"red\",\"red\",\"red\",\"red\",\"red\",\"red\",\"red\",\"red\",\"red\",\"red\",\"red\",\"red\",\"red\",\"red\",\"red\",\"red\",\"red\",\"red\",\"red\",\"red\",\"red\",\"red\",\"red\",\"red\",\"red\",\"red\",\"red\",\"red\",\"red\",\"red\",\"red\",\"red\",\"red\",\"red\",\"red\",\"red\",\"red\",\"red\",\"red\",\"red\",\"red\",\"red\",\"red\",\"red\",\"red\",\"red\",\"red\",\"red\",\"#22ab8f\",\"#0541d0\",\"#505360\",\"#505360\",\"#22ab8f\",\"#7824e4\",\"#505360\",\"#505360\",\"#0541d0\",\"#505360\",\"#505360\",\"#505360\",\"#505360\",\"#7824e4\",\"#505360\",\"#505360\",\"#7824e4\",\"#7824e4\",\"#7824e4\",\"#505360\",\"#7824e4\",\"#505360\",\"#505360\",\"#7824e4\",\"#7824e4\",\"#7824e4\",\"#505360\",\"#7824e4\",\"#505360\",\"#7824e4\",\"#7824e4\",\"#505360\",\"#7824e4\",\"#505360\",\"#505360\",\"#505360\",\"#7824e4\",\"#505360\",\"#505360\",\"#7824e4\",\"#7824e4\",\"#505360\",\"#7824e4\",\"#7824e4\",\"#505360\",\"#7824e4\",\"#7824e4\",\"#7824e4\",\"#7824e4\",\"#7824e4\",\"#7824e4\",\"#7824e4\",\"#7824e4\",\"#505360\",\"#505360\",\"#505360\",\"#505360\",\"#505360\",\"#505360\",\"#7824e4\",\"#7824e4\",\"#505360\",\"#7824e4\",\"#7824e4\",\"#505360\",\"#7824e4\",\"#d91318\",\"#7824e4\",\"#7824e4\",\"#7824e4\",\"#505360\",\"#505360\",\"#505360\",\"#505360\",\"#505360\",\"#652368\",\"#652368\",\"#505360\",\"#505360\",\"#505360\",\"#505360\",\"#505360\",\"#505360\",\"#505360\",\"#505360\",\"#505360\",\"#505360\",\"#7824e4\",\"#7824e4\",\"#505360\",\"#505360\",\"#505360\",\"#7824e4\",\"#7824e4\",\"#505360\",\"#c84f47\",\"#c84f47\",\"#505360\",\"#d91318\",\"#7824e4\",\"#505360\",\"#7824e4\",\"#505360\",\"#c84f47\",\"#c84f47\",\"#c84f47\",\"#c84f47\",\"#505360\",\"#505360\",\"#7824e4\",\"#505360\",\"#7824e4\",\"#7824e4\",\"#505360\",\"#7824e4\",\"#505360\",\"#7824e4\",\"#505360\",\"#7824e4\",\"#d91318\",\"#505360\",\"#505360\",\"#505360\",\"#7824e4\",\"#505360\",\"#7824e4\",\"#505360\",\"#505360\",\"#7824e4\",\"#7824e4\",\"#505360\",\"#22ab8f\",\"#505360\",\"#505360\",\"#652368\",\"#652368\",\"#505360\",\"#505360\",\"#505360\",\"#505360\",\"#505360\",\"#652368\",\"#652368\",\"#505360\",\"#7824e4\",\"#505360\",\"#22ab8f\",\"#505360\",\"#505360\",\"#505360\",\"#505360\",\"#7824e4\",\"#652368\",\"#652368\",\"#505360\",\"#505360\",\"#505360\",\"#505360\",\"#7824e4\",\"#505360\",\"#505360\",\"#505360\",\"#c84f47\",\"#c84f47\",\"#c84f47\",\"#c84f47\",\"#c84f47\",\"#652368\",\"#505360\",\"#505360\",\"#7824e4\",\"#c84f47\",\"#505360\",\"#7824e4\",\"#c84f47\",\"#c84f47\",\"#c84f47\",\"#7824e4\",\"#22ab8f\",\"#0541d0\",\"#505360\",\"#7824e4\",\"#505360\",\"#7824e4\",\"#7824e4\",\"#7824e4\",\"#505360\",\"#7824e4\",\"#7824e4\",\"#505360\",\"#7824e4\",\"#7824e4\",\"#505360\",\"#652368\",\"#652368\",\"#505360\",\"#7824e4\",\"#d91318\",\"#7824e4\",\"#505360\",\"#7824e4\",\"#505360\",\"#505360\",\"#505360\",\"#505360\",\"#7824e4\",\"#7824e4\",\"#505360\",\"#7824e4\",\"#505360\",\"#7824e4\",\"#505360\",\"#7824e4\",\"#505360\",\"#7824e4\",\"#505360\",\"#505360\",\"#7824e4\",\"#7824e4\",\"#7824e4\",\"#7824e4\",\"#505360\",\"#7824e4\",\"#7824e4\",\"#505360\",\"#505360\",\"#7824e4\",\"#505360\",\"#505360\",\"#505360\",\"#505360\",\"#7824e4\",\"#c84f47\",\"#c84f47\",\"#c84f47\",\"#c84f47\",\"#505360\",\"#7824e4\",\"#c84f47\",\"#c84f47\",\"#c84f47\",\"#c84f47\",\"#c84f47\",\"#505360\",\"#505360\",\"#7824e4\",\"#505360\",\"#7824e4\"],\"opacity\":0.8,\"size\":5},\"mode\":\"markers\",\"text\":[\"101 (IfcSpace)\",\"102 (IfcSpace)\",\"103 (IfcSpace)\",\"104 (IfcSpace)\",\"105 (IfcSpace)\",\"106 (IfcSpace)\",\"107 (IfcSpace)\",\"108 (IfcSpace)\",\"109 (IfcSpace)\",\"110 (IfcSpace)\",\"111 (IfcSpace)\",\"112 (IfcSpace)\",\"114 (IfcSpace)\",\"115 (IfcSpace)\",\"116 (IfcSpace)\",\"117 (IfcSpace)\",\"118 (IfcSpace)\",\"119 (IfcSpace)\",\"120 (IfcSpace)\",\"121 (IfcSpace)\",\"122 (IfcSpace)\",\"123 (IfcSpace)\",\"124 (IfcSpace)\",\"125 (IfcSpace)\",\"126 (IfcSpace)\",\"127 (IfcSpace)\",\"128 (IfcSpace)\",\"129 (IfcSpace)\",\"130 (IfcSpace)\",\"131 (IfcSpace)\",\"132 (IfcSpace)\",\"201 (IfcSpace)\",\"202 (IfcSpace)\",\"203 (IfcSpace)\",\"204 (IfcSpace)\",\"205 (IfcSpace)\",\"206 (IfcSpace)\",\"207 (IfcSpace)\",\"208 (IfcSpace)\",\"209 (IfcSpace)\",\"210 (IfcSpace)\",\"211 (IfcSpace)\",\"212 (IfcSpace)\",\"214 (IfcSpace)\",\"216 (IfcSpace)\",\"217 (IfcSpace)\",\"218 (IfcSpace)\",\"219 (IfcSpace)\",\"220 (IfcSpace)\",\"221 (IfcSpace)\",\"222 (IfcSpace)\",\"223 (IfcSpace)\",\"224 (IfcSpace)\",\"225 (IfcSpace)\",\"226 (IfcSpace)\",\"227 (IfcSpace)\",\"228 (IfcSpace)\",\"229 (IfcSpace)\",\"230 (IfcSpace)\",\"231 (IfcSpace)\",\"232 (IfcSpace)\",\"233 (IfcSpace)\",\"234 (IfcSpace)\",\"235 (IfcSpace)\",\"301 (IfcSpace)\",\"302 (IfcSpace)\",\"303 (IfcSpace)\",\"304 (IfcSpace)\",\"305 (IfcSpace)\",\"306 (IfcSpace)\",\"307 (IfcSpace)\",\"308 (IfcSpace)\",\"309 (IfcSpace)\",\"310 (IfcSpace)\",\"312 (IfcSpace)\",\"313 (IfcSpace)\",\"314 (IfcSpace)\",\"315 (IfcSpace)\",\"316 (IfcSpace)\",\"317 (IfcSpace)\",\"318 (IfcSpace)\",\"319 (IfcSpace)\",\"320 (IfcSpace)\",\"321 (IfcSpace)\",\"322 (IfcSpace)\",\"323 (IfcSpace)\",\"324 (IfcSpace)\",\"325 (IfcSpace)\",\"326 (IfcSpace)\",\"327 (IfcSpace)\",\"328 (IfcSpace)\",\"Curtain Wall:Exterior Curtain Wall:196713 (IfcCurtainWall)\",\"Floor:Concrete- 100mm:212675 (IfcSlab)\",\"Basic Wall:Exterior - Insulation on Masonry:144837 (IfcWallStandardCase)\",\"Basic Wall:Exterior - Insulation on Masonry:169770 (IfcWallStandardCase)\",\"Curtain Wall:Storefront:148960 (IfcCurtainWall)\",\"M_Curtain Wall Dbl Glass:M_Curtain Wall Dbl Glass:195035 (IfcDoor)\",\"Basic Wall:Generic - 225mm Concrete:155851 (IfcWallStandardCase)\",\"Basic Wall:Generic - 225mm Concrete:155993 (IfcWallStandardCase)\",\"Floor:Hollow Core Plank - Concrete Topping:139803 (IfcSlab)\",\"Basic Wall:Interior - 138mm Partition (1-hr):149551 (IfcWallStandardCase)\",\"Basic Wall:Interior - 138mm Partition (1-hr):149589 (IfcWallStandardCase)\",\"Basic Wall:Interior - 138mm Partition (1-hr):161883 (IfcWallStandardCase)\",\"Basic Wall:Interior - 138mm Partition (1-hr):144051 (IfcWallStandardCase)\",\"M_Single-Flush:0915 x 2134mm:152378 (IfcDoor)\",\"Basic Wall:Generic - 200mm:151331 (IfcWallStandardCase)\",\"Basic Wall:Interior - 138mm Partition (1-hr):157641 (IfcWallStandardCase)\",\"M_Single-Flush:0915 x 2134mm:157696 (IfcDoor)\",\"M_Single-Flush:0915 x 2134mm 20 Minute Rated:152476 (IfcDoor)\",\"M_Single-Flush:0915 x 2134mm 20 Minute Rated:157697 (IfcDoor)\",\"Basic Wall:Interior - 138mm Partition (1-hr):150342 (IfcWallStandardCase)\",\"M_Double-Flush:1830 x 2134mm:150584 (IfcDoor)\",\"Basic Wall:Generic - 200mm:150861 (IfcWallStandardCase)\",\"Basic Wall:Interior - 138mm Partition (1-hr):162381 (IfcWallStandardCase)\",\"M_Single-Flush:0915 x 2134mm:159438 (IfcDoor)\",\"M_Single-Flush:0915 x 2134mm:159504 (IfcDoor)\",\"M_Single-Flush:0915 x 2134mm:150461 (IfcDoor)\",\"Basic Wall:Interior - 138mm Partition (1-hr):149189 (IfcWallStandardCase)\",\"M_Single-Flush:0915 x 2134mm:150403 (IfcDoor)\",\"Basic Wall:Interior - 138mm Partition (1-hr):159176 (IfcWallStandardCase)\",\"M_Single-Flush:0915 x 2134mm:159600 (IfcDoor)\",\"M_Double-Flush:1730 x 2134mm 20 Minute Rated:150153 (IfcDoor)\",\"Basic Wall:Interior - 138mm Partition (1-hr):187479 (IfcWallStandardCase)\",\"M_Single-Flush:0915 x 2134mm:159736 (IfcDoor)\",\"Basic Wall:Interior - 138mm Partition (1-hr):161915 (IfcWallStandardCase)\",\"Basic Wall:Interior - 138mm Partition (1-hr):154229 (IfcWallStandardCase)\",\"Basic Wall:Interior - 138mm Partition (1-hr):153506 (IfcWallStandardCase)\",\"M_Single-Flush:0915 x 2134mm:154488 (IfcDoor)\",\"Basic Wall:Generic - 200mm:154279 (IfcWallStandardCase)\",\"Basic Wall:Interior - 138mm Partition (1-hr):157706 (IfcWallStandardCase)\",\"M_Single-Flush:0915 x 2134mm:158537 (IfcDoor)\",\"M_Single-Flush:0915 x 2134mm:158597 (IfcDoor)\",\"Basic Wall:Interior - 138mm Partition (1-hr):154023 (IfcWallStandardCase)\",\"M_Single-Flush:0915 x 2134mm:154538 (IfcDoor)\",\"M_Single-Flush:0915 x 2134mm:154585 (IfcDoor)\",\"Basic Wall:Interior - 138mm Partition (1-hr):154119 (IfcWallStandardCase)\",\"M_Single-Flush:0915 x 2134mm:154731 (IfcDoor)\",\"M_Single-Flush:0915 x 2134mm:154776 (IfcDoor)\",\"M_Single-Flush:0915 x 2134mm:158647 (IfcDoor)\",\"M_Single-Flush:0915 x 2134mm:158695 (IfcDoor)\",\"M_Single-Flush:0915 x 2134mm:158741 (IfcDoor)\",\"M_Single-Flush:0915 x 2134mm:158819 (IfcDoor)\",\"M_Single-Flush:0915 x 2134mm:154820 (IfcDoor)\",\"M_Single-Flush:0915 x 2134mm:154862 (IfcDoor)\",\"Basic Wall:Interior - 138mm Partition (1-hr):153904 (IfcWallStandardCase)\",\"Basic Wall:Exterior - Insulation on Masonry:139854 (IfcWallStandardCase)\",\"Basic Wall:Interior - 138mm Partition (1-hr):152271 (IfcWallStandardCase)\",\"Basic Wall:Interior - 138mm Partition (1-hr):152882 (IfcWallStandardCase)\",\"Basic Wall:Interior - 138mm Partition (1-hr):153000 (IfcWallStandardCase)\",\"Basic Wall:Interior - 138mm Partition (1-hr):153435 (IfcWallStandardCase)\",\"M_Single-Flush:0915 x 2134mm:154914 (IfcDoor)\",\"M_Single-Flush:0915 x 2134mm:154946 (IfcDoor)\",\"Basic Wall:Interior - 138mm Partition (1-hr):157694 (IfcWallStandardCase)\",\"M_Single-Flush:0915 x 2134mm:158869 (IfcDoor)\",\"M_Single-Flush:0915 x 2134mm:158933 (IfcDoor)\",\"Basic Wall:Interior - 138mm Partition (1-hr):152347 (IfcWallStandardCase)\",\"M_Single-Flush:0915 x 2134mm:152688 (IfcDoor)\",\"Basic Wall:Interior - 138mm Partition (1-hr):157695 (IfcWall)\",\"M_Single-Flush:0915 x 2134mm:157700 (IfcDoor)\",\"M_Single-Flush:0915 x 2134mm:152622 (IfcDoor)\",\"M_Single-Flush:0915 x 2134mm:157699 (IfcDoor)\",\"Basic Wall:Interior - 138mm Partition (1-hr):152111 (IfcWallStandardCase)\",\"Basic Wall:Interior - 138mm Partition (1-hr):157693 (IfcWallStandardCase)\",\"Basic Wall:Interior - 138mm Partition (1-hr):157701 (IfcWallStandardCase)\",\"Basic Wall:Interior - 138mm Partition (1-hr):157702 (IfcWallStandardCase)\",\"Basic Wall:Interior - 138mm Partition (1-hr):157705 (IfcWallStandardCase)\",\"M_Concrete-Round-Column:300mm:140990 (IfcColumn)\",\"M_Concrete-Round-Column:300mm:140991 (IfcColumn)\",\"Basic Wall:Exterior - Insulation on Masonry:150980 (IfcWallStandardCase)\",\"Basic Wall:Interior - 138mm Partition (1-hr):153242 (IfcWallStandardCase)\",\"Basic Wall:Interior - 138mm Partition (1-hr):157704 (IfcWallStandardCase)\",\"Basic Wall:Interior - 138mm Partition (1-hr):153162 (IfcWallStandardCase)\",\"Basic Wall:Interior - 138mm Partition (1-hr):157703 (IfcWallStandardCase)\",\"Basic Wall:Interior - 138mm Partition (1-hr):152037 (IfcWallStandardCase)\",\"Basic Wall:Interior - 138mm Partition (1-hr):157692 (IfcWallStandardCase)\",\"Basic Wall:Interior - 138mm Partition (1-hr):149395 (IfcWallStandardCase)\",\"Basic Wall:Interior - 138mm Partition (1-hr):149293 (IfcWallStandardCase)\",\"Basic Wall:Interior - 138mm Partition (1-hr):149505 (IfcWallStandardCase)\",\"M_Double-Flush:1730 x 2134mm 20 Minute Rated:150034 (IfcDoor)\",\"M_Double-Flush:1730 x 2134mm:149921 (IfcDoor)\",\"Basic Wall:Exterior - Insulation on Masonry:148769 (IfcWallStandardCase)\",\"Basic Wall:Exterior - Insulation on Masonry:139857 (IfcWallStandardCase)\",\"Basic Wall:Interior - 138mm Partition (1-hr):144180 (IfcWallStandardCase)\",\"M_Double-Flush:1730 x 2134mm 20 Minute Rated:161727 (IfcDoor)\",\"M_Single-Flush-Dbl Acting:0915 x 2134mm:145999 (IfcDoor)\",\"Basic Wall:Interior - 138mm Partition (1-hr):143858 (IfcWallStandardCase)\",\"M_Fixed:0915 x 1220mm:145607 (IfcWindow)\",\"M_Fixed:0915 x 1220mm:145683 (IfcWindow)\",\"Basic Wall:Interior - 138mm Partition (1-hr):144230 (IfcWallStandardCase)\",\"Basic Wall:Interior - 138mm Partition (1-hr):145023 (IfcWall)\",\"M_Single-Flush:0915 x 2134mm:146094 (IfcDoor)\",\"Basic Wall:Interior - 138mm Partition (1-hr):160703 (IfcWallStandardCase)\",\"M_Single-Flush:0915 x 2134mm:161440 (IfcDoor)\",\"Basic Wall:Interior - 138mm Partition (1-hr):160921 (IfcWallStandardCase)\",\"M_Fixed:0915 x 1220mm:145733 (IfcWindow)\",\"M_Fixed:0915 x 1220mm:145801 (IfcWindow)\",\"M_Fixed:0915 x 1220mm:145843 (IfcWindow)\",\"M_Fixed:0915 x 1220mm:145891 (IfcWindow)\",\"Basic Wall:Interior - 138mm Partition (1-hr):145054 (IfcWallStandardCase)\",\"Basic Wall:Interior - 138mm Partition (1-hr):144289 (IfcWallStandardCase)\",\"M_Double-Flush:1830 x 2134mm:146282 (IfcDoor)\",\"Basic Wall:Interior - 138mm Partition (1-hr):160284 (IfcWallStandardCase)\",\"M_Single-Flush:0915 x 2134mm:161540 (IfcDoor)\",\"M_Single-Flush:0915 x 2134mm 20 Minute Rated:146152 (IfcDoor)\",\"Basic Wall:Interior - 138mm Partition (1-hr):145109 (IfcWallStandardCase)\",\"M_Single-Flush:0915 x 2134mm:146641 (IfcDoor)\",\"Basic Wall:Interior - 138mm Partition (1-hr):145174 (IfcWallStandardCase)\",\"M_Single-Flush:0915 x 2134mm:146563 (IfcDoor)\",\"Basic Wall:Interior - 138mm Partition (1-hr):157642 (IfcWallStandardCase)\",\"M_Single-Flush:0915 x 2134mm:146343 (IfcDoor)\",\"Basic Wall:Generic - 200mm:144344 (IfcWall)\",\"Basic Wall:Interior - 138mm Partition (1-hr):145211 (IfcWallStandardCase)\",\"Basic Wall:Interior - 138mm Partition (1-hr):157643 (IfcWallStandardCase)\",\"Basic Wall:Interior - 138mm Partition (1-hr):145263 (IfcWallStandardCase)\",\"M_Single-Flush:0915 x 2134mm:146483 (IfcDoor)\",\"Basic Wall:Interior - 138mm Partition (1-hr):157640 (IfcWallStandardCase)\",\"M_Single-Flush:0915 x 2134mm:157648 (IfcDoor)\",\"Basic Wall:Interior - 138mm Partition (1-hr):157644 (IfcWallStandardCase)\",\"Basic Wall:Exterior - Insulation on Masonry:182328 (IfcWallStandardCase)\",\"M_Single-Flush:0915 x 2134mm:146741 (IfcDoor)\",\"M_Single-Flush:0915 x 2134mm:155278 (IfcDoor)\",\"Basic Wall:Exterior - Insulation on Masonry:154427 (IfcWallStandardCase)\",\"Curtain Wall:Exterior Curtain Wall:169402 (IfcCurtainWall)\",\"Basic Wall:Interior - 138mm Partition (1-hr):158056 (IfcWallStandardCase)\",\"Basic Wall:Interior - 138mm Partition (1-hr):158281 (IfcWallStandardCase)\",\"M_Concrete-Round-Column:300mm:141235 (IfcColumn)\",\"M_Concrete-Round-Column:300mm:141236 (IfcColumn)\",\"Basic Wall:Interior - 138mm Partition (1-hr):158342 (IfcWallStandardCase)\",\"Basic Wall:Interior - 138mm Partition (1-hr):158404 (IfcWallStandardCase)\",\"Basic Wall:Interior - 138mm Partition (1-hr):158434 (IfcWallStandardCase)\",\"Basic Wall:Interior - 138mm Partition (1-hr):158481 (IfcWallStandardCase)\",\"Basic Wall:Interior - 138mm Partition (1-hr):158528 (IfcWallStandardCase)\",\"M_Concrete-Round-Column:300mm:141220 (IfcColumn)\",\"M_Concrete-Round-Column:300mm:141221 (IfcColumn)\",\"Basic Wall:Generic - 225mm Concrete:156175 (IfcWallStandardCase)\",\"M_Single-Flush:0915 x 2134mm 20 Minute Rated:159676 (IfcDoor)\",\"Basic Wall:Interior - 138mm Partition (1-hr):159427 (IfcWallStandardCase)\",\"Curtain Wall:Storefront:162023 (IfcCurtainWall)\",\"Basic Wall:Interior - 138mm Partition (1-hr):159019 (IfcWallStandardCase)\",\"Basic Wall:Interior - 138mm Partition (1-hr):159235 (IfcWallStandardCase)\",\"Basic Wall:Interior - 138mm Partition (1-hr):159205 (IfcWallStandardCase)\",\"Basic Wall:Interior - 138mm Partition (1-hr):159317 (IfcWallStandardCase)\",\"M_Single-Flush:0915 x 2134mm:159804 (IfcDoor)\",\"M_Concrete-Round-Column:300mm:141196 (IfcColumn)\",\"M_Concrete-Round-Column:300mm:141241 (IfcColumn)\",\"Basic Wall:Interior - 138mm Partition (1-hr):159928 (IfcWallStandardCase)\",\"Basic Wall:Interior - 138mm Partition (1-hr):160319 (IfcWallStandardCase)\",\"Basic Wall:Interior - 138mm Partition (1-hr):160411 (IfcWallStandardCase)\",\"Basic Wall:Interior - 138mm Partition (1-hr):160014 (IfcWallStandardCase)\",\"M_Single-Flush:0915 x 2134mm:161618 (IfcDoor)\",\"Basic Wall:Interior - 138mm Partition (1-hr):160879 (IfcWallStandardCase)\",\"Basic Wall:Interior - 138mm Partition (1-hr):160661 (IfcWallStandardCase)\",\"Basic Wall:Interior - 138mm Partition (1-hr):160763 (IfcWallStandardCase)\",\"M_Fixed:0915 x 1220mm:198996 (IfcWindow)\",\"M_Fixed:0915 x 1220mm:199047 (IfcWindow)\",\"M_Fixed:0915 x 1220mm:199097 (IfcWindow)\",\"M_Fixed:0915 x 1220mm:199141 (IfcWindow)\",\"M_Fixed:0915 x 1220mm:199187 (IfcWindow)\",\"M_Concrete-Round-Column:300mm:141218 (IfcColumn)\",\"Basic Wall:Interior - 138mm Partition (1-hr):160150 (IfcWallStandardCase)\",\"Basic Wall:Interior - 138mm Partition (1-hr):161062 (IfcWallStandardCase)\",\"M_Single-Flush:0915 x 2134mm:161334 (IfcDoor)\",\"M_Fixed:0915 x 1220mm:199217 (IfcWindow)\",\"Basic Wall:Interior - 138mm Partition (1-hr):160234 (IfcWallStandardCase)\",\"M_Single-Flush:0915 x 2134mm:161264 (IfcDoor)\",\"M_Fixed:0915 x 1220mm:199255 (IfcWindow)\",\"M_Fixed:0915 x 1220mm:199291 (IfcWindow)\",\"M_Fixed:0915 x 1220mm:199317 (IfcWindow)\",\"M_Single-Flush:0915 x 2134mm:161079 (IfcDoor)\",\"Curtain Wall:Exterior Curtain Wall:169602 (IfcCurtainWall)\",\"Floor:Hollow Core Plank - Concrete Topping:139829 (IfcSlab)\",\"Basic Wall:Interior - 138mm Partition (1-hr):157844 (IfcWallStandardCase)\",\"M_Single-Flush:0915 x 2134mm:163995 (IfcDoor)\",\"Basic Wall:Interior - 138mm Partition (1-hr):158088 (IfcWallStandardCase)\",\"M_Single-Flush:0915 x 2134mm:163933 (IfcDoor)\",\"M_Single-Flush:0915 x 2134mm:163825 (IfcDoor)\",\"M_Single-Flush:0915 x 2134mm:163867 (IfcDoor)\",\"Basic Wall:Interior - 138mm Partition (1-hr):163468 (IfcWallStandardCase)\",\"M_Single-Flush:0915 x 2134mm:163751 (IfcDoor)\",\"M_Single-Flush:0915 x 2134mm:163791 (IfcDoor)\",\"Basic Wall:Interior - 138mm Partition (1-hr):163493 (IfcWallStandardCase)\",\"M_Single-Flush:0915 x 2134mm:163637 (IfcDoor)\",\"M_Single-Flush:0915 x 2134mm:163705 (IfcDoor)\",\"Basic Wall:Interior - 138mm Partition (1-hr):163525 (IfcWallStandardCase)\",\"M_Concrete-Round-Column:300mm:141290 (IfcColumn)\",\"M_Concrete-Round-Column:300mm:141291 (IfcColumn)\",\"Basic Wall:Interior - 138mm Partition (1-hr):157832 (IfcWallStandardCase)\",\"M_Single-Flush:0915 x 2134mm:163587 (IfcDoor)\",\"Basic Wall:Interior - 138mm Partition (1-hr):157833 (IfcWall)\",\"M_Single-Flush:0915 x 2134mm:157838 (IfcDoor)\",\"Basic Wall:Interior - 138mm Partition (1-hr):157842 (IfcWallStandardCase)\",\"M_Single-Flush:0915 x 2134mm:157837 (IfcDoor)\",\"Basic Wall:Interior - 138mm Partition (1-hr):157841 (IfcWallStandardCase)\",\"Basic Wall:Interior - 138mm Partition (1-hr):157831 (IfcWallStandardCase)\",\"Basic Wall:Interior - 138mm Partition (1-hr):157830 (IfcWallStandardCase)\",\"Basic Wall:Interior - 138mm Partition (1-hr):157779 (IfcWallStandardCase)\",\"M_Single-Flush:0915 x 2134mm:157834 (IfcDoor)\",\"M_Single-Flush:0915 x 2134mm 20 Minute Rated:157835 (IfcDoor)\",\"Basic Wall:Interior - 138mm Partition (1-hr):164144 (IfcWallStandardCase)\",\"M_Single-Flush:0915 x 2134mm:164962 (IfcDoor)\",\"Basic Wall:Interior - 138mm Partition (1-hr):157807 (IfcWallStandardCase)\",\"M_Single-Flush:0915 x 2134mm:164921 (IfcDoor)\",\"Basic Wall:Interior - 138mm Partition (1-hr):164263 (IfcWallStandardCase)\",\"M_Single-Flush Vision:0915 x 2134mm:164869 (IfcDoor)\",\"Basic Wall:Interior - 138mm Partition (1-hr):164302 (IfcWallStandardCase)\",\"M_Single-Flush Vision:0915 x 2134mm:164768 (IfcDoor)\",\"Basic Wall:Interior - 138mm Partition (1-hr):165015 (IfcWallStandardCase)\",\"Basic Wall:Interior - 138mm Partition (1-hr):164345 (IfcWallStandardCase)\",\"M_Single-Flush:0915 x 2134mm:165090 (IfcDoor)\",\"M_Single-Flush:0915 x 2134mm 20 Minute Rated:164674 (IfcDoor)\",\"M_Single-Flush Vision:0915 x 2134mm:164626 (IfcDoor)\",\"M_Single-Flush Vision:0915 x 2134mm:164566 (IfcDoor)\",\"Basic Wall:Interior - 138mm Partition (1-hr):157778 (IfcWallStandardCase)\",\"M_Double-Glass 1:1830 x 2134mm:165368 (IfcDoor)\",\"M_Single-Glass 1:0915 x 2134mm:165525 (IfcDoor)\",\"Basic Wall:Interior - 138mm Partition (1-hr):164381 (IfcWallStandardCase)\",\"Basic Wall:Interior - 138mm Partition (1-hr):164417 (IfcWallStandardCase)\",\"M_Single-Flush:0915 x 2134mm:164426 (IfcDoor)\",\"Basic Wall:Interior - 138mm Partition (1-hr):165196 (IfcWallStandardCase)\",\"Basic Wall:Interior - 138mm Partition (1-hr):165237 (IfcWallStandardCase)\",\"Basic Wall:Interior - 138mm Partition (1-hr):165238 (IfcWallStandardCase)\",\"Basic Wall:Interior - 138mm Partition (1-hr):165239 (IfcWallStandardCase)\",\"M_Double-Flush:1730 x 2134mm 20 Minute Rated:165462 (IfcDoor)\",\"M_Fixed:0915 x 1220mm:199360 (IfcWindow)\",\"M_Fixed:0915 x 1220mm:199402 (IfcWindow)\",\"M_Fixed:0915 x 1220mm:199436 (IfcWindow)\",\"M_Fixed:0915 x 1220mm:199468 (IfcWindow)\",\"Basic Wall:Interior - 138mm Partition (1-hr):165358 (IfcWallStandardCase)\",\"M_Single-Flush:0915 x 2134mm:165571 (IfcDoor)\",\"M_Fixed:0915 x 1220mm:199510 (IfcWindow)\",\"M_Fixed:0915 x 1220mm:199558 (IfcWindow)\",\"M_Fixed:0915 x 1220mm:199584 (IfcWindow)\",\"M_Fixed:0915 x 1220mm:199614 (IfcWindow)\",\"M_Fixed:0915 x 1220mm:199640 (IfcWindow)\",\"Basic Wall:Interior - 138mm Partition (1-hr):157781 (IfcWallStandardCase)\",\"Basic Wall:Interior - 138mm Partition (1-hr):157780 (IfcWallStandardCase)\",\"M_Single-Flush:0915 x 2134mm:165645 (IfcDoor)\",\"Basic Wall:Interior - 138mm Partition (1-hr):157782 (IfcWallStandardCase)\",\"M_Single-Flush:0915 x 2134mm:157786 (IfcDoor)\"],\"x\":[-0.252696253692492,-0.2937217594199676,0.08322819401565806,0.03644098186986586,-0.016325922657401497,0.008683175667681994,0.06421245838691696,-0.027893110824216527,0.0761927163121575,0.10688766311995553,-0.024788604726295828,-0.07355328418399111,0.018781396920057338,-0.2955343564898704,-0.4021666191424576,-0.3897552357031138,-0.35395744387891626,-0.2488861872309047,-0.3023016755600013,-0.24035541536617694,-0.25961659014503896,-0.15149408218671714,-0.29700807919501926,-0.19840041590414698,-0.090655297627038,-0.022426066880715464,-0.07530188647198609,-0.23396986008052195,-0.013697655832604513,-0.10544991086600419,0.20411075787383134,0.12408686995936018,0.0066758100223640714,-0.1258004182794968,-0.2127692499736318,-0.19837490271779418,-0.20454907709773343,-0.22061240217662556,-0.22430542797413877,-0.2146919255997077,0.02514710540745687,0.0521888806130899,-0.028332714737084437,-0.10019731044111237,-0.270435096733959,-0.013088505568718456,-0.24619335146975607,-0.33646869336632496,-0.4271266510910736,-0.28669627955046695,-0.28317621005990085,-0.33378805994332694,-0.28134836177306305,-0.41319022100411373,-0.44132713472062884,-0.4262084344378993,-0.235610608327356,-0.25728683987645684,-0.18443607952200292,-0.10754542001164714,-0.30203145628281286,0.009245802723947195,-0.3165851443791122,0.024292980496139177,0.3376201163210891,0.592148254332471,0.7578063271575693,0.7663052220361436,0.7629986487679815,0.7948412788160474,0.4853563181832835,0.4084789857666457,0.3051056196213036,0.4461870432227187,0.18189537781882606,0.24764952761925482,0.42985772296696395,0.4200983551036515,0.19599113283615952,0.339678955048626,0.23788912563289866,0.16859416075770534,0.16064785522105274,0.19122052599824063,0.23864836586683005,0.37676612337277876,0.1857289283092156,0.21167352061547523,0.4575742449289846,0.20178885188775764,0.24355716295890692,-0.3165008756849425,-0.11955903852010503,-0.31623213351281876,-0.2905589144455153,-0.23157816648038096,-0.48772112303640824,-0.34802478427023903,-0.37033242619632606,-0.19590418890106762,-0.45118105444956175,-0.4499125847669834,-0.31781892311816645,-0.12576553062343493,-0.179300872673084,0.0168243537751598,-0.14942459893872645,-0.16021921292471292,-0.21742723298615457,-0.20169322854430857,-0.4438785196710063,-0.44522286357019497,-0.0394844437302948,-0.36138099331214574,-0.32377309970684853,-0.37138413894357064,-0.48956459223493914,-0.3745176681403894,-0.4896687833382923,-0.4370481655642643,-0.40325098864246395,-0.41900384264386875,-0.41323603694247957,-0.35842484076696046,-0.364607249135075,0.15105666255628383,0.07537462887322406,0.17111250528142827,0.24094836716978058,-0.07732457540658537,0.055990379439703745,0.0018110720250255267,0.04271868358642578,0.1403890169804388,0.11176900104492794,0.011401515201596659,0.041325478042031114,0.06985727674546789,-0.06183955972837794,-0.0553630377241002,-0.05830129634019835,-0.07736745808418508,0.13331226337411559,0.10871181400492377,-0.017654748270626842,0.2191680759156693,0.06326950990834765,0.1640808062511854,0.15912400306307434,0.2126525725232783,0.07799148588470152,0.04674747181007081,-0.02246146051073296,-0.08023801989931972,-0.0690439573929401,0.06370423889039584,0.11804156277055089,0.028188163273554105,0.07634797757986397,0.15514671869566082,0.10605983962206421,0.02608215977374414,0.0054466227027594105,0.078869055474084,0.15791843635674624,0.12054706683352885,-0.04734517349981599,-0.033830329999355285,0.16978988333857564,0.17393637676219673,0.12331232467490502,0.26101932019359897,0.2004186759658009,-0.03917260390617428,-0.045418885721114695,-0.5146478719183804,-0.5619279212809287,-0.41930164614254717,-0.3878476042808264,-0.3318461467742298,-0.07966249592768988,-0.04683413978718365,-0.35232050034584006,-0.4095402492056586,-0.37132092452398685,-0.18043990396298137,-0.20345015757842128,-0.19669218982369138,-0.26602348522757646,-0.29017620225896373,-0.3710475052732388,-0.42201790189028887,-0.4098194042223058,-0.4680070702976923,-0.0622451106057972,-0.10696865088873365,-0.11454089291477412,-0.07149548374994238,-0.20601040968443146,-0.05337087465255424,-0.12485892727437332,-0.3181488559330481,-0.27067232932636803,-0.1601193306298695,0.002326765935351123,0.01983593057979517,-0.10934596990989609,-0.045309881001980704,-0.2691898894938105,-0.09912743210599996,0.021568315887034322,-0.1468722621022113,-0.2196950038653045,-0.3077493976518395,-0.17333271470751607,-0.36131330507759635,-0.3701660071837865,-0.35243316459549584,0.01698455985455612,0.10390432979860521,0.34902842063872797,0.38132871466655993,0.33766102599536635,-0.023210062012207308,-0.19614713829101846,-0.2814443198936445,-0.302502322820326,-0.2699215296325591,-0.28671165295249207,-0.30562730252677245,-0.3226470757864052,-0.3115850143201516,-0.31018646078256357,-0.3485826708962938,-0.42796659017134325,-0.4635690779691405,-0.35665154730475795,-0.37663889835060615,-0.39717218435814516,-0.550223861943006,-0.46311610164752876,-0.3900798641846603,-0.41699103754988764,-0.5145208159702055,-0.49084894377583776,-0.38755176721370105,-0.4064490371797907,-0.4448380351722179,-0.3605877815108017,-0.5088792598322058,-0.6778507335372181,-0.5275973270182022,-0.512927735477126,-0.19419201571455635,-0.1800455523626186,-0.2027744164734425,-0.17020194517238058,-0.1856215471016765,-0.38656896839466454,-0.32182392200969373,-0.40894145595666437,-0.40168758977637786,-0.13331804187736812,-0.1520709688810966,-0.3023081400020276,-0.009064644642546924,-0.05355644733683125,-0.040918698500546774,-0.24599518674059162,0.18868769234530416,0.39264408633563297,0.8476541328046844,0.8145463845255957,0.7776497573822431,0.7728654646827213,0.9498828067957383,0.9465286588671532,0.890340616022725,0.9551930883369856,0.9425575823814565,0.8857536344608843,0.9381132817489833,0.9330147912662236,0.9008243448663431,0.9935694221313939,1.0,0.7006069318449971,0.9733127543109936,0.4886210803008048,0.6046666102020072,0.6696517278627137,0.5420856607617637,0.526880073484041,0.4337076706653847,0.42460402043196016,0.3530724155019121,0.3067062167150928,0.3755341574286127,0.3785803601804319,0.4027734624762913,0.28459697583497806,0.2727140929180781,0.51097390158184,0.3494231623233391,0.34007825777864736,0.3521398981240722,0.2817282591630841,0.2290672053722911,0.17098607832980156,0.30314480658340237,0.2257683628729685,0.2159882180893741,0.29021526389588637,0.284546478906286,0.2818104997341645,0.1278736267269784,0.14416820102810224,0.17541540341001066,0.23297558918712397,0.3381555087128682,0.3693601482932285,0.2948145203061778,0.357764278163943,0.07308209713729541,0.05496295788125926,0.08692403226667314,0.05098158573462091,0.26028746609944997,0.2878322743323448,0.12236202959199156,0.11266574038322291,0.13936358744703267,0.1297568843444161,0.09490224639278136,0.38553666822235944,0.40526142641285007,0.31818748663224905,0.6019732634987939,0.3912954740694195],\"y\":[0.06831273766575827,0.05942666221704571,-0.3231040457167347,-0.412583319331541,-0.4122653061604301,-0.3956787289937557,-0.268729960637099,-0.33123342336432027,-0.06125105073473976,-0.043820136356690464,0.03247261839756411,-0.018679241637976657,0.08346196855753019,0.07077173659419517,-0.05700350526703259,-0.0054177206035935285,0.08254025300433632,0.1873989314803955,-0.1051677369861396,-0.138224567802746,-0.18069424820764401,-0.21585059749307486,-0.2690698181191182,-0.3272708597364555,-0.4067371977430232,-0.2494617441858991,-0.35698702835823154,-0.44141693706192364,-0.12380819999982927,-0.26956689971389164,-0.2806364349843153,-0.15201251124890477,-0.28147044086147605,-0.3824626797236349,-0.4606094285790759,-0.3858422193813191,-0.35306212785292174,-0.3251598278717705,-0.29459583238513537,-0.26839207654246044,-0.04832999486319207,-0.037137751882693006,0.04121586428754785,-0.0303438168904986,0.11758276306101184,0.09980583419994335,0.14792342081723178,0.16680593506378788,0.0930357606750066,0.18335485278584698,0.16782292392533515,0.18322243924785395,-0.04346819278318063,-0.14273798729166856,-0.14962613694624075,-0.20445776581958058,-0.05542426226517757,-0.1087657222851832,-0.18867491719063378,-0.18069713731421364,-0.3678595934183686,-0.10162313608046596,-0.17306444895555473,-0.2435900398507989,0.02789177058174185,0.14883918176701527,0.30646052765674126,0.39087544825792203,0.3841063898525385,0.3907574019144891,0.3476558399117792,0.38863505803310383,0.3800585691411428,0.49656777167038546,0.26995031194345953,0.4805621325058513,0.5974463177254818,0.5954677669190508,0.5528266406175105,0.6032687832440898,0.46076837896352013,0.5433625300770211,0.5166393100206508,0.4572876477935486,0.2873678361870985,0.37348343098559994,0.18415771669170994,0.11481956097330712,0.32519094291423434,0.07147207237796954,0.15329040813732947,0.25647757479694516,-0.17405262889842132,0.20325781870243645,-0.015841500507689572,-0.11881462922543878,0.16667600855785938,0.023952323176357475,0.012738164172345273,-0.12347538788796517,0.11511328688626149,0.06959503462540752,-0.048566278894910116,-0.04256403191947222,0.06994761784649452,0.21089319755664834,0.06472916455345057,0.11257634549905426,0.033158619528507426,0.0655451568937087,0.03341072432969005,0.10684404725488655,0.2392560887574125,0.1169102884914761,0.17471514920749712,0.16546180900415414,-0.006437070991876386,0.13973343815851758,0.04175264456534318,0.10446908914945444,0.12093073440259604,0.10256026578310612,0.14806812295496757,0.20303608342826465,-0.10464276024718189,-0.5009207688967651,-0.400465501023681,-0.384329750163818,-0.1391251515936017,-0.34712216868484136,-0.34092473604778833,-0.36287283018224575,-0.5724102082691529,-0.4447615960708613,-0.4622340100202637,-0.5577506122508701,-0.4462787456742598,-0.43760173093496824,-0.4043126861101037,-0.3782302577299946,-0.36109366978836555,-0.3395054246677973,-0.4128033889763223,-0.4314460812098078,-0.4844019383145751,-0.19108389122506506,-0.1975691642562972,-0.3491190921641673,-0.29674987547568527,-0.3396565179285819,-0.372935513644862,-0.38030255538521,-0.1904656230809716,-0.3111646014602402,-0.299244265683661,-0.07457284912370388,-0.1265229842824183,-0.08414507513076,-0.14431863607490744,-0.1253254367334451,-0.14402485957465164,-0.0650855632345186,-0.08283854976657264,-0.27139631759013244,-0.28592534384212,-0.2888508209632631,-0.4139039231722675,-0.45738093577720507,0.1466122806543426,0.014364761098953861,0.025458280194222555,0.009879541235724433,0.010061980965961751,0.09333978435606373,0.07116286641100221,0.01934214861206993,-0.06803000164663728,0.2093258526117006,0.24945663061851608,0.34084117324950197,0.3458901734799121,-0.045057469527083546,-0.22962025673132988,-0.16925045856490203,-0.17905512141420132,-0.3494725983939492,-0.10244138786356467,-0.13919047419405742,-0.2804141807316009,-0.28912775868693164,-0.32533188902698856,-0.21946649091787748,-0.23900820159528996,-0.19133181545636682,-0.2164606279325722,-0.2060349543874208,-0.16784270626836406,-0.18143497714993784,-0.3988195558985756,-0.36833104765087094,-0.3650780874076365,-0.14938477167070868,-0.1604977866631172,-0.427289633318164,-0.4279814479692936,-0.44908668853251665,-0.525278507266907,-0.5404281145335448,-0.3970981707170666,-0.44862661840507834,-0.09393423873723,-0.5581321940999865,-0.312301125574439,-0.6670924952173463,-0.4673134359147566,-0.39649148593873,-0.3957569717594388,-0.5518979703616873,-0.06579474841140363,-0.15446952380615117,-0.3030520405252699,-0.42885744679758453,-0.11017348078879105,-0.47739793502456573,-0.5749016868117022,-0.6777566096239537,-0.6535722390494908,-0.5655812722117448,-0.500934845082236,-0.4521706559817612,-0.40008716709249353,-0.34912381810743204,-0.3369763579112201,-0.33626991815912305,0.30990857196092303,0.1871953812203224,0.07985386532635687,-0.005812165577938957,0.2866999604594031,0.18280075075420654,0.21453753983819218,0.3028566734979042,0.220765273873051,0.33301231621452115,0.33466019551363435,0.03408002189154647,-0.06670348805615389,-0.09555883955974329,0.01451097388938063,-0.2044130545845644,-0.16801601520942022,-0.23475596450014458,-0.270920511175934,-0.006450909511429738,0.019159317114474765,-0.04889619823574359,-0.062226738590315835,-0.09418345424814008,-0.12172595549560761,-0.20303059795118075,-0.14730739199627552,-0.18026793086884693,-0.16131292364750446,-0.2885979436059596,-0.2914156120316533,-0.16837424122518413,-0.14569941480803134,-0.1842106077376507,-0.27570503245043415,-0.06646577762849704,0.34537057372956675,0.31051387657007784,0.1906751450014839,0.212567631792597,0.1932927929671806,0.29058014940814064,0.3223784745653776,0.40044258189254917,0.38677753720770586,0.4229959127271377,0.4696292382560312,0.39666776777551105,0.35705445714673195,0.4439108912263765,0.4630365014039764,0.4087892245540139,0.40562681776829224,0.34545367822087475,0.4569607985630378,0.46816503712252017,0.4310350565212626,0.510296417316149,0.5495640460088367,0.49104287545625336,0.5432345877247137,0.5199902693779456,0.5276959558329463,0.5823337548247374,0.6625013865393955,0.6347152152394108,0.577103676333684,0.6058006195010691,0.7227489821412192,0.6335046986555173,0.6871318632857099,0.6283513532801887,0.7218381446266022,0.6809203042478824,0.704839194219405,0.6516460607628983,0.6405876046444299,0.6225481026938754,0.31599261352300606,0.46261038739506033,0.4144849516112059,0.6874935845795493,0.613562929940228,0.6149678422535939,0.4668861462856363,0.4112861028390984,0.3903482679988309,0.31943626108160483,0.2864702164657483,0.08663944001740426,0.11962788412804318,0.08980312784022368,0.10022406326166297,0.17454697226965138,0.24236183561108177,0.039104995878828236,0.030720885275945464,-0.0026914817451732303,-0.004244632836199523,0.023122589154891227,0.22920977295568065,0.20505723055598393,0.20059430283948984,0.40138836928278926,0.2569234526750079],\"z\":[0.24791440442420076,0.21355264466260535,0.3223961736712837,0.36006314587644844,0.4067375341036129,0.42634866687513856,0.4658100795983469,0.5211003785949408,0.40854342496201146,0.36716287718713364,0.3188928561316,0.37044964128838115,0.1382330594241667,0.16607415776691375,0.21009365937794652,0.21368854378621616,0.27558482774625753,0.17308455766170483,0.25344555110743594,-0.14315198344946123,-0.2743657420269262,-0.2776620033951626,-0.1518237037691918,-0.1367248395522977,-0.13622901117483438,-0.21142974530363898,-0.15082777205196712,-0.13097635827407514,-0.2027988124549526,-0.15886679142322813,0.2097713370534253,0.1383137584594081,0.225501033169774,0.23630134740895425,0.31408984387496386,0.2822381569945245,0.299661029482285,0.3190643838887153,0.35243590225485305,0.4378984548080046,0.3038980601141956,0.2663305624761243,0.2398426865503463,0.284349781233551,0.14309632747838538,0.1075401766117953,0.0811483944738237,0.06299332837444274,0.11497783843888636,0.01989381873853527,-0.029290593172574292,-0.12196298988074611,-0.24689925179108513,-0.18889587302667685,-0.19723156357039667,-0.0919939691819923,-0.3359385004388797,-0.4082613603947704,-0.32809515695196056,-0.3504256133149971,-0.11926715416408473,-0.14775238182640232,-0.22507887926998815,0.38175177586439246,0.0732645465591756,-0.010156882537197386,-0.11749506949229092,-0.16913002528776228,-0.22672071142886543,-0.22584916675040342,0.06894149784835486,0.11398641193140348,0.07339628397057098,0.0005794973889099493,0.028179722705036898,-0.06106640214814755,-0.17305456763727609,-0.23995337727460173,-0.22338486445643765,-0.2589843005314229,-0.11730276350132256,-0.18334053135005773,-0.19079150190679864,-0.26673284568027356,-0.448423720833088,-0.4569270944573567,-0.4837092246018835,-0.47634470208652085,-0.4734558386634959,-0.25567438841585366,-0.36071109697263376,0.41170991367845594,0.12962902054808137,0.2852862422631666,0.07272814348459401,-0.001776165785876518,0.3608312273315808,0.2866827314698765,0.261666349293297,0.046723478439934844,0.3589794765394489,0.36807494046685824,-0.07006506755362872,0.39822640174023466,0.38810570350418044,0.12143443111435766,0.2831044037381123,0.2648925416033834,0.41217348327378583,0.30288215508369964,0.2521013116931456,0.26352559331302766,0.06639344277096669,0.13754470624748572,0.17538156803216684,0.1714425931265763,0.2881895775763782,0.2718593470895556,0.29853334408691334,0.19372920406508906,0.1721033182195973,0.38678786972685075,0.37382816396313956,0.13822327787341948,-0.03869581883676084,0.36523271788953754,0.4972360197616839,0.4676168472955775,0.2158921861434287,0.37727734076684616,0.37336666886503306,0.36236990289335325,0.43656653915366245,0.4862716048602116,0.49631845184681517,0.5044207651191218,0.5514079501008347,0.5533863984952627,0.43373256973560714,0.408162613228216,0.4367926591062531,0.4406342520149721,0.5456366548673062,0.5591014826992032,0.6011560076952294,0.26816719783865656,0.5678024375405091,0.6865582772257731,0.697619679847315,0.6565560323815058,0.615922209522808,0.6201465401875724,0.455406359447109,0.4719968183073407,0.5058559137544654,0.46994547093036726,0.5613260294640571,0.3677664504552191,0.4386777596613303,0.522341713634864,0.4019768022568635,0.4586303488041942,0.36305930548217313,0.5816915481379984,0.5343509319677714,0.559968256515462,0.7548055451238672,0.7370259876620342,0.20558776589505123,0.6177659646872077,0.4721442169428595,0.5442209704491924,0.4016412739784234,0.489971119677522,0.37891707433287725,0.20918075775663075,0.27125532597111424,0.24243525125635537,0.30293155640641783,0.2942855809786985,-0.08752056949996656,-0.4511313862751999,-0.24182438031039058,-0.13436229730425772,-0.2857129436357701,-0.1973179353525699,-0.4739206357499666,-0.48425293932021246,-0.24591778094457617,-0.26139117146018087,-0.3011578930387322,-0.22040634203616874,-0.26210648504132056,-0.3373645062201453,-0.46867421233929807,-0.4879857755969928,-0.4780899668339029,-0.4636286799171384,-0.3100062374492585,-0.27980843801907784,-0.2907227807766849,-0.34260223523531413,-0.4251464745353465,-0.2165413114933085,-0.21687005105150398,-0.25326301499427256,-0.16670142723382844,-0.18869009920517066,-0.19622308148843753,-0.22273073656708148,-0.28175351024253825,-0.18226984445953212,-0.2664859084814702,-0.1870366892474832,-0.20202983544039563,-0.21569928383804,-0.18959440993604443,-0.15253233841309016,-0.2639623504293571,-0.3216285184924235,0.27633884564888017,0.2408231751641978,0.12420764647185602,0.2354074660520998,0.2961678506320794,0.4014185778131704,0.4370980279804165,0.36206143966627485,0.3549146708944397,0.39778451105623763,0.44087363055813383,0.5195886442039787,0.6566135255150605,0.6350084285347012,0.2188142988054738,0.15270714932715848,-0.08950935130618258,-0.058138422323830256,0.07209767580784522,0.1032482744278373,0.053432493664176225,-0.03333950473428748,-0.11650289549526024,-0.17754515019450362,-0.21524896045993516,-0.24025996560651558,-0.304471976358777,-0.28833952614787794,-0.40911754322479577,-0.272459709538133,-0.28088200432685567,-0.20400599106501613,-0.20510735406000308,-0.5289257452302787,-0.5148651677521149,-0.5813360618434422,-0.588339280829903,-0.5903657334613808,-0.6216227615281048,-0.41070339770919667,-0.42885964465677023,-0.43437305848183927,-0.5413830603725427,-0.48129699716039764,-0.36610807402643075,-0.5312841234753545,-0.5564445797379484,-0.5496043607107073,-0.3746543104618644,-0.23955928990633069,-0.1907245574496667,-0.13950226372118762,-0.05651816653705894,-0.018063313798989736,-0.04689495853850796,-0.12215175411251401,-0.0904416637707479,-0.11885956705583883,-0.15264224355241077,-0.14493869555945005,-0.2284190384990211,-0.21824823418224878,-0.24210514548609455,-0.2961132122948333,-0.3018558030279828,-0.31475324935006416,-0.04812986678104381,-0.2162299083922518,0.11949722796905488,0.14743497593018004,0.1538966852123102,0.1968459906243195,0.23452183466942045,0.12068132309582355,0.11460092284307608,0.007271957142999552,0.027919263590714432,-0.02656416151712261,-0.07822681144395688,-0.0782720225559031,-0.1765813432195058,-0.08388342817125162,-0.24470315210376792,-0.14210667231485533,-0.29017657601610036,-0.18715652622084974,-0.30939512212460774,-0.2603150004141208,-0.2529263523191057,-0.18606725711529545,-0.16195866350102153,-0.1373654159047452,-0.3864363795658885,-0.29716193453055634,-0.3355019300213443,-0.204911550330379,-0.31199214781379053,-0.3002945118479418,-0.44985705725559166,-0.5795787756863582,-0.5797101106134682,-0.5607269788063001,-0.46920787109721673,-0.6040279095621883,-0.5896002264380188,-0.5694013736859653,-0.570338729570096,-0.6273515819735049,-0.4945312316706316,-0.5985738094370101,-0.5619231677298162,-0.5589329402616332,-0.5916412297529423,-0.6020382963864512,-0.5882532926565409,-0.5740609441542002,-0.48216880828090036,-0.629103579416149,-0.4581555503379588],\"type\":\"scatter3d\"}],                        {\"height\":800,\"scene\":{\"xaxis\":{\"title\":{\"text\":\"X\"}},\"yaxis\":{\"title\":{\"text\":\"Y\"}},\"zaxis\":{\"title\":{\"text\":\"Z\"}}},\"showlegend\":false,\"title\":{\"text\":\"3D IFC Wall-Door\\u002fWindow Visualization\"},\"width\":1200,\"template\":{\"data\":{\"histogram2dcontour\":[{\"type\":\"histogram2dcontour\",\"colorbar\":{\"outlinewidth\":0,\"ticks\":\"\"},\"colorscale\":[[0.0,\"#0d0887\"],[0.1111111111111111,\"#46039f\"],[0.2222222222222222,\"#7201a8\"],[0.3333333333333333,\"#9c179e\"],[0.4444444444444444,\"#bd3786\"],[0.5555555555555556,\"#d8576b\"],[0.6666666666666666,\"#ed7953\"],[0.7777777777777778,\"#fb9f3a\"],[0.8888888888888888,\"#fdca26\"],[1.0,\"#f0f921\"]]}],\"choropleth\":[{\"type\":\"choropleth\",\"colorbar\":{\"outlinewidth\":0,\"ticks\":\"\"}}],\"histogram2d\":[{\"type\":\"histogram2d\",\"colorbar\":{\"outlinewidth\":0,\"ticks\":\"\"},\"colorscale\":[[0.0,\"#0d0887\"],[0.1111111111111111,\"#46039f\"],[0.2222222222222222,\"#7201a8\"],[0.3333333333333333,\"#9c179e\"],[0.4444444444444444,\"#bd3786\"],[0.5555555555555556,\"#d8576b\"],[0.6666666666666666,\"#ed7953\"],[0.7777777777777778,\"#fb9f3a\"],[0.8888888888888888,\"#fdca26\"],[1.0,\"#f0f921\"]]}],\"heatmap\":[{\"type\":\"heatmap\",\"colorbar\":{\"outlinewidth\":0,\"ticks\":\"\"},\"colorscale\":[[0.0,\"#0d0887\"],[0.1111111111111111,\"#46039f\"],[0.2222222222222222,\"#7201a8\"],[0.3333333333333333,\"#9c179e\"],[0.4444444444444444,\"#bd3786\"],[0.5555555555555556,\"#d8576b\"],[0.6666666666666666,\"#ed7953\"],[0.7777777777777778,\"#fb9f3a\"],[0.8888888888888888,\"#fdca26\"],[1.0,\"#f0f921\"]]}],\"heatmapgl\":[{\"type\":\"heatmapgl\",\"colorbar\":{\"outlinewidth\":0,\"ticks\":\"\"},\"colorscale\":[[0.0,\"#0d0887\"],[0.1111111111111111,\"#46039f\"],[0.2222222222222222,\"#7201a8\"],[0.3333333333333333,\"#9c179e\"],[0.4444444444444444,\"#bd3786\"],[0.5555555555555556,\"#d8576b\"],[0.6666666666666666,\"#ed7953\"],[0.7777777777777778,\"#fb9f3a\"],[0.8888888888888888,\"#fdca26\"],[1.0,\"#f0f921\"]]}],\"contourcarpet\":[{\"type\":\"contourcarpet\",\"colorbar\":{\"outlinewidth\":0,\"ticks\":\"\"}}],\"contour\":[{\"type\":\"contour\",\"colorbar\":{\"outlinewidth\":0,\"ticks\":\"\"},\"colorscale\":[[0.0,\"#0d0887\"],[0.1111111111111111,\"#46039f\"],[0.2222222222222222,\"#7201a8\"],[0.3333333333333333,\"#9c179e\"],[0.4444444444444444,\"#bd3786\"],[0.5555555555555556,\"#d8576b\"],[0.6666666666666666,\"#ed7953\"],[0.7777777777777778,\"#fb9f3a\"],[0.8888888888888888,\"#fdca26\"],[1.0,\"#f0f921\"]]}],\"surface\":[{\"type\":\"surface\",\"colorbar\":{\"outlinewidth\":0,\"ticks\":\"\"},\"colorscale\":[[0.0,\"#0d0887\"],[0.1111111111111111,\"#46039f\"],[0.2222222222222222,\"#7201a8\"],[0.3333333333333333,\"#9c179e\"],[0.4444444444444444,\"#bd3786\"],[0.5555555555555556,\"#d8576b\"],[0.6666666666666666,\"#ed7953\"],[0.7777777777777778,\"#fb9f3a\"],[0.8888888888888888,\"#fdca26\"],[1.0,\"#f0f921\"]]}],\"mesh3d\":[{\"type\":\"mesh3d\",\"colorbar\":{\"outlinewidth\":0,\"ticks\":\"\"}}],\"scatter\":[{\"fillpattern\":{\"fillmode\":\"overlay\",\"size\":10,\"solidity\":0.2},\"type\":\"scatter\"}],\"parcoords\":[{\"type\":\"parcoords\",\"line\":{\"colorbar\":{\"outlinewidth\":0,\"ticks\":\"\"}}}],\"scatterpolargl\":[{\"type\":\"scatterpolargl\",\"marker\":{\"colorbar\":{\"outlinewidth\":0,\"ticks\":\"\"}}}],\"bar\":[{\"error_x\":{\"color\":\"#2a3f5f\"},\"error_y\":{\"color\":\"#2a3f5f\"},\"marker\":{\"line\":{\"color\":\"#E5ECF6\",\"width\":0.5},\"pattern\":{\"fillmode\":\"overlay\",\"size\":10,\"solidity\":0.2}},\"type\":\"bar\"}],\"scattergeo\":[{\"type\":\"scattergeo\",\"marker\":{\"colorbar\":{\"outlinewidth\":0,\"ticks\":\"\"}}}],\"scatterpolar\":[{\"type\":\"scatterpolar\",\"marker\":{\"colorbar\":{\"outlinewidth\":0,\"ticks\":\"\"}}}],\"histogram\":[{\"marker\":{\"pattern\":{\"fillmode\":\"overlay\",\"size\":10,\"solidity\":0.2}},\"type\":\"histogram\"}],\"scattergl\":[{\"type\":\"scattergl\",\"marker\":{\"colorbar\":{\"outlinewidth\":0,\"ticks\":\"\"}}}],\"scatter3d\":[{\"type\":\"scatter3d\",\"line\":{\"colorbar\":{\"outlinewidth\":0,\"ticks\":\"\"}},\"marker\":{\"colorbar\":{\"outlinewidth\":0,\"ticks\":\"\"}}}],\"scattermapbox\":[{\"type\":\"scattermapbox\",\"marker\":{\"colorbar\":{\"outlinewidth\":0,\"ticks\":\"\"}}}],\"scatterternary\":[{\"type\":\"scatterternary\",\"marker\":{\"colorbar\":{\"outlinewidth\":0,\"ticks\":\"\"}}}],\"scattercarpet\":[{\"type\":\"scattercarpet\",\"marker\":{\"colorbar\":{\"outlinewidth\":0,\"ticks\":\"\"}}}],\"carpet\":[{\"aaxis\":{\"endlinecolor\":\"#2a3f5f\",\"gridcolor\":\"white\",\"linecolor\":\"white\",\"minorgridcolor\":\"white\",\"startlinecolor\":\"#2a3f5f\"},\"baxis\":{\"endlinecolor\":\"#2a3f5f\",\"gridcolor\":\"white\",\"linecolor\":\"white\",\"minorgridcolor\":\"white\",\"startlinecolor\":\"#2a3f5f\"},\"type\":\"carpet\"}],\"table\":[{\"cells\":{\"fill\":{\"color\":\"#EBF0F8\"},\"line\":{\"color\":\"white\"}},\"header\":{\"fill\":{\"color\":\"#C8D4E3\"},\"line\":{\"color\":\"white\"}},\"type\":\"table\"}],\"barpolar\":[{\"marker\":{\"line\":{\"color\":\"#E5ECF6\",\"width\":0.5},\"pattern\":{\"fillmode\":\"overlay\",\"size\":10,\"solidity\":0.2}},\"type\":\"barpolar\"}],\"pie\":[{\"automargin\":true,\"type\":\"pie\"}]},\"layout\":{\"autotypenumbers\":\"strict\",\"colorway\":[\"#636efa\",\"#EF553B\",\"#00cc96\",\"#ab63fa\",\"#FFA15A\",\"#19d3f3\",\"#FF6692\",\"#B6E880\",\"#FF97FF\",\"#FECB52\"],\"font\":{\"color\":\"#2a3f5f\"},\"hovermode\":\"closest\",\"hoverlabel\":{\"align\":\"left\"},\"paper_bgcolor\":\"white\",\"plot_bgcolor\":\"#E5ECF6\",\"polar\":{\"bgcolor\":\"#E5ECF6\",\"angularaxis\":{\"gridcolor\":\"white\",\"linecolor\":\"white\",\"ticks\":\"\"},\"radialaxis\":{\"gridcolor\":\"white\",\"linecolor\":\"white\",\"ticks\":\"\"}},\"ternary\":{\"bgcolor\":\"#E5ECF6\",\"aaxis\":{\"gridcolor\":\"white\",\"linecolor\":\"white\",\"ticks\":\"\"},\"baxis\":{\"gridcolor\":\"white\",\"linecolor\":\"white\",\"ticks\":\"\"},\"caxis\":{\"gridcolor\":\"white\",\"linecolor\":\"white\",\"ticks\":\"\"}},\"coloraxis\":{\"colorbar\":{\"outlinewidth\":0,\"ticks\":\"\"}},\"colorscale\":{\"sequential\":[[0.0,\"#0d0887\"],[0.1111111111111111,\"#46039f\"],[0.2222222222222222,\"#7201a8\"],[0.3333333333333333,\"#9c179e\"],[0.4444444444444444,\"#bd3786\"],[0.5555555555555556,\"#d8576b\"],[0.6666666666666666,\"#ed7953\"],[0.7777777777777778,\"#fb9f3a\"],[0.8888888888888888,\"#fdca26\"],[1.0,\"#f0f921\"]],\"sequentialminus\":[[0.0,\"#0d0887\"],[0.1111111111111111,\"#46039f\"],[0.2222222222222222,\"#7201a8\"],[0.3333333333333333,\"#9c179e\"],[0.4444444444444444,\"#bd3786\"],[0.5555555555555556,\"#d8576b\"],[0.6666666666666666,\"#ed7953\"],[0.7777777777777778,\"#fb9f3a\"],[0.8888888888888888,\"#fdca26\"],[1.0,\"#f0f921\"]],\"diverging\":[[0,\"#8e0152\"],[0.1,\"#c51b7d\"],[0.2,\"#de77ae\"],[0.3,\"#f1b6da\"],[0.4,\"#fde0ef\"],[0.5,\"#f7f7f7\"],[0.6,\"#e6f5d0\"],[0.7,\"#b8e186\"],[0.8,\"#7fbc41\"],[0.9,\"#4d9221\"],[1,\"#276419\"]]},\"xaxis\":{\"gridcolor\":\"white\",\"linecolor\":\"white\",\"ticks\":\"\",\"title\":{\"standoff\":15},\"zerolinecolor\":\"white\",\"automargin\":true,\"zerolinewidth\":2},\"yaxis\":{\"gridcolor\":\"white\",\"linecolor\":\"white\",\"ticks\":\"\",\"title\":{\"standoff\":15},\"zerolinecolor\":\"white\",\"automargin\":true,\"zerolinewidth\":2},\"scene\":{\"xaxis\":{\"backgroundcolor\":\"#E5ECF6\",\"gridcolor\":\"white\",\"linecolor\":\"white\",\"showbackground\":true,\"ticks\":\"\",\"zerolinecolor\":\"white\",\"gridwidth\":2},\"yaxis\":{\"backgroundcolor\":\"#E5ECF6\",\"gridcolor\":\"white\",\"linecolor\":\"white\",\"showbackground\":true,\"ticks\":\"\",\"zerolinecolor\":\"white\",\"gridwidth\":2},\"zaxis\":{\"backgroundcolor\":\"#E5ECF6\",\"gridcolor\":\"white\",\"linecolor\":\"white\",\"showbackground\":true,\"ticks\":\"\",\"zerolinecolor\":\"white\",\"gridwidth\":2}},\"shapedefaults\":{\"line\":{\"color\":\"#2a3f5f\"}},\"annotationdefaults\":{\"arrowcolor\":\"#2a3f5f\",\"arrowhead\":0,\"arrowwidth\":1},\"geo\":{\"bgcolor\":\"white\",\"landcolor\":\"#E5ECF6\",\"subunitcolor\":\"white\",\"showland\":true,\"showlakes\":true,\"lakecolor\":\"white\"},\"title\":{\"x\":0.05},\"mapbox\":{\"style\":\"light\"}}}},                        {\"responsive\": true}                    ).then(function(){\n",
              "                            \n",
              "var gd = document.getElementById('86164d04-18d9-430d-8312-9e0438c57c7e');\n",
              "var x = new MutationObserver(function (mutations, observer) {{\n",
              "        var display = window.getComputedStyle(gd).display;\n",
              "        if (!display || display === 'none') {{\n",
              "            console.log([gd, 'removed!']);\n",
              "            Plotly.purge(gd);\n",
              "            observer.disconnect();\n",
              "        }}\n",
              "}});\n",
              "\n",
              "// Listen for the removal of the full notebook cells\n",
              "var notebookContainer = gd.closest('#notebook-container');\n",
              "if (notebookContainer) {{\n",
              "    x.observe(notebookContainer, {childList: true});\n",
              "}}\n",
              "\n",
              "// Listen for the clearing of the current output cell\n",
              "var outputEl = gd.closest('.output');\n",
              "if (outputEl) {{\n",
              "    x.observe(outputEl, {childList: true});\n",
              "}}\n",
              "\n",
              "                        })                };                            </script>        </div>\n",
              "</body>\n",
              "</html>"
            ]
          },
          "metadata": {},
          "output_type": "display_data"
        }
      ],
      "source": [
        "#Remove unconnected nodes\n",
        "unconnected_nodes = [node for node, degree in G.degree() if degree == 0]\n",
        "G.remove_nodes_from(unconnected_nodes)\n",
        "\n",
        "# Recalculate layout (3D)\n",
        "pos = nx.spring_layout(G, dim=3, seed=42)\n",
        "\n",
        "# Extract updated node positions and colors\n",
        "x_nodes, y_nodes, z_nodes = zip(*[pos[node] for node in G.nodes])\n",
        "colors = [get_node_color(G.nodes[node].get(\"IfcType\", \"Undefined\")) for node in G.nodes]\n",
        "\n",
        "# Separate edge coordinates by relation type\n",
        "voids_x, voids_y, voids_z = [], [], []\n",
        "surrounds_x, surrounds_y, surrounds_z = [], [], []\n",
        "other_x, other_y, other_z = [], [], []\n",
        "\n",
        "for u, v, data in G.edges(data=True):\n",
        "    x0, y0, z0 = pos[u]\n",
        "    x1, y1, z1 = pos[v]\n",
        "\n",
        "    # Add coordinates in Plotly \"line segment\" style: [x0, x1, None] so lines don't connect across edges\n",
        "    if data.get(\"relation\") == \"VOIDS\":\n",
        "        voids_x.extend([x0, x1, None])\n",
        "        voids_y.extend([y0, y1, None])\n",
        "        voids_z.extend([z0, z1, None])\n",
        "    elif data.get(\"relation\") == \"SURROUNDS\":\n",
        "        surrounds_x.extend([x0, x1, None])\n",
        "        surrounds_y.extend([y0, y1, None])\n",
        "        surrounds_z.extend([z0, z1, None])\n",
        "    else:\n",
        "        other_x.extend([x0, x1, None])\n",
        "        other_y.extend([y0, y1, None])\n",
        "        other_z.extend([z0, z1, None])\n",
        "\n",
        "# Create separate edge traces\n",
        "voids_trace = go.Scatter3d(\n",
        "    x=voids_x, y=voids_y, z=voids_z,\n",
        "    mode='lines',\n",
        "    line=dict(width=2, color='red'),\n",
        "    hoverinfo='none'\n",
        ")\n",
        "\n",
        "surrounds_trace = go.Scatter3d(\n",
        "    x=surrounds_x, y=surrounds_y, z=surrounds_z,\n",
        "    mode='lines',\n",
        "    line=dict(width=2, color='gray'),\n",
        "    opacity=0.5,\n",
        "    hoverinfo='none'\n",
        ")\n",
        "\n",
        "other_trace = go.Scatter3d(\n",
        "    x=other_x, y=other_y, z=other_z,\n",
        "    mode='lines',\n",
        "    line=dict(width=2, color='lightgray'),\n",
        "    hoverinfo='none'\n",
        ")\n",
        "\n",
        "# Create the node trace\n",
        "node_trace = go.Scatter3d(\n",
        "    x=x_nodes, y=y_nodes, z=z_nodes,\n",
        "    mode='markers',\n",
        "    marker=dict(size=5, color=colors, opacity=0.8),\n",
        "    text=[\n",
        "        f\"{G.nodes[node].get('Name', 'N/A')} (\" \\\n",
        "        f\"{G.nodes[node].get('IfcType', 'Undefined')})\"\n",
        "        for node in G.nodes\n",
        "    ],\n",
        "    hoverinfo='text'\n",
        ")\n",
        "\n",
        "# Build figure\n",
        "layout = go.Layout(\n",
        "    title=\"3D IFC Wall-Door/Window Visualization\",\n",
        "    width=1200, height=800,\n",
        "    scene=dict(xaxis=dict(title='X'),\n",
        "               yaxis=dict(title='Y'),\n",
        "               zaxis=dict(title='Z')),\n",
        "    showlegend=False\n",
        ")\n",
        "\n",
        "fig = go.Figure(\n",
        "    data=[voids_trace, surrounds_trace, other_trace, node_trace],\n",
        "    layout=layout\n",
        ")\n",
        "fig.show()\n"
      ]
    },
    {
      "cell_type": "code",
      "execution_count": null,
      "metadata": {
        "id": "1aWiBYF3l6QR"
      },
      "outputs": [],
      "source": [
        "# SAVE THE PLOT AS HTML\n",
        "fig.write_html(\"GML-02-NameLastname.html\")\n"
      ]
    },
    {
      "cell_type": "markdown",
      "metadata": {
        "id": "W-70zWCMoWcZ"
      },
      "source": [
        "todo -> Location parameter!"
      ]
    },
    {
      "cell_type": "markdown",
      "metadata": {
        "id": "fLeaMtnxZy61"
      },
      "source": [
        "## 2.5. Plot IfcWalls and IfcDoors/IfcWindows connections"
      ]
    },
    {
      "cell_type": "code",
      "execution_count": null,
      "metadata": {
        "colab": {
          "base_uri": "https://localhost:8080/",
          "height": 817
        },
        "id": "ttYrwJAlZy61",
        "outputId": "4856adbe-8497-4dd7-d888-32f1e20947dc"
      },
      "outputs": [
        {
          "data": {
            "text/html": [
              "<html>\n",
              "<head><meta charset=\"utf-8\" /></head>\n",
              "<body>\n",
              "    <div>            <script src=\"https://cdnjs.cloudflare.com/ajax/libs/mathjax/2.7.5/MathJax.js?config=TeX-AMS-MML_SVG\"></script><script type=\"text/javascript\">if (window.MathJax && window.MathJax.Hub && window.MathJax.Hub.Config) {window.MathJax.Hub.Config({SVG: {font: \"STIX-Web\"}});}</script>                <script type=\"text/javascript\">window.PlotlyConfig = {MathJaxConfig: 'local'};</script>\n",
              "        <script charset=\"utf-8\" src=\"https://cdn.plot.ly/plotly-2.35.2.min.js\"></script>                <div id=\"07bd1d5d-2cc2-42a2-90b3-5ca978979299\" class=\"plotly-graph-div\" style=\"height:800px; width:1200px;\"></div>            <script type=\"text/javascript\">                                    window.PLOTLYENV=window.PLOTLYENV || {};                                    if (document.getElementById(\"07bd1d5d-2cc2-42a2-90b3-5ca978979299\")) {                    Plotly.newPlot(                        \"07bd1d5d-2cc2-42a2-90b3-5ca978979299\",                        [{\"hoverinfo\":\"none\",\"line\":{\"color\":\"red\",\"width\":2},\"mode\":\"lines\",\"x\":[-0.31623213351281876,-0.3318461467742298,null,-0.45118105444956175,-0.41900384264386875,null,-0.12576553062343493,-0.179300872673084,null,-0.12576553062343493,-0.21742723298615457,null,-0.14942459893872645,-0.16021921292471292,null,-0.14942459893872645,-0.20169322854430857,null,-0.4438785196710063,-0.4896687833382923,null,-0.4438785196710063,-0.48956459223493914,null,-0.4438785196710063,-0.44522286357019497,null,-0.36138099331214574,-0.32377309970684853,null,-0.36138099331214574,-0.37138413894357064,null,-0.36138099331214574,-0.40325098864246395,null,-0.36138099331214574,-0.4635690779691405,null,-0.36138099331214574,-0.35842484076696046,null,-0.364607249135075,-0.4095402492056586,null,0.07537462887322406,0.17111250528142827,null,0.07537462887322406,0.1403890169804388,null,0.07537462887322406,0.11176900104492794,null,0.07537462887322406,0.041325478042031114,null,0.07537462887322406,0.06985727674546789,null,0.07537462887322406,0.13331226337411559,null,0.07537462887322406,0.10871181400492377,null,0.07537462887322406,0.07799148588470152,null,0.07537462887322406,0.04674747181007081,null,-0.07732457540658537,0.055990379439703745,null,-0.07732457540658537,0.0018110720250255267,null,-0.07732457540658537,-0.06183955972837794,null,-0.07732457540658537,-0.0553630377241002,null,-0.07732457540658537,-0.05830129634019835,null,-0.07732457540658537,-0.07736745808418508,null,-0.07732457540658537,-0.08023801989931972,null,-0.07732457540658537,-0.0690439573929401,null,0.2191680759156693,0.34902842063872797,null,0.06370423889039584,0.15514671869566082,null,0.06370423889039584,0.11804156277055089,null,0.028188163273554105,0.10605983962206421,null,0.028188163273554105,0.07634797757986397,null,-0.41930164614254717,-0.3878476042808264,null,-0.04683413978718365,-0.20345015757842128,null,-0.04683413978718365,-0.19669218982369138,null,-0.04683413978718365,-0.0622451106057972,null,-0.04683413978718365,-0.10696865088873365,null,-0.04683413978718365,-0.11454089291477412,null,-0.04683413978718365,-0.07149548374994238,null,-0.04683413978718365,-0.19419201571455635,null,-0.04683413978718365,-0.1800455523626186,null,-0.04683413978718365,-0.2027744164734425,null,-0.04683413978718365,-0.17020194517238058,null,-0.04683413978718365,-0.1856215471016765,null,-0.04683413978718365,-0.13331804187736812,null,-0.04683413978718365,-0.009064644642546924,null,-0.04683413978718365,-0.05355644733683125,null,-0.04683413978718365,-0.040918698500546774,null,-0.04683413978718365,0.07308209713729541,null,-0.04683413978718365,0.05496295788125926,null,-0.04683413978718365,0.08692403226667314,null,-0.04683413978718365,0.05098158573462091,null,-0.04683413978718365,0.12236202959199156,null,-0.04683413978718365,0.11266574038322291,null,-0.04683413978718365,0.13936358744703267,null,-0.04683413978718365,0.1297568843444161,null,-0.04683413978718365,0.09490224639278136,null,-0.35232050034584006,-0.37132092452398685,null,-0.18043990396298137,-0.1601193306298695,null,-0.18043990396298137,-0.12485892727437332,null,-0.18043990396298137,-0.09912743210599996,null,-0.18043990396298137,-0.17333271470751607,null,-0.29017620225896373,-0.3710475052732388,null,-0.42201790189028887,-0.4098194042223058,null,-0.42201790189028887,-0.5088792598322058,null,-0.3181488559330481,-0.27067232932636803,null,0.002326765935351123,0.01983593057979517,null,-0.10934596990989609,-0.045309881001980704,null,-0.2196950038653045,-0.24599518674059162,null,-0.2196950038653045,-0.3023081400020276,null,-0.36131330507759635,-0.3701660071837865,null,0.01698455985455612,0.10390432979860521,null,-0.35665154730475795,-0.41699103754988764,null,-0.40894145595666437,-0.40168758977637786,null,0.8476541328046844,0.9733127543109936,null,0.8476541328046844,0.9381132817489833,null,0.8476541328046844,0.9330147912662236,null,0.8476541328046844,0.9551930883369856,null,0.8476541328046844,0.9425575823814565,null,0.8476541328046844,0.9498828067957383,null,0.8476541328046844,0.9465286588671532,null,0.8476541328046844,0.8145463845255957,null,0.7776497573822431,0.7728654646827213,null,0.4886210803008048,0.5420856607617637,null,0.4886210803008048,0.6046666102020072,null,0.3530724155019121,0.3067062167150928,null,0.3530724155019121,0.3755341574286127,null,0.3785803601804319,0.4027734624762913,null,0.28459697583497806,0.2159882180893741,null,0.28459697583497806,0.2257683628729685,null,0.28459697583497806,0.30314480658340237,null,0.28459697583497806,0.3521398981240722,null,0.28459697583497806,0.3494231623233391,null,0.28459697583497806,0.2727140929180781,null,0.2290672053722911,0.17098607832980156,null,0.29021526389588637,0.3912954740694195,null,0.29021526389588637,0.284546478906286,null,0.29021526389588637,0.357764278163943,null,0.29021526389588637,0.2818104997341645,null,0.29021526389588637,0.2878322743323448,null,0.29021526389588637,0.31818748663224905,null,0.14416820102810224,0.17541540341001066,null],\"y\":[0.20325781870243645,0.34084117324950197,null,0.11511328688626149,0.10256026578310612,null,-0.04256403191947222,0.06994761784649452,null,-0.04256403191947222,0.033158619528507426,null,0.06472916455345057,0.11257634549905426,null,0.06472916455345057,0.0655451568937087,null,0.03341072432969005,0.04175264456534318,null,0.03341072432969005,-0.006437070991876386,null,0.03341072432969005,0.10684404725488655,null,0.1169102884914761,0.17471514920749712,null,0.1169102884914761,0.16546180900415414,null,0.1169102884914761,0.12093073440259604,null,0.1169102884914761,0.1871953812203224,null,0.1169102884914761,0.20303608342826465,null,-0.10464276024718189,-0.16925045856490203,null,-0.400465501023681,-0.384329750163818,null,-0.400465501023681,-0.4447615960708613,null,-0.400465501023681,-0.4622340100202637,null,-0.400465501023681,-0.4462787456742598,null,-0.400465501023681,-0.43760173093496824,null,-0.400465501023681,-0.4128033889763223,null,-0.400465501023681,-0.4314460812098078,null,-0.400465501023681,-0.372935513644862,null,-0.400465501023681,-0.38030255538521,null,-0.34712216868484136,-0.34092473604778833,null,-0.34712216868484136,-0.36287283018224575,null,-0.34712216868484136,-0.4043126861101037,null,-0.34712216868484136,-0.3782302577299946,null,-0.34712216868484136,-0.36109366978836555,null,-0.34712216868484136,-0.3395054246677973,null,-0.34712216868484136,-0.3111646014602402,null,-0.34712216868484136,-0.299244265683661,null,-0.19108389122506506,-0.3030520405252699,null,-0.07457284912370388,-0.1253254367334451,null,-0.07457284912370388,-0.1265229842824183,null,-0.08414507513076,-0.14402485957465164,null,-0.08414507513076,-0.14431863607490744,null,0.2093258526117006,0.24945663061851608,null,-0.045057469527083546,-0.10244138786356467,null,-0.045057469527083546,-0.13919047419405742,null,-0.045057469527083546,-0.2164606279325722,null,-0.045057469527083546,-0.2060349543874208,null,-0.045057469527083546,-0.16784270626836406,null,-0.045057469527083546,-0.18143497714993784,null,-0.045057469527083546,-0.006450909511429738,null,-0.045057469527083546,0.019159317114474765,null,-0.045057469527083546,-0.04889619823574359,null,-0.045057469527083546,-0.062226738590315835,null,-0.045057469527083546,-0.09418345424814008,null,-0.045057469527083546,-0.16131292364750446,null,-0.045057469527083546,-0.16837424122518413,null,-0.045057469527083546,-0.14569941480803134,null,-0.045057469527083546,-0.1842106077376507,null,-0.045057469527083546,0.08663944001740426,null,-0.045057469527083546,0.11962788412804318,null,-0.045057469527083546,0.08980312784022368,null,-0.045057469527083546,0.10022406326166297,null,-0.045057469527083546,0.039104995878828236,null,-0.045057469527083546,0.030720885275945464,null,-0.045057469527083546,-0.0026914817451732303,null,-0.045057469527083546,-0.004244632836199523,null,-0.045057469527083546,0.023122589154891227,null,-0.22962025673132988,-0.17905512141420132,null,-0.3494725983939492,-0.427289633318164,null,-0.3494725983939492,-0.3650780874076365,null,-0.3494725983939492,-0.44862661840507834,null,-0.3494725983939492,-0.4673134359147566,null,-0.28912775868693164,-0.32533188902698856,null,-0.21946649091787748,-0.23900820159528996,null,-0.21946649091787748,-0.2044130545845644,null,-0.14938477167070868,-0.1604977866631172,null,-0.4279814479692936,-0.44908668853251665,null,-0.525278507266907,-0.5404281145335448,null,-0.312301125574439,-0.27570503245043415,null,-0.312301125574439,-0.2914156120316533,null,-0.39649148593873,-0.3957569717594388,null,-0.06579474841140363,-0.15446952380615117,null,0.07985386532635687,0.220765273873051,null,-0.14730739199627552,-0.18026793086884693,null,0.31051387657007784,0.34545367822087475,null,0.31051387657007784,0.39666776777551105,null,0.31051387657007784,0.35705445714673195,null,0.31051387657007784,0.38677753720770586,null,0.31051387657007784,0.4229959127271377,null,0.31051387657007784,0.29058014940814064,null,0.31051387657007784,0.3223784745653776,null,0.31051387657007784,0.1906751450014839,null,0.212567631792597,0.1932927929671806,null,0.4569607985630378,0.510296417316149,null,0.4569607985630378,0.46816503712252017,null,0.5199902693779456,0.5276959558329463,null,0.5199902693779456,0.5823337548247374,null,0.6625013865393955,0.6347152152394108,null,0.577103676333684,0.6225481026938754,null,0.577103676333684,0.6405876046444299,null,0.577103676333684,0.6516460607628983,null,0.577103676333684,0.6283513532801887,null,0.577103676333684,0.6335046986555173,null,0.577103676333684,0.6058006195010691,null,0.6809203042478824,0.704839194219405,null,0.31599261352300606,0.2569234526750079,null,0.31599261352300606,0.46261038739506033,null,0.31599261352300606,0.2864702164657483,null,0.31599261352300606,0.4144849516112059,null,0.31599261352300606,0.24236183561108177,null,0.31599261352300606,0.20059430283948984,null,0.613562929940228,0.6149678422535939,null],\"z\":[0.2852862422631666,0.2942855809786985,null,0.3589794765394489,0.38678786972685075,null,0.39822640174023466,0.38810570350418044,null,0.39822640174023466,0.41217348327378583,null,0.2831044037381123,0.2648925416033834,null,0.2831044037381123,0.30288215508369964,null,0.2521013116931456,0.29853334408691334,null,0.2521013116931456,0.2881895775763782,null,0.2521013116931456,0.26352559331302766,null,0.13754470624748572,0.17538156803216684,null,0.13754470624748572,0.1714425931265763,null,0.13754470624748572,0.1721033182195973,null,0.13754470624748572,0.15270714932715848,null,0.13754470624748572,0.13822327787341948,null,-0.03869581883676084,-0.13436229730425772,null,0.4972360197616839,0.4676168472955775,null,0.4972360197616839,0.4862716048602116,null,0.4972360197616839,0.49631845184681517,null,0.4972360197616839,0.5514079501008347,null,0.4972360197616839,0.5533863984952627,null,0.4972360197616839,0.5456366548673062,null,0.4972360197616839,0.5591014826992032,null,0.4972360197616839,0.615922209522808,null,0.4972360197616839,0.6201465401875724,null,0.37727734076684616,0.37336666886503306,null,0.37727734076684616,0.36236990289335325,null,0.37727734076684616,0.43373256973560714,null,0.37727734076684616,0.408162613228216,null,0.37727734076684616,0.4367926591062531,null,0.37727734076684616,0.4406342520149721,null,0.37727734076684616,0.4719968183073407,null,0.37727734076684616,0.5058559137544654,null,0.26816719783865656,0.27633884564888017,null,0.46994547093036726,0.522341713634864,null,0.46994547093036726,0.5613260294640571,null,0.3677664504552191,0.4019768022568635,null,0.3677664504552191,0.4386777596613303,null,0.24243525125635537,0.30293155640641783,null,-0.4511313862751999,-0.4739206357499666,null,-0.4511313862751999,-0.48425293932021246,null,-0.4511313862751999,-0.46867421233929807,null,-0.4511313862751999,-0.4879857755969928,null,-0.4511313862751999,-0.4780899668339029,null,-0.4511313862751999,-0.4636286799171384,null,-0.4511313862751999,-0.5289257452302787,null,-0.4511313862751999,-0.5148651677521149,null,-0.4511313862751999,-0.5813360618434422,null,-0.4511313862751999,-0.588339280829903,null,-0.4511313862751999,-0.5903657334613808,null,-0.4511313862751999,-0.5413830603725427,null,-0.4511313862751999,-0.5312841234753545,null,-0.4511313862751999,-0.5564445797379484,null,-0.4511313862751999,-0.5496043607107073,null,-0.4511313862751999,-0.6040279095621883,null,-0.4511313862751999,-0.5896002264380188,null,-0.4511313862751999,-0.5694013736859653,null,-0.4511313862751999,-0.570338729570096,null,-0.4511313862751999,-0.5985738094370101,null,-0.4511313862751999,-0.5619231677298162,null,-0.4511313862751999,-0.5589329402616332,null,-0.4511313862751999,-0.5916412297529423,null,-0.4511313862751999,-0.6020382963864512,null,-0.24182438031039058,-0.2857129436357701,null,-0.1973179353525699,-0.2165413114933085,null,-0.1973179353525699,-0.2907227807766849,null,-0.1973179353525699,-0.22273073656708148,null,-0.1973179353525699,-0.20202983544039563,null,-0.26139117146018087,-0.3011578930387322,null,-0.22040634203616874,-0.26210648504132056,null,-0.22040634203616874,-0.272459709538133,null,-0.34260223523531413,-0.4251464745353465,null,-0.21687005105150398,-0.25326301499427256,null,-0.16670142723382844,-0.18869009920517066,null,-0.2664859084814702,-0.3746543104618644,null,-0.2664859084814702,-0.36610807402643075,null,-0.21569928383804,-0.18959440993604443,null,-0.2639623504293571,-0.3216285184924235,null,-0.08950935130618258,-0.11650289549526024,null,-0.42885964465677023,-0.43437305848183927,null,-0.13950226372118762,-0.2162299083922518,null,-0.13950226372118762,-0.21824823418224878,null,-0.13950226372118762,-0.24210514548609455,null,-0.13950226372118762,-0.15264224355241077,null,-0.13950226372118762,-0.14493869555945005,null,-0.13950226372118762,-0.12215175411251401,null,-0.13950226372118762,-0.0904416637707479,null,-0.13950226372118762,-0.05651816653705894,null,-0.018063313798989736,-0.04689495853850796,null,0.11949722796905488,0.1968459906243195,null,0.11949722796905488,0.14743497593018004,null,0.007271957142999552,0.027919263590714432,null,0.007271957142999552,-0.02656416151712261,null,-0.07822681144395688,-0.0782720225559031,null,-0.1765813432195058,-0.1373654159047452,null,-0.1765813432195058,-0.16195866350102153,null,-0.1765813432195058,-0.18606725711529545,null,-0.1765813432195058,-0.18715652622084974,null,-0.1765813432195058,-0.14210667231485533,null,-0.1765813432195058,-0.08388342817125162,null,-0.2603150004141208,-0.2529263523191057,null,-0.3864363795658885,-0.4581555503379588,null,-0.3864363795658885,-0.29716193453055634,null,-0.3864363795658885,-0.46920787109721673,null,-0.3864363795658885,-0.3355019300213443,null,-0.3864363795658885,-0.4945312316706316,null,-0.3864363795658885,-0.48216880828090036,null,-0.31199214781379053,-0.3002945118479418,null],\"type\":\"scatter3d\"},{\"hoverinfo\":\"none\",\"line\":{\"color\":\"gray\",\"width\":2},\"mode\":\"lines\",\"opacity\":0.05,\"x\":[-0.252696253692492,-0.3165008756849425,null,-0.252696253692492,-0.11955903852010503,null,-0.252696253692492,-0.31623213351281876,null,-0.252696253692492,-0.2905589144455153,null,-0.2937217594199676,-0.31623213351281876,null,-0.2937217594199676,-0.23157816648038096,null,-0.2937217594199676,-0.48772112303640824,null,-0.2937217594199676,-0.34802478427023903,null,-0.2937217594199676,-0.37033242619632606,null,-0.2937217594199676,-0.19590418890106762,null,-0.2937217594199676,-0.45118105444956175,null,-0.2937217594199676,-0.4499125847669834,null,-0.2937217594199676,-0.31781892311816645,null,-0.2937217594199676,-0.11955903852010503,null,-0.2937217594199676,-0.12576553062343493,null,-0.2937217594199676,-0.179300872673084,null,-0.2937217594199676,0.0168243537751598,null,-0.2937217594199676,-0.14942459893872645,null,-0.2937217594199676,-0.16021921292471292,null,-0.2937217594199676,-0.21742723298615457,null,-0.2937217594199676,-0.20169322854430857,null,-0.2937217594199676,-0.4438785196710063,null,-0.2937217594199676,-0.44522286357019497,null,-0.2937217594199676,-0.0394844437302948,null,-0.2937217594199676,-0.36138099331214574,null,-0.2937217594199676,-0.32377309970684853,null,-0.2937217594199676,-0.37138413894357064,null,-0.2937217594199676,-0.48956459223493914,null,-0.2937217594199676,-0.3745176681403894,null,-0.2937217594199676,-0.4896687833382923,null,-0.2937217594199676,-0.4370481655642643,null,-0.2937217594199676,-0.40325098864246395,null,-0.2937217594199676,-0.41900384264386875,null,-0.2937217594199676,-0.41323603694247957,null,-0.2937217594199676,-0.2905589144455153,null,-0.2937217594199676,-0.35842484076696046,null,-0.2937217594199676,-0.364607249135075,null,0.08322819401565806,-0.11955903852010503,null,0.08322819401565806,0.15105666255628383,null,0.08322819401565806,0.07537462887322406,null,0.08322819401565806,0.17111250528142827,null,0.08322819401565806,0.24094836716978058,null,0.08322819401565806,-0.07732457540658537,null,0.08322819401565806,0.055990379439703745,null,0.08322819401565806,0.0018110720250255267,null,0.03644098186986586,0.15105666255628383,null,0.03644098186986586,-0.11955903852010503,null,0.03644098186986586,0.04271868358642578,null,0.03644098186986586,0.07537462887322406,null,0.03644098186986586,0.1403890169804388,null,0.03644098186986586,0.11176900104492794,null,0.03644098186986586,-0.07732457540658537,null,-0.016325922657401497,0.04271868358642578,null,-0.016325922657401497,-0.11955903852010503,null,-0.016325922657401497,0.011401515201596659,null,-0.016325922657401497,0.07537462887322406,null,-0.016325922657401497,0.041325478042031114,null,-0.016325922657401497,0.06985727674546789,null,-0.016325922657401497,-0.07732457540658537,null,-0.016325922657401497,-0.06183955972837794,null,-0.016325922657401497,-0.0553630377241002,null,-0.016325922657401497,-0.05830129634019835,null,-0.016325922657401497,-0.07736745808418508,null,0.008683175667681994,0.011401515201596659,null,0.008683175667681994,-0.11955903852010503,null,0.008683175667681994,0.07537462887322406,null,0.008683175667681994,0.13331226337411559,null,0.008683175667681994,0.10871181400492377,null,0.008683175667681994,-0.07732457540658537,null,0.008683175667681994,-0.017654748270626842,null,0.06421245838691696,-0.12576553062343493,null,0.06421245838691696,0.07537462887322406,null,0.06421245838691696,0.17111250528142827,null,0.06421245838691696,0.24094836716978058,null,0.06421245838691696,-0.07732457540658537,null,0.06421245838691696,0.055990379439703745,null,0.06421245838691696,0.0018110720250255267,null,0.06421245838691696,0.1403890169804388,null,0.06421245838691696,0.11176900104492794,null,0.06421245838691696,0.041325478042031114,null,0.06421245838691696,0.06985727674546789,null,0.06421245838691696,-0.06183955972837794,null,0.06421245838691696,-0.0553630377241002,null,0.06421245838691696,-0.05830129634019835,null,0.06421245838691696,-0.07736745808418508,null,0.06421245838691696,0.13331226337411559,null,0.06421245838691696,0.10871181400492377,null,0.06421245838691696,0.2191680759156693,null,0.06421245838691696,0.06326950990834765,null,0.06421245838691696,0.1640808062511854,null,0.06421245838691696,0.15912400306307434,null,0.06421245838691696,0.2126525725232783,null,0.06421245838691696,-0.11955903852010503,null,0.06421245838691696,0.07799148588470152,null,0.06421245838691696,0.04674747181007081,null,0.06421245838691696,-0.02246146051073296,null,0.06421245838691696,-0.08023801989931972,null,0.06421245838691696,-0.0690439573929401,null,0.06421245838691696,0.06370423889039584,null,0.06421245838691696,0.11804156277055089,null,0.06421245838691696,0.028188163273554105,null,0.06421245838691696,0.07634797757986397,null,0.06421245838691696,0.15514671869566082,null,0.06421245838691696,0.10605983962206421,null,0.06421245838691696,0.02608215977374414,null,0.06421245838691696,0.0054466227027594105,null,0.06421245838691696,0.078869055474084,null,0.06421245838691696,0.15791843635674624,null,0.06421245838691696,0.12054706683352885,null,-0.027893110824216527,-0.017654748270626842,null,-0.027893110824216527,0.06326950990834765,null,-0.027893110824216527,0.07537462887322406,null,-0.027893110824216527,0.07799148588470152,null,-0.027893110824216527,0.04674747181007081,null,-0.027893110824216527,-0.02246146051073296,null,-0.027893110824216527,-0.07732457540658537,null,-0.027893110824216527,-0.08023801989931972,null,-0.027893110824216527,-0.0690439573929401,null,-0.027893110824216527,-0.04734517349981599,null,-0.027893110824216527,-0.033830329999355285,null,-0.027893110824216527,-0.11955903852010503,null,0.0761927163121575,0.06370423889039584,null,0.0761927163121575,0.11804156277055089,null,0.0761927163121575,0.028188163273554105,null,0.0761927163121575,0.07634797757986397,null,0.0761927163121575,0.06326950990834765,null,0.0761927163121575,-0.02246146051073296,null,0.0761927163121575,0.16978988333857564,null,0.0761927163121575,0.17393637676219673,null,0.0761927163121575,-0.11955903852010503,null,0.0761927163121575,0.12331232467490502,null,0.10688766311995553,0.06370423889039584,null,0.10688766311995553,0.15514671869566082,null,0.10688766311995553,0.028188163273554105,null,0.10688766311995553,0.10605983962206421,null,0.10688766311995553,0.16978988333857564,null,0.10688766311995553,0.26101932019359897,null,0.10688766311995553,-0.11955903852010503,null,0.10688766311995553,0.02608215977374414,null,0.10688766311995553,0.0054466227027594105,null,0.10688766311995553,0.2004186759658009,null,-0.024788604726295828,-0.12576553062343493,null,-0.024788604726295828,-0.179300872673084,null,-0.024788604726295828,0.0168243537751598,null,-0.024788604726295828,-0.14942459893872645,null,-0.024788604726295828,-0.16021921292471292,null,-0.024788604726295828,0.02608215977374414,null,-0.024788604726295828,0.0054466227027594105,null,-0.024788604726295828,0.16978988333857564,null,-0.024788604726295828,-0.11955903852010503,null,-0.024788604726295828,-0.03917260390617428,null,-0.024788604726295828,0.06370423889039584,null,-0.024788604726295828,-0.045418885721114695,null,-0.024788604726295828,0.028188163273554105,null,-0.07355328418399111,-0.12576553062343493,null,-0.07355328418399111,-0.21742723298615457,null,-0.07355328418399111,-0.14942459893872645,null,-0.07355328418399111,-0.20169322854430857,null,-0.07355328418399111,0.02608215977374414,null,-0.07355328418399111,0.0054466227027594105,null,-0.07355328418399111,-0.03917260390617428,null,-0.07355328418399111,0.06370423889039584,null,-0.07355328418399111,-0.045418885721114695,null,-0.07355328418399111,0.028188163273554105,null,-0.07355328418399111,-0.11955903852010503,null,0.018781396920057338,0.0168243537751598,null,0.018781396920057338,0.16978988333857564,null,0.018781396920057338,-0.11955903852010503,null,0.018781396920057338,-0.0394844437302948,null,-0.2955343564898704,-0.4438785196710063,null,-0.2955343564898704,-0.44522286357019497,null,-0.2955343564898704,-0.0394844437302948,null,-0.2955343564898704,-0.36138099331214574,null,-0.2955343564898704,-0.32377309970684853,null,-0.2955343564898704,-0.37138413894357064,null,-0.2955343564898704,-0.11955903852010503,null,-0.2955343564898704,-0.5146478719183804,null,-0.4021666191424576,-0.4438785196710063,null,-0.4021666191424576,-0.48956459223493914,null,-0.4021666191424576,-0.36138099331214574,null,-0.4021666191424576,-0.5146478719183804,null,-0.4021666191424576,-0.11955903852010503,null,-0.4021666191424576,-0.5619279212809287,null,-0.3897552357031138,-0.3745176681403894,null,-0.3897552357031138,-0.4438785196710063,null,-0.3897552357031138,-0.4896687833382923,null,-0.3897552357031138,-0.4370481655642643,null,-0.3897552357031138,-0.36138099331214574,null,-0.3897552357031138,-0.40325098864246395,null,-0.3897552357031138,-0.5619279212809287,null,-0.3897552357031138,-0.11955903852010503,null,-0.35395744387891626,-0.31623213351281876,null,-0.35395744387891626,-0.45118105444956175,null,-0.35395744387891626,-0.41900384264386875,null,-0.35395744387891626,-0.4499125847669834,null,-0.35395744387891626,-0.36138099331214574,null,-0.35395744387891626,-0.41323603694247957,null,-0.35395744387891626,-0.3745176681403894,null,-0.35395744387891626,-0.4370481655642643,null,-0.35395744387891626,-0.11955903852010503,null,-0.35395744387891626,-0.41930164614254717,null,-0.35395744387891626,-0.3878476042808264,null,-0.2488861872309047,-0.3745176681403894,null,-0.2488861872309047,-0.41930164614254717,null,-0.2488861872309047,-0.3878476042808264,null,-0.2488861872309047,-0.31623213351281876,null,-0.2488861872309047,-0.3318461467742298,null,-0.2488861872309047,-0.07966249592768988,null,-0.2488861872309047,-0.11955903852010503,null,-0.3023016755600013,-0.34802478427023903,null,-0.3023016755600013,-0.37033242619632606,null,-0.3023016755600013,-0.11955903852010503,null,-0.24035541536617694,-0.2905589144455153,null,-0.24035541536617694,-0.31781892311816645,null,-0.24035541536617694,-0.04683413978718365,null,-0.24035541536617694,-0.35232050034584006,null,-0.24035541536617694,-0.364607249135075,null,-0.24035541536617694,-0.4095402492056586,null,-0.24035541536617694,-0.11955903852010503,null,-0.24035541536617694,-0.37132092452398685,null,-0.24035541536617694,-0.18043990396298137,null,-0.24035541536617694,-0.23157816648038096,null,-0.25961659014503896,-0.35232050034584006,null,-0.25961659014503896,-0.37132092452398685,null,-0.25961659014503896,-0.04683413978718365,null,-0.25961659014503896,-0.20345015757842128,null,-0.25961659014503896,-0.19669218982369138,null,-0.25961659014503896,-0.26602348522757646,null,-0.25961659014503896,-0.11955903852010503,null,-0.25961659014503896,-0.29017620225896373,null,-0.25961659014503896,-0.3710475052732388,null,-0.25961659014503896,-0.42201790189028887,null,-0.25961659014503896,-0.4098194042223058,null,-0.25961659014503896,-0.4680070702976923,null,-0.15149408218671714,-0.26602348522757646,null,-0.15149408218671714,-0.04683413978718365,null,-0.15149408218671714,-0.0622451106057972,null,-0.15149408218671714,-0.10696865088873365,null,-0.15149408218671714,-0.11454089291477412,null,-0.15149408218671714,-0.07149548374994238,null,-0.15149408218671714,-0.18043990396298137,null,-0.15149408218671714,-0.11955903852010503,null,-0.15149408218671714,-0.29017620225896373,null,-0.15149408218671714,-0.20601040968443146,null,-0.15149408218671714,-0.05337087465255424,null,-0.15149408218671714,-0.12485892727437332,null,-0.15149408218671714,-0.3181488559330481,null,-0.15149408218671714,-0.27067232932636803,null,-0.15149408218671714,-0.19590418890106762,null,-0.29700807919501926,-0.35232050034584006,null,-0.29700807919501926,-0.29017620225896373,null,-0.29700807919501926,-0.3710475052732388,null,-0.29700807919501926,-0.42201790189028887,null,-0.29700807919501926,-0.4098194042223058,null,-0.29700807919501926,-0.18043990396298137,null,-0.29700807919501926,-0.11955903852010503,null,-0.29700807919501926,-0.26602348522757646,null,-0.19840041590414698,-0.29017620225896373,null,-0.19840041590414698,-0.20601040968443146,null,-0.19840041590414698,-0.26602348522757646,null,-0.19840041590414698,-0.18043990396298137,null,-0.19840041590414698,-0.11955903852010503,null,-0.19840041590414698,-0.1601193306298695,null,-0.090655297627038,-0.05337087465255424,null,-0.090655297627038,-0.18043990396298137,null,-0.090655297627038,-0.11955903852010503,null,-0.090655297627038,0.002326765935351123,null,-0.090655297627038,0.01983593057979517,null,-0.090655297627038,-0.10934596990989609,null,-0.090655297627038,-0.045309881001980704,null,-0.090655297627038,-0.2691898894938105,null,-0.090655297627038,-0.09912743210599996,null,-0.022426066880715464,-0.05337087465255424,null,-0.022426066880715464,0.002326765935351123,null,-0.022426066880715464,0.01983593057979517,null,-0.022426066880715464,-0.04683413978718365,null,-0.022426066880715464,-0.11955903852010503,null,-0.022426066880715464,0.021568315887034322,null,-0.07530188647198609,-0.10934596990989609,null,-0.07530188647198609,-0.045309881001980704,null,-0.07530188647198609,0.002326765935351123,null,-0.07530188647198609,-0.1468722621022113,null,-0.07530188647198609,-0.11955903852010503,null,-0.07530188647198609,-0.2196950038653045,null,-0.07530188647198609,0.021568315887034322,null,-0.23396986008052195,-0.10934596990989609,null,-0.23396986008052195,-0.2691898894938105,null,-0.23396986008052195,-0.1468722621022113,null,-0.23396986008052195,-0.2196950038653045,null,-0.23396986008052195,-0.18043990396298137,null,-0.23396986008052195,-0.3077493976518395,null,-0.23396986008052195,-0.11955903852010503,null,-0.23396986008052195,-0.17333271470751607,null,-0.23396986008052195,-0.36131330507759635,null,-0.23396986008052195,-0.3701660071837865,null,-0.23396986008052195,-0.35243316459549584,null,-0.013697655832604513,0.021568315887034322,null,-0.013697655832604513,-0.04683413978718365,null,-0.013697655832604513,0.01698455985455612,null,-0.013697655832604513,0.10390432979860521,null,-0.013697655832604513,-0.11955903852010503,null,-0.10544991086600419,-0.18043990396298137,null,-0.10544991086600419,-0.23157816648038096,null,-0.10544991086600419,-0.12485892727437332,null,-0.10544991086600419,-0.1601193306298695,null,-0.10544991086600419,-0.09912743210599996,null,-0.10544991086600419,-0.17333271470751607,null,-0.10544991086600419,0.021568315887034322,null,-0.10544991086600419,0.01698455985455612,null,-0.10544991086600419,-0.11955903852010503,null,0.20411075787383134,0.24094836716978058,null,0.20411075787383134,0.2191680759156693,null,0.20411075787383134,0.34902842063872797,null,0.20411075787383134,0.38132871466655993,null,0.20411075787383134,-0.11955903852010503,null,0.12408686995936018,0.24094836716978058,null,0.12408686995936018,0.2191680759156693,null,0.12408686995936018,0.33766102599536635,null,0.12408686995936018,-0.19590418890106762,null,0.0066758100223640714,0.24094836716978058,null,0.0066758100223640714,-0.07732457540658537,null,0.0066758100223640714,0.055990379439703745,null,0.0066758100223640714,-0.19590418890106762,null,0.0066758100223640714,-0.023210062012207308,null,-0.1258004182794968,-0.07732457540658537,null,-0.1258004182794968,0.0018110720250255267,null,-0.1258004182794968,-0.023210062012207308,null,-0.1258004182794968,-0.19590418890106762,null,-0.1258004182794968,-0.19614713829101846,null,-0.2127692499736318,-0.07732457540658537,null,-0.2127692499736318,-0.06183955972837794,null,-0.2127692499736318,-0.19614713829101846,null,-0.2127692499736318,-0.2814443198936445,null,-0.2127692499736318,-0.302502322820326,null,-0.2127692499736318,-0.19590418890106762,null,-0.2127692499736318,-0.2699215296325591,null,-0.19837490271779418,-0.07732457540658537,null,-0.19837490271779418,-0.0553630377241002,null,-0.19837490271779418,-0.2699215296325591,null,-0.19837490271779418,-0.19590418890106762,null,-0.19837490271779418,-0.28671165295249207,null,-0.20454907709773343,-0.07732457540658537,null,-0.20454907709773343,-0.05830129634019835,null,-0.20454907709773343,-0.28671165295249207,null,-0.20454907709773343,-0.19590418890106762,null,-0.20454907709773343,-0.30562730252677245,null,-0.22061240217662556,-0.07732457540658537,null,-0.22061240217662556,-0.07736745808418508,null,-0.22061240217662556,-0.30562730252677245,null,-0.22061240217662556,-0.19590418890106762,null,-0.22061240217662556,-0.3226470757864052,null,-0.22430542797413877,-0.07732457540658537,null,-0.22430542797413877,-0.08023801989931972,null,-0.22430542797413877,-0.3226470757864052,null,-0.22430542797413877,-0.19590418890106762,null,-0.22430542797413877,-0.3115850143201516,null,-0.2146919255997077,-0.02246146051073296,null,-0.2146919255997077,-0.07732457540658537,null,-0.2146919255997077,-0.0690439573929401,null,-0.2146919255997077,-0.3115850143201516,null,-0.2146919255997077,-0.31018646078256357,null,-0.2146919255997077,-0.3485826708962938,null,-0.2146919255997077,-0.19590418890106762,null,0.02514710540745687,0.028188163273554105,null,0.02514710540745687,0.07634797757986397,null,0.02514710540745687,-0.02246146051073296,null,0.02514710540745687,0.16978988333857564,null,0.02514710540745687,0.12331232467490502,null,0.02514710540745687,-0.19590418890106762,null,0.0521888806130899,0.028188163273554105,null,0.0521888806130899,0.10605983962206421,null,0.0521888806130899,0.16978988333857564,null,0.0521888806130899,0.0054466227027594105,null,0.0521888806130899,0.2004186759658009,null,0.0521888806130899,-0.19590418890106762,null,-0.028332714737084437,0.0168243537751598,null,-0.028332714737084437,-0.14942459893872645,null,-0.028332714737084437,-0.16021921292471292,null,-0.028332714737084437,0.0054466227027594105,null,-0.028332714737084437,0.16978988333857564,null,-0.028332714737084437,-0.045418885721114695,null,-0.028332714737084437,0.028188163273554105,null,-0.028332714737084437,-0.19590418890106762,null,-0.10019731044111237,-0.14942459893872645,null,-0.10019731044111237,-0.20169322854430857,null,-0.10019731044111237,0.0054466227027594105,null,-0.10019731044111237,-0.045418885721114695,null,-0.10019731044111237,0.028188163273554105,null,-0.10019731044111237,-0.19590418890106762,null,-0.270435096733959,-0.19590418890106762,null,-0.270435096733959,-0.0394844437302948,null,-0.270435096733959,0.0168243537751598,null,-0.270435096733959,-0.14942459893872645,null,-0.270435096733959,-0.16021921292471292,null,-0.270435096733959,-0.20169322854430857,null,-0.270435096733959,-0.36138099331214574,null,-0.270435096733959,-0.32377309970684853,null,-0.270435096733959,-0.37138413894357064,null,-0.270435096733959,-0.40325098864246395,null,-0.270435096733959,-0.35842484076696046,null,-0.270435096733959,-0.34802478427023903,null,-0.270435096733959,-0.37033242619632606,null,-0.270435096733959,-0.42796659017134325,null,-0.270435096733959,-0.4635690779691405,null,-0.270435096733959,-0.35665154730475795,null,-0.270435096733959,-0.37663889835060615,null,-0.013088505568718456,0.0168243537751598,null,-0.013088505568718456,-0.0394844437302948,null,-0.013088505568718456,0.16978988333857564,null,-0.013088505568718456,-0.19590418890106762,null,-0.24619335146975607,-0.0394844437302948,null,-0.24619335146975607,-0.36138099331214574,null,-0.24619335146975607,-0.32377309970684853,null,-0.24619335146975607,-0.19590418890106762,null,-0.24619335146975607,-0.39717218435814516,null,-0.33646869336632496,-0.4370481655642643,null,-0.33646869336632496,-0.36138099331214574,null,-0.33646869336632496,-0.37138413894357064,null,-0.33646869336632496,-0.40325098864246395,null,-0.33646869336632496,-0.07966249592768988,null,-0.33646869336632496,-0.39717218435814516,null,-0.33646869336632496,-0.19590418890106762,null,-0.33646869336632496,-0.550223861943006,null,-0.33646869336632496,-0.46311610164752876,null,-0.4271266510910736,-0.4370481655642643,null,-0.4271266510910736,-0.36138099331214574,null,-0.4271266510910736,-0.41930164614254717,null,-0.4271266510910736,-0.4635690779691405,null,-0.4271266510910736,-0.19590418890106762,null,-0.4271266510910736,-0.550223861943006,null,-0.4271266510910736,-0.46311610164752876,null,-0.28669627955046695,-0.36138099331214574,null,-0.28669627955046695,-0.35842484076696046,null,-0.28669627955046695,-0.07966249592768988,null,-0.28669627955046695,-0.46311610164752876,null,-0.28669627955046695,-0.19590418890106762,null,-0.28669627955046695,-0.3900798641846603,null,-0.28317621005990085,-0.36138099331214574,null,-0.28317621005990085,-0.3900798641846603,null,-0.28317621005990085,-0.07966249592768988,null,-0.28317621005990085,-0.19590418890106762,null,-0.28317621005990085,-0.35665154730475795,null,-0.28317621005990085,-0.41699103754988764,null,-0.33378805994332694,-0.35665154730475795,null,-0.33378805994332694,-0.41699103754988764,null,-0.33378805994332694,-0.5145208159702055,null,-0.33378805994332694,-0.49084894377583776,null,-0.33378805994332694,-0.07966249592768988,null,-0.33378805994332694,-0.19590418890106762,null,-0.33378805994332694,-0.38755176721370105,null,-0.28134836177306305,-0.31781892311816645,null,-0.28134836177306305,-0.04683413978718365,null,-0.28134836177306305,-0.38755176721370105,null,-0.28134836177306305,-0.19590418890106762,null,-0.28134836177306305,-0.4064490371797907,null,-0.28134836177306305,-0.4448380351722179,null,-0.28134836177306305,-0.3605877815108017,null,-0.41319022100411373,-0.4680070702976923,null,-0.41319022100411373,-0.4064490371797907,null,-0.41319022100411373,-0.4448380351722179,null,-0.41319022100411373,-0.19590418890106762,null,-0.41319022100411373,-0.42201790189028887,null,-0.41319022100411373,-0.5088792598322058,null,-0.44132713472062884,-0.42201790189028887,null,-0.44132713472062884,-0.4098194042223058,null,-0.44132713472062884,-0.3181488559330481,null,-0.44132713472062884,-0.19590418890106762,null,-0.44132713472062884,-0.6778507335372181,null,-0.44132713472062884,-0.4064490371797907,null,-0.4262084344378993,-0.364607249135075,null,-0.4262084344378993,-0.42201790189028887,null,-0.4262084344378993,-0.19590418890106762,null,-0.4262084344378993,-0.5275973270182022,null,-0.4262084344378993,-0.512927735477126,null,-0.4262084344378993,-0.4095402492056586,null,-0.235610608327356,-0.04683413978718365,null,-0.235610608327356,-0.3181488559330481,null,-0.235610608327356,-0.27067232932636803,null,-0.235610608327356,-0.3605877815108017,null,-0.235610608327356,-0.4064490371797907,null,-0.235610608327356,-0.19419201571455635,null,-0.235610608327356,-0.1800455523626186,null,-0.235610608327356,-0.19590418890106762,null,-0.25728683987645684,-0.19590418890106762,null,-0.25728683987645684,-0.04683413978718365,null,-0.25728683987645684,-0.3181488559330481,null,-0.25728683987645684,-0.27067232932636803,null,-0.25728683987645684,-0.2027744164734425,null,-0.25728683987645684,-0.17020194517238058,null,-0.25728683987645684,-0.1856215471016765,null,-0.25728683987645684,-0.38656896839466454,null,-0.25728683987645684,-0.32182392200969373,null,-0.25728683987645684,-0.40894145595666437,null,-0.25728683987645684,-0.40168758977637786,null,-0.18443607952200292,-0.04683413978718365,null,-0.18443607952200292,-0.32182392200969373,null,-0.18443607952200292,-0.13331804187736812,null,-0.18443607952200292,-0.19590418890106762,null,-0.18443607952200292,-0.1520709688810966,null,-0.18443607952200292,-0.2196950038653045,null,-0.18443607952200292,-0.3023081400020276,null,-0.10754542001164714,-0.04683413978718365,null,-0.10754542001164714,0.021568315887034322,null,-0.10754542001164714,-0.2196950038653045,null,-0.10754542001164714,-0.1520709688810966,null,-0.10754542001164714,-0.009064644642546924,null,-0.10754542001164714,-0.05355644733683125,null,-0.10754542001164714,-0.040918698500546774,null,-0.10754542001164714,-0.19590418890106762,null,-0.10754542001164714,-0.24599518674059162,null,-0.30203145628281286,-0.2691898894938105,null,-0.30203145628281286,-0.2196950038653045,null,-0.30203145628281286,-0.36131330507759635,null,-0.30203145628281286,-0.3701660071837865,null,-0.30203145628281286,-0.35243316459549584,null,-0.30203145628281286,-0.19590418890106762,null,0.009245802723947195,0.021568315887034322,null,0.009245802723947195,0.01698455985455612,null,0.009245802723947195,0.18868769234530416,null,0.009245802723947195,-0.19590418890106762,null,-0.3165851443791122,-0.19590418890106762,null,-0.3165851443791122,-0.31781892311816645,null,-0.3165851443791122,-0.364607249135075,null,-0.3165851443791122,-0.29017620225896373,null,-0.3165851443791122,-0.42201790189028887,null,-0.3165851443791122,-0.4098194042223058,null,-0.3165851443791122,-0.26602348522757646,null,-0.3165851443791122,-0.2691898894938105,null,-0.3165851443791122,-0.36131330507759635,null,-0.3165851443791122,-0.3701660071837865,null,-0.3165851443791122,-0.35665154730475795,null,-0.3165851443791122,-0.37663889835060615,null,-0.3165851443791122,-0.4448380351722179,null,-0.3165851443791122,-0.5088792598322058,null,-0.3165851443791122,-0.5275973270182022,null,-0.3165851443791122,-0.512927735477126,null,-0.3165851443791122,-0.4095402492056586,null,-0.3165851443791122,-0.32182392200969373,null,-0.3165851443791122,-0.3181488559330481,null,-0.3165851443791122,-0.40894145595666437,null,-0.3165851443791122,-0.40168758977637786,null,-0.3165851443791122,-0.2196950038653045,null,-0.3165851443791122,-0.3023081400020276,null,-0.3165851443791122,-0.24599518674059162,null,-0.3165851443791122,0.021568315887034322,null,-0.3165851443791122,0.01698455985455612,null,-0.3165851443791122,-0.38755176721370105,null,0.024292980496139177,0.24094836716978058,null,0.024292980496139177,-0.07732457540658537,null,0.024292980496139177,0.055990379439703745,null,0.024292980496139177,0.0018110720250255267,null,0.024292980496139177,-0.06183955972837794,null,0.024292980496139177,-0.0553630377241002,null,0.024292980496139177,-0.05830129634019835,null,0.024292980496139177,-0.07736745808418508,null,0.024292980496139177,0.2191680759156693,null,0.024292980496139177,0.0054466227027594105,null,0.024292980496139177,-0.02246146051073296,null,0.024292980496139177,0.028188163273554105,null,0.024292980496139177,0.10605983962206421,null,0.024292980496139177,0.07634797757986397,null,0.024292980496139177,0.078869055474084,null,0.024292980496139177,0.15791843635674624,null,0.024292980496139177,0.12054706683352885,null,0.024292980496139177,-0.08023801989931972,null,0.024292980496139177,-0.0690439573929401,null,0.024292980496139177,-0.19590418890106762,null,0.3376201163210891,0.2191680759156693,null,0.3376201163210891,0.24094836716978058,null,0.3376201163210891,0.33766102599536635,null,0.3376201163210891,0.39264408633563297,null,0.592148254332471,0.24094836716978058,null,0.592148254332471,0.39264408633563297,null,0.592148254332471,0.8476541328046844,null,0.592148254332471,0.8145463845255957,null,0.592148254332471,0.7776497573822431,null,0.592148254332471,0.7728654646827213,null,0.7578063271575693,0.7776497573822431,null,0.7578063271575693,0.7728654646827213,null,0.7578063271575693,0.39264408633563297,null,0.7578063271575693,0.8476541328046844,null,0.7578063271575693,0.9498828067957383,null,0.7578063271575693,0.9465286588671532,null,0.7578063271575693,0.890340616022725,null,0.7663052220361436,0.890340616022725,null,0.7663052220361436,0.39264408633563297,null,0.7663052220361436,0.8476541328046844,null,0.7663052220361436,0.9551930883369856,null,0.7663052220361436,0.9425575823814565,null,0.7663052220361436,0.8857536344608843,null,0.7629986487679815,0.8857536344608843,null,0.7629986487679815,0.39264408633563297,null,0.7629986487679815,0.8476541328046844,null,0.7629986487679815,0.9381132817489833,null,0.7629986487679815,0.9330147912662236,null,0.7629986487679815,0.9008243448663431,null,0.7948412788160474,0.9008243448663431,null,0.7948412788160474,0.9935694221313939,null,0.7948412788160474,1.0,null,0.7948412788160474,0.39264408633563297,null,0.7948412788160474,0.7006069318449971,null,0.7948412788160474,0.8476541328046844,null,0.7948412788160474,0.9733127543109936,null,0.4853563181832835,0.7006069318449971,null,0.4853563181832835,0.16978988333857564,null,0.4853563181832835,0.39264408633563297,null,0.4853563181832835,0.4886210803008048,null,0.4853563181832835,0.6046666102020072,null,0.4853563181832835,0.6696517278627137,null,0.4084789857666457,0.16978988333857564,null,0.4084789857666457,0.39264408633563297,null,0.4084789857666457,0.4886210803008048,null,0.4084789857666457,0.5420856607617637,null,0.4084789857666457,0.526880073484041,null,0.4084789857666457,0.4337076706653847,null,0.3051056196213036,0.4337076706653847,null,0.3051056196213036,0.16978988333857564,null,0.3051056196213036,0.39264408633563297,null,0.3051056196213036,0.42460402043196016,null,0.3051056196213036,0.4886210803008048,null,0.3051056196213036,0.0168243537751598,null,0.3051056196213036,0.3530724155019121,null,0.3051056196213036,0.3067062167150928,null,0.4461870432227187,0.42460402043196016,null,0.4461870432227187,0.4886210803008048,null,0.4461870432227187,0.39264408633563297,null,0.4461870432227187,0.3530724155019121,null,0.4461870432227187,0.4337076706653847,null,0.4461870432227187,0.3755341574286127,null,0.18189537781882606,0.0168243537751598,null,0.18189537781882606,0.16978988333857564,null,0.18189537781882606,0.39264408633563297,null,0.18189537781882606,-0.0394844437302948,null,0.24764952761925482,-0.0394844437302948,null,0.24764952761925482,0.39264408633563297,null,0.24764952761925482,0.3785803601804319,null,0.24764952761925482,0.4027734624762913,null,0.24764952761925482,0.28459697583497806,null,0.24764952761925482,0.2727140929180781,null,0.42985772296696395,0.3785803601804319,null,0.42985772296696395,0.4027734624762913,null,0.42985772296696395,0.39264408633563297,null,0.42985772296696395,0.51097390158184,null,0.42985772296696395,0.28459697583497806,null,0.42985772296696395,0.3494231623233391,null,0.4200983551036515,0.51097390158184,null,0.4200983551036515,0.39264408633563297,null,0.4200983551036515,0.34007825777864736,null,0.4200983551036515,0.28459697583497806,null,0.4200983551036515,0.3521398981240722,null,0.19599113283615952,0.34007825777864736,null,0.19599113283615952,-0.07966249592768988,null,0.19599113283615952,0.39264408633563297,null,0.19599113283615952,0.2817282591630841,null,0.19599113283615952,0.2290672053722911,null,0.19599113283615952,0.17098607832980156,null,0.339678955048626,0.34007825777864736,null,0.339678955048626,0.2817282591630841,null,0.339678955048626,0.39264408633563297,null,0.339678955048626,0.28459697583497806,null,0.339678955048626,0.30314480658340237,null,0.339678955048626,0.2290672053722911,null,0.23788912563289866,0.0168243537751598,null,0.23788912563289866,0.3530724155019121,null,0.23788912563289866,0.3067062167150928,null,0.23788912563289866,0.3755341574286127,null,0.23788912563289866,-0.0394844437302948,null,0.23788912563289866,0.28459697583497806,null,0.23788912563289866,0.2727140929180781,null,0.23788912563289866,0.3494231623233391,null,0.23788912563289866,0.3521398981240722,null,0.23788912563289866,0.30314480658340237,null,0.23788912563289866,0.39264408633563297,null,0.23788912563289866,0.2257683628729685,null,0.23788912563289866,0.2159882180893741,null,0.23788912563289866,0.29021526389588637,null,0.23788912563289866,0.284546478906286,null,0.23788912563289866,0.2818104997341645,null,0.16859416075770534,0.2290672053722911,null,0.16859416075770534,0.17098607832980156,null,0.16859416075770534,0.28459697583497806,null,0.16859416075770534,0.2257683628729685,null,0.16859416075770534,-0.07966249592768988,null,0.16859416075770534,0.39264408633563297,null,0.16859416075770534,0.1278736267269784,null,0.16064785522105274,0.28459697583497806,null,0.16064785522105274,0.2159882180893741,null,0.16064785522105274,0.1278736267269784,null,0.16064785522105274,-0.07966249592768988,null,0.16064785522105274,0.39264408633563297,null,0.16064785522105274,0.14416820102810224,null,0.16064785522105274,0.17541540341001066,null,0.19122052599824063,0.29021526389588637,null,0.19122052599824063,0.284546478906286,null,0.19122052599824063,0.28459697583497806,null,0.19122052599824063,0.14416820102810224,null,0.19122052599824063,0.17541540341001066,null,0.19122052599824063,-0.07966249592768988,null,0.19122052599824063,0.39264408633563297,null,0.19122052599824063,0.23297558918712397,null,0.23864836586683005,0.29021526389588637,null,0.23864836586683005,0.2818104997341645,null,0.23864836586683005,0.23297558918712397,null,0.23864836586683005,-0.04683413978718365,null,0.23864836586683005,0.39264408633563297,null,0.23864836586683005,0.3381555087128682,null,0.23864836586683005,0.3693601482932285,null,0.23864836586683005,0.2948145203061778,null,0.37676612337277876,0.29021526389588637,null,0.37676612337277876,0.3381555087128682,null,0.37676612337277876,0.3693601482932285,null,0.37676612337277876,0.39264408633563297,null,0.37676612337277876,0.2948145203061778,null,0.37676612337277876,0.357764278163943,null,0.1857289283092156,0.2948145203061778,null,0.1857289283092156,-0.04683413978718365,null,0.1857289283092156,0.07308209713729541,null,0.1857289283092156,0.05496295788125926,null,0.1857289283092156,0.08692403226667314,null,0.1857289283092156,0.05098158573462091,null,0.1857289283092156,0.39264408633563297,null,0.1857289283092156,0.26028746609944997,null,0.1857289283092156,0.29021526389588637,null,0.1857289283092156,0.2878322743323448,null,0.21167352061547523,0.26028746609944997,null,0.21167352061547523,-0.04683413978718365,null,0.21167352061547523,0.12236202959199156,null,0.21167352061547523,0.11266574038322291,null,0.21167352061547523,0.13936358744703267,null,0.21167352061547523,0.1297568843444161,null,0.21167352061547523,0.09490224639278136,null,0.21167352061547523,0.39264408633563297,null,0.21167352061547523,0.38553666822235944,null,0.21167352061547523,0.40526142641285007,null,0.21167352061547523,0.021568315887034322,null,0.21167352061547523,0.29021526389588637,null,0.21167352061547523,0.31818748663224905,null,0.4575742449289846,0.40526142641285007,null,0.4575742449289846,0.38553666822235944,null,0.4575742449289846,0.39264408633563297,null,0.4575742449289846,0.6019732634987939,null,0.4575742449289846,0.29021526389588637,null,0.4575742449289846,0.3912954740694195,null,0.20178885188775764,0.021568315887034322,null,0.20178885188775764,0.18868769234530416,null,0.20178885188775764,0.01698455985455612,null,0.20178885188775764,0.39264408633563297,null,0.24355716295890692,0.29021526389588637,null,0.24355716295890692,0.357764278163943,null,0.24355716295890692,0.2878322743323448,null,0.24355716295890692,0.31818748663224905,null,0.24355716295890692,0.3912954740694195,null,0.24355716295890692,0.021568315887034322,null,0.24355716295890692,0.01698455985455612,null,0.24355716295890692,0.39264408633563297,null],\"y\":[0.06831273766575827,0.25647757479694516,null,0.06831273766575827,-0.17405262889842132,null,0.06831273766575827,0.20325781870243645,null,0.06831273766575827,-0.015841500507689572,null,0.05942666221704571,0.20325781870243645,null,0.05942666221704571,-0.11881462922543878,null,0.05942666221704571,0.16667600855785938,null,0.05942666221704571,0.023952323176357475,null,0.05942666221704571,0.012738164172345273,null,0.05942666221704571,-0.12347538788796517,null,0.05942666221704571,0.11511328688626149,null,0.05942666221704571,0.06959503462540752,null,0.05942666221704571,-0.048566278894910116,null,0.05942666221704571,-0.17405262889842132,null,0.05942666221704571,-0.04256403191947222,null,0.05942666221704571,0.06994761784649452,null,0.05942666221704571,0.21089319755664834,null,0.05942666221704571,0.06472916455345057,null,0.05942666221704571,0.11257634549905426,null,0.05942666221704571,0.033158619528507426,null,0.05942666221704571,0.0655451568937087,null,0.05942666221704571,0.03341072432969005,null,0.05942666221704571,0.10684404725488655,null,0.05942666221704571,0.2392560887574125,null,0.05942666221704571,0.1169102884914761,null,0.05942666221704571,0.17471514920749712,null,0.05942666221704571,0.16546180900415414,null,0.05942666221704571,-0.006437070991876386,null,0.05942666221704571,0.13973343815851758,null,0.05942666221704571,0.04175264456534318,null,0.05942666221704571,0.10446908914945444,null,0.05942666221704571,0.12093073440259604,null,0.05942666221704571,0.10256026578310612,null,0.05942666221704571,0.14806812295496757,null,0.05942666221704571,-0.015841500507689572,null,0.05942666221704571,0.20303608342826465,null,0.05942666221704571,-0.10464276024718189,null,-0.3231040457167347,-0.17405262889842132,null,-0.3231040457167347,-0.5009207688967651,null,-0.3231040457167347,-0.400465501023681,null,-0.3231040457167347,-0.384329750163818,null,-0.3231040457167347,-0.1391251515936017,null,-0.3231040457167347,-0.34712216868484136,null,-0.3231040457167347,-0.34092473604778833,null,-0.3231040457167347,-0.36287283018224575,null,-0.412583319331541,-0.5009207688967651,null,-0.412583319331541,-0.17405262889842132,null,-0.412583319331541,-0.5724102082691529,null,-0.412583319331541,-0.400465501023681,null,-0.412583319331541,-0.4447615960708613,null,-0.412583319331541,-0.4622340100202637,null,-0.412583319331541,-0.34712216868484136,null,-0.4122653061604301,-0.5724102082691529,null,-0.4122653061604301,-0.17405262889842132,null,-0.4122653061604301,-0.5577506122508701,null,-0.4122653061604301,-0.400465501023681,null,-0.4122653061604301,-0.4462787456742598,null,-0.4122653061604301,-0.43760173093496824,null,-0.4122653061604301,-0.34712216868484136,null,-0.4122653061604301,-0.4043126861101037,null,-0.4122653061604301,-0.3782302577299946,null,-0.4122653061604301,-0.36109366978836555,null,-0.4122653061604301,-0.3395054246677973,null,-0.3956787289937557,-0.5577506122508701,null,-0.3956787289937557,-0.17405262889842132,null,-0.3956787289937557,-0.400465501023681,null,-0.3956787289937557,-0.4128033889763223,null,-0.3956787289937557,-0.4314460812098078,null,-0.3956787289937557,-0.34712216868484136,null,-0.3956787289937557,-0.4844019383145751,null,-0.268729960637099,-0.04256403191947222,null,-0.268729960637099,-0.400465501023681,null,-0.268729960637099,-0.384329750163818,null,-0.268729960637099,-0.1391251515936017,null,-0.268729960637099,-0.34712216868484136,null,-0.268729960637099,-0.34092473604778833,null,-0.268729960637099,-0.36287283018224575,null,-0.268729960637099,-0.4447615960708613,null,-0.268729960637099,-0.4622340100202637,null,-0.268729960637099,-0.4462787456742598,null,-0.268729960637099,-0.43760173093496824,null,-0.268729960637099,-0.4043126861101037,null,-0.268729960637099,-0.3782302577299946,null,-0.268729960637099,-0.36109366978836555,null,-0.268729960637099,-0.3395054246677973,null,-0.268729960637099,-0.4128033889763223,null,-0.268729960637099,-0.4314460812098078,null,-0.268729960637099,-0.19108389122506506,null,-0.268729960637099,-0.1975691642562972,null,-0.268729960637099,-0.3491190921641673,null,-0.268729960637099,-0.29674987547568527,null,-0.268729960637099,-0.3396565179285819,null,-0.268729960637099,-0.17405262889842132,null,-0.268729960637099,-0.372935513644862,null,-0.268729960637099,-0.38030255538521,null,-0.268729960637099,-0.1904656230809716,null,-0.268729960637099,-0.3111646014602402,null,-0.268729960637099,-0.299244265683661,null,-0.268729960637099,-0.07457284912370388,null,-0.268729960637099,-0.1265229842824183,null,-0.268729960637099,-0.08414507513076,null,-0.268729960637099,-0.14431863607490744,null,-0.268729960637099,-0.1253254367334451,null,-0.268729960637099,-0.14402485957465164,null,-0.268729960637099,-0.0650855632345186,null,-0.268729960637099,-0.08283854976657264,null,-0.268729960637099,-0.27139631759013244,null,-0.268729960637099,-0.28592534384212,null,-0.268729960637099,-0.2888508209632631,null,-0.33123342336432027,-0.4844019383145751,null,-0.33123342336432027,-0.1975691642562972,null,-0.33123342336432027,-0.400465501023681,null,-0.33123342336432027,-0.372935513644862,null,-0.33123342336432027,-0.38030255538521,null,-0.33123342336432027,-0.1904656230809716,null,-0.33123342336432027,-0.34712216868484136,null,-0.33123342336432027,-0.3111646014602402,null,-0.33123342336432027,-0.299244265683661,null,-0.33123342336432027,-0.4139039231722675,null,-0.33123342336432027,-0.45738093577720507,null,-0.33123342336432027,-0.17405262889842132,null,-0.06125105073473976,-0.07457284912370388,null,-0.06125105073473976,-0.1265229842824183,null,-0.06125105073473976,-0.08414507513076,null,-0.06125105073473976,-0.14431863607490744,null,-0.06125105073473976,-0.1975691642562972,null,-0.06125105073473976,-0.1904656230809716,null,-0.06125105073473976,0.1466122806543426,null,-0.06125105073473976,0.014364761098953861,null,-0.06125105073473976,-0.17405262889842132,null,-0.06125105073473976,0.025458280194222555,null,-0.043820136356690464,-0.07457284912370388,null,-0.043820136356690464,-0.1253254367334451,null,-0.043820136356690464,-0.08414507513076,null,-0.043820136356690464,-0.14402485957465164,null,-0.043820136356690464,0.1466122806543426,null,-0.043820136356690464,0.009879541235724433,null,-0.043820136356690464,-0.17405262889842132,null,-0.043820136356690464,-0.0650855632345186,null,-0.043820136356690464,-0.08283854976657264,null,-0.043820136356690464,0.010061980965961751,null,0.03247261839756411,-0.04256403191947222,null,0.03247261839756411,0.06994761784649452,null,0.03247261839756411,0.21089319755664834,null,0.03247261839756411,0.06472916455345057,null,0.03247261839756411,0.11257634549905426,null,0.03247261839756411,-0.0650855632345186,null,0.03247261839756411,-0.08283854976657264,null,0.03247261839756411,0.1466122806543426,null,0.03247261839756411,-0.17405262889842132,null,0.03247261839756411,0.09333978435606373,null,0.03247261839756411,-0.07457284912370388,null,0.03247261839756411,0.07116286641100221,null,0.03247261839756411,-0.08414507513076,null,-0.018679241637976657,-0.04256403191947222,null,-0.018679241637976657,0.033158619528507426,null,-0.018679241637976657,0.06472916455345057,null,-0.018679241637976657,0.0655451568937087,null,-0.018679241637976657,-0.0650855632345186,null,-0.018679241637976657,-0.08283854976657264,null,-0.018679241637976657,0.09333978435606373,null,-0.018679241637976657,-0.07457284912370388,null,-0.018679241637976657,0.07116286641100221,null,-0.018679241637976657,-0.08414507513076,null,-0.018679241637976657,-0.17405262889842132,null,0.08346196855753019,0.21089319755664834,null,0.08346196855753019,0.1466122806543426,null,0.08346196855753019,-0.17405262889842132,null,0.08346196855753019,0.2392560887574125,null,0.07077173659419517,0.03341072432969005,null,0.07077173659419517,0.10684404725488655,null,0.07077173659419517,0.2392560887574125,null,0.07077173659419517,0.1169102884914761,null,0.07077173659419517,0.17471514920749712,null,0.07077173659419517,0.16546180900415414,null,0.07077173659419517,-0.17405262889842132,null,0.07077173659419517,0.01934214861206993,null,-0.05700350526703259,0.03341072432969005,null,-0.05700350526703259,-0.006437070991876386,null,-0.05700350526703259,0.1169102884914761,null,-0.05700350526703259,0.01934214861206993,null,-0.05700350526703259,-0.17405262889842132,null,-0.05700350526703259,-0.06803000164663728,null,-0.0054177206035935285,0.13973343815851758,null,-0.0054177206035935285,0.03341072432969005,null,-0.0054177206035935285,0.04175264456534318,null,-0.0054177206035935285,0.10446908914945444,null,-0.0054177206035935285,0.1169102884914761,null,-0.0054177206035935285,0.12093073440259604,null,-0.0054177206035935285,-0.06803000164663728,null,-0.0054177206035935285,-0.17405262889842132,null,0.08254025300433632,0.20325781870243645,null,0.08254025300433632,0.11511328688626149,null,0.08254025300433632,0.10256026578310612,null,0.08254025300433632,0.06959503462540752,null,0.08254025300433632,0.1169102884914761,null,0.08254025300433632,0.14806812295496757,null,0.08254025300433632,0.13973343815851758,null,0.08254025300433632,0.10446908914945444,null,0.08254025300433632,-0.17405262889842132,null,0.08254025300433632,0.2093258526117006,null,0.08254025300433632,0.24945663061851608,null,0.1873989314803955,0.13973343815851758,null,0.1873989314803955,0.2093258526117006,null,0.1873989314803955,0.24945663061851608,null,0.1873989314803955,0.20325781870243645,null,0.1873989314803955,0.34084117324950197,null,0.1873989314803955,0.3458901734799121,null,0.1873989314803955,-0.17405262889842132,null,-0.1051677369861396,0.023952323176357475,null,-0.1051677369861396,0.012738164172345273,null,-0.1051677369861396,-0.17405262889842132,null,-0.138224567802746,-0.015841500507689572,null,-0.138224567802746,-0.048566278894910116,null,-0.138224567802746,-0.045057469527083546,null,-0.138224567802746,-0.22962025673132988,null,-0.138224567802746,-0.10464276024718189,null,-0.138224567802746,-0.16925045856490203,null,-0.138224567802746,-0.17405262889842132,null,-0.138224567802746,-0.17905512141420132,null,-0.138224567802746,-0.3494725983939492,null,-0.138224567802746,-0.11881462922543878,null,-0.18069424820764401,-0.22962025673132988,null,-0.18069424820764401,-0.17905512141420132,null,-0.18069424820764401,-0.045057469527083546,null,-0.18069424820764401,-0.10244138786356467,null,-0.18069424820764401,-0.13919047419405742,null,-0.18069424820764401,-0.2804141807316009,null,-0.18069424820764401,-0.17405262889842132,null,-0.18069424820764401,-0.28912775868693164,null,-0.18069424820764401,-0.32533188902698856,null,-0.18069424820764401,-0.21946649091787748,null,-0.18069424820764401,-0.23900820159528996,null,-0.18069424820764401,-0.19133181545636682,null,-0.21585059749307486,-0.2804141807316009,null,-0.21585059749307486,-0.045057469527083546,null,-0.21585059749307486,-0.2164606279325722,null,-0.21585059749307486,-0.2060349543874208,null,-0.21585059749307486,-0.16784270626836406,null,-0.21585059749307486,-0.18143497714993784,null,-0.21585059749307486,-0.3494725983939492,null,-0.21585059749307486,-0.17405262889842132,null,-0.21585059749307486,-0.28912775868693164,null,-0.21585059749307486,-0.3988195558985756,null,-0.21585059749307486,-0.36833104765087094,null,-0.21585059749307486,-0.3650780874076365,null,-0.21585059749307486,-0.14938477167070868,null,-0.21585059749307486,-0.1604977866631172,null,-0.21585059749307486,-0.12347538788796517,null,-0.2690698181191182,-0.22962025673132988,null,-0.2690698181191182,-0.28912775868693164,null,-0.2690698181191182,-0.32533188902698856,null,-0.2690698181191182,-0.21946649091787748,null,-0.2690698181191182,-0.23900820159528996,null,-0.2690698181191182,-0.3494725983939492,null,-0.2690698181191182,-0.17405262889842132,null,-0.2690698181191182,-0.2804141807316009,null,-0.3272708597364555,-0.28912775868693164,null,-0.3272708597364555,-0.3988195558985756,null,-0.3272708597364555,-0.2804141807316009,null,-0.3272708597364555,-0.3494725983939492,null,-0.3272708597364555,-0.17405262889842132,null,-0.3272708597364555,-0.427289633318164,null,-0.4067371977430232,-0.36833104765087094,null,-0.4067371977430232,-0.3494725983939492,null,-0.4067371977430232,-0.17405262889842132,null,-0.4067371977430232,-0.4279814479692936,null,-0.4067371977430232,-0.44908668853251665,null,-0.4067371977430232,-0.525278507266907,null,-0.4067371977430232,-0.5404281145335448,null,-0.4067371977430232,-0.3970981707170666,null,-0.4067371977430232,-0.44862661840507834,null,-0.2494617441858991,-0.36833104765087094,null,-0.2494617441858991,-0.4279814479692936,null,-0.2494617441858991,-0.44908668853251665,null,-0.2494617441858991,-0.045057469527083546,null,-0.2494617441858991,-0.17405262889842132,null,-0.2494617441858991,-0.09393423873723,null,-0.35698702835823154,-0.525278507266907,null,-0.35698702835823154,-0.5404281145335448,null,-0.35698702835823154,-0.4279814479692936,null,-0.35698702835823154,-0.5581321940999865,null,-0.35698702835823154,-0.17405262889842132,null,-0.35698702835823154,-0.312301125574439,null,-0.35698702835823154,-0.09393423873723,null,-0.44141693706192364,-0.525278507266907,null,-0.44141693706192364,-0.3970981707170666,null,-0.44141693706192364,-0.5581321940999865,null,-0.44141693706192364,-0.312301125574439,null,-0.44141693706192364,-0.3494725983939492,null,-0.44141693706192364,-0.6670924952173463,null,-0.44141693706192364,-0.17405262889842132,null,-0.44141693706192364,-0.4673134359147566,null,-0.44141693706192364,-0.39649148593873,null,-0.44141693706192364,-0.3957569717594388,null,-0.44141693706192364,-0.5518979703616873,null,-0.12380819999982927,-0.09393423873723,null,-0.12380819999982927,-0.045057469527083546,null,-0.12380819999982927,-0.06579474841140363,null,-0.12380819999982927,-0.15446952380615117,null,-0.12380819999982927,-0.17405262889842132,null,-0.26956689971389164,-0.3494725983939492,null,-0.26956689971389164,-0.11881462922543878,null,-0.26956689971389164,-0.3650780874076365,null,-0.26956689971389164,-0.427289633318164,null,-0.26956689971389164,-0.44862661840507834,null,-0.26956689971389164,-0.4673134359147566,null,-0.26956689971389164,-0.09393423873723,null,-0.26956689971389164,-0.06579474841140363,null,-0.26956689971389164,-0.17405262889842132,null,-0.2806364349843153,-0.1391251515936017,null,-0.2806364349843153,-0.19108389122506506,null,-0.2806364349843153,-0.3030520405252699,null,-0.2806364349843153,-0.42885744679758453,null,-0.2806364349843153,-0.17405262889842132,null,-0.15201251124890477,-0.1391251515936017,null,-0.15201251124890477,-0.19108389122506506,null,-0.15201251124890477,-0.11017348078879105,null,-0.15201251124890477,-0.12347538788796517,null,-0.28147044086147605,-0.1391251515936017,null,-0.28147044086147605,-0.34712216868484136,null,-0.28147044086147605,-0.34092473604778833,null,-0.28147044086147605,-0.12347538788796517,null,-0.28147044086147605,-0.47739793502456573,null,-0.3824626797236349,-0.34712216868484136,null,-0.3824626797236349,-0.36287283018224575,null,-0.3824626797236349,-0.47739793502456573,null,-0.3824626797236349,-0.12347538788796517,null,-0.3824626797236349,-0.5749016868117022,null,-0.4606094285790759,-0.34712216868484136,null,-0.4606094285790759,-0.4043126861101037,null,-0.4606094285790759,-0.5749016868117022,null,-0.4606094285790759,-0.6777566096239537,null,-0.4606094285790759,-0.6535722390494908,null,-0.4606094285790759,-0.12347538788796517,null,-0.4606094285790759,-0.5655812722117448,null,-0.3858422193813191,-0.34712216868484136,null,-0.3858422193813191,-0.3782302577299946,null,-0.3858422193813191,-0.5655812722117448,null,-0.3858422193813191,-0.12347538788796517,null,-0.3858422193813191,-0.500934845082236,null,-0.35306212785292174,-0.34712216868484136,null,-0.35306212785292174,-0.36109366978836555,null,-0.35306212785292174,-0.500934845082236,null,-0.35306212785292174,-0.12347538788796517,null,-0.35306212785292174,-0.4521706559817612,null,-0.3251598278717705,-0.34712216868484136,null,-0.3251598278717705,-0.3395054246677973,null,-0.3251598278717705,-0.4521706559817612,null,-0.3251598278717705,-0.12347538788796517,null,-0.3251598278717705,-0.40008716709249353,null,-0.29459583238513537,-0.34712216868484136,null,-0.29459583238513537,-0.3111646014602402,null,-0.29459583238513537,-0.40008716709249353,null,-0.29459583238513537,-0.12347538788796517,null,-0.29459583238513537,-0.34912381810743204,null,-0.26839207654246044,-0.1904656230809716,null,-0.26839207654246044,-0.34712216868484136,null,-0.26839207654246044,-0.299244265683661,null,-0.26839207654246044,-0.34912381810743204,null,-0.26839207654246044,-0.3369763579112201,null,-0.26839207654246044,-0.33626991815912305,null,-0.26839207654246044,-0.12347538788796517,null,-0.04832999486319207,-0.08414507513076,null,-0.04832999486319207,-0.14431863607490744,null,-0.04832999486319207,-0.1904656230809716,null,-0.04832999486319207,0.1466122806543426,null,-0.04832999486319207,0.025458280194222555,null,-0.04832999486319207,-0.12347538788796517,null,-0.037137751882693006,-0.08414507513076,null,-0.037137751882693006,-0.14402485957465164,null,-0.037137751882693006,0.1466122806543426,null,-0.037137751882693006,-0.08283854976657264,null,-0.037137751882693006,0.010061980965961751,null,-0.037137751882693006,-0.12347538788796517,null,0.04121586428754785,0.21089319755664834,null,0.04121586428754785,0.06472916455345057,null,0.04121586428754785,0.11257634549905426,null,0.04121586428754785,-0.08283854976657264,null,0.04121586428754785,0.1466122806543426,null,0.04121586428754785,0.07116286641100221,null,0.04121586428754785,-0.08414507513076,null,0.04121586428754785,-0.12347538788796517,null,-0.0303438168904986,0.06472916455345057,null,-0.0303438168904986,0.0655451568937087,null,-0.0303438168904986,-0.08283854976657264,null,-0.0303438168904986,0.07116286641100221,null,-0.0303438168904986,-0.08414507513076,null,-0.0303438168904986,-0.12347538788796517,null,0.11758276306101184,-0.12347538788796517,null,0.11758276306101184,0.2392560887574125,null,0.11758276306101184,0.21089319755664834,null,0.11758276306101184,0.06472916455345057,null,0.11758276306101184,0.11257634549905426,null,0.11758276306101184,0.0655451568937087,null,0.11758276306101184,0.1169102884914761,null,0.11758276306101184,0.17471514920749712,null,0.11758276306101184,0.16546180900415414,null,0.11758276306101184,0.12093073440259604,null,0.11758276306101184,0.20303608342826465,null,0.11758276306101184,0.023952323176357475,null,0.11758276306101184,0.012738164172345273,null,0.11758276306101184,0.30990857196092303,null,0.11758276306101184,0.1871953812203224,null,0.11758276306101184,0.07985386532635687,null,0.11758276306101184,-0.005812165577938957,null,0.09980583419994335,0.21089319755664834,null,0.09980583419994335,0.2392560887574125,null,0.09980583419994335,0.1466122806543426,null,0.09980583419994335,-0.12347538788796517,null,0.14792342081723178,0.2392560887574125,null,0.14792342081723178,0.1169102884914761,null,0.14792342081723178,0.17471514920749712,null,0.14792342081723178,-0.12347538788796517,null,0.14792342081723178,0.2866999604594031,null,0.16680593506378788,0.10446908914945444,null,0.16680593506378788,0.1169102884914761,null,0.16680593506378788,0.16546180900415414,null,0.16680593506378788,0.12093073440259604,null,0.16680593506378788,0.3458901734799121,null,0.16680593506378788,0.2866999604594031,null,0.16680593506378788,-0.12347538788796517,null,0.16680593506378788,0.18280075075420654,null,0.16680593506378788,0.21453753983819218,null,0.0930357606750066,0.10446908914945444,null,0.0930357606750066,0.1169102884914761,null,0.0930357606750066,0.2093258526117006,null,0.0930357606750066,0.1871953812203224,null,0.0930357606750066,-0.12347538788796517,null,0.0930357606750066,0.18280075075420654,null,0.0930357606750066,0.21453753983819218,null,0.18335485278584698,0.1169102884914761,null,0.18335485278584698,0.20303608342826465,null,0.18335485278584698,0.3458901734799121,null,0.18335485278584698,0.21453753983819218,null,0.18335485278584698,-0.12347538788796517,null,0.18335485278584698,0.3028566734979042,null,0.16782292392533515,0.1169102884914761,null,0.16782292392533515,0.3028566734979042,null,0.16782292392533515,0.3458901734799121,null,0.16782292392533515,-0.12347538788796517,null,0.16782292392533515,0.07985386532635687,null,0.16782292392533515,0.220765273873051,null,0.18322243924785395,0.07985386532635687,null,0.18322243924785395,0.220765273873051,null,0.18322243924785395,0.33301231621452115,null,0.18322243924785395,0.33466019551363435,null,0.18322243924785395,0.3458901734799121,null,0.18322243924785395,-0.12347538788796517,null,0.18322243924785395,0.03408002189154647,null,-0.04346819278318063,-0.048566278894910116,null,-0.04346819278318063,-0.045057469527083546,null,-0.04346819278318063,0.03408002189154647,null,-0.04346819278318063,-0.12347538788796517,null,-0.04346819278318063,-0.06670348805615389,null,-0.04346819278318063,-0.09555883955974329,null,-0.04346819278318063,0.01451097388938063,null,-0.14273798729166856,-0.19133181545636682,null,-0.14273798729166856,-0.06670348805615389,null,-0.14273798729166856,-0.09555883955974329,null,-0.14273798729166856,-0.12347538788796517,null,-0.14273798729166856,-0.21946649091787748,null,-0.14273798729166856,-0.2044130545845644,null,-0.14962613694624075,-0.21946649091787748,null,-0.14962613694624075,-0.23900820159528996,null,-0.14962613694624075,-0.14938477167070868,null,-0.14962613694624075,-0.12347538788796517,null,-0.14962613694624075,-0.16801601520942022,null,-0.14962613694624075,-0.06670348805615389,null,-0.20445776581958058,-0.10464276024718189,null,-0.20445776581958058,-0.21946649091787748,null,-0.20445776581958058,-0.12347538788796517,null,-0.20445776581958058,-0.23475596450014458,null,-0.20445776581958058,-0.270920511175934,null,-0.20445776581958058,-0.16925045856490203,null,-0.05542426226517757,-0.045057469527083546,null,-0.05542426226517757,-0.14938477167070868,null,-0.05542426226517757,-0.1604977866631172,null,-0.05542426226517757,0.01451097388938063,null,-0.05542426226517757,-0.06670348805615389,null,-0.05542426226517757,-0.006450909511429738,null,-0.05542426226517757,0.019159317114474765,null,-0.05542426226517757,-0.12347538788796517,null,-0.1087657222851832,-0.12347538788796517,null,-0.1087657222851832,-0.045057469527083546,null,-0.1087657222851832,-0.14938477167070868,null,-0.1087657222851832,-0.1604977866631172,null,-0.1087657222851832,-0.04889619823574359,null,-0.1087657222851832,-0.062226738590315835,null,-0.1087657222851832,-0.09418345424814008,null,-0.1087657222851832,-0.12172595549560761,null,-0.1087657222851832,-0.20303059795118075,null,-0.1087657222851832,-0.14730739199627552,null,-0.1087657222851832,-0.18026793086884693,null,-0.18867491719063378,-0.045057469527083546,null,-0.18867491719063378,-0.20303059795118075,null,-0.18867491719063378,-0.16131292364750446,null,-0.18867491719063378,-0.12347538788796517,null,-0.18867491719063378,-0.2885979436059596,null,-0.18867491719063378,-0.312301125574439,null,-0.18867491719063378,-0.2914156120316533,null,-0.18069713731421364,-0.045057469527083546,null,-0.18069713731421364,-0.09393423873723,null,-0.18069713731421364,-0.312301125574439,null,-0.18069713731421364,-0.2885979436059596,null,-0.18069713731421364,-0.16837424122518413,null,-0.18069713731421364,-0.14569941480803134,null,-0.18069713731421364,-0.1842106077376507,null,-0.18069713731421364,-0.12347538788796517,null,-0.18069713731421364,-0.27570503245043415,null,-0.3678595934183686,-0.3970981707170666,null,-0.3678595934183686,-0.312301125574439,null,-0.3678595934183686,-0.39649148593873,null,-0.3678595934183686,-0.3957569717594388,null,-0.3678595934183686,-0.5518979703616873,null,-0.3678595934183686,-0.12347538788796517,null,-0.10162313608046596,-0.09393423873723,null,-0.10162313608046596,-0.06579474841140363,null,-0.10162313608046596,-0.06646577762849704,null,-0.10162313608046596,-0.12347538788796517,null,-0.17306444895555473,-0.12347538788796517,null,-0.17306444895555473,-0.048566278894910116,null,-0.17306444895555473,-0.10464276024718189,null,-0.17306444895555473,-0.28912775868693164,null,-0.17306444895555473,-0.21946649091787748,null,-0.17306444895555473,-0.23900820159528996,null,-0.17306444895555473,-0.2804141807316009,null,-0.17306444895555473,-0.3970981707170666,null,-0.17306444895555473,-0.39649148593873,null,-0.17306444895555473,-0.3957569717594388,null,-0.17306444895555473,0.07985386532635687,null,-0.17306444895555473,-0.005812165577938957,null,-0.17306444895555473,-0.09555883955974329,null,-0.17306444895555473,-0.2044130545845644,null,-0.17306444895555473,-0.23475596450014458,null,-0.17306444895555473,-0.270920511175934,null,-0.17306444895555473,-0.16925045856490203,null,-0.17306444895555473,-0.20303059795118075,null,-0.17306444895555473,-0.14938477167070868,null,-0.17306444895555473,-0.14730739199627552,null,-0.17306444895555473,-0.18026793086884693,null,-0.17306444895555473,-0.312301125574439,null,-0.17306444895555473,-0.2914156120316533,null,-0.17306444895555473,-0.27570503245043415,null,-0.17306444895555473,-0.09393423873723,null,-0.17306444895555473,-0.06579474841140363,null,-0.17306444895555473,0.03408002189154647,null,-0.2435900398507989,-0.1391251515936017,null,-0.2435900398507989,-0.34712216868484136,null,-0.2435900398507989,-0.34092473604778833,null,-0.2435900398507989,-0.36287283018224575,null,-0.2435900398507989,-0.4043126861101037,null,-0.2435900398507989,-0.3782302577299946,null,-0.2435900398507989,-0.36109366978836555,null,-0.2435900398507989,-0.3395054246677973,null,-0.2435900398507989,-0.19108389122506506,null,-0.2435900398507989,-0.08283854976657264,null,-0.2435900398507989,-0.1904656230809716,null,-0.2435900398507989,-0.08414507513076,null,-0.2435900398507989,-0.14402485957465164,null,-0.2435900398507989,-0.14431863607490744,null,-0.2435900398507989,-0.27139631759013244,null,-0.2435900398507989,-0.28592534384212,null,-0.2435900398507989,-0.2888508209632631,null,-0.2435900398507989,-0.3111646014602402,null,-0.2435900398507989,-0.299244265683661,null,-0.2435900398507989,-0.12347538788796517,null,0.02789177058174185,-0.19108389122506506,null,0.02789177058174185,-0.1391251515936017,null,0.02789177058174185,-0.11017348078879105,null,0.02789177058174185,0.34537057372956675,null,0.14883918176701527,-0.1391251515936017,null,0.14883918176701527,0.34537057372956675,null,0.14883918176701527,0.31051387657007784,null,0.14883918176701527,0.1906751450014839,null,0.14883918176701527,0.212567631792597,null,0.14883918176701527,0.1932927929671806,null,0.30646052765674126,0.212567631792597,null,0.30646052765674126,0.1932927929671806,null,0.30646052765674126,0.34537057372956675,null,0.30646052765674126,0.31051387657007784,null,0.30646052765674126,0.29058014940814064,null,0.30646052765674126,0.3223784745653776,null,0.30646052765674126,0.40044258189254917,null,0.39087544825792203,0.40044258189254917,null,0.39087544825792203,0.34537057372956675,null,0.39087544825792203,0.31051387657007784,null,0.39087544825792203,0.38677753720770586,null,0.39087544825792203,0.4229959127271377,null,0.39087544825792203,0.4696292382560312,null,0.3841063898525385,0.4696292382560312,null,0.3841063898525385,0.34537057372956675,null,0.3841063898525385,0.31051387657007784,null,0.3841063898525385,0.39666776777551105,null,0.3841063898525385,0.35705445714673195,null,0.3841063898525385,0.4439108912263765,null,0.3907574019144891,0.4439108912263765,null,0.3907574019144891,0.4630365014039764,null,0.3907574019144891,0.4087892245540139,null,0.3907574019144891,0.34537057372956675,null,0.3907574019144891,0.40562681776829224,null,0.3907574019144891,0.31051387657007784,null,0.3907574019144891,0.34545367822087475,null,0.3476558399117792,0.40562681776829224,null,0.3476558399117792,0.1466122806543426,null,0.3476558399117792,0.34537057372956675,null,0.3476558399117792,0.4569607985630378,null,0.3476558399117792,0.46816503712252017,null,0.3476558399117792,0.4310350565212626,null,0.38863505803310383,0.1466122806543426,null,0.38863505803310383,0.34537057372956675,null,0.38863505803310383,0.4569607985630378,null,0.38863505803310383,0.510296417316149,null,0.38863505803310383,0.5495640460088367,null,0.38863505803310383,0.49104287545625336,null,0.3800585691411428,0.49104287545625336,null,0.3800585691411428,0.1466122806543426,null,0.3800585691411428,0.34537057372956675,null,0.3800585691411428,0.5432345877247137,null,0.3800585691411428,0.4569607985630378,null,0.3800585691411428,0.21089319755664834,null,0.3800585691411428,0.5199902693779456,null,0.3800585691411428,0.5276959558329463,null,0.49656777167038546,0.5432345877247137,null,0.49656777167038546,0.4569607985630378,null,0.49656777167038546,0.34537057372956675,null,0.49656777167038546,0.5199902693779456,null,0.49656777167038546,0.49104287545625336,null,0.49656777167038546,0.5823337548247374,null,0.26995031194345953,0.21089319755664834,null,0.26995031194345953,0.1466122806543426,null,0.26995031194345953,0.34537057372956675,null,0.26995031194345953,0.2392560887574125,null,0.4805621325058513,0.2392560887574125,null,0.4805621325058513,0.34537057372956675,null,0.4805621325058513,0.6625013865393955,null,0.4805621325058513,0.6347152152394108,null,0.4805621325058513,0.577103676333684,null,0.4805621325058513,0.6058006195010691,null,0.5974463177254818,0.6625013865393955,null,0.5974463177254818,0.6347152152394108,null,0.5974463177254818,0.34537057372956675,null,0.5974463177254818,0.7227489821412192,null,0.5974463177254818,0.577103676333684,null,0.5974463177254818,0.6335046986555173,null,0.5954677669190508,0.7227489821412192,null,0.5954677669190508,0.34537057372956675,null,0.5954677669190508,0.6871318632857099,null,0.5954677669190508,0.577103676333684,null,0.5954677669190508,0.6283513532801887,null,0.5528266406175105,0.6871318632857099,null,0.5528266406175105,0.3458901734799121,null,0.5528266406175105,0.34537057372956675,null,0.5528266406175105,0.7218381446266022,null,0.5528266406175105,0.6809203042478824,null,0.5528266406175105,0.704839194219405,null,0.6032687832440898,0.6871318632857099,null,0.6032687832440898,0.7218381446266022,null,0.6032687832440898,0.34537057372956675,null,0.6032687832440898,0.577103676333684,null,0.6032687832440898,0.6516460607628983,null,0.6032687832440898,0.6809203042478824,null,0.46076837896352013,0.21089319755664834,null,0.46076837896352013,0.5199902693779456,null,0.46076837896352013,0.5276959558329463,null,0.46076837896352013,0.5823337548247374,null,0.46076837896352013,0.2392560887574125,null,0.46076837896352013,0.577103676333684,null,0.46076837896352013,0.6058006195010691,null,0.46076837896352013,0.6335046986555173,null,0.46076837896352013,0.6283513532801887,null,0.46076837896352013,0.6516460607628983,null,0.46076837896352013,0.34537057372956675,null,0.46076837896352013,0.6405876046444299,null,0.46076837896352013,0.6225481026938754,null,0.46076837896352013,0.31599261352300606,null,0.46076837896352013,0.46261038739506033,null,0.46076837896352013,0.4144849516112059,null,0.5433625300770211,0.6809203042478824,null,0.5433625300770211,0.704839194219405,null,0.5433625300770211,0.577103676333684,null,0.5433625300770211,0.6405876046444299,null,0.5433625300770211,0.3458901734799121,null,0.5433625300770211,0.34537057372956675,null,0.5433625300770211,0.6874935845795493,null,0.5166393100206508,0.577103676333684,null,0.5166393100206508,0.6225481026938754,null,0.5166393100206508,0.6874935845795493,null,0.5166393100206508,0.3458901734799121,null,0.5166393100206508,0.34537057372956675,null,0.5166393100206508,0.613562929940228,null,0.5166393100206508,0.6149678422535939,null,0.4572876477935486,0.31599261352300606,null,0.4572876477935486,0.46261038739506033,null,0.4572876477935486,0.577103676333684,null,0.4572876477935486,0.613562929940228,null,0.4572876477935486,0.6149678422535939,null,0.4572876477935486,0.3458901734799121,null,0.4572876477935486,0.34537057372956675,null,0.4572876477935486,0.4668861462856363,null,0.2873678361870985,0.31599261352300606,null,0.2873678361870985,0.4144849516112059,null,0.2873678361870985,0.4668861462856363,null,0.2873678361870985,-0.045057469527083546,null,0.2873678361870985,0.34537057372956675,null,0.2873678361870985,0.4112861028390984,null,0.2873678361870985,0.3903482679988309,null,0.2873678361870985,0.31943626108160483,null,0.37348343098559994,0.31599261352300606,null,0.37348343098559994,0.4112861028390984,null,0.37348343098559994,0.3903482679988309,null,0.37348343098559994,0.34537057372956675,null,0.37348343098559994,0.31943626108160483,null,0.37348343098559994,0.2864702164657483,null,0.18415771669170994,0.31943626108160483,null,0.18415771669170994,-0.045057469527083546,null,0.18415771669170994,0.08663944001740426,null,0.18415771669170994,0.11962788412804318,null,0.18415771669170994,0.08980312784022368,null,0.18415771669170994,0.10022406326166297,null,0.18415771669170994,0.34537057372956675,null,0.18415771669170994,0.17454697226965138,null,0.18415771669170994,0.31599261352300606,null,0.18415771669170994,0.24236183561108177,null,0.11481956097330712,0.17454697226965138,null,0.11481956097330712,-0.045057469527083546,null,0.11481956097330712,0.039104995878828236,null,0.11481956097330712,0.030720885275945464,null,0.11481956097330712,-0.0026914817451732303,null,0.11481956097330712,-0.004244632836199523,null,0.11481956097330712,0.023122589154891227,null,0.11481956097330712,0.34537057372956675,null,0.11481956097330712,0.22920977295568065,null,0.11481956097330712,0.20505723055598393,null,0.11481956097330712,-0.09393423873723,null,0.11481956097330712,0.31599261352300606,null,0.11481956097330712,0.20059430283948984,null,0.32519094291423434,0.20505723055598393,null,0.32519094291423434,0.22920977295568065,null,0.32519094291423434,0.34537057372956675,null,0.32519094291423434,0.40138836928278926,null,0.32519094291423434,0.31599261352300606,null,0.32519094291423434,0.2569234526750079,null,0.07147207237796954,-0.09393423873723,null,0.07147207237796954,-0.06646577762849704,null,0.07147207237796954,-0.06579474841140363,null,0.07147207237796954,0.34537057372956675,null,0.15329040813732947,0.31599261352300606,null,0.15329040813732947,0.2864702164657483,null,0.15329040813732947,0.24236183561108177,null,0.15329040813732947,0.20059430283948984,null,0.15329040813732947,0.2569234526750079,null,0.15329040813732947,-0.09393423873723,null,0.15329040813732947,-0.06579474841140363,null,0.15329040813732947,0.34537057372956675,null],\"z\":[0.24791440442420076,0.41170991367845594,null,0.24791440442420076,0.12962902054808137,null,0.24791440442420076,0.2852862422631666,null,0.24791440442420076,0.07272814348459401,null,0.21355264466260535,0.2852862422631666,null,0.21355264466260535,-0.001776165785876518,null,0.21355264466260535,0.3608312273315808,null,0.21355264466260535,0.2866827314698765,null,0.21355264466260535,0.261666349293297,null,0.21355264466260535,0.046723478439934844,null,0.21355264466260535,0.3589794765394489,null,0.21355264466260535,0.36807494046685824,null,0.21355264466260535,-0.07006506755362872,null,0.21355264466260535,0.12962902054808137,null,0.21355264466260535,0.39822640174023466,null,0.21355264466260535,0.38810570350418044,null,0.21355264466260535,0.12143443111435766,null,0.21355264466260535,0.2831044037381123,null,0.21355264466260535,0.2648925416033834,null,0.21355264466260535,0.41217348327378583,null,0.21355264466260535,0.30288215508369964,null,0.21355264466260535,0.2521013116931456,null,0.21355264466260535,0.26352559331302766,null,0.21355264466260535,0.06639344277096669,null,0.21355264466260535,0.13754470624748572,null,0.21355264466260535,0.17538156803216684,null,0.21355264466260535,0.1714425931265763,null,0.21355264466260535,0.2881895775763782,null,0.21355264466260535,0.2718593470895556,null,0.21355264466260535,0.29853334408691334,null,0.21355264466260535,0.19372920406508906,null,0.21355264466260535,0.1721033182195973,null,0.21355264466260535,0.38678786972685075,null,0.21355264466260535,0.37382816396313956,null,0.21355264466260535,0.07272814348459401,null,0.21355264466260535,0.13822327787341948,null,0.21355264466260535,-0.03869581883676084,null,0.3223961736712837,0.12962902054808137,null,0.3223961736712837,0.36523271788953754,null,0.3223961736712837,0.4972360197616839,null,0.3223961736712837,0.4676168472955775,null,0.3223961736712837,0.2158921861434287,null,0.3223961736712837,0.37727734076684616,null,0.3223961736712837,0.37336666886503306,null,0.3223961736712837,0.36236990289335325,null,0.36006314587644844,0.36523271788953754,null,0.36006314587644844,0.12962902054808137,null,0.36006314587644844,0.43656653915366245,null,0.36006314587644844,0.4972360197616839,null,0.36006314587644844,0.4862716048602116,null,0.36006314587644844,0.49631845184681517,null,0.36006314587644844,0.37727734076684616,null,0.4067375341036129,0.43656653915366245,null,0.4067375341036129,0.12962902054808137,null,0.4067375341036129,0.5044207651191218,null,0.4067375341036129,0.4972360197616839,null,0.4067375341036129,0.5514079501008347,null,0.4067375341036129,0.5533863984952627,null,0.4067375341036129,0.37727734076684616,null,0.4067375341036129,0.43373256973560714,null,0.4067375341036129,0.408162613228216,null,0.4067375341036129,0.4367926591062531,null,0.4067375341036129,0.4406342520149721,null,0.42634866687513856,0.5044207651191218,null,0.42634866687513856,0.12962902054808137,null,0.42634866687513856,0.4972360197616839,null,0.42634866687513856,0.5456366548673062,null,0.42634866687513856,0.5591014826992032,null,0.42634866687513856,0.37727734076684616,null,0.42634866687513856,0.6011560076952294,null,0.4658100795983469,0.39822640174023466,null,0.4658100795983469,0.4972360197616839,null,0.4658100795983469,0.4676168472955775,null,0.4658100795983469,0.2158921861434287,null,0.4658100795983469,0.37727734076684616,null,0.4658100795983469,0.37336666886503306,null,0.4658100795983469,0.36236990289335325,null,0.4658100795983469,0.4862716048602116,null,0.4658100795983469,0.49631845184681517,null,0.4658100795983469,0.5514079501008347,null,0.4658100795983469,0.5533863984952627,null,0.4658100795983469,0.43373256973560714,null,0.4658100795983469,0.408162613228216,null,0.4658100795983469,0.4367926591062531,null,0.4658100795983469,0.4406342520149721,null,0.4658100795983469,0.5456366548673062,null,0.4658100795983469,0.5591014826992032,null,0.4658100795983469,0.26816719783865656,null,0.4658100795983469,0.5678024375405091,null,0.4658100795983469,0.6865582772257731,null,0.4658100795983469,0.697619679847315,null,0.4658100795983469,0.6565560323815058,null,0.4658100795983469,0.12962902054808137,null,0.4658100795983469,0.615922209522808,null,0.4658100795983469,0.6201465401875724,null,0.4658100795983469,0.455406359447109,null,0.4658100795983469,0.4719968183073407,null,0.4658100795983469,0.5058559137544654,null,0.4658100795983469,0.46994547093036726,null,0.4658100795983469,0.5613260294640571,null,0.4658100795983469,0.3677664504552191,null,0.4658100795983469,0.4386777596613303,null,0.4658100795983469,0.522341713634864,null,0.4658100795983469,0.4019768022568635,null,0.4658100795983469,0.4586303488041942,null,0.4658100795983469,0.36305930548217313,null,0.4658100795983469,0.5816915481379984,null,0.4658100795983469,0.5343509319677714,null,0.4658100795983469,0.559968256515462,null,0.5211003785949408,0.6011560076952294,null,0.5211003785949408,0.5678024375405091,null,0.5211003785949408,0.4972360197616839,null,0.5211003785949408,0.615922209522808,null,0.5211003785949408,0.6201465401875724,null,0.5211003785949408,0.455406359447109,null,0.5211003785949408,0.37727734076684616,null,0.5211003785949408,0.4719968183073407,null,0.5211003785949408,0.5058559137544654,null,0.5211003785949408,0.7548055451238672,null,0.5211003785949408,0.7370259876620342,null,0.5211003785949408,0.12962902054808137,null,0.40854342496201146,0.46994547093036726,null,0.40854342496201146,0.5613260294640571,null,0.40854342496201146,0.3677664504552191,null,0.40854342496201146,0.4386777596613303,null,0.40854342496201146,0.5678024375405091,null,0.40854342496201146,0.455406359447109,null,0.40854342496201146,0.20558776589505123,null,0.40854342496201146,0.6177659646872077,null,0.40854342496201146,0.12962902054808137,null,0.40854342496201146,0.4721442169428595,null,0.36716287718713364,0.46994547093036726,null,0.36716287718713364,0.522341713634864,null,0.36716287718713364,0.3677664504552191,null,0.36716287718713364,0.4019768022568635,null,0.36716287718713364,0.20558776589505123,null,0.36716287718713364,0.5442209704491924,null,0.36716287718713364,0.12962902054808137,null,0.36716287718713364,0.4586303488041942,null,0.36716287718713364,0.36305930548217313,null,0.36716287718713364,0.4016412739784234,null,0.3188928561316,0.39822640174023466,null,0.3188928561316,0.38810570350418044,null,0.3188928561316,0.12143443111435766,null,0.3188928561316,0.2831044037381123,null,0.3188928561316,0.2648925416033834,null,0.3188928561316,0.4586303488041942,null,0.3188928561316,0.36305930548217313,null,0.3188928561316,0.20558776589505123,null,0.3188928561316,0.12962902054808137,null,0.3188928561316,0.489971119677522,null,0.3188928561316,0.46994547093036726,null,0.3188928561316,0.37891707433287725,null,0.3188928561316,0.3677664504552191,null,0.37044964128838115,0.39822640174023466,null,0.37044964128838115,0.41217348327378583,null,0.37044964128838115,0.2831044037381123,null,0.37044964128838115,0.30288215508369964,null,0.37044964128838115,0.4586303488041942,null,0.37044964128838115,0.36305930548217313,null,0.37044964128838115,0.489971119677522,null,0.37044964128838115,0.46994547093036726,null,0.37044964128838115,0.37891707433287725,null,0.37044964128838115,0.3677664504552191,null,0.37044964128838115,0.12962902054808137,null,0.1382330594241667,0.12143443111435766,null,0.1382330594241667,0.20558776589505123,null,0.1382330594241667,0.12962902054808137,null,0.1382330594241667,0.06639344277096669,null,0.16607415776691375,0.2521013116931456,null,0.16607415776691375,0.26352559331302766,null,0.16607415776691375,0.06639344277096669,null,0.16607415776691375,0.13754470624748572,null,0.16607415776691375,0.17538156803216684,null,0.16607415776691375,0.1714425931265763,null,0.16607415776691375,0.12962902054808137,null,0.16607415776691375,0.20918075775663075,null,0.21009365937794652,0.2521013116931456,null,0.21009365937794652,0.2881895775763782,null,0.21009365937794652,0.13754470624748572,null,0.21009365937794652,0.20918075775663075,null,0.21009365937794652,0.12962902054808137,null,0.21009365937794652,0.27125532597111424,null,0.21368854378621616,0.2718593470895556,null,0.21368854378621616,0.2521013116931456,null,0.21368854378621616,0.29853334408691334,null,0.21368854378621616,0.19372920406508906,null,0.21368854378621616,0.13754470624748572,null,0.21368854378621616,0.1721033182195973,null,0.21368854378621616,0.27125532597111424,null,0.21368854378621616,0.12962902054808137,null,0.27558482774625753,0.2852862422631666,null,0.27558482774625753,0.3589794765394489,null,0.27558482774625753,0.38678786972685075,null,0.27558482774625753,0.36807494046685824,null,0.27558482774625753,0.13754470624748572,null,0.27558482774625753,0.37382816396313956,null,0.27558482774625753,0.2718593470895556,null,0.27558482774625753,0.19372920406508906,null,0.27558482774625753,0.12962902054808137,null,0.27558482774625753,0.24243525125635537,null,0.27558482774625753,0.30293155640641783,null,0.17308455766170483,0.2718593470895556,null,0.17308455766170483,0.24243525125635537,null,0.17308455766170483,0.30293155640641783,null,0.17308455766170483,0.2852862422631666,null,0.17308455766170483,0.2942855809786985,null,0.17308455766170483,-0.08752056949996656,null,0.17308455766170483,0.12962902054808137,null,0.25344555110743594,0.2866827314698765,null,0.25344555110743594,0.261666349293297,null,0.25344555110743594,0.12962902054808137,null,-0.14315198344946123,0.07272814348459401,null,-0.14315198344946123,-0.07006506755362872,null,-0.14315198344946123,-0.4511313862751999,null,-0.14315198344946123,-0.24182438031039058,null,-0.14315198344946123,-0.03869581883676084,null,-0.14315198344946123,-0.13436229730425772,null,-0.14315198344946123,0.12962902054808137,null,-0.14315198344946123,-0.2857129436357701,null,-0.14315198344946123,-0.1973179353525699,null,-0.14315198344946123,-0.001776165785876518,null,-0.2743657420269262,-0.24182438031039058,null,-0.2743657420269262,-0.2857129436357701,null,-0.2743657420269262,-0.4511313862751999,null,-0.2743657420269262,-0.4739206357499666,null,-0.2743657420269262,-0.48425293932021246,null,-0.2743657420269262,-0.24591778094457617,null,-0.2743657420269262,0.12962902054808137,null,-0.2743657420269262,-0.26139117146018087,null,-0.2743657420269262,-0.3011578930387322,null,-0.2743657420269262,-0.22040634203616874,null,-0.2743657420269262,-0.26210648504132056,null,-0.2743657420269262,-0.3373645062201453,null,-0.2776620033951626,-0.24591778094457617,null,-0.2776620033951626,-0.4511313862751999,null,-0.2776620033951626,-0.46867421233929807,null,-0.2776620033951626,-0.4879857755969928,null,-0.2776620033951626,-0.4780899668339029,null,-0.2776620033951626,-0.4636286799171384,null,-0.2776620033951626,-0.1973179353525699,null,-0.2776620033951626,0.12962902054808137,null,-0.2776620033951626,-0.26139117146018087,null,-0.2776620033951626,-0.3100062374492585,null,-0.2776620033951626,-0.27980843801907784,null,-0.2776620033951626,-0.2907227807766849,null,-0.2776620033951626,-0.34260223523531413,null,-0.2776620033951626,-0.4251464745353465,null,-0.2776620033951626,0.046723478439934844,null,-0.1518237037691918,-0.24182438031039058,null,-0.1518237037691918,-0.26139117146018087,null,-0.1518237037691918,-0.3011578930387322,null,-0.1518237037691918,-0.22040634203616874,null,-0.1518237037691918,-0.26210648504132056,null,-0.1518237037691918,-0.1973179353525699,null,-0.1518237037691918,0.12962902054808137,null,-0.1518237037691918,-0.24591778094457617,null,-0.1367248395522977,-0.26139117146018087,null,-0.1367248395522977,-0.3100062374492585,null,-0.1367248395522977,-0.24591778094457617,null,-0.1367248395522977,-0.1973179353525699,null,-0.1367248395522977,0.12962902054808137,null,-0.1367248395522977,-0.2165413114933085,null,-0.13622901117483438,-0.27980843801907784,null,-0.13622901117483438,-0.1973179353525699,null,-0.13622901117483438,0.12962902054808137,null,-0.13622901117483438,-0.21687005105150398,null,-0.13622901117483438,-0.25326301499427256,null,-0.13622901117483438,-0.16670142723382844,null,-0.13622901117483438,-0.18869009920517066,null,-0.13622901117483438,-0.19622308148843753,null,-0.13622901117483438,-0.22273073656708148,null,-0.21142974530363898,-0.27980843801907784,null,-0.21142974530363898,-0.21687005105150398,null,-0.21142974530363898,-0.25326301499427256,null,-0.21142974530363898,-0.4511313862751999,null,-0.21142974530363898,0.12962902054808137,null,-0.21142974530363898,-0.28175351024253825,null,-0.15082777205196712,-0.16670142723382844,null,-0.15082777205196712,-0.18869009920517066,null,-0.15082777205196712,-0.21687005105150398,null,-0.15082777205196712,-0.18226984445953212,null,-0.15082777205196712,0.12962902054808137,null,-0.15082777205196712,-0.2664859084814702,null,-0.15082777205196712,-0.28175351024253825,null,-0.13097635827407514,-0.16670142723382844,null,-0.13097635827407514,-0.19622308148843753,null,-0.13097635827407514,-0.18226984445953212,null,-0.13097635827407514,-0.2664859084814702,null,-0.13097635827407514,-0.1973179353525699,null,-0.13097635827407514,-0.1870366892474832,null,-0.13097635827407514,0.12962902054808137,null,-0.13097635827407514,-0.20202983544039563,null,-0.13097635827407514,-0.21569928383804,null,-0.13097635827407514,-0.18959440993604443,null,-0.13097635827407514,-0.15253233841309016,null,-0.2027988124549526,-0.28175351024253825,null,-0.2027988124549526,-0.4511313862751999,null,-0.2027988124549526,-0.2639623504293571,null,-0.2027988124549526,-0.3216285184924235,null,-0.2027988124549526,0.12962902054808137,null,-0.15886679142322813,-0.1973179353525699,null,-0.15886679142322813,-0.001776165785876518,null,-0.15886679142322813,-0.2907227807766849,null,-0.15886679142322813,-0.2165413114933085,null,-0.15886679142322813,-0.22273073656708148,null,-0.15886679142322813,-0.20202983544039563,null,-0.15886679142322813,-0.28175351024253825,null,-0.15886679142322813,-0.2639623504293571,null,-0.15886679142322813,0.12962902054808137,null,0.2097713370534253,0.2158921861434287,null,0.2097713370534253,0.26816719783865656,null,0.2097713370534253,0.27633884564888017,null,0.2097713370534253,0.2408231751641978,null,0.2097713370534253,0.12962902054808137,null,0.1383137584594081,0.2158921861434287,null,0.1383137584594081,0.26816719783865656,null,0.1383137584594081,0.12420764647185602,null,0.1383137584594081,0.046723478439934844,null,0.225501033169774,0.2158921861434287,null,0.225501033169774,0.37727734076684616,null,0.225501033169774,0.37336666886503306,null,0.225501033169774,0.046723478439934844,null,0.225501033169774,0.2354074660520998,null,0.23630134740895425,0.37727734076684616,null,0.23630134740895425,0.36236990289335325,null,0.23630134740895425,0.2354074660520998,null,0.23630134740895425,0.046723478439934844,null,0.23630134740895425,0.2961678506320794,null,0.31408984387496386,0.37727734076684616,null,0.31408984387496386,0.43373256973560714,null,0.31408984387496386,0.2961678506320794,null,0.31408984387496386,0.4014185778131704,null,0.31408984387496386,0.4370980279804165,null,0.31408984387496386,0.046723478439934844,null,0.31408984387496386,0.36206143966627485,null,0.2822381569945245,0.37727734076684616,null,0.2822381569945245,0.408162613228216,null,0.2822381569945245,0.36206143966627485,null,0.2822381569945245,0.046723478439934844,null,0.2822381569945245,0.3549146708944397,null,0.299661029482285,0.37727734076684616,null,0.299661029482285,0.4367926591062531,null,0.299661029482285,0.3549146708944397,null,0.299661029482285,0.046723478439934844,null,0.299661029482285,0.39778451105623763,null,0.3190643838887153,0.37727734076684616,null,0.3190643838887153,0.4406342520149721,null,0.3190643838887153,0.39778451105623763,null,0.3190643838887153,0.046723478439934844,null,0.3190643838887153,0.44087363055813383,null,0.35243590225485305,0.37727734076684616,null,0.35243590225485305,0.4719968183073407,null,0.35243590225485305,0.44087363055813383,null,0.35243590225485305,0.046723478439934844,null,0.35243590225485305,0.5195886442039787,null,0.4378984548080046,0.455406359447109,null,0.4378984548080046,0.37727734076684616,null,0.4378984548080046,0.5058559137544654,null,0.4378984548080046,0.5195886442039787,null,0.4378984548080046,0.6566135255150605,null,0.4378984548080046,0.6350084285347012,null,0.4378984548080046,0.046723478439934844,null,0.3038980601141956,0.3677664504552191,null,0.3038980601141956,0.4386777596613303,null,0.3038980601141956,0.455406359447109,null,0.3038980601141956,0.20558776589505123,null,0.3038980601141956,0.4721442169428595,null,0.3038980601141956,0.046723478439934844,null,0.2663305624761243,0.3677664504552191,null,0.2663305624761243,0.4019768022568635,null,0.2663305624761243,0.20558776589505123,null,0.2663305624761243,0.36305930548217313,null,0.2663305624761243,0.4016412739784234,null,0.2663305624761243,0.046723478439934844,null,0.2398426865503463,0.12143443111435766,null,0.2398426865503463,0.2831044037381123,null,0.2398426865503463,0.2648925416033834,null,0.2398426865503463,0.36305930548217313,null,0.2398426865503463,0.20558776589505123,null,0.2398426865503463,0.37891707433287725,null,0.2398426865503463,0.3677664504552191,null,0.2398426865503463,0.046723478439934844,null,0.284349781233551,0.2831044037381123,null,0.284349781233551,0.30288215508369964,null,0.284349781233551,0.36305930548217313,null,0.284349781233551,0.37891707433287725,null,0.284349781233551,0.3677664504552191,null,0.284349781233551,0.046723478439934844,null,0.14309632747838538,0.046723478439934844,null,0.14309632747838538,0.06639344277096669,null,0.14309632747838538,0.12143443111435766,null,0.14309632747838538,0.2831044037381123,null,0.14309632747838538,0.2648925416033834,null,0.14309632747838538,0.30288215508369964,null,0.14309632747838538,0.13754470624748572,null,0.14309632747838538,0.17538156803216684,null,0.14309632747838538,0.1714425931265763,null,0.14309632747838538,0.1721033182195973,null,0.14309632747838538,0.13822327787341948,null,0.14309632747838538,0.2866827314698765,null,0.14309632747838538,0.261666349293297,null,0.14309632747838538,0.2188142988054738,null,0.14309632747838538,0.15270714932715848,null,0.14309632747838538,-0.08950935130618258,null,0.14309632747838538,-0.058138422323830256,null,0.1075401766117953,0.12143443111435766,null,0.1075401766117953,0.06639344277096669,null,0.1075401766117953,0.20558776589505123,null,0.1075401766117953,0.046723478439934844,null,0.0811483944738237,0.06639344277096669,null,0.0811483944738237,0.13754470624748572,null,0.0811483944738237,0.17538156803216684,null,0.0811483944738237,0.046723478439934844,null,0.0811483944738237,0.07209767580784522,null,0.06299332837444274,0.19372920406508906,null,0.06299332837444274,0.13754470624748572,null,0.06299332837444274,0.1714425931265763,null,0.06299332837444274,0.1721033182195973,null,0.06299332837444274,-0.08752056949996656,null,0.06299332837444274,0.07209767580784522,null,0.06299332837444274,0.046723478439934844,null,0.06299332837444274,0.1032482744278373,null,0.06299332837444274,0.053432493664176225,null,0.11497783843888636,0.19372920406508906,null,0.11497783843888636,0.13754470624748572,null,0.11497783843888636,0.24243525125635537,null,0.11497783843888636,0.15270714932715848,null,0.11497783843888636,0.046723478439934844,null,0.11497783843888636,0.1032482744278373,null,0.11497783843888636,0.053432493664176225,null,0.01989381873853527,0.13754470624748572,null,0.01989381873853527,0.13822327787341948,null,0.01989381873853527,-0.08752056949996656,null,0.01989381873853527,0.053432493664176225,null,0.01989381873853527,0.046723478439934844,null,0.01989381873853527,-0.03333950473428748,null,-0.029290593172574292,0.13754470624748572,null,-0.029290593172574292,-0.03333950473428748,null,-0.029290593172574292,-0.08752056949996656,null,-0.029290593172574292,0.046723478439934844,null,-0.029290593172574292,-0.08950935130618258,null,-0.029290593172574292,-0.11650289549526024,null,-0.12196298988074611,-0.08950935130618258,null,-0.12196298988074611,-0.11650289549526024,null,-0.12196298988074611,-0.17754515019450362,null,-0.12196298988074611,-0.21524896045993516,null,-0.12196298988074611,-0.08752056949996656,null,-0.12196298988074611,0.046723478439934844,null,-0.12196298988074611,-0.24025996560651558,null,-0.24689925179108513,-0.07006506755362872,null,-0.24689925179108513,-0.4511313862751999,null,-0.24689925179108513,-0.24025996560651558,null,-0.24689925179108513,0.046723478439934844,null,-0.24689925179108513,-0.304471976358777,null,-0.24689925179108513,-0.28833952614787794,null,-0.24689925179108513,-0.40911754322479577,null,-0.18889587302667685,-0.3373645062201453,null,-0.18889587302667685,-0.304471976358777,null,-0.18889587302667685,-0.28833952614787794,null,-0.18889587302667685,0.046723478439934844,null,-0.18889587302667685,-0.22040634203616874,null,-0.18889587302667685,-0.272459709538133,null,-0.19723156357039667,-0.22040634203616874,null,-0.19723156357039667,-0.26210648504132056,null,-0.19723156357039667,-0.34260223523531413,null,-0.19723156357039667,0.046723478439934844,null,-0.19723156357039667,-0.28088200432685567,null,-0.19723156357039667,-0.304471976358777,null,-0.0919939691819923,-0.03869581883676084,null,-0.0919939691819923,-0.22040634203616874,null,-0.0919939691819923,0.046723478439934844,null,-0.0919939691819923,-0.20400599106501613,null,-0.0919939691819923,-0.20510735406000308,null,-0.0919939691819923,-0.13436229730425772,null,-0.3359385004388797,-0.4511313862751999,null,-0.3359385004388797,-0.34260223523531413,null,-0.3359385004388797,-0.4251464745353465,null,-0.3359385004388797,-0.40911754322479577,null,-0.3359385004388797,-0.304471976358777,null,-0.3359385004388797,-0.5289257452302787,null,-0.3359385004388797,-0.5148651677521149,null,-0.3359385004388797,0.046723478439934844,null,-0.4082613603947704,0.046723478439934844,null,-0.4082613603947704,-0.4511313862751999,null,-0.4082613603947704,-0.34260223523531413,null,-0.4082613603947704,-0.4251464745353465,null,-0.4082613603947704,-0.5813360618434422,null,-0.4082613603947704,-0.588339280829903,null,-0.4082613603947704,-0.5903657334613808,null,-0.4082613603947704,-0.6216227615281048,null,-0.4082613603947704,-0.41070339770919667,null,-0.4082613603947704,-0.42885964465677023,null,-0.4082613603947704,-0.43437305848183927,null,-0.32809515695196056,-0.4511313862751999,null,-0.32809515695196056,-0.41070339770919667,null,-0.32809515695196056,-0.5413830603725427,null,-0.32809515695196056,0.046723478439934844,null,-0.32809515695196056,-0.48129699716039764,null,-0.32809515695196056,-0.2664859084814702,null,-0.32809515695196056,-0.36610807402643075,null,-0.3504256133149971,-0.4511313862751999,null,-0.3504256133149971,-0.28175351024253825,null,-0.3504256133149971,-0.2664859084814702,null,-0.3504256133149971,-0.48129699716039764,null,-0.3504256133149971,-0.5312841234753545,null,-0.3504256133149971,-0.5564445797379484,null,-0.3504256133149971,-0.5496043607107073,null,-0.3504256133149971,0.046723478439934844,null,-0.3504256133149971,-0.3746543104618644,null,-0.11926715416408473,-0.19622308148843753,null,-0.11926715416408473,-0.2664859084814702,null,-0.11926715416408473,-0.21569928383804,null,-0.11926715416408473,-0.18959440993604443,null,-0.11926715416408473,-0.15253233841309016,null,-0.11926715416408473,0.046723478439934844,null,-0.14775238182640232,-0.28175351024253825,null,-0.14775238182640232,-0.2639623504293571,null,-0.14775238182640232,-0.23955928990633069,null,-0.14775238182640232,0.046723478439934844,null,-0.22507887926998815,0.046723478439934844,null,-0.22507887926998815,-0.07006506755362872,null,-0.22507887926998815,-0.03869581883676084,null,-0.22507887926998815,-0.26139117146018087,null,-0.22507887926998815,-0.22040634203616874,null,-0.22507887926998815,-0.26210648504132056,null,-0.22507887926998815,-0.24591778094457617,null,-0.22507887926998815,-0.19622308148843753,null,-0.22507887926998815,-0.21569928383804,null,-0.22507887926998815,-0.18959440993604443,null,-0.22507887926998815,-0.08950935130618258,null,-0.22507887926998815,-0.058138422323830256,null,-0.22507887926998815,-0.28833952614787794,null,-0.22507887926998815,-0.272459709538133,null,-0.22507887926998815,-0.20400599106501613,null,-0.22507887926998815,-0.20510735406000308,null,-0.22507887926998815,-0.13436229730425772,null,-0.22507887926998815,-0.41070339770919667,null,-0.22507887926998815,-0.34260223523531413,null,-0.22507887926998815,-0.42885964465677023,null,-0.22507887926998815,-0.43437305848183927,null,-0.22507887926998815,-0.2664859084814702,null,-0.22507887926998815,-0.36610807402643075,null,-0.22507887926998815,-0.3746543104618644,null,-0.22507887926998815,-0.28175351024253825,null,-0.22507887926998815,-0.2639623504293571,null,-0.22507887926998815,-0.24025996560651558,null,0.38175177586439246,0.2158921861434287,null,0.38175177586439246,0.37727734076684616,null,0.38175177586439246,0.37336666886503306,null,0.38175177586439246,0.36236990289335325,null,0.38175177586439246,0.43373256973560714,null,0.38175177586439246,0.408162613228216,null,0.38175177586439246,0.4367926591062531,null,0.38175177586439246,0.4406342520149721,null,0.38175177586439246,0.26816719783865656,null,0.38175177586439246,0.36305930548217313,null,0.38175177586439246,0.455406359447109,null,0.38175177586439246,0.3677664504552191,null,0.38175177586439246,0.4019768022568635,null,0.38175177586439246,0.4386777596613303,null,0.38175177586439246,0.5816915481379984,null,0.38175177586439246,0.5343509319677714,null,0.38175177586439246,0.559968256515462,null,0.38175177586439246,0.4719968183073407,null,0.38175177586439246,0.5058559137544654,null,0.38175177586439246,0.046723478439934844,null,0.0732645465591756,0.26816719783865656,null,0.0732645465591756,0.2158921861434287,null,0.0732645465591756,0.12420764647185602,null,0.0732645465591756,-0.1907245574496667,null,-0.010156882537197386,0.2158921861434287,null,-0.010156882537197386,-0.1907245574496667,null,-0.010156882537197386,-0.13950226372118762,null,-0.010156882537197386,-0.05651816653705894,null,-0.010156882537197386,-0.018063313798989736,null,-0.010156882537197386,-0.04689495853850796,null,-0.11749506949229092,-0.018063313798989736,null,-0.11749506949229092,-0.04689495853850796,null,-0.11749506949229092,-0.1907245574496667,null,-0.11749506949229092,-0.13950226372118762,null,-0.11749506949229092,-0.12215175411251401,null,-0.11749506949229092,-0.0904416637707479,null,-0.11749506949229092,-0.11885956705583883,null,-0.16913002528776228,-0.11885956705583883,null,-0.16913002528776228,-0.1907245574496667,null,-0.16913002528776228,-0.13950226372118762,null,-0.16913002528776228,-0.15264224355241077,null,-0.16913002528776228,-0.14493869555945005,null,-0.16913002528776228,-0.2284190384990211,null,-0.22672071142886543,-0.2284190384990211,null,-0.22672071142886543,-0.1907245574496667,null,-0.22672071142886543,-0.13950226372118762,null,-0.22672071142886543,-0.21824823418224878,null,-0.22672071142886543,-0.24210514548609455,null,-0.22672071142886543,-0.2961132122948333,null,-0.22584916675040342,-0.2961132122948333,null,-0.22584916675040342,-0.3018558030279828,null,-0.22584916675040342,-0.31475324935006416,null,-0.22584916675040342,-0.1907245574496667,null,-0.22584916675040342,-0.04812986678104381,null,-0.22584916675040342,-0.13950226372118762,null,-0.22584916675040342,-0.2162299083922518,null,0.06894149784835486,-0.04812986678104381,null,0.06894149784835486,0.20558776589505123,null,0.06894149784835486,-0.1907245574496667,null,0.06894149784835486,0.11949722796905488,null,0.06894149784835486,0.14743497593018004,null,0.06894149784835486,0.1538966852123102,null,0.11398641193140348,0.20558776589505123,null,0.11398641193140348,-0.1907245574496667,null,0.11398641193140348,0.11949722796905488,null,0.11398641193140348,0.1968459906243195,null,0.11398641193140348,0.23452183466942045,null,0.11398641193140348,0.12068132309582355,null,0.07339628397057098,0.12068132309582355,null,0.07339628397057098,0.20558776589505123,null,0.07339628397057098,-0.1907245574496667,null,0.07339628397057098,0.11460092284307608,null,0.07339628397057098,0.11949722796905488,null,0.07339628397057098,0.12143443111435766,null,0.07339628397057098,0.007271957142999552,null,0.07339628397057098,0.027919263590714432,null,0.0005794973889099493,0.11460092284307608,null,0.0005794973889099493,0.11949722796905488,null,0.0005794973889099493,-0.1907245574496667,null,0.0005794973889099493,0.007271957142999552,null,0.0005794973889099493,0.12068132309582355,null,0.0005794973889099493,-0.02656416151712261,null,0.028179722705036898,0.12143443111435766,null,0.028179722705036898,0.20558776589505123,null,0.028179722705036898,-0.1907245574496667,null,0.028179722705036898,0.06639344277096669,null,-0.06106640214814755,0.06639344277096669,null,-0.06106640214814755,-0.1907245574496667,null,-0.06106640214814755,-0.07822681144395688,null,-0.06106640214814755,-0.0782720225559031,null,-0.06106640214814755,-0.1765813432195058,null,-0.06106640214814755,-0.08388342817125162,null,-0.17305456763727609,-0.07822681144395688,null,-0.17305456763727609,-0.0782720225559031,null,-0.17305456763727609,-0.1907245574496667,null,-0.17305456763727609,-0.24470315210376792,null,-0.17305456763727609,-0.1765813432195058,null,-0.17305456763727609,-0.14210667231485533,null,-0.23995337727460173,-0.24470315210376792,null,-0.23995337727460173,-0.1907245574496667,null,-0.23995337727460173,-0.29017657601610036,null,-0.23995337727460173,-0.1765813432195058,null,-0.23995337727460173,-0.18715652622084974,null,-0.22338486445643765,-0.29017657601610036,null,-0.22338486445643765,-0.08752056949996656,null,-0.22338486445643765,-0.1907245574496667,null,-0.22338486445643765,-0.30939512212460774,null,-0.22338486445643765,-0.2603150004141208,null,-0.22338486445643765,-0.2529263523191057,null,-0.2589843005314229,-0.29017657601610036,null,-0.2589843005314229,-0.30939512212460774,null,-0.2589843005314229,-0.1907245574496667,null,-0.2589843005314229,-0.1765813432195058,null,-0.2589843005314229,-0.18606725711529545,null,-0.2589843005314229,-0.2603150004141208,null,-0.11730276350132256,0.12143443111435766,null,-0.11730276350132256,0.007271957142999552,null,-0.11730276350132256,0.027919263590714432,null,-0.11730276350132256,-0.02656416151712261,null,-0.11730276350132256,0.06639344277096669,null,-0.11730276350132256,-0.1765813432195058,null,-0.11730276350132256,-0.08388342817125162,null,-0.11730276350132256,-0.14210667231485533,null,-0.11730276350132256,-0.18715652622084974,null,-0.11730276350132256,-0.18606725711529545,null,-0.11730276350132256,-0.1907245574496667,null,-0.11730276350132256,-0.16195866350102153,null,-0.11730276350132256,-0.1373654159047452,null,-0.11730276350132256,-0.3864363795658885,null,-0.11730276350132256,-0.29716193453055634,null,-0.11730276350132256,-0.3355019300213443,null,-0.18334053135005773,-0.2603150004141208,null,-0.18334053135005773,-0.2529263523191057,null,-0.18334053135005773,-0.1765813432195058,null,-0.18334053135005773,-0.16195866350102153,null,-0.18334053135005773,-0.08752056949996656,null,-0.18334053135005773,-0.1907245574496667,null,-0.18334053135005773,-0.204911550330379,null,-0.19079150190679864,-0.1765813432195058,null,-0.19079150190679864,-0.1373654159047452,null,-0.19079150190679864,-0.204911550330379,null,-0.19079150190679864,-0.08752056949996656,null,-0.19079150190679864,-0.1907245574496667,null,-0.19079150190679864,-0.31199214781379053,null,-0.19079150190679864,-0.3002945118479418,null,-0.26673284568027356,-0.3864363795658885,null,-0.26673284568027356,-0.29716193453055634,null,-0.26673284568027356,-0.1765813432195058,null,-0.26673284568027356,-0.31199214781379053,null,-0.26673284568027356,-0.3002945118479418,null,-0.26673284568027356,-0.08752056949996656,null,-0.26673284568027356,-0.1907245574496667,null,-0.26673284568027356,-0.44985705725559166,null,-0.448423720833088,-0.3864363795658885,null,-0.448423720833088,-0.3355019300213443,null,-0.448423720833088,-0.44985705725559166,null,-0.448423720833088,-0.4511313862751999,null,-0.448423720833088,-0.1907245574496667,null,-0.448423720833088,-0.5795787756863582,null,-0.448423720833088,-0.5797101106134682,null,-0.448423720833088,-0.5607269788063001,null,-0.4569270944573567,-0.3864363795658885,null,-0.4569270944573567,-0.5795787756863582,null,-0.4569270944573567,-0.5797101106134682,null,-0.4569270944573567,-0.1907245574496667,null,-0.4569270944573567,-0.5607269788063001,null,-0.4569270944573567,-0.46920787109721673,null,-0.4837092246018835,-0.5607269788063001,null,-0.4837092246018835,-0.4511313862751999,null,-0.4837092246018835,-0.6040279095621883,null,-0.4837092246018835,-0.5896002264380188,null,-0.4837092246018835,-0.5694013736859653,null,-0.4837092246018835,-0.570338729570096,null,-0.4837092246018835,-0.1907245574496667,null,-0.4837092246018835,-0.6273515819735049,null,-0.4837092246018835,-0.3864363795658885,null,-0.4837092246018835,-0.4945312316706316,null,-0.47634470208652085,-0.6273515819735049,null,-0.47634470208652085,-0.4511313862751999,null,-0.47634470208652085,-0.5985738094370101,null,-0.47634470208652085,-0.5619231677298162,null,-0.47634470208652085,-0.5589329402616332,null,-0.47634470208652085,-0.5916412297529423,null,-0.47634470208652085,-0.6020382963864512,null,-0.47634470208652085,-0.1907245574496667,null,-0.47634470208652085,-0.5882532926565409,null,-0.47634470208652085,-0.5740609441542002,null,-0.47634470208652085,-0.28175351024253825,null,-0.47634470208652085,-0.3864363795658885,null,-0.47634470208652085,-0.48216880828090036,null,-0.4734558386634959,-0.5740609441542002,null,-0.4734558386634959,-0.5882532926565409,null,-0.4734558386634959,-0.1907245574496667,null,-0.4734558386634959,-0.629103579416149,null,-0.4734558386634959,-0.3864363795658885,null,-0.4734558386634959,-0.4581555503379588,null,-0.25567438841585366,-0.28175351024253825,null,-0.25567438841585366,-0.23955928990633069,null,-0.25567438841585366,-0.2639623504293571,null,-0.25567438841585366,-0.1907245574496667,null,-0.36071109697263376,-0.3864363795658885,null,-0.36071109697263376,-0.46920787109721673,null,-0.36071109697263376,-0.4945312316706316,null,-0.36071109697263376,-0.48216880828090036,null,-0.36071109697263376,-0.4581555503379588,null,-0.36071109697263376,-0.28175351024253825,null,-0.36071109697263376,-0.2639623504293571,null,-0.36071109697263376,-0.1907245574496667,null],\"type\":\"scatter3d\"},{\"hoverinfo\":\"none\",\"line\":{\"color\":\"lightgray\",\"width\":2},\"mode\":\"lines\",\"x\":[],\"y\":[],\"z\":[],\"type\":\"scatter3d\"},{\"hoverinfo\":\"text\",\"marker\":{\"color\":[\"#22ab8f\",\"#505360\",\"#505360\",\"#22ab8f\",\"#7824e4\",\"#505360\",\"#505360\",\"#505360\",\"#505360\",\"#505360\",\"#505360\",\"#7824e4\",\"#505360\",\"#505360\",\"#7824e4\",\"#7824e4\",\"#7824e4\",\"#505360\",\"#7824e4\",\"#505360\",\"#505360\",\"#7824e4\",\"#7824e4\",\"#7824e4\",\"#505360\",\"#7824e4\",\"#505360\",\"#7824e4\",\"#7824e4\",\"#505360\",\"#7824e4\",\"#505360\",\"#505360\",\"#505360\",\"#7824e4\",\"#505360\",\"#505360\",\"#7824e4\",\"#7824e4\",\"#505360\",\"#7824e4\",\"#7824e4\",\"#505360\",\"#7824e4\",\"#7824e4\",\"#7824e4\",\"#7824e4\",\"#7824e4\",\"#7824e4\",\"#7824e4\",\"#7824e4\",\"#505360\",\"#505360\",\"#505360\",\"#505360\",\"#505360\",\"#505360\",\"#7824e4\",\"#7824e4\",\"#505360\",\"#7824e4\",\"#7824e4\",\"#505360\",\"#7824e4\",\"#d91318\",\"#7824e4\",\"#7824e4\",\"#7824e4\",\"#505360\",\"#505360\",\"#505360\",\"#505360\",\"#505360\",\"#505360\",\"#505360\",\"#505360\",\"#505360\",\"#505360\",\"#505360\",\"#505360\",\"#505360\",\"#505360\",\"#505360\",\"#7824e4\",\"#7824e4\",\"#505360\",\"#505360\",\"#505360\",\"#7824e4\",\"#7824e4\",\"#505360\",\"#c84f47\",\"#c84f47\",\"#505360\",\"#d91318\",\"#7824e4\",\"#505360\",\"#7824e4\",\"#505360\",\"#c84f47\",\"#c84f47\",\"#c84f47\",\"#c84f47\",\"#505360\",\"#505360\",\"#7824e4\",\"#505360\",\"#7824e4\",\"#7824e4\",\"#505360\",\"#7824e4\",\"#505360\",\"#7824e4\",\"#505360\",\"#7824e4\",\"#d91318\",\"#505360\",\"#505360\",\"#505360\",\"#7824e4\",\"#505360\",\"#7824e4\",\"#505360\",\"#505360\",\"#7824e4\",\"#7824e4\",\"#505360\",\"#22ab8f\",\"#505360\",\"#505360\",\"#505360\",\"#505360\",\"#505360\",\"#505360\",\"#505360\",\"#505360\",\"#7824e4\",\"#505360\",\"#22ab8f\",\"#505360\",\"#505360\",\"#505360\",\"#505360\",\"#7824e4\",\"#505360\",\"#505360\",\"#505360\",\"#505360\",\"#7824e4\",\"#505360\",\"#505360\",\"#505360\",\"#c84f47\",\"#c84f47\",\"#c84f47\",\"#c84f47\",\"#c84f47\",\"#505360\",\"#505360\",\"#7824e4\",\"#c84f47\",\"#505360\",\"#7824e4\",\"#c84f47\",\"#c84f47\",\"#c84f47\",\"#7824e4\",\"#22ab8f\",\"#505360\",\"#7824e4\",\"#505360\",\"#7824e4\",\"#7824e4\",\"#7824e4\",\"#505360\",\"#7824e4\",\"#7824e4\",\"#505360\",\"#7824e4\",\"#7824e4\",\"#505360\",\"#505360\",\"#7824e4\",\"#d91318\",\"#7824e4\",\"#505360\",\"#7824e4\",\"#505360\",\"#505360\",\"#505360\",\"#505360\",\"#7824e4\",\"#7824e4\",\"#505360\",\"#7824e4\",\"#505360\",\"#7824e4\",\"#505360\",\"#7824e4\",\"#505360\",\"#7824e4\",\"#505360\",\"#505360\",\"#7824e4\",\"#7824e4\",\"#7824e4\",\"#7824e4\",\"#505360\",\"#7824e4\",\"#7824e4\",\"#505360\",\"#505360\",\"#7824e4\",\"#505360\",\"#505360\",\"#505360\",\"#505360\",\"#7824e4\",\"#c84f47\",\"#c84f47\",\"#c84f47\",\"#c84f47\",\"#505360\",\"#7824e4\",\"#c84f47\",\"#c84f47\",\"#c84f47\",\"#c84f47\",\"#c84f47\",\"#505360\",\"#505360\",\"#7824e4\",\"#505360\",\"#7824e4\"],\"opacity\":0.8,\"size\":5},\"mode\":\"markers\",\"text\":[\"Curtain Wall:Exterior Curtain Wall:196713 (IfcCurtainWall)\",\"Basic Wall:Exterior - Insulation on Masonry:144837 (IfcWallStandardCase)\",\"Basic Wall:Exterior - Insulation on Masonry:169770 (IfcWallStandardCase)\",\"Curtain Wall:Storefront:148960 (IfcCurtainWall)\",\"M_Curtain Wall Dbl Glass:M_Curtain Wall Dbl Glass:195035 (IfcDoor)\",\"Basic Wall:Generic - 225mm Concrete:155851 (IfcWallStandardCase)\",\"Basic Wall:Generic - 225mm Concrete:155993 (IfcWallStandardCase)\",\"Basic Wall:Interior - 138mm Partition (1-hr):149551 (IfcWallStandardCase)\",\"Basic Wall:Interior - 138mm Partition (1-hr):149589 (IfcWallStandardCase)\",\"Basic Wall:Interior - 138mm Partition (1-hr):161883 (IfcWallStandardCase)\",\"Basic Wall:Interior - 138mm Partition (1-hr):144051 (IfcWallStandardCase)\",\"M_Single-Flush:0915 x 2134mm:152378 (IfcDoor)\",\"Basic Wall:Generic - 200mm:151331 (IfcWallStandardCase)\",\"Basic Wall:Interior - 138mm Partition (1-hr):157641 (IfcWallStandardCase)\",\"M_Single-Flush:0915 x 2134mm:157696 (IfcDoor)\",\"M_Single-Flush:0915 x 2134mm 20 Minute Rated:152476 (IfcDoor)\",\"M_Single-Flush:0915 x 2134mm 20 Minute Rated:157697 (IfcDoor)\",\"Basic Wall:Interior - 138mm Partition (1-hr):150342 (IfcWallStandardCase)\",\"M_Double-Flush:1830 x 2134mm:150584 (IfcDoor)\",\"Basic Wall:Generic - 200mm:150861 (IfcWallStandardCase)\",\"Basic Wall:Interior - 138mm Partition (1-hr):162381 (IfcWallStandardCase)\",\"M_Single-Flush:0915 x 2134mm:159438 (IfcDoor)\",\"M_Single-Flush:0915 x 2134mm:159504 (IfcDoor)\",\"M_Single-Flush:0915 x 2134mm:150461 (IfcDoor)\",\"Basic Wall:Interior - 138mm Partition (1-hr):149189 (IfcWallStandardCase)\",\"M_Single-Flush:0915 x 2134mm:150403 (IfcDoor)\",\"Basic Wall:Interior - 138mm Partition (1-hr):159176 (IfcWallStandardCase)\",\"M_Single-Flush:0915 x 2134mm:159600 (IfcDoor)\",\"M_Double-Flush:1730 x 2134mm 20 Minute Rated:150153 (IfcDoor)\",\"Basic Wall:Interior - 138mm Partition (1-hr):187479 (IfcWallStandardCase)\",\"M_Single-Flush:0915 x 2134mm:159736 (IfcDoor)\",\"Basic Wall:Interior - 138mm Partition (1-hr):161915 (IfcWallStandardCase)\",\"Basic Wall:Interior - 138mm Partition (1-hr):154229 (IfcWallStandardCase)\",\"Basic Wall:Interior - 138mm Partition (1-hr):153506 (IfcWallStandardCase)\",\"M_Single-Flush:0915 x 2134mm:154488 (IfcDoor)\",\"Basic Wall:Generic - 200mm:154279 (IfcWallStandardCase)\",\"Basic Wall:Interior - 138mm Partition (1-hr):157706 (IfcWallStandardCase)\",\"M_Single-Flush:0915 x 2134mm:158537 (IfcDoor)\",\"M_Single-Flush:0915 x 2134mm:158597 (IfcDoor)\",\"Basic Wall:Interior - 138mm Partition (1-hr):154023 (IfcWallStandardCase)\",\"M_Single-Flush:0915 x 2134mm:154538 (IfcDoor)\",\"M_Single-Flush:0915 x 2134mm:154585 (IfcDoor)\",\"Basic Wall:Interior - 138mm Partition (1-hr):154119 (IfcWallStandardCase)\",\"M_Single-Flush:0915 x 2134mm:154731 (IfcDoor)\",\"M_Single-Flush:0915 x 2134mm:154776 (IfcDoor)\",\"M_Single-Flush:0915 x 2134mm:158647 (IfcDoor)\",\"M_Single-Flush:0915 x 2134mm:158695 (IfcDoor)\",\"M_Single-Flush:0915 x 2134mm:158741 (IfcDoor)\",\"M_Single-Flush:0915 x 2134mm:158819 (IfcDoor)\",\"M_Single-Flush:0915 x 2134mm:154820 (IfcDoor)\",\"M_Single-Flush:0915 x 2134mm:154862 (IfcDoor)\",\"Basic Wall:Interior - 138mm Partition (1-hr):153904 (IfcWallStandardCase)\",\"Basic Wall:Exterior - Insulation on Masonry:139854 (IfcWallStandardCase)\",\"Basic Wall:Interior - 138mm Partition (1-hr):152271 (IfcWallStandardCase)\",\"Basic Wall:Interior - 138mm Partition (1-hr):152882 (IfcWallStandardCase)\",\"Basic Wall:Interior - 138mm Partition (1-hr):153000 (IfcWallStandardCase)\",\"Basic Wall:Interior - 138mm Partition (1-hr):153435 (IfcWallStandardCase)\",\"M_Single-Flush:0915 x 2134mm:154914 (IfcDoor)\",\"M_Single-Flush:0915 x 2134mm:154946 (IfcDoor)\",\"Basic Wall:Interior - 138mm Partition (1-hr):157694 (IfcWallStandardCase)\",\"M_Single-Flush:0915 x 2134mm:158869 (IfcDoor)\",\"M_Single-Flush:0915 x 2134mm:158933 (IfcDoor)\",\"Basic Wall:Interior - 138mm Partition (1-hr):152347 (IfcWallStandardCase)\",\"M_Single-Flush:0915 x 2134mm:152688 (IfcDoor)\",\"Basic Wall:Interior - 138mm Partition (1-hr):157695 (IfcWall)\",\"M_Single-Flush:0915 x 2134mm:157700 (IfcDoor)\",\"M_Single-Flush:0915 x 2134mm:152622 (IfcDoor)\",\"M_Single-Flush:0915 x 2134mm:157699 (IfcDoor)\",\"Basic Wall:Interior - 138mm Partition (1-hr):152111 (IfcWallStandardCase)\",\"Basic Wall:Interior - 138mm Partition (1-hr):157693 (IfcWallStandardCase)\",\"Basic Wall:Interior - 138mm Partition (1-hr):157701 (IfcWallStandardCase)\",\"Basic Wall:Interior - 138mm Partition (1-hr):157702 (IfcWallStandardCase)\",\"Basic Wall:Interior - 138mm Partition (1-hr):157705 (IfcWallStandardCase)\",\"Basic Wall:Exterior - Insulation on Masonry:150980 (IfcWallStandardCase)\",\"Basic Wall:Interior - 138mm Partition (1-hr):153242 (IfcWallStandardCase)\",\"Basic Wall:Interior - 138mm Partition (1-hr):157704 (IfcWallStandardCase)\",\"Basic Wall:Interior - 138mm Partition (1-hr):153162 (IfcWallStandardCase)\",\"Basic Wall:Interior - 138mm Partition (1-hr):157703 (IfcWallStandardCase)\",\"Basic Wall:Interior - 138mm Partition (1-hr):152037 (IfcWallStandardCase)\",\"Basic Wall:Interior - 138mm Partition (1-hr):157692 (IfcWallStandardCase)\",\"Basic Wall:Interior - 138mm Partition (1-hr):149395 (IfcWallStandardCase)\",\"Basic Wall:Interior - 138mm Partition (1-hr):149293 (IfcWallStandardCase)\",\"Basic Wall:Interior - 138mm Partition (1-hr):149505 (IfcWallStandardCase)\",\"M_Double-Flush:1730 x 2134mm 20 Minute Rated:150034 (IfcDoor)\",\"M_Double-Flush:1730 x 2134mm:149921 (IfcDoor)\",\"Basic Wall:Exterior - Insulation on Masonry:148769 (IfcWallStandardCase)\",\"Basic Wall:Exterior - Insulation on Masonry:139857 (IfcWallStandardCase)\",\"Basic Wall:Interior - 138mm Partition (1-hr):144180 (IfcWallStandardCase)\",\"M_Double-Flush:1730 x 2134mm 20 Minute Rated:161727 (IfcDoor)\",\"M_Single-Flush-Dbl Acting:0915 x 2134mm:145999 (IfcDoor)\",\"Basic Wall:Interior - 138mm Partition (1-hr):143858 (IfcWallStandardCase)\",\"M_Fixed:0915 x 1220mm:145607 (IfcWindow)\",\"M_Fixed:0915 x 1220mm:145683 (IfcWindow)\",\"Basic Wall:Interior - 138mm Partition (1-hr):144230 (IfcWallStandardCase)\",\"Basic Wall:Interior - 138mm Partition (1-hr):145023 (IfcWall)\",\"M_Single-Flush:0915 x 2134mm:146094 (IfcDoor)\",\"Basic Wall:Interior - 138mm Partition (1-hr):160703 (IfcWallStandardCase)\",\"M_Single-Flush:0915 x 2134mm:161440 (IfcDoor)\",\"Basic Wall:Interior - 138mm Partition (1-hr):160921 (IfcWallStandardCase)\",\"M_Fixed:0915 x 1220mm:145733 (IfcWindow)\",\"M_Fixed:0915 x 1220mm:145801 (IfcWindow)\",\"M_Fixed:0915 x 1220mm:145843 (IfcWindow)\",\"M_Fixed:0915 x 1220mm:145891 (IfcWindow)\",\"Basic Wall:Interior - 138mm Partition (1-hr):145054 (IfcWallStandardCase)\",\"Basic Wall:Interior - 138mm Partition (1-hr):144289 (IfcWallStandardCase)\",\"M_Double-Flush:1830 x 2134mm:146282 (IfcDoor)\",\"Basic Wall:Interior - 138mm Partition (1-hr):160284 (IfcWallStandardCase)\",\"M_Single-Flush:0915 x 2134mm:161540 (IfcDoor)\",\"M_Single-Flush:0915 x 2134mm 20 Minute Rated:146152 (IfcDoor)\",\"Basic Wall:Interior - 138mm Partition (1-hr):145109 (IfcWallStandardCase)\",\"M_Single-Flush:0915 x 2134mm:146641 (IfcDoor)\",\"Basic Wall:Interior - 138mm Partition (1-hr):145174 (IfcWallStandardCase)\",\"M_Single-Flush:0915 x 2134mm:146563 (IfcDoor)\",\"Basic Wall:Interior - 138mm Partition (1-hr):157642 (IfcWallStandardCase)\",\"M_Single-Flush:0915 x 2134mm:146343 (IfcDoor)\",\"Basic Wall:Generic - 200mm:144344 (IfcWall)\",\"Basic Wall:Interior - 138mm Partition (1-hr):145211 (IfcWallStandardCase)\",\"Basic Wall:Interior - 138mm Partition (1-hr):157643 (IfcWallStandardCase)\",\"Basic Wall:Interior - 138mm Partition (1-hr):145263 (IfcWallStandardCase)\",\"M_Single-Flush:0915 x 2134mm:146483 (IfcDoor)\",\"Basic Wall:Interior - 138mm Partition (1-hr):157640 (IfcWallStandardCase)\",\"M_Single-Flush:0915 x 2134mm:157648 (IfcDoor)\",\"Basic Wall:Interior - 138mm Partition (1-hr):157644 (IfcWallStandardCase)\",\"Basic Wall:Exterior - Insulation on Masonry:182328 (IfcWallStandardCase)\",\"M_Single-Flush:0915 x 2134mm:146741 (IfcDoor)\",\"M_Single-Flush:0915 x 2134mm:155278 (IfcDoor)\",\"Basic Wall:Exterior - Insulation on Masonry:154427 (IfcWallStandardCase)\",\"Curtain Wall:Exterior Curtain Wall:169402 (IfcCurtainWall)\",\"Basic Wall:Interior - 138mm Partition (1-hr):158056 (IfcWallStandardCase)\",\"Basic Wall:Interior - 138mm Partition (1-hr):158281 (IfcWallStandardCase)\",\"Basic Wall:Interior - 138mm Partition (1-hr):158342 (IfcWallStandardCase)\",\"Basic Wall:Interior - 138mm Partition (1-hr):158404 (IfcWallStandardCase)\",\"Basic Wall:Interior - 138mm Partition (1-hr):158434 (IfcWallStandardCase)\",\"Basic Wall:Interior - 138mm Partition (1-hr):158481 (IfcWallStandardCase)\",\"Basic Wall:Interior - 138mm Partition (1-hr):158528 (IfcWallStandardCase)\",\"Basic Wall:Generic - 225mm Concrete:156175 (IfcWallStandardCase)\",\"M_Single-Flush:0915 x 2134mm 20 Minute Rated:159676 (IfcDoor)\",\"Basic Wall:Interior - 138mm Partition (1-hr):159427 (IfcWallStandardCase)\",\"Curtain Wall:Storefront:162023 (IfcCurtainWall)\",\"Basic Wall:Interior - 138mm Partition (1-hr):159019 (IfcWallStandardCase)\",\"Basic Wall:Interior - 138mm Partition (1-hr):159235 (IfcWallStandardCase)\",\"Basic Wall:Interior - 138mm Partition (1-hr):159205 (IfcWallStandardCase)\",\"Basic Wall:Interior - 138mm Partition (1-hr):159317 (IfcWallStandardCase)\",\"M_Single-Flush:0915 x 2134mm:159804 (IfcDoor)\",\"Basic Wall:Interior - 138mm Partition (1-hr):159928 (IfcWallStandardCase)\",\"Basic Wall:Interior - 138mm Partition (1-hr):160319 (IfcWallStandardCase)\",\"Basic Wall:Interior - 138mm Partition (1-hr):160411 (IfcWallStandardCase)\",\"Basic Wall:Interior - 138mm Partition (1-hr):160014 (IfcWallStandardCase)\",\"M_Single-Flush:0915 x 2134mm:161618 (IfcDoor)\",\"Basic Wall:Interior - 138mm Partition (1-hr):160879 (IfcWallStandardCase)\",\"Basic Wall:Interior - 138mm Partition (1-hr):160661 (IfcWallStandardCase)\",\"Basic Wall:Interior - 138mm Partition (1-hr):160763 (IfcWallStandardCase)\",\"M_Fixed:0915 x 1220mm:198996 (IfcWindow)\",\"M_Fixed:0915 x 1220mm:199047 (IfcWindow)\",\"M_Fixed:0915 x 1220mm:199097 (IfcWindow)\",\"M_Fixed:0915 x 1220mm:199141 (IfcWindow)\",\"M_Fixed:0915 x 1220mm:199187 (IfcWindow)\",\"Basic Wall:Interior - 138mm Partition (1-hr):160150 (IfcWallStandardCase)\",\"Basic Wall:Interior - 138mm Partition (1-hr):161062 (IfcWallStandardCase)\",\"M_Single-Flush:0915 x 2134mm:161334 (IfcDoor)\",\"M_Fixed:0915 x 1220mm:199217 (IfcWindow)\",\"Basic Wall:Interior - 138mm Partition (1-hr):160234 (IfcWallStandardCase)\",\"M_Single-Flush:0915 x 2134mm:161264 (IfcDoor)\",\"M_Fixed:0915 x 1220mm:199255 (IfcWindow)\",\"M_Fixed:0915 x 1220mm:199291 (IfcWindow)\",\"M_Fixed:0915 x 1220mm:199317 (IfcWindow)\",\"M_Single-Flush:0915 x 2134mm:161079 (IfcDoor)\",\"Curtain Wall:Exterior Curtain Wall:169602 (IfcCurtainWall)\",\"Basic Wall:Interior - 138mm Partition (1-hr):157844 (IfcWallStandardCase)\",\"M_Single-Flush:0915 x 2134mm:163995 (IfcDoor)\",\"Basic Wall:Interior - 138mm Partition (1-hr):158088 (IfcWallStandardCase)\",\"M_Single-Flush:0915 x 2134mm:163933 (IfcDoor)\",\"M_Single-Flush:0915 x 2134mm:163825 (IfcDoor)\",\"M_Single-Flush:0915 x 2134mm:163867 (IfcDoor)\",\"Basic Wall:Interior - 138mm Partition (1-hr):163468 (IfcWallStandardCase)\",\"M_Single-Flush:0915 x 2134mm:163751 (IfcDoor)\",\"M_Single-Flush:0915 x 2134mm:163791 (IfcDoor)\",\"Basic Wall:Interior - 138mm Partition (1-hr):163493 (IfcWallStandardCase)\",\"M_Single-Flush:0915 x 2134mm:163637 (IfcDoor)\",\"M_Single-Flush:0915 x 2134mm:163705 (IfcDoor)\",\"Basic Wall:Interior - 138mm Partition (1-hr):163525 (IfcWallStandardCase)\",\"Basic Wall:Interior - 138mm Partition (1-hr):157832 (IfcWallStandardCase)\",\"M_Single-Flush:0915 x 2134mm:163587 (IfcDoor)\",\"Basic Wall:Interior - 138mm Partition (1-hr):157833 (IfcWall)\",\"M_Single-Flush:0915 x 2134mm:157838 (IfcDoor)\",\"Basic Wall:Interior - 138mm Partition (1-hr):157842 (IfcWallStandardCase)\",\"M_Single-Flush:0915 x 2134mm:157837 (IfcDoor)\",\"Basic Wall:Interior - 138mm Partition (1-hr):157841 (IfcWallStandardCase)\",\"Basic Wall:Interior - 138mm Partition (1-hr):157831 (IfcWallStandardCase)\",\"Basic Wall:Interior - 138mm Partition (1-hr):157830 (IfcWallStandardCase)\",\"Basic Wall:Interior - 138mm Partition (1-hr):157779 (IfcWallStandardCase)\",\"M_Single-Flush:0915 x 2134mm:157834 (IfcDoor)\",\"M_Single-Flush:0915 x 2134mm 20 Minute Rated:157835 (IfcDoor)\",\"Basic Wall:Interior - 138mm Partition (1-hr):164144 (IfcWallStandardCase)\",\"M_Single-Flush:0915 x 2134mm:164962 (IfcDoor)\",\"Basic Wall:Interior - 138mm Partition (1-hr):157807 (IfcWallStandardCase)\",\"M_Single-Flush:0915 x 2134mm:164921 (IfcDoor)\",\"Basic Wall:Interior - 138mm Partition (1-hr):164263 (IfcWallStandardCase)\",\"M_Single-Flush Vision:0915 x 2134mm:164869 (IfcDoor)\",\"Basic Wall:Interior - 138mm Partition (1-hr):164302 (IfcWallStandardCase)\",\"M_Single-Flush Vision:0915 x 2134mm:164768 (IfcDoor)\",\"Basic Wall:Interior - 138mm Partition (1-hr):165015 (IfcWallStandardCase)\",\"Basic Wall:Interior - 138mm Partition (1-hr):164345 (IfcWallStandardCase)\",\"M_Single-Flush:0915 x 2134mm:165090 (IfcDoor)\",\"M_Single-Flush:0915 x 2134mm 20 Minute Rated:164674 (IfcDoor)\",\"M_Single-Flush Vision:0915 x 2134mm:164626 (IfcDoor)\",\"M_Single-Flush Vision:0915 x 2134mm:164566 (IfcDoor)\",\"Basic Wall:Interior - 138mm Partition (1-hr):157778 (IfcWallStandardCase)\",\"M_Double-Glass 1:1830 x 2134mm:165368 (IfcDoor)\",\"M_Single-Glass 1:0915 x 2134mm:165525 (IfcDoor)\",\"Basic Wall:Interior - 138mm Partition (1-hr):164381 (IfcWallStandardCase)\",\"Basic Wall:Interior - 138mm Partition (1-hr):164417 (IfcWallStandardCase)\",\"M_Single-Flush:0915 x 2134mm:164426 (IfcDoor)\",\"Basic Wall:Interior - 138mm Partition (1-hr):165196 (IfcWallStandardCase)\",\"Basic Wall:Interior - 138mm Partition (1-hr):165237 (IfcWallStandardCase)\",\"Basic Wall:Interior - 138mm Partition (1-hr):165238 (IfcWallStandardCase)\",\"Basic Wall:Interior - 138mm Partition (1-hr):165239 (IfcWallStandardCase)\",\"M_Double-Flush:1730 x 2134mm 20 Minute Rated:165462 (IfcDoor)\",\"M_Fixed:0915 x 1220mm:199360 (IfcWindow)\",\"M_Fixed:0915 x 1220mm:199402 (IfcWindow)\",\"M_Fixed:0915 x 1220mm:199436 (IfcWindow)\",\"M_Fixed:0915 x 1220mm:199468 (IfcWindow)\",\"Basic Wall:Interior - 138mm Partition (1-hr):165358 (IfcWallStandardCase)\",\"M_Single-Flush:0915 x 2134mm:165571 (IfcDoor)\",\"M_Fixed:0915 x 1220mm:199510 (IfcWindow)\",\"M_Fixed:0915 x 1220mm:199558 (IfcWindow)\",\"M_Fixed:0915 x 1220mm:199584 (IfcWindow)\",\"M_Fixed:0915 x 1220mm:199614 (IfcWindow)\",\"M_Fixed:0915 x 1220mm:199640 (IfcWindow)\",\"Basic Wall:Interior - 138mm Partition (1-hr):157781 (IfcWallStandardCase)\",\"Basic Wall:Interior - 138mm Partition (1-hr):157780 (IfcWallStandardCase)\",\"M_Single-Flush:0915 x 2134mm:165645 (IfcDoor)\",\"Basic Wall:Interior - 138mm Partition (1-hr):157782 (IfcWallStandardCase)\",\"M_Single-Flush:0915 x 2134mm:157786 (IfcDoor)\"],\"x\":[-0.3165008756849425,-0.31623213351281876,-0.2905589144455153,-0.23157816648038096,-0.48772112303640824,-0.34802478427023903,-0.37033242619632606,-0.45118105444956175,-0.4499125847669834,-0.31781892311816645,-0.12576553062343493,-0.179300872673084,0.0168243537751598,-0.14942459893872645,-0.16021921292471292,-0.21742723298615457,-0.20169322854430857,-0.4438785196710063,-0.44522286357019497,-0.0394844437302948,-0.36138099331214574,-0.32377309970684853,-0.37138413894357064,-0.48956459223493914,-0.3745176681403894,-0.4896687833382923,-0.4370481655642643,-0.40325098864246395,-0.41900384264386875,-0.41323603694247957,-0.35842484076696046,-0.364607249135075,0.15105666255628383,0.07537462887322406,0.17111250528142827,0.24094836716978058,-0.07732457540658537,0.055990379439703745,0.0018110720250255267,0.04271868358642578,0.1403890169804388,0.11176900104492794,0.011401515201596659,0.041325478042031114,0.06985727674546789,-0.06183955972837794,-0.0553630377241002,-0.05830129634019835,-0.07736745808418508,0.13331226337411559,0.10871181400492377,-0.017654748270626842,0.2191680759156693,0.06326950990834765,0.1640808062511854,0.15912400306307434,0.2126525725232783,0.07799148588470152,0.04674747181007081,-0.02246146051073296,-0.08023801989931972,-0.0690439573929401,0.06370423889039584,0.11804156277055089,0.028188163273554105,0.07634797757986397,0.15514671869566082,0.10605983962206421,0.02608215977374414,0.0054466227027594105,0.078869055474084,0.15791843635674624,0.12054706683352885,0.16978988333857564,0.17393637676219673,0.12331232467490502,0.26101932019359897,0.2004186759658009,-0.03917260390617428,-0.045418885721114695,-0.5146478719183804,-0.5619279212809287,-0.41930164614254717,-0.3878476042808264,-0.3318461467742298,-0.07966249592768988,-0.04683413978718365,-0.35232050034584006,-0.4095402492056586,-0.37132092452398685,-0.18043990396298137,-0.20345015757842128,-0.19669218982369138,-0.26602348522757646,-0.29017620225896373,-0.3710475052732388,-0.42201790189028887,-0.4098194042223058,-0.4680070702976923,-0.0622451106057972,-0.10696865088873365,-0.11454089291477412,-0.07149548374994238,-0.20601040968443146,-0.05337087465255424,-0.12485892727437332,-0.3181488559330481,-0.27067232932636803,-0.1601193306298695,0.002326765935351123,0.01983593057979517,-0.10934596990989609,-0.045309881001980704,-0.2691898894938105,-0.09912743210599996,0.021568315887034322,-0.1468722621022113,-0.2196950038653045,-0.3077493976518395,-0.17333271470751607,-0.36131330507759635,-0.3701660071837865,-0.35243316459549584,0.01698455985455612,0.10390432979860521,0.34902842063872797,0.38132871466655993,0.33766102599536635,-0.023210062012207308,-0.19614713829101846,-0.2699215296325591,-0.28671165295249207,-0.30562730252677245,-0.3226470757864052,-0.3115850143201516,-0.42796659017134325,-0.4635690779691405,-0.35665154730475795,-0.37663889835060615,-0.39717218435814516,-0.550223861943006,-0.46311610164752876,-0.3900798641846603,-0.41699103754988764,-0.38755176721370105,-0.4064490371797907,-0.4448380351722179,-0.3605877815108017,-0.5088792598322058,-0.6778507335372181,-0.5275973270182022,-0.512927735477126,-0.19419201571455635,-0.1800455523626186,-0.2027744164734425,-0.17020194517238058,-0.1856215471016765,-0.32182392200969373,-0.40894145595666437,-0.40168758977637786,-0.13331804187736812,-0.1520709688810966,-0.3023081400020276,-0.009064644642546924,-0.05355644733683125,-0.040918698500546774,-0.24599518674059162,0.18868769234530416,0.8476541328046844,0.8145463845255957,0.7776497573822431,0.7728654646827213,0.9498828067957383,0.9465286588671532,0.890340616022725,0.9551930883369856,0.9425575823814565,0.8857536344608843,0.9381132817489833,0.9330147912662236,0.9008243448663431,0.7006069318449971,0.9733127543109936,0.4886210803008048,0.6046666102020072,0.6696517278627137,0.5420856607617637,0.526880073484041,0.4337076706653847,0.42460402043196016,0.3530724155019121,0.3067062167150928,0.3755341574286127,0.3785803601804319,0.4027734624762913,0.28459697583497806,0.2727140929180781,0.51097390158184,0.3494231623233391,0.34007825777864736,0.3521398981240722,0.2817282591630841,0.2290672053722911,0.17098607832980156,0.30314480658340237,0.2257683628729685,0.2159882180893741,0.29021526389588637,0.284546478906286,0.2818104997341645,0.1278736267269784,0.14416820102810224,0.17541540341001066,0.23297558918712397,0.3381555087128682,0.3693601482932285,0.2948145203061778,0.357764278163943,0.07308209713729541,0.05496295788125926,0.08692403226667314,0.05098158573462091,0.26028746609944997,0.2878322743323448,0.12236202959199156,0.11266574038322291,0.13936358744703267,0.1297568843444161,0.09490224639278136,0.38553666822235944,0.40526142641285007,0.31818748663224905,0.6019732634987939,0.3912954740694195],\"y\":[0.25647757479694516,0.20325781870243645,-0.015841500507689572,-0.11881462922543878,0.16667600855785938,0.023952323176357475,0.012738164172345273,0.11511328688626149,0.06959503462540752,-0.048566278894910116,-0.04256403191947222,0.06994761784649452,0.21089319755664834,0.06472916455345057,0.11257634549905426,0.033158619528507426,0.0655451568937087,0.03341072432969005,0.10684404725488655,0.2392560887574125,0.1169102884914761,0.17471514920749712,0.16546180900415414,-0.006437070991876386,0.13973343815851758,0.04175264456534318,0.10446908914945444,0.12093073440259604,0.10256026578310612,0.14806812295496757,0.20303608342826465,-0.10464276024718189,-0.5009207688967651,-0.400465501023681,-0.384329750163818,-0.1391251515936017,-0.34712216868484136,-0.34092473604778833,-0.36287283018224575,-0.5724102082691529,-0.4447615960708613,-0.4622340100202637,-0.5577506122508701,-0.4462787456742598,-0.43760173093496824,-0.4043126861101037,-0.3782302577299946,-0.36109366978836555,-0.3395054246677973,-0.4128033889763223,-0.4314460812098078,-0.4844019383145751,-0.19108389122506506,-0.1975691642562972,-0.3491190921641673,-0.29674987547568527,-0.3396565179285819,-0.372935513644862,-0.38030255538521,-0.1904656230809716,-0.3111646014602402,-0.299244265683661,-0.07457284912370388,-0.1265229842824183,-0.08414507513076,-0.14431863607490744,-0.1253254367334451,-0.14402485957465164,-0.0650855632345186,-0.08283854976657264,-0.27139631759013244,-0.28592534384212,-0.2888508209632631,0.1466122806543426,0.014364761098953861,0.025458280194222555,0.009879541235724433,0.010061980965961751,0.09333978435606373,0.07116286641100221,0.01934214861206993,-0.06803000164663728,0.2093258526117006,0.24945663061851608,0.34084117324950197,0.3458901734799121,-0.045057469527083546,-0.22962025673132988,-0.16925045856490203,-0.17905512141420132,-0.3494725983939492,-0.10244138786356467,-0.13919047419405742,-0.2804141807316009,-0.28912775868693164,-0.32533188902698856,-0.21946649091787748,-0.23900820159528996,-0.19133181545636682,-0.2164606279325722,-0.2060349543874208,-0.16784270626836406,-0.18143497714993784,-0.3988195558985756,-0.36833104765087094,-0.3650780874076365,-0.14938477167070868,-0.1604977866631172,-0.427289633318164,-0.4279814479692936,-0.44908668853251665,-0.525278507266907,-0.5404281145335448,-0.3970981707170666,-0.44862661840507834,-0.09393423873723,-0.5581321940999865,-0.312301125574439,-0.6670924952173463,-0.4673134359147566,-0.39649148593873,-0.3957569717594388,-0.5518979703616873,-0.06579474841140363,-0.15446952380615117,-0.3030520405252699,-0.42885744679758453,-0.11017348078879105,-0.47739793502456573,-0.5749016868117022,-0.5655812722117448,-0.500934845082236,-0.4521706559817612,-0.40008716709249353,-0.34912381810743204,0.30990857196092303,0.1871953812203224,0.07985386532635687,-0.005812165577938957,0.2866999604594031,0.18280075075420654,0.21453753983819218,0.3028566734979042,0.220765273873051,0.03408002189154647,-0.06670348805615389,-0.09555883955974329,0.01451097388938063,-0.2044130545845644,-0.16801601520942022,-0.23475596450014458,-0.270920511175934,-0.006450909511429738,0.019159317114474765,-0.04889619823574359,-0.062226738590315835,-0.09418345424814008,-0.20303059795118075,-0.14730739199627552,-0.18026793086884693,-0.16131292364750446,-0.2885979436059596,-0.2914156120316533,-0.16837424122518413,-0.14569941480803134,-0.1842106077376507,-0.27570503245043415,-0.06646577762849704,0.31051387657007784,0.1906751450014839,0.212567631792597,0.1932927929671806,0.29058014940814064,0.3223784745653776,0.40044258189254917,0.38677753720770586,0.4229959127271377,0.4696292382560312,0.39666776777551105,0.35705445714673195,0.4439108912263765,0.40562681776829224,0.34545367822087475,0.4569607985630378,0.46816503712252017,0.4310350565212626,0.510296417316149,0.5495640460088367,0.49104287545625336,0.5432345877247137,0.5199902693779456,0.5276959558329463,0.5823337548247374,0.6625013865393955,0.6347152152394108,0.577103676333684,0.6058006195010691,0.7227489821412192,0.6335046986555173,0.6871318632857099,0.6283513532801887,0.7218381446266022,0.6809203042478824,0.704839194219405,0.6516460607628983,0.6405876046444299,0.6225481026938754,0.31599261352300606,0.46261038739506033,0.4144849516112059,0.6874935845795493,0.613562929940228,0.6149678422535939,0.4668861462856363,0.4112861028390984,0.3903482679988309,0.31943626108160483,0.2864702164657483,0.08663944001740426,0.11962788412804318,0.08980312784022368,0.10022406326166297,0.17454697226965138,0.24236183561108177,0.039104995878828236,0.030720885275945464,-0.0026914817451732303,-0.004244632836199523,0.023122589154891227,0.22920977295568065,0.20505723055598393,0.20059430283948984,0.40138836928278926,0.2569234526750079],\"z\":[0.41170991367845594,0.2852862422631666,0.07272814348459401,-0.001776165785876518,0.3608312273315808,0.2866827314698765,0.261666349293297,0.3589794765394489,0.36807494046685824,-0.07006506755362872,0.39822640174023466,0.38810570350418044,0.12143443111435766,0.2831044037381123,0.2648925416033834,0.41217348327378583,0.30288215508369964,0.2521013116931456,0.26352559331302766,0.06639344277096669,0.13754470624748572,0.17538156803216684,0.1714425931265763,0.2881895775763782,0.2718593470895556,0.29853334408691334,0.19372920406508906,0.1721033182195973,0.38678786972685075,0.37382816396313956,0.13822327787341948,-0.03869581883676084,0.36523271788953754,0.4972360197616839,0.4676168472955775,0.2158921861434287,0.37727734076684616,0.37336666886503306,0.36236990289335325,0.43656653915366245,0.4862716048602116,0.49631845184681517,0.5044207651191218,0.5514079501008347,0.5533863984952627,0.43373256973560714,0.408162613228216,0.4367926591062531,0.4406342520149721,0.5456366548673062,0.5591014826992032,0.6011560076952294,0.26816719783865656,0.5678024375405091,0.6865582772257731,0.697619679847315,0.6565560323815058,0.615922209522808,0.6201465401875724,0.455406359447109,0.4719968183073407,0.5058559137544654,0.46994547093036726,0.5613260294640571,0.3677664504552191,0.4386777596613303,0.522341713634864,0.4019768022568635,0.4586303488041942,0.36305930548217313,0.5816915481379984,0.5343509319677714,0.559968256515462,0.20558776589505123,0.6177659646872077,0.4721442169428595,0.5442209704491924,0.4016412739784234,0.489971119677522,0.37891707433287725,0.20918075775663075,0.27125532597111424,0.24243525125635537,0.30293155640641783,0.2942855809786985,-0.08752056949996656,-0.4511313862751999,-0.24182438031039058,-0.13436229730425772,-0.2857129436357701,-0.1973179353525699,-0.4739206357499666,-0.48425293932021246,-0.24591778094457617,-0.26139117146018087,-0.3011578930387322,-0.22040634203616874,-0.26210648504132056,-0.3373645062201453,-0.46867421233929807,-0.4879857755969928,-0.4780899668339029,-0.4636286799171384,-0.3100062374492585,-0.27980843801907784,-0.2907227807766849,-0.34260223523531413,-0.4251464745353465,-0.2165413114933085,-0.21687005105150398,-0.25326301499427256,-0.16670142723382844,-0.18869009920517066,-0.19622308148843753,-0.22273073656708148,-0.28175351024253825,-0.18226984445953212,-0.2664859084814702,-0.1870366892474832,-0.20202983544039563,-0.21569928383804,-0.18959440993604443,-0.15253233841309016,-0.2639623504293571,-0.3216285184924235,0.27633884564888017,0.2408231751641978,0.12420764647185602,0.2354074660520998,0.2961678506320794,0.36206143966627485,0.3549146708944397,0.39778451105623763,0.44087363055813383,0.5195886442039787,0.2188142988054738,0.15270714932715848,-0.08950935130618258,-0.058138422323830256,0.07209767580784522,0.1032482744278373,0.053432493664176225,-0.03333950473428748,-0.11650289549526024,-0.24025996560651558,-0.304471976358777,-0.28833952614787794,-0.40911754322479577,-0.272459709538133,-0.28088200432685567,-0.20400599106501613,-0.20510735406000308,-0.5289257452302787,-0.5148651677521149,-0.5813360618434422,-0.588339280829903,-0.5903657334613808,-0.41070339770919667,-0.42885964465677023,-0.43437305848183927,-0.5413830603725427,-0.48129699716039764,-0.36610807402643075,-0.5312841234753545,-0.5564445797379484,-0.5496043607107073,-0.3746543104618644,-0.23955928990633069,-0.13950226372118762,-0.05651816653705894,-0.018063313798989736,-0.04689495853850796,-0.12215175411251401,-0.0904416637707479,-0.11885956705583883,-0.15264224355241077,-0.14493869555945005,-0.2284190384990211,-0.21824823418224878,-0.24210514548609455,-0.2961132122948333,-0.04812986678104381,-0.2162299083922518,0.11949722796905488,0.14743497593018004,0.1538966852123102,0.1968459906243195,0.23452183466942045,0.12068132309582355,0.11460092284307608,0.007271957142999552,0.027919263590714432,-0.02656416151712261,-0.07822681144395688,-0.0782720225559031,-0.1765813432195058,-0.08388342817125162,-0.24470315210376792,-0.14210667231485533,-0.29017657601610036,-0.18715652622084974,-0.30939512212460774,-0.2603150004141208,-0.2529263523191057,-0.18606725711529545,-0.16195866350102153,-0.1373654159047452,-0.3864363795658885,-0.29716193453055634,-0.3355019300213443,-0.204911550330379,-0.31199214781379053,-0.3002945118479418,-0.44985705725559166,-0.5795787756863582,-0.5797101106134682,-0.5607269788063001,-0.46920787109721673,-0.6040279095621883,-0.5896002264380188,-0.5694013736859653,-0.570338729570096,-0.6273515819735049,-0.4945312316706316,-0.5985738094370101,-0.5619231677298162,-0.5589329402616332,-0.5916412297529423,-0.6020382963864512,-0.5882532926565409,-0.5740609441542002,-0.48216880828090036,-0.629103579416149,-0.4581555503379588],\"type\":\"scatter3d\"}],                        {\"height\":800,\"scene\":{\"xaxis\":{\"title\":{\"text\":\"X\"}},\"yaxis\":{\"title\":{\"text\":\"Y\"}},\"zaxis\":{\"title\":{\"text\":\"Z\"}}},\"showlegend\":false,\"title\":{\"text\":\"3D IFC Wall-Door\\u002fWindow Visualization\"},\"width\":1200,\"template\":{\"data\":{\"histogram2dcontour\":[{\"type\":\"histogram2dcontour\",\"colorbar\":{\"outlinewidth\":0,\"ticks\":\"\"},\"colorscale\":[[0.0,\"#0d0887\"],[0.1111111111111111,\"#46039f\"],[0.2222222222222222,\"#7201a8\"],[0.3333333333333333,\"#9c179e\"],[0.4444444444444444,\"#bd3786\"],[0.5555555555555556,\"#d8576b\"],[0.6666666666666666,\"#ed7953\"],[0.7777777777777778,\"#fb9f3a\"],[0.8888888888888888,\"#fdca26\"],[1.0,\"#f0f921\"]]}],\"choropleth\":[{\"type\":\"choropleth\",\"colorbar\":{\"outlinewidth\":0,\"ticks\":\"\"}}],\"histogram2d\":[{\"type\":\"histogram2d\",\"colorbar\":{\"outlinewidth\":0,\"ticks\":\"\"},\"colorscale\":[[0.0,\"#0d0887\"],[0.1111111111111111,\"#46039f\"],[0.2222222222222222,\"#7201a8\"],[0.3333333333333333,\"#9c179e\"],[0.4444444444444444,\"#bd3786\"],[0.5555555555555556,\"#d8576b\"],[0.6666666666666666,\"#ed7953\"],[0.7777777777777778,\"#fb9f3a\"],[0.8888888888888888,\"#fdca26\"],[1.0,\"#f0f921\"]]}],\"heatmap\":[{\"type\":\"heatmap\",\"colorbar\":{\"outlinewidth\":0,\"ticks\":\"\"},\"colorscale\":[[0.0,\"#0d0887\"],[0.1111111111111111,\"#46039f\"],[0.2222222222222222,\"#7201a8\"],[0.3333333333333333,\"#9c179e\"],[0.4444444444444444,\"#bd3786\"],[0.5555555555555556,\"#d8576b\"],[0.6666666666666666,\"#ed7953\"],[0.7777777777777778,\"#fb9f3a\"],[0.8888888888888888,\"#fdca26\"],[1.0,\"#f0f921\"]]}],\"heatmapgl\":[{\"type\":\"heatmapgl\",\"colorbar\":{\"outlinewidth\":0,\"ticks\":\"\"},\"colorscale\":[[0.0,\"#0d0887\"],[0.1111111111111111,\"#46039f\"],[0.2222222222222222,\"#7201a8\"],[0.3333333333333333,\"#9c179e\"],[0.4444444444444444,\"#bd3786\"],[0.5555555555555556,\"#d8576b\"],[0.6666666666666666,\"#ed7953\"],[0.7777777777777778,\"#fb9f3a\"],[0.8888888888888888,\"#fdca26\"],[1.0,\"#f0f921\"]]}],\"contourcarpet\":[{\"type\":\"contourcarpet\",\"colorbar\":{\"outlinewidth\":0,\"ticks\":\"\"}}],\"contour\":[{\"type\":\"contour\",\"colorbar\":{\"outlinewidth\":0,\"ticks\":\"\"},\"colorscale\":[[0.0,\"#0d0887\"],[0.1111111111111111,\"#46039f\"],[0.2222222222222222,\"#7201a8\"],[0.3333333333333333,\"#9c179e\"],[0.4444444444444444,\"#bd3786\"],[0.5555555555555556,\"#d8576b\"],[0.6666666666666666,\"#ed7953\"],[0.7777777777777778,\"#fb9f3a\"],[0.8888888888888888,\"#fdca26\"],[1.0,\"#f0f921\"]]}],\"surface\":[{\"type\":\"surface\",\"colorbar\":{\"outlinewidth\":0,\"ticks\":\"\"},\"colorscale\":[[0.0,\"#0d0887\"],[0.1111111111111111,\"#46039f\"],[0.2222222222222222,\"#7201a8\"],[0.3333333333333333,\"#9c179e\"],[0.4444444444444444,\"#bd3786\"],[0.5555555555555556,\"#d8576b\"],[0.6666666666666666,\"#ed7953\"],[0.7777777777777778,\"#fb9f3a\"],[0.8888888888888888,\"#fdca26\"],[1.0,\"#f0f921\"]]}],\"mesh3d\":[{\"type\":\"mesh3d\",\"colorbar\":{\"outlinewidth\":0,\"ticks\":\"\"}}],\"scatter\":[{\"fillpattern\":{\"fillmode\":\"overlay\",\"size\":10,\"solidity\":0.2},\"type\":\"scatter\"}],\"parcoords\":[{\"type\":\"parcoords\",\"line\":{\"colorbar\":{\"outlinewidth\":0,\"ticks\":\"\"}}}],\"scatterpolargl\":[{\"type\":\"scatterpolargl\",\"marker\":{\"colorbar\":{\"outlinewidth\":0,\"ticks\":\"\"}}}],\"bar\":[{\"error_x\":{\"color\":\"#2a3f5f\"},\"error_y\":{\"color\":\"#2a3f5f\"},\"marker\":{\"line\":{\"color\":\"#E5ECF6\",\"width\":0.5},\"pattern\":{\"fillmode\":\"overlay\",\"size\":10,\"solidity\":0.2}},\"type\":\"bar\"}],\"scattergeo\":[{\"type\":\"scattergeo\",\"marker\":{\"colorbar\":{\"outlinewidth\":0,\"ticks\":\"\"}}}],\"scatterpolar\":[{\"type\":\"scatterpolar\",\"marker\":{\"colorbar\":{\"outlinewidth\":0,\"ticks\":\"\"}}}],\"histogram\":[{\"marker\":{\"pattern\":{\"fillmode\":\"overlay\",\"size\":10,\"solidity\":0.2}},\"type\":\"histogram\"}],\"scattergl\":[{\"type\":\"scattergl\",\"marker\":{\"colorbar\":{\"outlinewidth\":0,\"ticks\":\"\"}}}],\"scatter3d\":[{\"type\":\"scatter3d\",\"line\":{\"colorbar\":{\"outlinewidth\":0,\"ticks\":\"\"}},\"marker\":{\"colorbar\":{\"outlinewidth\":0,\"ticks\":\"\"}}}],\"scattermapbox\":[{\"type\":\"scattermapbox\",\"marker\":{\"colorbar\":{\"outlinewidth\":0,\"ticks\":\"\"}}}],\"scatterternary\":[{\"type\":\"scatterternary\",\"marker\":{\"colorbar\":{\"outlinewidth\":0,\"ticks\":\"\"}}}],\"scattercarpet\":[{\"type\":\"scattercarpet\",\"marker\":{\"colorbar\":{\"outlinewidth\":0,\"ticks\":\"\"}}}],\"carpet\":[{\"aaxis\":{\"endlinecolor\":\"#2a3f5f\",\"gridcolor\":\"white\",\"linecolor\":\"white\",\"minorgridcolor\":\"white\",\"startlinecolor\":\"#2a3f5f\"},\"baxis\":{\"endlinecolor\":\"#2a3f5f\",\"gridcolor\":\"white\",\"linecolor\":\"white\",\"minorgridcolor\":\"white\",\"startlinecolor\":\"#2a3f5f\"},\"type\":\"carpet\"}],\"table\":[{\"cells\":{\"fill\":{\"color\":\"#EBF0F8\"},\"line\":{\"color\":\"white\"}},\"header\":{\"fill\":{\"color\":\"#C8D4E3\"},\"line\":{\"color\":\"white\"}},\"type\":\"table\"}],\"barpolar\":[{\"marker\":{\"line\":{\"color\":\"#E5ECF6\",\"width\":0.5},\"pattern\":{\"fillmode\":\"overlay\",\"size\":10,\"solidity\":0.2}},\"type\":\"barpolar\"}],\"pie\":[{\"automargin\":true,\"type\":\"pie\"}]},\"layout\":{\"autotypenumbers\":\"strict\",\"colorway\":[\"#636efa\",\"#EF553B\",\"#00cc96\",\"#ab63fa\",\"#FFA15A\",\"#19d3f3\",\"#FF6692\",\"#B6E880\",\"#FF97FF\",\"#FECB52\"],\"font\":{\"color\":\"#2a3f5f\"},\"hovermode\":\"closest\",\"hoverlabel\":{\"align\":\"left\"},\"paper_bgcolor\":\"white\",\"plot_bgcolor\":\"#E5ECF6\",\"polar\":{\"bgcolor\":\"#E5ECF6\",\"angularaxis\":{\"gridcolor\":\"white\",\"linecolor\":\"white\",\"ticks\":\"\"},\"radialaxis\":{\"gridcolor\":\"white\",\"linecolor\":\"white\",\"ticks\":\"\"}},\"ternary\":{\"bgcolor\":\"#E5ECF6\",\"aaxis\":{\"gridcolor\":\"white\",\"linecolor\":\"white\",\"ticks\":\"\"},\"baxis\":{\"gridcolor\":\"white\",\"linecolor\":\"white\",\"ticks\":\"\"},\"caxis\":{\"gridcolor\":\"white\",\"linecolor\":\"white\",\"ticks\":\"\"}},\"coloraxis\":{\"colorbar\":{\"outlinewidth\":0,\"ticks\":\"\"}},\"colorscale\":{\"sequential\":[[0.0,\"#0d0887\"],[0.1111111111111111,\"#46039f\"],[0.2222222222222222,\"#7201a8\"],[0.3333333333333333,\"#9c179e\"],[0.4444444444444444,\"#bd3786\"],[0.5555555555555556,\"#d8576b\"],[0.6666666666666666,\"#ed7953\"],[0.7777777777777778,\"#fb9f3a\"],[0.8888888888888888,\"#fdca26\"],[1.0,\"#f0f921\"]],\"sequentialminus\":[[0.0,\"#0d0887\"],[0.1111111111111111,\"#46039f\"],[0.2222222222222222,\"#7201a8\"],[0.3333333333333333,\"#9c179e\"],[0.4444444444444444,\"#bd3786\"],[0.5555555555555556,\"#d8576b\"],[0.6666666666666666,\"#ed7953\"],[0.7777777777777778,\"#fb9f3a\"],[0.8888888888888888,\"#fdca26\"],[1.0,\"#f0f921\"]],\"diverging\":[[0,\"#8e0152\"],[0.1,\"#c51b7d\"],[0.2,\"#de77ae\"],[0.3,\"#f1b6da\"],[0.4,\"#fde0ef\"],[0.5,\"#f7f7f7\"],[0.6,\"#e6f5d0\"],[0.7,\"#b8e186\"],[0.8,\"#7fbc41\"],[0.9,\"#4d9221\"],[1,\"#276419\"]]},\"xaxis\":{\"gridcolor\":\"white\",\"linecolor\":\"white\",\"ticks\":\"\",\"title\":{\"standoff\":15},\"zerolinecolor\":\"white\",\"automargin\":true,\"zerolinewidth\":2},\"yaxis\":{\"gridcolor\":\"white\",\"linecolor\":\"white\",\"ticks\":\"\",\"title\":{\"standoff\":15},\"zerolinecolor\":\"white\",\"automargin\":true,\"zerolinewidth\":2},\"scene\":{\"xaxis\":{\"backgroundcolor\":\"#E5ECF6\",\"gridcolor\":\"white\",\"linecolor\":\"white\",\"showbackground\":true,\"ticks\":\"\",\"zerolinecolor\":\"white\",\"gridwidth\":2},\"yaxis\":{\"backgroundcolor\":\"#E5ECF6\",\"gridcolor\":\"white\",\"linecolor\":\"white\",\"showbackground\":true,\"ticks\":\"\",\"zerolinecolor\":\"white\",\"gridwidth\":2},\"zaxis\":{\"backgroundcolor\":\"#E5ECF6\",\"gridcolor\":\"white\",\"linecolor\":\"white\",\"showbackground\":true,\"ticks\":\"\",\"zerolinecolor\":\"white\",\"gridwidth\":2}},\"shapedefaults\":{\"line\":{\"color\":\"#2a3f5f\"}},\"annotationdefaults\":{\"arrowcolor\":\"#2a3f5f\",\"arrowhead\":0,\"arrowwidth\":1},\"geo\":{\"bgcolor\":\"white\",\"landcolor\":\"#E5ECF6\",\"subunitcolor\":\"white\",\"showland\":true,\"showlakes\":true,\"lakecolor\":\"white\"},\"title\":{\"x\":0.05},\"mapbox\":{\"style\":\"light\"}}}},                        {\"responsive\": true}                    ).then(function(){\n",
              "                            \n",
              "var gd = document.getElementById('07bd1d5d-2cc2-42a2-90b3-5ca978979299');\n",
              "var x = new MutationObserver(function (mutations, observer) {{\n",
              "        var display = window.getComputedStyle(gd).display;\n",
              "        if (!display || display === 'none') {{\n",
              "            console.log([gd, 'removed!']);\n",
              "            Plotly.purge(gd);\n",
              "            observer.disconnect();\n",
              "        }}\n",
              "}});\n",
              "\n",
              "// Listen for the removal of the full notebook cells\n",
              "var notebookContainer = gd.closest('#notebook-container');\n",
              "if (notebookContainer) {{\n",
              "    x.observe(notebookContainer, {childList: true});\n",
              "}}\n",
              "\n",
              "// Listen for the clearing of the current output cell\n",
              "var outputEl = gd.closest('.output');\n",
              "if (outputEl) {{\n",
              "    x.observe(outputEl, {childList: true});\n",
              "}}\n",
              "\n",
              "                        })                };                            </script>        </div>\n",
              "</body>\n",
              "</html>"
            ]
          },
          "metadata": {},
          "output_type": "display_data"
        }
      ],
      "source": [
        "# Remove unconnected nodes\n",
        "unconnected_nodes = [node for node, degree in G.degree() if degree == 0]\n",
        "G.remove_nodes_from(unconnected_nodes)\n",
        "\n",
        "# Recalculate layout (3D)\n",
        "pos = nx.spring_layout(G, dim=3, seed=42)\n",
        "\n",
        "# Extract node positions and colors (only for Walls, Doors, Windows)\n",
        "wall_door_window_nodes = [\n",
        "    node\n",
        "    for node in G.nodes\n",
        "    if G.nodes[node].get(\"IfcType\") in [\n",
        "        \"IfcWall\", \"IfcWallStandardCase\", \"IfcCurtainWall\", \"IfcDoor\", \"IfcWindow\"\n",
        "    ]\n",
        "]\n",
        "\n",
        "x_nodes, y_nodes, z_nodes = zip(*[pos[node] for node in wall_door_window_nodes])\n",
        "colors = [\n",
        "    get_node_color(G.nodes[node].get(\"IfcType\", \"Undefined\"))\n",
        "    for node in wall_door_window_nodes\n",
        "]\n",
        "\n",
        "# Separate edge coordinates by relation type\n",
        "voids_x, voids_y, voids_z = [], [], []\n",
        "surrounds_x, surrounds_y, surrounds_z = [], [], []\n",
        "other_x, other_y, other_z = [], [], []\n",
        "\n",
        "for u, v, data in G.edges(data=True):\n",
        "    x0, y0, z0 = pos[u]\n",
        "    x1, y1, z1 = pos[v]\n",
        "\n",
        "    # Add coordinates in Plotly \"line segment\" style: [x0, x1, None] so lines don't connect across edges\n",
        "    if data.get(\"relation\") == \"VOIDS\":\n",
        "        voids_x.extend([x0, x1, None])\n",
        "        voids_y.extend([y0, y1, None])\n",
        "        voids_z.extend([z0, z1, None])\n",
        "    elif data.get(\"relation\") == \"SURROUNDS\":\n",
        "        surrounds_x.extend([x0, x1, None])\n",
        "        surrounds_y.extend([y0, y1, None])\n",
        "        surrounds_z.extend([z0, z1, None])\n",
        "    else:\n",
        "        other_x.extend([x0, x1, None])\n",
        "        other_y.extend([y0, y1, None])\n",
        "        other_z.extend([z0, z1, None])\n",
        "\n",
        "# Create separate edge traces\n",
        "voids_trace = go.Scatter3d(\n",
        "    x=voids_x, y=voids_y, z=voids_z,\n",
        "    mode='lines',\n",
        "    line=dict(width=2, color='red'),\n",
        "    hoverinfo='none'\n",
        ")\n",
        "\n",
        "surrounds_trace = go.Scatter3d(\n",
        "    x=surrounds_x, y=surrounds_y, z=surrounds_z,\n",
        "    mode='lines',\n",
        "    line=dict(width=2, color='gray'),\n",
        "    opacity=0.05,\n",
        "    hoverinfo='none'\n",
        ")\n",
        "\n",
        "other_trace = go.Scatter3d(\n",
        "    x=other_x, y=other_y, z=other_z,\n",
        "    mode='lines',\n",
        "    line=dict(width=2, color='lightgray'),\n",
        "    hoverinfo='none'\n",
        ")\n",
        "\n",
        "# Create the node trace\n",
        "node_trace = go.Scatter3d(\n",
        "    x=x_nodes, y=y_nodes, z=z_nodes,\n",
        "    mode='markers',\n",
        "    marker=dict(size=5, color=colors, opacity=0.8),\n",
        "    text=[\n",
        "        f\"{G.nodes[node].get('Name', 'N/A')} (\" \\\n",
        "        f\"{G.nodes[node].get('IfcType', 'Undefined')})\"\n",
        "        for node in wall_door_window_nodes\n",
        "    ],\n",
        "    hoverinfo='text'\n",
        ")\n",
        "\n",
        "#  Build figure\n",
        "layout = go.Layout(\n",
        "    title=\"3D IFC Wall-Door/Window Visualization\",\n",
        "    width=1200, height=800,\n",
        "    scene=dict(xaxis=dict(title='X'),\n",
        "               yaxis=dict(title='Y'),\n",
        "               zaxis=dict(title='Z')),\n",
        "    showlegend=False\n",
        ")\n",
        "\n",
        "fig = go.Figure(\n",
        "    data=[voids_trace, surrounds_trace, other_trace, node_trace],\n",
        "    layout=layout\n",
        ")\n",
        "fig.show()\n"
      ]
    },
    {
      "cell_type": "markdown",
      "metadata": {
        "id": "vIaY3Wj6zycA"
      },
      "source": [
        "## 2.6. Data check\n",
        "\n",
        "Check and clean data to avoid duplicates!"
      ]
    },
    {
      "cell_type": "code",
      "execution_count": null,
      "metadata": {
        "id": "gq11-5gbxl3A"
      },
      "outputs": [],
      "source": [
        "nodes = pd.DataFrame.from_dict(dict(G.nodes(data=True)), orient='index')"
      ]
    },
    {
      "cell_type": "code",
      "execution_count": null,
      "metadata": {
        "colab": {
          "base_uri": "https://localhost:8080/",
          "height": 909
        },
        "id": "hVnZJc0UkeW_",
        "outputId": "f0aeb86b-b4e1-4c08-91e7-29853572a78c"
      },
      "outputs": [
        {
          "data": {
            "application/vnd.google.colaboratory.intrinsic+json": {
              "repr_error": "Out of range float values are not JSON compliant: nan",
              "type": "dataframe",
              "variable_name": "nodes"
            },
            "text/html": [
              "\n",
              "  <div id=\"df-e23d641e-70bb-4de1-81c2-143a76cfe3ce\" class=\"colab-df-container\">\n",
              "    <div>\n",
              "<style scoped>\n",
              "    .dataframe tbody tr th:only-of-type {\n",
              "        vertical-align: middle;\n",
              "    }\n",
              "\n",
              "    .dataframe tbody tr th {\n",
              "        vertical-align: top;\n",
              "    }\n",
              "\n",
              "    .dataframe thead th {\n",
              "        text-align: right;\n",
              "    }\n",
              "</style>\n",
              "<table border=\"1\" class=\"dataframe\">\n",
              "  <thead>\n",
              "    <tr style=\"text-align: right;\">\n",
              "      <th></th>\n",
              "      <th>GlobalId</th>\n",
              "      <th>Name</th>\n",
              "      <th>Description</th>\n",
              "      <th>ObjectType</th>\n",
              "      <th>IfcType</th>\n",
              "      <th>category</th>\n",
              "    </tr>\n",
              "  </thead>\n",
              "  <tbody>\n",
              "    <tr>\n",
              "      <th>1GE3M13VHAWxhxwcp39Emh</th>\n",
              "      <td>1GE3M13VHAWxhxwcp39Emh</td>\n",
              "      <td>101</td>\n",
              "      <td>None</td>\n",
              "      <td>None</td>\n",
              "      <td>IfcSpace</td>\n",
              "      <td>IfcSpace</td>\n",
              "    </tr>\n",
              "    <tr>\n",
              "      <th>1GE3M13VHAWxhxwcp39EiJ</th>\n",
              "      <td>1GE3M13VHAWxhxwcp39EiJ</td>\n",
              "      <td>102</td>\n",
              "      <td>None</td>\n",
              "      <td>None</td>\n",
              "      <td>IfcSpace</td>\n",
              "      <td>IfcSpace</td>\n",
              "    </tr>\n",
              "    <tr>\n",
              "      <th>1GE3M13VHAWxhxwcp39Eiz</th>\n",
              "      <td>1GE3M13VHAWxhxwcp39Eiz</td>\n",
              "      <td>103</td>\n",
              "      <td>None</td>\n",
              "      <td>None</td>\n",
              "      <td>IfcSpace</td>\n",
              "      <td>IfcSpace</td>\n",
              "    </tr>\n",
              "    <tr>\n",
              "      <th>1GE3M13VHAWxhxwcp39Ei_</th>\n",
              "      <td>1GE3M13VHAWxhxwcp39Ei_</td>\n",
              "      <td>104</td>\n",
              "      <td>None</td>\n",
              "      <td>None</td>\n",
              "      <td>IfcSpace</td>\n",
              "      <td>IfcSpace</td>\n",
              "    </tr>\n",
              "    <tr>\n",
              "      <th>1GE3M13VHAWxhxwcp39Ei$</th>\n",
              "      <td>1GE3M13VHAWxhxwcp39Ei$</td>\n",
              "      <td>105</td>\n",
              "      <td>None</td>\n",
              "      <td>None</td>\n",
              "      <td>IfcSpace</td>\n",
              "      <td>IfcSpace</td>\n",
              "    </tr>\n",
              "    <tr>\n",
              "      <th>...</th>\n",
              "      <td>...</td>\n",
              "      <td>...</td>\n",
              "      <td>...</td>\n",
              "      <td>...</td>\n",
              "      <td>...</td>\n",
              "      <td>...</td>\n",
              "    </tr>\n",
              "    <tr>\n",
              "      <th>2UMN_OQKrAshZl3dHPuj5b</th>\n",
              "      <td>2UMN_OQKrAshZl3dHPuj5b</td>\n",
              "      <td>Basic Wall:Interior - 138mm Partition (1-hr):1...</td>\n",
              "      <td>None</td>\n",
              "      <td>Basic Wall:Interior - 138mm Partition (1-hr)</td>\n",
              "      <td>IfcWallStandardCase</td>\n",
              "      <td>IfcWallStandardCase</td>\n",
              "    </tr>\n",
              "    <tr>\n",
              "      <th>2UMN_OQKrAshZl3dHPuj5a</th>\n",
              "      <td>2UMN_OQKrAshZl3dHPuj5a</td>\n",
              "      <td>Basic Wall:Interior - 138mm Partition (1-hr):1...</td>\n",
              "      <td>None</td>\n",
              "      <td>Basic Wall:Interior - 138mm Partition (1-hr)</td>\n",
              "      <td>IfcWallStandardCase</td>\n",
              "      <td>IfcWallStandardCase</td>\n",
              "    </tr>\n",
              "    <tr>\n",
              "      <th>2UMN_OQKrAshZl3dHPuZuz</th>\n",
              "      <td>2UMN_OQKrAshZl3dHPuZuz</td>\n",
              "      <td>M_Single-Flush:0915 x 2134mm:165645</td>\n",
              "      <td>None</td>\n",
              "      <td>M_Single-Flush:0915 x 2134mm</td>\n",
              "      <td>IfcDoor</td>\n",
              "      <td>IfcDoor</td>\n",
              "    </tr>\n",
              "    <tr>\n",
              "      <th>2UMN_OQKrAshZl3dHPuj5c</th>\n",
              "      <td>2UMN_OQKrAshZl3dHPuj5c</td>\n",
              "      <td>Basic Wall:Interior - 138mm Partition (1-hr):1...</td>\n",
              "      <td>None</td>\n",
              "      <td>Basic Wall:Interior - 138mm Partition (1-hr)</td>\n",
              "      <td>IfcWallStandardCase</td>\n",
              "      <td>IfcWallStandardCase</td>\n",
              "    </tr>\n",
              "    <tr>\n",
              "      <th>2UMN_OQKrAshZl3dHPuj5g</th>\n",
              "      <td>2UMN_OQKrAshZl3dHPuj5g</td>\n",
              "      <td>M_Single-Flush:0915 x 2134mm:157786</td>\n",
              "      <td>None</td>\n",
              "      <td>M_Single-Flush:0915 x 2134mm</td>\n",
              "      <td>IfcDoor</td>\n",
              "      <td>IfcDoor</td>\n",
              "    </tr>\n",
              "  </tbody>\n",
              "</table>\n",
              "<p>339 rows × 6 columns</p>\n",
              "</div>\n",
              "    <div class=\"colab-df-buttons\">\n",
              "\n",
              "  <div class=\"colab-df-container\">\n",
              "    <button class=\"colab-df-convert\" onclick=\"convertToInteractive('df-e23d641e-70bb-4de1-81c2-143a76cfe3ce')\"\n",
              "            title=\"Convert this dataframe to an interactive table.\"\n",
              "            style=\"display:none;\">\n",
              "\n",
              "  <svg xmlns=\"http://www.w3.org/2000/svg\" height=\"24px\" viewBox=\"0 -960 960 960\">\n",
              "    <path d=\"M120-120v-720h720v720H120Zm60-500h600v-160H180v160Zm220 220h160v-160H400v160Zm0 220h160v-160H400v160ZM180-400h160v-160H180v160Zm440 0h160v-160H620v160ZM180-180h160v-160H180v160Zm440 0h160v-160H620v160Z\"/>\n",
              "  </svg>\n",
              "    </button>\n",
              "\n",
              "  <style>\n",
              "    .colab-df-container {\n",
              "      display:flex;\n",
              "      gap: 12px;\n",
              "    }\n",
              "\n",
              "    .colab-df-convert {\n",
              "      background-color: #E8F0FE;\n",
              "      border: none;\n",
              "      border-radius: 50%;\n",
              "      cursor: pointer;\n",
              "      display: none;\n",
              "      fill: #1967D2;\n",
              "      height: 32px;\n",
              "      padding: 0 0 0 0;\n",
              "      width: 32px;\n",
              "    }\n",
              "\n",
              "    .colab-df-convert:hover {\n",
              "      background-color: #E2EBFA;\n",
              "      box-shadow: 0px 1px 2px rgba(60, 64, 67, 0.3), 0px 1px 3px 1px rgba(60, 64, 67, 0.15);\n",
              "      fill: #174EA6;\n",
              "    }\n",
              "\n",
              "    .colab-df-buttons div {\n",
              "      margin-bottom: 4px;\n",
              "    }\n",
              "\n",
              "    [theme=dark] .colab-df-convert {\n",
              "      background-color: #3B4455;\n",
              "      fill: #D2E3FC;\n",
              "    }\n",
              "\n",
              "    [theme=dark] .colab-df-convert:hover {\n",
              "      background-color: #434B5C;\n",
              "      box-shadow: 0px 1px 3px 1px rgba(0, 0, 0, 0.15);\n",
              "      filter: drop-shadow(0px 1px 2px rgba(0, 0, 0, 0.3));\n",
              "      fill: #FFFFFF;\n",
              "    }\n",
              "  </style>\n",
              "\n",
              "    <script>\n",
              "      const buttonEl =\n",
              "        document.querySelector('#df-e23d641e-70bb-4de1-81c2-143a76cfe3ce button.colab-df-convert');\n",
              "      buttonEl.style.display =\n",
              "        google.colab.kernel.accessAllowed ? 'block' : 'none';\n",
              "\n",
              "      async function convertToInteractive(key) {\n",
              "        const element = document.querySelector('#df-e23d641e-70bb-4de1-81c2-143a76cfe3ce');\n",
              "        const dataTable =\n",
              "          await google.colab.kernel.invokeFunction('convertToInteractive',\n",
              "                                                    [key], {});\n",
              "        if (!dataTable) return;\n",
              "\n",
              "        const docLinkHtml = 'Like what you see? Visit the ' +\n",
              "          '<a target=\"_blank\" href=https://colab.research.google.com/notebooks/data_table.ipynb>data table notebook</a>'\n",
              "          + ' to learn more about interactive tables.';\n",
              "        element.innerHTML = '';\n",
              "        dataTable['output_type'] = 'display_data';\n",
              "        await google.colab.output.renderOutput(dataTable, element);\n",
              "        const docLink = document.createElement('div');\n",
              "        docLink.innerHTML = docLinkHtml;\n",
              "        element.appendChild(docLink);\n",
              "      }\n",
              "    </script>\n",
              "  </div>\n",
              "\n",
              "\n",
              "    <div id=\"df-ca467a86-7190-42d8-91c7-9a238d0d8861\">\n",
              "      <button class=\"colab-df-quickchart\" onclick=\"quickchart('df-ca467a86-7190-42d8-91c7-9a238d0d8861')\"\n",
              "                title=\"Suggest charts\"\n",
              "                style=\"display:none;\">\n",
              "\n",
              "<svg xmlns=\"http://www.w3.org/2000/svg\" height=\"24px\"viewBox=\"0 0 24 24\"\n",
              "     width=\"24px\">\n",
              "    <g>\n",
              "        <path d=\"M19 3H5c-1.1 0-2 .9-2 2v14c0 1.1.9 2 2 2h14c1.1 0 2-.9 2-2V5c0-1.1-.9-2-2-2zM9 17H7v-7h2v7zm4 0h-2V7h2v10zm4 0h-2v-4h2v4z\"/>\n",
              "    </g>\n",
              "</svg>\n",
              "      </button>\n",
              "\n",
              "<style>\n",
              "  .colab-df-quickchart {\n",
              "      --bg-color: #E8F0FE;\n",
              "      --fill-color: #1967D2;\n",
              "      --hover-bg-color: #E2EBFA;\n",
              "      --hover-fill-color: #174EA6;\n",
              "      --disabled-fill-color: #AAA;\n",
              "      --disabled-bg-color: #DDD;\n",
              "  }\n",
              "\n",
              "  [theme=dark] .colab-df-quickchart {\n",
              "      --bg-color: #3B4455;\n",
              "      --fill-color: #D2E3FC;\n",
              "      --hover-bg-color: #434B5C;\n",
              "      --hover-fill-color: #FFFFFF;\n",
              "      --disabled-bg-color: #3B4455;\n",
              "      --disabled-fill-color: #666;\n",
              "  }\n",
              "\n",
              "  .colab-df-quickchart {\n",
              "    background-color: var(--bg-color);\n",
              "    border: none;\n",
              "    border-radius: 50%;\n",
              "    cursor: pointer;\n",
              "    display: none;\n",
              "    fill: var(--fill-color);\n",
              "    height: 32px;\n",
              "    padding: 0;\n",
              "    width: 32px;\n",
              "  }\n",
              "\n",
              "  .colab-df-quickchart:hover {\n",
              "    background-color: var(--hover-bg-color);\n",
              "    box-shadow: 0 1px 2px rgba(60, 64, 67, 0.3), 0 1px 3px 1px rgba(60, 64, 67, 0.15);\n",
              "    fill: var(--button-hover-fill-color);\n",
              "  }\n",
              "\n",
              "  .colab-df-quickchart-complete:disabled,\n",
              "  .colab-df-quickchart-complete:disabled:hover {\n",
              "    background-color: var(--disabled-bg-color);\n",
              "    fill: var(--disabled-fill-color);\n",
              "    box-shadow: none;\n",
              "  }\n",
              "\n",
              "  .colab-df-spinner {\n",
              "    border: 2px solid var(--fill-color);\n",
              "    border-color: transparent;\n",
              "    border-bottom-color: var(--fill-color);\n",
              "    animation:\n",
              "      spin 1s steps(1) infinite;\n",
              "  }\n",
              "\n",
              "  @keyframes spin {\n",
              "    0% {\n",
              "      border-color: transparent;\n",
              "      border-bottom-color: var(--fill-color);\n",
              "      border-left-color: var(--fill-color);\n",
              "    }\n",
              "    20% {\n",
              "      border-color: transparent;\n",
              "      border-left-color: var(--fill-color);\n",
              "      border-top-color: var(--fill-color);\n",
              "    }\n",
              "    30% {\n",
              "      border-color: transparent;\n",
              "      border-left-color: var(--fill-color);\n",
              "      border-top-color: var(--fill-color);\n",
              "      border-right-color: var(--fill-color);\n",
              "    }\n",
              "    40% {\n",
              "      border-color: transparent;\n",
              "      border-right-color: var(--fill-color);\n",
              "      border-top-color: var(--fill-color);\n",
              "    }\n",
              "    60% {\n",
              "      border-color: transparent;\n",
              "      border-right-color: var(--fill-color);\n",
              "    }\n",
              "    80% {\n",
              "      border-color: transparent;\n",
              "      border-right-color: var(--fill-color);\n",
              "      border-bottom-color: var(--fill-color);\n",
              "    }\n",
              "    90% {\n",
              "      border-color: transparent;\n",
              "      border-bottom-color: var(--fill-color);\n",
              "    }\n",
              "  }\n",
              "</style>\n",
              "\n",
              "      <script>\n",
              "        async function quickchart(key) {\n",
              "          const quickchartButtonEl =\n",
              "            document.querySelector('#' + key + ' button');\n",
              "          quickchartButtonEl.disabled = true;  // To prevent multiple clicks.\n",
              "          quickchartButtonEl.classList.add('colab-df-spinner');\n",
              "          try {\n",
              "            const charts = await google.colab.kernel.invokeFunction(\n",
              "                'suggestCharts', [key], {});\n",
              "          } catch (error) {\n",
              "            console.error('Error during call to suggestCharts:', error);\n",
              "          }\n",
              "          quickchartButtonEl.classList.remove('colab-df-spinner');\n",
              "          quickchartButtonEl.classList.add('colab-df-quickchart-complete');\n",
              "        }\n",
              "        (() => {\n",
              "          let quickchartButtonEl =\n",
              "            document.querySelector('#df-ca467a86-7190-42d8-91c7-9a238d0d8861 button');\n",
              "          quickchartButtonEl.style.display =\n",
              "            google.colab.kernel.accessAllowed ? 'block' : 'none';\n",
              "        })();\n",
              "      </script>\n",
              "    </div>\n",
              "\n",
              "  <div id=\"id_054680ef-dfb1-4824-bcb3-df31b80370c4\">\n",
              "    <style>\n",
              "      .colab-df-generate {\n",
              "        background-color: #E8F0FE;\n",
              "        border: none;\n",
              "        border-radius: 50%;\n",
              "        cursor: pointer;\n",
              "        display: none;\n",
              "        fill: #1967D2;\n",
              "        height: 32px;\n",
              "        padding: 0 0 0 0;\n",
              "        width: 32px;\n",
              "      }\n",
              "\n",
              "      .colab-df-generate:hover {\n",
              "        background-color: #E2EBFA;\n",
              "        box-shadow: 0px 1px 2px rgba(60, 64, 67, 0.3), 0px 1px 3px 1px rgba(60, 64, 67, 0.15);\n",
              "        fill: #174EA6;\n",
              "      }\n",
              "\n",
              "      [theme=dark] .colab-df-generate {\n",
              "        background-color: #3B4455;\n",
              "        fill: #D2E3FC;\n",
              "      }\n",
              "\n",
              "      [theme=dark] .colab-df-generate:hover {\n",
              "        background-color: #434B5C;\n",
              "        box-shadow: 0px 1px 3px 1px rgba(0, 0, 0, 0.15);\n",
              "        filter: drop-shadow(0px 1px 2px rgba(0, 0, 0, 0.3));\n",
              "        fill: #FFFFFF;\n",
              "      }\n",
              "    </style>\n",
              "    <button class=\"colab-df-generate\" onclick=\"generateWithVariable('nodes')\"\n",
              "            title=\"Generate code using this dataframe.\"\n",
              "            style=\"display:none;\">\n",
              "\n",
              "  <svg xmlns=\"http://www.w3.org/2000/svg\" height=\"24px\"viewBox=\"0 0 24 24\"\n",
              "       width=\"24px\">\n",
              "    <path d=\"M7,19H8.4L18.45,9,17,7.55,7,17.6ZM5,21V16.75L18.45,3.32a2,2,0,0,1,2.83,0l1.4,1.43a1.91,1.91,0,0,1,.58,1.4,1.91,1.91,0,0,1-.58,1.4L9.25,21ZM18.45,9,17,7.55Zm-12,3A5.31,5.31,0,0,0,4.9,8.1,5.31,5.31,0,0,0,1,6.5,5.31,5.31,0,0,0,4.9,4.9,5.31,5.31,0,0,0,6.5,1,5.31,5.31,0,0,0,8.1,4.9,5.31,5.31,0,0,0,12,6.5,5.46,5.46,0,0,0,6.5,12Z\"/>\n",
              "  </svg>\n",
              "    </button>\n",
              "    <script>\n",
              "      (() => {\n",
              "      const buttonEl =\n",
              "        document.querySelector('#id_054680ef-dfb1-4824-bcb3-df31b80370c4 button.colab-df-generate');\n",
              "      buttonEl.style.display =\n",
              "        google.colab.kernel.accessAllowed ? 'block' : 'none';\n",
              "\n",
              "      buttonEl.onclick = () => {\n",
              "        google.colab.notebook.generateWithVariable('nodes');\n",
              "      }\n",
              "      })();\n",
              "    </script>\n",
              "  </div>\n",
              "\n",
              "    </div>\n",
              "  </div>\n"
            ],
            "text/plain": [
              "                                      GlobalId  \\\n",
              "1GE3M13VHAWxhxwcp39Emh  1GE3M13VHAWxhxwcp39Emh   \n",
              "1GE3M13VHAWxhxwcp39EiJ  1GE3M13VHAWxhxwcp39EiJ   \n",
              "1GE3M13VHAWxhxwcp39Eiz  1GE3M13VHAWxhxwcp39Eiz   \n",
              "1GE3M13VHAWxhxwcp39Ei_  1GE3M13VHAWxhxwcp39Ei_   \n",
              "1GE3M13VHAWxhxwcp39Ei$  1GE3M13VHAWxhxwcp39Ei$   \n",
              "...                                        ...   \n",
              "2UMN_OQKrAshZl3dHPuj5b  2UMN_OQKrAshZl3dHPuj5b   \n",
              "2UMN_OQKrAshZl3dHPuj5a  2UMN_OQKrAshZl3dHPuj5a   \n",
              "2UMN_OQKrAshZl3dHPuZuz  2UMN_OQKrAshZl3dHPuZuz   \n",
              "2UMN_OQKrAshZl3dHPuj5c  2UMN_OQKrAshZl3dHPuj5c   \n",
              "2UMN_OQKrAshZl3dHPuj5g  2UMN_OQKrAshZl3dHPuj5g   \n",
              "\n",
              "                                                                     Name  \\\n",
              "1GE3M13VHAWxhxwcp39Emh                                                101   \n",
              "1GE3M13VHAWxhxwcp39EiJ                                                102   \n",
              "1GE3M13VHAWxhxwcp39Eiz                                                103   \n",
              "1GE3M13VHAWxhxwcp39Ei_                                                104   \n",
              "1GE3M13VHAWxhxwcp39Ei$                                                105   \n",
              "...                                                                   ...   \n",
              "2UMN_OQKrAshZl3dHPuj5b  Basic Wall:Interior - 138mm Partition (1-hr):1...   \n",
              "2UMN_OQKrAshZl3dHPuj5a  Basic Wall:Interior - 138mm Partition (1-hr):1...   \n",
              "2UMN_OQKrAshZl3dHPuZuz                M_Single-Flush:0915 x 2134mm:165645   \n",
              "2UMN_OQKrAshZl3dHPuj5c  Basic Wall:Interior - 138mm Partition (1-hr):1...   \n",
              "2UMN_OQKrAshZl3dHPuj5g                M_Single-Flush:0915 x 2134mm:157786   \n",
              "\n",
              "                       Description  \\\n",
              "1GE3M13VHAWxhxwcp39Emh        None   \n",
              "1GE3M13VHAWxhxwcp39EiJ        None   \n",
              "1GE3M13VHAWxhxwcp39Eiz        None   \n",
              "1GE3M13VHAWxhxwcp39Ei_        None   \n",
              "1GE3M13VHAWxhxwcp39Ei$        None   \n",
              "...                            ...   \n",
              "2UMN_OQKrAshZl3dHPuj5b        None   \n",
              "2UMN_OQKrAshZl3dHPuj5a        None   \n",
              "2UMN_OQKrAshZl3dHPuZuz        None   \n",
              "2UMN_OQKrAshZl3dHPuj5c        None   \n",
              "2UMN_OQKrAshZl3dHPuj5g        None   \n",
              "\n",
              "                                                          ObjectType  \\\n",
              "1GE3M13VHAWxhxwcp39Emh                                          None   \n",
              "1GE3M13VHAWxhxwcp39EiJ                                          None   \n",
              "1GE3M13VHAWxhxwcp39Eiz                                          None   \n",
              "1GE3M13VHAWxhxwcp39Ei_                                          None   \n",
              "1GE3M13VHAWxhxwcp39Ei$                                          None   \n",
              "...                                                              ...   \n",
              "2UMN_OQKrAshZl3dHPuj5b  Basic Wall:Interior - 138mm Partition (1-hr)   \n",
              "2UMN_OQKrAshZl3dHPuj5a  Basic Wall:Interior - 138mm Partition (1-hr)   \n",
              "2UMN_OQKrAshZl3dHPuZuz                  M_Single-Flush:0915 x 2134mm   \n",
              "2UMN_OQKrAshZl3dHPuj5c  Basic Wall:Interior - 138mm Partition (1-hr)   \n",
              "2UMN_OQKrAshZl3dHPuj5g                  M_Single-Flush:0915 x 2134mm   \n",
              "\n",
              "                                    IfcType             category  \n",
              "1GE3M13VHAWxhxwcp39Emh             IfcSpace             IfcSpace  \n",
              "1GE3M13VHAWxhxwcp39EiJ             IfcSpace             IfcSpace  \n",
              "1GE3M13VHAWxhxwcp39Eiz             IfcSpace             IfcSpace  \n",
              "1GE3M13VHAWxhxwcp39Ei_             IfcSpace             IfcSpace  \n",
              "1GE3M13VHAWxhxwcp39Ei$             IfcSpace             IfcSpace  \n",
              "...                                     ...                  ...  \n",
              "2UMN_OQKrAshZl3dHPuj5b  IfcWallStandardCase  IfcWallStandardCase  \n",
              "2UMN_OQKrAshZl3dHPuj5a  IfcWallStandardCase  IfcWallStandardCase  \n",
              "2UMN_OQKrAshZl3dHPuZuz              IfcDoor              IfcDoor  \n",
              "2UMN_OQKrAshZl3dHPuj5c  IfcWallStandardCase  IfcWallStandardCase  \n",
              "2UMN_OQKrAshZl3dHPuj5g              IfcDoor              IfcDoor  \n",
              "\n",
              "[339 rows x 6 columns]"
            ]
          },
          "execution_count": 37,
          "metadata": {},
          "output_type": "execute_result"
        }
      ],
      "source": [
        "nodes"
      ]
    },
    {
      "cell_type": "code",
      "execution_count": null,
      "metadata": {
        "id": "MMzyjQF31NSV"
      },
      "outputs": [],
      "source": [
        "# # Remove columns that contain a certain percentage of NaNs\n",
        "# threshold = 0.5 * len(nodes)\n",
        "# nodes = nodes.dropna(axis=1, thresh=threshold)  # Drop columns below the threshold"
      ]
    },
    {
      "cell_type": "code",
      "execution_count": null,
      "metadata": {
        "colab": {
          "base_uri": "https://localhost:8080/"
        },
        "id": "CTupGxU2z-hS",
        "outputId": "599c7ec2-5894-43ec-c403-2c6e5a8ede98"
      },
      "outputs": [
        {
          "name": "stdout",
          "output_type": "stream",
          "text": [
            "<class 'pandas.core.frame.DataFrame'>\n",
            "Index: 339 entries, 1GE3M13VHAWxhxwcp39Emh to 2UMN_OQKrAshZl3dHPuj5g\n",
            "Data columns (total 6 columns):\n",
            " #   Column       Non-Null Count  Dtype \n",
            "---  ------       --------------  ----- \n",
            " 0   GlobalId     339 non-null    object\n",
            " 1   Name         339 non-null    object\n",
            " 2   Description  0 non-null      object\n",
            " 3   ObjectType   248 non-null    object\n",
            " 4   IfcType      339 non-null    object\n",
            " 5   category     339 non-null    object\n",
            "dtypes: object(6)\n",
            "memory usage: 26.6+ KB\n"
          ]
        }
      ],
      "source": [
        "nodes.info()"
      ]
    },
    {
      "cell_type": "code",
      "execution_count": null,
      "metadata": {
        "colab": {
          "base_uri": "https://localhost:8080/",
          "height": 143
        },
        "id": "2GAGuYQL1sG1",
        "outputId": "4a99936c-76d4-4fc8-ceab-805ca35131f8"
      },
      "outputs": [
        {
          "data": {
            "application/vnd.google.colaboratory.intrinsic+json": {
              "repr_error": "Out of range float values are not JSON compliant: nan",
              "type": "dataframe",
              "variable_name": "nodes"
            },
            "text/html": [
              "\n",
              "  <div id=\"df-840f83a8-21e9-4770-a37b-acf31a87d629\" class=\"colab-df-container\">\n",
              "    <div>\n",
              "<style scoped>\n",
              "    .dataframe tbody tr th:only-of-type {\n",
              "        vertical-align: middle;\n",
              "    }\n",
              "\n",
              "    .dataframe tbody tr th {\n",
              "        vertical-align: top;\n",
              "    }\n",
              "\n",
              "    .dataframe thead th {\n",
              "        text-align: right;\n",
              "    }\n",
              "</style>\n",
              "<table border=\"1\" class=\"dataframe\">\n",
              "  <thead>\n",
              "    <tr style=\"text-align: right;\">\n",
              "      <th></th>\n",
              "      <th>GlobalId</th>\n",
              "      <th>Name</th>\n",
              "      <th>Description</th>\n",
              "      <th>ObjectType</th>\n",
              "      <th>IfcType</th>\n",
              "      <th>category</th>\n",
              "    </tr>\n",
              "  </thead>\n",
              "  <tbody>\n",
              "    <tr>\n",
              "      <th>1GE3M13VHAWxhxwcp39Emh</th>\n",
              "      <td>1GE3M13VHAWxhxwcp39Emh</td>\n",
              "      <td>101</td>\n",
              "      <td>None</td>\n",
              "      <td>None</td>\n",
              "      <td>IfcSpace</td>\n",
              "      <td>IfcSpace</td>\n",
              "    </tr>\n",
              "    <tr>\n",
              "      <th>1GE3M13VHAWxhxwcp39EiJ</th>\n",
              "      <td>1GE3M13VHAWxhxwcp39EiJ</td>\n",
              "      <td>102</td>\n",
              "      <td>None</td>\n",
              "      <td>None</td>\n",
              "      <td>IfcSpace</td>\n",
              "      <td>IfcSpace</td>\n",
              "    </tr>\n",
              "    <tr>\n",
              "      <th>1GE3M13VHAWxhxwcp39Eiz</th>\n",
              "      <td>1GE3M13VHAWxhxwcp39Eiz</td>\n",
              "      <td>103</td>\n",
              "      <td>None</td>\n",
              "      <td>None</td>\n",
              "      <td>IfcSpace</td>\n",
              "      <td>IfcSpace</td>\n",
              "    </tr>\n",
              "  </tbody>\n",
              "</table>\n",
              "</div>\n",
              "    <div class=\"colab-df-buttons\">\n",
              "\n",
              "  <div class=\"colab-df-container\">\n",
              "    <button class=\"colab-df-convert\" onclick=\"convertToInteractive('df-840f83a8-21e9-4770-a37b-acf31a87d629')\"\n",
              "            title=\"Convert this dataframe to an interactive table.\"\n",
              "            style=\"display:none;\">\n",
              "\n",
              "  <svg xmlns=\"http://www.w3.org/2000/svg\" height=\"24px\" viewBox=\"0 -960 960 960\">\n",
              "    <path d=\"M120-120v-720h720v720H120Zm60-500h600v-160H180v160Zm220 220h160v-160H400v160Zm0 220h160v-160H400v160ZM180-400h160v-160H180v160Zm440 0h160v-160H620v160ZM180-180h160v-160H180v160Zm440 0h160v-160H620v160Z\"/>\n",
              "  </svg>\n",
              "    </button>\n",
              "\n",
              "  <style>\n",
              "    .colab-df-container {\n",
              "      display:flex;\n",
              "      gap: 12px;\n",
              "    }\n",
              "\n",
              "    .colab-df-convert {\n",
              "      background-color: #E8F0FE;\n",
              "      border: none;\n",
              "      border-radius: 50%;\n",
              "      cursor: pointer;\n",
              "      display: none;\n",
              "      fill: #1967D2;\n",
              "      height: 32px;\n",
              "      padding: 0 0 0 0;\n",
              "      width: 32px;\n",
              "    }\n",
              "\n",
              "    .colab-df-convert:hover {\n",
              "      background-color: #E2EBFA;\n",
              "      box-shadow: 0px 1px 2px rgba(60, 64, 67, 0.3), 0px 1px 3px 1px rgba(60, 64, 67, 0.15);\n",
              "      fill: #174EA6;\n",
              "    }\n",
              "\n",
              "    .colab-df-buttons div {\n",
              "      margin-bottom: 4px;\n",
              "    }\n",
              "\n",
              "    [theme=dark] .colab-df-convert {\n",
              "      background-color: #3B4455;\n",
              "      fill: #D2E3FC;\n",
              "    }\n",
              "\n",
              "    [theme=dark] .colab-df-convert:hover {\n",
              "      background-color: #434B5C;\n",
              "      box-shadow: 0px 1px 3px 1px rgba(0, 0, 0, 0.15);\n",
              "      filter: drop-shadow(0px 1px 2px rgba(0, 0, 0, 0.3));\n",
              "      fill: #FFFFFF;\n",
              "    }\n",
              "  </style>\n",
              "\n",
              "    <script>\n",
              "      const buttonEl =\n",
              "        document.querySelector('#df-840f83a8-21e9-4770-a37b-acf31a87d629 button.colab-df-convert');\n",
              "      buttonEl.style.display =\n",
              "        google.colab.kernel.accessAllowed ? 'block' : 'none';\n",
              "\n",
              "      async function convertToInteractive(key) {\n",
              "        const element = document.querySelector('#df-840f83a8-21e9-4770-a37b-acf31a87d629');\n",
              "        const dataTable =\n",
              "          await google.colab.kernel.invokeFunction('convertToInteractive',\n",
              "                                                    [key], {});\n",
              "        if (!dataTable) return;\n",
              "\n",
              "        const docLinkHtml = 'Like what you see? Visit the ' +\n",
              "          '<a target=\"_blank\" href=https://colab.research.google.com/notebooks/data_table.ipynb>data table notebook</a>'\n",
              "          + ' to learn more about interactive tables.';\n",
              "        element.innerHTML = '';\n",
              "        dataTable['output_type'] = 'display_data';\n",
              "        await google.colab.output.renderOutput(dataTable, element);\n",
              "        const docLink = document.createElement('div');\n",
              "        docLink.innerHTML = docLinkHtml;\n",
              "        element.appendChild(docLink);\n",
              "      }\n",
              "    </script>\n",
              "  </div>\n",
              "\n",
              "\n",
              "    <div id=\"df-89e4e829-7e25-4d9d-a2cf-29db1fecd768\">\n",
              "      <button class=\"colab-df-quickchart\" onclick=\"quickchart('df-89e4e829-7e25-4d9d-a2cf-29db1fecd768')\"\n",
              "                title=\"Suggest charts\"\n",
              "                style=\"display:none;\">\n",
              "\n",
              "<svg xmlns=\"http://www.w3.org/2000/svg\" height=\"24px\"viewBox=\"0 0 24 24\"\n",
              "     width=\"24px\">\n",
              "    <g>\n",
              "        <path d=\"M19 3H5c-1.1 0-2 .9-2 2v14c0 1.1.9 2 2 2h14c1.1 0 2-.9 2-2V5c0-1.1-.9-2-2-2zM9 17H7v-7h2v7zm4 0h-2V7h2v10zm4 0h-2v-4h2v4z\"/>\n",
              "    </g>\n",
              "</svg>\n",
              "      </button>\n",
              "\n",
              "<style>\n",
              "  .colab-df-quickchart {\n",
              "      --bg-color: #E8F0FE;\n",
              "      --fill-color: #1967D2;\n",
              "      --hover-bg-color: #E2EBFA;\n",
              "      --hover-fill-color: #174EA6;\n",
              "      --disabled-fill-color: #AAA;\n",
              "      --disabled-bg-color: #DDD;\n",
              "  }\n",
              "\n",
              "  [theme=dark] .colab-df-quickchart {\n",
              "      --bg-color: #3B4455;\n",
              "      --fill-color: #D2E3FC;\n",
              "      --hover-bg-color: #434B5C;\n",
              "      --hover-fill-color: #FFFFFF;\n",
              "      --disabled-bg-color: #3B4455;\n",
              "      --disabled-fill-color: #666;\n",
              "  }\n",
              "\n",
              "  .colab-df-quickchart {\n",
              "    background-color: var(--bg-color);\n",
              "    border: none;\n",
              "    border-radius: 50%;\n",
              "    cursor: pointer;\n",
              "    display: none;\n",
              "    fill: var(--fill-color);\n",
              "    height: 32px;\n",
              "    padding: 0;\n",
              "    width: 32px;\n",
              "  }\n",
              "\n",
              "  .colab-df-quickchart:hover {\n",
              "    background-color: var(--hover-bg-color);\n",
              "    box-shadow: 0 1px 2px rgba(60, 64, 67, 0.3), 0 1px 3px 1px rgba(60, 64, 67, 0.15);\n",
              "    fill: var(--button-hover-fill-color);\n",
              "  }\n",
              "\n",
              "  .colab-df-quickchart-complete:disabled,\n",
              "  .colab-df-quickchart-complete:disabled:hover {\n",
              "    background-color: var(--disabled-bg-color);\n",
              "    fill: var(--disabled-fill-color);\n",
              "    box-shadow: none;\n",
              "  }\n",
              "\n",
              "  .colab-df-spinner {\n",
              "    border: 2px solid var(--fill-color);\n",
              "    border-color: transparent;\n",
              "    border-bottom-color: var(--fill-color);\n",
              "    animation:\n",
              "      spin 1s steps(1) infinite;\n",
              "  }\n",
              "\n",
              "  @keyframes spin {\n",
              "    0% {\n",
              "      border-color: transparent;\n",
              "      border-bottom-color: var(--fill-color);\n",
              "      border-left-color: var(--fill-color);\n",
              "    }\n",
              "    20% {\n",
              "      border-color: transparent;\n",
              "      border-left-color: var(--fill-color);\n",
              "      border-top-color: var(--fill-color);\n",
              "    }\n",
              "    30% {\n",
              "      border-color: transparent;\n",
              "      border-left-color: var(--fill-color);\n",
              "      border-top-color: var(--fill-color);\n",
              "      border-right-color: var(--fill-color);\n",
              "    }\n",
              "    40% {\n",
              "      border-color: transparent;\n",
              "      border-right-color: var(--fill-color);\n",
              "      border-top-color: var(--fill-color);\n",
              "    }\n",
              "    60% {\n",
              "      border-color: transparent;\n",
              "      border-right-color: var(--fill-color);\n",
              "    }\n",
              "    80% {\n",
              "      border-color: transparent;\n",
              "      border-right-color: var(--fill-color);\n",
              "      border-bottom-color: var(--fill-color);\n",
              "    }\n",
              "    90% {\n",
              "      border-color: transparent;\n",
              "      border-bottom-color: var(--fill-color);\n",
              "    }\n",
              "  }\n",
              "</style>\n",
              "\n",
              "      <script>\n",
              "        async function quickchart(key) {\n",
              "          const quickchartButtonEl =\n",
              "            document.querySelector('#' + key + ' button');\n",
              "          quickchartButtonEl.disabled = true;  // To prevent multiple clicks.\n",
              "          quickchartButtonEl.classList.add('colab-df-spinner');\n",
              "          try {\n",
              "            const charts = await google.colab.kernel.invokeFunction(\n",
              "                'suggestCharts', [key], {});\n",
              "          } catch (error) {\n",
              "            console.error('Error during call to suggestCharts:', error);\n",
              "          }\n",
              "          quickchartButtonEl.classList.remove('colab-df-spinner');\n",
              "          quickchartButtonEl.classList.add('colab-df-quickchart-complete');\n",
              "        }\n",
              "        (() => {\n",
              "          let quickchartButtonEl =\n",
              "            document.querySelector('#df-89e4e829-7e25-4d9d-a2cf-29db1fecd768 button');\n",
              "          quickchartButtonEl.style.display =\n",
              "            google.colab.kernel.accessAllowed ? 'block' : 'none';\n",
              "        })();\n",
              "      </script>\n",
              "    </div>\n",
              "\n",
              "    </div>\n",
              "  </div>\n"
            ],
            "text/plain": [
              "                                      GlobalId Name Description ObjectType  \\\n",
              "1GE3M13VHAWxhxwcp39Emh  1GE3M13VHAWxhxwcp39Emh  101        None       None   \n",
              "1GE3M13VHAWxhxwcp39EiJ  1GE3M13VHAWxhxwcp39EiJ  102        None       None   \n",
              "1GE3M13VHAWxhxwcp39Eiz  1GE3M13VHAWxhxwcp39Eiz  103        None       None   \n",
              "\n",
              "                         IfcType  category  \n",
              "1GE3M13VHAWxhxwcp39Emh  IfcSpace  IfcSpace  \n",
              "1GE3M13VHAWxhxwcp39EiJ  IfcSpace  IfcSpace  \n",
              "1GE3M13VHAWxhxwcp39Eiz  IfcSpace  IfcSpace  "
            ]
          },
          "execution_count": 40,
          "metadata": {},
          "output_type": "execute_result"
        }
      ],
      "source": [
        "nodes.head(3)"
      ]
    },
    {
      "cell_type": "code",
      "execution_count": null,
      "metadata": {
        "id": "BMGVaFo1wdh4"
      },
      "outputs": [],
      "source": [
        "# Replace Nans with a string 'N/A'\n",
        "nodes.fillna('N/A', inplace=True)"
      ]
    },
    {
      "cell_type": "code",
      "execution_count": null,
      "metadata": {
        "colab": {
          "base_uri": "https://localhost:8080/"
        },
        "id": "zQdZ8hC4wpz_",
        "outputId": "79785822-3596-4b2b-8746-aa041274b4b9"
      },
      "outputs": [
        {
          "name": "stdout",
          "output_type": "stream",
          "text": [
            "<class 'pandas.core.frame.DataFrame'>\n",
            "Index: 339 entries, 1GE3M13VHAWxhxwcp39Emh to 2UMN_OQKrAshZl3dHPuj5g\n",
            "Data columns (total 6 columns):\n",
            " #   Column       Non-Null Count  Dtype \n",
            "---  ------       --------------  ----- \n",
            " 0   GlobalId     339 non-null    object\n",
            " 1   Name         339 non-null    object\n",
            " 2   Description  339 non-null    object\n",
            " 3   ObjectType   339 non-null    object\n",
            " 4   IfcType      339 non-null    object\n",
            " 5   category     339 non-null    object\n",
            "dtypes: object(6)\n",
            "memory usage: 26.6+ KB\n"
          ]
        }
      ],
      "source": [
        "nodes.info()"
      ]
    },
    {
      "cell_type": "code",
      "execution_count": null,
      "metadata": {
        "colab": {
          "base_uri": "https://localhost:8080/",
          "height": 366
        },
        "id": "Zlumc94V5wyN",
        "outputId": "4e350e6d-d790-4957-d4e9-660bba4fc4f0"
      },
      "outputs": [
        {
          "data": {
            "text/html": [
              "<div>\n",
              "<style scoped>\n",
              "    .dataframe tbody tr th:only-of-type {\n",
              "        vertical-align: middle;\n",
              "    }\n",
              "\n",
              "    .dataframe tbody tr th {\n",
              "        vertical-align: top;\n",
              "    }\n",
              "\n",
              "    .dataframe thead th {\n",
              "        text-align: right;\n",
              "    }\n",
              "</style>\n",
              "<table border=\"1\" class=\"dataframe\">\n",
              "  <thead>\n",
              "    <tr style=\"text-align: right;\">\n",
              "      <th></th>\n",
              "      <th>count</th>\n",
              "    </tr>\n",
              "    <tr>\n",
              "      <th>IfcType</th>\n",
              "      <th></th>\n",
              "    </tr>\n",
              "  </thead>\n",
              "  <tbody>\n",
              "    <tr>\n",
              "      <th>IfcWallStandardCase</th>\n",
              "      <td>117</td>\n",
              "    </tr>\n",
              "    <tr>\n",
              "      <th>IfcSpace</th>\n",
              "      <td>91</td>\n",
              "    </tr>\n",
              "    <tr>\n",
              "      <th>IfcDoor</th>\n",
              "      <td>84</td>\n",
              "    </tr>\n",
              "    <tr>\n",
              "      <th>IfcWindow</th>\n",
              "      <td>24</td>\n",
              "    </tr>\n",
              "    <tr>\n",
              "      <th>IfcColumn</th>\n",
              "      <td>11</td>\n",
              "    </tr>\n",
              "    <tr>\n",
              "      <th>IfcCurtainWall</th>\n",
              "      <td>5</td>\n",
              "    </tr>\n",
              "    <tr>\n",
              "      <th>IfcWall</th>\n",
              "      <td>4</td>\n",
              "    </tr>\n",
              "    <tr>\n",
              "      <th>IfcSlab</th>\n",
              "      <td>3</td>\n",
              "    </tr>\n",
              "  </tbody>\n",
              "</table>\n",
              "</div><br><label><b>dtype:</b> int64</label>"
            ],
            "text/plain": [
              "IfcType\n",
              "IfcWallStandardCase    117\n",
              "IfcSpace                91\n",
              "IfcDoor                 84\n",
              "IfcWindow               24\n",
              "IfcColumn               11\n",
              "IfcCurtainWall           5\n",
              "IfcWall                  4\n",
              "IfcSlab                  3\n",
              "Name: count, dtype: int64"
            ]
          },
          "execution_count": 43,
          "metadata": {},
          "output_type": "execute_result"
        }
      ],
      "source": [
        "nodes['IfcType'].value_counts()"
      ]
    },
    {
      "cell_type": "code",
      "execution_count": null,
      "metadata": {
        "colab": {
          "base_uri": "https://localhost:8080/",
          "height": 366
        },
        "id": "vjMANKbG6aGc",
        "outputId": "6dd4a5a7-6460-45c3-8f7a-cd456783aee2"
      },
      "outputs": [
        {
          "data": {
            "text/html": [
              "<div>\n",
              "<style scoped>\n",
              "    .dataframe tbody tr th:only-of-type {\n",
              "        vertical-align: middle;\n",
              "    }\n",
              "\n",
              "    .dataframe tbody tr th {\n",
              "        vertical-align: top;\n",
              "    }\n",
              "\n",
              "    .dataframe thead th {\n",
              "        text-align: right;\n",
              "    }\n",
              "</style>\n",
              "<table border=\"1\" class=\"dataframe\">\n",
              "  <thead>\n",
              "    <tr style=\"text-align: right;\">\n",
              "      <th></th>\n",
              "      <th>count</th>\n",
              "    </tr>\n",
              "    <tr>\n",
              "      <th>category</th>\n",
              "      <th></th>\n",
              "    </tr>\n",
              "  </thead>\n",
              "  <tbody>\n",
              "    <tr>\n",
              "      <th>IfcWallStandardCase</th>\n",
              "      <td>117</td>\n",
              "    </tr>\n",
              "    <tr>\n",
              "      <th>IfcSpace</th>\n",
              "      <td>91</td>\n",
              "    </tr>\n",
              "    <tr>\n",
              "      <th>IfcDoor</th>\n",
              "      <td>84</td>\n",
              "    </tr>\n",
              "    <tr>\n",
              "      <th>IfcWindow</th>\n",
              "      <td>24</td>\n",
              "    </tr>\n",
              "    <tr>\n",
              "      <th>IfcColumn</th>\n",
              "      <td>11</td>\n",
              "    </tr>\n",
              "    <tr>\n",
              "      <th>IfcCurtainWall</th>\n",
              "      <td>5</td>\n",
              "    </tr>\n",
              "    <tr>\n",
              "      <th>IfcWall</th>\n",
              "      <td>4</td>\n",
              "    </tr>\n",
              "    <tr>\n",
              "      <th>IfcSlab</th>\n",
              "      <td>3</td>\n",
              "    </tr>\n",
              "  </tbody>\n",
              "</table>\n",
              "</div><br><label><b>dtype:</b> int64</label>"
            ],
            "text/plain": [
              "category\n",
              "IfcWallStandardCase    117\n",
              "IfcSpace                91\n",
              "IfcDoor                 84\n",
              "IfcWindow               24\n",
              "IfcColumn               11\n",
              "IfcCurtainWall           5\n",
              "IfcWall                  4\n",
              "IfcSlab                  3\n",
              "Name: count, dtype: int64"
            ]
          },
          "execution_count": 44,
          "metadata": {},
          "output_type": "execute_result"
        }
      ],
      "source": [
        "nodes['category'].value_counts()"
      ]
    },
    {
      "cell_type": "code",
      "execution_count": null,
      "metadata": {
        "id": "4qjpHhg608uW"
      },
      "outputs": [],
      "source": [
        "edges = pd.DataFrame(G.edges(data=True), columns=['source', 'target', 'attributes'])"
      ]
    },
    {
      "cell_type": "code",
      "execution_count": null,
      "metadata": {
        "colab": {
          "base_uri": "https://localhost:8080/"
        },
        "id": "my-BJ01y0O-k",
        "outputId": "3c9e02d9-01df-43bf-c5b2-ce66eb413e59"
      },
      "outputs": [
        {
          "name": "stdout",
          "output_type": "stream",
          "text": [
            "<class 'pandas.core.frame.DataFrame'>\n",
            "RangeIndex: 862 entries, 0 to 861\n",
            "Data columns (total 3 columns):\n",
            " #   Column      Non-Null Count  Dtype \n",
            "---  ------      --------------  ----- \n",
            " 0   source      862 non-null    object\n",
            " 1   target      862 non-null    object\n",
            " 2   attributes  862 non-null    object\n",
            "dtypes: object(3)\n",
            "memory usage: 20.3+ KB\n"
          ]
        }
      ],
      "source": [
        "edges.info()"
      ]
    },
    {
      "cell_type": "code",
      "execution_count": null,
      "metadata": {
        "colab": {
          "base_uri": "https://localhost:8080/",
          "height": 206
        },
        "id": "EvLLWGDP0E8e",
        "outputId": "1bbb606e-902f-4bdf-9f35-0ad0723e7325"
      },
      "outputs": [
        {
          "data": {
            "application/vnd.google.colaboratory.intrinsic+json": {
              "summary": "{\n  \"name\": \"edges\",\n  \"rows\": 862,\n  \"fields\": [\n    {\n      \"column\": \"source\",\n      \"properties\": {\n        \"dtype\": \"category\",\n        \"num_unique_values\": 126,\n        \"samples\": [\n          \"1wJoqPkIP4J8fINgm5A1pr\",\n          \"1GE3M13VHAWxhxwcp39EiI\",\n          \"2UMN_OQKrAshZl3dHPuimM\"\n        ],\n        \"semantic_type\": \"\",\n        \"description\": \"\"\n      }\n    },\n    {\n      \"column\": \"target\",\n      \"properties\": {\n        \"dtype\": \"category\",\n        \"num_unique_values\": 248,\n        \"samples\": [\n          \"2UMN_OQKrAshZl3dHPui5B\",\n          \"2UMN_OQKrAshZl3dHPujdx\",\n          \"2UMN_OQKrAshZl3dHPuj2u\"\n        ],\n        \"semantic_type\": \"\",\n        \"description\": \"\"\n      }\n    },\n    {\n      \"column\": \"attributes\",\n      \"properties\": {\n        \"dtype\": \"object\",\n        \"semantic_type\": \"\",\n        \"description\": \"\"\n      }\n    }\n  ]\n}",
              "type": "dataframe",
              "variable_name": "edges"
            },
            "text/html": [
              "\n",
              "  <div id=\"df-a6f3513b-bac4-4f74-9134-0c875dc81a61\" class=\"colab-df-container\">\n",
              "    <div>\n",
              "<style scoped>\n",
              "    .dataframe tbody tr th:only-of-type {\n",
              "        vertical-align: middle;\n",
              "    }\n",
              "\n",
              "    .dataframe tbody tr th {\n",
              "        vertical-align: top;\n",
              "    }\n",
              "\n",
              "    .dataframe thead th {\n",
              "        text-align: right;\n",
              "    }\n",
              "</style>\n",
              "<table border=\"1\" class=\"dataframe\">\n",
              "  <thead>\n",
              "    <tr style=\"text-align: right;\">\n",
              "      <th></th>\n",
              "      <th>source</th>\n",
              "      <th>target</th>\n",
              "      <th>attributes</th>\n",
              "    </tr>\n",
              "  </thead>\n",
              "  <tbody>\n",
              "    <tr>\n",
              "      <th>0</th>\n",
              "      <td>1GE3M13VHAWxhxwcp39Emh</td>\n",
              "      <td>3FZFp0nq9AAhRAecLpGfvv</td>\n",
              "      <td>{'relation': 'SURROUNDS'}</td>\n",
              "    </tr>\n",
              "    <tr>\n",
              "      <th>1</th>\n",
              "      <td>1GE3M13VHAWxhxwcp39Emh</td>\n",
              "      <td>3a58fQxqD2numVo$eTOgS$</td>\n",
              "      <td>{'relation': 'SURROUNDS'}</td>\n",
              "    </tr>\n",
              "    <tr>\n",
              "      <th>2</th>\n",
              "      <td>1GE3M13VHAWxhxwcp39Emh</td>\n",
              "      <td>2Tt7$hRrHBKvoaUIFPAz_N</td>\n",
              "      <td>{'relation': 'SURROUNDS'}</td>\n",
              "    </tr>\n",
              "    <tr>\n",
              "      <th>3</th>\n",
              "      <td>1GE3M13VHAWxhxwcp39Emh</td>\n",
              "      <td>3n9ek_acHEfRCBQHch6_cD</td>\n",
              "      <td>{'relation': 'SURROUNDS'}</td>\n",
              "    </tr>\n",
              "    <tr>\n",
              "      <th>4</th>\n",
              "      <td>1GE3M13VHAWxhxwcp39EiJ</td>\n",
              "      <td>2Tt7$hRrHBKvoaUIFPAz_N</td>\n",
              "      <td>{'relation': 'SURROUNDS'}</td>\n",
              "    </tr>\n",
              "  </tbody>\n",
              "</table>\n",
              "</div>\n",
              "    <div class=\"colab-df-buttons\">\n",
              "\n",
              "  <div class=\"colab-df-container\">\n",
              "    <button class=\"colab-df-convert\" onclick=\"convertToInteractive('df-a6f3513b-bac4-4f74-9134-0c875dc81a61')\"\n",
              "            title=\"Convert this dataframe to an interactive table.\"\n",
              "            style=\"display:none;\">\n",
              "\n",
              "  <svg xmlns=\"http://www.w3.org/2000/svg\" height=\"24px\" viewBox=\"0 -960 960 960\">\n",
              "    <path d=\"M120-120v-720h720v720H120Zm60-500h600v-160H180v160Zm220 220h160v-160H400v160Zm0 220h160v-160H400v160ZM180-400h160v-160H180v160Zm440 0h160v-160H620v160ZM180-180h160v-160H180v160Zm440 0h160v-160H620v160Z\"/>\n",
              "  </svg>\n",
              "    </button>\n",
              "\n",
              "  <style>\n",
              "    .colab-df-container {\n",
              "      display:flex;\n",
              "      gap: 12px;\n",
              "    }\n",
              "\n",
              "    .colab-df-convert {\n",
              "      background-color: #E8F0FE;\n",
              "      border: none;\n",
              "      border-radius: 50%;\n",
              "      cursor: pointer;\n",
              "      display: none;\n",
              "      fill: #1967D2;\n",
              "      height: 32px;\n",
              "      padding: 0 0 0 0;\n",
              "      width: 32px;\n",
              "    }\n",
              "\n",
              "    .colab-df-convert:hover {\n",
              "      background-color: #E2EBFA;\n",
              "      box-shadow: 0px 1px 2px rgba(60, 64, 67, 0.3), 0px 1px 3px 1px rgba(60, 64, 67, 0.15);\n",
              "      fill: #174EA6;\n",
              "    }\n",
              "\n",
              "    .colab-df-buttons div {\n",
              "      margin-bottom: 4px;\n",
              "    }\n",
              "\n",
              "    [theme=dark] .colab-df-convert {\n",
              "      background-color: #3B4455;\n",
              "      fill: #D2E3FC;\n",
              "    }\n",
              "\n",
              "    [theme=dark] .colab-df-convert:hover {\n",
              "      background-color: #434B5C;\n",
              "      box-shadow: 0px 1px 3px 1px rgba(0, 0, 0, 0.15);\n",
              "      filter: drop-shadow(0px 1px 2px rgba(0, 0, 0, 0.3));\n",
              "      fill: #FFFFFF;\n",
              "    }\n",
              "  </style>\n",
              "\n",
              "    <script>\n",
              "      const buttonEl =\n",
              "        document.querySelector('#df-a6f3513b-bac4-4f74-9134-0c875dc81a61 button.colab-df-convert');\n",
              "      buttonEl.style.display =\n",
              "        google.colab.kernel.accessAllowed ? 'block' : 'none';\n",
              "\n",
              "      async function convertToInteractive(key) {\n",
              "        const element = document.querySelector('#df-a6f3513b-bac4-4f74-9134-0c875dc81a61');\n",
              "        const dataTable =\n",
              "          await google.colab.kernel.invokeFunction('convertToInteractive',\n",
              "                                                    [key], {});\n",
              "        if (!dataTable) return;\n",
              "\n",
              "        const docLinkHtml = 'Like what you see? Visit the ' +\n",
              "          '<a target=\"_blank\" href=https://colab.research.google.com/notebooks/data_table.ipynb>data table notebook</a>'\n",
              "          + ' to learn more about interactive tables.';\n",
              "        element.innerHTML = '';\n",
              "        dataTable['output_type'] = 'display_data';\n",
              "        await google.colab.output.renderOutput(dataTable, element);\n",
              "        const docLink = document.createElement('div');\n",
              "        docLink.innerHTML = docLinkHtml;\n",
              "        element.appendChild(docLink);\n",
              "      }\n",
              "    </script>\n",
              "  </div>\n",
              "\n",
              "\n",
              "    <div id=\"df-eb6003f5-7e8e-4a5f-bf04-2f29987ab7dd\">\n",
              "      <button class=\"colab-df-quickchart\" onclick=\"quickchart('df-eb6003f5-7e8e-4a5f-bf04-2f29987ab7dd')\"\n",
              "                title=\"Suggest charts\"\n",
              "                style=\"display:none;\">\n",
              "\n",
              "<svg xmlns=\"http://www.w3.org/2000/svg\" height=\"24px\"viewBox=\"0 0 24 24\"\n",
              "     width=\"24px\">\n",
              "    <g>\n",
              "        <path d=\"M19 3H5c-1.1 0-2 .9-2 2v14c0 1.1.9 2 2 2h14c1.1 0 2-.9 2-2V5c0-1.1-.9-2-2-2zM9 17H7v-7h2v7zm4 0h-2V7h2v10zm4 0h-2v-4h2v4z\"/>\n",
              "    </g>\n",
              "</svg>\n",
              "      </button>\n",
              "\n",
              "<style>\n",
              "  .colab-df-quickchart {\n",
              "      --bg-color: #E8F0FE;\n",
              "      --fill-color: #1967D2;\n",
              "      --hover-bg-color: #E2EBFA;\n",
              "      --hover-fill-color: #174EA6;\n",
              "      --disabled-fill-color: #AAA;\n",
              "      --disabled-bg-color: #DDD;\n",
              "  }\n",
              "\n",
              "  [theme=dark] .colab-df-quickchart {\n",
              "      --bg-color: #3B4455;\n",
              "      --fill-color: #D2E3FC;\n",
              "      --hover-bg-color: #434B5C;\n",
              "      --hover-fill-color: #FFFFFF;\n",
              "      --disabled-bg-color: #3B4455;\n",
              "      --disabled-fill-color: #666;\n",
              "  }\n",
              "\n",
              "  .colab-df-quickchart {\n",
              "    background-color: var(--bg-color);\n",
              "    border: none;\n",
              "    border-radius: 50%;\n",
              "    cursor: pointer;\n",
              "    display: none;\n",
              "    fill: var(--fill-color);\n",
              "    height: 32px;\n",
              "    padding: 0;\n",
              "    width: 32px;\n",
              "  }\n",
              "\n",
              "  .colab-df-quickchart:hover {\n",
              "    background-color: var(--hover-bg-color);\n",
              "    box-shadow: 0 1px 2px rgba(60, 64, 67, 0.3), 0 1px 3px 1px rgba(60, 64, 67, 0.15);\n",
              "    fill: var(--button-hover-fill-color);\n",
              "  }\n",
              "\n",
              "  .colab-df-quickchart-complete:disabled,\n",
              "  .colab-df-quickchart-complete:disabled:hover {\n",
              "    background-color: var(--disabled-bg-color);\n",
              "    fill: var(--disabled-fill-color);\n",
              "    box-shadow: none;\n",
              "  }\n",
              "\n",
              "  .colab-df-spinner {\n",
              "    border: 2px solid var(--fill-color);\n",
              "    border-color: transparent;\n",
              "    border-bottom-color: var(--fill-color);\n",
              "    animation:\n",
              "      spin 1s steps(1) infinite;\n",
              "  }\n",
              "\n",
              "  @keyframes spin {\n",
              "    0% {\n",
              "      border-color: transparent;\n",
              "      border-bottom-color: var(--fill-color);\n",
              "      border-left-color: var(--fill-color);\n",
              "    }\n",
              "    20% {\n",
              "      border-color: transparent;\n",
              "      border-left-color: var(--fill-color);\n",
              "      border-top-color: var(--fill-color);\n",
              "    }\n",
              "    30% {\n",
              "      border-color: transparent;\n",
              "      border-left-color: var(--fill-color);\n",
              "      border-top-color: var(--fill-color);\n",
              "      border-right-color: var(--fill-color);\n",
              "    }\n",
              "    40% {\n",
              "      border-color: transparent;\n",
              "      border-right-color: var(--fill-color);\n",
              "      border-top-color: var(--fill-color);\n",
              "    }\n",
              "    60% {\n",
              "      border-color: transparent;\n",
              "      border-right-color: var(--fill-color);\n",
              "    }\n",
              "    80% {\n",
              "      border-color: transparent;\n",
              "      border-right-color: var(--fill-color);\n",
              "      border-bottom-color: var(--fill-color);\n",
              "    }\n",
              "    90% {\n",
              "      border-color: transparent;\n",
              "      border-bottom-color: var(--fill-color);\n",
              "    }\n",
              "  }\n",
              "</style>\n",
              "\n",
              "      <script>\n",
              "        async function quickchart(key) {\n",
              "          const quickchartButtonEl =\n",
              "            document.querySelector('#' + key + ' button');\n",
              "          quickchartButtonEl.disabled = true;  // To prevent multiple clicks.\n",
              "          quickchartButtonEl.classList.add('colab-df-spinner');\n",
              "          try {\n",
              "            const charts = await google.colab.kernel.invokeFunction(\n",
              "                'suggestCharts', [key], {});\n",
              "          } catch (error) {\n",
              "            console.error('Error during call to suggestCharts:', error);\n",
              "          }\n",
              "          quickchartButtonEl.classList.remove('colab-df-spinner');\n",
              "          quickchartButtonEl.classList.add('colab-df-quickchart-complete');\n",
              "        }\n",
              "        (() => {\n",
              "          let quickchartButtonEl =\n",
              "            document.querySelector('#df-eb6003f5-7e8e-4a5f-bf04-2f29987ab7dd button');\n",
              "          quickchartButtonEl.style.display =\n",
              "            google.colab.kernel.accessAllowed ? 'block' : 'none';\n",
              "        })();\n",
              "      </script>\n",
              "    </div>\n",
              "\n",
              "    </div>\n",
              "  </div>\n"
            ],
            "text/plain": [
              "                   source                  target                 attributes\n",
              "0  1GE3M13VHAWxhxwcp39Emh  3FZFp0nq9AAhRAecLpGfvv  {'relation': 'SURROUNDS'}\n",
              "1  1GE3M13VHAWxhxwcp39Emh  3a58fQxqD2numVo$eTOgS$  {'relation': 'SURROUNDS'}\n",
              "2  1GE3M13VHAWxhxwcp39Emh  2Tt7$hRrHBKvoaUIFPAz_N  {'relation': 'SURROUNDS'}\n",
              "3  1GE3M13VHAWxhxwcp39Emh  3n9ek_acHEfRCBQHch6_cD  {'relation': 'SURROUNDS'}\n",
              "4  1GE3M13VHAWxhxwcp39EiJ  2Tt7$hRrHBKvoaUIFPAz_N  {'relation': 'SURROUNDS'}"
            ]
          },
          "execution_count": 47,
          "metadata": {},
          "output_type": "execute_result"
        }
      ],
      "source": [
        "edges.head()"
      ]
    },
    {
      "cell_type": "code",
      "execution_count": null,
      "metadata": {
        "colab": {
          "base_uri": "https://localhost:8080/"
        },
        "id": "7Rq12ByYZy62",
        "outputId": "c0d6dc98-e8f6-46fb-a730-ba902acdd46c"
      },
      "outputs": [
        {
          "name": "stdout",
          "output_type": "stream",
          "text": [
            "['SURROUNDS' 'VOIDS']\n"
          ]
        }
      ],
      "source": [
        "# Check for edges types\n",
        "edges['relation_type'] = edges['attributes'].apply(lambda x: x.get('relation', None))\n",
        "unique_relations = edges['relation_type'].unique()\n",
        "print(unique_relations)\n"
      ]
    },
    {
      "cell_type": "markdown",
      "metadata": {
        "id": "WXZbPLpfMieg"
      },
      "source": [
        "## 2.7. Save `csv` files for nodes and edges"
      ]
    },
    {
      "cell_type": "code",
      "execution_count": null,
      "metadata": {
        "id": "riBWAj0F1wzl"
      },
      "outputs": [],
      "source": [
        "# nodes.to_csv('/content/drive/MyDrive/IFC/edges_01.csv')\n",
        "# edges.to_csv('/content/drive/MyDrive/IFC/nodes_01.csv')\n",
        "nodes.to_json('/content/edges_01.json')\n",
        "edges.to_json('/content/nodes_01.json')"
      ]
    },
    {
      "cell_type": "markdown",
      "metadata": {
        "id": "1V5I4DxzspiZ"
      },
      "source": [
        "## BONUS: visualizg in the web"
      ]
    },
    {
      "cell_type": "code",
      "execution_count": null,
      "metadata": {
        "colab": {
          "base_uri": "https://localhost:8080/"
        },
        "id": "dpNuk1V6s-eq",
        "outputId": "b932c89e-43c2-4966-9fea-2b0443f03fcf"
      },
      "outputs": [
        {
          "name": "stdout",
          "output_type": "stream",
          "text": [
            "Collecting ipysigma\n",
            "  Downloading ipysigma-0.24.5-py3-none-any.whl.metadata (56 kB)\n",
            "\u001b[?25l     \u001b[90m━━━━━━━━━━━━━━━━━━━━━━━━━━━━━━━━━━━━━━━━\u001b[0m \u001b[32m0.0/56.7 kB\u001b[0m \u001b[31m?\u001b[0m eta \u001b[36m-:--:--\u001b[0m\r\u001b[2K     \u001b[90m━━━━━━━━━━━━━━━━━━━━━━━━━━━━━━━━━━━━━━━━\u001b[0m \u001b[32m56.7/56.7 kB\u001b[0m \u001b[31m2.7 MB/s\u001b[0m eta \u001b[36m0:00:00\u001b[0m\n",
            "\u001b[?25hRequirement already satisfied: ipywidgets<9,>=7 in /usr/local/lib/python3.11/dist-packages (from ipysigma) (7.7.1)\n",
            "Requirement already satisfied: ipykernel>=4.5.1 in /usr/local/lib/python3.11/dist-packages (from ipywidgets<9,>=7->ipysigma) (6.17.1)\n",
            "Requirement already satisfied: ipython-genutils~=0.2.0 in /usr/local/lib/python3.11/dist-packages (from ipywidgets<9,>=7->ipysigma) (0.2.0)\n",
            "Requirement already satisfied: traitlets>=4.3.1 in /usr/local/lib/python3.11/dist-packages (from ipywidgets<9,>=7->ipysigma) (5.7.1)\n",
            "Requirement already satisfied: widgetsnbextension~=3.6.0 in /usr/local/lib/python3.11/dist-packages (from ipywidgets<9,>=7->ipysigma) (3.6.10)\n",
            "Requirement already satisfied: ipython>=4.0.0 in /usr/local/lib/python3.11/dist-packages (from ipywidgets<9,>=7->ipysigma) (7.34.0)\n",
            "Requirement already satisfied: jupyterlab-widgets>=1.0.0 in /usr/local/lib/python3.11/dist-packages (from ipywidgets<9,>=7->ipysigma) (3.0.15)\n",
            "Requirement already satisfied: debugpy>=1.0 in /usr/local/lib/python3.11/dist-packages (from ipykernel>=4.5.1->ipywidgets<9,>=7->ipysigma) (1.8.0)\n",
            "Requirement already satisfied: jupyter-client>=6.1.12 in /usr/local/lib/python3.11/dist-packages (from ipykernel>=4.5.1->ipywidgets<9,>=7->ipysigma) (6.1.12)\n",
            "Requirement already satisfied: matplotlib-inline>=0.1 in /usr/local/lib/python3.11/dist-packages (from ipykernel>=4.5.1->ipywidgets<9,>=7->ipysigma) (0.1.7)\n",
            "Requirement already satisfied: nest-asyncio in /usr/local/lib/python3.11/dist-packages (from ipykernel>=4.5.1->ipywidgets<9,>=7->ipysigma) (1.6.0)\n",
            "Requirement already satisfied: packaging in /usr/local/lib/python3.11/dist-packages (from ipykernel>=4.5.1->ipywidgets<9,>=7->ipysigma) (24.2)\n",
            "Requirement already satisfied: psutil in /usr/local/lib/python3.11/dist-packages (from ipykernel>=4.5.1->ipywidgets<9,>=7->ipysigma) (5.9.5)\n",
            "Requirement already satisfied: pyzmq>=17 in /usr/local/lib/python3.11/dist-packages (from ipykernel>=4.5.1->ipywidgets<9,>=7->ipysigma) (24.0.1)\n",
            "Requirement already satisfied: tornado>=6.1 in /usr/local/lib/python3.11/dist-packages (from ipykernel>=4.5.1->ipywidgets<9,>=7->ipysigma) (6.4.2)\n",
            "Requirement already satisfied: setuptools>=18.5 in /usr/local/lib/python3.11/dist-packages (from ipython>=4.0.0->ipywidgets<9,>=7->ipysigma) (75.2.0)\n",
            "Collecting jedi>=0.16 (from ipython>=4.0.0->ipywidgets<9,>=7->ipysigma)\n",
            "  Downloading jedi-0.19.2-py2.py3-none-any.whl.metadata (22 kB)\n",
            "Requirement already satisfied: decorator in /usr/local/lib/python3.11/dist-packages (from ipython>=4.0.0->ipywidgets<9,>=7->ipysigma) (4.4.2)\n",
            "Requirement already satisfied: pickleshare in /usr/local/lib/python3.11/dist-packages (from ipython>=4.0.0->ipywidgets<9,>=7->ipysigma) (0.7.5)\n",
            "Requirement already satisfied: prompt-toolkit!=3.0.0,!=3.0.1,<3.1.0,>=2.0.0 in /usr/local/lib/python3.11/dist-packages (from ipython>=4.0.0->ipywidgets<9,>=7->ipysigma) (3.0.51)\n",
            "Requirement already satisfied: pygments in /usr/local/lib/python3.11/dist-packages (from ipython>=4.0.0->ipywidgets<9,>=7->ipysigma) (2.19.1)\n",
            "Requirement already satisfied: backcall in /usr/local/lib/python3.11/dist-packages (from ipython>=4.0.0->ipywidgets<9,>=7->ipysigma) (0.2.0)\n",
            "Requirement already satisfied: pexpect>4.3 in /usr/local/lib/python3.11/dist-packages (from ipython>=4.0.0->ipywidgets<9,>=7->ipysigma) (4.9.0)\n",
            "Requirement already satisfied: notebook>=4.4.1 in /usr/local/lib/python3.11/dist-packages (from widgetsnbextension~=3.6.0->ipywidgets<9,>=7->ipysigma) (6.5.7)\n",
            "Requirement already satisfied: parso<0.9.0,>=0.8.4 in /usr/local/lib/python3.11/dist-packages (from jedi>=0.16->ipython>=4.0.0->ipywidgets<9,>=7->ipysigma) (0.8.4)\n",
            "Requirement already satisfied: jupyter-core>=4.6.0 in /usr/local/lib/python3.11/dist-packages (from jupyter-client>=6.1.12->ipykernel>=4.5.1->ipywidgets<9,>=7->ipysigma) (5.8.1)\n",
            "Requirement already satisfied: python-dateutil>=2.1 in /usr/local/lib/python3.11/dist-packages (from jupyter-client>=6.1.12->ipykernel>=4.5.1->ipywidgets<9,>=7->ipysigma) (2.9.0.post0)\n",
            "Requirement already satisfied: jinja2 in /usr/local/lib/python3.11/dist-packages (from notebook>=4.4.1->widgetsnbextension~=3.6.0->ipywidgets<9,>=7->ipysigma) (3.1.6)\n",
            "Requirement already satisfied: argon2-cffi in /usr/local/lib/python3.11/dist-packages (from notebook>=4.4.1->widgetsnbextension~=3.6.0->ipywidgets<9,>=7->ipysigma) (25.1.0)\n",
            "Requirement already satisfied: nbformat in /usr/local/lib/python3.11/dist-packages (from notebook>=4.4.1->widgetsnbextension~=3.6.0->ipywidgets<9,>=7->ipysigma) (5.10.4)\n",
            "Requirement already satisfied: nbconvert>=5 in /usr/local/lib/python3.11/dist-packages (from notebook>=4.4.1->widgetsnbextension~=3.6.0->ipywidgets<9,>=7->ipysigma) (7.16.6)\n",
            "Requirement already satisfied: Send2Trash>=1.8.0 in /usr/local/lib/python3.11/dist-packages (from notebook>=4.4.1->widgetsnbextension~=3.6.0->ipywidgets<9,>=7->ipysigma) (1.8.3)\n",
            "Requirement already satisfied: terminado>=0.8.3 in /usr/local/lib/python3.11/dist-packages (from notebook>=4.4.1->widgetsnbextension~=3.6.0->ipywidgets<9,>=7->ipysigma) (0.18.1)\n",
            "Requirement already satisfied: prometheus-client in /usr/local/lib/python3.11/dist-packages (from notebook>=4.4.1->widgetsnbextension~=3.6.0->ipywidgets<9,>=7->ipysigma) (0.22.1)\n",
            "Requirement already satisfied: nbclassic>=0.4.7 in /usr/local/lib/python3.11/dist-packages (from notebook>=4.4.1->widgetsnbextension~=3.6.0->ipywidgets<9,>=7->ipysigma) (1.3.1)\n",
            "Requirement already satisfied: ptyprocess>=0.5 in /usr/local/lib/python3.11/dist-packages (from pexpect>4.3->ipython>=4.0.0->ipywidgets<9,>=7->ipysigma) (0.7.0)\n",
            "Requirement already satisfied: wcwidth in /usr/local/lib/python3.11/dist-packages (from prompt-toolkit!=3.0.0,!=3.0.1,<3.1.0,>=2.0.0->ipython>=4.0.0->ipywidgets<9,>=7->ipysigma) (0.2.13)\n",
            "Requirement already satisfied: platformdirs>=2.5 in /usr/local/lib/python3.11/dist-packages (from jupyter-core>=4.6.0->jupyter-client>=6.1.12->ipykernel>=4.5.1->ipywidgets<9,>=7->ipysigma) (4.3.8)\n",
            "Requirement already satisfied: notebook-shim>=0.2.3 in /usr/local/lib/python3.11/dist-packages (from nbclassic>=0.4.7->notebook>=4.4.1->widgetsnbextension~=3.6.0->ipywidgets<9,>=7->ipysigma) (0.2.4)\n",
            "Requirement already satisfied: beautifulsoup4 in /usr/local/lib/python3.11/dist-packages (from nbconvert>=5->notebook>=4.4.1->widgetsnbextension~=3.6.0->ipywidgets<9,>=7->ipysigma) (4.13.4)\n",
            "Requirement already satisfied: bleach!=5.0.0 in /usr/local/lib/python3.11/dist-packages (from bleach[css]!=5.0.0->nbconvert>=5->notebook>=4.4.1->widgetsnbextension~=3.6.0->ipywidgets<9,>=7->ipysigma) (6.2.0)\n",
            "Requirement already satisfied: defusedxml in /usr/local/lib/python3.11/dist-packages (from nbconvert>=5->notebook>=4.4.1->widgetsnbextension~=3.6.0->ipywidgets<9,>=7->ipysigma) (0.7.1)\n",
            "Requirement already satisfied: jupyterlab-pygments in /usr/local/lib/python3.11/dist-packages (from nbconvert>=5->notebook>=4.4.1->widgetsnbextension~=3.6.0->ipywidgets<9,>=7->ipysigma) (0.3.0)\n",
            "Requirement already satisfied: markupsafe>=2.0 in /usr/local/lib/python3.11/dist-packages (from nbconvert>=5->notebook>=4.4.1->widgetsnbextension~=3.6.0->ipywidgets<9,>=7->ipysigma) (3.0.2)\n",
            "Requirement already satisfied: mistune<4,>=2.0.3 in /usr/local/lib/python3.11/dist-packages (from nbconvert>=5->notebook>=4.4.1->widgetsnbextension~=3.6.0->ipywidgets<9,>=7->ipysigma) (3.1.3)\n",
            "Requirement already satisfied: nbclient>=0.5.0 in /usr/local/lib/python3.11/dist-packages (from nbconvert>=5->notebook>=4.4.1->widgetsnbextension~=3.6.0->ipywidgets<9,>=7->ipysigma) (0.10.2)\n",
            "Requirement already satisfied: pandocfilters>=1.4.1 in /usr/local/lib/python3.11/dist-packages (from nbconvert>=5->notebook>=4.4.1->widgetsnbextension~=3.6.0->ipywidgets<9,>=7->ipysigma) (1.5.1)\n",
            "Requirement already satisfied: fastjsonschema>=2.15 in /usr/local/lib/python3.11/dist-packages (from nbformat->notebook>=4.4.1->widgetsnbextension~=3.6.0->ipywidgets<9,>=7->ipysigma) (2.21.1)\n",
            "Requirement already satisfied: jsonschema>=2.6 in /usr/local/lib/python3.11/dist-packages (from nbformat->notebook>=4.4.1->widgetsnbextension~=3.6.0->ipywidgets<9,>=7->ipysigma) (4.24.0)\n",
            "Requirement already satisfied: six>=1.5 in /usr/local/lib/python3.11/dist-packages (from python-dateutil>=2.1->jupyter-client>=6.1.12->ipykernel>=4.5.1->ipywidgets<9,>=7->ipysigma) (1.17.0)\n",
            "Requirement already satisfied: argon2-cffi-bindings in /usr/local/lib/python3.11/dist-packages (from argon2-cffi->notebook>=4.4.1->widgetsnbextension~=3.6.0->ipywidgets<9,>=7->ipysigma) (21.2.0)\n",
            "Requirement already satisfied: webencodings in /usr/local/lib/python3.11/dist-packages (from bleach!=5.0.0->bleach[css]!=5.0.0->nbconvert>=5->notebook>=4.4.1->widgetsnbextension~=3.6.0->ipywidgets<9,>=7->ipysigma) (0.5.1)\n",
            "Requirement already satisfied: tinycss2<1.5,>=1.1.0 in /usr/local/lib/python3.11/dist-packages (from bleach[css]!=5.0.0->nbconvert>=5->notebook>=4.4.1->widgetsnbextension~=3.6.0->ipywidgets<9,>=7->ipysigma) (1.4.0)\n",
            "Requirement already satisfied: attrs>=22.2.0 in /usr/local/lib/python3.11/dist-packages (from jsonschema>=2.6->nbformat->notebook>=4.4.1->widgetsnbextension~=3.6.0->ipywidgets<9,>=7->ipysigma) (25.3.0)\n",
            "Requirement already satisfied: jsonschema-specifications>=2023.03.6 in /usr/local/lib/python3.11/dist-packages (from jsonschema>=2.6->nbformat->notebook>=4.4.1->widgetsnbextension~=3.6.0->ipywidgets<9,>=7->ipysigma) (2025.4.1)\n",
            "Requirement already satisfied: referencing>=0.28.4 in /usr/local/lib/python3.11/dist-packages (from jsonschema>=2.6->nbformat->notebook>=4.4.1->widgetsnbextension~=3.6.0->ipywidgets<9,>=7->ipysigma) (0.36.2)\n",
            "Requirement already satisfied: rpds-py>=0.7.1 in /usr/local/lib/python3.11/dist-packages (from jsonschema>=2.6->nbformat->notebook>=4.4.1->widgetsnbextension~=3.6.0->ipywidgets<9,>=7->ipysigma) (0.25.1)\n",
            "Requirement already satisfied: jupyter-server<3,>=1.8 in /usr/local/lib/python3.11/dist-packages (from notebook-shim>=0.2.3->nbclassic>=0.4.7->notebook>=4.4.1->widgetsnbextension~=3.6.0->ipywidgets<9,>=7->ipysigma) (1.16.0)\n",
            "Requirement already satisfied: cffi>=1.0.1 in /usr/local/lib/python3.11/dist-packages (from argon2-cffi-bindings->argon2-cffi->notebook>=4.4.1->widgetsnbextension~=3.6.0->ipywidgets<9,>=7->ipysigma) (1.17.1)\n",
            "Requirement already satisfied: soupsieve>1.2 in /usr/local/lib/python3.11/dist-packages (from beautifulsoup4->nbconvert>=5->notebook>=4.4.1->widgetsnbextension~=3.6.0->ipywidgets<9,>=7->ipysigma) (2.7)\n",
            "Requirement already satisfied: typing-extensions>=4.0.0 in /usr/local/lib/python3.11/dist-packages (from beautifulsoup4->nbconvert>=5->notebook>=4.4.1->widgetsnbextension~=3.6.0->ipywidgets<9,>=7->ipysigma) (4.14.0)\n",
            "Requirement already satisfied: pycparser in /usr/local/lib/python3.11/dist-packages (from cffi>=1.0.1->argon2-cffi-bindings->argon2-cffi->notebook>=4.4.1->widgetsnbextension~=3.6.0->ipywidgets<9,>=7->ipysigma) (2.22)\n",
            "Requirement already satisfied: anyio>=3.1.0 in /usr/local/lib/python3.11/dist-packages (from jupyter-server<3,>=1.8->notebook-shim>=0.2.3->nbclassic>=0.4.7->notebook>=4.4.1->widgetsnbextension~=3.6.0->ipywidgets<9,>=7->ipysigma) (4.9.0)\n",
            "Requirement already satisfied: websocket-client in /usr/local/lib/python3.11/dist-packages (from jupyter-server<3,>=1.8->notebook-shim>=0.2.3->nbclassic>=0.4.7->notebook>=4.4.1->widgetsnbextension~=3.6.0->ipywidgets<9,>=7->ipysigma) (1.8.0)\n",
            "Requirement already satisfied: idna>=2.8 in /usr/local/lib/python3.11/dist-packages (from anyio>=3.1.0->jupyter-server<3,>=1.8->notebook-shim>=0.2.3->nbclassic>=0.4.7->notebook>=4.4.1->widgetsnbextension~=3.6.0->ipywidgets<9,>=7->ipysigma) (3.10)\n",
            "Requirement already satisfied: sniffio>=1.1 in /usr/local/lib/python3.11/dist-packages (from anyio>=3.1.0->jupyter-server<3,>=1.8->notebook-shim>=0.2.3->nbclassic>=0.4.7->notebook>=4.4.1->widgetsnbextension~=3.6.0->ipywidgets<9,>=7->ipysigma) (1.3.1)\n",
            "Downloading ipysigma-0.24.5-py3-none-any.whl (2.7 MB)\n",
            "\u001b[2K   \u001b[90m━━━━━━━━━━━━━━━━━━━━━━━━━━━━━━━━━━━━━━━━\u001b[0m \u001b[32m2.7/2.7 MB\u001b[0m \u001b[31m30.9 MB/s\u001b[0m eta \u001b[36m0:00:00\u001b[0m\n",
            "\u001b[?25hDownloading jedi-0.19.2-py2.py3-none-any.whl (1.6 MB)\n",
            "\u001b[2K   \u001b[90m━━━━━━━━━━━━━━━━━━━━━━━━━━━━━━━━━━━━━━━━\u001b[0m \u001b[32m1.6/1.6 MB\u001b[0m \u001b[31m36.1 MB/s\u001b[0m eta \u001b[36m0:00:00\u001b[0m\n",
            "\u001b[?25hInstalling collected packages: jedi, ipysigma\n",
            "Successfully installed ipysigma-0.24.5 jedi-0.19.2\n"
          ]
        }
      ],
      "source": [
        "!pip install ipysigma"
      ]
    },
    {
      "cell_type": "code",
      "execution_count": null,
      "metadata": {
        "id": "lERH1LPJ-bA_"
      },
      "outputs": [],
      "source": [
        "from google.colab import output\n",
        "output.enable_custom_widget_manager()"
      ]
    },
    {
      "cell_type": "code",
      "execution_count": null,
      "metadata": {
        "id": "hBzcjvDetKnv"
      },
      "outputs": [],
      "source": [
        "from google.colab import output\n",
        "output.enable_custom_widget_manager()"
      ]
    },
    {
      "cell_type": "code",
      "execution_count": null,
      "metadata": {
        "colab": {
          "base_uri": "https://localhost:8080/",
          "height": 538,
          "referenced_widgets": [
            "4d9a1a64fce64955aba8b8359cc9afc0"
          ]
        },
        "id": "dYXmU6ZKtKnv",
        "outputId": "60b61d54-3297-4c24-9545-731add234ff7"
      },
      "outputs": [
        {
          "data": {
            "application/vnd.jupyter.widget-view+json": {
              "model_id": "4d9a1a64fce64955aba8b8359cc9afc0",
              "version_major": 2,
              "version_minor": 0
            },
            "text/plain": [
              "Sigma(nx.Graph with 339 nodes and 862 edges)"
            ]
          },
          "metadata": {
            "application/vnd.jupyter.widget-view+json": {
              "colab": {
                "custom_widget_manager": {
                  "url": "https://ssl.gstatic.com/colaboratory-static/widgets/colab-cdn-widget-manager/2b70e893a8ba7c0f/manager.min.js"
                }
              }
            }
          },
          "output_type": "display_data"
        }
      ],
      "source": [
        "# Visualize\n",
        "from ipysigma import Sigma\n",
        "sigma  = Sigma(G)\n",
        "\n",
        "# Display the widget in the notebook\n",
        "display(sigma)"
      ]
    },
    {
      "cell_type": "code",
      "execution_count": null,
      "metadata": {
        "id": "1-YFoyAbtKnv"
      },
      "outputs": [],
      "source": [
        "# Export the graph to an HTML file\n",
        "sigma.write_html(\n",
        "    G,\n",
        "    './BDG_IFC.html',\n",
        "    fullscreen=True,\n",
        "    node_color= 'dept',  # Use the 'color' attribute for course type\n",
        "    node_size_range=(1, 15),\n",
        "    default_edge_type='line',\n",
        "    node_border_color_from='node',\n",
        "    default_node_label_size=12,\n",
        "    edge_size_range=(1, 15),\n",
        "    node_size=lambda node: G.degree(node)\n",
        ")"
      ]
    }
  ],
  "metadata": {
    "colab": {
      "provenance": []
    },
    "kernelspec": {
      "display_name": ".svenv",
      "language": "python",
      "name": "python3"
    },
    "language_info": {
      "name": "python",
      "version": "3.10.9"
    },
    "widgets": {
      "application/vnd.jupyter.widget-state+json": {
        "4d9a1a64fce64955aba8b8359cc9afc0": {
          "model_module": "ipysigma",
          "model_module_version": "^0.24.5",
          "model_name": "SigmaModel",
          "state": {
            "_dom_classes": [],
            "_model_module": "ipysigma",
            "_model_module_version": "^0.24.5",
            "_model_name": "SigmaModel",
            "_view_count": null,
            "_view_module": "ipysigma",
            "_view_module_version": "^0.24.5",
            "_view_name": "SigmaView",
            "background_color": "white",
            "camera_state": {
              "angle": 0,
              "ratio": 2.034090854123017,
              "x": 1.4852014757539116,
              "y": 0.5983668583179365
            },
            "clickable_edges": false,
            "data": {
              "edges": [
                {
                  "attributes": {
                    "relation": "SURROUNDS"
                  },
                  "source": "1GE3M13VHAWxhxwcp39Emh",
                  "target": "3FZFp0nq9AAhRAecLpGfvv"
                },
                {
                  "attributes": {
                    "relation": "SURROUNDS"
                  },
                  "source": "1GE3M13VHAWxhxwcp39Emh",
                  "target": "3a58fQxqD2numVo$eTOgS$"
                },
                {
                  "attributes": {
                    "relation": "SURROUNDS"
                  },
                  "source": "1GE3M13VHAWxhxwcp39Emh",
                  "target": "2Tt7$hRrHBKvoaUIFPAz_N"
                },
                {
                  "attributes": {
                    "relation": "SURROUNDS"
                  },
                  "source": "1GE3M13VHAWxhxwcp39Emh",
                  "target": "3n9ek_acHEfRCBQHch6_cD"
                },
                {
                  "attributes": {
                    "relation": "SURROUNDS"
                  },
                  "source": "1GE3M13VHAWxhxwcp39EiJ",
                  "target": "2Tt7$hRrHBKvoaUIFPAz_N"
                },
                {
                  "attributes": {
                    "relation": "SURROUNDS"
                  },
                  "source": "1GE3M13VHAWxhxwcp39EiJ",
                  "target": "2UMN_OQKrAshZl3dHPulpG"
                },
                {
                  "attributes": {
                    "relation": "SURROUNDS"
                  },
                  "source": "1GE3M13VHAWxhxwcp39EiJ",
                  "target": "3O2nkpovb3Z9uJgH09FwmW"
                },
                {
                  "attributes": {
                    "relation": "SURROUNDS"
                  },
                  "source": "1GE3M13VHAWxhxwcp39EiJ",
                  "target": "2UMN_OQKrAshZl3dHPujdx"
                },
                {
                  "attributes": {
                    "relation": "SURROUNDS"
                  },
                  "source": "1GE3M13VHAWxhxwcp39EiJ",
                  "target": "2UMN_OQKrAshZl3dHPujXf"
                },
                {
                  "attributes": {
                    "relation": "SURROUNDS"
                  },
                  "source": "1GE3M13VHAWxhxwcp39EiJ",
                  "target": "1fIVuvFffDJRV_SJESOtCZ"
                },
                {
                  "attributes": {
                    "relation": "SURROUNDS"
                  },
                  "source": "1GE3M13VHAWxhxwcp39EiJ",
                  "target": "2UMN_OQKrAshZl3dHPul4V"
                },
                {
                  "attributes": {
                    "relation": "SURROUNDS"
                  },
                  "source": "1GE3M13VHAWxhxwcp39EiJ",
                  "target": "2UMN_OQKrAshZl3dHPul5b"
                },
                {
                  "attributes": {
                    "relation": "SURROUNDS"
                  },
                  "source": "1GE3M13VHAWxhxwcp39EiJ",
                  "target": "2UMN_OQKrAshZl3dHPui5h"
                },
                {
                  "attributes": {
                    "relation": "SURROUNDS"
                  },
                  "source": "1GE3M13VHAWxhxwcp39EiJ",
                  "target": "3a58fQxqD2numVo$eTOgS$"
                },
                {
                  "attributes": {
                    "relation": "SURROUNDS"
                  },
                  "source": "1GE3M13VHAWxhxwcp39EiJ",
                  "target": "2Tt7$hRrHBKvoaUIFPAzZX"
                },
                {
                  "attributes": {
                    "relation": "SURROUNDS"
                  },
                  "source": "1GE3M13VHAWxhxwcp39EiJ",
                  "target": "2UMN_OQKrAshZl3dHPukeA"
                },
                {
                  "attributes": {
                    "relation": "SURROUNDS"
                  },
                  "source": "1GE3M13VHAWxhxwcp39EiJ",
                  "target": "2UMN_OQKrAshZl3dHPulOJ"
                },
                {
                  "attributes": {
                    "relation": "SURROUNDS"
                  },
                  "source": "1GE3M13VHAWxhxwcp39EiJ",
                  "target": "2UMN_OQKrAshZl3dHPujxv"
                },
                {
                  "attributes": {
                    "relation": "SURROUNDS"
                  },
                  "source": "1GE3M13VHAWxhxwcp39EiJ",
                  "target": "2UMN_OQKrAshZl3dHPuj4m"
                },
                {
                  "attributes": {
                    "relation": "SURROUNDS"
                  },
                  "source": "1GE3M13VHAWxhxwcp39EiJ",
                  "target": "2UMN_OQKrAshZl3dHPukgi"
                },
                {
                  "attributes": {
                    "relation": "SURROUNDS"
                  },
                  "source": "1GE3M13VHAWxhxwcp39EiJ",
                  "target": "2UMN_OQKrAshZl3dHPuj4n"
                },
                {
                  "attributes": {
                    "relation": "SURROUNDS"
                  },
                  "source": "1GE3M13VHAWxhxwcp39EiJ",
                  "target": "2UMN_OQKrAshZl3dHPul9s"
                },
                {
                  "attributes": {
                    "relation": "SURROUNDS"
                  },
                  "source": "1GE3M13VHAWxhxwcp39EiJ",
                  "target": "2UMN_OQKrAshZl3dHPulK8"
                },
                {
                  "attributes": {
                    "relation": "SURROUNDS"
                  },
                  "source": "1GE3M13VHAWxhxwcp39EiJ",
                  "target": "2UMN_OQKrAshZl3dHPulHz"
                },
                {
                  "attributes": {
                    "relation": "SURROUNDS"
                  },
                  "source": "1GE3M13VHAWxhxwcp39EiJ",
                  "target": "2UMN_OQKrAshZl3dHPuiDz"
                },
                {
                  "attributes": {
                    "relation": "SURROUNDS"
                  },
                  "source": "1GE3M13VHAWxhxwcp39EiJ",
                  "target": "2UMN_OQKrAshZl3dHPujV_"
                },
                {
                  "attributes": {
                    "relation": "SURROUNDS"
                  },
                  "source": "1GE3M13VHAWxhxwcp39EiJ",
                  "target": "2UMN_OQKrAshZl3dHPujOW"
                },
                {
                  "attributes": {
                    "relation": "SURROUNDS"
                  },
                  "source": "1GE3M13VHAWxhxwcp39EiJ",
                  "target": "2UMN_OQKrAshZl3dHPulAD"
                },
                {
                  "attributes": {
                    "relation": "SURROUNDS"
                  },
                  "source": "1GE3M13VHAWxhxwcp39EiJ",
                  "target": "2UMN_OQKrAshZl3dHPul$r"
                },
                {
                  "attributes": {
                    "relation": "SURROUNDS"
                  },
                  "source": "1GE3M13VHAWxhxwcp39EiJ",
                  "target": "2UMN_OQKrAshZl3dHPulAp"
                },
                {
                  "attributes": {
                    "relation": "SURROUNDS"
                  },
                  "source": "1GE3M13VHAWxhxwcp39EiJ",
                  "target": "2UMN_OQKrAshZl3dHPujJu"
                },
                {
                  "attributes": {
                    "relation": "SURROUNDS"
                  },
                  "source": "1GE3M13VHAWxhxwcp39EiJ",
                  "target": "2UMN_OQKrAshZl3dHPujP0"
                },
                {
                  "attributes": {
                    "relation": "SURROUNDS"
                  },
                  "source": "1GE3M13VHAWxhxwcp39EiJ",
                  "target": "2UMN_OQKrAshZl3dHPulEv"
                },
                {
                  "attributes": {
                    "relation": "SURROUNDS"
                  },
                  "source": "1GE3M13VHAWxhxwcp39EiJ",
                  "target": "1Rlu17Ctf6ZvZdq3UgKRVD"
                },
                {
                  "attributes": {
                    "relation": "SURROUNDS"
                  },
                  "source": "1GE3M13VHAWxhxwcp39EiJ",
                  "target": "3n9ek_acHEfRCBQHch6_cD"
                },
                {
                  "attributes": {
                    "relation": "SURROUNDS"
                  },
                  "source": "1GE3M13VHAWxhxwcp39EiJ",
                  "target": "2UMN_OQKrAshZl3dHPujR8"
                },
                {
                  "attributes": {
                    "relation": "SURROUNDS"
                  },
                  "source": "1GE3M13VHAWxhxwcp39EiJ",
                  "target": "2UMN_OQKrAshZl3dHPui5B"
                },
                {
                  "attributes": {
                    "relation": "SURROUNDS"
                  },
                  "source": "1GE3M13VHAWxhxwcp39Eiz",
                  "target": "3a58fQxqD2numVo$eTOgS$"
                },
                {
                  "attributes": {
                    "relation": "SURROUNDS"
                  },
                  "source": "1GE3M13VHAWxhxwcp39Eiz",
                  "target": "2UMN_OQKrAshZl3dHPukD5"
                },
                {
                  "attributes": {
                    "relation": "SURROUNDS"
                  },
                  "source": "1GE3M13VHAWxhxwcp39Eiz",
                  "target": "2UMN_OQKrAshZl3dHPukwI"
                },
                {
                  "attributes": {
                    "relation": "SURROUNDS"
                  },
                  "source": "1GE3M13VHAWxhxwcp39Eiz",
                  "target": "2UMN_OQKrAshZl3dHPuk98"
                },
                {
                  "attributes": {
                    "relation": "SURROUNDS"
                  },
                  "source": "1GE3M13VHAWxhxwcp39Eiz",
                  "target": "2UMN_OQKrAshZl3dHPukEN"
                },
                {
                  "attributes": {
                    "relation": "SURROUNDS"
                  },
                  "source": "1GE3M13VHAWxhxwcp39Eiz",
                  "target": "2UMN_OQKrAshZl3dHPuj4w"
                },
                {
                  "attributes": {
                    "relation": "SURROUNDS"
                  },
                  "source": "1GE3M13VHAWxhxwcp39Eiz",
                  "target": "2UMN_OQKrAshZl3dHPuj9v"
                },
                {
                  "attributes": {
                    "relation": "SURROUNDS"
                  },
                  "source": "1GE3M13VHAWxhxwcp39Eiz",
                  "target": "2UMN_OQKrAshZl3dHPujAr"
                },
                {
                  "attributes": {
                    "relation": "SURROUNDS"
                  },
                  "source": "1GE3M13VHAWxhxwcp39Ei_",
                  "target": "2UMN_OQKrAshZl3dHPukD5"
                },
                {
                  "attributes": {
                    "relation": "SURROUNDS"
                  },
                  "source": "1GE3M13VHAWxhxwcp39Ei_",
                  "target": "3a58fQxqD2numVo$eTOgS$"
                },
                {
                  "attributes": {
                    "relation": "SURROUNDS"
                  },
                  "source": "1GE3M13VHAWxhxwcp39Ei_",
                  "target": "2UMN_OQKrAshZl3dHPuk2N"
                },
                {
                  "attributes": {
                    "relation": "SURROUNDS"
                  },
                  "source": "1GE3M13VHAWxhxwcp39Ei_",
                  "target": "2UMN_OQKrAshZl3dHPukwI"
                },
                {
                  "attributes": {
                    "relation": "SURROUNDS"
                  },
                  "source": "1GE3M13VHAWxhxwcp39Ei_",
                  "target": "2UMN_OQKrAshZl3dHPukAQ"
                },
                {
                  "attributes": {
                    "relation": "SURROUNDS"
                  },
                  "source": "1GE3M13VHAWxhxwcp39Ei_",
                  "target": "2UMN_OQKrAshZl3dHPukBf"
                },
                {
                  "attributes": {
                    "relation": "SURROUNDS"
                  },
                  "source": "1GE3M13VHAWxhxwcp39Ei_",
                  "target": "2UMN_OQKrAshZl3dHPuj4w"
                },
                {
                  "attributes": {
                    "relation": "SURROUNDS"
                  },
                  "source": "1GE3M13VHAWxhxwcp39Ei$",
                  "target": "2UMN_OQKrAshZl3dHPuk2N"
                },
                {
                  "attributes": {
                    "relation": "SURROUNDS"
                  },
                  "source": "1GE3M13VHAWxhxwcp39Ei$",
                  "target": "3a58fQxqD2numVo$eTOgS$"
                },
                {
                  "attributes": {
                    "relation": "SURROUNDS"
                  },
                  "source": "1GE3M13VHAWxhxwcp39Ei$",
                  "target": "2UMN_OQKrAshZl3dHPukCt"
                },
                {
                  "attributes": {
                    "relation": "SURROUNDS"
                  },
                  "source": "1GE3M13VHAWxhxwcp39Ei$",
                  "target": "2UMN_OQKrAshZl3dHPukwI"
                },
                {
                  "attributes": {
                    "relation": "SURROUNDS"
                  },
                  "source": "1GE3M13VHAWxhxwcp39Ei$",
                  "target": "2UMN_OQKrAshZl3dHPukLR"
                },
                {
                  "attributes": {
                    "relation": "SURROUNDS"
                  },
                  "source": "1GE3M13VHAWxhxwcp39Ei$",
                  "target": "2UMN_OQKrAshZl3dHPukMe"
                },
                {
                  "attributes": {
                    "relation": "SURROUNDS"
                  },
                  "source": "1GE3M13VHAWxhxwcp39Ei$",
                  "target": "2UMN_OQKrAshZl3dHPuj4w"
                },
                {
                  "attributes": {
                    "relation": "SURROUNDS"
                  },
                  "source": "1GE3M13VHAWxhxwcp39Ei$",
                  "target": "2UMN_OQKrAshZl3dHPujA7"
                },
                {
                  "attributes": {
                    "relation": "SURROUNDS"
                  },
                  "source": "1GE3M13VHAWxhxwcp39Ei$",
                  "target": "2UMN_OQKrAshZl3dHPujBN"
                },
                {
                  "attributes": {
                    "relation": "SURROUNDS"
                  },
                  "source": "1GE3M13VHAWxhxwcp39Ei$",
                  "target": "2UMN_OQKrAshZl3dHPujKb"
                },
                {
                  "attributes": {
                    "relation": "SURROUNDS"
                  },
                  "source": "1GE3M13VHAWxhxwcp39Ei$",
                  "target": "2UMN_OQKrAshZl3dHPujLJ"
                },
                {
                  "attributes": {
                    "relation": "SURROUNDS"
                  },
                  "source": "1GE3M13VHAWxhxwcp39Eiu",
                  "target": "2UMN_OQKrAshZl3dHPukCt"
                },
                {
                  "attributes": {
                    "relation": "SURROUNDS"
                  },
                  "source": "1GE3M13VHAWxhxwcp39Eiu",
                  "target": "3a58fQxqD2numVo$eTOgS$"
                },
                {
                  "attributes": {
                    "relation": "SURROUNDS"
                  },
                  "source": "1GE3M13VHAWxhxwcp39Eiu",
                  "target": "2UMN_OQKrAshZl3dHPukwI"
                },
                {
                  "attributes": {
                    "relation": "SURROUNDS"
                  },
                  "source": "1GE3M13VHAWxhxwcp39Eiu",
                  "target": "2UMN_OQKrAshZl3dHPukNq"
                },
                {
                  "attributes": {
                    "relation": "SURROUNDS"
                  },
                  "source": "1GE3M13VHAWxhxwcp39Eiu",
                  "target": "2UMN_OQKrAshZl3dHPukNU"
                },
                {
                  "attributes": {
                    "relation": "SURROUNDS"
                  },
                  "source": "1GE3M13VHAWxhxwcp39Eiu",
                  "target": "2UMN_OQKrAshZl3dHPuj4w"
                },
                {
                  "attributes": {
                    "relation": "SURROUNDS"
                  },
                  "source": "1GE3M13VHAWxhxwcp39Eiu",
                  "target": "2UMN_OQKrAshZl3dHPuk00"
                },
                {
                  "attributes": {
                    "relation": "SURROUNDS"
                  },
                  "source": "1GE3M13VHAWxhxwcp39Eiw",
                  "target": "2Tt7$hRrHBKvoaUIFPAzZX"
                },
                {
                  "attributes": {
                    "relation": "SURROUNDS"
                  },
                  "source": "1GE3M13VHAWxhxwcp39Eiw",
                  "target": "2UMN_OQKrAshZl3dHPukwI"
                },
                {
                  "attributes": {
                    "relation": "SURROUNDS"
                  },
                  "source": "1GE3M13VHAWxhxwcp39Eiw",
                  "target": "2UMN_OQKrAshZl3dHPuk98"
                },
                {
                  "attributes": {
                    "relation": "SURROUNDS"
                  },
                  "source": "1GE3M13VHAWxhxwcp39Eiw",
                  "target": "2UMN_OQKrAshZl3dHPukEN"
                },
                {
                  "attributes": {
                    "relation": "SURROUNDS"
                  },
                  "source": "1GE3M13VHAWxhxwcp39Eiw",
                  "target": "2UMN_OQKrAshZl3dHPuj4w"
                },
                {
                  "attributes": {
                    "relation": "SURROUNDS"
                  },
                  "source": "1GE3M13VHAWxhxwcp39Eiw",
                  "target": "2UMN_OQKrAshZl3dHPuj9v"
                },
                {
                  "attributes": {
                    "relation": "SURROUNDS"
                  },
                  "source": "1GE3M13VHAWxhxwcp39Eiw",
                  "target": "2UMN_OQKrAshZl3dHPujAr"
                },
                {
                  "attributes": {
                    "relation": "SURROUNDS"
                  },
                  "source": "1GE3M13VHAWxhxwcp39Eiw",
                  "target": "2UMN_OQKrAshZl3dHPukAQ"
                },
                {
                  "attributes": {
                    "relation": "SURROUNDS"
                  },
                  "source": "1GE3M13VHAWxhxwcp39Eiw",
                  "target": "2UMN_OQKrAshZl3dHPukBf"
                },
                {
                  "attributes": {
                    "relation": "SURROUNDS"
                  },
                  "source": "1GE3M13VHAWxhxwcp39Eiw",
                  "target": "2UMN_OQKrAshZl3dHPukLR"
                },
                {
                  "attributes": {
                    "relation": "SURROUNDS"
                  },
                  "source": "1GE3M13VHAWxhxwcp39Eiw",
                  "target": "2UMN_OQKrAshZl3dHPukMe"
                },
                {
                  "attributes": {
                    "relation": "SURROUNDS"
                  },
                  "source": "1GE3M13VHAWxhxwcp39Eiw",
                  "target": "2UMN_OQKrAshZl3dHPujA7"
                },
                {
                  "attributes": {
                    "relation": "SURROUNDS"
                  },
                  "source": "1GE3M13VHAWxhxwcp39Eiw",
                  "target": "2UMN_OQKrAshZl3dHPujBN"
                },
                {
                  "attributes": {
                    "relation": "SURROUNDS"
                  },
                  "source": "1GE3M13VHAWxhxwcp39Eiw",
                  "target": "2UMN_OQKrAshZl3dHPujKb"
                },
                {
                  "attributes": {
                    "relation": "SURROUNDS"
                  },
                  "source": "1GE3M13VHAWxhxwcp39Eiw",
                  "target": "2UMN_OQKrAshZl3dHPujLJ"
                },
                {
                  "attributes": {
                    "relation": "SURROUNDS"
                  },
                  "source": "1GE3M13VHAWxhxwcp39Eiw",
                  "target": "2UMN_OQKrAshZl3dHPukNq"
                },
                {
                  "attributes": {
                    "relation": "SURROUNDS"
                  },
                  "source": "1GE3M13VHAWxhxwcp39Eiw",
                  "target": "2UMN_OQKrAshZl3dHPukNU"
                },
                {
                  "attributes": {
                    "relation": "SURROUNDS"
                  },
                  "source": "1GE3M13VHAWxhxwcp39Eiw",
                  "target": "1fIVuvFffDJRV_SJESOtDs"
                },
                {
                  "attributes": {
                    "relation": "SURROUNDS"
                  },
                  "source": "1GE3M13VHAWxhxwcp39Eiw",
                  "target": "2UMN_OQKrAshZl3dHPukl$"
                },
                {
                  "attributes": {
                    "relation": "SURROUNDS"
                  },
                  "source": "1GE3M13VHAWxhxwcp39Eiw",
                  "target": "2UMN_OQKrAshZl3dHPukm2"
                },
                {
                  "attributes": {
                    "relation": "SURROUNDS"
                  },
                  "source": "1GE3M13VHAWxhxwcp39Eiw",
                  "target": "2UMN_OQKrAshZl3dHPukoO"
                },
                {
                  "attributes": {
                    "relation": "SURROUNDS"
                  },
                  "source": "1GE3M13VHAWxhxwcp39Eiw",
                  "target": "2UMN_OQKrAshZl3dHPukvh"
                },
                {
                  "attributes": {
                    "relation": "SURROUNDS"
                  },
                  "source": "1GE3M13VHAWxhxwcp39Eiw",
                  "target": "3a58fQxqD2numVo$eTOgS$"
                },
                {
                  "attributes": {
                    "relation": "SURROUNDS"
                  },
                  "source": "1GE3M13VHAWxhxwcp39Eiw",
                  "target": "2UMN_OQKrAshZl3dHPukGI"
                },
                {
                  "attributes": {
                    "relation": "SURROUNDS"
                  },
                  "source": "1GE3M13VHAWxhxwcp39Eiw",
                  "target": "2UMN_OQKrAshZl3dHPukHo"
                },
                {
                  "attributes": {
                    "relation": "SURROUNDS"
                  },
                  "source": "1GE3M13VHAWxhxwcp39Eiw",
                  "target": "2UMN_OQKrAshZl3dHPujxE"
                },
                {
                  "attributes": {
                    "relation": "SURROUNDS"
                  },
                  "source": "1GE3M13VHAWxhxwcp39Eiw",
                  "target": "2UMN_OQKrAshZl3dHPujMb"
                },
                {
                  "attributes": {
                    "relation": "SURROUNDS"
                  },
                  "source": "1GE3M13VHAWxhxwcp39Eiw",
                  "target": "2UMN_OQKrAshZl3dHPujNb"
                },
                {
                  "attributes": {
                    "relation": "SURROUNDS"
                  },
                  "source": "1GE3M13VHAWxhxwcp39Eiw",
                  "target": "2UMN_OQKrAshZl3dHPukeh"
                },
                {
                  "attributes": {
                    "relation": "SURROUNDS"
                  },
                  "source": "1GE3M13VHAWxhxwcp39Eiw",
                  "target": "2UMN_OQKrAshZl3dHPukr0"
                },
                {
                  "attributes": {
                    "relation": "SURROUNDS"
                  },
                  "source": "1GE3M13VHAWxhxwcp39Eiw",
                  "target": "2UMN_OQKrAshZl3dHPujxF"
                },
                {
                  "attributes": {
                    "relation": "SURROUNDS"
                  },
                  "source": "1GE3M13VHAWxhxwcp39Eiw",
                  "target": "2UMN_OQKrAshZl3dHPuj4q"
                },
                {
                  "attributes": {
                    "relation": "SURROUNDS"
                  },
                  "source": "1GE3M13VHAWxhxwcp39Eiw",
                  "target": "2UMN_OQKrAshZl3dHPukqU"
                },
                {
                  "attributes": {
                    "relation": "SURROUNDS"
                  },
                  "source": "1GE3M13VHAWxhxwcp39Eiw",
                  "target": "2UMN_OQKrAshZl3dHPuj4p"
                },
                {
                  "attributes": {
                    "relation": "SURROUNDS"
                  },
                  "source": "1GE3M13VHAWxhxwcp39Eiw",
                  "target": "2UMN_OQKrAshZl3dHPukiV"
                },
                {
                  "attributes": {
                    "relation": "SURROUNDS"
                  },
                  "source": "1GE3M13VHAWxhxwcp39Eiw",
                  "target": "2UMN_OQKrAshZl3dHPujxD"
                },
                {
                  "attributes": {
                    "relation": "SURROUNDS"
                  },
                  "source": "1GE3M13VHAWxhxwcp39Eiw",
                  "target": "2UMN_OQKrAshZl3dHPuj4r"
                },
                {
                  "attributes": {
                    "relation": "SURROUNDS"
                  },
                  "source": "1GE3M13VHAWxhxwcp39Eiw",
                  "target": "2UMN_OQKrAshZl3dHPuj4s"
                },
                {
                  "attributes": {
                    "relation": "SURROUNDS"
                  },
                  "source": "1GE3M13VHAWxhxwcp39Eiw",
                  "target": "2UMN_OQKrAshZl3dHPuj4v"
                },
                {
                  "attributes": {
                    "relation": "SURROUNDS"
                  },
                  "source": "1GE3M13VHAWxhxwcp39Eiv",
                  "target": "2UMN_OQKrAshZl3dHPuk00"
                },
                {
                  "attributes": {
                    "relation": "SURROUNDS"
                  },
                  "source": "1GE3M13VHAWxhxwcp39Eiv",
                  "target": "2UMN_OQKrAshZl3dHPukl$"
                },
                {
                  "attributes": {
                    "relation": "SURROUNDS"
                  },
                  "source": "1GE3M13VHAWxhxwcp39Eiv",
                  "target": "2UMN_OQKrAshZl3dHPukwI"
                },
                {
                  "attributes": {
                    "relation": "SURROUNDS"
                  },
                  "source": "1GE3M13VHAWxhxwcp39Eiv",
                  "target": "2UMN_OQKrAshZl3dHPukGI"
                },
                {
                  "attributes": {
                    "relation": "SURROUNDS"
                  },
                  "source": "1GE3M13VHAWxhxwcp39Eiv",
                  "target": "2UMN_OQKrAshZl3dHPukHo"
                },
                {
                  "attributes": {
                    "relation": "SURROUNDS"
                  },
                  "source": "1GE3M13VHAWxhxwcp39Eiv",
                  "target": "2UMN_OQKrAshZl3dHPujxE"
                },
                {
                  "attributes": {
                    "relation": "SURROUNDS"
                  },
                  "source": "1GE3M13VHAWxhxwcp39Eiv",
                  "target": "2UMN_OQKrAshZl3dHPuj4w"
                },
                {
                  "attributes": {
                    "relation": "SURROUNDS"
                  },
                  "source": "1GE3M13VHAWxhxwcp39Eiv",
                  "target": "2UMN_OQKrAshZl3dHPujMb"
                },
                {
                  "attributes": {
                    "relation": "SURROUNDS"
                  },
                  "source": "1GE3M13VHAWxhxwcp39Eiv",
                  "target": "2UMN_OQKrAshZl3dHPujNb"
                },
                {
                  "attributes": {
                    "relation": "SURROUNDS"
                  },
                  "source": "1GE3M13VHAWxhxwcp39Eiv",
                  "target": "3wh27gpDH7bg434tPIc7De"
                },
                {
                  "attributes": {
                    "relation": "SURROUNDS"
                  },
                  "source": "1GE3M13VHAWxhxwcp39Eiv",
                  "target": "3wh27gpDH7bg434tPIc7Df"
                },
                {
                  "attributes": {
                    "relation": "SURROUNDS"
                  },
                  "source": "1GE3M13VHAWxhxwcp39Eiv",
                  "target": "3a58fQxqD2numVo$eTOgS$"
                },
                {
                  "attributes": {
                    "relation": "SURROUNDS"
                  },
                  "source": "1GE3M13VHAWxhxwcp39Eix",
                  "target": "2UMN_OQKrAshZl3dHPukeh"
                },
                {
                  "attributes": {
                    "relation": "SURROUNDS"
                  },
                  "source": "1GE3M13VHAWxhxwcp39Eix",
                  "target": "2UMN_OQKrAshZl3dHPukr0"
                },
                {
                  "attributes": {
                    "relation": "SURROUNDS"
                  },
                  "source": "1GE3M13VHAWxhxwcp39Eix",
                  "target": "2UMN_OQKrAshZl3dHPujxF"
                },
                {
                  "attributes": {
                    "relation": "SURROUNDS"
                  },
                  "source": "1GE3M13VHAWxhxwcp39Eix",
                  "target": "2UMN_OQKrAshZl3dHPuj4q"
                },
                {
                  "attributes": {
                    "relation": "SURROUNDS"
                  },
                  "source": "1GE3M13VHAWxhxwcp39Eix",
                  "target": "2UMN_OQKrAshZl3dHPukl$"
                },
                {
                  "attributes": {
                    "relation": "SURROUNDS"
                  },
                  "source": "1GE3M13VHAWxhxwcp39Eix",
                  "target": "2UMN_OQKrAshZl3dHPujxE"
                },
                {
                  "attributes": {
                    "relation": "SURROUNDS"
                  },
                  "source": "1GE3M13VHAWxhxwcp39Eix",
                  "target": "2UMN_OQKrAshZl3dHPulJq"
                },
                {
                  "attributes": {
                    "relation": "SURROUNDS"
                  },
                  "source": "1GE3M13VHAWxhxwcp39Eix",
                  "target": "2UMN_OQKrAshZl3dHPuk_g"
                },
                {
                  "attributes": {
                    "relation": "SURROUNDS"
                  },
                  "source": "1GE3M13VHAWxhxwcp39Eix",
                  "target": "3a58fQxqD2numVo$eTOgS$"
                },
                {
                  "attributes": {
                    "relation": "SURROUNDS"
                  },
                  "source": "1GE3M13VHAWxhxwcp39Eix",
                  "target": "2UMN_OQKrAshZl3dHPuj4u"
                },
                {
                  "attributes": {
                    "relation": "SURROUNDS"
                  },
                  "source": "1GE3M13VHAWxhxwcp39Eib",
                  "target": "2UMN_OQKrAshZl3dHPukeh"
                },
                {
                  "attributes": {
                    "relation": "SURROUNDS"
                  },
                  "source": "1GE3M13VHAWxhxwcp39Eib",
                  "target": "2UMN_OQKrAshZl3dHPukqU"
                },
                {
                  "attributes": {
                    "relation": "SURROUNDS"
                  },
                  "source": "1GE3M13VHAWxhxwcp39Eib",
                  "target": "2UMN_OQKrAshZl3dHPujxF"
                },
                {
                  "attributes": {
                    "relation": "SURROUNDS"
                  },
                  "source": "1GE3M13VHAWxhxwcp39Eib",
                  "target": "2UMN_OQKrAshZl3dHPuj4p"
                },
                {
                  "attributes": {
                    "relation": "SURROUNDS"
                  },
                  "source": "1GE3M13VHAWxhxwcp39Eib",
                  "target": "2UMN_OQKrAshZl3dHPulJq"
                },
                {
                  "attributes": {
                    "relation": "SURROUNDS"
                  },
                  "source": "1GE3M13VHAWxhxwcp39Eib",
                  "target": "2UMN_OQKrAshZl3dHPukzw"
                },
                {
                  "attributes": {
                    "relation": "SURROUNDS"
                  },
                  "source": "1GE3M13VHAWxhxwcp39Eib",
                  "target": "3a58fQxqD2numVo$eTOgS$"
                },
                {
                  "attributes": {
                    "relation": "SURROUNDS"
                  },
                  "source": "1GE3M13VHAWxhxwcp39Eib",
                  "target": "2UMN_OQKrAshZl3dHPukiV"
                },
                {
                  "attributes": {
                    "relation": "SURROUNDS"
                  },
                  "source": "1GE3M13VHAWxhxwcp39Eib",
                  "target": "2UMN_OQKrAshZl3dHPujxD"
                },
                {
                  "attributes": {
                    "relation": "SURROUNDS"
                  },
                  "source": "1GE3M13VHAWxhxwcp39Eib",
                  "target": "2UMN_OQKrAshZl3dHPuj4t"
                },
                {
                  "attributes": {
                    "relation": "SURROUNDS"
                  },
                  "source": "1GE3M13VHAWxhxwcp39Eic",
                  "target": "2Tt7$hRrHBKvoaUIFPAzZX"
                },
                {
                  "attributes": {
                    "relation": "SURROUNDS"
                  },
                  "source": "1GE3M13VHAWxhxwcp39Eic",
                  "target": "2UMN_OQKrAshZl3dHPukeA"
                },
                {
                  "attributes": {
                    "relation": "SURROUNDS"
                  },
                  "source": "1GE3M13VHAWxhxwcp39Eic",
                  "target": "2UMN_OQKrAshZl3dHPulOJ"
                },
                {
                  "attributes": {
                    "relation": "SURROUNDS"
                  },
                  "source": "1GE3M13VHAWxhxwcp39Eic",
                  "target": "2UMN_OQKrAshZl3dHPujxv"
                },
                {
                  "attributes": {
                    "relation": "SURROUNDS"
                  },
                  "source": "1GE3M13VHAWxhxwcp39Eic",
                  "target": "2UMN_OQKrAshZl3dHPuj4m"
                },
                {
                  "attributes": {
                    "relation": "SURROUNDS"
                  },
                  "source": "1GE3M13VHAWxhxwcp39Eic",
                  "target": "2UMN_OQKrAshZl3dHPukiV"
                },
                {
                  "attributes": {
                    "relation": "SURROUNDS"
                  },
                  "source": "1GE3M13VHAWxhxwcp39Eic",
                  "target": "2UMN_OQKrAshZl3dHPujxD"
                },
                {
                  "attributes": {
                    "relation": "SURROUNDS"
                  },
                  "source": "1GE3M13VHAWxhxwcp39Eic",
                  "target": "2UMN_OQKrAshZl3dHPulJq"
                },
                {
                  "attributes": {
                    "relation": "SURROUNDS"
                  },
                  "source": "1GE3M13VHAWxhxwcp39Eic",
                  "target": "3a58fQxqD2numVo$eTOgS$"
                },
                {
                  "attributes": {
                    "relation": "SURROUNDS"
                  },
                  "source": "1GE3M13VHAWxhxwcp39Eic",
                  "target": "2UMN_OQKrAshZl3dHPukZL"
                },
                {
                  "attributes": {
                    "relation": "SURROUNDS"
                  },
                  "source": "1GE3M13VHAWxhxwcp39Eic",
                  "target": "2UMN_OQKrAshZl3dHPukeh"
                },
                {
                  "attributes": {
                    "relation": "SURROUNDS"
                  },
                  "source": "1GE3M13VHAWxhxwcp39Eic",
                  "target": "2UMN_OQKrAshZl3dHPujxC"
                },
                {
                  "attributes": {
                    "relation": "SURROUNDS"
                  },
                  "source": "1GE3M13VHAWxhxwcp39Eic",
                  "target": "2UMN_OQKrAshZl3dHPujxF"
                },
                {
                  "attributes": {
                    "relation": "SURROUNDS"
                  },
                  "source": "1GE3M13VHAWxhxwcp39Eid",
                  "target": "2Tt7$hRrHBKvoaUIFPAzZX"
                },
                {
                  "attributes": {
                    "relation": "SURROUNDS"
                  },
                  "source": "1GE3M13VHAWxhxwcp39Eid",
                  "target": "2UMN_OQKrAshZl3dHPukgi"
                },
                {
                  "attributes": {
                    "relation": "SURROUNDS"
                  },
                  "source": "1GE3M13VHAWxhxwcp39Eid",
                  "target": "2UMN_OQKrAshZl3dHPujxv"
                },
                {
                  "attributes": {
                    "relation": "SURROUNDS"
                  },
                  "source": "1GE3M13VHAWxhxwcp39Eid",
                  "target": "2UMN_OQKrAshZl3dHPuj4n"
                },
                {
                  "attributes": {
                    "relation": "SURROUNDS"
                  },
                  "source": "1GE3M13VHAWxhxwcp39Eid",
                  "target": "2UMN_OQKrAshZl3dHPukiV"
                },
                {
                  "attributes": {
                    "relation": "SURROUNDS"
                  },
                  "source": "1GE3M13VHAWxhxwcp39Eid",
                  "target": "2UMN_OQKrAshZl3dHPujxD"
                },
                {
                  "attributes": {
                    "relation": "SURROUNDS"
                  },
                  "source": "1GE3M13VHAWxhxwcp39Eid",
                  "target": "2UMN_OQKrAshZl3dHPukZL"
                },
                {
                  "attributes": {
                    "relation": "SURROUNDS"
                  },
                  "source": "1GE3M13VHAWxhxwcp39Eid",
                  "target": "2UMN_OQKrAshZl3dHPukeh"
                },
                {
                  "attributes": {
                    "relation": "SURROUNDS"
                  },
                  "source": "1GE3M13VHAWxhxwcp39Eid",
                  "target": "2UMN_OQKrAshZl3dHPujxC"
                },
                {
                  "attributes": {
                    "relation": "SURROUNDS"
                  },
                  "source": "1GE3M13VHAWxhxwcp39Eid",
                  "target": "2UMN_OQKrAshZl3dHPujxF"
                },
                {
                  "attributes": {
                    "relation": "SURROUNDS"
                  },
                  "source": "1GE3M13VHAWxhxwcp39Eid",
                  "target": "3a58fQxqD2numVo$eTOgS$"
                },
                {
                  "attributes": {
                    "relation": "SURROUNDS"
                  },
                  "source": "1GE3M13VHAWxhxwcp39EiX",
                  "target": "2UMN_OQKrAshZl3dHPulOJ"
                },
                {
                  "attributes": {
                    "relation": "SURROUNDS"
                  },
                  "source": "1GE3M13VHAWxhxwcp39EiX",
                  "target": "2UMN_OQKrAshZl3dHPulJq"
                },
                {
                  "attributes": {
                    "relation": "SURROUNDS"
                  },
                  "source": "1GE3M13VHAWxhxwcp39EiX",
                  "target": "3a58fQxqD2numVo$eTOgS$"
                },
                {
                  "attributes": {
                    "relation": "SURROUNDS"
                  },
                  "source": "1GE3M13VHAWxhxwcp39EiX",
                  "target": "2UMN_OQKrAshZl3dHPulHz"
                },
                {
                  "attributes": {
                    "relation": "SURROUNDS"
                  },
                  "source": "1GE3M13VHAWxhxwcp39EiY",
                  "target": "2UMN_OQKrAshZl3dHPul9s"
                },
                {
                  "attributes": {
                    "relation": "SURROUNDS"
                  },
                  "source": "1GE3M13VHAWxhxwcp39EiY",
                  "target": "2UMN_OQKrAshZl3dHPulK8"
                },
                {
                  "attributes": {
                    "relation": "SURROUNDS"
                  },
                  "source": "1GE3M13VHAWxhxwcp39EiY",
                  "target": "2UMN_OQKrAshZl3dHPulHz"
                },
                {
                  "attributes": {
                    "relation": "SURROUNDS"
                  },
                  "source": "1GE3M13VHAWxhxwcp39EiY",
                  "target": "2UMN_OQKrAshZl3dHPuiDz"
                },
                {
                  "attributes": {
                    "relation": "SURROUNDS"
                  },
                  "source": "1GE3M13VHAWxhxwcp39EiY",
                  "target": "2UMN_OQKrAshZl3dHPujV_"
                },
                {
                  "attributes": {
                    "relation": "SURROUNDS"
                  },
                  "source": "1GE3M13VHAWxhxwcp39EiY",
                  "target": "2UMN_OQKrAshZl3dHPujOW"
                },
                {
                  "attributes": {
                    "relation": "SURROUNDS"
                  },
                  "source": "1GE3M13VHAWxhxwcp39EiY",
                  "target": "3a58fQxqD2numVo$eTOgS$"
                },
                {
                  "attributes": {
                    "relation": "SURROUNDS"
                  },
                  "source": "1GE3M13VHAWxhxwcp39EiY",
                  "target": "2UMN_OQKrAshZl3dHPulwZ"
                },
                {
                  "attributes": {
                    "relation": "SURROUNDS"
                  },
                  "source": "1GE3M13VHAWxhxwcp39EiZ",
                  "target": "2UMN_OQKrAshZl3dHPul9s"
                },
                {
                  "attributes": {
                    "relation": "SURROUNDS"
                  },
                  "source": "1GE3M13VHAWxhxwcp39EiZ",
                  "target": "2UMN_OQKrAshZl3dHPulAD"
                },
                {
                  "attributes": {
                    "relation": "SURROUNDS"
                  },
                  "source": "1GE3M13VHAWxhxwcp39EiZ",
                  "target": "2UMN_OQKrAshZl3dHPuiDz"
                },
                {
                  "attributes": {
                    "relation": "SURROUNDS"
                  },
                  "source": "1GE3M13VHAWxhxwcp39EiZ",
                  "target": "2UMN_OQKrAshZl3dHPulwZ"
                },
                {
                  "attributes": {
                    "relation": "SURROUNDS"
                  },
                  "source": "1GE3M13VHAWxhxwcp39EiZ",
                  "target": "3a58fQxqD2numVo$eTOgS$"
                },
                {
                  "attributes": {
                    "relation": "SURROUNDS"
                  },
                  "source": "1GE3M13VHAWxhxwcp39EiZ",
                  "target": "2UMN_OQKrAshZl3dHPuluT"
                },
                {
                  "attributes": {
                    "relation": "SURROUNDS"
                  },
                  "source": "1GE3M13VHAWxhxwcp39Eij",
                  "target": "2UMN_OQKrAshZl3dHPul$r"
                },
                {
                  "attributes": {
                    "relation": "SURROUNDS"
                  },
                  "source": "1GE3M13VHAWxhxwcp39Eij",
                  "target": "2UMN_OQKrAshZl3dHPul9s"
                },
                {
                  "attributes": {
                    "relation": "SURROUNDS"
                  },
                  "source": "1GE3M13VHAWxhxwcp39Eij",
                  "target": "2UMN_OQKrAshZl3dHPulAp"
                },
                {
                  "attributes": {
                    "relation": "SURROUNDS"
                  },
                  "source": "1GE3M13VHAWxhxwcp39Eij",
                  "target": "2UMN_OQKrAshZl3dHPujJu"
                },
                {
                  "attributes": {
                    "relation": "SURROUNDS"
                  },
                  "source": "1GE3M13VHAWxhxwcp39Eij",
                  "target": "2UMN_OQKrAshZl3dHPuiDz"
                },
                {
                  "attributes": {
                    "relation": "SURROUNDS"
                  },
                  "source": "1GE3M13VHAWxhxwcp39Eij",
                  "target": "2UMN_OQKrAshZl3dHPujP0"
                },
                {
                  "attributes": {
                    "relation": "SURROUNDS"
                  },
                  "source": "1GE3M13VHAWxhxwcp39Eij",
                  "target": "2UMN_OQKrAshZl3dHPuluT"
                },
                {
                  "attributes": {
                    "relation": "SURROUNDS"
                  },
                  "source": "1GE3M13VHAWxhxwcp39Eij",
                  "target": "3a58fQxqD2numVo$eTOgS$"
                },
                {
                  "attributes": {
                    "relation": "SURROUNDS"
                  },
                  "source": "1GE3M13VHAWxhxwcp39Eik",
                  "target": "2Tt7$hRrHBKvoaUIFPAz_N"
                },
                {
                  "attributes": {
                    "relation": "SURROUNDS"
                  },
                  "source": "1GE3M13VHAWxhxwcp39Eik",
                  "target": "2UMN_OQKrAshZl3dHPul4V"
                },
                {
                  "attributes": {
                    "relation": "SURROUNDS"
                  },
                  "source": "1GE3M13VHAWxhxwcp39Eik",
                  "target": "2UMN_OQKrAshZl3dHPulEv"
                },
                {
                  "attributes": {
                    "relation": "SURROUNDS"
                  },
                  "source": "1GE3M13VHAWxhxwcp39Eik",
                  "target": "2UMN_OQKrAshZl3dHPul5b"
                },
                {
                  "attributes": {
                    "relation": "SURROUNDS"
                  },
                  "source": "1GE3M13VHAWxhxwcp39Eik",
                  "target": "2UMN_OQKrAshZl3dHPuiDz"
                },
                {
                  "attributes": {
                    "relation": "SURROUNDS"
                  },
                  "source": "1GE3M13VHAWxhxwcp39Eik",
                  "target": "1Rlu17Ctf6ZvZdq3UgKRVD"
                },
                {
                  "attributes": {
                    "relation": "SURROUNDS"
                  },
                  "source": "1GE3M13VHAWxhxwcp39Eik",
                  "target": "2UMN_OQKrAshZl3dHPul$r"
                },
                {
                  "attributes": {
                    "relation": "SURROUNDS"
                  },
                  "source": "1GE3M13VHAWxhxwcp39Eik",
                  "target": "2UMN_OQKrAshZl3dHPujJu"
                },
                {
                  "attributes": {
                    "relation": "SURROUNDS"
                  },
                  "source": "1GE3M13VHAWxhxwcp39Eik",
                  "target": "3a58fQxqD2numVo$eTOgS$"
                },
                {
                  "attributes": {
                    "relation": "SURROUNDS"
                  },
                  "source": "1GE3M13VHAWxhxwcp39Eik",
                  "target": "2UMN_OQKrAshZl3dHPul4n"
                },
                {
                  "attributes": {
                    "relation": "SURROUNDS"
                  },
                  "source": "1GE3M13VHAWxhxwcp39Eik",
                  "target": "2UMN_OQKrAshZl3dHPulCY"
                },
                {
                  "attributes": {
                    "relation": "SURROUNDS"
                  },
                  "source": "1GE3M13VHAWxhxwcp39Eil",
                  "target": "2UMN_OQKrAshZl3dHPul$r"
                },
                {
                  "attributes": {
                    "relation": "SURROUNDS"
                  },
                  "source": "1GE3M13VHAWxhxwcp39Eil",
                  "target": "2UMN_OQKrAshZl3dHPul4n"
                },
                {
                  "attributes": {
                    "relation": "SURROUNDS"
                  },
                  "source": "1GE3M13VHAWxhxwcp39Eil",
                  "target": "2UMN_OQKrAshZl3dHPulCY"
                },
                {
                  "attributes": {
                    "relation": "SURROUNDS"
                  },
                  "source": "1GE3M13VHAWxhxwcp39Eil",
                  "target": "2Tt7$hRrHBKvoaUIFPAz_N"
                },
                {
                  "attributes": {
                    "relation": "SURROUNDS"
                  },
                  "source": "1GE3M13VHAWxhxwcp39Eil",
                  "target": "2UMN_OQKrAshZl3dHPul2H"
                },
                {
                  "attributes": {
                    "relation": "SURROUNDS"
                  },
                  "source": "1GE3M13VHAWxhxwcp39Eil",
                  "target": "2UMN_OQKrAshZl3dHPulmH"
                },
                {
                  "attributes": {
                    "relation": "SURROUNDS"
                  },
                  "source": "1GE3M13VHAWxhxwcp39Eil",
                  "target": "3a58fQxqD2numVo$eTOgS$"
                },
                {
                  "attributes": {
                    "relation": "SURROUNDS"
                  },
                  "source": "1GE3M13VHAWxhxwcp39Eii",
                  "target": "2UMN_OQKrAshZl3dHPujdx"
                },
                {
                  "attributes": {
                    "relation": "SURROUNDS"
                  },
                  "source": "1GE3M13VHAWxhxwcp39Eii",
                  "target": "2UMN_OQKrAshZl3dHPujXf"
                },
                {
                  "attributes": {
                    "relation": "SURROUNDS"
                  },
                  "source": "1GE3M13VHAWxhxwcp39Eii",
                  "target": "3a58fQxqD2numVo$eTOgS$"
                },
                {
                  "attributes": {
                    "relation": "SURROUNDS"
                  },
                  "source": "1GE3M13VHAWxhxwcp39EiI",
                  "target": "3n9ek_acHEfRCBQHch6_cD"
                },
                {
                  "attributes": {
                    "relation": "SURROUNDS"
                  },
                  "source": "1GE3M13VHAWxhxwcp39EiI",
                  "target": "2UMN_OQKrAshZl3dHPui5h"
                },
                {
                  "attributes": {
                    "relation": "SURROUNDS"
                  },
                  "source": "1GE3M13VHAWxhxwcp39EiI",
                  "target": "1fIVuvFffDJRV_SJESOtDf"
                },
                {
                  "attributes": {
                    "relation": "SURROUNDS"
                  },
                  "source": "1GE3M13VHAWxhxwcp39EiI",
                  "target": "2Tt7$hRrHBKvoaUIFPAzbc"
                },
                {
                  "attributes": {
                    "relation": "SURROUNDS"
                  },
                  "source": "1GE3M13VHAWxhxwcp39EiI",
                  "target": "2UMN_OQKrAshZl3dHPui5B"
                },
                {
                  "attributes": {
                    "relation": "SURROUNDS"
                  },
                  "source": "1GE3M13VHAWxhxwcp39EiI",
                  "target": "2UMN_OQKrAshZl3dHPuiwF"
                },
                {
                  "attributes": {
                    "relation": "SURROUNDS"
                  },
                  "source": "1GE3M13VHAWxhxwcp39EiI",
                  "target": "3a58fQxqD2numVo$eTOgS$"
                },
                {
                  "attributes": {
                    "relation": "SURROUNDS"
                  },
                  "source": "1GE3M13VHAWxhxwcp39EiI",
                  "target": "0OCjL9Oi14tu4iiPw9P_IQ"
                },
                {
                  "attributes": {
                    "relation": "SURROUNDS"
                  },
                  "source": "1GE3M13VHAWxhxwcp39EiI",
                  "target": "2Tt7$hRrHBKvoaUIFPAzkW"
                },
                {
                  "attributes": {
                    "relation": "SURROUNDS"
                  },
                  "source": "1GE3M13VHAWxhxwcp39EiI",
                  "target": "2UMN_OQKrAshZl3dHPulpG"
                },
                {
                  "attributes": {
                    "relation": "SURROUNDS"
                  },
                  "source": "1GE3M13VHAWxhxwcp39EiH",
                  "target": "2Tt7$hRrHBKvoaUIFPAzbc"
                },
                {
                  "attributes": {
                    "relation": "SURROUNDS"
                  },
                  "source": "1GE3M13VHAWxhxwcp39EiH",
                  "target": "0OCjL9Oi14tu4iiPw9P_IQ"
                },
                {
                  "attributes": {
                    "relation": "SURROUNDS"
                  },
                  "source": "1GE3M13VHAWxhxwcp39EiH",
                  "target": "1fIVuvFffDJRV_SJESOtDf"
                },
                {
                  "attributes": {
                    "relation": "SURROUNDS"
                  },
                  "source": "1GE3M13VHAWxhxwcp39EiH",
                  "target": "0OCjL9Oi14tu4iiPw9P_OI"
                },
                {
                  "attributes": {
                    "relation": "SURROUNDS"
                  },
                  "source": "1GE3M13VHAWxhxwcp39EiH",
                  "target": "0OCjL9Oi14tu4iiPw9P_V6"
                },
                {
                  "attributes": {
                    "relation": "SURROUNDS"
                  },
                  "source": "1GE3M13VHAWxhxwcp39EiH",
                  "target": "2Tt7$hRrHBKvoaUIFPAzaq"
                },
                {
                  "attributes": {
                    "relation": "SURROUNDS"
                  },
                  "source": "1GE3M13VHAWxhxwcp39EiH",
                  "target": "3a58fQxqD2numVo$eTOgS$"
                },
                {
                  "attributes": {
                    "relation": "SURROUNDS"
                  },
                  "source": "1GE3M13VHAWxhxwcp39EiH",
                  "target": "2Tt7$hRrHBKvoaUIFPAzmj"
                },
                {
                  "attributes": {
                    "relation": "SURROUNDS"
                  },
                  "source": "1GE3M13VHAWxhxwcp39EiH",
                  "target": "0OCjL9Oi14tu4iiPw9P_Hx"
                },
                {
                  "attributes": {
                    "relation": "SURROUNDS"
                  },
                  "source": "1GE3M13VHAWxhxwcp39EiH",
                  "target": "2UMN_OQKrAshZl3dHPuigF"
                },
                {
                  "attributes": {
                    "relation": "SURROUNDS"
                  },
                  "source": "1GE3M13VHAWxhxwcp39EiH",
                  "target": "2UMN_OQKrAshZl3dHPui_G"
                },
                {
                  "attributes": {
                    "relation": "SURROUNDS"
                  },
                  "source": "1GE3M13VHAWxhxwcp39EiH",
                  "target": "2UMN_OQKrAshZl3dHPuisf"
                },
                {
                  "attributes": {
                    "relation": "SURROUNDS"
                  },
                  "source": "1GE3M13VHAWxhxwcp39EiM",
                  "target": "2Tt7$hRrHBKvoaUIFPAzaq"
                },
                {
                  "attributes": {
                    "relation": "SURROUNDS"
                  },
                  "source": "1GE3M13VHAWxhxwcp39EiM",
                  "target": "1fIVuvFffDJRV_SJESOtDf"
                },
                {
                  "attributes": {
                    "relation": "SURROUNDS"
                  },
                  "source": "1GE3M13VHAWxhxwcp39EiM",
                  "target": "0OCjL9Oi14tu4iiPw9P_UG"
                },
                {
                  "attributes": {
                    "relation": "SURROUNDS"
                  },
                  "source": "1GE3M13VHAWxhxwcp39EiM",
                  "target": "0OCjL9Oi14tu4iiPw9P_TS"
                },
                {
                  "attributes": {
                    "relation": "SURROUNDS"
                  },
                  "source": "1GE3M13VHAWxhxwcp39EiM",
                  "target": "0OCjL9Oi14tu4iiPw9P_Tc"
                },
                {
                  "attributes": {
                    "relation": "SURROUNDS"
                  },
                  "source": "1GE3M13VHAWxhxwcp39EiM",
                  "target": "0OCjL9Oi14tu4iiPw9P_Ss"
                },
                {
                  "attributes": {
                    "relation": "SURROUNDS"
                  },
                  "source": "1GE3M13VHAWxhxwcp39EiM",
                  "target": "2Tt7$hRrHBKvoaUIFPAzkW"
                },
                {
                  "attributes": {
                    "relation": "SURROUNDS"
                  },
                  "source": "1GE3M13VHAWxhxwcp39EiM",
                  "target": "3a58fQxqD2numVo$eTOgS$"
                },
                {
                  "attributes": {
                    "relation": "SURROUNDS"
                  },
                  "source": "1GE3M13VHAWxhxwcp39EiM",
                  "target": "2Tt7$hRrHBKvoaUIFPAzmj"
                },
                {
                  "attributes": {
                    "relation": "SURROUNDS"
                  },
                  "source": "1GE3M13VHAWxhxwcp39EiM",
                  "target": "2Tt7$hRrHBKvoaUIFPAzpC"
                },
                {
                  "attributes": {
                    "relation": "SURROUNDS"
                  },
                  "source": "1GE3M13VHAWxhxwcp39EiM",
                  "target": "2Tt7$hRrHBKvoaUIFPAzdp"
                },
                {
                  "attributes": {
                    "relation": "SURROUNDS"
                  },
                  "source": "1GE3M13VHAWxhxwcp39EiM",
                  "target": "0OCjL9Oi14tu4iiPw9P_M$"
                },
                {
                  "attributes": {
                    "relation": "SURROUNDS"
                  },
                  "source": "1GE3M13VHAWxhxwcp39EiM",
                  "target": "2UMN_OQKrAshZl3dHPuiii"
                },
                {
                  "attributes": {
                    "relation": "SURROUNDS"
                  },
                  "source": "1GE3M13VHAWxhxwcp39EiM",
                  "target": "2UMN_OQKrAshZl3dHPuiuq"
                },
                {
                  "attributes": {
                    "relation": "SURROUNDS"
                  },
                  "source": "1GE3M13VHAWxhxwcp39EiM",
                  "target": "1fIVuvFffDJRV_SJESOtCZ"
                },
                {
                  "attributes": {
                    "relation": "SURROUNDS"
                  },
                  "source": "1GE3M13VHAWxhxwcp39EiG",
                  "target": "2Tt7$hRrHBKvoaUIFPAzbc"
                },
                {
                  "attributes": {
                    "relation": "SURROUNDS"
                  },
                  "source": "1GE3M13VHAWxhxwcp39EiG",
                  "target": "2Tt7$hRrHBKvoaUIFPAzmj"
                },
                {
                  "attributes": {
                    "relation": "SURROUNDS"
                  },
                  "source": "1GE3M13VHAWxhxwcp39EiG",
                  "target": "0OCjL9Oi14tu4iiPw9P_Hx"
                },
                {
                  "attributes": {
                    "relation": "SURROUNDS"
                  },
                  "source": "1GE3M13VHAWxhxwcp39EiG",
                  "target": "2UMN_OQKrAshZl3dHPuigF"
                },
                {
                  "attributes": {
                    "relation": "SURROUNDS"
                  },
                  "source": "1GE3M13VHAWxhxwcp39EiG",
                  "target": "2UMN_OQKrAshZl3dHPui_G"
                },
                {
                  "attributes": {
                    "relation": "SURROUNDS"
                  },
                  "source": "1GE3M13VHAWxhxwcp39EiG",
                  "target": "2Tt7$hRrHBKvoaUIFPAzkW"
                },
                {
                  "attributes": {
                    "relation": "SURROUNDS"
                  },
                  "source": "1GE3M13VHAWxhxwcp39EiG",
                  "target": "3a58fQxqD2numVo$eTOgS$"
                },
                {
                  "attributes": {
                    "relation": "SURROUNDS"
                  },
                  "source": "1GE3M13VHAWxhxwcp39EiG",
                  "target": "2Tt7$hRrHBKvoaUIFPAzaq"
                },
                {
                  "attributes": {
                    "relation": "SURROUNDS"
                  },
                  "source": "1GE3M13VHAWxhxwcp39EiN",
                  "target": "2Tt7$hRrHBKvoaUIFPAzmj"
                },
                {
                  "attributes": {
                    "relation": "SURROUNDS"
                  },
                  "source": "1GE3M13VHAWxhxwcp39EiN",
                  "target": "2Tt7$hRrHBKvoaUIFPAzpC"
                },
                {
                  "attributes": {
                    "relation": "SURROUNDS"
                  },
                  "source": "1GE3M13VHAWxhxwcp39EiN",
                  "target": "2Tt7$hRrHBKvoaUIFPAzaq"
                },
                {
                  "attributes": {
                    "relation": "SURROUNDS"
                  },
                  "source": "1GE3M13VHAWxhxwcp39EiN",
                  "target": "2Tt7$hRrHBKvoaUIFPAzkW"
                },
                {
                  "attributes": {
                    "relation": "SURROUNDS"
                  },
                  "source": "1GE3M13VHAWxhxwcp39EiN",
                  "target": "3a58fQxqD2numVo$eTOgS$"
                },
                {
                  "attributes": {
                    "relation": "SURROUNDS"
                  },
                  "source": "1GE3M13VHAWxhxwcp39EiN",
                  "target": "0OCjL9Oi14tu4iiPw9P_Gz"
                },
                {
                  "attributes": {
                    "relation": "SURROUNDS"
                  },
                  "source": "1GE3M13VHAWxhxwcp39EiK",
                  "target": "2Tt7$hRrHBKvoaUIFPAzdp"
                },
                {
                  "attributes": {
                    "relation": "SURROUNDS"
                  },
                  "source": "1GE3M13VHAWxhxwcp39EiK",
                  "target": "2Tt7$hRrHBKvoaUIFPAzkW"
                },
                {
                  "attributes": {
                    "relation": "SURROUNDS"
                  },
                  "source": "1GE3M13VHAWxhxwcp39EiK",
                  "target": "3a58fQxqD2numVo$eTOgS$"
                },
                {
                  "attributes": {
                    "relation": "SURROUNDS"
                  },
                  "source": "1GE3M13VHAWxhxwcp39EiK",
                  "target": "2Tt7$hRrHBKvoaUIFPAzo7"
                },
                {
                  "attributes": {
                    "relation": "SURROUNDS"
                  },
                  "source": "1GE3M13VHAWxhxwcp39EiK",
                  "target": "0OCjL9Oi14tu4iiPw9P_84"
                },
                {
                  "attributes": {
                    "relation": "SURROUNDS"
                  },
                  "source": "1GE3M13VHAWxhxwcp39EiK",
                  "target": "2Tt7$hRrHBKvoaUIFPAzr4"
                },
                {
                  "attributes": {
                    "relation": "SURROUNDS"
                  },
                  "source": "1GE3M13VHAWxhxwcp39EiK",
                  "target": "0OCjL9Oi14tu4iiPw9P_9M"
                },
                {
                  "attributes": {
                    "relation": "SURROUNDS"
                  },
                  "source": "1GE3M13VHAWxhxwcp39EiK",
                  "target": "2UMN_OQKrAshZl3dHPujxw"
                },
                {
                  "attributes": {
                    "relation": "SURROUNDS"
                  },
                  "source": "1GE3M13VHAWxhxwcp39EiK",
                  "target": "0OCjL9Oi14tu4iiPw9P_Lo"
                },
                {
                  "attributes": {
                    "relation": "SURROUNDS"
                  },
                  "source": "1GE3M13VHAWxhxwcp39EiL",
                  "target": "2Tt7$hRrHBKvoaUIFPAzdp"
                },
                {
                  "attributes": {
                    "relation": "SURROUNDS"
                  },
                  "source": "1GE3M13VHAWxhxwcp39EiL",
                  "target": "2Tt7$hRrHBKvoaUIFPAzo7"
                },
                {
                  "attributes": {
                    "relation": "SURROUNDS"
                  },
                  "source": "1GE3M13VHAWxhxwcp39EiL",
                  "target": "0OCjL9Oi14tu4iiPw9P_84"
                },
                {
                  "attributes": {
                    "relation": "SURROUNDS"
                  },
                  "source": "1GE3M13VHAWxhxwcp39EiL",
                  "target": "1fIVuvFffDJRV_SJESOtDf"
                },
                {
                  "attributes": {
                    "relation": "SURROUNDS"
                  },
                  "source": "1GE3M13VHAWxhxwcp39EiL",
                  "target": "3a58fQxqD2numVo$eTOgS$"
                },
                {
                  "attributes": {
                    "relation": "SURROUNDS"
                  },
                  "source": "1GE3M13VHAWxhxwcp39EiL",
                  "target": "2Tt7$hRrHBKvoaUIFPAzcA"
                },
                {
                  "attributes": {
                    "relation": "SURROUNDS"
                  },
                  "source": "1GE3M13VHAWxhxwcp39Eih",
                  "target": "2Tt7$hRrHBKvoaUIFPAzr4"
                },
                {
                  "attributes": {
                    "relation": "SURROUNDS"
                  },
                  "source": "1GE3M13VHAWxhxwcp39Eih",
                  "target": "0OCjL9Oi14tu4iiPw9P_9M"
                },
                {
                  "attributes": {
                    "relation": "SURROUNDS"
                  },
                  "source": "1GE3M13VHAWxhxwcp39Eih",
                  "target": "2Tt7$hRrHBKvoaUIFPAzo7"
                },
                {
                  "attributes": {
                    "relation": "SURROUNDS"
                  },
                  "source": "1GE3M13VHAWxhxwcp39Eih",
                  "target": "2Tt7$hRrHBKvoaUIFPAzrf"
                },
                {
                  "attributes": {
                    "relation": "SURROUNDS"
                  },
                  "source": "1GE3M13VHAWxhxwcp39Eih",
                  "target": "3a58fQxqD2numVo$eTOgS$"
                },
                {
                  "attributes": {
                    "relation": "SURROUNDS"
                  },
                  "source": "1GE3M13VHAWxhxwcp39Eih",
                  "target": "2UMN_OQKrAshZl3dHPujxx"
                },
                {
                  "attributes": {
                    "relation": "SURROUNDS"
                  },
                  "source": "1GE3M13VHAWxhxwcp39Eih",
                  "target": "2Tt7$hRrHBKvoaUIFPAzcA"
                },
                {
                  "attributes": {
                    "relation": "SURROUNDS"
                  },
                  "source": "1GE3M13VHAWxhxwcp39Eig",
                  "target": "2Tt7$hRrHBKvoaUIFPAzr4"
                },
                {
                  "attributes": {
                    "relation": "SURROUNDS"
                  },
                  "source": "1GE3M13VHAWxhxwcp39Eig",
                  "target": "2UMN_OQKrAshZl3dHPujxw"
                },
                {
                  "attributes": {
                    "relation": "SURROUNDS"
                  },
                  "source": "1GE3M13VHAWxhxwcp39Eig",
                  "target": "2Tt7$hRrHBKvoaUIFPAzrf"
                },
                {
                  "attributes": {
                    "relation": "SURROUNDS"
                  },
                  "source": "1GE3M13VHAWxhxwcp39Eig",
                  "target": "2UMN_OQKrAshZl3dHPujxx"
                },
                {
                  "attributes": {
                    "relation": "SURROUNDS"
                  },
                  "source": "1GE3M13VHAWxhxwcp39Eig",
                  "target": "2Tt7$hRrHBKvoaUIFPAzkW"
                },
                {
                  "attributes": {
                    "relation": "SURROUNDS"
                  },
                  "source": "1GE3M13VHAWxhxwcp39Eig",
                  "target": "2Tt7$hRrHBKvoaUIFPAzqz"
                },
                {
                  "attributes": {
                    "relation": "SURROUNDS"
                  },
                  "source": "1GE3M13VHAWxhxwcp39Eig",
                  "target": "3a58fQxqD2numVo$eTOgS$"
                },
                {
                  "attributes": {
                    "relation": "SURROUNDS"
                  },
                  "source": "1GE3M13VHAWxhxwcp39Eig",
                  "target": "0OCjL9Oi14tu4iiPw9P_Bc"
                },
                {
                  "attributes": {
                    "relation": "SURROUNDS"
                  },
                  "source": "1GE3M13VHAWxhxwcp39Eig",
                  "target": "2UMN_OQKrAshZl3dHPujxu"
                },
                {
                  "attributes": {
                    "relation": "SURROUNDS"
                  },
                  "source": "1GE3M13VHAWxhxwcp39Eig",
                  "target": "2UMN_OQKrAshZl3dHPujxW"
                },
                {
                  "attributes": {
                    "relation": "SURROUNDS"
                  },
                  "source": "1GE3M13VHAWxhxwcp39Eig",
                  "target": "2UMN_OQKrAshZl3dHPujxy"
                },
                {
                  "attributes": {
                    "relation": "SURROUNDS"
                  },
                  "source": "1GE3M13VHAWxhxwcp39Eif",
                  "target": "2Tt7$hRrHBKvoaUIFPAzcA"
                },
                {
                  "attributes": {
                    "relation": "SURROUNDS"
                  },
                  "source": "1GE3M13VHAWxhxwcp39Eif",
                  "target": "1fIVuvFffDJRV_SJESOtDf"
                },
                {
                  "attributes": {
                    "relation": "SURROUNDS"
                  },
                  "source": "1GE3M13VHAWxhxwcp39Eif",
                  "target": "2UbFLyEvP7xerhn6sJH67p"
                },
                {
                  "attributes": {
                    "relation": "SURROUNDS"
                  },
                  "source": "1GE3M13VHAWxhxwcp39Eif",
                  "target": "0OCjL9Oi14tu4iiPw9P_FW"
                },
                {
                  "attributes": {
                    "relation": "SURROUNDS"
                  },
                  "source": "1GE3M13VHAWxhxwcp39Eif",
                  "target": "3a58fQxqD2numVo$eTOgS$"
                },
                {
                  "attributes": {
                    "relation": "SURROUNDS"
                  },
                  "source": "1GE3M13VHAWxhxwcp39Eie",
                  "target": "2Tt7$hRrHBKvoaUIFPAzkW"
                },
                {
                  "attributes": {
                    "relation": "SURROUNDS"
                  },
                  "source": "1GE3M13VHAWxhxwcp39Eie",
                  "target": "2UMN_OQKrAshZl3dHPulpG"
                },
                {
                  "attributes": {
                    "relation": "SURROUNDS"
                  },
                  "source": "1GE3M13VHAWxhxwcp39Eie",
                  "target": "0OCjL9Oi14tu4iiPw9P_M$"
                },
                {
                  "attributes": {
                    "relation": "SURROUNDS"
                  },
                  "source": "1GE3M13VHAWxhxwcp39Eie",
                  "target": "0OCjL9Oi14tu4iiPw9P_Gz"
                },
                {
                  "attributes": {
                    "relation": "SURROUNDS"
                  },
                  "source": "1GE3M13VHAWxhxwcp39Eie",
                  "target": "0OCjL9Oi14tu4iiPw9P_Lo"
                },
                {
                  "attributes": {
                    "relation": "SURROUNDS"
                  },
                  "source": "1GE3M13VHAWxhxwcp39Eie",
                  "target": "0OCjL9Oi14tu4iiPw9P_Bc"
                },
                {
                  "attributes": {
                    "relation": "SURROUNDS"
                  },
                  "source": "1GE3M13VHAWxhxwcp39Eie",
                  "target": "2Tt7$hRrHBKvoaUIFPAzcA"
                },
                {
                  "attributes": {
                    "relation": "SURROUNDS"
                  },
                  "source": "1GE3M13VHAWxhxwcp39Eie",
                  "target": "2UbFLyEvP7xerhn6sJH67p"
                },
                {
                  "attributes": {
                    "relation": "SURROUNDS"
                  },
                  "source": "1GE3M13VHAWxhxwcp39Eie",
                  "target": "3a58fQxqD2numVo$eTOgS$"
                },
                {
                  "attributes": {
                    "relation": "SURROUNDS"
                  },
                  "source": "1GE3M13VHAWxhxwcp39Eiy",
                  "target": "2UMN_OQKrAshZl3dHPukEN"
                },
                {
                  "attributes": {
                    "relation": "SURROUNDS"
                  },
                  "source": "1GE3M13VHAWxhxwcp39Eiy",
                  "target": "1fIVuvFffDJRV_SJESOtDs"
                },
                {
                  "attributes": {
                    "relation": "SURROUNDS"
                  },
                  "source": "1GE3M13VHAWxhxwcp39Eiy",
                  "target": "2UMN_OQKrAshZl3dHPukU_"
                },
                {
                  "attributes": {
                    "relation": "SURROUNDS"
                  },
                  "source": "1GE3M13VHAWxhxwcp39Eiy",
                  "target": "2UMN_OQKrAshZl3dHPuk8B"
                },
                {
                  "attributes": {
                    "relation": "SURROUNDS"
                  },
                  "source": "1GE3M13VHAWxhxwcp39Eiy",
                  "target": "3a58fQxqD2numVo$eTOgS$"
                },
                {
                  "attributes": {
                    "relation": "SURROUNDS"
                  },
                  "source": "2dcjqNU0z9dgXZ44gQgewm",
                  "target": "2UMN_OQKrAshZl3dHPukEN"
                },
                {
                  "attributes": {
                    "relation": "SURROUNDS"
                  },
                  "source": "2dcjqNU0z9dgXZ44gQgewm",
                  "target": "1fIVuvFffDJRV_SJESOtDs"
                },
                {
                  "attributes": {
                    "relation": "SURROUNDS"
                  },
                  "source": "2dcjqNU0z9dgXZ44gQgewm",
                  "target": "3n9ek_acHEfRCBQHch6_iT"
                },
                {
                  "attributes": {
                    "relation": "SURROUNDS"
                  },
                  "source": "2dcjqNU0z9dgXZ44gQgewm",
                  "target": "1fIVuvFffDJRV_SJESOtCZ"
                },
                {
                  "attributes": {
                    "relation": "SURROUNDS"
                  },
                  "source": "2dcjqNU0z9dgXZ44gQgewe",
                  "target": "2UMN_OQKrAshZl3dHPukEN"
                },
                {
                  "attributes": {
                    "relation": "SURROUNDS"
                  },
                  "source": "2dcjqNU0z9dgXZ44gQgewe",
                  "target": "2UMN_OQKrAshZl3dHPuj4w"
                },
                {
                  "attributes": {
                    "relation": "SURROUNDS"
                  },
                  "source": "2dcjqNU0z9dgXZ44gQgewe",
                  "target": "2UMN_OQKrAshZl3dHPuj9v"
                },
                {
                  "attributes": {
                    "relation": "SURROUNDS"
                  },
                  "source": "2dcjqNU0z9dgXZ44gQgewe",
                  "target": "1fIVuvFffDJRV_SJESOtCZ"
                },
                {
                  "attributes": {
                    "relation": "SURROUNDS"
                  },
                  "source": "2dcjqNU0z9dgXZ44gQgewe",
                  "target": "2UMN_OQKrAshZl3dHPuj1O"
                },
                {
                  "attributes": {
                    "relation": "SURROUNDS"
                  },
                  "source": "2dcjqNU0z9dgXZ44gQgewc",
                  "target": "2UMN_OQKrAshZl3dHPuj4w"
                },
                {
                  "attributes": {
                    "relation": "SURROUNDS"
                  },
                  "source": "2dcjqNU0z9dgXZ44gQgewc",
                  "target": "2UMN_OQKrAshZl3dHPujAr"
                },
                {
                  "attributes": {
                    "relation": "SURROUNDS"
                  },
                  "source": "2dcjqNU0z9dgXZ44gQgewc",
                  "target": "2UMN_OQKrAshZl3dHPuj1O"
                },
                {
                  "attributes": {
                    "relation": "SURROUNDS"
                  },
                  "source": "2dcjqNU0z9dgXZ44gQgewc",
                  "target": "1fIVuvFffDJRV_SJESOtCZ"
                },
                {
                  "attributes": {
                    "relation": "SURROUNDS"
                  },
                  "source": "2dcjqNU0z9dgXZ44gQgewc",
                  "target": "2UMN_OQKrAshZl3dHPujDv"
                },
                {
                  "attributes": {
                    "relation": "SURROUNDS"
                  },
                  "source": "2dcjqNU0z9dgXZ44gQgewa",
                  "target": "2UMN_OQKrAshZl3dHPuj4w"
                },
                {
                  "attributes": {
                    "relation": "SURROUNDS"
                  },
                  "source": "2dcjqNU0z9dgXZ44gQgewa",
                  "target": "2UMN_OQKrAshZl3dHPujA7"
                },
                {
                  "attributes": {
                    "relation": "SURROUNDS"
                  },
                  "source": "2dcjqNU0z9dgXZ44gQgewa",
                  "target": "2UMN_OQKrAshZl3dHPujDv"
                },
                {
                  "attributes": {
                    "relation": "SURROUNDS"
                  },
                  "source": "2dcjqNU0z9dgXZ44gQgewa",
                  "target": "3wh27gpDH7bg434tPIc79b"
                },
                {
                  "attributes": {
                    "relation": "SURROUNDS"
                  },
                  "source": "2dcjqNU0z9dgXZ44gQgewa",
                  "target": "3wh27gpDH7bg434tPIc79Y"
                },
                {
                  "attributes": {
                    "relation": "SURROUNDS"
                  },
                  "source": "2dcjqNU0z9dgXZ44gQgewa",
                  "target": "1fIVuvFffDJRV_SJESOtCZ"
                },
                {
                  "attributes": {
                    "relation": "SURROUNDS"
                  },
                  "source": "2dcjqNU0z9dgXZ44gQgewa",
                  "target": "2UMN_OQKrAshZl3dHPujEs"
                },
                {
                  "attributes": {
                    "relation": "SURROUNDS"
                  },
                  "source": "2dcjqNU0z9dgXZ44gQgexV",
                  "target": "2UMN_OQKrAshZl3dHPuj4w"
                },
                {
                  "attributes": {
                    "relation": "SURROUNDS"
                  },
                  "source": "2dcjqNU0z9dgXZ44gQgexV",
                  "target": "2UMN_OQKrAshZl3dHPujBN"
                },
                {
                  "attributes": {
                    "relation": "SURROUNDS"
                  },
                  "source": "2dcjqNU0z9dgXZ44gQgexV",
                  "target": "2UMN_OQKrAshZl3dHPujEs"
                },
                {
                  "attributes": {
                    "relation": "SURROUNDS"
                  },
                  "source": "2dcjqNU0z9dgXZ44gQgexV",
                  "target": "1fIVuvFffDJRV_SJESOtCZ"
                },
                {
                  "attributes": {
                    "relation": "SURROUNDS"
                  },
                  "source": "2dcjqNU0z9dgXZ44gQgexV",
                  "target": "2UMN_OQKrAshZl3dHPujFq"
                },
                {
                  "attributes": {
                    "relation": "SURROUNDS"
                  },
                  "source": "1DRIgGmAHBt9Ugpf6z41Pv",
                  "target": "2UMN_OQKrAshZl3dHPuj4w"
                },
                {
                  "attributes": {
                    "relation": "SURROUNDS"
                  },
                  "source": "1DRIgGmAHBt9Ugpf6z41Pv",
                  "target": "2UMN_OQKrAshZl3dHPujKb"
                },
                {
                  "attributes": {
                    "relation": "SURROUNDS"
                  },
                  "source": "1DRIgGmAHBt9Ugpf6z41Pv",
                  "target": "2UMN_OQKrAshZl3dHPujFq"
                },
                {
                  "attributes": {
                    "relation": "SURROUNDS"
                  },
                  "source": "1DRIgGmAHBt9Ugpf6z41Pv",
                  "target": "1fIVuvFffDJRV_SJESOtCZ"
                },
                {
                  "attributes": {
                    "relation": "SURROUNDS"
                  },
                  "source": "1DRIgGmAHBt9Ugpf6z41Pv",
                  "target": "2UMN_OQKrAshZl3dHPujFI"
                },
                {
                  "attributes": {
                    "relation": "SURROUNDS"
                  },
                  "source": "1DRIgGmAHBt9Ugpf6z41Pu",
                  "target": "2UMN_OQKrAshZl3dHPuj4w"
                },
                {
                  "attributes": {
                    "relation": "SURROUNDS"
                  },
                  "source": "1DRIgGmAHBt9Ugpf6z41Pu",
                  "target": "2UMN_OQKrAshZl3dHPujLJ"
                },
                {
                  "attributes": {
                    "relation": "SURROUNDS"
                  },
                  "source": "1DRIgGmAHBt9Ugpf6z41Pu",
                  "target": "2UMN_OQKrAshZl3dHPujFI"
                },
                {
                  "attributes": {
                    "relation": "SURROUNDS"
                  },
                  "source": "1DRIgGmAHBt9Ugpf6z41Pu",
                  "target": "1fIVuvFffDJRV_SJESOtCZ"
                },
                {
                  "attributes": {
                    "relation": "SURROUNDS"
                  },
                  "source": "1DRIgGmAHBt9Ugpf6z41Pu",
                  "target": "2UMN_OQKrAshZl3dHPuj8X"
                },
                {
                  "attributes": {
                    "relation": "SURROUNDS"
                  },
                  "source": "1DRIgGmAHBt9Ugpf6z41P$",
                  "target": "2UMN_OQKrAshZl3dHPuj4w"
                },
                {
                  "attributes": {
                    "relation": "SURROUNDS"
                  },
                  "source": "1DRIgGmAHBt9Ugpf6z41P$",
                  "target": "2UMN_OQKrAshZl3dHPujMb"
                },
                {
                  "attributes": {
                    "relation": "SURROUNDS"
                  },
                  "source": "1DRIgGmAHBt9Ugpf6z41P$",
                  "target": "2UMN_OQKrAshZl3dHPuj8X"
                },
                {
                  "attributes": {
                    "relation": "SURROUNDS"
                  },
                  "source": "1DRIgGmAHBt9Ugpf6z41P$",
                  "target": "1fIVuvFffDJRV_SJESOtCZ"
                },
                {
                  "attributes": {
                    "relation": "SURROUNDS"
                  },
                  "source": "1DRIgGmAHBt9Ugpf6z41P$",
                  "target": "2UMN_OQKrAshZl3dHPuj9m"
                },
                {
                  "attributes": {
                    "relation": "SURROUNDS"
                  },
                  "source": "1DRIgGmAHBt9Ugpf6z41P_",
                  "target": "2UMN_OQKrAshZl3dHPujxE"
                },
                {
                  "attributes": {
                    "relation": "SURROUNDS"
                  },
                  "source": "1DRIgGmAHBt9Ugpf6z41P_",
                  "target": "2UMN_OQKrAshZl3dHPuj4w"
                },
                {
                  "attributes": {
                    "relation": "SURROUNDS"
                  },
                  "source": "1DRIgGmAHBt9Ugpf6z41P_",
                  "target": "2UMN_OQKrAshZl3dHPujNb"
                },
                {
                  "attributes": {
                    "relation": "SURROUNDS"
                  },
                  "source": "1DRIgGmAHBt9Ugpf6z41P_",
                  "target": "2UMN_OQKrAshZl3dHPuj9m"
                },
                {
                  "attributes": {
                    "relation": "SURROUNDS"
                  },
                  "source": "1DRIgGmAHBt9Ugpf6z41P_",
                  "target": "3wh27gpDH7bg434tPIc79o"
                },
                {
                  "attributes": {
                    "relation": "SURROUNDS"
                  },
                  "source": "1DRIgGmAHBt9Ugpf6z41P_",
                  "target": "3wh27gpDH7bg434tPIc79p"
                },
                {
                  "attributes": {
                    "relation": "SURROUNDS"
                  },
                  "source": "1DRIgGmAHBt9Ugpf6z41P_",
                  "target": "1fIVuvFffDJRV_SJESOtCZ"
                },
                {
                  "attributes": {
                    "relation": "SURROUNDS"
                  },
                  "source": "2dcjqNU0z9dgXZ44gQgexJ",
                  "target": "2UMN_OQKrAshZl3dHPujxF"
                },
                {
                  "attributes": {
                    "relation": "SURROUNDS"
                  },
                  "source": "2dcjqNU0z9dgXZ44gQgexJ",
                  "target": "2UMN_OQKrAshZl3dHPuj4q"
                },
                {
                  "attributes": {
                    "relation": "SURROUNDS"
                  },
                  "source": "2dcjqNU0z9dgXZ44gQgexJ",
                  "target": "2UMN_OQKrAshZl3dHPujxE"
                },
                {
                  "attributes": {
                    "relation": "SURROUNDS"
                  },
                  "source": "2dcjqNU0z9dgXZ44gQgexJ",
                  "target": "2UMN_OQKrAshZl3dHPulJq"
                },
                {
                  "attributes": {
                    "relation": "SURROUNDS"
                  },
                  "source": "2dcjqNU0z9dgXZ44gQgexJ",
                  "target": "2UMN_OQKrAshZl3dHPuj4u"
                },
                {
                  "attributes": {
                    "relation": "SURROUNDS"
                  },
                  "source": "2dcjqNU0z9dgXZ44gQgexJ",
                  "target": "1fIVuvFffDJRV_SJESOtCZ"
                },
                {
                  "attributes": {
                    "relation": "SURROUNDS"
                  },
                  "source": "2dcjqNU0z9dgXZ44gQge4d",
                  "target": "2UMN_OQKrAshZl3dHPujxF"
                },
                {
                  "attributes": {
                    "relation": "SURROUNDS"
                  },
                  "source": "2dcjqNU0z9dgXZ44gQge4d",
                  "target": "2UMN_OQKrAshZl3dHPuj4p"
                },
                {
                  "attributes": {
                    "relation": "SURROUNDS"
                  },
                  "source": "2dcjqNU0z9dgXZ44gQge4d",
                  "target": "2UMN_OQKrAshZl3dHPulJq"
                },
                {
                  "attributes": {
                    "relation": "SURROUNDS"
                  },
                  "source": "2dcjqNU0z9dgXZ44gQge4d",
                  "target": "2UMN_OQKrAshZl3dHPujxD"
                },
                {
                  "attributes": {
                    "relation": "SURROUNDS"
                  },
                  "source": "2dcjqNU0z9dgXZ44gQge4d",
                  "target": "2UMN_OQKrAshZl3dHPuj4t"
                },
                {
                  "attributes": {
                    "relation": "SURROUNDS"
                  },
                  "source": "2dcjqNU0z9dgXZ44gQge4d",
                  "target": "1fIVuvFffDJRV_SJESOtCZ"
                },
                {
                  "attributes": {
                    "relation": "SURROUNDS"
                  },
                  "source": "2dcjqNU0z9dgXZ44gQge4b",
                  "target": "2UMN_OQKrAshZl3dHPulOJ"
                },
                {
                  "attributes": {
                    "relation": "SURROUNDS"
                  },
                  "source": "2dcjqNU0z9dgXZ44gQge4b",
                  "target": "2UMN_OQKrAshZl3dHPujxv"
                },
                {
                  "attributes": {
                    "relation": "SURROUNDS"
                  },
                  "source": "2dcjqNU0z9dgXZ44gQge4b",
                  "target": "2UMN_OQKrAshZl3dHPuj4m"
                },
                {
                  "attributes": {
                    "relation": "SURROUNDS"
                  },
                  "source": "2dcjqNU0z9dgXZ44gQge4b",
                  "target": "2UMN_OQKrAshZl3dHPujxD"
                },
                {
                  "attributes": {
                    "relation": "SURROUNDS"
                  },
                  "source": "2dcjqNU0z9dgXZ44gQge4b",
                  "target": "2UMN_OQKrAshZl3dHPulJq"
                },
                {
                  "attributes": {
                    "relation": "SURROUNDS"
                  },
                  "source": "2dcjqNU0z9dgXZ44gQge4b",
                  "target": "2UMN_OQKrAshZl3dHPujxC"
                },
                {
                  "attributes": {
                    "relation": "SURROUNDS"
                  },
                  "source": "2dcjqNU0z9dgXZ44gQge4b",
                  "target": "2UMN_OQKrAshZl3dHPujxF"
                },
                {
                  "attributes": {
                    "relation": "SURROUNDS"
                  },
                  "source": "2dcjqNU0z9dgXZ44gQge4b",
                  "target": "1fIVuvFffDJRV_SJESOtCZ"
                },
                {
                  "attributes": {
                    "relation": "SURROUNDS"
                  },
                  "source": "2dcjqNU0z9dgXZ44gQge4Z",
                  "target": "2UMN_OQKrAshZl3dHPujxv"
                },
                {
                  "attributes": {
                    "relation": "SURROUNDS"
                  },
                  "source": "2dcjqNU0z9dgXZ44gQge4Z",
                  "target": "2UMN_OQKrAshZl3dHPuj4n"
                },
                {
                  "attributes": {
                    "relation": "SURROUNDS"
                  },
                  "source": "2dcjqNU0z9dgXZ44gQge4Z",
                  "target": "2UMN_OQKrAshZl3dHPujxD"
                },
                {
                  "attributes": {
                    "relation": "SURROUNDS"
                  },
                  "source": "2dcjqNU0z9dgXZ44gQge4Z",
                  "target": "2UMN_OQKrAshZl3dHPujxC"
                },
                {
                  "attributes": {
                    "relation": "SURROUNDS"
                  },
                  "source": "2dcjqNU0z9dgXZ44gQge4Z",
                  "target": "2UMN_OQKrAshZl3dHPujxF"
                },
                {
                  "attributes": {
                    "relation": "SURROUNDS"
                  },
                  "source": "2dcjqNU0z9dgXZ44gQge4Z",
                  "target": "1fIVuvFffDJRV_SJESOtCZ"
                },
                {
                  "attributes": {
                    "relation": "SURROUNDS"
                  },
                  "source": "2dcjqNU0z9dgXZ44gQge4X",
                  "target": "1fIVuvFffDJRV_SJESOtCZ"
                },
                {
                  "attributes": {
                    "relation": "SURROUNDS"
                  },
                  "source": "2dcjqNU0z9dgXZ44gQge4X",
                  "target": "2UMN_OQKrAshZl3dHPulHz"
                },
                {
                  "attributes": {
                    "relation": "SURROUNDS"
                  },
                  "source": "2dcjqNU0z9dgXZ44gQge4X",
                  "target": "2UMN_OQKrAshZl3dHPulOJ"
                },
                {
                  "attributes": {
                    "relation": "SURROUNDS"
                  },
                  "source": "2dcjqNU0z9dgXZ44gQge4X",
                  "target": "2UMN_OQKrAshZl3dHPujxv"
                },
                {
                  "attributes": {
                    "relation": "SURROUNDS"
                  },
                  "source": "2dcjqNU0z9dgXZ44gQge4X",
                  "target": "2UMN_OQKrAshZl3dHPuj4m"
                },
                {
                  "attributes": {
                    "relation": "SURROUNDS"
                  },
                  "source": "2dcjqNU0z9dgXZ44gQge4X",
                  "target": "2UMN_OQKrAshZl3dHPuj4n"
                },
                {
                  "attributes": {
                    "relation": "SURROUNDS"
                  },
                  "source": "2dcjqNU0z9dgXZ44gQge4X",
                  "target": "2UMN_OQKrAshZl3dHPuiDz"
                },
                {
                  "attributes": {
                    "relation": "SURROUNDS"
                  },
                  "source": "2dcjqNU0z9dgXZ44gQge4X",
                  "target": "2UMN_OQKrAshZl3dHPujV_"
                },
                {
                  "attributes": {
                    "relation": "SURROUNDS"
                  },
                  "source": "2dcjqNU0z9dgXZ44gQge4X",
                  "target": "2UMN_OQKrAshZl3dHPujOW"
                },
                {
                  "attributes": {
                    "relation": "SURROUNDS"
                  },
                  "source": "2dcjqNU0z9dgXZ44gQge4X",
                  "target": "2UMN_OQKrAshZl3dHPujP0"
                },
                {
                  "attributes": {
                    "relation": "SURROUNDS"
                  },
                  "source": "2dcjqNU0z9dgXZ44gQge4X",
                  "target": "2UMN_OQKrAshZl3dHPujR8"
                },
                {
                  "attributes": {
                    "relation": "SURROUNDS"
                  },
                  "source": "2dcjqNU0z9dgXZ44gQge4X",
                  "target": "2UMN_OQKrAshZl3dHPujdx"
                },
                {
                  "attributes": {
                    "relation": "SURROUNDS"
                  },
                  "source": "2dcjqNU0z9dgXZ44gQge4X",
                  "target": "2UMN_OQKrAshZl3dHPujXf"
                },
                {
                  "attributes": {
                    "relation": "SURROUNDS"
                  },
                  "source": "2dcjqNU0z9dgXZ44gQge4X",
                  "target": "2UMN_OQKrAshZl3dHPuji$"
                },
                {
                  "attributes": {
                    "relation": "SURROUNDS"
                  },
                  "source": "2dcjqNU0z9dgXZ44gQge4X",
                  "target": "2UMN_OQKrAshZl3dHPujQC"
                },
                {
                  "attributes": {
                    "relation": "SURROUNDS"
                  },
                  "source": "2dcjqNU0z9dgXZ44gQge4X",
                  "target": "2UMN_OQKrAshZl3dHPujVp"
                },
                {
                  "attributes": {
                    "relation": "SURROUNDS"
                  },
                  "source": "2dcjqNU0z9dgXZ44gQge4X",
                  "target": "2UMN_OQKrAshZl3dHPui7N"
                },
                {
                  "attributes": {
                    "relation": "SURROUNDS"
                  },
                  "source": "2dcjqNU0z9dgXZ44gQge5V",
                  "target": "2UMN_OQKrAshZl3dHPulOJ"
                },
                {
                  "attributes": {
                    "relation": "SURROUNDS"
                  },
                  "source": "2dcjqNU0z9dgXZ44gQge5V",
                  "target": "2UMN_OQKrAshZl3dHPulHz"
                },
                {
                  "attributes": {
                    "relation": "SURROUNDS"
                  },
                  "source": "2dcjqNU0z9dgXZ44gQge5V",
                  "target": "2UMN_OQKrAshZl3dHPulJq"
                },
                {
                  "attributes": {
                    "relation": "SURROUNDS"
                  },
                  "source": "2dcjqNU0z9dgXZ44gQge5V",
                  "target": "1fIVuvFffDJRV_SJESOtCZ"
                },
                {
                  "attributes": {
                    "relation": "SURROUNDS"
                  },
                  "source": "2dcjqNU0z9dgXZ44gQge5G",
                  "target": "2UMN_OQKrAshZl3dHPulHz"
                },
                {
                  "attributes": {
                    "relation": "SURROUNDS"
                  },
                  "source": "2dcjqNU0z9dgXZ44gQge5G",
                  "target": "2UMN_OQKrAshZl3dHPuiDz"
                },
                {
                  "attributes": {
                    "relation": "SURROUNDS"
                  },
                  "source": "2dcjqNU0z9dgXZ44gQge5G",
                  "target": "2UMN_OQKrAshZl3dHPujV_"
                },
                {
                  "attributes": {
                    "relation": "SURROUNDS"
                  },
                  "source": "2dcjqNU0z9dgXZ44gQge5G",
                  "target": "1fIVuvFffDJRV_SJESOtCZ"
                },
                {
                  "attributes": {
                    "relation": "SURROUNDS"
                  },
                  "source": "2dcjqNU0z9dgXZ44gQge5G",
                  "target": "2UMN_OQKrAshZl3dHPujGR"
                },
                {
                  "attributes": {
                    "relation": "SURROUNDS"
                  },
                  "source": "2dcjqNU0z9dgXZ44gQge5E",
                  "target": "2UMN_OQKrAshZl3dHPujJu"
                },
                {
                  "attributes": {
                    "relation": "SURROUNDS"
                  },
                  "source": "2dcjqNU0z9dgXZ44gQge5E",
                  "target": "2UMN_OQKrAshZl3dHPuiDz"
                },
                {
                  "attributes": {
                    "relation": "SURROUNDS"
                  },
                  "source": "2dcjqNU0z9dgXZ44gQge5E",
                  "target": "2UMN_OQKrAshZl3dHPujOW"
                },
                {
                  "attributes": {
                    "relation": "SURROUNDS"
                  },
                  "source": "2dcjqNU0z9dgXZ44gQge5E",
                  "target": "2UMN_OQKrAshZl3dHPujP0"
                },
                {
                  "attributes": {
                    "relation": "SURROUNDS"
                  },
                  "source": "2dcjqNU0z9dgXZ44gQge5E",
                  "target": "2UMN_OQKrAshZl3dHPulmH"
                },
                {
                  "attributes": {
                    "relation": "SURROUNDS"
                  },
                  "source": "2dcjqNU0z9dgXZ44gQge5E",
                  "target": "2UMN_OQKrAshZl3dHPujGR"
                },
                {
                  "attributes": {
                    "relation": "SURROUNDS"
                  },
                  "source": "2dcjqNU0z9dgXZ44gQge5E",
                  "target": "1fIVuvFffDJRV_SJESOtCZ"
                },
                {
                  "attributes": {
                    "relation": "SURROUNDS"
                  },
                  "source": "2dcjqNU0z9dgXZ44gQge5E",
                  "target": "2UMN_OQKrAshZl3dHPujSp"
                },
                {
                  "attributes": {
                    "relation": "SURROUNDS"
                  },
                  "source": "2dcjqNU0z9dgXZ44gQge5E",
                  "target": "2UMN_OQKrAshZl3dHPujJL"
                },
                {
                  "attributes": {
                    "relation": "SURROUNDS"
                  },
                  "source": "2dcjqNU0z9dgXZ44gQge5C",
                  "target": "2UMN_OQKrAshZl3dHPujJu"
                },
                {
                  "attributes": {
                    "relation": "SURROUNDS"
                  },
                  "source": "2dcjqNU0z9dgXZ44gQge5C",
                  "target": "2UMN_OQKrAshZl3dHPuiDz"
                },
                {
                  "attributes": {
                    "relation": "SURROUNDS"
                  },
                  "source": "2dcjqNU0z9dgXZ44gQge5C",
                  "target": "2UMN_OQKrAshZl3dHPul4n"
                },
                {
                  "attributes": {
                    "relation": "SURROUNDS"
                  },
                  "source": "2dcjqNU0z9dgXZ44gQge5C",
                  "target": "2UMN_OQKrAshZl3dHPujQC"
                },
                {
                  "attributes": {
                    "relation": "SURROUNDS"
                  },
                  "source": "2dcjqNU0z9dgXZ44gQge5C",
                  "target": "1fIVuvFffDJRV_SJESOtCZ"
                },
                {
                  "attributes": {
                    "relation": "SURROUNDS"
                  },
                  "source": "2dcjqNU0z9dgXZ44gQge5C",
                  "target": "2UMN_OQKrAshZl3dHPujSp"
                },
                {
                  "attributes": {
                    "relation": "SURROUNDS"
                  },
                  "source": "2dcjqNU0z9dgXZ44gQge5C",
                  "target": "2UMN_OQKrAshZl3dHPujJL"
                },
                {
                  "attributes": {
                    "relation": "SURROUNDS"
                  },
                  "source": "2dcjqNU0z9dgXZ44gQge5A",
                  "target": "2UMN_OQKrAshZl3dHPuiDz"
                },
                {
                  "attributes": {
                    "relation": "SURROUNDS"
                  },
                  "source": "2dcjqNU0z9dgXZ44gQge5A",
                  "target": "2UMN_OQKrAshZl3dHPujR8"
                },
                {
                  "attributes": {
                    "relation": "SURROUNDS"
                  },
                  "source": "2dcjqNU0z9dgXZ44gQge5A",
                  "target": "2UMN_OQKrAshZl3dHPulmH"
                },
                {
                  "attributes": {
                    "relation": "SURROUNDS"
                  },
                  "source": "2dcjqNU0z9dgXZ44gQge5A",
                  "target": "2UMN_OQKrAshZl3dHPujJL"
                },
                {
                  "attributes": {
                    "relation": "SURROUNDS"
                  },
                  "source": "2dcjqNU0z9dgXZ44gQge5A",
                  "target": "1fIVuvFffDJRV_SJESOtCZ"
                },
                {
                  "attributes": {
                    "relation": "SURROUNDS"
                  },
                  "source": "2dcjqNU0z9dgXZ44gQge5A",
                  "target": "2UMN_OQKrAshZl3dHPujTb"
                },
                {
                  "attributes": {
                    "relation": "SURROUNDS"
                  },
                  "source": "2dcjqNU0z9dgXZ44gQge5y",
                  "target": "2UMN_OQKrAshZl3dHPuiDz"
                },
                {
                  "attributes": {
                    "relation": "SURROUNDS"
                  },
                  "source": "2dcjqNU0z9dgXZ44gQge5y",
                  "target": "2UMN_OQKrAshZl3dHPujTb"
                },
                {
                  "attributes": {
                    "relation": "SURROUNDS"
                  },
                  "source": "2dcjqNU0z9dgXZ44gQge5y",
                  "target": "2UMN_OQKrAshZl3dHPulmH"
                },
                {
                  "attributes": {
                    "relation": "SURROUNDS"
                  },
                  "source": "2dcjqNU0z9dgXZ44gQge5y",
                  "target": "1fIVuvFffDJRV_SJESOtCZ"
                },
                {
                  "attributes": {
                    "relation": "SURROUNDS"
                  },
                  "source": "2dcjqNU0z9dgXZ44gQge5y",
                  "target": "2UMN_OQKrAshZl3dHPujVp"
                },
                {
                  "attributes": {
                    "relation": "SURROUNDS"
                  },
                  "source": "2dcjqNU0z9dgXZ44gQge5y",
                  "target": "2UMN_OQKrAshZl3dHPuiaC"
                },
                {
                  "attributes": {
                    "relation": "SURROUNDS"
                  },
                  "source": "2dcjqNU0z9dgXZ44gQge5w",
                  "target": "2UMN_OQKrAshZl3dHPujVp"
                },
                {
                  "attributes": {
                    "relation": "SURROUNDS"
                  },
                  "source": "2dcjqNU0z9dgXZ44gQge5w",
                  "target": "2UMN_OQKrAshZl3dHPuiaC"
                },
                {
                  "attributes": {
                    "relation": "SURROUNDS"
                  },
                  "source": "2dcjqNU0z9dgXZ44gQge5w",
                  "target": "3wh27gpDH7bg434tPIc79Q"
                },
                {
                  "attributes": {
                    "relation": "SURROUNDS"
                  },
                  "source": "2dcjqNU0z9dgXZ44gQge5w",
                  "target": "3wh27gpDH7bg434tPIc79l"
                },
                {
                  "attributes": {
                    "relation": "SURROUNDS"
                  },
                  "source": "2dcjqNU0z9dgXZ44gQge5w",
                  "target": "2UMN_OQKrAshZl3dHPulmH"
                },
                {
                  "attributes": {
                    "relation": "SURROUNDS"
                  },
                  "source": "2dcjqNU0z9dgXZ44gQge5w",
                  "target": "1fIVuvFffDJRV_SJESOtCZ"
                },
                {
                  "attributes": {
                    "relation": "SURROUNDS"
                  },
                  "source": "2dcjqNU0z9dgXZ44gQge5w",
                  "target": "2UMN_OQKrAshZl3dHPuic8"
                },
                {
                  "attributes": {
                    "relation": "SURROUNDS"
                  },
                  "source": "2dcjqNU0z9dgXZ44gQge5X",
                  "target": "2UMN_OQKrAshZl3dHPui5h"
                },
                {
                  "attributes": {
                    "relation": "SURROUNDS"
                  },
                  "source": "2dcjqNU0z9dgXZ44gQge5X",
                  "target": "1fIVuvFffDJRV_SJESOtDf"
                },
                {
                  "attributes": {
                    "relation": "SURROUNDS"
                  },
                  "source": "2dcjqNU0z9dgXZ44gQge5X",
                  "target": "2UMN_OQKrAshZl3dHPuic8"
                },
                {
                  "attributes": {
                    "relation": "SURROUNDS"
                  },
                  "source": "2dcjqNU0z9dgXZ44gQge5X",
                  "target": "1fIVuvFffDJRV_SJESOtCZ"
                },
                {
                  "attributes": {
                    "relation": "SURROUNDS"
                  },
                  "source": "2dcjqNU0z9dgXZ44gQge5X",
                  "target": "2UMN_OQKrAshZl3dHPuiiF"
                },
                {
                  "attributes": {
                    "relation": "SURROUNDS"
                  },
                  "source": "2dcjqNU0z9dgXZ44gQge5X",
                  "target": "2UMN_OQKrAshZl3dHPuikh"
                },
                {
                  "attributes": {
                    "relation": "SURROUNDS"
                  },
                  "source": "2dcjqNU0z9dgXZ44gQge5X",
                  "target": "2UMN_OQKrAshZl3dHPuiW_"
                },
                {
                  "attributes": {
                    "relation": "SURROUNDS"
                  },
                  "source": "2dcjqNU0z9dgXZ44gQge6V",
                  "target": "2UMN_OQKrAshZl3dHPuisf"
                },
                {
                  "attributes": {
                    "relation": "SURROUNDS"
                  },
                  "source": "2dcjqNU0z9dgXZ44gQge6V",
                  "target": "2UMN_OQKrAshZl3dHPuiiF"
                },
                {
                  "attributes": {
                    "relation": "SURROUNDS"
                  },
                  "source": "2dcjqNU0z9dgXZ44gQge6V",
                  "target": "2UMN_OQKrAshZl3dHPuikh"
                },
                {
                  "attributes": {
                    "relation": "SURROUNDS"
                  },
                  "source": "2dcjqNU0z9dgXZ44gQge6V",
                  "target": "1fIVuvFffDJRV_SJESOtCZ"
                },
                {
                  "attributes": {
                    "relation": "SURROUNDS"
                  },
                  "source": "2dcjqNU0z9dgXZ44gQge6V",
                  "target": "2UMN_OQKrAshZl3dHPuigF"
                },
                {
                  "attributes": {
                    "relation": "SURROUNDS"
                  },
                  "source": "2dcjqNU0z9dgXZ44gQge6V",
                  "target": "2UMN_OQKrAshZl3dHPuivY"
                },
                {
                  "attributes": {
                    "relation": "SURROUNDS"
                  },
                  "source": "2dcjqNU0z9dgXZ44gQge6T",
                  "target": "2UMN_OQKrAshZl3dHPuigF"
                },
                {
                  "attributes": {
                    "relation": "SURROUNDS"
                  },
                  "source": "2dcjqNU0z9dgXZ44gQge6T",
                  "target": "2UMN_OQKrAshZl3dHPui_G"
                },
                {
                  "attributes": {
                    "relation": "SURROUNDS"
                  },
                  "source": "2dcjqNU0z9dgXZ44gQge6T",
                  "target": "2UMN_OQKrAshZl3dHPuiii"
                },
                {
                  "attributes": {
                    "relation": "SURROUNDS"
                  },
                  "source": "2dcjqNU0z9dgXZ44gQge6T",
                  "target": "1fIVuvFffDJRV_SJESOtCZ"
                },
                {
                  "attributes": {
                    "relation": "SURROUNDS"
                  },
                  "source": "2dcjqNU0z9dgXZ44gQge6T",
                  "target": "2UMN_OQKrAshZl3dHPuirV"
                },
                {
                  "attributes": {
                    "relation": "SURROUNDS"
                  },
                  "source": "2dcjqNU0z9dgXZ44gQge6T",
                  "target": "2UMN_OQKrAshZl3dHPuiiF"
                },
                {
                  "attributes": {
                    "relation": "SURROUNDS"
                  },
                  "source": "2dcjqNU0z9dgXZ44gQge6R",
                  "target": "2UMN_OQKrAshZl3dHPui5B"
                },
                {
                  "attributes": {
                    "relation": "SURROUNDS"
                  },
                  "source": "2dcjqNU0z9dgXZ44gQge6R",
                  "target": "2UMN_OQKrAshZl3dHPuigF"
                },
                {
                  "attributes": {
                    "relation": "SURROUNDS"
                  },
                  "source": "2dcjqNU0z9dgXZ44gQge6R",
                  "target": "1fIVuvFffDJRV_SJESOtCZ"
                },
                {
                  "attributes": {
                    "relation": "SURROUNDS"
                  },
                  "source": "2dcjqNU0z9dgXZ44gQge6R",
                  "target": "2UMN_OQKrAshZl3dHPuigb"
                },
                {
                  "attributes": {
                    "relation": "SURROUNDS"
                  },
                  "source": "2dcjqNU0z9dgXZ44gQge6R",
                  "target": "2UMN_OQKrAshZl3dHPuihB"
                },
                {
                  "attributes": {
                    "relation": "SURROUNDS"
                  },
                  "source": "2dcjqNU0z9dgXZ44gQge6R",
                  "target": "2UMN_OQKrAshZl3dHPuiwF"
                },
                {
                  "attributes": {
                    "relation": "SURROUNDS"
                  },
                  "source": "2dcjqNU0z9dgXZ44gQge6P",
                  "target": "1fIVuvFffDJRV_SJESOtDf"
                },
                {
                  "attributes": {
                    "relation": "SURROUNDS"
                  },
                  "source": "2dcjqNU0z9dgXZ44gQge6P",
                  "target": "2UMN_OQKrAshZl3dHPuiii"
                },
                {
                  "attributes": {
                    "relation": "SURROUNDS"
                  },
                  "source": "2dcjqNU0z9dgXZ44gQge6P",
                  "target": "2UMN_OQKrAshZl3dHPuiuq"
                },
                {
                  "attributes": {
                    "relation": "SURROUNDS"
                  },
                  "source": "2dcjqNU0z9dgXZ44gQge6P",
                  "target": "2UMN_OQKrAshZl3dHPuiW_"
                },
                {
                  "attributes": {
                    "relation": "SURROUNDS"
                  },
                  "source": "2dcjqNU0z9dgXZ44gQge6P",
                  "target": "2UMN_OQKrAshZl3dHPuiiF"
                },
                {
                  "attributes": {
                    "relation": "SURROUNDS"
                  },
                  "source": "2dcjqNU0z9dgXZ44gQge6P",
                  "target": "0H1nVTTAv6LhM6_nm3wfaE"
                },
                {
                  "attributes": {
                    "relation": "SURROUNDS"
                  },
                  "source": "2dcjqNU0z9dgXZ44gQge6P",
                  "target": "0H1nVTTAv6LhM6_nm3wfdT"
                },
                {
                  "attributes": {
                    "relation": "SURROUNDS"
                  },
                  "source": "2dcjqNU0z9dgXZ44gQge6P",
                  "target": "1fIVuvFffDJRV_SJESOtCZ"
                },
                {
                  "attributes": {
                    "relation": "SURROUNDS"
                  },
                  "source": "2dcjqNU0z9dgXZ44gQge6N",
                  "target": "1fIVuvFffDJRV_SJESOtCZ"
                },
                {
                  "attributes": {
                    "relation": "SURROUNDS"
                  },
                  "source": "2dcjqNU0z9dgXZ44gQge6N",
                  "target": "1fIVuvFffDJRV_SJESOtDf"
                },
                {
                  "attributes": {
                    "relation": "SURROUNDS"
                  },
                  "source": "2dcjqNU0z9dgXZ44gQge6N",
                  "target": "2UMN_OQKrAshZl3dHPuiii"
                },
                {
                  "attributes": {
                    "relation": "SURROUNDS"
                  },
                  "source": "2dcjqNU0z9dgXZ44gQge6N",
                  "target": "2UMN_OQKrAshZl3dHPuiuq"
                },
                {
                  "attributes": {
                    "relation": "SURROUNDS"
                  },
                  "source": "2dcjqNU0z9dgXZ44gQge6N",
                  "target": "0H1nVTTAv6LhM6_nm3wfdZ"
                },
                {
                  "attributes": {
                    "relation": "SURROUNDS"
                  },
                  "source": "2dcjqNU0z9dgXZ44gQge6N",
                  "target": "0H1nVTTAv6LhM6_nm3wfc$"
                },
                {
                  "attributes": {
                    "relation": "SURROUNDS"
                  },
                  "source": "2dcjqNU0z9dgXZ44gQge6N",
                  "target": "0H1nVTTAv6LhM6_nm3wff9"
                },
                {
                  "attributes": {
                    "relation": "SURROUNDS"
                  },
                  "source": "2dcjqNU0z9dgXZ44gQge6N",
                  "target": "3wh27gpDH7bg434tPIc79q"
                },
                {
                  "attributes": {
                    "relation": "SURROUNDS"
                  },
                  "source": "2dcjqNU0z9dgXZ44gQge6N",
                  "target": "2UMN_OQKrAshZl3dHPuiYc"
                },
                {
                  "attributes": {
                    "relation": "SURROUNDS"
                  },
                  "source": "2dcjqNU0z9dgXZ44gQge6N",
                  "target": "2UMN_OQKrAshZl3dHPuimM"
                },
                {
                  "attributes": {
                    "relation": "SURROUNDS"
                  },
                  "source": "2dcjqNU0z9dgXZ44gQge6N",
                  "target": "2UMN_OQKrAshZl3dHPuiy6"
                },
                {
                  "attributes": {
                    "relation": "SURROUNDS"
                  },
                  "source": "2dcjqNU0z9dgXZ44gQge6L",
                  "target": "1fIVuvFffDJRV_SJESOtDf"
                },
                {
                  "attributes": {
                    "relation": "SURROUNDS"
                  },
                  "source": "2dcjqNU0z9dgXZ44gQge6L",
                  "target": "2UMN_OQKrAshZl3dHPuiYc"
                },
                {
                  "attributes": {
                    "relation": "SURROUNDS"
                  },
                  "source": "2dcjqNU0z9dgXZ44gQge6L",
                  "target": "0H1nVTTAv6LhM6_nm3wffh"
                },
                {
                  "attributes": {
                    "relation": "SURROUNDS"
                  },
                  "source": "2dcjqNU0z9dgXZ44gQge6L",
                  "target": "1fIVuvFffDJRV_SJESOtCZ"
                },
                {
                  "attributes": {
                    "relation": "SURROUNDS"
                  },
                  "source": "2dcjqNU0z9dgXZ44gQge6L",
                  "target": "2UMN_OQKrAshZl3dHPuiZQ"
                },
                {
                  "attributes": {
                    "relation": "SURROUNDS"
                  },
                  "source": "2dcjqNU0z9dgXZ44gQge6L",
                  "target": "2UMN_OQKrAshZl3dHPujxx"
                },
                {
                  "attributes": {
                    "relation": "SURROUNDS"
                  },
                  "source": "2dcjqNU0z9dgXZ44gQge6L",
                  "target": "2UMN_OQKrAshZl3dHPuip0"
                },
                {
                  "attributes": {
                    "relation": "SURROUNDS"
                  },
                  "source": "2dcjqNU0z9dgXZ44gQge66",
                  "target": "1fIVuvFffDJRV_SJESOtDf"
                },
                {
                  "attributes": {
                    "relation": "SURROUNDS"
                  },
                  "source": "2dcjqNU0z9dgXZ44gQge66",
                  "target": "2Tt7$hRrHBKvoaUIFPAzcA"
                },
                {
                  "attributes": {
                    "relation": "SURROUNDS"
                  },
                  "source": "2dcjqNU0z9dgXZ44gQge66",
                  "target": "2UMN_OQKrAshZl3dHPujxx"
                },
                {
                  "attributes": {
                    "relation": "SURROUNDS"
                  },
                  "source": "2dcjqNU0z9dgXZ44gQge66",
                  "target": "2UMN_OQKrAshZl3dHPuiZQ"
                },
                {
                  "attributes": {
                    "relation": "SURROUNDS"
                  },
                  "source": "2dcjqNU0z9dgXZ44gQge66",
                  "target": "0H1nVTTAv6LhM6_nm3wfeD"
                },
                {
                  "attributes": {
                    "relation": "SURROUNDS"
                  },
                  "source": "2dcjqNU0z9dgXZ44gQge66",
                  "target": "0H1nVTTAv6LhM6_nm3wfeX"
                },
                {
                  "attributes": {
                    "relation": "SURROUNDS"
                  },
                  "source": "2dcjqNU0z9dgXZ44gQge66",
                  "target": "0H1nVTTAv6LhM6_nm3wfhF"
                },
                {
                  "attributes": {
                    "relation": "SURROUNDS"
                  },
                  "source": "2dcjqNU0z9dgXZ44gQge66",
                  "target": "1fIVuvFffDJRV_SJESOtCZ"
                },
                {
                  "attributes": {
                    "relation": "SURROUNDS"
                  },
                  "source": "2dcjqNU0z9dgXZ44gQge66",
                  "target": "2UMN_OQKrAshZl3dHPuim7"
                },
                {
                  "attributes": {
                    "relation": "SURROUNDS"
                  },
                  "source": "2dcjqNU0z9dgXZ44gQge64",
                  "target": "2UMN_OQKrAshZl3dHPujxw"
                },
                {
                  "attributes": {
                    "relation": "SURROUNDS"
                  },
                  "source": "2dcjqNU0z9dgXZ44gQge64",
                  "target": "2UMN_OQKrAshZl3dHPujxx"
                },
                {
                  "attributes": {
                    "relation": "SURROUNDS"
                  },
                  "source": "2dcjqNU0z9dgXZ44gQge64",
                  "target": "2UMN_OQKrAshZl3dHPujxu"
                },
                {
                  "attributes": {
                    "relation": "SURROUNDS"
                  },
                  "source": "2dcjqNU0z9dgXZ44gQge64",
                  "target": "2UMN_OQKrAshZl3dHPujxW"
                },
                {
                  "attributes": {
                    "relation": "SURROUNDS"
                  },
                  "source": "2dcjqNU0z9dgXZ44gQge64",
                  "target": "2UMN_OQKrAshZl3dHPujxy"
                },
                {
                  "attributes": {
                    "relation": "SURROUNDS"
                  },
                  "source": "2dcjqNU0z9dgXZ44gQge64",
                  "target": "1fIVuvFffDJRV_SJESOtCZ"
                },
                {
                  "attributes": {
                    "relation": "SURROUNDS"
                  },
                  "source": "2dcjqNU0z9dgXZ44gQge62",
                  "target": "2Tt7$hRrHBKvoaUIFPAzcA"
                },
                {
                  "attributes": {
                    "relation": "SURROUNDS"
                  },
                  "source": "2dcjqNU0z9dgXZ44gQge62",
                  "target": "2UbFLyEvP7xerhn6sJH67p"
                },
                {
                  "attributes": {
                    "relation": "SURROUNDS"
                  },
                  "source": "2dcjqNU0z9dgXZ44gQge62",
                  "target": "3n9ek_acHEfRCBQHch6_Wb"
                },
                {
                  "attributes": {
                    "relation": "SURROUNDS"
                  },
                  "source": "2dcjqNU0z9dgXZ44gQge62",
                  "target": "1fIVuvFffDJRV_SJESOtCZ"
                },
                {
                  "attributes": {
                    "relation": "SURROUNDS"
                  },
                  "source": "2dcjqNU0z9dgXZ44gQge60",
                  "target": "1fIVuvFffDJRV_SJESOtCZ"
                },
                {
                  "attributes": {
                    "relation": "SURROUNDS"
                  },
                  "source": "2dcjqNU0z9dgXZ44gQge60",
                  "target": "2UMN_OQKrAshZl3dHPui5h"
                },
                {
                  "attributes": {
                    "relation": "SURROUNDS"
                  },
                  "source": "2dcjqNU0z9dgXZ44gQge60",
                  "target": "2UMN_OQKrAshZl3dHPui5B"
                },
                {
                  "attributes": {
                    "relation": "SURROUNDS"
                  },
                  "source": "2dcjqNU0z9dgXZ44gQge60",
                  "target": "2Tt7$hRrHBKvoaUIFPAzmj"
                },
                {
                  "attributes": {
                    "relation": "SURROUNDS"
                  },
                  "source": "2dcjqNU0z9dgXZ44gQge60",
                  "target": "2UMN_OQKrAshZl3dHPuigF"
                },
                {
                  "attributes": {
                    "relation": "SURROUNDS"
                  },
                  "source": "2dcjqNU0z9dgXZ44gQge60",
                  "target": "2UMN_OQKrAshZl3dHPui_G"
                },
                {
                  "attributes": {
                    "relation": "SURROUNDS"
                  },
                  "source": "2dcjqNU0z9dgXZ44gQge60",
                  "target": "2Tt7$hRrHBKvoaUIFPAzaq"
                },
                {
                  "attributes": {
                    "relation": "SURROUNDS"
                  },
                  "source": "2dcjqNU0z9dgXZ44gQge60",
                  "target": "2UMN_OQKrAshZl3dHPujxw"
                },
                {
                  "attributes": {
                    "relation": "SURROUNDS"
                  },
                  "source": "2dcjqNU0z9dgXZ44gQge60",
                  "target": "2UMN_OQKrAshZl3dHPujxu"
                },
                {
                  "attributes": {
                    "relation": "SURROUNDS"
                  },
                  "source": "2dcjqNU0z9dgXZ44gQge60",
                  "target": "2UMN_OQKrAshZl3dHPujxW"
                },
                {
                  "attributes": {
                    "relation": "SURROUNDS"
                  },
                  "source": "2dcjqNU0z9dgXZ44gQge60",
                  "target": "2UMN_OQKrAshZl3dHPujVp"
                },
                {
                  "attributes": {
                    "relation": "SURROUNDS"
                  },
                  "source": "2dcjqNU0z9dgXZ44gQge60",
                  "target": "2UMN_OQKrAshZl3dHPui7N"
                },
                {
                  "attributes": {
                    "relation": "SURROUNDS"
                  },
                  "source": "2dcjqNU0z9dgXZ44gQge60",
                  "target": "2UMN_OQKrAshZl3dHPuikh"
                },
                {
                  "attributes": {
                    "relation": "SURROUNDS"
                  },
                  "source": "2dcjqNU0z9dgXZ44gQge60",
                  "target": "2UMN_OQKrAshZl3dHPuivY"
                },
                {
                  "attributes": {
                    "relation": "SURROUNDS"
                  },
                  "source": "2dcjqNU0z9dgXZ44gQge60",
                  "target": "2UMN_OQKrAshZl3dHPuigb"
                },
                {
                  "attributes": {
                    "relation": "SURROUNDS"
                  },
                  "source": "2dcjqNU0z9dgXZ44gQge60",
                  "target": "2UMN_OQKrAshZl3dHPuihB"
                },
                {
                  "attributes": {
                    "relation": "SURROUNDS"
                  },
                  "source": "2dcjqNU0z9dgXZ44gQge60",
                  "target": "2UMN_OQKrAshZl3dHPuiwF"
                },
                {
                  "attributes": {
                    "relation": "SURROUNDS"
                  },
                  "source": "2dcjqNU0z9dgXZ44gQge60",
                  "target": "2UMN_OQKrAshZl3dHPuiYc"
                },
                {
                  "attributes": {
                    "relation": "SURROUNDS"
                  },
                  "source": "2dcjqNU0z9dgXZ44gQge60",
                  "target": "2UMN_OQKrAshZl3dHPuiii"
                },
                {
                  "attributes": {
                    "relation": "SURROUNDS"
                  },
                  "source": "2dcjqNU0z9dgXZ44gQge60",
                  "target": "2UMN_OQKrAshZl3dHPuimM"
                },
                {
                  "attributes": {
                    "relation": "SURROUNDS"
                  },
                  "source": "2dcjqNU0z9dgXZ44gQge60",
                  "target": "2UMN_OQKrAshZl3dHPuiy6"
                },
                {
                  "attributes": {
                    "relation": "SURROUNDS"
                  },
                  "source": "2dcjqNU0z9dgXZ44gQge60",
                  "target": "2UMN_OQKrAshZl3dHPujxx"
                },
                {
                  "attributes": {
                    "relation": "SURROUNDS"
                  },
                  "source": "2dcjqNU0z9dgXZ44gQge60",
                  "target": "2UMN_OQKrAshZl3dHPuip0"
                },
                {
                  "attributes": {
                    "relation": "SURROUNDS"
                  },
                  "source": "2dcjqNU0z9dgXZ44gQge60",
                  "target": "2UMN_OQKrAshZl3dHPuim7"
                },
                {
                  "attributes": {
                    "relation": "SURROUNDS"
                  },
                  "source": "2dcjqNU0z9dgXZ44gQge60",
                  "target": "2Tt7$hRrHBKvoaUIFPAzcA"
                },
                {
                  "attributes": {
                    "relation": "SURROUNDS"
                  },
                  "source": "2dcjqNU0z9dgXZ44gQge60",
                  "target": "2UbFLyEvP7xerhn6sJH67p"
                },
                {
                  "attributes": {
                    "relation": "SURROUNDS"
                  },
                  "source": "2dcjqNU0z9dgXZ44gQge60",
                  "target": "2UMN_OQKrAshZl3dHPuic8"
                },
                {
                  "attributes": {
                    "relation": "SURROUNDS"
                  },
                  "source": "2dcjqNU0z9dgXZ44gQgexL",
                  "target": "2UMN_OQKrAshZl3dHPukEN"
                },
                {
                  "attributes": {
                    "relation": "SURROUNDS"
                  },
                  "source": "2dcjqNU0z9dgXZ44gQgexL",
                  "target": "2UMN_OQKrAshZl3dHPuj4w"
                },
                {
                  "attributes": {
                    "relation": "SURROUNDS"
                  },
                  "source": "2dcjqNU0z9dgXZ44gQgexL",
                  "target": "2UMN_OQKrAshZl3dHPuj9v"
                },
                {
                  "attributes": {
                    "relation": "SURROUNDS"
                  },
                  "source": "2dcjqNU0z9dgXZ44gQgexL",
                  "target": "2UMN_OQKrAshZl3dHPujAr"
                },
                {
                  "attributes": {
                    "relation": "SURROUNDS"
                  },
                  "source": "2dcjqNU0z9dgXZ44gQgexL",
                  "target": "2UMN_OQKrAshZl3dHPujA7"
                },
                {
                  "attributes": {
                    "relation": "SURROUNDS"
                  },
                  "source": "2dcjqNU0z9dgXZ44gQgexL",
                  "target": "2UMN_OQKrAshZl3dHPujBN"
                },
                {
                  "attributes": {
                    "relation": "SURROUNDS"
                  },
                  "source": "2dcjqNU0z9dgXZ44gQgexL",
                  "target": "2UMN_OQKrAshZl3dHPujKb"
                },
                {
                  "attributes": {
                    "relation": "SURROUNDS"
                  },
                  "source": "2dcjqNU0z9dgXZ44gQgexL",
                  "target": "2UMN_OQKrAshZl3dHPujLJ"
                },
                {
                  "attributes": {
                    "relation": "SURROUNDS"
                  },
                  "source": "2dcjqNU0z9dgXZ44gQgexL",
                  "target": "1fIVuvFffDJRV_SJESOtDs"
                },
                {
                  "attributes": {
                    "relation": "SURROUNDS"
                  },
                  "source": "2dcjqNU0z9dgXZ44gQgexL",
                  "target": "2UMN_OQKrAshZl3dHPujxD"
                },
                {
                  "attributes": {
                    "relation": "SURROUNDS"
                  },
                  "source": "2dcjqNU0z9dgXZ44gQgexL",
                  "target": "2UMN_OQKrAshZl3dHPujxE"
                },
                {
                  "attributes": {
                    "relation": "SURROUNDS"
                  },
                  "source": "2dcjqNU0z9dgXZ44gQgexL",
                  "target": "2UMN_OQKrAshZl3dHPujxF"
                },
                {
                  "attributes": {
                    "relation": "SURROUNDS"
                  },
                  "source": "2dcjqNU0z9dgXZ44gQgexL",
                  "target": "2UMN_OQKrAshZl3dHPuj4p"
                },
                {
                  "attributes": {
                    "relation": "SURROUNDS"
                  },
                  "source": "2dcjqNU0z9dgXZ44gQgexL",
                  "target": "2UMN_OQKrAshZl3dHPuj4q"
                },
                {
                  "attributes": {
                    "relation": "SURROUNDS"
                  },
                  "source": "2dcjqNU0z9dgXZ44gQgexL",
                  "target": "2UMN_OQKrAshZl3dHPuj4r"
                },
                {
                  "attributes": {
                    "relation": "SURROUNDS"
                  },
                  "source": "2dcjqNU0z9dgXZ44gQgexL",
                  "target": "2UMN_OQKrAshZl3dHPuj4s"
                },
                {
                  "attributes": {
                    "relation": "SURROUNDS"
                  },
                  "source": "2dcjqNU0z9dgXZ44gQgexL",
                  "target": "2UMN_OQKrAshZl3dHPuj4v"
                },
                {
                  "attributes": {
                    "relation": "SURROUNDS"
                  },
                  "source": "2dcjqNU0z9dgXZ44gQgexL",
                  "target": "2UMN_OQKrAshZl3dHPujMb"
                },
                {
                  "attributes": {
                    "relation": "SURROUNDS"
                  },
                  "source": "2dcjqNU0z9dgXZ44gQgexL",
                  "target": "2UMN_OQKrAshZl3dHPujNb"
                },
                {
                  "attributes": {
                    "relation": "SURROUNDS"
                  },
                  "source": "2dcjqNU0z9dgXZ44gQgexL",
                  "target": "1fIVuvFffDJRV_SJESOtCZ"
                },
                {
                  "attributes": {
                    "relation": "SURROUNDS"
                  },
                  "source": "3Yc17Oys91HBxqG5CiJ1_p",
                  "target": "1fIVuvFffDJRV_SJESOtDs"
                },
                {
                  "attributes": {
                    "relation": "SURROUNDS"
                  },
                  "source": "3Yc17Oys91HBxqG5CiJ1_p",
                  "target": "2UMN_OQKrAshZl3dHPukEN"
                },
                {
                  "attributes": {
                    "relation": "SURROUNDS"
                  },
                  "source": "3Yc17Oys91HBxqG5CiJ1_p",
                  "target": "3n9ek_acHEfRCBQHch6_iT"
                },
                {
                  "attributes": {
                    "relation": "SURROUNDS"
                  },
                  "source": "3Yc17Oys91HBxqG5CiJ1_p",
                  "target": "1fIVuvFffDJRV_SJESOtCD"
                },
                {
                  "attributes": {
                    "relation": "SURROUNDS"
                  },
                  "source": "3Yc17Oys91HBxqG5CiJ1_r",
                  "target": "2UMN_OQKrAshZl3dHPukEN"
                },
                {
                  "attributes": {
                    "relation": "SURROUNDS"
                  },
                  "source": "3Yc17Oys91HBxqG5CiJ1_r",
                  "target": "1fIVuvFffDJRV_SJESOtCD"
                },
                {
                  "attributes": {
                    "relation": "SURROUNDS"
                  },
                  "source": "3Yc17Oys91HBxqG5CiJ1_r",
                  "target": "2UMN_OQKrAshZl3dHPuj6a"
                },
                {
                  "attributes": {
                    "relation": "SURROUNDS"
                  },
                  "source": "3Yc17Oys91HBxqG5CiJ1_r",
                  "target": "2UMN_OQKrAshZl3dHPuZch"
                },
                {
                  "attributes": {
                    "relation": "SURROUNDS"
                  },
                  "source": "3Yc17Oys91HBxqG5CiJ1_r",
                  "target": "2UMN_OQKrAshZl3dHPuj2u"
                },
                {
                  "attributes": {
                    "relation": "SURROUNDS"
                  },
                  "source": "3Yc17Oys91HBxqG5CiJ1_r",
                  "target": "2UMN_OQKrAshZl3dHPuZbj"
                },
                {
                  "attributes": {
                    "relation": "SURROUNDS"
                  },
                  "source": "3Yc17Oys91HBxqG5CiJ1_h",
                  "target": "2UMN_OQKrAshZl3dHPuj2u"
                },
                {
                  "attributes": {
                    "relation": "SURROUNDS"
                  },
                  "source": "3Yc17Oys91HBxqG5CiJ1_h",
                  "target": "2UMN_OQKrAshZl3dHPuZbj"
                },
                {
                  "attributes": {
                    "relation": "SURROUNDS"
                  },
                  "source": "3Yc17Oys91HBxqG5CiJ1_h",
                  "target": "1fIVuvFffDJRV_SJESOtCD"
                },
                {
                  "attributes": {
                    "relation": "SURROUNDS"
                  },
                  "source": "3Yc17Oys91HBxqG5CiJ1_h",
                  "target": "2UMN_OQKrAshZl3dHPuj6a"
                },
                {
                  "attributes": {
                    "relation": "SURROUNDS"
                  },
                  "source": "3Yc17Oys91HBxqG5CiJ1_h",
                  "target": "2UMN_OQKrAshZl3dHPuiR1"
                },
                {
                  "attributes": {
                    "relation": "SURROUNDS"
                  },
                  "source": "3Yc17Oys91HBxqG5CiJ1_h",
                  "target": "2UMN_OQKrAshZl3dHPuZah"
                },
                {
                  "attributes": {
                    "relation": "SURROUNDS"
                  },
                  "source": "3Yc17Oys91HBxqG5CiJ1_h",
                  "target": "2UMN_OQKrAshZl3dHPuiUy"
                },
                {
                  "attributes": {
                    "relation": "SURROUNDS"
                  },
                  "source": "1wJoqPkIP4J8fINgm5A1pR",
                  "target": "2UMN_OQKrAshZl3dHPuiUy"
                },
                {
                  "attributes": {
                    "relation": "SURROUNDS"
                  },
                  "source": "1wJoqPkIP4J8fINgm5A1pR",
                  "target": "1fIVuvFffDJRV_SJESOtCD"
                },
                {
                  "attributes": {
                    "relation": "SURROUNDS"
                  },
                  "source": "1wJoqPkIP4J8fINgm5A1pR",
                  "target": "2UMN_OQKrAshZl3dHPuj6a"
                },
                {
                  "attributes": {
                    "relation": "SURROUNDS"
                  },
                  "source": "1wJoqPkIP4J8fINgm5A1pR",
                  "target": "2UMN_OQKrAshZl3dHPuiQN"
                },
                {
                  "attributes": {
                    "relation": "SURROUNDS"
                  },
                  "source": "1wJoqPkIP4J8fINgm5A1pR",
                  "target": "2UMN_OQKrAshZl3dHPuiR$"
                },
                {
                  "attributes": {
                    "relation": "SURROUNDS"
                  },
                  "source": "1wJoqPkIP4J8fINgm5A1pR",
                  "target": "2UMN_OQKrAshZl3dHPuiUL"
                },
                {
                  "attributes": {
                    "relation": "SURROUNDS"
                  },
                  "source": "1wJoqPkIP4J8fINgm5A1pF",
                  "target": "2UMN_OQKrAshZl3dHPuiUL"
                },
                {
                  "attributes": {
                    "relation": "SURROUNDS"
                  },
                  "source": "1wJoqPkIP4J8fINgm5A1pF",
                  "target": "1fIVuvFffDJRV_SJESOtCD"
                },
                {
                  "attributes": {
                    "relation": "SURROUNDS"
                  },
                  "source": "1wJoqPkIP4J8fINgm5A1pF",
                  "target": "2UMN_OQKrAshZl3dHPuj6a"
                },
                {
                  "attributes": {
                    "relation": "SURROUNDS"
                  },
                  "source": "1wJoqPkIP4J8fINgm5A1pF",
                  "target": "2UMN_OQKrAshZl3dHPuiO5"
                },
                {
                  "attributes": {
                    "relation": "SURROUNDS"
                  },
                  "source": "1wJoqPkIP4J8fINgm5A1pF",
                  "target": "2UMN_OQKrAshZl3dHPuiP9"
                },
                {
                  "attributes": {
                    "relation": "SURROUNDS"
                  },
                  "source": "1wJoqPkIP4J8fINgm5A1pF",
                  "target": "2UMN_OQKrAshZl3dHPuiVr"
                },
                {
                  "attributes": {
                    "relation": "SURROUNDS"
                  },
                  "source": "1wJoqPkIP4J8fINgm5A1pD",
                  "target": "2UMN_OQKrAshZl3dHPuiVr"
                },
                {
                  "attributes": {
                    "relation": "SURROUNDS"
                  },
                  "source": "1wJoqPkIP4J8fINgm5A1pD",
                  "target": "3wh27gpDH7bg434tPIc78y"
                },
                {
                  "attributes": {
                    "relation": "SURROUNDS"
                  },
                  "source": "1wJoqPkIP4J8fINgm5A1pD",
                  "target": "3wh27gpDH7bg434tPIc78z"
                },
                {
                  "attributes": {
                    "relation": "SURROUNDS"
                  },
                  "source": "1wJoqPkIP4J8fINgm5A1pD",
                  "target": "1fIVuvFffDJRV_SJESOtCD"
                },
                {
                  "attributes": {
                    "relation": "SURROUNDS"
                  },
                  "source": "1wJoqPkIP4J8fINgm5A1pD",
                  "target": "2UMN_OQKrAshZl3dHPuj6u"
                },
                {
                  "attributes": {
                    "relation": "SURROUNDS"
                  },
                  "source": "1wJoqPkIP4J8fINgm5A1pD",
                  "target": "2UMN_OQKrAshZl3dHPuj6a"
                },
                {
                  "attributes": {
                    "relation": "SURROUNDS"
                  },
                  "source": "1wJoqPkIP4J8fINgm5A1pD",
                  "target": "2UMN_OQKrAshZl3dHPuiOp"
                },
                {
                  "attributes": {
                    "relation": "SURROUNDS"
                  },
                  "source": "1wJoqPkIP4J8fINgm5A1pp",
                  "target": "2UMN_OQKrAshZl3dHPuj6u"
                },
                {
                  "attributes": {
                    "relation": "SURROUNDS"
                  },
                  "source": "1wJoqPkIP4J8fINgm5A1pp",
                  "target": "2UMN_OQKrAshZl3dHPulJq"
                },
                {
                  "attributes": {
                    "relation": "SURROUNDS"
                  },
                  "source": "1wJoqPkIP4J8fINgm5A1pp",
                  "target": "1fIVuvFffDJRV_SJESOtCD"
                },
                {
                  "attributes": {
                    "relation": "SURROUNDS"
                  },
                  "source": "1wJoqPkIP4J8fINgm5A1pp",
                  "target": "2UMN_OQKrAshZl3dHPuj6v"
                },
                {
                  "attributes": {
                    "relation": "SURROUNDS"
                  },
                  "source": "1wJoqPkIP4J8fINgm5A1pp",
                  "target": "2UMN_OQKrAshZl3dHPuj6_"
                },
                {
                  "attributes": {
                    "relation": "SURROUNDS"
                  },
                  "source": "1wJoqPkIP4J8fINgm5A1pp",
                  "target": "2UMN_OQKrAshZl3dHPuj6Y"
                },
                {
                  "attributes": {
                    "relation": "SURROUNDS"
                  },
                  "source": "1wJoqPkIP4J8fINgm5A1pn",
                  "target": "2UMN_OQKrAshZl3dHPulJq"
                },
                {
                  "attributes": {
                    "relation": "SURROUNDS"
                  },
                  "source": "1wJoqPkIP4J8fINgm5A1pn",
                  "target": "1fIVuvFffDJRV_SJESOtCD"
                },
                {
                  "attributes": {
                    "relation": "SURROUNDS"
                  },
                  "source": "1wJoqPkIP4J8fINgm5A1pn",
                  "target": "2UMN_OQKrAshZl3dHPuj6v"
                },
                {
                  "attributes": {
                    "relation": "SURROUNDS"
                  },
                  "source": "1wJoqPkIP4J8fINgm5A1pn",
                  "target": "2UMN_OQKrAshZl3dHPuj6z"
                },
                {
                  "attributes": {
                    "relation": "SURROUNDS"
                  },
                  "source": "1wJoqPkIP4J8fINgm5A1pn",
                  "target": "2UMN_OQKrAshZl3dHPuj6X"
                },
                {
                  "attributes": {
                    "relation": "SURROUNDS"
                  },
                  "source": "1wJoqPkIP4J8fINgm5A1pn",
                  "target": "2UMN_OQKrAshZl3dHPuj6t"
                },
                {
                  "attributes": {
                    "relation": "SURROUNDS"
                  },
                  "source": "1wJoqPkIP4J8fINgm5A1pt",
                  "target": "2UMN_OQKrAshZl3dHPuj6t"
                },
                {
                  "attributes": {
                    "relation": "SURROUNDS"
                  },
                  "source": "1wJoqPkIP4J8fINgm5A1pt",
                  "target": "2UMN_OQKrAshZl3dHPulJq"
                },
                {
                  "attributes": {
                    "relation": "SURROUNDS"
                  },
                  "source": "1wJoqPkIP4J8fINgm5A1pt",
                  "target": "1fIVuvFffDJRV_SJESOtCD"
                },
                {
                  "attributes": {
                    "relation": "SURROUNDS"
                  },
                  "source": "1wJoqPkIP4J8fINgm5A1pt",
                  "target": "2UMN_OQKrAshZl3dHPuj6s"
                },
                {
                  "attributes": {
                    "relation": "SURROUNDS"
                  },
                  "source": "1wJoqPkIP4J8fINgm5A1pt",
                  "target": "2UMN_OQKrAshZl3dHPuj6v"
                },
                {
                  "attributes": {
                    "relation": "SURROUNDS"
                  },
                  "source": "1wJoqPkIP4J8fINgm5A1pt",
                  "target": "2UMN_OQKrAshZl3dHPulOJ"
                },
                {
                  "attributes": {
                    "relation": "SURROUNDS"
                  },
                  "source": "1wJoqPkIP4J8fINgm5A1pt",
                  "target": "2UMN_OQKrAshZl3dHPuj5Z"
                },
                {
                  "attributes": {
                    "relation": "SURROUNDS"
                  },
                  "source": "1wJoqPkIP4J8fINgm5A1pt",
                  "target": "2UMN_OQKrAshZl3dHPuj6w"
                },
                {
                  "attributes": {
                    "relation": "SURROUNDS"
                  },
                  "source": "1wJoqPkIP4J8fINgm5A1pr",
                  "target": "2UMN_OQKrAshZl3dHPuj6s"
                },
                {
                  "attributes": {
                    "relation": "SURROUNDS"
                  },
                  "source": "1wJoqPkIP4J8fINgm5A1pr",
                  "target": "2UMN_OQKrAshZl3dHPuj6v"
                },
                {
                  "attributes": {
                    "relation": "SURROUNDS"
                  },
                  "source": "1wJoqPkIP4J8fINgm5A1pr",
                  "target": "1fIVuvFffDJRV_SJESOtCD"
                },
                {
                  "attributes": {
                    "relation": "SURROUNDS"
                  },
                  "source": "1wJoqPkIP4J8fINgm5A1pr",
                  "target": "2UMN_OQKrAshZl3dHPuj5Z"
                },
                {
                  "attributes": {
                    "relation": "SURROUNDS"
                  },
                  "source": "1wJoqPkIP4J8fINgm5A1pr",
                  "target": "2UMN_OQKrAshZl3dHPuj6t"
                },
                {
                  "attributes": {
                    "relation": "SURROUNDS"
                  },
                  "source": "1wJoqPkIP4J8fINgm5A1pr",
                  "target": "2UMN_OQKrAshZl3dHPuj6x"
                },
                {
                  "attributes": {
                    "relation": "SURROUNDS"
                  },
                  "source": "1wJoqPkIP4J8fINgm5A1pZ",
                  "target": "2UMN_OQKrAshZl3dHPulOJ"
                },
                {
                  "attributes": {
                    "relation": "SURROUNDS"
                  },
                  "source": "1wJoqPkIP4J8fINgm5A1pZ",
                  "target": "2UMN_OQKrAshZl3dHPulJq"
                },
                {
                  "attributes": {
                    "relation": "SURROUNDS"
                  },
                  "source": "1wJoqPkIP4J8fINgm5A1pZ",
                  "target": "1fIVuvFffDJRV_SJESOtCD"
                },
                {
                  "attributes": {
                    "relation": "SURROUNDS"
                  },
                  "source": "1wJoqPkIP4J8fINgm5A1pZ",
                  "target": "2UMN_OQKrAshZl3dHPulHz"
                },
                {
                  "attributes": {
                    "relation": "SURROUNDS"
                  },
                  "source": "1wJoqPkIP4J8fINgm5A1pa",
                  "target": "2UMN_OQKrAshZl3dHPulHz"
                },
                {
                  "attributes": {
                    "relation": "SURROUNDS"
                  },
                  "source": "1wJoqPkIP4J8fINgm5A1pa",
                  "target": "1fIVuvFffDJRV_SJESOtCD"
                },
                {
                  "attributes": {
                    "relation": "SURROUNDS"
                  },
                  "source": "1wJoqPkIP4J8fINgm5A1pa",
                  "target": "2UMN_OQKrAshZl3dHPuZW0"
                },
                {
                  "attributes": {
                    "relation": "SURROUNDS"
                  },
                  "source": "1wJoqPkIP4J8fINgm5A1pa",
                  "target": "2UMN_OQKrAshZl3dHPuZrI"
                },
                {
                  "attributes": {
                    "relation": "SURROUNDS"
                  },
                  "source": "1wJoqPkIP4J8fINgm5A1pa",
                  "target": "2UMN_OQKrAshZl3dHPuj5V"
                },
                {
                  "attributes": {
                    "relation": "SURROUNDS"
                  },
                  "source": "1wJoqPkIP4J8fINgm5A1pa",
                  "target": "2UMN_OQKrAshZl3dHPuZq9"
                },
                {
                  "attributes": {
                    "relation": "SURROUNDS"
                  },
                  "source": "1wJoqPkIP4J8fINgm5A1pg",
                  "target": "2UMN_OQKrAshZl3dHPuZW0"
                },
                {
                  "attributes": {
                    "relation": "SURROUNDS"
                  },
                  "source": "1wJoqPkIP4J8fINgm5A1pg",
                  "target": "2UMN_OQKrAshZl3dHPuZrI"
                },
                {
                  "attributes": {
                    "relation": "SURROUNDS"
                  },
                  "source": "1wJoqPkIP4J8fINgm5A1pg",
                  "target": "1fIVuvFffDJRV_SJESOtCD"
                },
                {
                  "attributes": {
                    "relation": "SURROUNDS"
                  },
                  "source": "1wJoqPkIP4J8fINgm5A1pg",
                  "target": "2UMN_OQKrAshZl3dHPuZYN"
                },
                {
                  "attributes": {
                    "relation": "SURROUNDS"
                  },
                  "source": "1wJoqPkIP4J8fINgm5A1pg",
                  "target": "2UMN_OQKrAshZl3dHPuj5V"
                },
                {
                  "attributes": {
                    "relation": "SURROUNDS"
                  },
                  "source": "1wJoqPkIP4J8fINgm5A1pg",
                  "target": "2UMN_OQKrAshZl3dHPuZqr"
                },
                {
                  "attributes": {
                    "relation": "SURROUNDS"
                  },
                  "source": "1wJoqPkIP4J8fINgm5A1pe",
                  "target": "2UMN_OQKrAshZl3dHPuZYN"
                },
                {
                  "attributes": {
                    "relation": "SURROUNDS"
                  },
                  "source": "1wJoqPkIP4J8fINgm5A1pe",
                  "target": "1fIVuvFffDJRV_SJESOtCD"
                },
                {
                  "attributes": {
                    "relation": "SURROUNDS"
                  },
                  "source": "1wJoqPkIP4J8fINgm5A1pe",
                  "target": "2UMN_OQKrAshZl3dHPuZZ_"
                },
                {
                  "attributes": {
                    "relation": "SURROUNDS"
                  },
                  "source": "1wJoqPkIP4J8fINgm5A1pe",
                  "target": "2UMN_OQKrAshZl3dHPuj5V"
                },
                {
                  "attributes": {
                    "relation": "SURROUNDS"
                  },
                  "source": "1wJoqPkIP4J8fINgm5A1pe",
                  "target": "2UMN_OQKrAshZl3dHPuZgG"
                },
                {
                  "attributes": {
                    "relation": "SURROUNDS"
                  },
                  "source": "1wJoqPkIP4J8fINgm5A1pk",
                  "target": "2UMN_OQKrAshZl3dHPuZZ_"
                },
                {
                  "attributes": {
                    "relation": "SURROUNDS"
                  },
                  "source": "1wJoqPkIP4J8fINgm5A1pk",
                  "target": "2UMN_OQKrAshZl3dHPulmH"
                },
                {
                  "attributes": {
                    "relation": "SURROUNDS"
                  },
                  "source": "1wJoqPkIP4J8fINgm5A1pk",
                  "target": "1fIVuvFffDJRV_SJESOtCD"
                },
                {
                  "attributes": {
                    "relation": "SURROUNDS"
                  },
                  "source": "1wJoqPkIP4J8fINgm5A1pk",
                  "target": "2UMN_OQKrAshZl3dHPuZsd"
                },
                {
                  "attributes": {
                    "relation": "SURROUNDS"
                  },
                  "source": "1wJoqPkIP4J8fINgm5A1pk",
                  "target": "2UMN_OQKrAshZl3dHPuZZ9"
                },
                {
                  "attributes": {
                    "relation": "SURROUNDS"
                  },
                  "source": "1wJoqPkIP4J8fINgm5A1pk",
                  "target": "2UMN_OQKrAshZl3dHPuZtI"
                },
                {
                  "attributes": {
                    "relation": "SURROUNDS"
                  },
                  "source": "1wJoqPkIP4J8fINgm5A1pi",
                  "target": "2UMN_OQKrAshZl3dHPuZZ_"
                },
                {
                  "attributes": {
                    "relation": "SURROUNDS"
                  },
                  "source": "1wJoqPkIP4J8fINgm5A1pi",
                  "target": "2UMN_OQKrAshZl3dHPuZsd"
                },
                {
                  "attributes": {
                    "relation": "SURROUNDS"
                  },
                  "source": "1wJoqPkIP4J8fINgm5A1pi",
                  "target": "1fIVuvFffDJRV_SJESOtCD"
                },
                {
                  "attributes": {
                    "relation": "SURROUNDS"
                  },
                  "source": "1wJoqPkIP4J8fINgm5A1pi",
                  "target": "2UMN_OQKrAshZl3dHPuj5V"
                },
                {
                  "attributes": {
                    "relation": "SURROUNDS"
                  },
                  "source": "1wJoqPkIP4J8fINgm5A1pi",
                  "target": "2UMN_OQKrAshZl3dHPuZfo"
                },
                {
                  "attributes": {
                    "relation": "SURROUNDS"
                  },
                  "source": "1wJoqPkIP4J8fINgm5A1pi",
                  "target": "2UMN_OQKrAshZl3dHPuZZ9"
                },
                {
                  "attributes": {
                    "relation": "SURROUNDS"
                  },
                  "source": "1wJoqPkIP4J8fINgm5A1mL",
                  "target": "2UMN_OQKrAshZl3dHPulOJ"
                },
                {
                  "attributes": {
                    "relation": "SURROUNDS"
                  },
                  "source": "1wJoqPkIP4J8fINgm5A1mL",
                  "target": "2UMN_OQKrAshZl3dHPuj5Z"
                },
                {
                  "attributes": {
                    "relation": "SURROUNDS"
                  },
                  "source": "1wJoqPkIP4J8fINgm5A1mL",
                  "target": "2UMN_OQKrAshZl3dHPuj6w"
                },
                {
                  "attributes": {
                    "relation": "SURROUNDS"
                  },
                  "source": "1wJoqPkIP4J8fINgm5A1mL",
                  "target": "2UMN_OQKrAshZl3dHPuj6x"
                },
                {
                  "attributes": {
                    "relation": "SURROUNDS"
                  },
                  "source": "1wJoqPkIP4J8fINgm5A1mL",
                  "target": "2UMN_OQKrAshZl3dHPulHz"
                },
                {
                  "attributes": {
                    "relation": "SURROUNDS"
                  },
                  "source": "1wJoqPkIP4J8fINgm5A1mL",
                  "target": "2UMN_OQKrAshZl3dHPuj5V"
                },
                {
                  "attributes": {
                    "relation": "SURROUNDS"
                  },
                  "source": "1wJoqPkIP4J8fINgm5A1mL",
                  "target": "2UMN_OQKrAshZl3dHPuZq9"
                },
                {
                  "attributes": {
                    "relation": "SURROUNDS"
                  },
                  "source": "1wJoqPkIP4J8fINgm5A1mL",
                  "target": "2UMN_OQKrAshZl3dHPuZqr"
                },
                {
                  "attributes": {
                    "relation": "SURROUNDS"
                  },
                  "source": "1wJoqPkIP4J8fINgm5A1mL",
                  "target": "2UMN_OQKrAshZl3dHPuZgG"
                },
                {
                  "attributes": {
                    "relation": "SURROUNDS"
                  },
                  "source": "1wJoqPkIP4J8fINgm5A1mL",
                  "target": "2UMN_OQKrAshZl3dHPuZfo"
                },
                {
                  "attributes": {
                    "relation": "SURROUNDS"
                  },
                  "source": "1wJoqPkIP4J8fINgm5A1mL",
                  "target": "1fIVuvFffDJRV_SJESOtCD"
                },
                {
                  "attributes": {
                    "relation": "SURROUNDS"
                  },
                  "source": "1wJoqPkIP4J8fINgm5A1mL",
                  "target": "2UMN_OQKrAshZl3dHPuZeY"
                },
                {
                  "attributes": {
                    "relation": "SURROUNDS"
                  },
                  "source": "1wJoqPkIP4J8fINgm5A1mL",
                  "target": "2UMN_OQKrAshZl3dHPuZlc"
                },
                {
                  "attributes": {
                    "relation": "SURROUNDS"
                  },
                  "source": "1wJoqPkIP4J8fINgm5A1mL",
                  "target": "2UMN_OQKrAshZl3dHPuj5Y"
                },
                {
                  "attributes": {
                    "relation": "SURROUNDS"
                  },
                  "source": "1wJoqPkIP4J8fINgm5A1mL",
                  "target": "2UMN_OQKrAshZl3dHPuZp8"
                },
                {
                  "attributes": {
                    "relation": "SURROUNDS"
                  },
                  "source": "1wJoqPkIP4J8fINgm5A1mL",
                  "target": "2UMN_OQKrAshZl3dHPuZ_b"
                },
                {
                  "attributes": {
                    "relation": "SURROUNDS"
                  },
                  "source": "1wJoqPkIP4J8fINgm5A1mR",
                  "target": "2UMN_OQKrAshZl3dHPuZZ9"
                },
                {
                  "attributes": {
                    "relation": "SURROUNDS"
                  },
                  "source": "1wJoqPkIP4J8fINgm5A1mR",
                  "target": "2UMN_OQKrAshZl3dHPuZtI"
                },
                {
                  "attributes": {
                    "relation": "SURROUNDS"
                  },
                  "source": "1wJoqPkIP4J8fINgm5A1mR",
                  "target": "2UMN_OQKrAshZl3dHPuj5V"
                },
                {
                  "attributes": {
                    "relation": "SURROUNDS"
                  },
                  "source": "1wJoqPkIP4J8fINgm5A1mR",
                  "target": "2UMN_OQKrAshZl3dHPuZeY"
                },
                {
                  "attributes": {
                    "relation": "SURROUNDS"
                  },
                  "source": "1wJoqPkIP4J8fINgm5A1mR",
                  "target": "2UMN_OQKrAshZl3dHPulmH"
                },
                {
                  "attributes": {
                    "relation": "SURROUNDS"
                  },
                  "source": "1wJoqPkIP4J8fINgm5A1mR",
                  "target": "1fIVuvFffDJRV_SJESOtCD"
                },
                {
                  "attributes": {
                    "relation": "SURROUNDS"
                  },
                  "source": "1wJoqPkIP4J8fINgm5A1mR",
                  "target": "2UMN_OQKrAshZl3dHPuZij"
                },
                {
                  "attributes": {
                    "relation": "SURROUNDS"
                  },
                  "source": "1wJoqPkIP4J8fINgm5A1mP",
                  "target": "2UMN_OQKrAshZl3dHPuj5V"
                },
                {
                  "attributes": {
                    "relation": "SURROUNDS"
                  },
                  "source": "1wJoqPkIP4J8fINgm5A1mP",
                  "target": "2UMN_OQKrAshZl3dHPuZlc"
                },
                {
                  "attributes": {
                    "relation": "SURROUNDS"
                  },
                  "source": "1wJoqPkIP4J8fINgm5A1mP",
                  "target": "2UMN_OQKrAshZl3dHPuZij"
                },
                {
                  "attributes": {
                    "relation": "SURROUNDS"
                  },
                  "source": "1wJoqPkIP4J8fINgm5A1mP",
                  "target": "2UMN_OQKrAshZl3dHPulmH"
                },
                {
                  "attributes": {
                    "relation": "SURROUNDS"
                  },
                  "source": "1wJoqPkIP4J8fINgm5A1mP",
                  "target": "1fIVuvFffDJRV_SJESOtCD"
                },
                {
                  "attributes": {
                    "relation": "SURROUNDS"
                  },
                  "source": "1wJoqPkIP4J8fINgm5A1mP",
                  "target": "2UMN_OQKrAshZl3dHPuZjn"
                },
                {
                  "attributes": {
                    "relation": "SURROUNDS"
                  },
                  "source": "1wJoqPkIP4J8fINgm5A1mP",
                  "target": "2UMN_OQKrAshZl3dHPuZjw"
                },
                {
                  "attributes": {
                    "relation": "SURROUNDS"
                  },
                  "source": "1wJoqPkIP4J8fINgm5A1mV",
                  "target": "2UMN_OQKrAshZl3dHPuj5Y"
                },
                {
                  "attributes": {
                    "relation": "SURROUNDS"
                  },
                  "source": "1wJoqPkIP4J8fINgm5A1mV",
                  "target": "2UMN_OQKrAshZl3dHPuZp8"
                },
                {
                  "attributes": {
                    "relation": "SURROUNDS"
                  },
                  "source": "1wJoqPkIP4J8fINgm5A1mV",
                  "target": "2UMN_OQKrAshZl3dHPuj5V"
                },
                {
                  "attributes": {
                    "relation": "SURROUNDS"
                  },
                  "source": "1wJoqPkIP4J8fINgm5A1mV",
                  "target": "2UMN_OQKrAshZl3dHPuZjn"
                },
                {
                  "attributes": {
                    "relation": "SURROUNDS"
                  },
                  "source": "1wJoqPkIP4J8fINgm5A1mV",
                  "target": "2UMN_OQKrAshZl3dHPuZjw"
                },
                {
                  "attributes": {
                    "relation": "SURROUNDS"
                  },
                  "source": "1wJoqPkIP4J8fINgm5A1mV",
                  "target": "2UMN_OQKrAshZl3dHPulmH"
                },
                {
                  "attributes": {
                    "relation": "SURROUNDS"
                  },
                  "source": "1wJoqPkIP4J8fINgm5A1mV",
                  "target": "1fIVuvFffDJRV_SJESOtCD"
                },
                {
                  "attributes": {
                    "relation": "SURROUNDS"
                  },
                  "source": "1wJoqPkIP4J8fINgm5A1mV",
                  "target": "2UMN_OQKrAshZl3dHPuZny"
                },
                {
                  "attributes": {
                    "relation": "SURROUNDS"
                  },
                  "source": "1wJoqPkIP4J8fINgm5A1mT",
                  "target": "2UMN_OQKrAshZl3dHPuj5Y"
                },
                {
                  "attributes": {
                    "relation": "SURROUNDS"
                  },
                  "source": "1wJoqPkIP4J8fINgm5A1mT",
                  "target": "2UMN_OQKrAshZl3dHPuZ_b"
                },
                {
                  "attributes": {
                    "relation": "SURROUNDS"
                  },
                  "source": "1wJoqPkIP4J8fINgm5A1mT",
                  "target": "2UMN_OQKrAshZl3dHPuZny"
                },
                {
                  "attributes": {
                    "relation": "SURROUNDS"
                  },
                  "source": "1wJoqPkIP4J8fINgm5A1mT",
                  "target": "1fIVuvFffDJRV_SJESOtDf"
                },
                {
                  "attributes": {
                    "relation": "SURROUNDS"
                  },
                  "source": "1wJoqPkIP4J8fINgm5A1mT",
                  "target": "1fIVuvFffDJRV_SJESOtCD"
                },
                {
                  "attributes": {
                    "relation": "SURROUNDS"
                  },
                  "source": "1wJoqPkIP4J8fINgm5A1mT",
                  "target": "2UMN_OQKrAshZl3dHPuZn5"
                },
                {
                  "attributes": {
                    "relation": "SURROUNDS"
                  },
                  "source": "1wJoqPkIP4J8fINgm5A1mT",
                  "target": "2UMN_OQKrAshZl3dHPuZn6"
                },
                {
                  "attributes": {
                    "relation": "SURROUNDS"
                  },
                  "source": "1wJoqPkIP4J8fINgm5A1mT",
                  "target": "2UMN_OQKrAshZl3dHPuZn7"
                },
                {
                  "attributes": {
                    "relation": "SURROUNDS"
                  },
                  "source": "1wJoqPkIP4J8fINgm5A1m3",
                  "target": "2UMN_OQKrAshZl3dHPuj5Y"
                },
                {
                  "attributes": {
                    "relation": "SURROUNDS"
                  },
                  "source": "1wJoqPkIP4J8fINgm5A1m3",
                  "target": "2UMN_OQKrAshZl3dHPuZn5"
                },
                {
                  "attributes": {
                    "relation": "SURROUNDS"
                  },
                  "source": "1wJoqPkIP4J8fINgm5A1m3",
                  "target": "2UMN_OQKrAshZl3dHPuZn6"
                },
                {
                  "attributes": {
                    "relation": "SURROUNDS"
                  },
                  "source": "1wJoqPkIP4J8fINgm5A1m3",
                  "target": "1fIVuvFffDJRV_SJESOtCD"
                },
                {
                  "attributes": {
                    "relation": "SURROUNDS"
                  },
                  "source": "1wJoqPkIP4J8fINgm5A1m3",
                  "target": "2UMN_OQKrAshZl3dHPuZn7"
                },
                {
                  "attributes": {
                    "relation": "SURROUNDS"
                  },
                  "source": "1wJoqPkIP4J8fINgm5A1m3",
                  "target": "2UMN_OQKrAshZl3dHPuZzc"
                },
                {
                  "attributes": {
                    "relation": "SURROUNDS"
                  },
                  "source": "1wJoqPkIP4J8fINgm5A1m1",
                  "target": "2UMN_OQKrAshZl3dHPuZn7"
                },
                {
                  "attributes": {
                    "relation": "SURROUNDS"
                  },
                  "source": "1wJoqPkIP4J8fINgm5A1m1",
                  "target": "1fIVuvFffDJRV_SJESOtDf"
                },
                {
                  "attributes": {
                    "relation": "SURROUNDS"
                  },
                  "source": "1wJoqPkIP4J8fINgm5A1m1",
                  "target": "0H1nVTTAv6LhM6_nm3wfgQ"
                },
                {
                  "attributes": {
                    "relation": "SURROUNDS"
                  },
                  "source": "1wJoqPkIP4J8fINgm5A1m1",
                  "target": "0H1nVTTAv6LhM6_nm3wfgm"
                },
                {
                  "attributes": {
                    "relation": "SURROUNDS"
                  },
                  "source": "1wJoqPkIP4J8fINgm5A1m1",
                  "target": "0H1nVTTAv6LhM6_nm3wfjM"
                },
                {
                  "attributes": {
                    "relation": "SURROUNDS"
                  },
                  "source": "1wJoqPkIP4J8fINgm5A1m1",
                  "target": "0H1nVTTAv6LhM6_nm3wfjs"
                },
                {
                  "attributes": {
                    "relation": "SURROUNDS"
                  },
                  "source": "1wJoqPkIP4J8fINgm5A1m1",
                  "target": "1fIVuvFffDJRV_SJESOtCD"
                },
                {
                  "attributes": {
                    "relation": "SURROUNDS"
                  },
                  "source": "1wJoqPkIP4J8fINgm5A1m1",
                  "target": "2UMN_OQKrAshZl3dHPuZpU"
                },
                {
                  "attributes": {
                    "relation": "SURROUNDS"
                  },
                  "source": "1wJoqPkIP4J8fINgm5A1m1",
                  "target": "2UMN_OQKrAshZl3dHPuj5Y"
                },
                {
                  "attributes": {
                    "relation": "SURROUNDS"
                  },
                  "source": "1wJoqPkIP4J8fINgm5A1m1",
                  "target": "2UMN_OQKrAshZl3dHPuZ$p"
                },
                {
                  "attributes": {
                    "relation": "SURROUNDS"
                  },
                  "source": "1wJoqPkIP4J8fINgm5A1mC",
                  "target": "2UMN_OQKrAshZl3dHPuZpU"
                },
                {
                  "attributes": {
                    "relation": "SURROUNDS"
                  },
                  "source": "1wJoqPkIP4J8fINgm5A1mC",
                  "target": "1fIVuvFffDJRV_SJESOtDf"
                },
                {
                  "attributes": {
                    "relation": "SURROUNDS"
                  },
                  "source": "1wJoqPkIP4J8fINgm5A1mC",
                  "target": "0H1nVTTAv6LhM6_nm3wfiC"
                },
                {
                  "attributes": {
                    "relation": "SURROUNDS"
                  },
                  "source": "1wJoqPkIP4J8fINgm5A1mC",
                  "target": "0H1nVTTAv6LhM6_nm3wflS"
                },
                {
                  "attributes": {
                    "relation": "SURROUNDS"
                  },
                  "source": "1wJoqPkIP4J8fINgm5A1mC",
                  "target": "0H1nVTTAv6LhM6_nm3wflw"
                },
                {
                  "attributes": {
                    "relation": "SURROUNDS"
                  },
                  "source": "1wJoqPkIP4J8fINgm5A1mC",
                  "target": "0H1nVTTAv6LhM6_nm3wfla"
                },
                {
                  "attributes": {
                    "relation": "SURROUNDS"
                  },
                  "source": "1wJoqPkIP4J8fINgm5A1mC",
                  "target": "0H1nVTTAv6LhM6_nm3wfk2"
                },
                {
                  "attributes": {
                    "relation": "SURROUNDS"
                  },
                  "source": "1wJoqPkIP4J8fINgm5A1mC",
                  "target": "1fIVuvFffDJRV_SJESOtCD"
                },
                {
                  "attributes": {
                    "relation": "SURROUNDS"
                  },
                  "source": "1wJoqPkIP4J8fINgm5A1mC",
                  "target": "2UMN_OQKrAshZl3dHPuj5b"
                },
                {
                  "attributes": {
                    "relation": "SURROUNDS"
                  },
                  "source": "1wJoqPkIP4J8fINgm5A1mC",
                  "target": "2UMN_OQKrAshZl3dHPuj5a"
                },
                {
                  "attributes": {
                    "relation": "SURROUNDS"
                  },
                  "source": "1wJoqPkIP4J8fINgm5A1mC",
                  "target": "2Tt7$hRrHBKvoaUIFPAzcA"
                },
                {
                  "attributes": {
                    "relation": "SURROUNDS"
                  },
                  "source": "1wJoqPkIP4J8fINgm5A1mC",
                  "target": "2UMN_OQKrAshZl3dHPuj5Y"
                },
                {
                  "attributes": {
                    "relation": "SURROUNDS"
                  },
                  "source": "1wJoqPkIP4J8fINgm5A1mC",
                  "target": "2UMN_OQKrAshZl3dHPuZuz"
                },
                {
                  "attributes": {
                    "relation": "SURROUNDS"
                  },
                  "source": "1wJoqPkIP4J8fINgm5A1mo",
                  "target": "2UMN_OQKrAshZl3dHPuj5a"
                },
                {
                  "attributes": {
                    "relation": "SURROUNDS"
                  },
                  "source": "1wJoqPkIP4J8fINgm5A1mo",
                  "target": "2UMN_OQKrAshZl3dHPuj5b"
                },
                {
                  "attributes": {
                    "relation": "SURROUNDS"
                  },
                  "source": "1wJoqPkIP4J8fINgm5A1mo",
                  "target": "1fIVuvFffDJRV_SJESOtCD"
                },
                {
                  "attributes": {
                    "relation": "SURROUNDS"
                  },
                  "source": "1wJoqPkIP4J8fINgm5A1mo",
                  "target": "2UMN_OQKrAshZl3dHPuj5c"
                },
                {
                  "attributes": {
                    "relation": "SURROUNDS"
                  },
                  "source": "1wJoqPkIP4J8fINgm5A1mo",
                  "target": "2UMN_OQKrAshZl3dHPuj5Y"
                },
                {
                  "attributes": {
                    "relation": "SURROUNDS"
                  },
                  "source": "1wJoqPkIP4J8fINgm5A1mo",
                  "target": "2UMN_OQKrAshZl3dHPuj5g"
                },
                {
                  "attributes": {
                    "relation": "SURROUNDS"
                  },
                  "source": "1wJoqPkIP4J8fINgm5A1mm",
                  "target": "2Tt7$hRrHBKvoaUIFPAzcA"
                },
                {
                  "attributes": {
                    "relation": "SURROUNDS"
                  },
                  "source": "1wJoqPkIP4J8fINgm5A1mm",
                  "target": "3n9ek_acHEfRCBQHch6_Wb"
                },
                {
                  "attributes": {
                    "relation": "SURROUNDS"
                  },
                  "source": "1wJoqPkIP4J8fINgm5A1mm",
                  "target": "2UbFLyEvP7xerhn6sJH67p"
                },
                {
                  "attributes": {
                    "relation": "SURROUNDS"
                  },
                  "source": "1wJoqPkIP4J8fINgm5A1mm",
                  "target": "1fIVuvFffDJRV_SJESOtCD"
                },
                {
                  "attributes": {
                    "relation": "SURROUNDS"
                  },
                  "source": "1wJoqPkIP4J8fINgm5A1ms",
                  "target": "2UMN_OQKrAshZl3dHPuj5Y"
                },
                {
                  "attributes": {
                    "relation": "SURROUNDS"
                  },
                  "source": "1wJoqPkIP4J8fINgm5A1ms",
                  "target": "2UMN_OQKrAshZl3dHPuZzc"
                },
                {
                  "attributes": {
                    "relation": "SURROUNDS"
                  },
                  "source": "1wJoqPkIP4J8fINgm5A1ms",
                  "target": "2UMN_OQKrAshZl3dHPuZ$p"
                },
                {
                  "attributes": {
                    "relation": "SURROUNDS"
                  },
                  "source": "1wJoqPkIP4J8fINgm5A1ms",
                  "target": "2UMN_OQKrAshZl3dHPuZuz"
                },
                {
                  "attributes": {
                    "relation": "SURROUNDS"
                  },
                  "source": "1wJoqPkIP4J8fINgm5A1ms",
                  "target": "2UMN_OQKrAshZl3dHPuj5g"
                },
                {
                  "attributes": {
                    "relation": "SURROUNDS"
                  },
                  "source": "1wJoqPkIP4J8fINgm5A1ms",
                  "target": "2Tt7$hRrHBKvoaUIFPAzcA"
                },
                {
                  "attributes": {
                    "relation": "SURROUNDS"
                  },
                  "source": "1wJoqPkIP4J8fINgm5A1ms",
                  "target": "2UbFLyEvP7xerhn6sJH67p"
                },
                {
                  "attributes": {
                    "relation": "SURROUNDS"
                  },
                  "source": "1wJoqPkIP4J8fINgm5A1ms",
                  "target": "1fIVuvFffDJRV_SJESOtCD"
                },
                {
                  "attributes": {
                    "relation": "VOIDS"
                  },
                  "source": "2Tt7$hRrHBKvoaUIFPAz_N",
                  "target": "2UMN_OQKrAshZl3dHPul2H"
                },
                {
                  "attributes": {
                    "relation": "VOIDS"
                  },
                  "source": "2UMN_OQKrAshZl3dHPul4V",
                  "target": "2UMN_OQKrAshZl3dHPulEv"
                },
                {
                  "attributes": {
                    "relation": "VOIDS"
                  },
                  "source": "2Tt7$hRrHBKvoaUIFPAzZX",
                  "target": "2UMN_OQKrAshZl3dHPukeA"
                },
                {
                  "attributes": {
                    "relation": "VOIDS"
                  },
                  "source": "2Tt7$hRrHBKvoaUIFPAzZX",
                  "target": "2UMN_OQKrAshZl3dHPukgi"
                },
                {
                  "attributes": {
                    "relation": "VOIDS"
                  },
                  "source": "2UMN_OQKrAshZl3dHPujxv",
                  "target": "2UMN_OQKrAshZl3dHPuj4m"
                },
                {
                  "attributes": {
                    "relation": "VOIDS"
                  },
                  "source": "2UMN_OQKrAshZl3dHPujxv",
                  "target": "2UMN_OQKrAshZl3dHPuj4n"
                },
                {
                  "attributes": {
                    "relation": "VOIDS"
                  },
                  "source": "2UMN_OQKrAshZl3dHPul9s",
                  "target": "2UMN_OQKrAshZl3dHPulAp"
                },
                {
                  "attributes": {
                    "relation": "VOIDS"
                  },
                  "source": "2UMN_OQKrAshZl3dHPul9s",
                  "target": "2UMN_OQKrAshZl3dHPulAD"
                },
                {
                  "attributes": {
                    "relation": "VOIDS"
                  },
                  "source": "2UMN_OQKrAshZl3dHPul9s",
                  "target": "2UMN_OQKrAshZl3dHPulK8"
                },
                {
                  "attributes": {
                    "relation": "VOIDS"
                  },
                  "source": "2UMN_OQKrAshZl3dHPuiDz",
                  "target": "2UMN_OQKrAshZl3dHPujV_"
                },
                {
                  "attributes": {
                    "relation": "VOIDS"
                  },
                  "source": "2UMN_OQKrAshZl3dHPuiDz",
                  "target": "2UMN_OQKrAshZl3dHPujOW"
                },
                {
                  "attributes": {
                    "relation": "VOIDS"
                  },
                  "source": "2UMN_OQKrAshZl3dHPuiDz",
                  "target": "2UMN_OQKrAshZl3dHPujP0"
                },
                {
                  "attributes": {
                    "relation": "VOIDS"
                  },
                  "source": "2UMN_OQKrAshZl3dHPuiDz",
                  "target": "2UMN_OQKrAshZl3dHPujQC"
                },
                {
                  "attributes": {
                    "relation": "VOIDS"
                  },
                  "source": "2UMN_OQKrAshZl3dHPuiDz",
                  "target": "2UMN_OQKrAshZl3dHPujR8"
                },
                {
                  "attributes": {
                    "relation": "VOIDS"
                  },
                  "source": "2UMN_OQKrAshZl3dHPui5B",
                  "target": "2UMN_OQKrAshZl3dHPuiwF"
                },
                {
                  "attributes": {
                    "relation": "VOIDS"
                  },
                  "source": "2UMN_OQKrAshZl3dHPukwI",
                  "target": "2UMN_OQKrAshZl3dHPuk98"
                },
                {
                  "attributes": {
                    "relation": "VOIDS"
                  },
                  "source": "2UMN_OQKrAshZl3dHPukwI",
                  "target": "2UMN_OQKrAshZl3dHPukAQ"
                },
                {
                  "attributes": {
                    "relation": "VOIDS"
                  },
                  "source": "2UMN_OQKrAshZl3dHPukwI",
                  "target": "2UMN_OQKrAshZl3dHPukBf"
                },
                {
                  "attributes": {
                    "relation": "VOIDS"
                  },
                  "source": "2UMN_OQKrAshZl3dHPukwI",
                  "target": "2UMN_OQKrAshZl3dHPukLR"
                },
                {
                  "attributes": {
                    "relation": "VOIDS"
                  },
                  "source": "2UMN_OQKrAshZl3dHPukwI",
                  "target": "2UMN_OQKrAshZl3dHPukMe"
                },
                {
                  "attributes": {
                    "relation": "VOIDS"
                  },
                  "source": "2UMN_OQKrAshZl3dHPukwI",
                  "target": "2UMN_OQKrAshZl3dHPukNq"
                },
                {
                  "attributes": {
                    "relation": "VOIDS"
                  },
                  "source": "2UMN_OQKrAshZl3dHPukwI",
                  "target": "2UMN_OQKrAshZl3dHPukNU"
                },
                {
                  "attributes": {
                    "relation": "VOIDS"
                  },
                  "source": "2UMN_OQKrAshZl3dHPukwI",
                  "target": "2UMN_OQKrAshZl3dHPukGI"
                },
                {
                  "attributes": {
                    "relation": "VOIDS"
                  },
                  "source": "2UMN_OQKrAshZl3dHPukwI",
                  "target": "2UMN_OQKrAshZl3dHPukHo"
                },
                {
                  "attributes": {
                    "relation": "VOIDS"
                  },
                  "source": "2UMN_OQKrAshZl3dHPuj4w",
                  "target": "2UMN_OQKrAshZl3dHPuj9v"
                },
                {
                  "attributes": {
                    "relation": "VOIDS"
                  },
                  "source": "2UMN_OQKrAshZl3dHPuj4w",
                  "target": "2UMN_OQKrAshZl3dHPujAr"
                },
                {
                  "attributes": {
                    "relation": "VOIDS"
                  },
                  "source": "2UMN_OQKrAshZl3dHPuj4w",
                  "target": "2UMN_OQKrAshZl3dHPujA7"
                },
                {
                  "attributes": {
                    "relation": "VOIDS"
                  },
                  "source": "2UMN_OQKrAshZl3dHPuj4w",
                  "target": "2UMN_OQKrAshZl3dHPujBN"
                },
                {
                  "attributes": {
                    "relation": "VOIDS"
                  },
                  "source": "2UMN_OQKrAshZl3dHPuj4w",
                  "target": "2UMN_OQKrAshZl3dHPujKb"
                },
                {
                  "attributes": {
                    "relation": "VOIDS"
                  },
                  "source": "2UMN_OQKrAshZl3dHPuj4w",
                  "target": "2UMN_OQKrAshZl3dHPujLJ"
                },
                {
                  "attributes": {
                    "relation": "VOIDS"
                  },
                  "source": "2UMN_OQKrAshZl3dHPuj4w",
                  "target": "2UMN_OQKrAshZl3dHPujMb"
                },
                {
                  "attributes": {
                    "relation": "VOIDS"
                  },
                  "source": "2UMN_OQKrAshZl3dHPuj4w",
                  "target": "2UMN_OQKrAshZl3dHPujNb"
                },
                {
                  "attributes": {
                    "relation": "VOIDS"
                  },
                  "source": "1fIVuvFffDJRV_SJESOtDs",
                  "target": "2UMN_OQKrAshZl3dHPukU_"
                },
                {
                  "attributes": {
                    "relation": "VOIDS"
                  },
                  "source": "2UMN_OQKrAshZl3dHPukeh",
                  "target": "2UMN_OQKrAshZl3dHPukqU"
                },
                {
                  "attributes": {
                    "relation": "VOIDS"
                  },
                  "source": "2UMN_OQKrAshZl3dHPukeh",
                  "target": "2UMN_OQKrAshZl3dHPukr0"
                },
                {
                  "attributes": {
                    "relation": "VOIDS"
                  },
                  "source": "2UMN_OQKrAshZl3dHPujxF",
                  "target": "2UMN_OQKrAshZl3dHPuj4p"
                },
                {
                  "attributes": {
                    "relation": "VOIDS"
                  },
                  "source": "2UMN_OQKrAshZl3dHPujxF",
                  "target": "2UMN_OQKrAshZl3dHPuj4q"
                },
                {
                  "attributes": {
                    "relation": "VOIDS"
                  },
                  "source": "2UMN_OQKrAshZl3dHPul4n",
                  "target": "2UMN_OQKrAshZl3dHPulCY"
                },
                {
                  "attributes": {
                    "relation": "VOIDS"
                  },
                  "source": "1fIVuvFffDJRV_SJESOtDf",
                  "target": "0OCjL9Oi14tu4iiPw9P_OI"
                },
                {
                  "attributes": {
                    "relation": "VOIDS"
                  },
                  "source": "1fIVuvFffDJRV_SJESOtDf",
                  "target": "0OCjL9Oi14tu4iiPw9P_V6"
                },
                {
                  "attributes": {
                    "relation": "VOIDS"
                  },
                  "source": "1fIVuvFffDJRV_SJESOtDf",
                  "target": "0OCjL9Oi14tu4iiPw9P_UG"
                },
                {
                  "attributes": {
                    "relation": "VOIDS"
                  },
                  "source": "1fIVuvFffDJRV_SJESOtDf",
                  "target": "0OCjL9Oi14tu4iiPw9P_TS"
                },
                {
                  "attributes": {
                    "relation": "VOIDS"
                  },
                  "source": "1fIVuvFffDJRV_SJESOtDf",
                  "target": "0OCjL9Oi14tu4iiPw9P_Tc"
                },
                {
                  "attributes": {
                    "relation": "VOIDS"
                  },
                  "source": "1fIVuvFffDJRV_SJESOtDf",
                  "target": "0OCjL9Oi14tu4iiPw9P_Ss"
                },
                {
                  "attributes": {
                    "relation": "VOIDS"
                  },
                  "source": "1fIVuvFffDJRV_SJESOtDf",
                  "target": "0H1nVTTAv6LhM6_nm3wfaE"
                },
                {
                  "attributes": {
                    "relation": "VOIDS"
                  },
                  "source": "1fIVuvFffDJRV_SJESOtDf",
                  "target": "0H1nVTTAv6LhM6_nm3wfdT"
                },
                {
                  "attributes": {
                    "relation": "VOIDS"
                  },
                  "source": "1fIVuvFffDJRV_SJESOtDf",
                  "target": "0H1nVTTAv6LhM6_nm3wfdZ"
                },
                {
                  "attributes": {
                    "relation": "VOIDS"
                  },
                  "source": "1fIVuvFffDJRV_SJESOtDf",
                  "target": "0H1nVTTAv6LhM6_nm3wfc$"
                },
                {
                  "attributes": {
                    "relation": "VOIDS"
                  },
                  "source": "1fIVuvFffDJRV_SJESOtDf",
                  "target": "0H1nVTTAv6LhM6_nm3wff9"
                },
                {
                  "attributes": {
                    "relation": "VOIDS"
                  },
                  "source": "1fIVuvFffDJRV_SJESOtDf",
                  "target": "0H1nVTTAv6LhM6_nm3wffh"
                },
                {
                  "attributes": {
                    "relation": "VOIDS"
                  },
                  "source": "1fIVuvFffDJRV_SJESOtDf",
                  "target": "0H1nVTTAv6LhM6_nm3wfeD"
                },
                {
                  "attributes": {
                    "relation": "VOIDS"
                  },
                  "source": "1fIVuvFffDJRV_SJESOtDf",
                  "target": "0H1nVTTAv6LhM6_nm3wfeX"
                },
                {
                  "attributes": {
                    "relation": "VOIDS"
                  },
                  "source": "1fIVuvFffDJRV_SJESOtDf",
                  "target": "0H1nVTTAv6LhM6_nm3wfhF"
                },
                {
                  "attributes": {
                    "relation": "VOIDS"
                  },
                  "source": "1fIVuvFffDJRV_SJESOtDf",
                  "target": "0H1nVTTAv6LhM6_nm3wfgQ"
                },
                {
                  "attributes": {
                    "relation": "VOIDS"
                  },
                  "source": "1fIVuvFffDJRV_SJESOtDf",
                  "target": "0H1nVTTAv6LhM6_nm3wfgm"
                },
                {
                  "attributes": {
                    "relation": "VOIDS"
                  },
                  "source": "1fIVuvFffDJRV_SJESOtDf",
                  "target": "0H1nVTTAv6LhM6_nm3wfjM"
                },
                {
                  "attributes": {
                    "relation": "VOIDS"
                  },
                  "source": "1fIVuvFffDJRV_SJESOtDf",
                  "target": "0H1nVTTAv6LhM6_nm3wfjs"
                },
                {
                  "attributes": {
                    "relation": "VOIDS"
                  },
                  "source": "1fIVuvFffDJRV_SJESOtDf",
                  "target": "0H1nVTTAv6LhM6_nm3wfiC"
                },
                {
                  "attributes": {
                    "relation": "VOIDS"
                  },
                  "source": "1fIVuvFffDJRV_SJESOtDf",
                  "target": "0H1nVTTAv6LhM6_nm3wflS"
                },
                {
                  "attributes": {
                    "relation": "VOIDS"
                  },
                  "source": "1fIVuvFffDJRV_SJESOtDf",
                  "target": "0H1nVTTAv6LhM6_nm3wflw"
                },
                {
                  "attributes": {
                    "relation": "VOIDS"
                  },
                  "source": "1fIVuvFffDJRV_SJESOtDf",
                  "target": "0H1nVTTAv6LhM6_nm3wfla"
                },
                {
                  "attributes": {
                    "relation": "VOIDS"
                  },
                  "source": "1fIVuvFffDJRV_SJESOtDf",
                  "target": "0H1nVTTAv6LhM6_nm3wfk2"
                },
                {
                  "attributes": {
                    "relation": "VOIDS"
                  },
                  "source": "2Tt7$hRrHBKvoaUIFPAzbc",
                  "target": "0OCjL9Oi14tu4iiPw9P_IQ"
                },
                {
                  "attributes": {
                    "relation": "VOIDS"
                  },
                  "source": "2Tt7$hRrHBKvoaUIFPAzkW",
                  "target": "0OCjL9Oi14tu4iiPw9P_Gz"
                },
                {
                  "attributes": {
                    "relation": "VOIDS"
                  },
                  "source": "2Tt7$hRrHBKvoaUIFPAzkW",
                  "target": "0OCjL9Oi14tu4iiPw9P_M$"
                },
                {
                  "attributes": {
                    "relation": "VOIDS"
                  },
                  "source": "2Tt7$hRrHBKvoaUIFPAzkW",
                  "target": "0OCjL9Oi14tu4iiPw9P_Lo"
                },
                {
                  "attributes": {
                    "relation": "VOIDS"
                  },
                  "source": "2Tt7$hRrHBKvoaUIFPAzkW",
                  "target": "0OCjL9Oi14tu4iiPw9P_Bc"
                },
                {
                  "attributes": {
                    "relation": "VOIDS"
                  },
                  "source": "2Tt7$hRrHBKvoaUIFPAzmj",
                  "target": "0OCjL9Oi14tu4iiPw9P_Hx"
                },
                {
                  "attributes": {
                    "relation": "VOIDS"
                  },
                  "source": "2UMN_OQKrAshZl3dHPuigF",
                  "target": "2UMN_OQKrAshZl3dHPui_G"
                },
                {
                  "attributes": {
                    "relation": "VOIDS"
                  },
                  "source": "2UMN_OQKrAshZl3dHPuigF",
                  "target": "2UMN_OQKrAshZl3dHPuivY"
                },
                {
                  "attributes": {
                    "relation": "VOIDS"
                  },
                  "source": "2UMN_OQKrAshZl3dHPuiii",
                  "target": "2UMN_OQKrAshZl3dHPuiuq"
                },
                {
                  "attributes": {
                    "relation": "VOIDS"
                  },
                  "source": "2Tt7$hRrHBKvoaUIFPAzo7",
                  "target": "0OCjL9Oi14tu4iiPw9P_84"
                },
                {
                  "attributes": {
                    "relation": "VOIDS"
                  },
                  "source": "2Tt7$hRrHBKvoaUIFPAzr4",
                  "target": "0OCjL9Oi14tu4iiPw9P_9M"
                },
                {
                  "attributes": {
                    "relation": "VOIDS"
                  },
                  "source": "2UMN_OQKrAshZl3dHPujxx",
                  "target": "2UMN_OQKrAshZl3dHPuim7"
                },
                {
                  "attributes": {
                    "relation": "VOIDS"
                  },
                  "source": "2UMN_OQKrAshZl3dHPujxx",
                  "target": "2UMN_OQKrAshZl3dHPuip0"
                },
                {
                  "attributes": {
                    "relation": "VOIDS"
                  },
                  "source": "2UMN_OQKrAshZl3dHPujxu",
                  "target": "2UMN_OQKrAshZl3dHPujxW"
                },
                {
                  "attributes": {
                    "relation": "VOIDS"
                  },
                  "source": "2UbFLyEvP7xerhn6sJH67p",
                  "target": "0OCjL9Oi14tu4iiPw9P_FW"
                },
                {
                  "attributes": {
                    "relation": "VOIDS"
                  },
                  "source": "2UMN_OQKrAshZl3dHPujVp",
                  "target": "2UMN_OQKrAshZl3dHPuiaC"
                },
                {
                  "attributes": {
                    "relation": "VOIDS"
                  },
                  "source": "2UMN_OQKrAshZl3dHPuimM",
                  "target": "2UMN_OQKrAshZl3dHPuiy6"
                },
                {
                  "attributes": {
                    "relation": "VOIDS"
                  },
                  "source": "2UMN_OQKrAshZl3dHPuj6a",
                  "target": "2UMN_OQKrAshZl3dHPuiOp"
                },
                {
                  "attributes": {
                    "relation": "VOIDS"
                  },
                  "source": "2UMN_OQKrAshZl3dHPuj6a",
                  "target": "2UMN_OQKrAshZl3dHPuiO5"
                },
                {
                  "attributes": {
                    "relation": "VOIDS"
                  },
                  "source": "2UMN_OQKrAshZl3dHPuj6a",
                  "target": "2UMN_OQKrAshZl3dHPuiP9"
                },
                {
                  "attributes": {
                    "relation": "VOIDS"
                  },
                  "source": "2UMN_OQKrAshZl3dHPuj6a",
                  "target": "2UMN_OQKrAshZl3dHPuiQN"
                },
                {
                  "attributes": {
                    "relation": "VOIDS"
                  },
                  "source": "2UMN_OQKrAshZl3dHPuj6a",
                  "target": "2UMN_OQKrAshZl3dHPuiR$"
                },
                {
                  "attributes": {
                    "relation": "VOIDS"
                  },
                  "source": "2UMN_OQKrAshZl3dHPuj6a",
                  "target": "2UMN_OQKrAshZl3dHPuiR1"
                },
                {
                  "attributes": {
                    "relation": "VOIDS"
                  },
                  "source": "2UMN_OQKrAshZl3dHPuj6a",
                  "target": "2UMN_OQKrAshZl3dHPuZah"
                },
                {
                  "attributes": {
                    "relation": "VOIDS"
                  },
                  "source": "2UMN_OQKrAshZl3dHPuj6a",
                  "target": "2UMN_OQKrAshZl3dHPuZch"
                },
                {
                  "attributes": {
                    "relation": "VOIDS"
                  },
                  "source": "2UMN_OQKrAshZl3dHPuj2u",
                  "target": "2UMN_OQKrAshZl3dHPuZbj"
                },
                {
                  "attributes": {
                    "relation": "VOIDS"
                  },
                  "source": "2UMN_OQKrAshZl3dHPuj6v",
                  "target": "2UMN_OQKrAshZl3dHPuj6z"
                },
                {
                  "attributes": {
                    "relation": "VOIDS"
                  },
                  "source": "2UMN_OQKrAshZl3dHPuj6v",
                  "target": "2UMN_OQKrAshZl3dHPuj6_"
                },
                {
                  "attributes": {
                    "relation": "VOIDS"
                  },
                  "source": "2UMN_OQKrAshZl3dHPuj5Z",
                  "target": "2UMN_OQKrAshZl3dHPuj6w"
                },
                {
                  "attributes": {
                    "relation": "VOIDS"
                  },
                  "source": "2UMN_OQKrAshZl3dHPuj5Z",
                  "target": "2UMN_OQKrAshZl3dHPuj6x"
                },
                {
                  "attributes": {
                    "relation": "VOIDS"
                  },
                  "source": "2UMN_OQKrAshZl3dHPuZW0",
                  "target": "2UMN_OQKrAshZl3dHPuZrI"
                },
                {
                  "attributes": {
                    "relation": "VOIDS"
                  },
                  "source": "2UMN_OQKrAshZl3dHPuj5V",
                  "target": "2UMN_OQKrAshZl3dHPuZlc"
                },
                {
                  "attributes": {
                    "relation": "VOIDS"
                  },
                  "source": "2UMN_OQKrAshZl3dHPuj5V",
                  "target": "2UMN_OQKrAshZl3dHPuZeY"
                },
                {
                  "attributes": {
                    "relation": "VOIDS"
                  },
                  "source": "2UMN_OQKrAshZl3dHPuj5V",
                  "target": "2UMN_OQKrAshZl3dHPuZfo"
                },
                {
                  "attributes": {
                    "relation": "VOIDS"
                  },
                  "source": "2UMN_OQKrAshZl3dHPuj5V",
                  "target": "2UMN_OQKrAshZl3dHPuZgG"
                },
                {
                  "attributes": {
                    "relation": "VOIDS"
                  },
                  "source": "2UMN_OQKrAshZl3dHPuj5V",
                  "target": "2UMN_OQKrAshZl3dHPuZqr"
                },
                {
                  "attributes": {
                    "relation": "VOIDS"
                  },
                  "source": "2UMN_OQKrAshZl3dHPuj5V",
                  "target": "2UMN_OQKrAshZl3dHPuZq9"
                },
                {
                  "attributes": {
                    "relation": "VOIDS"
                  },
                  "source": "2UMN_OQKrAshZl3dHPuZZ9",
                  "target": "2UMN_OQKrAshZl3dHPuZtI"
                },
                {
                  "attributes": {
                    "relation": "VOIDS"
                  },
                  "source": "2UMN_OQKrAshZl3dHPuj5Y",
                  "target": "2UMN_OQKrAshZl3dHPuj5g"
                },
                {
                  "attributes": {
                    "relation": "VOIDS"
                  },
                  "source": "2UMN_OQKrAshZl3dHPuj5Y",
                  "target": "2UMN_OQKrAshZl3dHPuZp8"
                },
                {
                  "attributes": {
                    "relation": "VOIDS"
                  },
                  "source": "2UMN_OQKrAshZl3dHPuj5Y",
                  "target": "2UMN_OQKrAshZl3dHPuZzc"
                },
                {
                  "attributes": {
                    "relation": "VOIDS"
                  },
                  "source": "2UMN_OQKrAshZl3dHPuj5Y",
                  "target": "2UMN_OQKrAshZl3dHPuZ_b"
                },
                {
                  "attributes": {
                    "relation": "VOIDS"
                  },
                  "source": "2UMN_OQKrAshZl3dHPuj5Y",
                  "target": "2UMN_OQKrAshZl3dHPuZ$p"
                },
                {
                  "attributes": {
                    "relation": "VOIDS"
                  },
                  "source": "2UMN_OQKrAshZl3dHPuj5Y",
                  "target": "2UMN_OQKrAshZl3dHPuZuz"
                },
                {
                  "attributes": {
                    "relation": "VOIDS"
                  },
                  "source": "2UMN_OQKrAshZl3dHPuZjn",
                  "target": "2UMN_OQKrAshZl3dHPuZjw"
                }
              ],
              "nodes": [
                {
                  "attributes": {
                    "Description": null,
                    "GlobalId": "1GE3M13VHAWxhxwcp39Emh",
                    "IfcType": "IfcSpace",
                    "Name": "101",
                    "ObjectType": null,
                    "category": "IfcSpace"
                  },
                  "key": "1GE3M13VHAWxhxwcp39Emh"
                },
                {
                  "attributes": {
                    "Description": null,
                    "GlobalId": "1GE3M13VHAWxhxwcp39EiJ",
                    "IfcType": "IfcSpace",
                    "Name": "102",
                    "ObjectType": null,
                    "category": "IfcSpace"
                  },
                  "key": "1GE3M13VHAWxhxwcp39EiJ"
                },
                {
                  "attributes": {
                    "Description": null,
                    "GlobalId": "1GE3M13VHAWxhxwcp39Eiz",
                    "IfcType": "IfcSpace",
                    "Name": "103",
                    "ObjectType": null,
                    "category": "IfcSpace"
                  },
                  "key": "1GE3M13VHAWxhxwcp39Eiz"
                },
                {
                  "attributes": {
                    "Description": null,
                    "GlobalId": "1GE3M13VHAWxhxwcp39Ei_",
                    "IfcType": "IfcSpace",
                    "Name": "104",
                    "ObjectType": null,
                    "category": "IfcSpace"
                  },
                  "key": "1GE3M13VHAWxhxwcp39Ei_"
                },
                {
                  "attributes": {
                    "Description": null,
                    "GlobalId": "1GE3M13VHAWxhxwcp39Ei$",
                    "IfcType": "IfcSpace",
                    "Name": "105",
                    "ObjectType": null,
                    "category": "IfcSpace"
                  },
                  "key": "1GE3M13VHAWxhxwcp39Ei$"
                },
                {
                  "attributes": {
                    "Description": null,
                    "GlobalId": "1GE3M13VHAWxhxwcp39Eiu",
                    "IfcType": "IfcSpace",
                    "Name": "106",
                    "ObjectType": null,
                    "category": "IfcSpace"
                  },
                  "key": "1GE3M13VHAWxhxwcp39Eiu"
                },
                {
                  "attributes": {
                    "Description": null,
                    "GlobalId": "1GE3M13VHAWxhxwcp39Eiw",
                    "IfcType": "IfcSpace",
                    "Name": "107",
                    "ObjectType": null,
                    "category": "IfcSpace"
                  },
                  "key": "1GE3M13VHAWxhxwcp39Eiw"
                },
                {
                  "attributes": {
                    "Description": null,
                    "GlobalId": "1GE3M13VHAWxhxwcp39Eiv",
                    "IfcType": "IfcSpace",
                    "Name": "108",
                    "ObjectType": null,
                    "category": "IfcSpace"
                  },
                  "key": "1GE3M13VHAWxhxwcp39Eiv"
                },
                {
                  "attributes": {
                    "Description": null,
                    "GlobalId": "1GE3M13VHAWxhxwcp39Eix",
                    "IfcType": "IfcSpace",
                    "Name": "109",
                    "ObjectType": null,
                    "category": "IfcSpace"
                  },
                  "key": "1GE3M13VHAWxhxwcp39Eix"
                },
                {
                  "attributes": {
                    "Description": null,
                    "GlobalId": "1GE3M13VHAWxhxwcp39Eib",
                    "IfcType": "IfcSpace",
                    "Name": "110",
                    "ObjectType": null,
                    "category": "IfcSpace"
                  },
                  "key": "1GE3M13VHAWxhxwcp39Eib"
                },
                {
                  "attributes": {
                    "Description": null,
                    "GlobalId": "1GE3M13VHAWxhxwcp39Eic",
                    "IfcType": "IfcSpace",
                    "Name": "111",
                    "ObjectType": null,
                    "category": "IfcSpace"
                  },
                  "key": "1GE3M13VHAWxhxwcp39Eic"
                },
                {
                  "attributes": {
                    "Description": null,
                    "GlobalId": "1GE3M13VHAWxhxwcp39Eid",
                    "IfcType": "IfcSpace",
                    "Name": "112",
                    "ObjectType": null,
                    "category": "IfcSpace"
                  },
                  "key": "1GE3M13VHAWxhxwcp39Eid"
                },
                {
                  "attributes": {
                    "Description": null,
                    "GlobalId": "1GE3M13VHAWxhxwcp39EiX",
                    "IfcType": "IfcSpace",
                    "Name": "114",
                    "ObjectType": null,
                    "category": "IfcSpace"
                  },
                  "key": "1GE3M13VHAWxhxwcp39EiX"
                },
                {
                  "attributes": {
                    "Description": null,
                    "GlobalId": "1GE3M13VHAWxhxwcp39EiY",
                    "IfcType": "IfcSpace",
                    "Name": "115",
                    "ObjectType": null,
                    "category": "IfcSpace"
                  },
                  "key": "1GE3M13VHAWxhxwcp39EiY"
                },
                {
                  "attributes": {
                    "Description": null,
                    "GlobalId": "1GE3M13VHAWxhxwcp39EiZ",
                    "IfcType": "IfcSpace",
                    "Name": "116",
                    "ObjectType": null,
                    "category": "IfcSpace"
                  },
                  "key": "1GE3M13VHAWxhxwcp39EiZ"
                },
                {
                  "attributes": {
                    "Description": null,
                    "GlobalId": "1GE3M13VHAWxhxwcp39Eij",
                    "IfcType": "IfcSpace",
                    "Name": "117",
                    "ObjectType": null,
                    "category": "IfcSpace"
                  },
                  "key": "1GE3M13VHAWxhxwcp39Eij"
                },
                {
                  "attributes": {
                    "Description": null,
                    "GlobalId": "1GE3M13VHAWxhxwcp39Eik",
                    "IfcType": "IfcSpace",
                    "Name": "118",
                    "ObjectType": null,
                    "category": "IfcSpace"
                  },
                  "key": "1GE3M13VHAWxhxwcp39Eik"
                },
                {
                  "attributes": {
                    "Description": null,
                    "GlobalId": "1GE3M13VHAWxhxwcp39Eil",
                    "IfcType": "IfcSpace",
                    "Name": "119",
                    "ObjectType": null,
                    "category": "IfcSpace"
                  },
                  "key": "1GE3M13VHAWxhxwcp39Eil"
                },
                {
                  "attributes": {
                    "Description": null,
                    "GlobalId": "1GE3M13VHAWxhxwcp39Eii",
                    "IfcType": "IfcSpace",
                    "Name": "120",
                    "ObjectType": null,
                    "category": "IfcSpace"
                  },
                  "key": "1GE3M13VHAWxhxwcp39Eii"
                },
                {
                  "attributes": {
                    "Description": null,
                    "GlobalId": "1GE3M13VHAWxhxwcp39EiI",
                    "IfcType": "IfcSpace",
                    "Name": "121",
                    "ObjectType": null,
                    "category": "IfcSpace"
                  },
                  "key": "1GE3M13VHAWxhxwcp39EiI"
                },
                {
                  "attributes": {
                    "Description": null,
                    "GlobalId": "1GE3M13VHAWxhxwcp39EiH",
                    "IfcType": "IfcSpace",
                    "Name": "122",
                    "ObjectType": null,
                    "category": "IfcSpace"
                  },
                  "key": "1GE3M13VHAWxhxwcp39EiH"
                },
                {
                  "attributes": {
                    "Description": null,
                    "GlobalId": "1GE3M13VHAWxhxwcp39EiM",
                    "IfcType": "IfcSpace",
                    "Name": "123",
                    "ObjectType": null,
                    "category": "IfcSpace"
                  },
                  "key": "1GE3M13VHAWxhxwcp39EiM"
                },
                {
                  "attributes": {
                    "Description": null,
                    "GlobalId": "1GE3M13VHAWxhxwcp39EiG",
                    "IfcType": "IfcSpace",
                    "Name": "124",
                    "ObjectType": null,
                    "category": "IfcSpace"
                  },
                  "key": "1GE3M13VHAWxhxwcp39EiG"
                },
                {
                  "attributes": {
                    "Description": null,
                    "GlobalId": "1GE3M13VHAWxhxwcp39EiN",
                    "IfcType": "IfcSpace",
                    "Name": "125",
                    "ObjectType": null,
                    "category": "IfcSpace"
                  },
                  "key": "1GE3M13VHAWxhxwcp39EiN"
                },
                {
                  "attributes": {
                    "Description": null,
                    "GlobalId": "1GE3M13VHAWxhxwcp39EiK",
                    "IfcType": "IfcSpace",
                    "Name": "126",
                    "ObjectType": null,
                    "category": "IfcSpace"
                  },
                  "key": "1GE3M13VHAWxhxwcp39EiK"
                },
                {
                  "attributes": {
                    "Description": null,
                    "GlobalId": "1GE3M13VHAWxhxwcp39EiL",
                    "IfcType": "IfcSpace",
                    "Name": "127",
                    "ObjectType": null,
                    "category": "IfcSpace"
                  },
                  "key": "1GE3M13VHAWxhxwcp39EiL"
                },
                {
                  "attributes": {
                    "Description": null,
                    "GlobalId": "1GE3M13VHAWxhxwcp39Eih",
                    "IfcType": "IfcSpace",
                    "Name": "128",
                    "ObjectType": null,
                    "category": "IfcSpace"
                  },
                  "key": "1GE3M13VHAWxhxwcp39Eih"
                },
                {
                  "attributes": {
                    "Description": null,
                    "GlobalId": "1GE3M13VHAWxhxwcp39Eig",
                    "IfcType": "IfcSpace",
                    "Name": "129",
                    "ObjectType": null,
                    "category": "IfcSpace"
                  },
                  "key": "1GE3M13VHAWxhxwcp39Eig"
                },
                {
                  "attributes": {
                    "Description": null,
                    "GlobalId": "1GE3M13VHAWxhxwcp39Eif",
                    "IfcType": "IfcSpace",
                    "Name": "130",
                    "ObjectType": null,
                    "category": "IfcSpace"
                  },
                  "key": "1GE3M13VHAWxhxwcp39Eif"
                },
                {
                  "attributes": {
                    "Description": null,
                    "GlobalId": "1GE3M13VHAWxhxwcp39Eie",
                    "IfcType": "IfcSpace",
                    "Name": "131",
                    "ObjectType": null,
                    "category": "IfcSpace"
                  },
                  "key": "1GE3M13VHAWxhxwcp39Eie"
                },
                {
                  "attributes": {
                    "Description": null,
                    "GlobalId": "1GE3M13VHAWxhxwcp39Eiy",
                    "IfcType": "IfcSpace",
                    "Name": "132",
                    "ObjectType": null,
                    "category": "IfcSpace"
                  },
                  "key": "1GE3M13VHAWxhxwcp39Eiy"
                },
                {
                  "attributes": {
                    "Description": null,
                    "GlobalId": "2dcjqNU0z9dgXZ44gQgewm",
                    "IfcType": "IfcSpace",
                    "Name": "201",
                    "ObjectType": null,
                    "category": "IfcSpace"
                  },
                  "key": "2dcjqNU0z9dgXZ44gQgewm"
                },
                {
                  "attributes": {
                    "Description": null,
                    "GlobalId": "2dcjqNU0z9dgXZ44gQgewe",
                    "IfcType": "IfcSpace",
                    "Name": "202",
                    "ObjectType": null,
                    "category": "IfcSpace"
                  },
                  "key": "2dcjqNU0z9dgXZ44gQgewe"
                },
                {
                  "attributes": {
                    "Description": null,
                    "GlobalId": "2dcjqNU0z9dgXZ44gQgewc",
                    "IfcType": "IfcSpace",
                    "Name": "203",
                    "ObjectType": null,
                    "category": "IfcSpace"
                  },
                  "key": "2dcjqNU0z9dgXZ44gQgewc"
                },
                {
                  "attributes": {
                    "Description": null,
                    "GlobalId": "2dcjqNU0z9dgXZ44gQgewa",
                    "IfcType": "IfcSpace",
                    "Name": "204",
                    "ObjectType": null,
                    "category": "IfcSpace"
                  },
                  "key": "2dcjqNU0z9dgXZ44gQgewa"
                },
                {
                  "attributes": {
                    "Description": null,
                    "GlobalId": "2dcjqNU0z9dgXZ44gQgexV",
                    "IfcType": "IfcSpace",
                    "Name": "205",
                    "ObjectType": null,
                    "category": "IfcSpace"
                  },
                  "key": "2dcjqNU0z9dgXZ44gQgexV"
                },
                {
                  "attributes": {
                    "Description": null,
                    "GlobalId": "1DRIgGmAHBt9Ugpf6z41Pv",
                    "IfcType": "IfcSpace",
                    "Name": "206",
                    "ObjectType": null,
                    "category": "IfcSpace"
                  },
                  "key": "1DRIgGmAHBt9Ugpf6z41Pv"
                },
                {
                  "attributes": {
                    "Description": null,
                    "GlobalId": "1DRIgGmAHBt9Ugpf6z41Pu",
                    "IfcType": "IfcSpace",
                    "Name": "207",
                    "ObjectType": null,
                    "category": "IfcSpace"
                  },
                  "key": "1DRIgGmAHBt9Ugpf6z41Pu"
                },
                {
                  "attributes": {
                    "Description": null,
                    "GlobalId": "1DRIgGmAHBt9Ugpf6z41P$",
                    "IfcType": "IfcSpace",
                    "Name": "208",
                    "ObjectType": null,
                    "category": "IfcSpace"
                  },
                  "key": "1DRIgGmAHBt9Ugpf6z41P$"
                },
                {
                  "attributes": {
                    "Description": null,
                    "GlobalId": "1DRIgGmAHBt9Ugpf6z41P_",
                    "IfcType": "IfcSpace",
                    "Name": "209",
                    "ObjectType": null,
                    "category": "IfcSpace"
                  },
                  "key": "1DRIgGmAHBt9Ugpf6z41P_"
                },
                {
                  "attributes": {
                    "Description": null,
                    "GlobalId": "2dcjqNU0z9dgXZ44gQgexJ",
                    "IfcType": "IfcSpace",
                    "Name": "210",
                    "ObjectType": null,
                    "category": "IfcSpace"
                  },
                  "key": "2dcjqNU0z9dgXZ44gQgexJ"
                },
                {
                  "attributes": {
                    "Description": null,
                    "GlobalId": "2dcjqNU0z9dgXZ44gQge4d",
                    "IfcType": "IfcSpace",
                    "Name": "211",
                    "ObjectType": null,
                    "category": "IfcSpace"
                  },
                  "key": "2dcjqNU0z9dgXZ44gQge4d"
                },
                {
                  "attributes": {
                    "Description": null,
                    "GlobalId": "2dcjqNU0z9dgXZ44gQge4b",
                    "IfcType": "IfcSpace",
                    "Name": "212",
                    "ObjectType": null,
                    "category": "IfcSpace"
                  },
                  "key": "2dcjqNU0z9dgXZ44gQge4b"
                },
                {
                  "attributes": {
                    "Description": null,
                    "GlobalId": "2dcjqNU0z9dgXZ44gQge4Z",
                    "IfcType": "IfcSpace",
                    "Name": "214",
                    "ObjectType": null,
                    "category": "IfcSpace"
                  },
                  "key": "2dcjqNU0z9dgXZ44gQge4Z"
                },
                {
                  "attributes": {
                    "Description": null,
                    "GlobalId": "2dcjqNU0z9dgXZ44gQge4X",
                    "IfcType": "IfcSpace",
                    "Name": "216",
                    "ObjectType": null,
                    "category": "IfcSpace"
                  },
                  "key": "2dcjqNU0z9dgXZ44gQge4X"
                },
                {
                  "attributes": {
                    "Description": null,
                    "GlobalId": "2dcjqNU0z9dgXZ44gQge5V",
                    "IfcType": "IfcSpace",
                    "Name": "217",
                    "ObjectType": null,
                    "category": "IfcSpace"
                  },
                  "key": "2dcjqNU0z9dgXZ44gQge5V"
                },
                {
                  "attributes": {
                    "Description": null,
                    "GlobalId": "2dcjqNU0z9dgXZ44gQge5G",
                    "IfcType": "IfcSpace",
                    "Name": "218",
                    "ObjectType": null,
                    "category": "IfcSpace"
                  },
                  "key": "2dcjqNU0z9dgXZ44gQge5G"
                },
                {
                  "attributes": {
                    "Description": null,
                    "GlobalId": "2dcjqNU0z9dgXZ44gQge5E",
                    "IfcType": "IfcSpace",
                    "Name": "219",
                    "ObjectType": null,
                    "category": "IfcSpace"
                  },
                  "key": "2dcjqNU0z9dgXZ44gQge5E"
                },
                {
                  "attributes": {
                    "Description": null,
                    "GlobalId": "2dcjqNU0z9dgXZ44gQge5C",
                    "IfcType": "IfcSpace",
                    "Name": "220",
                    "ObjectType": null,
                    "category": "IfcSpace"
                  },
                  "key": "2dcjqNU0z9dgXZ44gQge5C"
                },
                {
                  "attributes": {
                    "Description": null,
                    "GlobalId": "2dcjqNU0z9dgXZ44gQge5A",
                    "IfcType": "IfcSpace",
                    "Name": "221",
                    "ObjectType": null,
                    "category": "IfcSpace"
                  },
                  "key": "2dcjqNU0z9dgXZ44gQge5A"
                },
                {
                  "attributes": {
                    "Description": null,
                    "GlobalId": "2dcjqNU0z9dgXZ44gQge5y",
                    "IfcType": "IfcSpace",
                    "Name": "222",
                    "ObjectType": null,
                    "category": "IfcSpace"
                  },
                  "key": "2dcjqNU0z9dgXZ44gQge5y"
                },
                {
                  "attributes": {
                    "Description": null,
                    "GlobalId": "2dcjqNU0z9dgXZ44gQge5w",
                    "IfcType": "IfcSpace",
                    "Name": "223",
                    "ObjectType": null,
                    "category": "IfcSpace"
                  },
                  "key": "2dcjqNU0z9dgXZ44gQge5w"
                },
                {
                  "attributes": {
                    "Description": null,
                    "GlobalId": "2dcjqNU0z9dgXZ44gQge5X",
                    "IfcType": "IfcSpace",
                    "Name": "224",
                    "ObjectType": null,
                    "category": "IfcSpace"
                  },
                  "key": "2dcjqNU0z9dgXZ44gQge5X"
                },
                {
                  "attributes": {
                    "Description": null,
                    "GlobalId": "2dcjqNU0z9dgXZ44gQge6V",
                    "IfcType": "IfcSpace",
                    "Name": "225",
                    "ObjectType": null,
                    "category": "IfcSpace"
                  },
                  "key": "2dcjqNU0z9dgXZ44gQge6V"
                },
                {
                  "attributes": {
                    "Description": null,
                    "GlobalId": "2dcjqNU0z9dgXZ44gQge6T",
                    "IfcType": "IfcSpace",
                    "Name": "226",
                    "ObjectType": null,
                    "category": "IfcSpace"
                  },
                  "key": "2dcjqNU0z9dgXZ44gQge6T"
                },
                {
                  "attributes": {
                    "Description": null,
                    "GlobalId": "2dcjqNU0z9dgXZ44gQge6R",
                    "IfcType": "IfcSpace",
                    "Name": "227",
                    "ObjectType": null,
                    "category": "IfcSpace"
                  },
                  "key": "2dcjqNU0z9dgXZ44gQge6R"
                },
                {
                  "attributes": {
                    "Description": null,
                    "GlobalId": "2dcjqNU0z9dgXZ44gQge6P",
                    "IfcType": "IfcSpace",
                    "Name": "228",
                    "ObjectType": null,
                    "category": "IfcSpace"
                  },
                  "key": "2dcjqNU0z9dgXZ44gQge6P"
                },
                {
                  "attributes": {
                    "Description": null,
                    "GlobalId": "2dcjqNU0z9dgXZ44gQge6N",
                    "IfcType": "IfcSpace",
                    "Name": "229",
                    "ObjectType": null,
                    "category": "IfcSpace"
                  },
                  "key": "2dcjqNU0z9dgXZ44gQge6N"
                },
                {
                  "attributes": {
                    "Description": null,
                    "GlobalId": "2dcjqNU0z9dgXZ44gQge6L",
                    "IfcType": "IfcSpace",
                    "Name": "230",
                    "ObjectType": null,
                    "category": "IfcSpace"
                  },
                  "key": "2dcjqNU0z9dgXZ44gQge6L"
                },
                {
                  "attributes": {
                    "Description": null,
                    "GlobalId": "2dcjqNU0z9dgXZ44gQge66",
                    "IfcType": "IfcSpace",
                    "Name": "231",
                    "ObjectType": null,
                    "category": "IfcSpace"
                  },
                  "key": "2dcjqNU0z9dgXZ44gQge66"
                },
                {
                  "attributes": {
                    "Description": null,
                    "GlobalId": "2dcjqNU0z9dgXZ44gQge64",
                    "IfcType": "IfcSpace",
                    "Name": "232",
                    "ObjectType": null,
                    "category": "IfcSpace"
                  },
                  "key": "2dcjqNU0z9dgXZ44gQge64"
                },
                {
                  "attributes": {
                    "Description": null,
                    "GlobalId": "2dcjqNU0z9dgXZ44gQge62",
                    "IfcType": "IfcSpace",
                    "Name": "233",
                    "ObjectType": null,
                    "category": "IfcSpace"
                  },
                  "key": "2dcjqNU0z9dgXZ44gQge62"
                },
                {
                  "attributes": {
                    "Description": null,
                    "GlobalId": "2dcjqNU0z9dgXZ44gQge60",
                    "IfcType": "IfcSpace",
                    "Name": "234",
                    "ObjectType": null,
                    "category": "IfcSpace"
                  },
                  "key": "2dcjqNU0z9dgXZ44gQge60"
                },
                {
                  "attributes": {
                    "Description": null,
                    "GlobalId": "2dcjqNU0z9dgXZ44gQgexL",
                    "IfcType": "IfcSpace",
                    "Name": "235",
                    "ObjectType": null,
                    "category": "IfcSpace"
                  },
                  "key": "2dcjqNU0z9dgXZ44gQgexL"
                },
                {
                  "attributes": {
                    "Description": null,
                    "GlobalId": "3Yc17Oys91HBxqG5CiJ1_p",
                    "IfcType": "IfcSpace",
                    "Name": "301",
                    "ObjectType": null,
                    "category": "IfcSpace"
                  },
                  "key": "3Yc17Oys91HBxqG5CiJ1_p"
                },
                {
                  "attributes": {
                    "Description": null,
                    "GlobalId": "3Yc17Oys91HBxqG5CiJ1_r",
                    "IfcType": "IfcSpace",
                    "Name": "302",
                    "ObjectType": null,
                    "category": "IfcSpace"
                  },
                  "key": "3Yc17Oys91HBxqG5CiJ1_r"
                },
                {
                  "attributes": {
                    "Description": null,
                    "GlobalId": "3Yc17Oys91HBxqG5CiJ1_h",
                    "IfcType": "IfcSpace",
                    "Name": "303",
                    "ObjectType": null,
                    "category": "IfcSpace"
                  },
                  "key": "3Yc17Oys91HBxqG5CiJ1_h"
                },
                {
                  "attributes": {
                    "Description": null,
                    "GlobalId": "1wJoqPkIP4J8fINgm5A1pR",
                    "IfcType": "IfcSpace",
                    "Name": "304",
                    "ObjectType": null,
                    "category": "IfcSpace"
                  },
                  "key": "1wJoqPkIP4J8fINgm5A1pR"
                },
                {
                  "attributes": {
                    "Description": null,
                    "GlobalId": "1wJoqPkIP4J8fINgm5A1pF",
                    "IfcType": "IfcSpace",
                    "Name": "305",
                    "ObjectType": null,
                    "category": "IfcSpace"
                  },
                  "key": "1wJoqPkIP4J8fINgm5A1pF"
                },
                {
                  "attributes": {
                    "Description": null,
                    "GlobalId": "1wJoqPkIP4J8fINgm5A1pD",
                    "IfcType": "IfcSpace",
                    "Name": "306",
                    "ObjectType": null,
                    "category": "IfcSpace"
                  },
                  "key": "1wJoqPkIP4J8fINgm5A1pD"
                },
                {
                  "attributes": {
                    "Description": null,
                    "GlobalId": "1wJoqPkIP4J8fINgm5A1pp",
                    "IfcType": "IfcSpace",
                    "Name": "307",
                    "ObjectType": null,
                    "category": "IfcSpace"
                  },
                  "key": "1wJoqPkIP4J8fINgm5A1pp"
                },
                {
                  "attributes": {
                    "Description": null,
                    "GlobalId": "1wJoqPkIP4J8fINgm5A1pn",
                    "IfcType": "IfcSpace",
                    "Name": "308",
                    "ObjectType": null,
                    "category": "IfcSpace"
                  },
                  "key": "1wJoqPkIP4J8fINgm5A1pn"
                },
                {
                  "attributes": {
                    "Description": null,
                    "GlobalId": "1wJoqPkIP4J8fINgm5A1pt",
                    "IfcType": "IfcSpace",
                    "Name": "309",
                    "ObjectType": null,
                    "category": "IfcSpace"
                  },
                  "key": "1wJoqPkIP4J8fINgm5A1pt"
                },
                {
                  "attributes": {
                    "Description": null,
                    "GlobalId": "1wJoqPkIP4J8fINgm5A1pr",
                    "IfcType": "IfcSpace",
                    "Name": "310",
                    "ObjectType": null,
                    "category": "IfcSpace"
                  },
                  "key": "1wJoqPkIP4J8fINgm5A1pr"
                },
                {
                  "attributes": {
                    "Description": null,
                    "GlobalId": "1wJoqPkIP4J8fINgm5A1pZ",
                    "IfcType": "IfcSpace",
                    "Name": "312",
                    "ObjectType": null,
                    "category": "IfcSpace"
                  },
                  "key": "1wJoqPkIP4J8fINgm5A1pZ"
                },
                {
                  "attributes": {
                    "Description": null,
                    "GlobalId": "1wJoqPkIP4J8fINgm5A1pa",
                    "IfcType": "IfcSpace",
                    "Name": "313",
                    "ObjectType": null,
                    "category": "IfcSpace"
                  },
                  "key": "1wJoqPkIP4J8fINgm5A1pa"
                },
                {
                  "attributes": {
                    "Description": null,
                    "GlobalId": "1wJoqPkIP4J8fINgm5A1pg",
                    "IfcType": "IfcSpace",
                    "Name": "314",
                    "ObjectType": null,
                    "category": "IfcSpace"
                  },
                  "key": "1wJoqPkIP4J8fINgm5A1pg"
                },
                {
                  "attributes": {
                    "Description": null,
                    "GlobalId": "1wJoqPkIP4J8fINgm5A1pe",
                    "IfcType": "IfcSpace",
                    "Name": "315",
                    "ObjectType": null,
                    "category": "IfcSpace"
                  },
                  "key": "1wJoqPkIP4J8fINgm5A1pe"
                },
                {
                  "attributes": {
                    "Description": null,
                    "GlobalId": "1wJoqPkIP4J8fINgm5A1pk",
                    "IfcType": "IfcSpace",
                    "Name": "316",
                    "ObjectType": null,
                    "category": "IfcSpace"
                  },
                  "key": "1wJoqPkIP4J8fINgm5A1pk"
                },
                {
                  "attributes": {
                    "Description": null,
                    "GlobalId": "1wJoqPkIP4J8fINgm5A1pi",
                    "IfcType": "IfcSpace",
                    "Name": "317",
                    "ObjectType": null,
                    "category": "IfcSpace"
                  },
                  "key": "1wJoqPkIP4J8fINgm5A1pi"
                },
                {
                  "attributes": {
                    "Description": null,
                    "GlobalId": "1wJoqPkIP4J8fINgm5A1mL",
                    "IfcType": "IfcSpace",
                    "Name": "318",
                    "ObjectType": null,
                    "category": "IfcSpace"
                  },
                  "key": "1wJoqPkIP4J8fINgm5A1mL"
                },
                {
                  "attributes": {
                    "Description": null,
                    "GlobalId": "1wJoqPkIP4J8fINgm5A1mR",
                    "IfcType": "IfcSpace",
                    "Name": "319",
                    "ObjectType": null,
                    "category": "IfcSpace"
                  },
                  "key": "1wJoqPkIP4J8fINgm5A1mR"
                },
                {
                  "attributes": {
                    "Description": null,
                    "GlobalId": "1wJoqPkIP4J8fINgm5A1mP",
                    "IfcType": "IfcSpace",
                    "Name": "320",
                    "ObjectType": null,
                    "category": "IfcSpace"
                  },
                  "key": "1wJoqPkIP4J8fINgm5A1mP"
                },
                {
                  "attributes": {
                    "Description": null,
                    "GlobalId": "1wJoqPkIP4J8fINgm5A1mV",
                    "IfcType": "IfcSpace",
                    "Name": "321",
                    "ObjectType": null,
                    "category": "IfcSpace"
                  },
                  "key": "1wJoqPkIP4J8fINgm5A1mV"
                },
                {
                  "attributes": {
                    "Description": null,
                    "GlobalId": "1wJoqPkIP4J8fINgm5A1mT",
                    "IfcType": "IfcSpace",
                    "Name": "322",
                    "ObjectType": null,
                    "category": "IfcSpace"
                  },
                  "key": "1wJoqPkIP4J8fINgm5A1mT"
                },
                {
                  "attributes": {
                    "Description": null,
                    "GlobalId": "1wJoqPkIP4J8fINgm5A1m3",
                    "IfcType": "IfcSpace",
                    "Name": "323",
                    "ObjectType": null,
                    "category": "IfcSpace"
                  },
                  "key": "1wJoqPkIP4J8fINgm5A1m3"
                },
                {
                  "attributes": {
                    "Description": null,
                    "GlobalId": "1wJoqPkIP4J8fINgm5A1m1",
                    "IfcType": "IfcSpace",
                    "Name": "324",
                    "ObjectType": null,
                    "category": "IfcSpace"
                  },
                  "key": "1wJoqPkIP4J8fINgm5A1m1"
                },
                {
                  "attributes": {
                    "Description": null,
                    "GlobalId": "1wJoqPkIP4J8fINgm5A1mC",
                    "IfcType": "IfcSpace",
                    "Name": "325",
                    "ObjectType": null,
                    "category": "IfcSpace"
                  },
                  "key": "1wJoqPkIP4J8fINgm5A1mC"
                },
                {
                  "attributes": {
                    "Description": null,
                    "GlobalId": "1wJoqPkIP4J8fINgm5A1mo",
                    "IfcType": "IfcSpace",
                    "Name": "326",
                    "ObjectType": null,
                    "category": "IfcSpace"
                  },
                  "key": "1wJoqPkIP4J8fINgm5A1mo"
                },
                {
                  "attributes": {
                    "Description": null,
                    "GlobalId": "1wJoqPkIP4J8fINgm5A1mm",
                    "IfcType": "IfcSpace",
                    "Name": "327",
                    "ObjectType": null,
                    "category": "IfcSpace"
                  },
                  "key": "1wJoqPkIP4J8fINgm5A1mm"
                },
                {
                  "attributes": {
                    "Description": null,
                    "GlobalId": "1wJoqPkIP4J8fINgm5A1ms",
                    "IfcType": "IfcSpace",
                    "Name": "328",
                    "ObjectType": null,
                    "category": "IfcSpace"
                  },
                  "key": "1wJoqPkIP4J8fINgm5A1ms"
                },
                {
                  "attributes": {
                    "Description": null,
                    "GlobalId": "3FZFp0nq9AAhRAecLpGfvv",
                    "IfcType": "IfcCurtainWall",
                    "Name": "Curtain Wall:Exterior Curtain Wall:196713",
                    "ObjectType": "Curtain Wall:Exterior Curtain Wall",
                    "category": "IfcCurtainWall"
                  },
                  "key": "3FZFp0nq9AAhRAecLpGfvv"
                },
                {
                  "attributes": {
                    "Description": null,
                    "GlobalId": "3a58fQxqD2numVo$eTOgS$",
                    "IfcType": "IfcSlab",
                    "Name": "Floor:Concrete- 100mm:212675",
                    "ObjectType": "Floor:Concrete- 100mm",
                    "category": "IfcSlab"
                  },
                  "key": "3a58fQxqD2numVo$eTOgS$"
                },
                {
                  "attributes": {
                    "Description": null,
                    "GlobalId": "2Tt7$hRrHBKvoaUIFPAz_N",
                    "IfcType": "IfcWallStandardCase",
                    "Name": "Basic Wall:Exterior - Insulation on Masonry:144837",
                    "ObjectType": "Basic Wall:Exterior - Insulation on Masonry",
                    "category": "IfcWallStandardCase"
                  },
                  "key": "2Tt7$hRrHBKvoaUIFPAz_N"
                },
                {
                  "attributes": {
                    "Description": null,
                    "GlobalId": "3n9ek_acHEfRCBQHch6_cD",
                    "IfcType": "IfcWallStandardCase",
                    "Name": "Basic Wall:Exterior - Insulation on Masonry:169770",
                    "ObjectType": "Basic Wall:Exterior - Insulation on Masonry",
                    "category": "IfcWallStandardCase"
                  },
                  "key": "3n9ek_acHEfRCBQHch6_cD"
                },
                {
                  "attributes": {
                    "Description": null,
                    "GlobalId": "2UMN_OQKrAshZl3dHPulpG",
                    "IfcType": "IfcCurtainWall",
                    "Name": "Curtain Wall:Storefront:148960",
                    "ObjectType": "Curtain Wall:Storefront",
                    "category": "IfcCurtainWall"
                  },
                  "key": "2UMN_OQKrAshZl3dHPulpG"
                },
                {
                  "attributes": {
                    "Description": null,
                    "GlobalId": "3O2nkpovb3Z9uJgH09FwmW",
                    "IfcType": "IfcDoor",
                    "Name": "M_Curtain Wall Dbl Glass:M_Curtain Wall Dbl Glass:195035",
                    "ObjectType": "M_Curtain Wall Dbl Glass:M_Curtain Wall Dbl Glass",
                    "category": "IfcDoor"
                  },
                  "key": "3O2nkpovb3Z9uJgH09FwmW"
                },
                {
                  "attributes": {
                    "Description": null,
                    "GlobalId": "2UMN_OQKrAshZl3dHPujdx",
                    "IfcType": "IfcWallStandardCase",
                    "Name": "Basic Wall:Generic - 225mm Concrete:155851",
                    "ObjectType": "Basic Wall:Generic - 225mm Concrete",
                    "category": "IfcWallStandardCase"
                  },
                  "key": "2UMN_OQKrAshZl3dHPujdx"
                },
                {
                  "attributes": {
                    "Description": null,
                    "GlobalId": "2UMN_OQKrAshZl3dHPujXf",
                    "IfcType": "IfcWallStandardCase",
                    "Name": "Basic Wall:Generic - 225mm Concrete:155993",
                    "ObjectType": "Basic Wall:Generic - 225mm Concrete",
                    "category": "IfcWallStandardCase"
                  },
                  "key": "2UMN_OQKrAshZl3dHPujXf"
                },
                {
                  "attributes": {
                    "Description": null,
                    "GlobalId": "1fIVuvFffDJRV_SJESOtCZ",
                    "IfcType": "IfcSlab",
                    "Name": "Floor:Hollow Core Plank - Concrete Topping:139803",
                    "ObjectType": "Floor:Hollow Core Plank - Concrete Topping",
                    "category": "IfcSlab"
                  },
                  "key": "1fIVuvFffDJRV_SJESOtCZ"
                },
                {
                  "attributes": {
                    "Description": null,
                    "GlobalId": "2UMN_OQKrAshZl3dHPul4V",
                    "IfcType": "IfcWallStandardCase",
                    "Name": "Basic Wall:Interior - 138mm Partition (1-hr):149551",
                    "ObjectType": "Basic Wall:Interior - 138mm Partition (1-hr)",
                    "category": "IfcWallStandardCase"
                  },
                  "key": "2UMN_OQKrAshZl3dHPul4V"
                },
                {
                  "attributes": {
                    "Description": null,
                    "GlobalId": "2UMN_OQKrAshZl3dHPul5b",
                    "IfcType": "IfcWallStandardCase",
                    "Name": "Basic Wall:Interior - 138mm Partition (1-hr):149589",
                    "ObjectType": "Basic Wall:Interior - 138mm Partition (1-hr)",
                    "category": "IfcWallStandardCase"
                  },
                  "key": "2UMN_OQKrAshZl3dHPul5b"
                },
                {
                  "attributes": {
                    "Description": null,
                    "GlobalId": "2UMN_OQKrAshZl3dHPui5h",
                    "IfcType": "IfcWallStandardCase",
                    "Name": "Basic Wall:Interior - 138mm Partition (1-hr):161883",
                    "ObjectType": "Basic Wall:Interior - 138mm Partition (1-hr)",
                    "category": "IfcWallStandardCase"
                  },
                  "key": "2UMN_OQKrAshZl3dHPui5h"
                },
                {
                  "attributes": {
                    "Description": null,
                    "GlobalId": "2Tt7$hRrHBKvoaUIFPAzZX",
                    "IfcType": "IfcWallStandardCase",
                    "Name": "Basic Wall:Interior - 138mm Partition (1-hr):144051",
                    "ObjectType": "Basic Wall:Interior - 138mm Partition (1-hr)",
                    "category": "IfcWallStandardCase"
                  },
                  "key": "2Tt7$hRrHBKvoaUIFPAzZX"
                },
                {
                  "attributes": {
                    "Description": null,
                    "GlobalId": "2UMN_OQKrAshZl3dHPukeA",
                    "IfcType": "IfcDoor",
                    "Name": "M_Single-Flush:0915 x 2134mm:152378",
                    "ObjectType": "M_Single-Flush:0915 x 2134mm",
                    "category": "IfcDoor"
                  },
                  "key": "2UMN_OQKrAshZl3dHPukeA"
                },
                {
                  "attributes": {
                    "Description": null,
                    "GlobalId": "2UMN_OQKrAshZl3dHPulOJ",
                    "IfcType": "IfcWallStandardCase",
                    "Name": "Basic Wall:Generic - 200mm:151331",
                    "ObjectType": "Basic Wall:Generic - 200mm",
                    "category": "IfcWallStandardCase"
                  },
                  "key": "2UMN_OQKrAshZl3dHPulOJ"
                },
                {
                  "attributes": {
                    "Description": null,
                    "GlobalId": "2UMN_OQKrAshZl3dHPujxv",
                    "IfcType": "IfcWallStandardCase",
                    "Name": "Basic Wall:Interior - 138mm Partition (1-hr):157641",
                    "ObjectType": "Basic Wall:Interior - 138mm Partition (1-hr)",
                    "category": "IfcWallStandardCase"
                  },
                  "key": "2UMN_OQKrAshZl3dHPujxv"
                },
                {
                  "attributes": {
                    "Description": null,
                    "GlobalId": "2UMN_OQKrAshZl3dHPuj4m",
                    "IfcType": "IfcDoor",
                    "Name": "M_Single-Flush:0915 x 2134mm:157696",
                    "ObjectType": "M_Single-Flush:0915 x 2134mm",
                    "category": "IfcDoor"
                  },
                  "key": "2UMN_OQKrAshZl3dHPuj4m"
                },
                {
                  "attributes": {
                    "Description": null,
                    "GlobalId": "2UMN_OQKrAshZl3dHPukgi",
                    "IfcType": "IfcDoor",
                    "Name": "M_Single-Flush:0915 x 2134mm 20 Minute Rated:152476",
                    "ObjectType": "M_Single-Flush:0915 x 2134mm 20 Minute Rated",
                    "category": "IfcDoor"
                  },
                  "key": "2UMN_OQKrAshZl3dHPukgi"
                },
                {
                  "attributes": {
                    "Description": null,
                    "GlobalId": "2UMN_OQKrAshZl3dHPuj4n",
                    "IfcType": "IfcDoor",
                    "Name": "M_Single-Flush:0915 x 2134mm 20 Minute Rated:157697",
                    "ObjectType": "M_Single-Flush:0915 x 2134mm 20 Minute Rated",
                    "category": "IfcDoor"
                  },
                  "key": "2UMN_OQKrAshZl3dHPuj4n"
                },
                {
                  "attributes": {
                    "Description": null,
                    "GlobalId": "2UMN_OQKrAshZl3dHPul9s",
                    "IfcType": "IfcWallStandardCase",
                    "Name": "Basic Wall:Interior - 138mm Partition (1-hr):150342",
                    "ObjectType": "Basic Wall:Interior - 138mm Partition (1-hr)",
                    "category": "IfcWallStandardCase"
                  },
                  "key": "2UMN_OQKrAshZl3dHPul9s"
                },
                {
                  "attributes": {
                    "Description": null,
                    "GlobalId": "2UMN_OQKrAshZl3dHPulK8",
                    "IfcType": "IfcDoor",
                    "Name": "M_Double-Flush:1830 x 2134mm:150584",
                    "ObjectType": "M_Double-Flush:1830 x 2134mm",
                    "category": "IfcDoor"
                  },
                  "key": "2UMN_OQKrAshZl3dHPulK8"
                },
                {
                  "attributes": {
                    "Description": null,
                    "GlobalId": "2UMN_OQKrAshZl3dHPulHz",
                    "IfcType": "IfcWallStandardCase",
                    "Name": "Basic Wall:Generic - 200mm:150861",
                    "ObjectType": "Basic Wall:Generic - 200mm",
                    "category": "IfcWallStandardCase"
                  },
                  "key": "2UMN_OQKrAshZl3dHPulHz"
                },
                {
                  "attributes": {
                    "Description": null,
                    "GlobalId": "2UMN_OQKrAshZl3dHPuiDz",
                    "IfcType": "IfcWallStandardCase",
                    "Name": "Basic Wall:Interior - 138mm Partition (1-hr):162381",
                    "ObjectType": "Basic Wall:Interior - 138mm Partition (1-hr)",
                    "category": "IfcWallStandardCase"
                  },
                  "key": "2UMN_OQKrAshZl3dHPuiDz"
                },
                {
                  "attributes": {
                    "Description": null,
                    "GlobalId": "2UMN_OQKrAshZl3dHPujV_",
                    "IfcType": "IfcDoor",
                    "Name": "M_Single-Flush:0915 x 2134mm:159438",
                    "ObjectType": "M_Single-Flush:0915 x 2134mm",
                    "category": "IfcDoor"
                  },
                  "key": "2UMN_OQKrAshZl3dHPujV_"
                },
                {
                  "attributes": {
                    "Description": null,
                    "GlobalId": "2UMN_OQKrAshZl3dHPujOW",
                    "IfcType": "IfcDoor",
                    "Name": "M_Single-Flush:0915 x 2134mm:159504",
                    "ObjectType": "M_Single-Flush:0915 x 2134mm",
                    "category": "IfcDoor"
                  },
                  "key": "2UMN_OQKrAshZl3dHPujOW"
                },
                {
                  "attributes": {
                    "Description": null,
                    "GlobalId": "2UMN_OQKrAshZl3dHPulAD",
                    "IfcType": "IfcDoor",
                    "Name": "M_Single-Flush:0915 x 2134mm:150461",
                    "ObjectType": "M_Single-Flush:0915 x 2134mm",
                    "category": "IfcDoor"
                  },
                  "key": "2UMN_OQKrAshZl3dHPulAD"
                },
                {
                  "attributes": {
                    "Description": null,
                    "GlobalId": "2UMN_OQKrAshZl3dHPul$r",
                    "IfcType": "IfcWallStandardCase",
                    "Name": "Basic Wall:Interior - 138mm Partition (1-hr):149189",
                    "ObjectType": "Basic Wall:Interior - 138mm Partition (1-hr)",
                    "category": "IfcWallStandardCase"
                  },
                  "key": "2UMN_OQKrAshZl3dHPul$r"
                },
                {
                  "attributes": {
                    "Description": null,
                    "GlobalId": "2UMN_OQKrAshZl3dHPulAp",
                    "IfcType": "IfcDoor",
                    "Name": "M_Single-Flush:0915 x 2134mm:150403",
                    "ObjectType": "M_Single-Flush:0915 x 2134mm",
                    "category": "IfcDoor"
                  },
                  "key": "2UMN_OQKrAshZl3dHPulAp"
                },
                {
                  "attributes": {
                    "Description": null,
                    "GlobalId": "2UMN_OQKrAshZl3dHPujJu",
                    "IfcType": "IfcWallStandardCase",
                    "Name": "Basic Wall:Interior - 138mm Partition (1-hr):159176",
                    "ObjectType": "Basic Wall:Interior - 138mm Partition (1-hr)",
                    "category": "IfcWallStandardCase"
                  },
                  "key": "2UMN_OQKrAshZl3dHPujJu"
                },
                {
                  "attributes": {
                    "Description": null,
                    "GlobalId": "2UMN_OQKrAshZl3dHPujP0",
                    "IfcType": "IfcDoor",
                    "Name": "M_Single-Flush:0915 x 2134mm:159600",
                    "ObjectType": "M_Single-Flush:0915 x 2134mm",
                    "category": "IfcDoor"
                  },
                  "key": "2UMN_OQKrAshZl3dHPujP0"
                },
                {
                  "attributes": {
                    "Description": null,
                    "GlobalId": "2UMN_OQKrAshZl3dHPulEv",
                    "IfcType": "IfcDoor",
                    "Name": "M_Double-Flush:1730 x 2134mm 20 Minute Rated:150153",
                    "ObjectType": "M_Double-Flush:1730 x 2134mm 20 Minute Rated",
                    "category": "IfcDoor"
                  },
                  "key": "2UMN_OQKrAshZl3dHPulEv"
                },
                {
                  "attributes": {
                    "Description": null,
                    "GlobalId": "1Rlu17Ctf6ZvZdq3UgKRVD",
                    "IfcType": "IfcWallStandardCase",
                    "Name": "Basic Wall:Interior - 138mm Partition (1-hr):187479",
                    "ObjectType": "Basic Wall:Interior - 138mm Partition (1-hr)",
                    "category": "IfcWallStandardCase"
                  },
                  "key": "1Rlu17Ctf6ZvZdq3UgKRVD"
                },
                {
                  "attributes": {
                    "Description": null,
                    "GlobalId": "2UMN_OQKrAshZl3dHPujR8",
                    "IfcType": "IfcDoor",
                    "Name": "M_Single-Flush:0915 x 2134mm:159736",
                    "ObjectType": "M_Single-Flush:0915 x 2134mm",
                    "category": "IfcDoor"
                  },
                  "key": "2UMN_OQKrAshZl3dHPujR8"
                },
                {
                  "attributes": {
                    "Description": null,
                    "GlobalId": "2UMN_OQKrAshZl3dHPui5B",
                    "IfcType": "IfcWallStandardCase",
                    "Name": "Basic Wall:Interior - 138mm Partition (1-hr):161915",
                    "ObjectType": "Basic Wall:Interior - 138mm Partition (1-hr)",
                    "category": "IfcWallStandardCase"
                  },
                  "key": "2UMN_OQKrAshZl3dHPui5B"
                },
                {
                  "attributes": {
                    "Description": null,
                    "GlobalId": "2UMN_OQKrAshZl3dHPukD5",
                    "IfcType": "IfcWallStandardCase",
                    "Name": "Basic Wall:Interior - 138mm Partition (1-hr):154229",
                    "ObjectType": "Basic Wall:Interior - 138mm Partition (1-hr)",
                    "category": "IfcWallStandardCase"
                  },
                  "key": "2UMN_OQKrAshZl3dHPukD5"
                },
                {
                  "attributes": {
                    "Description": null,
                    "GlobalId": "2UMN_OQKrAshZl3dHPukwI",
                    "IfcType": "IfcWallStandardCase",
                    "Name": "Basic Wall:Interior - 138mm Partition (1-hr):153506",
                    "ObjectType": "Basic Wall:Interior - 138mm Partition (1-hr)",
                    "category": "IfcWallStandardCase"
                  },
                  "key": "2UMN_OQKrAshZl3dHPukwI"
                },
                {
                  "attributes": {
                    "Description": null,
                    "GlobalId": "2UMN_OQKrAshZl3dHPuk98",
                    "IfcType": "IfcDoor",
                    "Name": "M_Single-Flush:0915 x 2134mm:154488",
                    "ObjectType": "M_Single-Flush:0915 x 2134mm",
                    "category": "IfcDoor"
                  },
                  "key": "2UMN_OQKrAshZl3dHPuk98"
                },
                {
                  "attributes": {
                    "Description": null,
                    "GlobalId": "2UMN_OQKrAshZl3dHPukEN",
                    "IfcType": "IfcWallStandardCase",
                    "Name": "Basic Wall:Generic - 200mm:154279",
                    "ObjectType": "Basic Wall:Generic - 200mm",
                    "category": "IfcWallStandardCase"
                  },
                  "key": "2UMN_OQKrAshZl3dHPukEN"
                },
                {
                  "attributes": {
                    "Description": null,
                    "GlobalId": "2UMN_OQKrAshZl3dHPuj4w",
                    "IfcType": "IfcWallStandardCase",
                    "Name": "Basic Wall:Interior - 138mm Partition (1-hr):157706",
                    "ObjectType": "Basic Wall:Interior - 138mm Partition (1-hr)",
                    "category": "IfcWallStandardCase"
                  },
                  "key": "2UMN_OQKrAshZl3dHPuj4w"
                },
                {
                  "attributes": {
                    "Description": null,
                    "GlobalId": "2UMN_OQKrAshZl3dHPuj9v",
                    "IfcType": "IfcDoor",
                    "Name": "M_Single-Flush:0915 x 2134mm:158537",
                    "ObjectType": "M_Single-Flush:0915 x 2134mm",
                    "category": "IfcDoor"
                  },
                  "key": "2UMN_OQKrAshZl3dHPuj9v"
                },
                {
                  "attributes": {
                    "Description": null,
                    "GlobalId": "2UMN_OQKrAshZl3dHPujAr",
                    "IfcType": "IfcDoor",
                    "Name": "M_Single-Flush:0915 x 2134mm:158597",
                    "ObjectType": "M_Single-Flush:0915 x 2134mm",
                    "category": "IfcDoor"
                  },
                  "key": "2UMN_OQKrAshZl3dHPujAr"
                },
                {
                  "attributes": {
                    "Description": null,
                    "GlobalId": "2UMN_OQKrAshZl3dHPuk2N",
                    "IfcType": "IfcWallStandardCase",
                    "Name": "Basic Wall:Interior - 138mm Partition (1-hr):154023",
                    "ObjectType": "Basic Wall:Interior - 138mm Partition (1-hr)",
                    "category": "IfcWallStandardCase"
                  },
                  "key": "2UMN_OQKrAshZl3dHPuk2N"
                },
                {
                  "attributes": {
                    "Description": null,
                    "GlobalId": "2UMN_OQKrAshZl3dHPukAQ",
                    "IfcType": "IfcDoor",
                    "Name": "M_Single-Flush:0915 x 2134mm:154538",
                    "ObjectType": "M_Single-Flush:0915 x 2134mm",
                    "category": "IfcDoor"
                  },
                  "key": "2UMN_OQKrAshZl3dHPukAQ"
                },
                {
                  "attributes": {
                    "Description": null,
                    "GlobalId": "2UMN_OQKrAshZl3dHPukBf",
                    "IfcType": "IfcDoor",
                    "Name": "M_Single-Flush:0915 x 2134mm:154585",
                    "ObjectType": "M_Single-Flush:0915 x 2134mm",
                    "category": "IfcDoor"
                  },
                  "key": "2UMN_OQKrAshZl3dHPukBf"
                },
                {
                  "attributes": {
                    "Description": null,
                    "GlobalId": "2UMN_OQKrAshZl3dHPukCt",
                    "IfcType": "IfcWallStandardCase",
                    "Name": "Basic Wall:Interior - 138mm Partition (1-hr):154119",
                    "ObjectType": "Basic Wall:Interior - 138mm Partition (1-hr)",
                    "category": "IfcWallStandardCase"
                  },
                  "key": "2UMN_OQKrAshZl3dHPukCt"
                },
                {
                  "attributes": {
                    "Description": null,
                    "GlobalId": "2UMN_OQKrAshZl3dHPukLR",
                    "IfcType": "IfcDoor",
                    "Name": "M_Single-Flush:0915 x 2134mm:154731",
                    "ObjectType": "M_Single-Flush:0915 x 2134mm",
                    "category": "IfcDoor"
                  },
                  "key": "2UMN_OQKrAshZl3dHPukLR"
                },
                {
                  "attributes": {
                    "Description": null,
                    "GlobalId": "2UMN_OQKrAshZl3dHPukMe",
                    "IfcType": "IfcDoor",
                    "Name": "M_Single-Flush:0915 x 2134mm:154776",
                    "ObjectType": "M_Single-Flush:0915 x 2134mm",
                    "category": "IfcDoor"
                  },
                  "key": "2UMN_OQKrAshZl3dHPukMe"
                },
                {
                  "attributes": {
                    "Description": null,
                    "GlobalId": "2UMN_OQKrAshZl3dHPujA7",
                    "IfcType": "IfcDoor",
                    "Name": "M_Single-Flush:0915 x 2134mm:158647",
                    "ObjectType": "M_Single-Flush:0915 x 2134mm",
                    "category": "IfcDoor"
                  },
                  "key": "2UMN_OQKrAshZl3dHPujA7"
                },
                {
                  "attributes": {
                    "Description": null,
                    "GlobalId": "2UMN_OQKrAshZl3dHPujBN",
                    "IfcType": "IfcDoor",
                    "Name": "M_Single-Flush:0915 x 2134mm:158695",
                    "ObjectType": "M_Single-Flush:0915 x 2134mm",
                    "category": "IfcDoor"
                  },
                  "key": "2UMN_OQKrAshZl3dHPujBN"
                },
                {
                  "attributes": {
                    "Description": null,
                    "GlobalId": "2UMN_OQKrAshZl3dHPujKb",
                    "IfcType": "IfcDoor",
                    "Name": "M_Single-Flush:0915 x 2134mm:158741",
                    "ObjectType": "M_Single-Flush:0915 x 2134mm",
                    "category": "IfcDoor"
                  },
                  "key": "2UMN_OQKrAshZl3dHPujKb"
                },
                {
                  "attributes": {
                    "Description": null,
                    "GlobalId": "2UMN_OQKrAshZl3dHPujLJ",
                    "IfcType": "IfcDoor",
                    "Name": "M_Single-Flush:0915 x 2134mm:158819",
                    "ObjectType": "M_Single-Flush:0915 x 2134mm",
                    "category": "IfcDoor"
                  },
                  "key": "2UMN_OQKrAshZl3dHPujLJ"
                },
                {
                  "attributes": {
                    "Description": null,
                    "GlobalId": "2UMN_OQKrAshZl3dHPukNq",
                    "IfcType": "IfcDoor",
                    "Name": "M_Single-Flush:0915 x 2134mm:154820",
                    "ObjectType": "M_Single-Flush:0915 x 2134mm",
                    "category": "IfcDoor"
                  },
                  "key": "2UMN_OQKrAshZl3dHPukNq"
                },
                {
                  "attributes": {
                    "Description": null,
                    "GlobalId": "2UMN_OQKrAshZl3dHPukNU",
                    "IfcType": "IfcDoor",
                    "Name": "M_Single-Flush:0915 x 2134mm:154862",
                    "ObjectType": "M_Single-Flush:0915 x 2134mm",
                    "category": "IfcDoor"
                  },
                  "key": "2UMN_OQKrAshZl3dHPukNU"
                },
                {
                  "attributes": {
                    "Description": null,
                    "GlobalId": "2UMN_OQKrAshZl3dHPuk00",
                    "IfcType": "IfcWallStandardCase",
                    "Name": "Basic Wall:Interior - 138mm Partition (1-hr):153904",
                    "ObjectType": "Basic Wall:Interior - 138mm Partition (1-hr)",
                    "category": "IfcWallStandardCase"
                  },
                  "key": "2UMN_OQKrAshZl3dHPuk00"
                },
                {
                  "attributes": {
                    "Description": null,
                    "GlobalId": "1fIVuvFffDJRV_SJESOtDs",
                    "IfcType": "IfcWallStandardCase",
                    "Name": "Basic Wall:Exterior - Insulation on Masonry:139854",
                    "ObjectType": "Basic Wall:Exterior - Insulation on Masonry",
                    "category": "IfcWallStandardCase"
                  },
                  "key": "1fIVuvFffDJRV_SJESOtDs"
                },
                {
                  "attributes": {
                    "Description": null,
                    "GlobalId": "2UMN_OQKrAshZl3dHPukl$",
                    "IfcType": "IfcWallStandardCase",
                    "Name": "Basic Wall:Interior - 138mm Partition (1-hr):152271",
                    "ObjectType": "Basic Wall:Interior - 138mm Partition (1-hr)",
                    "category": "IfcWallStandardCase"
                  },
                  "key": "2UMN_OQKrAshZl3dHPukl$"
                },
                {
                  "attributes": {
                    "Description": null,
                    "GlobalId": "2UMN_OQKrAshZl3dHPukm2",
                    "IfcType": "IfcWallStandardCase",
                    "Name": "Basic Wall:Interior - 138mm Partition (1-hr):152882",
                    "ObjectType": "Basic Wall:Interior - 138mm Partition (1-hr)",
                    "category": "IfcWallStandardCase"
                  },
                  "key": "2UMN_OQKrAshZl3dHPukm2"
                },
                {
                  "attributes": {
                    "Description": null,
                    "GlobalId": "2UMN_OQKrAshZl3dHPukoO",
                    "IfcType": "IfcWallStandardCase",
                    "Name": "Basic Wall:Interior - 138mm Partition (1-hr):153000",
                    "ObjectType": "Basic Wall:Interior - 138mm Partition (1-hr)",
                    "category": "IfcWallStandardCase"
                  },
                  "key": "2UMN_OQKrAshZl3dHPukoO"
                },
                {
                  "attributes": {
                    "Description": null,
                    "GlobalId": "2UMN_OQKrAshZl3dHPukvh",
                    "IfcType": "IfcWallStandardCase",
                    "Name": "Basic Wall:Interior - 138mm Partition (1-hr):153435",
                    "ObjectType": "Basic Wall:Interior - 138mm Partition (1-hr)",
                    "category": "IfcWallStandardCase"
                  },
                  "key": "2UMN_OQKrAshZl3dHPukvh"
                },
                {
                  "attributes": {
                    "Description": null,
                    "GlobalId": "2UMN_OQKrAshZl3dHPukGI",
                    "IfcType": "IfcDoor",
                    "Name": "M_Single-Flush:0915 x 2134mm:154914",
                    "ObjectType": "M_Single-Flush:0915 x 2134mm",
                    "category": "IfcDoor"
                  },
                  "key": "2UMN_OQKrAshZl3dHPukGI"
                },
                {
                  "attributes": {
                    "Description": null,
                    "GlobalId": "2UMN_OQKrAshZl3dHPukHo",
                    "IfcType": "IfcDoor",
                    "Name": "M_Single-Flush:0915 x 2134mm:154946",
                    "ObjectType": "M_Single-Flush:0915 x 2134mm",
                    "category": "IfcDoor"
                  },
                  "key": "2UMN_OQKrAshZl3dHPukHo"
                },
                {
                  "attributes": {
                    "Description": null,
                    "GlobalId": "2UMN_OQKrAshZl3dHPujxE",
                    "IfcType": "IfcWallStandardCase",
                    "Name": "Basic Wall:Interior - 138mm Partition (1-hr):157694",
                    "ObjectType": "Basic Wall:Interior - 138mm Partition (1-hr)",
                    "category": "IfcWallStandardCase"
                  },
                  "key": "2UMN_OQKrAshZl3dHPujxE"
                },
                {
                  "attributes": {
                    "Description": null,
                    "GlobalId": "2UMN_OQKrAshZl3dHPujMb",
                    "IfcType": "IfcDoor",
                    "Name": "M_Single-Flush:0915 x 2134mm:158869",
                    "ObjectType": "M_Single-Flush:0915 x 2134mm",
                    "category": "IfcDoor"
                  },
                  "key": "2UMN_OQKrAshZl3dHPujMb"
                },
                {
                  "attributes": {
                    "Description": null,
                    "GlobalId": "2UMN_OQKrAshZl3dHPujNb",
                    "IfcType": "IfcDoor",
                    "Name": "M_Single-Flush:0915 x 2134mm:158933",
                    "ObjectType": "M_Single-Flush:0915 x 2134mm",
                    "category": "IfcDoor"
                  },
                  "key": "2UMN_OQKrAshZl3dHPujNb"
                },
                {
                  "attributes": {
                    "Description": null,
                    "GlobalId": "2UMN_OQKrAshZl3dHPukeh",
                    "IfcType": "IfcWallStandardCase",
                    "Name": "Basic Wall:Interior - 138mm Partition (1-hr):152347",
                    "ObjectType": "Basic Wall:Interior - 138mm Partition (1-hr)",
                    "category": "IfcWallStandardCase"
                  },
                  "key": "2UMN_OQKrAshZl3dHPukeh"
                },
                {
                  "attributes": {
                    "Description": null,
                    "GlobalId": "2UMN_OQKrAshZl3dHPukr0",
                    "IfcType": "IfcDoor",
                    "Name": "M_Single-Flush:0915 x 2134mm:152688",
                    "ObjectType": "M_Single-Flush:0915 x 2134mm",
                    "category": "IfcDoor"
                  },
                  "key": "2UMN_OQKrAshZl3dHPukr0"
                },
                {
                  "attributes": {
                    "Description": null,
                    "GlobalId": "2UMN_OQKrAshZl3dHPujxF",
                    "IfcType": "IfcWall",
                    "Name": "Basic Wall:Interior - 138mm Partition (1-hr):157695",
                    "ObjectType": "Basic Wall:Interior - 138mm Partition (1-hr)",
                    "category": "IfcWall"
                  },
                  "key": "2UMN_OQKrAshZl3dHPujxF"
                },
                {
                  "attributes": {
                    "Description": null,
                    "GlobalId": "2UMN_OQKrAshZl3dHPuj4q",
                    "IfcType": "IfcDoor",
                    "Name": "M_Single-Flush:0915 x 2134mm:157700",
                    "ObjectType": "M_Single-Flush:0915 x 2134mm",
                    "category": "IfcDoor"
                  },
                  "key": "2UMN_OQKrAshZl3dHPuj4q"
                },
                {
                  "attributes": {
                    "Description": null,
                    "GlobalId": "2UMN_OQKrAshZl3dHPukqU",
                    "IfcType": "IfcDoor",
                    "Name": "M_Single-Flush:0915 x 2134mm:152622",
                    "ObjectType": "M_Single-Flush:0915 x 2134mm",
                    "category": "IfcDoor"
                  },
                  "key": "2UMN_OQKrAshZl3dHPukqU"
                },
                {
                  "attributes": {
                    "Description": null,
                    "GlobalId": "2UMN_OQKrAshZl3dHPuj4p",
                    "IfcType": "IfcDoor",
                    "Name": "M_Single-Flush:0915 x 2134mm:157699",
                    "ObjectType": "M_Single-Flush:0915 x 2134mm",
                    "category": "IfcDoor"
                  },
                  "key": "2UMN_OQKrAshZl3dHPuj4p"
                },
                {
                  "attributes": {
                    "Description": null,
                    "GlobalId": "2UMN_OQKrAshZl3dHPukiV",
                    "IfcType": "IfcWallStandardCase",
                    "Name": "Basic Wall:Interior - 138mm Partition (1-hr):152111",
                    "ObjectType": "Basic Wall:Interior - 138mm Partition (1-hr)",
                    "category": "IfcWallStandardCase"
                  },
                  "key": "2UMN_OQKrAshZl3dHPukiV"
                },
                {
                  "attributes": {
                    "Description": null,
                    "GlobalId": "2UMN_OQKrAshZl3dHPujxD",
                    "IfcType": "IfcWallStandardCase",
                    "Name": "Basic Wall:Interior - 138mm Partition (1-hr):157693",
                    "ObjectType": "Basic Wall:Interior - 138mm Partition (1-hr)",
                    "category": "IfcWallStandardCase"
                  },
                  "key": "2UMN_OQKrAshZl3dHPujxD"
                },
                {
                  "attributes": {
                    "Description": null,
                    "GlobalId": "2UMN_OQKrAshZl3dHPuj4r",
                    "IfcType": "IfcWallStandardCase",
                    "Name": "Basic Wall:Interior - 138mm Partition (1-hr):157701",
                    "ObjectType": "Basic Wall:Interior - 138mm Partition (1-hr)",
                    "category": "IfcWallStandardCase"
                  },
                  "key": "2UMN_OQKrAshZl3dHPuj4r"
                },
                {
                  "attributes": {
                    "Description": null,
                    "GlobalId": "2UMN_OQKrAshZl3dHPuj4s",
                    "IfcType": "IfcWallStandardCase",
                    "Name": "Basic Wall:Interior - 138mm Partition (1-hr):157702",
                    "ObjectType": "Basic Wall:Interior - 138mm Partition (1-hr)",
                    "category": "IfcWallStandardCase"
                  },
                  "key": "2UMN_OQKrAshZl3dHPuj4s"
                },
                {
                  "attributes": {
                    "Description": null,
                    "GlobalId": "2UMN_OQKrAshZl3dHPuj4v",
                    "IfcType": "IfcWallStandardCase",
                    "Name": "Basic Wall:Interior - 138mm Partition (1-hr):157705",
                    "ObjectType": "Basic Wall:Interior - 138mm Partition (1-hr)",
                    "category": "IfcWallStandardCase"
                  },
                  "key": "2UMN_OQKrAshZl3dHPuj4v"
                },
                {
                  "attributes": {
                    "Description": null,
                    "GlobalId": "3wh27gpDH7bg434tPIc7De",
                    "IfcType": "IfcColumn",
                    "Name": "M_Concrete-Round-Column:300mm:140990",
                    "ObjectType": "M_Concrete-Round-Column:300mm",
                    "category": "IfcColumn"
                  },
                  "key": "3wh27gpDH7bg434tPIc7De"
                },
                {
                  "attributes": {
                    "Description": null,
                    "GlobalId": "3wh27gpDH7bg434tPIc7Df",
                    "IfcType": "IfcColumn",
                    "Name": "M_Concrete-Round-Column:300mm:140991",
                    "ObjectType": "M_Concrete-Round-Column:300mm",
                    "category": "IfcColumn"
                  },
                  "key": "3wh27gpDH7bg434tPIc7Df"
                },
                {
                  "attributes": {
                    "Description": null,
                    "GlobalId": "2UMN_OQKrAshZl3dHPulJq",
                    "IfcType": "IfcWallStandardCase",
                    "Name": "Basic Wall:Exterior - Insulation on Masonry:150980",
                    "ObjectType": "Basic Wall:Exterior - Insulation on Masonry",
                    "category": "IfcWallStandardCase"
                  },
                  "key": "2UMN_OQKrAshZl3dHPulJq"
                },
                {
                  "attributes": {
                    "Description": null,
                    "GlobalId": "2UMN_OQKrAshZl3dHPuk_g",
                    "IfcType": "IfcWallStandardCase",
                    "Name": "Basic Wall:Interior - 138mm Partition (1-hr):153242",
                    "ObjectType": "Basic Wall:Interior - 138mm Partition (1-hr)",
                    "category": "IfcWallStandardCase"
                  },
                  "key": "2UMN_OQKrAshZl3dHPuk_g"
                },
                {
                  "attributes": {
                    "Description": null,
                    "GlobalId": "2UMN_OQKrAshZl3dHPuj4u",
                    "IfcType": "IfcWallStandardCase",
                    "Name": "Basic Wall:Interior - 138mm Partition (1-hr):157704",
                    "ObjectType": "Basic Wall:Interior - 138mm Partition (1-hr)",
                    "category": "IfcWallStandardCase"
                  },
                  "key": "2UMN_OQKrAshZl3dHPuj4u"
                },
                {
                  "attributes": {
                    "Description": null,
                    "GlobalId": "2UMN_OQKrAshZl3dHPukzw",
                    "IfcType": "IfcWallStandardCase",
                    "Name": "Basic Wall:Interior - 138mm Partition (1-hr):153162",
                    "ObjectType": "Basic Wall:Interior - 138mm Partition (1-hr)",
                    "category": "IfcWallStandardCase"
                  },
                  "key": "2UMN_OQKrAshZl3dHPukzw"
                },
                {
                  "attributes": {
                    "Description": null,
                    "GlobalId": "2UMN_OQKrAshZl3dHPuj4t",
                    "IfcType": "IfcWallStandardCase",
                    "Name": "Basic Wall:Interior - 138mm Partition (1-hr):157703",
                    "ObjectType": "Basic Wall:Interior - 138mm Partition (1-hr)",
                    "category": "IfcWallStandardCase"
                  },
                  "key": "2UMN_OQKrAshZl3dHPuj4t"
                },
                {
                  "attributes": {
                    "Description": null,
                    "GlobalId": "2UMN_OQKrAshZl3dHPukZL",
                    "IfcType": "IfcWallStandardCase",
                    "Name": "Basic Wall:Interior - 138mm Partition (1-hr):152037",
                    "ObjectType": "Basic Wall:Interior - 138mm Partition (1-hr)",
                    "category": "IfcWallStandardCase"
                  },
                  "key": "2UMN_OQKrAshZl3dHPukZL"
                },
                {
                  "attributes": {
                    "Description": null,
                    "GlobalId": "2UMN_OQKrAshZl3dHPujxC",
                    "IfcType": "IfcWallStandardCase",
                    "Name": "Basic Wall:Interior - 138mm Partition (1-hr):157692",
                    "ObjectType": "Basic Wall:Interior - 138mm Partition (1-hr)",
                    "category": "IfcWallStandardCase"
                  },
                  "key": "2UMN_OQKrAshZl3dHPujxC"
                },
                {
                  "attributes": {
                    "Description": null,
                    "GlobalId": "2UMN_OQKrAshZl3dHPulwZ",
                    "IfcType": "IfcWallStandardCase",
                    "Name": "Basic Wall:Interior - 138mm Partition (1-hr):149395",
                    "ObjectType": "Basic Wall:Interior - 138mm Partition (1-hr)",
                    "category": "IfcWallStandardCase"
                  },
                  "key": "2UMN_OQKrAshZl3dHPulwZ"
                },
                {
                  "attributes": {
                    "Description": null,
                    "GlobalId": "2UMN_OQKrAshZl3dHPuluT",
                    "IfcType": "IfcWallStandardCase",
                    "Name": "Basic Wall:Interior - 138mm Partition (1-hr):149293",
                    "ObjectType": "Basic Wall:Interior - 138mm Partition (1-hr)",
                    "category": "IfcWallStandardCase"
                  },
                  "key": "2UMN_OQKrAshZl3dHPuluT"
                },
                {
                  "attributes": {
                    "Description": null,
                    "GlobalId": "2UMN_OQKrAshZl3dHPul4n",
                    "IfcType": "IfcWallStandardCase",
                    "Name": "Basic Wall:Interior - 138mm Partition (1-hr):149505",
                    "ObjectType": "Basic Wall:Interior - 138mm Partition (1-hr)",
                    "category": "IfcWallStandardCase"
                  },
                  "key": "2UMN_OQKrAshZl3dHPul4n"
                },
                {
                  "attributes": {
                    "Description": null,
                    "GlobalId": "2UMN_OQKrAshZl3dHPulCY",
                    "IfcType": "IfcDoor",
                    "Name": "M_Double-Flush:1730 x 2134mm 20 Minute Rated:150034",
                    "ObjectType": "M_Double-Flush:1730 x 2134mm 20 Minute Rated",
                    "category": "IfcDoor"
                  },
                  "key": "2UMN_OQKrAshZl3dHPulCY"
                },
                {
                  "attributes": {
                    "Description": null,
                    "GlobalId": "2UMN_OQKrAshZl3dHPul2H",
                    "IfcType": "IfcDoor",
                    "Name": "M_Double-Flush:1730 x 2134mm:149921",
                    "ObjectType": "M_Double-Flush:1730 x 2134mm",
                    "category": "IfcDoor"
                  },
                  "key": "2UMN_OQKrAshZl3dHPul2H"
                },
                {
                  "attributes": {
                    "Description": null,
                    "GlobalId": "2UMN_OQKrAshZl3dHPulmH",
                    "IfcType": "IfcWallStandardCase",
                    "Name": "Basic Wall:Exterior - Insulation on Masonry:148769",
                    "ObjectType": "Basic Wall:Exterior - Insulation on Masonry",
                    "category": "IfcWallStandardCase"
                  },
                  "key": "2UMN_OQKrAshZl3dHPulmH"
                },
                {
                  "attributes": {
                    "Description": null,
                    "GlobalId": "1fIVuvFffDJRV_SJESOtDf",
                    "IfcType": "IfcWallStandardCase",
                    "Name": "Basic Wall:Exterior - Insulation on Masonry:139857",
                    "ObjectType": "Basic Wall:Exterior - Insulation on Masonry",
                    "category": "IfcWallStandardCase"
                  },
                  "key": "1fIVuvFffDJRV_SJESOtDf"
                },
                {
                  "attributes": {
                    "Description": null,
                    "GlobalId": "2Tt7$hRrHBKvoaUIFPAzbc",
                    "IfcType": "IfcWallStandardCase",
                    "Name": "Basic Wall:Interior - 138mm Partition (1-hr):144180",
                    "ObjectType": "Basic Wall:Interior - 138mm Partition (1-hr)",
                    "category": "IfcWallStandardCase"
                  },
                  "key": "2Tt7$hRrHBKvoaUIFPAzbc"
                },
                {
                  "attributes": {
                    "Description": null,
                    "GlobalId": "2UMN_OQKrAshZl3dHPuiwF",
                    "IfcType": "IfcDoor",
                    "Name": "M_Double-Flush:1730 x 2134mm 20 Minute Rated:161727",
                    "ObjectType": "M_Double-Flush:1730 x 2134mm 20 Minute Rated",
                    "category": "IfcDoor"
                  },
                  "key": "2UMN_OQKrAshZl3dHPuiwF"
                },
                {
                  "attributes": {
                    "Description": null,
                    "GlobalId": "0OCjL9Oi14tu4iiPw9P_IQ",
                    "IfcType": "IfcDoor",
                    "Name": "M_Single-Flush-Dbl Acting:0915 x 2134mm:145999",
                    "ObjectType": "M_Single-Flush-Dbl Acting:0915 x 2134mm",
                    "category": "IfcDoor"
                  },
                  "key": "0OCjL9Oi14tu4iiPw9P_IQ"
                },
                {
                  "attributes": {
                    "Description": null,
                    "GlobalId": "2Tt7$hRrHBKvoaUIFPAzkW",
                    "IfcType": "IfcWallStandardCase",
                    "Name": "Basic Wall:Interior - 138mm Partition (1-hr):143858",
                    "ObjectType": "Basic Wall:Interior - 138mm Partition (1-hr)",
                    "category": "IfcWallStandardCase"
                  },
                  "key": "2Tt7$hRrHBKvoaUIFPAzkW"
                },
                {
                  "attributes": {
                    "Description": null,
                    "GlobalId": "0OCjL9Oi14tu4iiPw9P_OI",
                    "IfcType": "IfcWindow",
                    "Name": "M_Fixed:0915 x 1220mm:145607",
                    "ObjectType": "M_Fixed:0915 x 1220mm",
                    "category": "IfcWindow"
                  },
                  "key": "0OCjL9Oi14tu4iiPw9P_OI"
                },
                {
                  "attributes": {
                    "Description": null,
                    "GlobalId": "0OCjL9Oi14tu4iiPw9P_V6",
                    "IfcType": "IfcWindow",
                    "Name": "M_Fixed:0915 x 1220mm:145683",
                    "ObjectType": "M_Fixed:0915 x 1220mm",
                    "category": "IfcWindow"
                  },
                  "key": "0OCjL9Oi14tu4iiPw9P_V6"
                },
                {
                  "attributes": {
                    "Description": null,
                    "GlobalId": "2Tt7$hRrHBKvoaUIFPAzaq",
                    "IfcType": "IfcWallStandardCase",
                    "Name": "Basic Wall:Interior - 138mm Partition (1-hr):144230",
                    "ObjectType": "Basic Wall:Interior - 138mm Partition (1-hr)",
                    "category": "IfcWallStandardCase"
                  },
                  "key": "2Tt7$hRrHBKvoaUIFPAzaq"
                },
                {
                  "attributes": {
                    "Description": null,
                    "GlobalId": "2Tt7$hRrHBKvoaUIFPAzmj",
                    "IfcType": "IfcWall",
                    "Name": "Basic Wall:Interior - 138mm Partition (1-hr):145023",
                    "ObjectType": "Basic Wall:Interior - 138mm Partition (1-hr)",
                    "category": "IfcWall"
                  },
                  "key": "2Tt7$hRrHBKvoaUIFPAzmj"
                },
                {
                  "attributes": {
                    "Description": null,
                    "GlobalId": "0OCjL9Oi14tu4iiPw9P_Hx",
                    "IfcType": "IfcDoor",
                    "Name": "M_Single-Flush:0915 x 2134mm:146094",
                    "ObjectType": "M_Single-Flush:0915 x 2134mm",
                    "category": "IfcDoor"
                  },
                  "key": "0OCjL9Oi14tu4iiPw9P_Hx"
                },
                {
                  "attributes": {
                    "Description": null,
                    "GlobalId": "2UMN_OQKrAshZl3dHPuigF",
                    "IfcType": "IfcWallStandardCase",
                    "Name": "Basic Wall:Interior - 138mm Partition (1-hr):160703",
                    "ObjectType": "Basic Wall:Interior - 138mm Partition (1-hr)",
                    "category": "IfcWallStandardCase"
                  },
                  "key": "2UMN_OQKrAshZl3dHPuigF"
                },
                {
                  "attributes": {
                    "Description": null,
                    "GlobalId": "2UMN_OQKrAshZl3dHPui_G",
                    "IfcType": "IfcDoor",
                    "Name": "M_Single-Flush:0915 x 2134mm:161440",
                    "ObjectType": "M_Single-Flush:0915 x 2134mm",
                    "category": "IfcDoor"
                  },
                  "key": "2UMN_OQKrAshZl3dHPui_G"
                },
                {
                  "attributes": {
                    "Description": null,
                    "GlobalId": "2UMN_OQKrAshZl3dHPuisf",
                    "IfcType": "IfcWallStandardCase",
                    "Name": "Basic Wall:Interior - 138mm Partition (1-hr):160921",
                    "ObjectType": "Basic Wall:Interior - 138mm Partition (1-hr)",
                    "category": "IfcWallStandardCase"
                  },
                  "key": "2UMN_OQKrAshZl3dHPuisf"
                },
                {
                  "attributes": {
                    "Description": null,
                    "GlobalId": "0OCjL9Oi14tu4iiPw9P_UG",
                    "IfcType": "IfcWindow",
                    "Name": "M_Fixed:0915 x 1220mm:145733",
                    "ObjectType": "M_Fixed:0915 x 1220mm",
                    "category": "IfcWindow"
                  },
                  "key": "0OCjL9Oi14tu4iiPw9P_UG"
                },
                {
                  "attributes": {
                    "Description": null,
                    "GlobalId": "0OCjL9Oi14tu4iiPw9P_TS",
                    "IfcType": "IfcWindow",
                    "Name": "M_Fixed:0915 x 1220mm:145801",
                    "ObjectType": "M_Fixed:0915 x 1220mm",
                    "category": "IfcWindow"
                  },
                  "key": "0OCjL9Oi14tu4iiPw9P_TS"
                },
                {
                  "attributes": {
                    "Description": null,
                    "GlobalId": "0OCjL9Oi14tu4iiPw9P_Tc",
                    "IfcType": "IfcWindow",
                    "Name": "M_Fixed:0915 x 1220mm:145843",
                    "ObjectType": "M_Fixed:0915 x 1220mm",
                    "category": "IfcWindow"
                  },
                  "key": "0OCjL9Oi14tu4iiPw9P_Tc"
                },
                {
                  "attributes": {
                    "Description": null,
                    "GlobalId": "0OCjL9Oi14tu4iiPw9P_Ss",
                    "IfcType": "IfcWindow",
                    "Name": "M_Fixed:0915 x 1220mm:145891",
                    "ObjectType": "M_Fixed:0915 x 1220mm",
                    "category": "IfcWindow"
                  },
                  "key": "0OCjL9Oi14tu4iiPw9P_Ss"
                },
                {
                  "attributes": {
                    "Description": null,
                    "GlobalId": "2Tt7$hRrHBKvoaUIFPAzpC",
                    "IfcType": "IfcWallStandardCase",
                    "Name": "Basic Wall:Interior - 138mm Partition (1-hr):145054",
                    "ObjectType": "Basic Wall:Interior - 138mm Partition (1-hr)",
                    "category": "IfcWallStandardCase"
                  },
                  "key": "2Tt7$hRrHBKvoaUIFPAzpC"
                },
                {
                  "attributes": {
                    "Description": null,
                    "GlobalId": "2Tt7$hRrHBKvoaUIFPAzdp",
                    "IfcType": "IfcWallStandardCase",
                    "Name": "Basic Wall:Interior - 138mm Partition (1-hr):144289",
                    "ObjectType": "Basic Wall:Interior - 138mm Partition (1-hr)",
                    "category": "IfcWallStandardCase"
                  },
                  "key": "2Tt7$hRrHBKvoaUIFPAzdp"
                },
                {
                  "attributes": {
                    "Description": null,
                    "GlobalId": "0OCjL9Oi14tu4iiPw9P_M$",
                    "IfcType": "IfcDoor",
                    "Name": "M_Double-Flush:1830 x 2134mm:146282",
                    "ObjectType": "M_Double-Flush:1830 x 2134mm",
                    "category": "IfcDoor"
                  },
                  "key": "0OCjL9Oi14tu4iiPw9P_M$"
                },
                {
                  "attributes": {
                    "Description": null,
                    "GlobalId": "2UMN_OQKrAshZl3dHPuiii",
                    "IfcType": "IfcWallStandardCase",
                    "Name": "Basic Wall:Interior - 138mm Partition (1-hr):160284",
                    "ObjectType": "Basic Wall:Interior - 138mm Partition (1-hr)",
                    "category": "IfcWallStandardCase"
                  },
                  "key": "2UMN_OQKrAshZl3dHPuiii"
                },
                {
                  "attributes": {
                    "Description": null,
                    "GlobalId": "2UMN_OQKrAshZl3dHPuiuq",
                    "IfcType": "IfcDoor",
                    "Name": "M_Single-Flush:0915 x 2134mm:161540",
                    "ObjectType": "M_Single-Flush:0915 x 2134mm",
                    "category": "IfcDoor"
                  },
                  "key": "2UMN_OQKrAshZl3dHPuiuq"
                },
                {
                  "attributes": {
                    "Description": null,
                    "GlobalId": "0OCjL9Oi14tu4iiPw9P_Gz",
                    "IfcType": "IfcDoor",
                    "Name": "M_Single-Flush:0915 x 2134mm 20 Minute Rated:146152",
                    "ObjectType": "M_Single-Flush:0915 x 2134mm 20 Minute Rated",
                    "category": "IfcDoor"
                  },
                  "key": "0OCjL9Oi14tu4iiPw9P_Gz"
                },
                {
                  "attributes": {
                    "Description": null,
                    "GlobalId": "2Tt7$hRrHBKvoaUIFPAzo7",
                    "IfcType": "IfcWallStandardCase",
                    "Name": "Basic Wall:Interior - 138mm Partition (1-hr):145109",
                    "ObjectType": "Basic Wall:Interior - 138mm Partition (1-hr)",
                    "category": "IfcWallStandardCase"
                  },
                  "key": "2Tt7$hRrHBKvoaUIFPAzo7"
                },
                {
                  "attributes": {
                    "Description": null,
                    "GlobalId": "0OCjL9Oi14tu4iiPw9P_84",
                    "IfcType": "IfcDoor",
                    "Name": "M_Single-Flush:0915 x 2134mm:146641",
                    "ObjectType": "M_Single-Flush:0915 x 2134mm",
                    "category": "IfcDoor"
                  },
                  "key": "0OCjL9Oi14tu4iiPw9P_84"
                },
                {
                  "attributes": {
                    "Description": null,
                    "GlobalId": "2Tt7$hRrHBKvoaUIFPAzr4",
                    "IfcType": "IfcWallStandardCase",
                    "Name": "Basic Wall:Interior - 138mm Partition (1-hr):145174",
                    "ObjectType": "Basic Wall:Interior - 138mm Partition (1-hr)",
                    "category": "IfcWallStandardCase"
                  },
                  "key": "2Tt7$hRrHBKvoaUIFPAzr4"
                },
                {
                  "attributes": {
                    "Description": null,
                    "GlobalId": "0OCjL9Oi14tu4iiPw9P_9M",
                    "IfcType": "IfcDoor",
                    "Name": "M_Single-Flush:0915 x 2134mm:146563",
                    "ObjectType": "M_Single-Flush:0915 x 2134mm",
                    "category": "IfcDoor"
                  },
                  "key": "0OCjL9Oi14tu4iiPw9P_9M"
                },
                {
                  "attributes": {
                    "Description": null,
                    "GlobalId": "2UMN_OQKrAshZl3dHPujxw",
                    "IfcType": "IfcWallStandardCase",
                    "Name": "Basic Wall:Interior - 138mm Partition (1-hr):157642",
                    "ObjectType": "Basic Wall:Interior - 138mm Partition (1-hr)",
                    "category": "IfcWallStandardCase"
                  },
                  "key": "2UMN_OQKrAshZl3dHPujxw"
                },
                {
                  "attributes": {
                    "Description": null,
                    "GlobalId": "0OCjL9Oi14tu4iiPw9P_Lo",
                    "IfcType": "IfcDoor",
                    "Name": "M_Single-Flush:0915 x 2134mm:146343",
                    "ObjectType": "M_Single-Flush:0915 x 2134mm",
                    "category": "IfcDoor"
                  },
                  "key": "0OCjL9Oi14tu4iiPw9P_Lo"
                },
                {
                  "attributes": {
                    "Description": null,
                    "GlobalId": "2Tt7$hRrHBKvoaUIFPAzcA",
                    "IfcType": "IfcWall",
                    "Name": "Basic Wall:Generic - 200mm:144344",
                    "ObjectType": "Basic Wall:Generic - 200mm",
                    "category": "IfcWall"
                  },
                  "key": "2Tt7$hRrHBKvoaUIFPAzcA"
                },
                {
                  "attributes": {
                    "Description": null,
                    "GlobalId": "2Tt7$hRrHBKvoaUIFPAzrf",
                    "IfcType": "IfcWallStandardCase",
                    "Name": "Basic Wall:Interior - 138mm Partition (1-hr):145211",
                    "ObjectType": "Basic Wall:Interior - 138mm Partition (1-hr)",
                    "category": "IfcWallStandardCase"
                  },
                  "key": "2Tt7$hRrHBKvoaUIFPAzrf"
                },
                {
                  "attributes": {
                    "Description": null,
                    "GlobalId": "2UMN_OQKrAshZl3dHPujxx",
                    "IfcType": "IfcWallStandardCase",
                    "Name": "Basic Wall:Interior - 138mm Partition (1-hr):157643",
                    "ObjectType": "Basic Wall:Interior - 138mm Partition (1-hr)",
                    "category": "IfcWallStandardCase"
                  },
                  "key": "2UMN_OQKrAshZl3dHPujxx"
                },
                {
                  "attributes": {
                    "Description": null,
                    "GlobalId": "2Tt7$hRrHBKvoaUIFPAzqz",
                    "IfcType": "IfcWallStandardCase",
                    "Name": "Basic Wall:Interior - 138mm Partition (1-hr):145263",
                    "ObjectType": "Basic Wall:Interior - 138mm Partition (1-hr)",
                    "category": "IfcWallStandardCase"
                  },
                  "key": "2Tt7$hRrHBKvoaUIFPAzqz"
                },
                {
                  "attributes": {
                    "Description": null,
                    "GlobalId": "0OCjL9Oi14tu4iiPw9P_Bc",
                    "IfcType": "IfcDoor",
                    "Name": "M_Single-Flush:0915 x 2134mm:146483",
                    "ObjectType": "M_Single-Flush:0915 x 2134mm",
                    "category": "IfcDoor"
                  },
                  "key": "0OCjL9Oi14tu4iiPw9P_Bc"
                },
                {
                  "attributes": {
                    "Description": null,
                    "GlobalId": "2UMN_OQKrAshZl3dHPujxu",
                    "IfcType": "IfcWallStandardCase",
                    "Name": "Basic Wall:Interior - 138mm Partition (1-hr):157640",
                    "ObjectType": "Basic Wall:Interior - 138mm Partition (1-hr)",
                    "category": "IfcWallStandardCase"
                  },
                  "key": "2UMN_OQKrAshZl3dHPujxu"
                },
                {
                  "attributes": {
                    "Description": null,
                    "GlobalId": "2UMN_OQKrAshZl3dHPujxW",
                    "IfcType": "IfcDoor",
                    "Name": "M_Single-Flush:0915 x 2134mm:157648",
                    "ObjectType": "M_Single-Flush:0915 x 2134mm",
                    "category": "IfcDoor"
                  },
                  "key": "2UMN_OQKrAshZl3dHPujxW"
                },
                {
                  "attributes": {
                    "Description": null,
                    "GlobalId": "2UMN_OQKrAshZl3dHPujxy",
                    "IfcType": "IfcWallStandardCase",
                    "Name": "Basic Wall:Interior - 138mm Partition (1-hr):157644",
                    "ObjectType": "Basic Wall:Interior - 138mm Partition (1-hr)",
                    "category": "IfcWallStandardCase"
                  },
                  "key": "2UMN_OQKrAshZl3dHPujxy"
                },
                {
                  "attributes": {
                    "Description": null,
                    "GlobalId": "2UbFLyEvP7xerhn6sJH67p",
                    "IfcType": "IfcWallStandardCase",
                    "Name": "Basic Wall:Exterior - Insulation on Masonry:182328",
                    "ObjectType": "Basic Wall:Exterior - Insulation on Masonry",
                    "category": "IfcWallStandardCase"
                  },
                  "key": "2UbFLyEvP7xerhn6sJH67p"
                },
                {
                  "attributes": {
                    "Description": null,
                    "GlobalId": "0OCjL9Oi14tu4iiPw9P_FW",
                    "IfcType": "IfcDoor",
                    "Name": "M_Single-Flush:0915 x 2134mm:146741",
                    "ObjectType": "M_Single-Flush:0915 x 2134mm",
                    "category": "IfcDoor"
                  },
                  "key": "0OCjL9Oi14tu4iiPw9P_FW"
                },
                {
                  "attributes": {
                    "Description": null,
                    "GlobalId": "2UMN_OQKrAshZl3dHPukU_",
                    "IfcType": "IfcDoor",
                    "Name": "M_Single-Flush:0915 x 2134mm:155278",
                    "ObjectType": "M_Single-Flush:0915 x 2134mm",
                    "category": "IfcDoor"
                  },
                  "key": "2UMN_OQKrAshZl3dHPukU_"
                },
                {
                  "attributes": {
                    "Description": null,
                    "GlobalId": "2UMN_OQKrAshZl3dHPuk8B",
                    "IfcType": "IfcWallStandardCase",
                    "Name": "Basic Wall:Exterior - Insulation on Masonry:154427",
                    "ObjectType": "Basic Wall:Exterior - Insulation on Masonry",
                    "category": "IfcWallStandardCase"
                  },
                  "key": "2UMN_OQKrAshZl3dHPuk8B"
                },
                {
                  "attributes": {
                    "Description": null,
                    "GlobalId": "3n9ek_acHEfRCBQHch6_iT",
                    "IfcType": "IfcCurtainWall",
                    "Name": "Curtain Wall:Exterior Curtain Wall:169402",
                    "ObjectType": "Curtain Wall:Exterior Curtain Wall",
                    "category": "IfcCurtainWall"
                  },
                  "key": "3n9ek_acHEfRCBQHch6_iT"
                },
                {
                  "attributes": {
                    "Description": null,
                    "GlobalId": "2UMN_OQKrAshZl3dHPuj1O",
                    "IfcType": "IfcWallStandardCase",
                    "Name": "Basic Wall:Interior - 138mm Partition (1-hr):158056",
                    "ObjectType": "Basic Wall:Interior - 138mm Partition (1-hr)",
                    "category": "IfcWallStandardCase"
                  },
                  "key": "2UMN_OQKrAshZl3dHPuj1O"
                },
                {
                  "attributes": {
                    "Description": null,
                    "GlobalId": "2UMN_OQKrAshZl3dHPujDv",
                    "IfcType": "IfcWallStandardCase",
                    "Name": "Basic Wall:Interior - 138mm Partition (1-hr):158281",
                    "ObjectType": "Basic Wall:Interior - 138mm Partition (1-hr)",
                    "category": "IfcWallStandardCase"
                  },
                  "key": "2UMN_OQKrAshZl3dHPujDv"
                },
                {
                  "attributes": {
                    "Description": null,
                    "GlobalId": "3wh27gpDH7bg434tPIc79b",
                    "IfcType": "IfcColumn",
                    "Name": "M_Concrete-Round-Column:300mm:141235",
                    "ObjectType": "M_Concrete-Round-Column:300mm",
                    "category": "IfcColumn"
                  },
                  "key": "3wh27gpDH7bg434tPIc79b"
                },
                {
                  "attributes": {
                    "Description": null,
                    "GlobalId": "3wh27gpDH7bg434tPIc79Y",
                    "IfcType": "IfcColumn",
                    "Name": "M_Concrete-Round-Column:300mm:141236",
                    "ObjectType": "M_Concrete-Round-Column:300mm",
                    "category": "IfcColumn"
                  },
                  "key": "3wh27gpDH7bg434tPIc79Y"
                },
                {
                  "attributes": {
                    "Description": null,
                    "GlobalId": "2UMN_OQKrAshZl3dHPujEs",
                    "IfcType": "IfcWallStandardCase",
                    "Name": "Basic Wall:Interior - 138mm Partition (1-hr):158342",
                    "ObjectType": "Basic Wall:Interior - 138mm Partition (1-hr)",
                    "category": "IfcWallStandardCase"
                  },
                  "key": "2UMN_OQKrAshZl3dHPujEs"
                },
                {
                  "attributes": {
                    "Description": null,
                    "GlobalId": "2UMN_OQKrAshZl3dHPujFq",
                    "IfcType": "IfcWallStandardCase",
                    "Name": "Basic Wall:Interior - 138mm Partition (1-hr):158404",
                    "ObjectType": "Basic Wall:Interior - 138mm Partition (1-hr)",
                    "category": "IfcWallStandardCase"
                  },
                  "key": "2UMN_OQKrAshZl3dHPujFq"
                },
                {
                  "attributes": {
                    "Description": null,
                    "GlobalId": "2UMN_OQKrAshZl3dHPujFI",
                    "IfcType": "IfcWallStandardCase",
                    "Name": "Basic Wall:Interior - 138mm Partition (1-hr):158434",
                    "ObjectType": "Basic Wall:Interior - 138mm Partition (1-hr)",
                    "category": "IfcWallStandardCase"
                  },
                  "key": "2UMN_OQKrAshZl3dHPujFI"
                },
                {
                  "attributes": {
                    "Description": null,
                    "GlobalId": "2UMN_OQKrAshZl3dHPuj8X",
                    "IfcType": "IfcWallStandardCase",
                    "Name": "Basic Wall:Interior - 138mm Partition (1-hr):158481",
                    "ObjectType": "Basic Wall:Interior - 138mm Partition (1-hr)",
                    "category": "IfcWallStandardCase"
                  },
                  "key": "2UMN_OQKrAshZl3dHPuj8X"
                },
                {
                  "attributes": {
                    "Description": null,
                    "GlobalId": "2UMN_OQKrAshZl3dHPuj9m",
                    "IfcType": "IfcWallStandardCase",
                    "Name": "Basic Wall:Interior - 138mm Partition (1-hr):158528",
                    "ObjectType": "Basic Wall:Interior - 138mm Partition (1-hr)",
                    "category": "IfcWallStandardCase"
                  },
                  "key": "2UMN_OQKrAshZl3dHPuj9m"
                },
                {
                  "attributes": {
                    "Description": null,
                    "GlobalId": "3wh27gpDH7bg434tPIc79o",
                    "IfcType": "IfcColumn",
                    "Name": "M_Concrete-Round-Column:300mm:141220",
                    "ObjectType": "M_Concrete-Round-Column:300mm",
                    "category": "IfcColumn"
                  },
                  "key": "3wh27gpDH7bg434tPIc79o"
                },
                {
                  "attributes": {
                    "Description": null,
                    "GlobalId": "3wh27gpDH7bg434tPIc79p",
                    "IfcType": "IfcColumn",
                    "Name": "M_Concrete-Round-Column:300mm:141221",
                    "ObjectType": "M_Concrete-Round-Column:300mm",
                    "category": "IfcColumn"
                  },
                  "key": "3wh27gpDH7bg434tPIc79p"
                },
                {
                  "attributes": {
                    "Description": null,
                    "GlobalId": "2UMN_OQKrAshZl3dHPuji$",
                    "IfcType": "IfcWallStandardCase",
                    "Name": "Basic Wall:Generic - 225mm Concrete:156175",
                    "ObjectType": "Basic Wall:Generic - 225mm Concrete",
                    "category": "IfcWallStandardCase"
                  },
                  "key": "2UMN_OQKrAshZl3dHPuji$"
                },
                {
                  "attributes": {
                    "Description": null,
                    "GlobalId": "2UMN_OQKrAshZl3dHPujQC",
                    "IfcType": "IfcDoor",
                    "Name": "M_Single-Flush:0915 x 2134mm 20 Minute Rated:159676",
                    "ObjectType": "M_Single-Flush:0915 x 2134mm 20 Minute Rated",
                    "category": "IfcDoor"
                  },
                  "key": "2UMN_OQKrAshZl3dHPujQC"
                },
                {
                  "attributes": {
                    "Description": null,
                    "GlobalId": "2UMN_OQKrAshZl3dHPujVp",
                    "IfcType": "IfcWallStandardCase",
                    "Name": "Basic Wall:Interior - 138mm Partition (1-hr):159427",
                    "ObjectType": "Basic Wall:Interior - 138mm Partition (1-hr)",
                    "category": "IfcWallStandardCase"
                  },
                  "key": "2UMN_OQKrAshZl3dHPujVp"
                },
                {
                  "attributes": {
                    "Description": null,
                    "GlobalId": "2UMN_OQKrAshZl3dHPui7N",
                    "IfcType": "IfcCurtainWall",
                    "Name": "Curtain Wall:Storefront:162023",
                    "ObjectType": "Curtain Wall:Storefront",
                    "category": "IfcCurtainWall"
                  },
                  "key": "2UMN_OQKrAshZl3dHPui7N"
                },
                {
                  "attributes": {
                    "Description": null,
                    "GlobalId": "2UMN_OQKrAshZl3dHPujGR",
                    "IfcType": "IfcWallStandardCase",
                    "Name": "Basic Wall:Interior - 138mm Partition (1-hr):159019",
                    "ObjectType": "Basic Wall:Interior - 138mm Partition (1-hr)",
                    "category": "IfcWallStandardCase"
                  },
                  "key": "2UMN_OQKrAshZl3dHPujGR"
                },
                {
                  "attributes": {
                    "Description": null,
                    "GlobalId": "2UMN_OQKrAshZl3dHPujSp",
                    "IfcType": "IfcWallStandardCase",
                    "Name": "Basic Wall:Interior - 138mm Partition (1-hr):159235",
                    "ObjectType": "Basic Wall:Interior - 138mm Partition (1-hr)",
                    "category": "IfcWallStandardCase"
                  },
                  "key": "2UMN_OQKrAshZl3dHPujSp"
                },
                {
                  "attributes": {
                    "Description": null,
                    "GlobalId": "2UMN_OQKrAshZl3dHPujJL",
                    "IfcType": "IfcWallStandardCase",
                    "Name": "Basic Wall:Interior - 138mm Partition (1-hr):159205",
                    "ObjectType": "Basic Wall:Interior - 138mm Partition (1-hr)",
                    "category": "IfcWallStandardCase"
                  },
                  "key": "2UMN_OQKrAshZl3dHPujJL"
                },
                {
                  "attributes": {
                    "Description": null,
                    "GlobalId": "2UMN_OQKrAshZl3dHPujTb",
                    "IfcType": "IfcWallStandardCase",
                    "Name": "Basic Wall:Interior - 138mm Partition (1-hr):159317",
                    "ObjectType": "Basic Wall:Interior - 138mm Partition (1-hr)",
                    "category": "IfcWallStandardCase"
                  },
                  "key": "2UMN_OQKrAshZl3dHPujTb"
                },
                {
                  "attributes": {
                    "Description": null,
                    "GlobalId": "2UMN_OQKrAshZl3dHPuiaC",
                    "IfcType": "IfcDoor",
                    "Name": "M_Single-Flush:0915 x 2134mm:159804",
                    "ObjectType": "M_Single-Flush:0915 x 2134mm",
                    "category": "IfcDoor"
                  },
                  "key": "2UMN_OQKrAshZl3dHPuiaC"
                },
                {
                  "attributes": {
                    "Description": null,
                    "GlobalId": "3wh27gpDH7bg434tPIc79Q",
                    "IfcType": "IfcColumn",
                    "Name": "M_Concrete-Round-Column:300mm:141196",
                    "ObjectType": "M_Concrete-Round-Column:300mm",
                    "category": "IfcColumn"
                  },
                  "key": "3wh27gpDH7bg434tPIc79Q"
                },
                {
                  "attributes": {
                    "Description": null,
                    "GlobalId": "3wh27gpDH7bg434tPIc79l",
                    "IfcType": "IfcColumn",
                    "Name": "M_Concrete-Round-Column:300mm:141241",
                    "ObjectType": "M_Concrete-Round-Column:300mm",
                    "category": "IfcColumn"
                  },
                  "key": "3wh27gpDH7bg434tPIc79l"
                },
                {
                  "attributes": {
                    "Description": null,
                    "GlobalId": "2UMN_OQKrAshZl3dHPuic8",
                    "IfcType": "IfcWallStandardCase",
                    "Name": "Basic Wall:Interior - 138mm Partition (1-hr):159928",
                    "ObjectType": "Basic Wall:Interior - 138mm Partition (1-hr)",
                    "category": "IfcWallStandardCase"
                  },
                  "key": "2UMN_OQKrAshZl3dHPuic8"
                },
                {
                  "attributes": {
                    "Description": null,
                    "GlobalId": "2UMN_OQKrAshZl3dHPuiiF",
                    "IfcType": "IfcWallStandardCase",
                    "Name": "Basic Wall:Interior - 138mm Partition (1-hr):160319",
                    "ObjectType": "Basic Wall:Interior - 138mm Partition (1-hr)",
                    "category": "IfcWallStandardCase"
                  },
                  "key": "2UMN_OQKrAshZl3dHPuiiF"
                },
                {
                  "attributes": {
                    "Description": null,
                    "GlobalId": "2UMN_OQKrAshZl3dHPuikh",
                    "IfcType": "IfcWallStandardCase",
                    "Name": "Basic Wall:Interior - 138mm Partition (1-hr):160411",
                    "ObjectType": "Basic Wall:Interior - 138mm Partition (1-hr)",
                    "category": "IfcWallStandardCase"
                  },
                  "key": "2UMN_OQKrAshZl3dHPuikh"
                },
                {
                  "attributes": {
                    "Description": null,
                    "GlobalId": "2UMN_OQKrAshZl3dHPuiW_",
                    "IfcType": "IfcWallStandardCase",
                    "Name": "Basic Wall:Interior - 138mm Partition (1-hr):160014",
                    "ObjectType": "Basic Wall:Interior - 138mm Partition (1-hr)",
                    "category": "IfcWallStandardCase"
                  },
                  "key": "2UMN_OQKrAshZl3dHPuiW_"
                },
                {
                  "attributes": {
                    "Description": null,
                    "GlobalId": "2UMN_OQKrAshZl3dHPuivY",
                    "IfcType": "IfcDoor",
                    "Name": "M_Single-Flush:0915 x 2134mm:161618",
                    "ObjectType": "M_Single-Flush:0915 x 2134mm",
                    "category": "IfcDoor"
                  },
                  "key": "2UMN_OQKrAshZl3dHPuivY"
                },
                {
                  "attributes": {
                    "Description": null,
                    "GlobalId": "2UMN_OQKrAshZl3dHPuirV",
                    "IfcType": "IfcWallStandardCase",
                    "Name": "Basic Wall:Interior - 138mm Partition (1-hr):160879",
                    "ObjectType": "Basic Wall:Interior - 138mm Partition (1-hr)",
                    "category": "IfcWallStandardCase"
                  },
                  "key": "2UMN_OQKrAshZl3dHPuirV"
                },
                {
                  "attributes": {
                    "Description": null,
                    "GlobalId": "2UMN_OQKrAshZl3dHPuigb",
                    "IfcType": "IfcWallStandardCase",
                    "Name": "Basic Wall:Interior - 138mm Partition (1-hr):160661",
                    "ObjectType": "Basic Wall:Interior - 138mm Partition (1-hr)",
                    "category": "IfcWallStandardCase"
                  },
                  "key": "2UMN_OQKrAshZl3dHPuigb"
                },
                {
                  "attributes": {
                    "Description": null,
                    "GlobalId": "2UMN_OQKrAshZl3dHPuihB",
                    "IfcType": "IfcWallStandardCase",
                    "Name": "Basic Wall:Interior - 138mm Partition (1-hr):160763",
                    "ObjectType": "Basic Wall:Interior - 138mm Partition (1-hr)",
                    "category": "IfcWallStandardCase"
                  },
                  "key": "2UMN_OQKrAshZl3dHPuihB"
                },
                {
                  "attributes": {
                    "Description": null,
                    "GlobalId": "0H1nVTTAv6LhM6_nm3wfaE",
                    "IfcType": "IfcWindow",
                    "Name": "M_Fixed:0915 x 1220mm:198996",
                    "ObjectType": "M_Fixed:0915 x 1220mm",
                    "category": "IfcWindow"
                  },
                  "key": "0H1nVTTAv6LhM6_nm3wfaE"
                },
                {
                  "attributes": {
                    "Description": null,
                    "GlobalId": "0H1nVTTAv6LhM6_nm3wfdT",
                    "IfcType": "IfcWindow",
                    "Name": "M_Fixed:0915 x 1220mm:199047",
                    "ObjectType": "M_Fixed:0915 x 1220mm",
                    "category": "IfcWindow"
                  },
                  "key": "0H1nVTTAv6LhM6_nm3wfdT"
                },
                {
                  "attributes": {
                    "Description": null,
                    "GlobalId": "0H1nVTTAv6LhM6_nm3wfdZ",
                    "IfcType": "IfcWindow",
                    "Name": "M_Fixed:0915 x 1220mm:199097",
                    "ObjectType": "M_Fixed:0915 x 1220mm",
                    "category": "IfcWindow"
                  },
                  "key": "0H1nVTTAv6LhM6_nm3wfdZ"
                },
                {
                  "attributes": {
                    "Description": null,
                    "GlobalId": "0H1nVTTAv6LhM6_nm3wfc$",
                    "IfcType": "IfcWindow",
                    "Name": "M_Fixed:0915 x 1220mm:199141",
                    "ObjectType": "M_Fixed:0915 x 1220mm",
                    "category": "IfcWindow"
                  },
                  "key": "0H1nVTTAv6LhM6_nm3wfc$"
                },
                {
                  "attributes": {
                    "Description": null,
                    "GlobalId": "0H1nVTTAv6LhM6_nm3wff9",
                    "IfcType": "IfcWindow",
                    "Name": "M_Fixed:0915 x 1220mm:199187",
                    "ObjectType": "M_Fixed:0915 x 1220mm",
                    "category": "IfcWindow"
                  },
                  "key": "0H1nVTTAv6LhM6_nm3wff9"
                },
                {
                  "attributes": {
                    "Description": null,
                    "GlobalId": "3wh27gpDH7bg434tPIc79q",
                    "IfcType": "IfcColumn",
                    "Name": "M_Concrete-Round-Column:300mm:141218",
                    "ObjectType": "M_Concrete-Round-Column:300mm",
                    "category": "IfcColumn"
                  },
                  "key": "3wh27gpDH7bg434tPIc79q"
                },
                {
                  "attributes": {
                    "Description": null,
                    "GlobalId": "2UMN_OQKrAshZl3dHPuiYc",
                    "IfcType": "IfcWallStandardCase",
                    "Name": "Basic Wall:Interior - 138mm Partition (1-hr):160150",
                    "ObjectType": "Basic Wall:Interior - 138mm Partition (1-hr)",
                    "category": "IfcWallStandardCase"
                  },
                  "key": "2UMN_OQKrAshZl3dHPuiYc"
                },
                {
                  "attributes": {
                    "Description": null,
                    "GlobalId": "2UMN_OQKrAshZl3dHPuimM",
                    "IfcType": "IfcWallStandardCase",
                    "Name": "Basic Wall:Interior - 138mm Partition (1-hr):161062",
                    "ObjectType": "Basic Wall:Interior - 138mm Partition (1-hr)",
                    "category": "IfcWallStandardCase"
                  },
                  "key": "2UMN_OQKrAshZl3dHPuimM"
                },
                {
                  "attributes": {
                    "Description": null,
                    "GlobalId": "2UMN_OQKrAshZl3dHPuiy6",
                    "IfcType": "IfcDoor",
                    "Name": "M_Single-Flush:0915 x 2134mm:161334",
                    "ObjectType": "M_Single-Flush:0915 x 2134mm",
                    "category": "IfcDoor"
                  },
                  "key": "2UMN_OQKrAshZl3dHPuiy6"
                },
                {
                  "attributes": {
                    "Description": null,
                    "GlobalId": "0H1nVTTAv6LhM6_nm3wffh",
                    "IfcType": "IfcWindow",
                    "Name": "M_Fixed:0915 x 1220mm:199217",
                    "ObjectType": "M_Fixed:0915 x 1220mm",
                    "category": "IfcWindow"
                  },
                  "key": "0H1nVTTAv6LhM6_nm3wffh"
                },
                {
                  "attributes": {
                    "Description": null,
                    "GlobalId": "2UMN_OQKrAshZl3dHPuiZQ",
                    "IfcType": "IfcWallStandardCase",
                    "Name": "Basic Wall:Interior - 138mm Partition (1-hr):160234",
                    "ObjectType": "Basic Wall:Interior - 138mm Partition (1-hr)",
                    "category": "IfcWallStandardCase"
                  },
                  "key": "2UMN_OQKrAshZl3dHPuiZQ"
                },
                {
                  "attributes": {
                    "Description": null,
                    "GlobalId": "2UMN_OQKrAshZl3dHPuip0",
                    "IfcType": "IfcDoor",
                    "Name": "M_Single-Flush:0915 x 2134mm:161264",
                    "ObjectType": "M_Single-Flush:0915 x 2134mm",
                    "category": "IfcDoor"
                  },
                  "key": "2UMN_OQKrAshZl3dHPuip0"
                },
                {
                  "attributes": {
                    "Description": null,
                    "GlobalId": "0H1nVTTAv6LhM6_nm3wfeD",
                    "IfcType": "IfcWindow",
                    "Name": "M_Fixed:0915 x 1220mm:199255",
                    "ObjectType": "M_Fixed:0915 x 1220mm",
                    "category": "IfcWindow"
                  },
                  "key": "0H1nVTTAv6LhM6_nm3wfeD"
                },
                {
                  "attributes": {
                    "Description": null,
                    "GlobalId": "0H1nVTTAv6LhM6_nm3wfeX",
                    "IfcType": "IfcWindow",
                    "Name": "M_Fixed:0915 x 1220mm:199291",
                    "ObjectType": "M_Fixed:0915 x 1220mm",
                    "category": "IfcWindow"
                  },
                  "key": "0H1nVTTAv6LhM6_nm3wfeX"
                },
                {
                  "attributes": {
                    "Description": null,
                    "GlobalId": "0H1nVTTAv6LhM6_nm3wfhF",
                    "IfcType": "IfcWindow",
                    "Name": "M_Fixed:0915 x 1220mm:199317",
                    "ObjectType": "M_Fixed:0915 x 1220mm",
                    "category": "IfcWindow"
                  },
                  "key": "0H1nVTTAv6LhM6_nm3wfhF"
                },
                {
                  "attributes": {
                    "Description": null,
                    "GlobalId": "2UMN_OQKrAshZl3dHPuim7",
                    "IfcType": "IfcDoor",
                    "Name": "M_Single-Flush:0915 x 2134mm:161079",
                    "ObjectType": "M_Single-Flush:0915 x 2134mm",
                    "category": "IfcDoor"
                  },
                  "key": "2UMN_OQKrAshZl3dHPuim7"
                },
                {
                  "attributes": {
                    "Description": null,
                    "GlobalId": "3n9ek_acHEfRCBQHch6_Wb",
                    "IfcType": "IfcCurtainWall",
                    "Name": "Curtain Wall:Exterior Curtain Wall:169602",
                    "ObjectType": "Curtain Wall:Exterior Curtain Wall",
                    "category": "IfcCurtainWall"
                  },
                  "key": "3n9ek_acHEfRCBQHch6_Wb"
                },
                {
                  "attributes": {
                    "Description": null,
                    "GlobalId": "1fIVuvFffDJRV_SJESOtCD",
                    "IfcType": "IfcSlab",
                    "Name": "Floor:Hollow Core Plank - Concrete Topping:139829",
                    "ObjectType": "Floor:Hollow Core Plank - Concrete Topping",
                    "category": "IfcSlab"
                  },
                  "key": "1fIVuvFffDJRV_SJESOtCD"
                },
                {
                  "attributes": {
                    "Description": null,
                    "GlobalId": "2UMN_OQKrAshZl3dHPuj6a",
                    "IfcType": "IfcWallStandardCase",
                    "Name": "Basic Wall:Interior - 138mm Partition (1-hr):157844",
                    "ObjectType": "Basic Wall:Interior - 138mm Partition (1-hr)",
                    "category": "IfcWallStandardCase"
                  },
                  "key": "2UMN_OQKrAshZl3dHPuj6a"
                },
                {
                  "attributes": {
                    "Description": null,
                    "GlobalId": "2UMN_OQKrAshZl3dHPuZch",
                    "IfcType": "IfcDoor",
                    "Name": "M_Single-Flush:0915 x 2134mm:163995",
                    "ObjectType": "M_Single-Flush:0915 x 2134mm",
                    "category": "IfcDoor"
                  },
                  "key": "2UMN_OQKrAshZl3dHPuZch"
                },
                {
                  "attributes": {
                    "Description": null,
                    "GlobalId": "2UMN_OQKrAshZl3dHPuj2u",
                    "IfcType": "IfcWallStandardCase",
                    "Name": "Basic Wall:Interior - 138mm Partition (1-hr):158088",
                    "ObjectType": "Basic Wall:Interior - 138mm Partition (1-hr)",
                    "category": "IfcWallStandardCase"
                  },
                  "key": "2UMN_OQKrAshZl3dHPuj2u"
                },
                {
                  "attributes": {
                    "Description": null,
                    "GlobalId": "2UMN_OQKrAshZl3dHPuZbj",
                    "IfcType": "IfcDoor",
                    "Name": "M_Single-Flush:0915 x 2134mm:163933",
                    "ObjectType": "M_Single-Flush:0915 x 2134mm",
                    "category": "IfcDoor"
                  },
                  "key": "2UMN_OQKrAshZl3dHPuZbj"
                },
                {
                  "attributes": {
                    "Description": null,
                    "GlobalId": "2UMN_OQKrAshZl3dHPuiR1",
                    "IfcType": "IfcDoor",
                    "Name": "M_Single-Flush:0915 x 2134mm:163825",
                    "ObjectType": "M_Single-Flush:0915 x 2134mm",
                    "category": "IfcDoor"
                  },
                  "key": "2UMN_OQKrAshZl3dHPuiR1"
                },
                {
                  "attributes": {
                    "Description": null,
                    "GlobalId": "2UMN_OQKrAshZl3dHPuZah",
                    "IfcType": "IfcDoor",
                    "Name": "M_Single-Flush:0915 x 2134mm:163867",
                    "ObjectType": "M_Single-Flush:0915 x 2134mm",
                    "category": "IfcDoor"
                  },
                  "key": "2UMN_OQKrAshZl3dHPuZah"
                },
                {
                  "attributes": {
                    "Description": null,
                    "GlobalId": "2UMN_OQKrAshZl3dHPuiUy",
                    "IfcType": "IfcWallStandardCase",
                    "Name": "Basic Wall:Interior - 138mm Partition (1-hr):163468",
                    "ObjectType": "Basic Wall:Interior - 138mm Partition (1-hr)",
                    "category": "IfcWallStandardCase"
                  },
                  "key": "2UMN_OQKrAshZl3dHPuiUy"
                },
                {
                  "attributes": {
                    "Description": null,
                    "GlobalId": "2UMN_OQKrAshZl3dHPuiQN",
                    "IfcType": "IfcDoor",
                    "Name": "M_Single-Flush:0915 x 2134mm:163751",
                    "ObjectType": "M_Single-Flush:0915 x 2134mm",
                    "category": "IfcDoor"
                  },
                  "key": "2UMN_OQKrAshZl3dHPuiQN"
                },
                {
                  "attributes": {
                    "Description": null,
                    "GlobalId": "2UMN_OQKrAshZl3dHPuiR$",
                    "IfcType": "IfcDoor",
                    "Name": "M_Single-Flush:0915 x 2134mm:163791",
                    "ObjectType": "M_Single-Flush:0915 x 2134mm",
                    "category": "IfcDoor"
                  },
                  "key": "2UMN_OQKrAshZl3dHPuiR$"
                },
                {
                  "attributes": {
                    "Description": null,
                    "GlobalId": "2UMN_OQKrAshZl3dHPuiUL",
                    "IfcType": "IfcWallStandardCase",
                    "Name": "Basic Wall:Interior - 138mm Partition (1-hr):163493",
                    "ObjectType": "Basic Wall:Interior - 138mm Partition (1-hr)",
                    "category": "IfcWallStandardCase"
                  },
                  "key": "2UMN_OQKrAshZl3dHPuiUL"
                },
                {
                  "attributes": {
                    "Description": null,
                    "GlobalId": "2UMN_OQKrAshZl3dHPuiO5",
                    "IfcType": "IfcDoor",
                    "Name": "M_Single-Flush:0915 x 2134mm:163637",
                    "ObjectType": "M_Single-Flush:0915 x 2134mm",
                    "category": "IfcDoor"
                  },
                  "key": "2UMN_OQKrAshZl3dHPuiO5"
                },
                {
                  "attributes": {
                    "Description": null,
                    "GlobalId": "2UMN_OQKrAshZl3dHPuiP9",
                    "IfcType": "IfcDoor",
                    "Name": "M_Single-Flush:0915 x 2134mm:163705",
                    "ObjectType": "M_Single-Flush:0915 x 2134mm",
                    "category": "IfcDoor"
                  },
                  "key": "2UMN_OQKrAshZl3dHPuiP9"
                },
                {
                  "attributes": {
                    "Description": null,
                    "GlobalId": "2UMN_OQKrAshZl3dHPuiVr",
                    "IfcType": "IfcWallStandardCase",
                    "Name": "Basic Wall:Interior - 138mm Partition (1-hr):163525",
                    "ObjectType": "Basic Wall:Interior - 138mm Partition (1-hr)",
                    "category": "IfcWallStandardCase"
                  },
                  "key": "2UMN_OQKrAshZl3dHPuiVr"
                },
                {
                  "attributes": {
                    "Description": null,
                    "GlobalId": "3wh27gpDH7bg434tPIc78y",
                    "IfcType": "IfcColumn",
                    "Name": "M_Concrete-Round-Column:300mm:141290",
                    "ObjectType": "M_Concrete-Round-Column:300mm",
                    "category": "IfcColumn"
                  },
                  "key": "3wh27gpDH7bg434tPIc78y"
                },
                {
                  "attributes": {
                    "Description": null,
                    "GlobalId": "3wh27gpDH7bg434tPIc78z",
                    "IfcType": "IfcColumn",
                    "Name": "M_Concrete-Round-Column:300mm:141291",
                    "ObjectType": "M_Concrete-Round-Column:300mm",
                    "category": "IfcColumn"
                  },
                  "key": "3wh27gpDH7bg434tPIc78z"
                },
                {
                  "attributes": {
                    "Description": null,
                    "GlobalId": "2UMN_OQKrAshZl3dHPuj6u",
                    "IfcType": "IfcWallStandardCase",
                    "Name": "Basic Wall:Interior - 138mm Partition (1-hr):157832",
                    "ObjectType": "Basic Wall:Interior - 138mm Partition (1-hr)",
                    "category": "IfcWallStandardCase"
                  },
                  "key": "2UMN_OQKrAshZl3dHPuj6u"
                },
                {
                  "attributes": {
                    "Description": null,
                    "GlobalId": "2UMN_OQKrAshZl3dHPuiOp",
                    "IfcType": "IfcDoor",
                    "Name": "M_Single-Flush:0915 x 2134mm:163587",
                    "ObjectType": "M_Single-Flush:0915 x 2134mm",
                    "category": "IfcDoor"
                  },
                  "key": "2UMN_OQKrAshZl3dHPuiOp"
                },
                {
                  "attributes": {
                    "Description": null,
                    "GlobalId": "2UMN_OQKrAshZl3dHPuj6v",
                    "IfcType": "IfcWall",
                    "Name": "Basic Wall:Interior - 138mm Partition (1-hr):157833",
                    "ObjectType": "Basic Wall:Interior - 138mm Partition (1-hr)",
                    "category": "IfcWall"
                  },
                  "key": "2UMN_OQKrAshZl3dHPuj6v"
                },
                {
                  "attributes": {
                    "Description": null,
                    "GlobalId": "2UMN_OQKrAshZl3dHPuj6_",
                    "IfcType": "IfcDoor",
                    "Name": "M_Single-Flush:0915 x 2134mm:157838",
                    "ObjectType": "M_Single-Flush:0915 x 2134mm",
                    "category": "IfcDoor"
                  },
                  "key": "2UMN_OQKrAshZl3dHPuj6_"
                },
                {
                  "attributes": {
                    "Description": null,
                    "GlobalId": "2UMN_OQKrAshZl3dHPuj6Y",
                    "IfcType": "IfcWallStandardCase",
                    "Name": "Basic Wall:Interior - 138mm Partition (1-hr):157842",
                    "ObjectType": "Basic Wall:Interior - 138mm Partition (1-hr)",
                    "category": "IfcWallStandardCase"
                  },
                  "key": "2UMN_OQKrAshZl3dHPuj6Y"
                },
                {
                  "attributes": {
                    "Description": null,
                    "GlobalId": "2UMN_OQKrAshZl3dHPuj6z",
                    "IfcType": "IfcDoor",
                    "Name": "M_Single-Flush:0915 x 2134mm:157837",
                    "ObjectType": "M_Single-Flush:0915 x 2134mm",
                    "category": "IfcDoor"
                  },
                  "key": "2UMN_OQKrAshZl3dHPuj6z"
                },
                {
                  "attributes": {
                    "Description": null,
                    "GlobalId": "2UMN_OQKrAshZl3dHPuj6X",
                    "IfcType": "IfcWallStandardCase",
                    "Name": "Basic Wall:Interior - 138mm Partition (1-hr):157841",
                    "ObjectType": "Basic Wall:Interior - 138mm Partition (1-hr)",
                    "category": "IfcWallStandardCase"
                  },
                  "key": "2UMN_OQKrAshZl3dHPuj6X"
                },
                {
                  "attributes": {
                    "Description": null,
                    "GlobalId": "2UMN_OQKrAshZl3dHPuj6t",
                    "IfcType": "IfcWallStandardCase",
                    "Name": "Basic Wall:Interior - 138mm Partition (1-hr):157831",
                    "ObjectType": "Basic Wall:Interior - 138mm Partition (1-hr)",
                    "category": "IfcWallStandardCase"
                  },
                  "key": "2UMN_OQKrAshZl3dHPuj6t"
                },
                {
                  "attributes": {
                    "Description": null,
                    "GlobalId": "2UMN_OQKrAshZl3dHPuj6s",
                    "IfcType": "IfcWallStandardCase",
                    "Name": "Basic Wall:Interior - 138mm Partition (1-hr):157830",
                    "ObjectType": "Basic Wall:Interior - 138mm Partition (1-hr)",
                    "category": "IfcWallStandardCase"
                  },
                  "key": "2UMN_OQKrAshZl3dHPuj6s"
                },
                {
                  "attributes": {
                    "Description": null,
                    "GlobalId": "2UMN_OQKrAshZl3dHPuj5Z",
                    "IfcType": "IfcWallStandardCase",
                    "Name": "Basic Wall:Interior - 138mm Partition (1-hr):157779",
                    "ObjectType": "Basic Wall:Interior - 138mm Partition (1-hr)",
                    "category": "IfcWallStandardCase"
                  },
                  "key": "2UMN_OQKrAshZl3dHPuj5Z"
                },
                {
                  "attributes": {
                    "Description": null,
                    "GlobalId": "2UMN_OQKrAshZl3dHPuj6w",
                    "IfcType": "IfcDoor",
                    "Name": "M_Single-Flush:0915 x 2134mm:157834",
                    "ObjectType": "M_Single-Flush:0915 x 2134mm",
                    "category": "IfcDoor"
                  },
                  "key": "2UMN_OQKrAshZl3dHPuj6w"
                },
                {
                  "attributes": {
                    "Description": null,
                    "GlobalId": "2UMN_OQKrAshZl3dHPuj6x",
                    "IfcType": "IfcDoor",
                    "Name": "M_Single-Flush:0915 x 2134mm 20 Minute Rated:157835",
                    "ObjectType": "M_Single-Flush:0915 x 2134mm 20 Minute Rated",
                    "category": "IfcDoor"
                  },
                  "key": "2UMN_OQKrAshZl3dHPuj6x"
                },
                {
                  "attributes": {
                    "Description": null,
                    "GlobalId": "2UMN_OQKrAshZl3dHPuZW0",
                    "IfcType": "IfcWallStandardCase",
                    "Name": "Basic Wall:Interior - 138mm Partition (1-hr):164144",
                    "ObjectType": "Basic Wall:Interior - 138mm Partition (1-hr)",
                    "category": "IfcWallStandardCase"
                  },
                  "key": "2UMN_OQKrAshZl3dHPuZW0"
                },
                {
                  "attributes": {
                    "Description": null,
                    "GlobalId": "2UMN_OQKrAshZl3dHPuZrI",
                    "IfcType": "IfcDoor",
                    "Name": "M_Single-Flush:0915 x 2134mm:164962",
                    "ObjectType": "M_Single-Flush:0915 x 2134mm",
                    "category": "IfcDoor"
                  },
                  "key": "2UMN_OQKrAshZl3dHPuZrI"
                },
                {
                  "attributes": {
                    "Description": null,
                    "GlobalId": "2UMN_OQKrAshZl3dHPuj5V",
                    "IfcType": "IfcWallStandardCase",
                    "Name": "Basic Wall:Interior - 138mm Partition (1-hr):157807",
                    "ObjectType": "Basic Wall:Interior - 138mm Partition (1-hr)",
                    "category": "IfcWallStandardCase"
                  },
                  "key": "2UMN_OQKrAshZl3dHPuj5V"
                },
                {
                  "attributes": {
                    "Description": null,
                    "GlobalId": "2UMN_OQKrAshZl3dHPuZq9",
                    "IfcType": "IfcDoor",
                    "Name": "M_Single-Flush:0915 x 2134mm:164921",
                    "ObjectType": "M_Single-Flush:0915 x 2134mm",
                    "category": "IfcDoor"
                  },
                  "key": "2UMN_OQKrAshZl3dHPuZq9"
                },
                {
                  "attributes": {
                    "Description": null,
                    "GlobalId": "2UMN_OQKrAshZl3dHPuZYN",
                    "IfcType": "IfcWallStandardCase",
                    "Name": "Basic Wall:Interior - 138mm Partition (1-hr):164263",
                    "ObjectType": "Basic Wall:Interior - 138mm Partition (1-hr)",
                    "category": "IfcWallStandardCase"
                  },
                  "key": "2UMN_OQKrAshZl3dHPuZYN"
                },
                {
                  "attributes": {
                    "Description": null,
                    "GlobalId": "2UMN_OQKrAshZl3dHPuZqr",
                    "IfcType": "IfcDoor",
                    "Name": "M_Single-Flush Vision:0915 x 2134mm:164869",
                    "ObjectType": "M_Single-Flush Vision:0915 x 2134mm",
                    "category": "IfcDoor"
                  },
                  "key": "2UMN_OQKrAshZl3dHPuZqr"
                },
                {
                  "attributes": {
                    "Description": null,
                    "GlobalId": "2UMN_OQKrAshZl3dHPuZZ_",
                    "IfcType": "IfcWallStandardCase",
                    "Name": "Basic Wall:Interior - 138mm Partition (1-hr):164302",
                    "ObjectType": "Basic Wall:Interior - 138mm Partition (1-hr)",
                    "category": "IfcWallStandardCase"
                  },
                  "key": "2UMN_OQKrAshZl3dHPuZZ_"
                },
                {
                  "attributes": {
                    "Description": null,
                    "GlobalId": "2UMN_OQKrAshZl3dHPuZgG",
                    "IfcType": "IfcDoor",
                    "Name": "M_Single-Flush Vision:0915 x 2134mm:164768",
                    "ObjectType": "M_Single-Flush Vision:0915 x 2134mm",
                    "category": "IfcDoor"
                  },
                  "key": "2UMN_OQKrAshZl3dHPuZgG"
                },
                {
                  "attributes": {
                    "Description": null,
                    "GlobalId": "2UMN_OQKrAshZl3dHPuZsd",
                    "IfcType": "IfcWallStandardCase",
                    "Name": "Basic Wall:Interior - 138mm Partition (1-hr):165015",
                    "ObjectType": "Basic Wall:Interior - 138mm Partition (1-hr)",
                    "category": "IfcWallStandardCase"
                  },
                  "key": "2UMN_OQKrAshZl3dHPuZsd"
                },
                {
                  "attributes": {
                    "Description": null,
                    "GlobalId": "2UMN_OQKrAshZl3dHPuZZ9",
                    "IfcType": "IfcWallStandardCase",
                    "Name": "Basic Wall:Interior - 138mm Partition (1-hr):164345",
                    "ObjectType": "Basic Wall:Interior - 138mm Partition (1-hr)",
                    "category": "IfcWallStandardCase"
                  },
                  "key": "2UMN_OQKrAshZl3dHPuZZ9"
                },
                {
                  "attributes": {
                    "Description": null,
                    "GlobalId": "2UMN_OQKrAshZl3dHPuZtI",
                    "IfcType": "IfcDoor",
                    "Name": "M_Single-Flush:0915 x 2134mm:165090",
                    "ObjectType": "M_Single-Flush:0915 x 2134mm",
                    "category": "IfcDoor"
                  },
                  "key": "2UMN_OQKrAshZl3dHPuZtI"
                },
                {
                  "attributes": {
                    "Description": null,
                    "GlobalId": "2UMN_OQKrAshZl3dHPuZfo",
                    "IfcType": "IfcDoor",
                    "Name": "M_Single-Flush:0915 x 2134mm 20 Minute Rated:164674",
                    "ObjectType": "M_Single-Flush:0915 x 2134mm 20 Minute Rated",
                    "category": "IfcDoor"
                  },
                  "key": "2UMN_OQKrAshZl3dHPuZfo"
                },
                {
                  "attributes": {
                    "Description": null,
                    "GlobalId": "2UMN_OQKrAshZl3dHPuZeY",
                    "IfcType": "IfcDoor",
                    "Name": "M_Single-Flush Vision:0915 x 2134mm:164626",
                    "ObjectType": "M_Single-Flush Vision:0915 x 2134mm",
                    "category": "IfcDoor"
                  },
                  "key": "2UMN_OQKrAshZl3dHPuZeY"
                },
                {
                  "attributes": {
                    "Description": null,
                    "GlobalId": "2UMN_OQKrAshZl3dHPuZlc",
                    "IfcType": "IfcDoor",
                    "Name": "M_Single-Flush Vision:0915 x 2134mm:164566",
                    "ObjectType": "M_Single-Flush Vision:0915 x 2134mm",
                    "category": "IfcDoor"
                  },
                  "key": "2UMN_OQKrAshZl3dHPuZlc"
                },
                {
                  "attributes": {
                    "Description": null,
                    "GlobalId": "2UMN_OQKrAshZl3dHPuj5Y",
                    "IfcType": "IfcWallStandardCase",
                    "Name": "Basic Wall:Interior - 138mm Partition (1-hr):157778",
                    "ObjectType": "Basic Wall:Interior - 138mm Partition (1-hr)",
                    "category": "IfcWallStandardCase"
                  },
                  "key": "2UMN_OQKrAshZl3dHPuj5Y"
                },
                {
                  "attributes": {
                    "Description": null,
                    "GlobalId": "2UMN_OQKrAshZl3dHPuZp8",
                    "IfcType": "IfcDoor",
                    "Name": "M_Double-Glass 1:1830 x 2134mm:165368",
                    "ObjectType": "M_Double-Glass 1:1830 x 2134mm",
                    "category": "IfcDoor"
                  },
                  "key": "2UMN_OQKrAshZl3dHPuZp8"
                },
                {
                  "attributes": {
                    "Description": null,
                    "GlobalId": "2UMN_OQKrAshZl3dHPuZ_b",
                    "IfcType": "IfcDoor",
                    "Name": "M_Single-Glass 1:0915 x 2134mm:165525",
                    "ObjectType": "M_Single-Glass 1:0915 x 2134mm",
                    "category": "IfcDoor"
                  },
                  "key": "2UMN_OQKrAshZl3dHPuZ_b"
                },
                {
                  "attributes": {
                    "Description": null,
                    "GlobalId": "2UMN_OQKrAshZl3dHPuZij",
                    "IfcType": "IfcWallStandardCase",
                    "Name": "Basic Wall:Interior - 138mm Partition (1-hr):164381",
                    "ObjectType": "Basic Wall:Interior - 138mm Partition (1-hr)",
                    "category": "IfcWallStandardCase"
                  },
                  "key": "2UMN_OQKrAshZl3dHPuZij"
                },
                {
                  "attributes": {
                    "Description": null,
                    "GlobalId": "2UMN_OQKrAshZl3dHPuZjn",
                    "IfcType": "IfcWallStandardCase",
                    "Name": "Basic Wall:Interior - 138mm Partition (1-hr):164417",
                    "ObjectType": "Basic Wall:Interior - 138mm Partition (1-hr)",
                    "category": "IfcWallStandardCase"
                  },
                  "key": "2UMN_OQKrAshZl3dHPuZjn"
                },
                {
                  "attributes": {
                    "Description": null,
                    "GlobalId": "2UMN_OQKrAshZl3dHPuZjw",
                    "IfcType": "IfcDoor",
                    "Name": "M_Single-Flush:0915 x 2134mm:164426",
                    "ObjectType": "M_Single-Flush:0915 x 2134mm",
                    "category": "IfcDoor"
                  },
                  "key": "2UMN_OQKrAshZl3dHPuZjw"
                },
                {
                  "attributes": {
                    "Description": null,
                    "GlobalId": "2UMN_OQKrAshZl3dHPuZny",
                    "IfcType": "IfcWallStandardCase",
                    "Name": "Basic Wall:Interior - 138mm Partition (1-hr):165196",
                    "ObjectType": "Basic Wall:Interior - 138mm Partition (1-hr)",
                    "category": "IfcWallStandardCase"
                  },
                  "key": "2UMN_OQKrAshZl3dHPuZny"
                },
                {
                  "attributes": {
                    "Description": null,
                    "GlobalId": "2UMN_OQKrAshZl3dHPuZn5",
                    "IfcType": "IfcWallStandardCase",
                    "Name": "Basic Wall:Interior - 138mm Partition (1-hr):165237",
                    "ObjectType": "Basic Wall:Interior - 138mm Partition (1-hr)",
                    "category": "IfcWallStandardCase"
                  },
                  "key": "2UMN_OQKrAshZl3dHPuZn5"
                },
                {
                  "attributes": {
                    "Description": null,
                    "GlobalId": "2UMN_OQKrAshZl3dHPuZn6",
                    "IfcType": "IfcWallStandardCase",
                    "Name": "Basic Wall:Interior - 138mm Partition (1-hr):165238",
                    "ObjectType": "Basic Wall:Interior - 138mm Partition (1-hr)",
                    "category": "IfcWallStandardCase"
                  },
                  "key": "2UMN_OQKrAshZl3dHPuZn6"
                },
                {
                  "attributes": {
                    "Description": null,
                    "GlobalId": "2UMN_OQKrAshZl3dHPuZn7",
                    "IfcType": "IfcWallStandardCase",
                    "Name": "Basic Wall:Interior - 138mm Partition (1-hr):165239",
                    "ObjectType": "Basic Wall:Interior - 138mm Partition (1-hr)",
                    "category": "IfcWallStandardCase"
                  },
                  "key": "2UMN_OQKrAshZl3dHPuZn7"
                },
                {
                  "attributes": {
                    "Description": null,
                    "GlobalId": "2UMN_OQKrAshZl3dHPuZzc",
                    "IfcType": "IfcDoor",
                    "Name": "M_Double-Flush:1730 x 2134mm 20 Minute Rated:165462",
                    "ObjectType": "M_Double-Flush:1730 x 2134mm 20 Minute Rated",
                    "category": "IfcDoor"
                  },
                  "key": "2UMN_OQKrAshZl3dHPuZzc"
                },
                {
                  "attributes": {
                    "Description": null,
                    "GlobalId": "0H1nVTTAv6LhM6_nm3wfgQ",
                    "IfcType": "IfcWindow",
                    "Name": "M_Fixed:0915 x 1220mm:199360",
                    "ObjectType": "M_Fixed:0915 x 1220mm",
                    "category": "IfcWindow"
                  },
                  "key": "0H1nVTTAv6LhM6_nm3wfgQ"
                },
                {
                  "attributes": {
                    "Description": null,
                    "GlobalId": "0H1nVTTAv6LhM6_nm3wfgm",
                    "IfcType": "IfcWindow",
                    "Name": "M_Fixed:0915 x 1220mm:199402",
                    "ObjectType": "M_Fixed:0915 x 1220mm",
                    "category": "IfcWindow"
                  },
                  "key": "0H1nVTTAv6LhM6_nm3wfgm"
                },
                {
                  "attributes": {
                    "Description": null,
                    "GlobalId": "0H1nVTTAv6LhM6_nm3wfjM",
                    "IfcType": "IfcWindow",
                    "Name": "M_Fixed:0915 x 1220mm:199436",
                    "ObjectType": "M_Fixed:0915 x 1220mm",
                    "category": "IfcWindow"
                  },
                  "key": "0H1nVTTAv6LhM6_nm3wfjM"
                },
                {
                  "attributes": {
                    "Description": null,
                    "GlobalId": "0H1nVTTAv6LhM6_nm3wfjs",
                    "IfcType": "IfcWindow",
                    "Name": "M_Fixed:0915 x 1220mm:199468",
                    "ObjectType": "M_Fixed:0915 x 1220mm",
                    "category": "IfcWindow"
                  },
                  "key": "0H1nVTTAv6LhM6_nm3wfjs"
                },
                {
                  "attributes": {
                    "Description": null,
                    "GlobalId": "2UMN_OQKrAshZl3dHPuZpU",
                    "IfcType": "IfcWallStandardCase",
                    "Name": "Basic Wall:Interior - 138mm Partition (1-hr):165358",
                    "ObjectType": "Basic Wall:Interior - 138mm Partition (1-hr)",
                    "category": "IfcWallStandardCase"
                  },
                  "key": "2UMN_OQKrAshZl3dHPuZpU"
                },
                {
                  "attributes": {
                    "Description": null,
                    "GlobalId": "2UMN_OQKrAshZl3dHPuZ$p",
                    "IfcType": "IfcDoor",
                    "Name": "M_Single-Flush:0915 x 2134mm:165571",
                    "ObjectType": "M_Single-Flush:0915 x 2134mm",
                    "category": "IfcDoor"
                  },
                  "key": "2UMN_OQKrAshZl3dHPuZ$p"
                },
                {
                  "attributes": {
                    "Description": null,
                    "GlobalId": "0H1nVTTAv6LhM6_nm3wfiC",
                    "IfcType": "IfcWindow",
                    "Name": "M_Fixed:0915 x 1220mm:199510",
                    "ObjectType": "M_Fixed:0915 x 1220mm",
                    "category": "IfcWindow"
                  },
                  "key": "0H1nVTTAv6LhM6_nm3wfiC"
                },
                {
                  "attributes": {
                    "Description": null,
                    "GlobalId": "0H1nVTTAv6LhM6_nm3wflS",
                    "IfcType": "IfcWindow",
                    "Name": "M_Fixed:0915 x 1220mm:199558",
                    "ObjectType": "M_Fixed:0915 x 1220mm",
                    "category": "IfcWindow"
                  },
                  "key": "0H1nVTTAv6LhM6_nm3wflS"
                },
                {
                  "attributes": {
                    "Description": null,
                    "GlobalId": "0H1nVTTAv6LhM6_nm3wflw",
                    "IfcType": "IfcWindow",
                    "Name": "M_Fixed:0915 x 1220mm:199584",
                    "ObjectType": "M_Fixed:0915 x 1220mm",
                    "category": "IfcWindow"
                  },
                  "key": "0H1nVTTAv6LhM6_nm3wflw"
                },
                {
                  "attributes": {
                    "Description": null,
                    "GlobalId": "0H1nVTTAv6LhM6_nm3wfla",
                    "IfcType": "IfcWindow",
                    "Name": "M_Fixed:0915 x 1220mm:199614",
                    "ObjectType": "M_Fixed:0915 x 1220mm",
                    "category": "IfcWindow"
                  },
                  "key": "0H1nVTTAv6LhM6_nm3wfla"
                },
                {
                  "attributes": {
                    "Description": null,
                    "GlobalId": "0H1nVTTAv6LhM6_nm3wfk2",
                    "IfcType": "IfcWindow",
                    "Name": "M_Fixed:0915 x 1220mm:199640",
                    "ObjectType": "M_Fixed:0915 x 1220mm",
                    "category": "IfcWindow"
                  },
                  "key": "0H1nVTTAv6LhM6_nm3wfk2"
                },
                {
                  "attributes": {
                    "Description": null,
                    "GlobalId": "2UMN_OQKrAshZl3dHPuj5b",
                    "IfcType": "IfcWallStandardCase",
                    "Name": "Basic Wall:Interior - 138mm Partition (1-hr):157781",
                    "ObjectType": "Basic Wall:Interior - 138mm Partition (1-hr)",
                    "category": "IfcWallStandardCase"
                  },
                  "key": "2UMN_OQKrAshZl3dHPuj5b"
                },
                {
                  "attributes": {
                    "Description": null,
                    "GlobalId": "2UMN_OQKrAshZl3dHPuj5a",
                    "IfcType": "IfcWallStandardCase",
                    "Name": "Basic Wall:Interior - 138mm Partition (1-hr):157780",
                    "ObjectType": "Basic Wall:Interior - 138mm Partition (1-hr)",
                    "category": "IfcWallStandardCase"
                  },
                  "key": "2UMN_OQKrAshZl3dHPuj5a"
                },
                {
                  "attributes": {
                    "Description": null,
                    "GlobalId": "2UMN_OQKrAshZl3dHPuZuz",
                    "IfcType": "IfcDoor",
                    "Name": "M_Single-Flush:0915 x 2134mm:165645",
                    "ObjectType": "M_Single-Flush:0915 x 2134mm",
                    "category": "IfcDoor"
                  },
                  "key": "2UMN_OQKrAshZl3dHPuZuz"
                },
                {
                  "attributes": {
                    "Description": null,
                    "GlobalId": "2UMN_OQKrAshZl3dHPuj5c",
                    "IfcType": "IfcWallStandardCase",
                    "Name": "Basic Wall:Interior - 138mm Partition (1-hr):157782",
                    "ObjectType": "Basic Wall:Interior - 138mm Partition (1-hr)",
                    "category": "IfcWallStandardCase"
                  },
                  "key": "2UMN_OQKrAshZl3dHPuj5c"
                },
                {
                  "attributes": {
                    "Description": null,
                    "GlobalId": "2UMN_OQKrAshZl3dHPuj5g",
                    "IfcType": "IfcDoor",
                    "Name": "M_Single-Flush:0915 x 2134mm:157786",
                    "ObjectType": "M_Single-Flush:0915 x 2134mm",
                    "category": "IfcDoor"
                  },
                  "key": "2UMN_OQKrAshZl3dHPuj5g"
                }
              ],
              "options": {
                "multi": false,
                "type": "undirected"
              }
            },
            "edge_weight": "weight",
            "height": "500px",
            "layout": {
              "0H1nVTTAv6LhM6_nm3wfaE": {
                "x": 0.8165772268386919,
                "y": 0.9995221567154153
              },
              "0H1nVTTAv6LhM6_nm3wfc$": {
                "x": 0.18118544130850858,
                "y": 0.995961170738345
              },
              "0H1nVTTAv6LhM6_nm3wfdT": {
                "x": 0.9706912425582446,
                "y": 0.4813685699885901
              },
              "0H1nVTTAv6LhM6_nm3wfdZ": {
                "x": 0.245869863330896,
                "y": 0.6327011408697578
              },
              "0H1nVTTAv6LhM6_nm3wfeD": {
                "x": 0.8143137974303064,
                "y": 0.041141310420925684
              },
              "0H1nVTTAv6LhM6_nm3wfeX": {
                "x": 0.5417547812894993,
                "y": 0.9321368392753371
              },
              "0H1nVTTAv6LhM6_nm3wff9": {
                "x": 0.8125560180146711,
                "y": 0.7906427782422965
              },
              "0H1nVTTAv6LhM6_nm3wffh": {
                "x": 0.6356598380865199,
                "y": 0.45610867452444553
              },
              "0H1nVTTAv6LhM6_nm3wfgQ": {
                "x": 0.21661792647726413,
                "y": 0.862901376312542
              },
              "0H1nVTTAv6LhM6_nm3wfgm": {
                "x": 0.08185448124707326,
                "y": 0.7270705561786287
              },
              "0H1nVTTAv6LhM6_nm3wfhF": {
                "x": 0.3187344950169701,
                "y": 0.6971802836502526
              },
              "0H1nVTTAv6LhM6_nm3wfiC": {
                "x": 0.8568050521470973,
                "y": 0.952340985885583
              },
              "0H1nVTTAv6LhM6_nm3wfjM": {
                "x": 0.7346579584117142,
                "y": 0.5780131822042314
              },
              "0H1nVTTAv6LhM6_nm3wfjs": {
                "x": 0.2540985193700443,
                "y": 0.31672792071571576
              },
              "0H1nVTTAv6LhM6_nm3wfk2": {
                "x": 0.41915608153352363,
                "y": 0.31630866926764384
              },
              "0H1nVTTAv6LhM6_nm3wflS": {
                "x": 0.893749375593442,
                "y": 0.7020113924177062
              },
              "0H1nVTTAv6LhM6_nm3wfla": {
                "x": 0.7953014475850169,
                "y": 0.42556932460838254
              },
              "0H1nVTTAv6LhM6_nm3wflw": {
                "x": 0.5599303923679111,
                "y": 0.5752885581640521
              },
              "0OCjL9Oi14tu4iiPw9P_84": {
                "x": 0.5154740450615513,
                "y": 0.6517290218484948
              },
              "0OCjL9Oi14tu4iiPw9P_9M": {
                "x": 0.21688262574209466,
                "y": 0.9565681457357618
              },
              "0OCjL9Oi14tu4iiPw9P_Bc": {
                "x": 0.1278137156884512,
                "y": 0.9956403170043987
              },
              "0OCjL9Oi14tu4iiPw9P_FW": {
                "x": 0.8303623575564816,
                "y": 0.7399274422627362
              },
              "0OCjL9Oi14tu4iiPw9P_Gz": {
                "x": 0.4684131054261017,
                "y": 0.8212329029013835
              },
              "0OCjL9Oi14tu4iiPw9P_Hx": {
                "x": 0.48247677484081747,
                "y": 0.6964013766836206
              },
              "0OCjL9Oi14tu4iiPw9P_IQ": {
                "x": 0.3492145680139079,
                "y": 0.4375592493231707
              },
              "0OCjL9Oi14tu4iiPw9P_Lo": {
                "x": 0.5518595267910686,
                "y": 0.3876338209287942
              },
              "0OCjL9Oi14tu4iiPw9P_M$": {
                "x": 0.14845109132229928,
                "y": 0.7395306828273877
              },
              "0OCjL9Oi14tu4iiPw9P_OI": {
                "x": 0.15718274415116507,
                "y": 0.9331259260092729
              },
              "0OCjL9Oi14tu4iiPw9P_Ss": {
                "x": 0.8089516973944877,
                "y": 0.8296735874098882
              },
              "0OCjL9Oi14tu4iiPw9P_TS": {
                "x": 0.28440808423606523,
                "y": 0.9023331090531603
              },
              "0OCjL9Oi14tu4iiPw9P_Tc": {
                "x": 0.885892330933386,
                "y": 0.7829688351230375
              },
              "0OCjL9Oi14tu4iiPw9P_UG": {
                "x": 0.10681126568624051,
                "y": 0.11211116269146174
              },
              "0OCjL9Oi14tu4iiPw9P_V6": {
                "x": 0.16731638434578375,
                "y": 0.11752271454287974
              },
              "1DRIgGmAHBt9Ugpf6z41P$": {
                "x": 0.6094470559659438,
                "y": 0.5631239195755232
              },
              "1DRIgGmAHBt9Ugpf6z41P_": {
                "x": 0.26073010035072935,
                "y": 0.5772736573669458
              },
              "1DRIgGmAHBt9Ugpf6z41Pu": {
                "x": 0.18058146654834936,
                "y": 0.770062816692311
              },
              "1DRIgGmAHBt9Ugpf6z41Pv": {
                "x": 0.7578625898470147,
                "y": 0.5424202312778309
              },
              "1GE3M13VHAWxhxwcp39Ei$": {
                "x": 0.17898877761019927,
                "y": 0.7423470400617883
              },
              "1GE3M13VHAWxhxwcp39EiG": {
                "x": 0.19290933687632567,
                "y": 0.5507513853687954
              },
              "1GE3M13VHAWxhxwcp39EiH": {
                "x": 0.9388512412625218,
                "y": 0.4202011229550135
              },
              "1GE3M13VHAWxhxwcp39EiI": {
                "x": 0.6648696591608955,
                "y": 0.2771631331049608
              },
              "1GE3M13VHAWxhxwcp39EiJ": {
                "x": 0.5762050567157171,
                "y": 0.8675055755423209
              },
              "1GE3M13VHAWxhxwcp39EiK": {
                "x": 0.6178053192816517,
                "y": 0.6820744741878634
              },
              "1GE3M13VHAWxhxwcp39EiL": {
                "x": 0.9153738228544446,
                "y": 0.8146601187658415
              },
              "1GE3M13VHAWxhxwcp39EiM": {
                "x": 0.9903121819953321,
                "y": 0.8396316085367288
              },
              "1GE3M13VHAWxhxwcp39EiN": {
                "x": 0.899447997714133,
                "y": 0.9174842837776478
              },
              "1GE3M13VHAWxhxwcp39EiX": {
                "x": 0.6517501069627378,
                "y": 0.3711104926111498
              },
              "1GE3M13VHAWxhxwcp39EiY": {
                "x": 0.2111467647774474,
                "y": 0.09947058602301147
              },
              "1GE3M13VHAWxhxwcp39EiZ": {
                "x": 0.599929496786351,
                "y": 0.0787483076490472
              },
              "1GE3M13VHAWxhxwcp39Ei_": {
                "x": 0.536310160588477,
                "y": 0.6607164922702594
              },
              "1GE3M13VHAWxhxwcp39Eib": {
                "x": 0.40559004582969205,
                "y": 0.8051142792853555
              },
              "1GE3M13VHAWxhxwcp39Eic": {
                "x": 0.2755987667745767,
                "y": 0.4476774839346224
              },
              "1GE3M13VHAWxhxwcp39Eid": {
                "x": 0.692315680725632,
                "y": 0.22264914856719326
              },
              "1GE3M13VHAWxhxwcp39Eie": {
                "x": 0.09606122757327866,
                "y": 0.9439512536142676
              },
              "1GE3M13VHAWxhxwcp39Eif": {
                "x": 0.9420932357578089,
                "y": 0.9492478535538105
              },
              "1GE3M13VHAWxhxwcp39Eig": {
                "x": 0.10060633047656747,
                "y": 0.2743234705841764
              },
              "1GE3M13VHAWxhxwcp39Eih": {
                "x": 0.9986165908231301,
                "y": 0.7337777626358047
              },
              "1GE3M13VHAWxhxwcp39Eii": {
                "x": 0.8692163042898542,
                "y": 0.057695617745493095
              },
              "1GE3M13VHAWxhxwcp39Eij": {
                "x": 0.5204078971266999,
                "y": 0.5260697341972731
              },
              "1GE3M13VHAWxhxwcp39Eik": {
                "x": 0.25573721555965384,
                "y": 0.4088724813190393
              },
              "1GE3M13VHAWxhxwcp39Eil": {
                "x": 0.5090945503764583,
                "y": 0.9307895945490127
              },
              "1GE3M13VHAWxhxwcp39Eiu": {
                "x": 0.7654569574501733,
                "y": 0.2409002179776765
              },
              "1GE3M13VHAWxhxwcp39Eiv": {
                "x": 0.3750092524652347,
                "y": 0.43898357292952234
              },
              "1GE3M13VHAWxhxwcp39Eiw": {
                "x": 0.8666364121438902,
                "y": 0.3612731622048909
              },
              "1GE3M13VHAWxhxwcp39Eix": {
                "x": 0.686974614630136,
                "y": 0.44860358368004677
              },
              "1GE3M13VHAWxhxwcp39Eiy": {
                "x": 0.769957924239728,
                "y": 0.46211034020112557
              },
              "1GE3M13VHAWxhxwcp39Eiz": {
                "x": 0.4923045147706771,
                "y": 0.7549328770522359
              },
              "1GE3M13VHAWxhxwcp39Emh": {
                "x": 0.15428948876230283,
                "y": 0.25273986629959766
              },
              "1Rlu17Ctf6ZvZdq3UgKRVD": {
                "x": 0.22504399193079747,
                "y": 0.17069927527201634
              },
              "1fIVuvFffDJRV_SJESOtCD": {
                "x": 0.06360582045178394,
                "y": 0.4615278992674035
              },
              "1fIVuvFffDJRV_SJESOtCZ": {
                "x": 0.2703892041864883,
                "y": 0.6759003873954499
              },
              "1fIVuvFffDJRV_SJESOtDf": {
                "x": 0.7876615592009044,
                "y": 0.5389204228639888
              },
              "1fIVuvFffDJRV_SJESOtDs": {
                "x": 0.8900373670567566,
                "y": 0.22333445327658788
              },
              "1wJoqPkIP4J8fINgm5A1m1": {
                "x": 0.13822133094998462,
                "y": 0.41886767523198437
              },
              "1wJoqPkIP4J8fINgm5A1m3": {
                "x": 0.6079758049027818,
                "y": 0.4147243460340405
              },
              "1wJoqPkIP4J8fINgm5A1mC": {
                "x": 0.9682816642147358,
                "y": 0.5924228572300914
              },
              "1wJoqPkIP4J8fINgm5A1mL": {
                "x": 0.9832358566814454,
                "y": 0.954883282313717
              },
              "1wJoqPkIP4J8fINgm5A1mP": {
                "x": 0.7915892851341129,
                "y": 0.8152450105875191
              },
              "1wJoqPkIP4J8fINgm5A1mR": {
                "x": 0.6670957342420621,
                "y": 0.0012274136212179678
              },
              "1wJoqPkIP4J8fINgm5A1mT": {
                "x": 0.7367335326960082,
                "y": 0.4996813379824222
              },
              "1wJoqPkIP4J8fINgm5A1mV": {
                "x": 0.1786763377304173,
                "y": 0.529026521014159
              },
              "1wJoqPkIP4J8fINgm5A1mm": {
                "x": 0.6123738005831657,
                "y": 0.5110111826940507
              },
              "1wJoqPkIP4J8fINgm5A1mo": {
                "x": 0.7648170805446797,
                "y": 0.93325409529744
              },
              "1wJoqPkIP4J8fINgm5A1ms": {
                "x": 0.49037196061553434,
                "y": 0.26763500475175406
              },
              "1wJoqPkIP4J8fINgm5A1pD": {
                "x": 0.303291879600934,
                "y": 0.30467321437928235
              },
              "1wJoqPkIP4J8fINgm5A1pF": {
                "x": 0.08694571560555965,
                "y": 0.5327989938263605
              },
              "1wJoqPkIP4J8fINgm5A1pR": {
                "x": 0.9098890304369359,
                "y": 0.6390804198803987
              },
              "1wJoqPkIP4J8fINgm5A1pZ": {
                "x": 0.8537345095497052,
                "y": 0.3477818687987646
              },
              "1wJoqPkIP4J8fINgm5A1pa": {
                "x": 0.002520173828169123,
                "y": 0.37155097548884203
              },
              "1wJoqPkIP4J8fINgm5A1pe": {
                "x": 0.16741275271244022,
                "y": 0.7091321212008789
              },
              "1wJoqPkIP4J8fINgm5A1pg": {
                "x": 0.681654775995279,
                "y": 0.22589119062398147
              },
              "1wJoqPkIP4J8fINgm5A1pi": {
                "x": 0.30820623270812464,
                "y": 0.9184414208844136
              },
              "1wJoqPkIP4J8fINgm5A1pk": {
                "x": 0.6089704252413558,
                "y": 0.0729123419694472
              },
              "1wJoqPkIP4J8fINgm5A1pn": {
                "x": 0.9905457657693613,
                "y": 0.3734914833920755
              },
              "1wJoqPkIP4J8fINgm5A1pp": {
                "x": 0.9654880339006194,
                "y": 0.46456103859458114
              },
              "1wJoqPkIP4J8fINgm5A1pr": {
                "x": 0.995400247777354,
                "y": 0.8220316600354676
              },
              "1wJoqPkIP4J8fINgm5A1pt": {
                "x": 0.9846899877176596,
                "y": 0.7087176306000762
              },
              "2Tt7$hRrHBKvoaUIFPAzZX": {
                "x": 0.5611797323534832,
                "y": 0.06595448019459503
              },
              "2Tt7$hRrHBKvoaUIFPAz_N": {
                "x": 0.0035618562262673785,
                "y": 0.4507044670398784
              },
              "2Tt7$hRrHBKvoaUIFPAzaq": {
                "x": 0.9091792135780943,
                "y": 0.8898776543658486
              },
              "2Tt7$hRrHBKvoaUIFPAzbc": {
                "x": 0.9238474058685234,
                "y": 0.5128892682481622
              },
              "2Tt7$hRrHBKvoaUIFPAzcA": {
                "x": 0.9563600637027609,
                "y": 0.28945957524495103
              },
              "2Tt7$hRrHBKvoaUIFPAzdp": {
                "x": 0.12974800813317633,
                "y": 0.6316589625488145
              },
              "2Tt7$hRrHBKvoaUIFPAzkW": {
                "x": 0.7336650816563451,
                "y": 0.1474147462341018
              },
              "2Tt7$hRrHBKvoaUIFPAzmj": {
                "x": 0.9341843285972472,
                "y": 0.6796310764564362
              },
              "2Tt7$hRrHBKvoaUIFPAzo7": {
                "x": 0.7068585311759479,
                "y": 0.3274479495572327
              },
              "2Tt7$hRrHBKvoaUIFPAzpC": {
                "x": 0.9944994427301065,
                "y": 0.30580750892053965
              },
              "2Tt7$hRrHBKvoaUIFPAzqz": {
                "x": 0.7254487006287667,
                "y": 0.9762736597153342
              },
              "2Tt7$hRrHBKvoaUIFPAzr4": {
                "x": 0.5009851806429176,
                "y": 0.8585095241290918
              },
              "2Tt7$hRrHBKvoaUIFPAzrf": {
                "x": 0.7933414242201697,
                "y": 0.44346557312816004
              },
              "2UMN_OQKrAshZl3dHPuZ$p": {
                "x": 0.7997823204023816,
                "y": 0.8799313993568023
              },
              "2UMN_OQKrAshZl3dHPuZW0": {
                "x": 0.11441710032776187,
                "y": 0.08949721058031344
              },
              "2UMN_OQKrAshZl3dHPuZYN": {
                "x": 0.04506949387340956,
                "y": 0.5208849037658949
              },
              "2UMN_OQKrAshZl3dHPuZZ9": {
                "x": 0.9129687006057384,
                "y": 0.8910240790847366
              },
              "2UMN_OQKrAshZl3dHPuZZ_": {
                "x": 0.753578174971845,
                "y": 0.05103503594643169
              },
              "2UMN_OQKrAshZl3dHPuZ_b": {
                "x": 0.7689499064952313,
                "y": 0.5198423906564835
              },
              "2UMN_OQKrAshZl3dHPuZah": {
                "x": 0.6071111126381915,
                "y": 0.40075362629073946
              },
              "2UMN_OQKrAshZl3dHPuZbj": {
                "x": 0.9244591896425628,
                "y": 0.009756566501447851
              },
              "2UMN_OQKrAshZl3dHPuZch": {
                "x": 0.8097576232075903,
                "y": 0.33914989615763586
              },
              "2UMN_OQKrAshZl3dHPuZeY": {
                "x": 0.522008370857757,
                "y": 0.035165330866176896
              },
              "2UMN_OQKrAshZl3dHPuZfo": {
                "x": 0.4639968501929498,
                "y": 0.8546346767397294
              },
              "2UMN_OQKrAshZl3dHPuZgG": {
                "x": 0.3352201358103396,
                "y": 0.6278127959883376
              },
              "2UMN_OQKrAshZl3dHPuZij": {
                "x": 0.49719648251238535,
                "y": 0.5993881632372977
              },
              "2UMN_OQKrAshZl3dHPuZjn": {
                "x": 0.2862510953726446,
                "y": 0.00582097934820592
              },
              "2UMN_OQKrAshZl3dHPuZjw": {
                "x": 0.006478084724225855,
                "y": 0.31746205061083754
              },
              "2UMN_OQKrAshZl3dHPuZlc": {
                "x": 0.7439529144133971,
                "y": 0.5599695416703336
              },
              "2UMN_OQKrAshZl3dHPuZn5": {
                "x": 0.2885016694393952,
                "y": 0.35272630036038055
              },
              "2UMN_OQKrAshZl3dHPuZn6": {
                "x": 0.38177182004320825,
                "y": 0.41042452658774425
              },
              "2UMN_OQKrAshZl3dHPuZn7": {
                "x": 0.11842479151825361,
                "y": 0.7980507909549381
              },
              "2UMN_OQKrAshZl3dHPuZny": {
                "x": 0.33673012946564596,
                "y": 0.5255383594591346
              },
              "2UMN_OQKrAshZl3dHPuZp8": {
                "x": 0.1938384372782798,
                "y": 0.476063720756784
              },
              "2UMN_OQKrAshZl3dHPuZpU": {
                "x": 0.9403569054315516,
                "y": 0.4058325205180842
              },
              "2UMN_OQKrAshZl3dHPuZq9": {
                "x": 0.24412683326286613,
                "y": 0.25477120810562814
              },
              "2UMN_OQKrAshZl3dHPuZqr": {
                "x": 0.5380590977170268,
                "y": 0.8976769468751326
              },
              "2UMN_OQKrAshZl3dHPuZrI": {
                "x": 0.4537165212273848,
                "y": 0.23406462682439202
              },
              "2UMN_OQKrAshZl3dHPuZsd": {
                "x": 0.7201761487186188,
                "y": 0.060576550681952224
              },
              "2UMN_OQKrAshZl3dHPuZtI": {
                "x": 0.9809673283055224,
                "y": 0.5922426957994228
              },
              "2UMN_OQKrAshZl3dHPuZuz": {
                "x": 0.39438545612575715,
                "y": 0.745475913989661
              },
              "2UMN_OQKrAshZl3dHPuZzc": {
                "x": 0.16371892463076373,
                "y": 0.8797825209146224
              },
              "2UMN_OQKrAshZl3dHPui5B": {
                "x": 0.3043316596603089,
                "y": 0.01973667646227974
              },
              "2UMN_OQKrAshZl3dHPui5h": {
                "x": 0.6204030890820423,
                "y": 0.7384271259826234
              },
              "2UMN_OQKrAshZl3dHPui7N": {
                "x": 0.11657663365558994,
                "y": 0.6150134918508784
              },
              "2UMN_OQKrAshZl3dHPuiDz": {
                "x": 0.6584241468125627,
                "y": 0.6170823669025413
              },
              "2UMN_OQKrAshZl3dHPuiO5": {
                "x": 0.4965798663702795,
                "y": 0.35799343312508974
              },
              "2UMN_OQKrAshZl3dHPuiOp": {
                "x": 0.2737088882220508,
                "y": 0.45414914613787966
              },
              "2UMN_OQKrAshZl3dHPuiP9": {
                "x": 0.7187234524100992,
                "y": 0.8456846644599453
              },
              "2UMN_OQKrAshZl3dHPuiQN": {
                "x": 0.501305754204159,
                "y": 0.4195183967164324
              },
              "2UMN_OQKrAshZl3dHPuiR$": {
                "x": 0.7866737804775386,
                "y": 0.28061002043828487
              },
              "2UMN_OQKrAshZl3dHPuiR1": {
                "x": 0.5715915542781889,
                "y": 0.33130918159059136
              },
              "2UMN_OQKrAshZl3dHPuiUL": {
                "x": 0.14780869528535412,
                "y": 0.06482557558671723
              },
              "2UMN_OQKrAshZl3dHPuiUy": {
                "x": 0.9570247284788511,
                "y": 0.551063773321187
              },
              "2UMN_OQKrAshZl3dHPuiVr": {
                "x": 0.608116710407769,
                "y": 0.6600799835557991
              },
              "2UMN_OQKrAshZl3dHPuiW_": {
                "x": 0.6458479372570314,
                "y": 0.5353734129401488
              },
              "2UMN_OQKrAshZl3dHPuiYc": {
                "x": 0.3445392600661318,
                "y": 0.7773201958516968
              },
              "2UMN_OQKrAshZl3dHPuiZQ": {
                "x": 0.891029805806515,
                "y": 0.9981882909792936
              },
              "2UMN_OQKrAshZl3dHPui_G": {
                "x": 0.4208253483218622,
                "y": 0.45304634993554443
              },
              "2UMN_OQKrAshZl3dHPuiaC": {
                "x": 0.7662894331559186,
                "y": 0.6093872674482489
              },
              "2UMN_OQKrAshZl3dHPuic8": {
                "x": 0.6421465911493921,
                "y": 0.9934479817395069
              },
              "2UMN_OQKrAshZl3dHPuigF": {
                "x": 0.48032518063696344,
                "y": 0.2694907059443936
              },
              "2UMN_OQKrAshZl3dHPuigb": {
                "x": 0.023536373138080123,
                "y": 0.8439760839896246
              },
              "2UMN_OQKrAshZl3dHPuihB": {
                "x": 0.3946273020466436,
                "y": 0.7055392443884927
              },
              "2UMN_OQKrAshZl3dHPuiiF": {
                "x": 0.3249374714284652,
                "y": 0.4186497840800896
              },
              "2UMN_OQKrAshZl3dHPuiii": {
                "x": 0.10138564298968884,
                "y": 0.8046386225465244
              },
              "2UMN_OQKrAshZl3dHPuikh": {
                "x": 0.26652333273906226,
                "y": 0.9818807788447265
              },
              "2UMN_OQKrAshZl3dHPuim7": {
                "x": 0.11788694223502308,
                "y": 0.9267955673143083
              },
              "2UMN_OQKrAshZl3dHPuimM": {
                "x": 0.956676607148909,
                "y": 0.3158803000153325
              },
              "2UMN_OQKrAshZl3dHPuip0": {
                "x": 0.502839933074743,
                "y": 0.8006762168344994
              },
              "2UMN_OQKrAshZl3dHPuirV": {
                "x": 0.47667278820609077,
                "y": 0.8670589221982931
              },
              "2UMN_OQKrAshZl3dHPuisf": {
                "x": 0.9735703360731158,
                "y": 0.4464422547746454
              },
              "2UMN_OQKrAshZl3dHPuiuq": {
                "x": 0.8260588215634795,
                "y": 0.27624582256306723
              },
              "2UMN_OQKrAshZl3dHPuivY": {
                "x": 0.12446424248858302,
                "y": 0.2942449232180778
              },
              "2UMN_OQKrAshZl3dHPuiwF": {
                "x": 0.017951713611385527,
                "y": 0.13580456318051673
              },
              "2UMN_OQKrAshZl3dHPuiy6": {
                "x": 0.26725100757012143,
                "y": 0.28928049492437624
              },
              "2UMN_OQKrAshZl3dHPuj1O": {
                "x": 0.2783585731001899,
                "y": 0.1877802825671327
              },
              "2UMN_OQKrAshZl3dHPuj2u": {
                "x": 0.5568401951893508,
                "y": 0.13750153535423368
              },
              "2UMN_OQKrAshZl3dHPuj4m": {
                "x": 0.3766023534364776,
                "y": 0.9608719454998843
              },
              "2UMN_OQKrAshZl3dHPuj4n": {
                "x": 0.34607396945212254,
                "y": 0.40611311793670823
              },
              "2UMN_OQKrAshZl3dHPuj4p": {
                "x": 0.10445672200321338,
                "y": 0.6987076638186362
              },
              "2UMN_OQKrAshZl3dHPuj4q": {
                "x": 0.5895919526526902,
                "y": 0.182366372425864
              },
              "2UMN_OQKrAshZl3dHPuj4r": {
                "x": 0.3012258499432598,
                "y": 0.2957295742954144
              },
              "2UMN_OQKrAshZl3dHPuj4s": {
                "x": 0.06865465228140445,
                "y": 0.485832237097177
              },
              "2UMN_OQKrAshZl3dHPuj4t": {
                "x": 0.5844661122484873,
                "y": 0.651737074841424
              },
              "2UMN_OQKrAshZl3dHPuj4u": {
                "x": 0.9793765377461262,
                "y": 0.13213833148791007
              },
              "2UMN_OQKrAshZl3dHPuj4v": {
                "x": 0.8860134512690901,
                "y": 0.32610402687470896
              },
              "2UMN_OQKrAshZl3dHPuj4w": {
                "x": 0.7443937351274232,
                "y": 0.031946307307206254
              },
              "2UMN_OQKrAshZl3dHPuj5V": {
                "x": 0.24082242180602198,
                "y": 0.330026135862394
              },
              "2UMN_OQKrAshZl3dHPuj5Y": {
                "x": 0.37001706502421505,
                "y": 0.8899017634952993
              },
              "2UMN_OQKrAshZl3dHPuj5Z": {
                "x": 0.4544352690843805,
                "y": 0.7885487384618627
              },
              "2UMN_OQKrAshZl3dHPuj5a": {
                "x": 0.5475504548511895,
                "y": 0.20342173378125925
              },
              "2UMN_OQKrAshZl3dHPuj5b": {
                "x": 0.5423425014633811,
                "y": 0.9992238058875461
              },
              "2UMN_OQKrAshZl3dHPuj5c": {
                "x": 0.9803156982041771,
                "y": 0.6058493151453122
              },
              "2UMN_OQKrAshZl3dHPuj5g": {
                "x": 0.0631301367455786,
                "y": 0.6415841883411506
              },
              "2UMN_OQKrAshZl3dHPuj6X": {
                "x": 0.8932756220100022,
                "y": 0.8025171904620358
              },
              "2UMN_OQKrAshZl3dHPuj6Y": {
                "x": 0.9005119849914154,
                "y": 0.8973645469107346
              },
              "2UMN_OQKrAshZl3dHPuj6_": {
                "x": 0.7678017058231795,
                "y": 0.5762668027909061
              },
              "2UMN_OQKrAshZl3dHPuj6a": {
                "x": 0.8034097376960667,
                "y": 0.17034015313456474
              },
              "2UMN_OQKrAshZl3dHPuj6s": {
                "x": 0.603959577964628,
                "y": 0.9552069170079986
              },
              "2UMN_OQKrAshZl3dHPuj6t": {
                "x": 0.4908344665288421,
                "y": 0.031291538936438844
              },
              "2UMN_OQKrAshZl3dHPuj6u": {
                "x": 0.25748378279166956,
                "y": 0.34818743444470973
              },
              "2UMN_OQKrAshZl3dHPuj6v": {
                "x": 0.006460719270994094,
                "y": 0.4787198286022358
              },
              "2UMN_OQKrAshZl3dHPuj6w": {
                "x": 0.4286708430171359,
                "y": 0.8409664993245279
              },
              "2UMN_OQKrAshZl3dHPuj6x": {
                "x": 0.1735909024986863,
                "y": 0.13443335021498218
              },
              "2UMN_OQKrAshZl3dHPuj6z": {
                "x": 0.6628976068262047,
                "y": 0.5738730414190125
              },
              "2UMN_OQKrAshZl3dHPuj8X": {
                "x": 0.6219355166551973,
                "y": 0.28232246032878666
              },
              "2UMN_OQKrAshZl3dHPuj9m": {
                "x": 0.4657219839151236,
                "y": 0.7950605842340093
              },
              "2UMN_OQKrAshZl3dHPuj9v": {
                "x": 0.2447752044531727,
                "y": 0.9459655424798371
              },
              "2UMN_OQKrAshZl3dHPujA7": {
                "x": 0.34230706498514735,
                "y": 0.9590830322317722
              },
              "2UMN_OQKrAshZl3dHPujAr": {
                "x": 0.8453369719036112,
                "y": 0.7901200430560398
              },
              "2UMN_OQKrAshZl3dHPujBN": {
                "x": 0.7023505871707253,
                "y": 0.8107077467290897
              },
              "2UMN_OQKrAshZl3dHPujDv": {
                "x": 0.33025096479282967,
                "y": 0.08672073881681479
              },
              "2UMN_OQKrAshZl3dHPujEs": {
                "x": 0.5353699505738163,
                "y": 0.6388297235163211
              },
              "2UMN_OQKrAshZl3dHPujFI": {
                "x": 0.9632075681115021,
                "y": 0.9877697459814493
              },
              "2UMN_OQKrAshZl3dHPujFq": {
                "x": 0.18847919035515664,
                "y": 0.9751484723858621
              },
              "2UMN_OQKrAshZl3dHPujGR": {
                "x": 0.2558572734313017,
                "y": 0.17720992238920016
              },
              "2UMN_OQKrAshZl3dHPujJL": {
                "x": 0.9160874172331567,
                "y": 0.26967071858067365
              },
              "2UMN_OQKrAshZl3dHPujJu": {
                "x": 0.5729925766163809,
                "y": 0.22241618949871544
              },
              "2UMN_OQKrAshZl3dHPujKb": {
                "x": 0.2990249488496263,
                "y": 0.961216331141517
              },
              "2UMN_OQKrAshZl3dHPujLJ": {
                "x": 0.8098469586159247,
                "y": 0.8072027380607373
              },
              "2UMN_OQKrAshZl3dHPujMb": {
                "x": 0.5354190288228017,
                "y": 0.5666485018644499
              },
              "2UMN_OQKrAshZl3dHPujNb": {
                "x": 0.10029179571236393,
                "y": 0.7648608829378661
              },
              "2UMN_OQKrAshZl3dHPujOW": {
                "x": 0.0865991144751445,
                "y": 0.5114111218326581
              },
              "2UMN_OQKrAshZl3dHPujP0": {
                "x": 0.5234799470283731,
                "y": 0.5886583944019683
              },
              "2UMN_OQKrAshZl3dHPujQC": {
                "x": 0.36013771065209976,
                "y": 0.8863545553910844
              },
              "2UMN_OQKrAshZl3dHPujR8": {
                "x": 0.1725921289717202,
                "y": 0.7725884784871455
              },
              "2UMN_OQKrAshZl3dHPujSp": {
                "x": 0.17634747204515233,
                "y": 0.7705963522867713
              },
              "2UMN_OQKrAshZl3dHPujTb": {
                "x": 0.4105628176511885,
                "y": 0.07363506372921166
              },
              "2UMN_OQKrAshZl3dHPujV_": {
                "x": 0.6964219615198503,
                "y": 0.04384279806058657
              },
              "2UMN_OQKrAshZl3dHPujVp": {
                "x": 0.0485107801051212,
                "y": 0.15277526424992957
              },
              "2UMN_OQKrAshZl3dHPujXf": {
                "x": 0.4121407367902992,
                "y": 0.626088909796962
              },
              "2UMN_OQKrAshZl3dHPujdx": {
                "x": 0.019805458187992977,
                "y": 0.18056208415013902
              },
              "2UMN_OQKrAshZl3dHPuji$": {
                "x": 0.2422148270447223,
                "y": 0.3448063207195445
              },
              "2UMN_OQKrAshZl3dHPujxC": {
                "x": 0.542181635554214,
                "y": 0.4928892964858458
              },
              "2UMN_OQKrAshZl3dHPujxD": {
                "x": 0.4970178494422572,
                "y": 0.495828466925925
              },
              "2UMN_OQKrAshZl3dHPujxE": {
                "x": 0.981148136354926,
                "y": 0.8565776853751432
              },
              "2UMN_OQKrAshZl3dHPujxF": {
                "x": 0.6449164335213645,
                "y": 0.7726834515432437
              },
              "2UMN_OQKrAshZl3dHPujxW": {
                "x": 0.39269964441565935,
                "y": 0.9087830681663943
              },
              "2UMN_OQKrAshZl3dHPujxu": {
                "x": 0.22507476229579151,
                "y": 0.11918727000194129
              },
              "2UMN_OQKrAshZl3dHPujxv": {
                "x": 0.49501496361898506,
                "y": 0.5083114116140437
              },
              "2UMN_OQKrAshZl3dHPujxw": {
                "x": 0.987081032612238,
                "y": 0.18933911124008476
              },
              "2UMN_OQKrAshZl3dHPujxx": {
                "x": 0.44940223103890226,
                "y": 0.6722582375887477
              },
              "2UMN_OQKrAshZl3dHPujxy": {
                "x": 0.7504109036019081,
                "y": 0.5635289160366419
              },
              "2UMN_OQKrAshZl3dHPuk00": {
                "x": 0.6071941396768561,
                "y": 0.4967555388206644
              },
              "2UMN_OQKrAshZl3dHPuk2N": {
                "x": 0.7023967767744554,
                "y": 0.2821784114346103
              },
              "2UMN_OQKrAshZl3dHPuk8B": {
                "x": 0.22379891961598466,
                "y": 0.7058567944891468
              },
              "2UMN_OQKrAshZl3dHPuk98": {
                "x": 0.2495581547676905,
                "y": 0.25232152384685436
              },
              "2UMN_OQKrAshZl3dHPukAQ": {
                "x": 0.9325978964964377,
                "y": 0.869634282498004
              },
              "2UMN_OQKrAshZl3dHPukBf": {
                "x": 0.819605024303111,
                "y": 0.22530736497249074
              },
              "2UMN_OQKrAshZl3dHPukCt": {
                "x": 0.17252753678379742,
                "y": 0.7668350670660687
              },
              "2UMN_OQKrAshZl3dHPukD5": {
                "x": 0.20749573313703237,
                "y": 0.6358137229206182
              },
              "2UMN_OQKrAshZl3dHPukEN": {
                "x": 0.4351144943987806,
                "y": 0.9155284057374695
              },
              "2UMN_OQKrAshZl3dHPukGI": {
                "x": 0.19131297753119456,
                "y": 0.9866479529849417
              },
              "2UMN_OQKrAshZl3dHPukHo": {
                "x": 0.6374370711105066,
                "y": 0.7857988671481507
              },
              "2UMN_OQKrAshZl3dHPukLR": {
                "x": 0.11453091118664206,
                "y": 0.5956884367587978
              },
              "2UMN_OQKrAshZl3dHPukMe": {
                "x": 0.5416611905066354,
                "y": 0.515056021560535
              },
              "2UMN_OQKrAshZl3dHPukNU": {
                "x": 0.3430508871659416,
                "y": 0.174196779750582
              },
              "2UMN_OQKrAshZl3dHPukNq": {
                "x": 0.32442552602240915,
                "y": 0.35705896447078206
              },
              "2UMN_OQKrAshZl3dHPukU_": {
                "x": 0.9188828224596001,
                "y": 0.9098912250166356
              },
              "2UMN_OQKrAshZl3dHPukZL": {
                "x": 0.5281146658292568,
                "y": 0.7622358512070465
              },
              "2UMN_OQKrAshZl3dHPuk_g": {
                "x": 0.4451126816408968,
                "y": 0.4543807998877711
              },
              "2UMN_OQKrAshZl3dHPukeA": {
                "x": 0.9533496230125323,
                "y": 0.199213340717245
              },
              "2UMN_OQKrAshZl3dHPukeh": {
                "x": 0.6294287229699511,
                "y": 0.05177602700178268
              },
              "2UMN_OQKrAshZl3dHPukgi": {
                "x": 0.19083170964051077,
                "y": 0.8026543600301865
              },
              "2UMN_OQKrAshZl3dHPukiV": {
                "x": 0.09812998480414216,
                "y": 0.377691975525156
              },
              "2UMN_OQKrAshZl3dHPukl$": {
                "x": 0.9086840950265436,
                "y": 0.8308527960396658
              },
              "2UMN_OQKrAshZl3dHPukm2": {
                "x": 0.09538982308203495,
                "y": 0.5313440992995593
              },
              "2UMN_OQKrAshZl3dHPukoO": {
                "x": 0.26573770511922123,
                "y": 0.26495410237952705
              },
              "2UMN_OQKrAshZl3dHPukqU": {
                "x": 0.23343750092403875,
                "y": 0.0793798892622691
              },
              "2UMN_OQKrAshZl3dHPukr0": {
                "x": 0.11385689758522984,
                "y": 0.8820538905301991
              },
              "2UMN_OQKrAshZl3dHPukvh": {
                "x": 0.20945559184587534,
                "y": 0.1314373141055415
              },
              "2UMN_OQKrAshZl3dHPukwI": {
                "x": 0.7292235531180811,
                "y": 0.5155065772133505
              },
              "2UMN_OQKrAshZl3dHPukzw": {
                "x": 0.879558035304764,
                "y": 0.18108194056846033
              },
              "2UMN_OQKrAshZl3dHPul$r": {
                "x": 0.712876237472109,
                "y": 0.541142065284711
              },
              "2UMN_OQKrAshZl3dHPul2H": {
                "x": 0.5336550016626458,
                "y": 0.21493327628421424
              },
              "2UMN_OQKrAshZl3dHPul4V": {
                "x": 0.061481996019859354,
                "y": 0.14160521962428996
              },
              "2UMN_OQKrAshZl3dHPul4n": {
                "x": 0.38905841103319105,
                "y": 0.19111024330904366
              },
              "2UMN_OQKrAshZl3dHPul5b": {
                "x": 0.3366089801892906,
                "y": 0.5479522552199462
              },
              "2UMN_OQKrAshZl3dHPul9s": {
                "x": 0.47259072517227635,
                "y": 0.3202476464642994
              },
              "2UMN_OQKrAshZl3dHPulAD": {
                "x": 0.3967809161596783,
                "y": 0.4759617508508051
              },
              "2UMN_OQKrAshZl3dHPulAp": {
                "x": 0.32634280265935833,
                "y": 0.8282355451299722
              },
              "2UMN_OQKrAshZl3dHPulCY": {
                "x": 0.8092385325174376,
                "y": 0.5939009270601753
              },
              "2UMN_OQKrAshZl3dHPulEv": {
                "x": 0.6524156926159063,
                "y": 0.017940354780440752
              },
              "2UMN_OQKrAshZl3dHPulHz": {
                "x": 0.10310744558847995,
                "y": 0.6240892465544007
              },
              "2UMN_OQKrAshZl3dHPulJq": {
                "x": 0.0657166821852163,
                "y": 0.10559098875481081
              },
              "2UMN_OQKrAshZl3dHPulK8": {
                "x": 0.5354535435484442,
                "y": 0.9080594460793776
              },
              "2UMN_OQKrAshZl3dHPulOJ": {
                "x": 0.5700675757161157,
                "y": 0.167331121021948
              },
              "2UMN_OQKrAshZl3dHPulmH": {
                "x": 0.30441073957312076,
                "y": 0.2869445917913932
              },
              "2UMN_OQKrAshZl3dHPulpG": {
                "x": 0.7410964465528985,
                "y": 0.45122856636353814
              },
              "2UMN_OQKrAshZl3dHPuluT": {
                "x": 0.06642860065790156,
                "y": 0.24844261542711327
              },
              "2UMN_OQKrAshZl3dHPulwZ": {
                "x": 0.7966384670829816,
                "y": 0.030989978514580165
              },
              "2UbFLyEvP7xerhn6sJH67p": {
                "x": 0.331092837677684,
                "y": 0.6639060370360974
              },
              "2dcjqNU0z9dgXZ44gQge4X": {
                "x": 0.4261402739571129,
                "y": 0.5660478502537173
              },
              "2dcjqNU0z9dgXZ44gQge4Z": {
                "x": 0.20171206606954153,
                "y": 0.8150722807688516
              },
              "2dcjqNU0z9dgXZ44gQge4b": {
                "x": 0.11947044191900856,
                "y": 0.8150828388091269
              },
              "2dcjqNU0z9dgXZ44gQge4d": {
                "x": 0.47590275347985256,
                "y": 0.29950511065293983
              },
              "2dcjqNU0z9dgXZ44gQge5A": {
                "x": 0.0940819123238585,
                "y": 0.9798003234134626
              },
              "2dcjqNU0z9dgXZ44gQge5C": {
                "x": 0.13303922571723575,
                "y": 0.10672651908263761
              },
              "2dcjqNU0z9dgXZ44gQge5E": {
                "x": 0.5109301427074232,
                "y": 0.13142735228135569
              },
              "2dcjqNU0z9dgXZ44gQge5G": {
                "x": 0.0801704442776575,
                "y": 0.8889623985522224
              },
              "2dcjqNU0z9dgXZ44gQge5V": {
                "x": 0.48101948371231,
                "y": 0.5822336811257578
              },
              "2dcjqNU0z9dgXZ44gQge5X": {
                "x": 0.638069963909722,
                "y": 0.02954554361096929
              },
              "2dcjqNU0z9dgXZ44gQge5w": {
                "x": 0.8722176041398828,
                "y": 0.9137425090568857
              },
              "2dcjqNU0z9dgXZ44gQge5y": {
                "x": 0.7457129553372983,
                "y": 0.9227777212739288
              },
              "2dcjqNU0z9dgXZ44gQge60": {
                "x": 0.3410585072683317,
                "y": 0.6542493876747228
              },
              "2dcjqNU0z9dgXZ44gQge62": {
                "x": 0.08666782805599128,
                "y": 0.2989886219440247
              },
              "2dcjqNU0z9dgXZ44gQge64": {
                "x": 0.8779764663382369,
                "y": 0.28667695377511426
              },
              "2dcjqNU0z9dgXZ44gQge66": {
                "x": 0.9526145944822194,
                "y": 0.8502799941548226
              },
              "2dcjqNU0z9dgXZ44gQge6L": {
                "x": 0.4370240828837012,
                "y": 0.931766257114432
              },
              "2dcjqNU0z9dgXZ44gQge6N": {
                "x": 0.7703454231733452,
                "y": 0.9686263961710759
              },
              "2dcjqNU0z9dgXZ44gQge6P": {
                "x": 0.8909586562636646,
                "y": 0.7804761440902693
              },
              "2dcjqNU0z9dgXZ44gQge6R": {
                "x": 0.13350797889140248,
                "y": 0.3716160093544817
              },
              "2dcjqNU0z9dgXZ44gQge6T": {
                "x": 0.4313501350157177,
                "y": 0.3373279624240453
              },
              "2dcjqNU0z9dgXZ44gQge6V": {
                "x": 0.4053518597597751,
                "y": 0.9196346204263028
              },
              "2dcjqNU0z9dgXZ44gQgewa": {
                "x": 0.5115069821068448,
                "y": 0.5906848204878906
              },
              "2dcjqNU0z9dgXZ44gQgewc": {
                "x": 0.6212257515279458,
                "y": 0.5517787240613129
              },
              "2dcjqNU0z9dgXZ44gQgewe": {
                "x": 0.4216060655202712,
                "y": 0.21237739429193359
              },
              "2dcjqNU0z9dgXZ44gQgewm": {
                "x": 0.1641172083842761,
                "y": 0.4269046433584336
              },
              "2dcjqNU0z9dgXZ44gQgexJ": {
                "x": 0.7038043402655391,
                "y": 0.09967838113330135
              },
              "2dcjqNU0z9dgXZ44gQgexL": {
                "x": 0.1955905195104549,
                "y": 0.08803014045009362
              },
              "2dcjqNU0z9dgXZ44gQgexV": {
                "x": 0.0006169357586468933,
                "y": 0.6493680609846784
              },
              "3FZFp0nq9AAhRAecLpGfvv": {
                "x": 0.24933654204787642,
                "y": 0.7908953106874579
              },
              "3O2nkpovb3Z9uJgH09FwmW": {
                "x": 0.46224530640672784,
                "y": 0.8837484797393445
              },
              "3Yc17Oys91HBxqG5CiJ1_h": {
                "x": 0.4092041733941663,
                "y": 0.8906094477327494
              },
              "3Yc17Oys91HBxqG5CiJ1_p": {
                "x": 0.5369673799630067,
                "y": 0.05200697601704009
              },
              "3Yc17Oys91HBxqG5CiJ1_r": {
                "x": 0.33234561936138485,
                "y": 0.21798961047452903
              },
              "3a58fQxqD2numVo$eTOgS$": {
                "x": 0.2757712815880313,
                "y": 0.5792012349570547
              },
              "3n9ek_acHEfRCBQHch6_Wb": {
                "x": 0.9712623327059497,
                "y": 0.46588535924316044
              },
              "3n9ek_acHEfRCBQHch6_cD": {
                "x": 0.9041081809031541,
                "y": 0.042098036065156226
              },
              "3n9ek_acHEfRCBQHch6_iT": {
                "x": 0.48018306793004367,
                "y": 0.9331817004192551
              },
              "3wh27gpDH7bg434tPIc78y": {
                "x": 0.5089188062773448,
                "y": 0.94523867249058
              },
              "3wh27gpDH7bg434tPIc78z": {
                "x": 0.8497344804907803,
                "y": 0.33402087956591686
              },
              "3wh27gpDH7bg434tPIc79Q": {
                "x": 0.4211154291930416,
                "y": 0.9561337528641951
              },
              "3wh27gpDH7bg434tPIc79Y": {
                "x": 0.2262015293713829,
                "y": 0.8258975761681888
              },
              "3wh27gpDH7bg434tPIc79b": {
                "x": 0.3443818844542234,
                "y": 0.5149147313472698
              },
              "3wh27gpDH7bg434tPIc79l": {
                "x": 0.7728459065368481,
                "y": 0.7574870931342434
              },
              "3wh27gpDH7bg434tPIc79o": {
                "x": 0.5286211368213362,
                "y": 0.8254210130720292
              },
              "3wh27gpDH7bg434tPIc79p": {
                "x": 0.44074876088473,
                "y": 0.5116366154816928
              },
              "3wh27gpDH7bg434tPIc79q": {
                "x": 0.11344609614296342,
                "y": 0.09639516200538346
              },
              "3wh27gpDH7bg434tPIc7De": {
                "x": 0.8967515935578373,
                "y": 0.06486770863797377
              },
              "3wh27gpDH7bg434tPIc7Df": {
                "x": 0.5511828951054211,
                "y": 0.8901352834920004
              }
            },
            "layout_settings": null,
            "max_categorical_colors": 10,
            "name": null,
            "node_metrics": {},
            "program_settings": {},
            "renderer_settings": {
              "defaultEdgeType": "rectangle",
              "defaultNodeType": "point",
              "enableEdgeClickEvents": false,
              "enableEdgeHoverEvents": false,
              "hideEdgesOnMove": false,
              "labelDensity": 1,
              "labelFont": "sans-serif",
              "labelGridCellSize": 250,
              "renderEdgeLabels": true,
              "zIndex": true
            },
            "selected_edge": null,
            "selected_edge_category_values": null,
            "selected_node": null,
            "selected_node_category_values": null,
            "snapshot": null,
            "start_layout": false,
            "start_layout_for_seconds": null,
            "sync_key": null,
            "sync_targets": [
              "hover",
              "camera",
              "layout",
              "selection"
            ],
            "ui_settings": {
              "hideInfoPanel": false,
              "hideSearch": false
            },
            "visual_variables": {
              "edgeColor": {
                "attribute": "color",
                "default": "#ccc",
                "type": "raw"
              },
              "edgeCurveness": {
                "default": 0.25,
                "type": "constant"
              },
              "edgeLabel": {
                "attribute": "label",
                "default": null,
                "type": "raw"
              },
              "edgeSize": {
                "attribute": "size",
                "default": 0.5,
                "range": [
                  0.5,
                  10
                ],
                "type": "continuous"
              },
              "nodeBorderColor": {
                "default": null,
                "type": "disabled"
              },
              "nodeBorderRatio": {
                "default": null,
                "type": "disabled"
              },
              "nodeBorderSize": {
                "default": 1,
                "type": "constant"
              },
              "nodeColor": {
                "attribute": "color",
                "default": "#999",
                "type": "raw"
              },
              "nodeColorSaturation": {
                "default": null,
                "type": "disabled"
              },
              "nodeHaloColor": {
                "default": "red",
                "type": "constant"
              },
              "nodeHaloSize": {
                "default": null,
                "type": "disabled"
              },
              "nodeLabel": {
                "attribute": "label",
                "default": null,
                "type": "raw"
              },
              "nodeLabelColor": {
                "default": "#000",
                "type": "constant"
              },
              "nodeLabelSize": {
                "default": 12,
                "type": "constant"
              },
              "nodePictogram": {
                "default": null,
                "type": "disabled"
              },
              "nodePictogramColor": {
                "default": "#000",
                "type": "constant"
              },
              "nodeShape": {
                "default": null,
                "type": "disabled"
              },
              "nodeSize": {
                "attribute": "size",
                "default": 3,
                "range": [
                  3,
                  15
                ],
                "type": "continuous"
              }
            }
          }
        }
      }
    }
  },
  "nbformat": 4,
  "nbformat_minor": 0
}
